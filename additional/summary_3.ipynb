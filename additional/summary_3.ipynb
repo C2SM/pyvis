{
 "cells": [
  {
   "cell_type": "markdown",
   "metadata": {},
   "source": [
    "<font size=\"6\"><b>Scientific Visualization using Python 2024</b></font>\n",
    "\n",
    "<font size=\"3\"> April 25-26: 09:00 - 17:00 </b></font>\n",
    "\n",
    "<img src=\"../figures/summary/title.png\"   width=\"600\">"
   ]
  },
  {
   "cell_type": "markdown",
   "metadata": {},
   "source": [
    "- Continue working with advanced plotting and seaborn\n",
    "- Getting started with georeferenced plots"
   ]
  },
  {
   "cell_type": "markdown",
   "metadata": {},
   "source": [
    "<font size=\"5\"><b>Georeferenced data with Cartopy</b></font>\n",
    "\n",
    "<img src=\"../figures/summary/day_3/map_subplots.jpg\"   width=\"600\">"
   ]
  },
  {
   "cell_type": "markdown",
   "metadata": {},
   "source": [
    "<font size=\"4\"><b>Cartopy</b></font>\n",
    "\n",
    "<font size=\"4\"><b>~~Basemap~~</b></font>\n",
    "\n",
    "https://github.com/matplotlib/basemap/issues/568"
   ]
  },
  {
   "cell_type": "code",
   "execution_count": null,
   "metadata": {},
   "outputs": [],
   "source": [
    "import cartopy.crs as ccrs\n",
    "import matplotlib.pyplot as plt\n",
    "import numpy as np\n",
    "import xarray as xr\n",
    "\n",
    "%matplotlib inline"
   ]
  },
  {
   "cell_type": "code",
   "execution_count": null,
   "metadata": {},
   "outputs": [],
   "source": [
    "# get data\n",
    "fN = \"../data/cmip5_delta_pr_rcp85_map.nc\"\n",
    "\n",
    "# load data, omitting some unnecessary variables\n",
    "pr = xr.open_dataset(fN, drop_variables=[\"pr_rel\", \"proj\", \"agree_sign\", \"pval\"])\n",
    "\n",
    "lon, lat, hist = pr.lon, pr.lat, pr.hist\n",
    "\n",
    "# plot\n",
    "\n",
    "ax = plt.axes(projection=ccrs.Robinson())\n",
    "\n",
    "ax.coastlines()\n",
    "\n",
    "# replace here\n",
    "LON = np.arange(0, 361, 2.5)\n",
    "LAT = np.arange(-90, 91, 2.5)\n",
    "\n",
    "ax.pcolormesh(LON, LAT, hist, transform=ccrs.PlateCarree())\n",
    "\n",
    "ax.set_global()"
   ]
  },
  {
   "cell_type": "markdown",
   "metadata": {},
   "source": [
    "<font size=\"3\"><b>projection: type of map</b></font>\n",
    "\n",
    "    - can change\n",
    "    \n",
    "<font size=\"3\"><b>Transform: coordinate system of data</b></font>\n",
    "\n",
    "    - Hardly ever changes\n",
    "    \n",
    "PlateCarree -> coordinates in lon/ lat"
   ]
  },
  {
   "cell_type": "markdown",
   "metadata": {},
   "source": [
    "<font size=\"5\"><b>Colorbars</b></font>\n",
    "\n",
    "<img src=\"../figures/summary/day_3/colorbar_1.png\"   width=\"500\">\n",
    "<br></br>\n",
    "<br></br>\n",
    "<img src=\"../figures/summary/day_3/colorbar_2.png\"   width=\"500\">\n",
    "<br></br>\n",
    "<br></br>\n",
    "\n",
    "[<font size=\"3\"><b>Python Data Science Handbook</b></font>](https://jakevdp.github.io/PythonDataScienceHandbook/04.07-customizing-colorbars.html)\n",
    "\n",
    "<img src=\"../figures/summary/day_3/colorbar_3.png\"   width=\"400\">\n",
    "<br></br>\n",
    "<br></br>\n",
    "<img src=\"../figures/summary/day_3/colorbar_4.png\"   width=\"400\">\n",
    "<br></br>\n",
    "<br></br>\n",
    "<img src=\"../figures/summary/day_3/colorbar_5.png\"   width=\"500\">\n",
    "<br></br>\n",
    "<br></br>\n",
    "\n",
    "\n",
    "[<font size=\"3\"><b>colorbrewer</b></font>](https://colorbrewer2.org/#type=sequential&scheme=BuGn&n=3) \n",
    "\n",
    "[<font size=\"3\"><b>cmocean</b></font>](https://matplotlib.org/cmocean/)\n",
    "\n",
    "\n",
    "<img src=\"../figures/summary/day_3/colorbar_6.png\"   width=\"500\">\n",
    "\n",
    "<font size=\"4\"><b>Color blindness</b></font>\n",
    "\n",
    "<img src=\"../figures/summary/day_3/colorbar_7.png\"   width=\"500\">\n",
    "\n",
    "\n",
    "http://www.vischeck.com/vischeck/vischeckImage.php\n",
    "\n",
    "https://www.colororacle.org/\n"
   ]
  },
  {
   "cell_type": "code",
   "execution_count": null,
   "metadata": {},
   "outputs": [],
   "source": []
  }
 ],
 "metadata": {
  "kernelspec": {
   "display_name": "Python 3 (ipykernel)",
   "language": "python",
   "name": "python3"
  },
  "language_info": {
   "codemirror_mode": {
    "name": "ipython",
    "version": 3
   },
   "file_extension": ".py",
   "mimetype": "text/x-python",
   "name": "python",
   "nbconvert_exporter": "python",
   "pygments_lexer": "ipython3",
   "version": "3.11.8"
  },
  "toc": {
   "base_numbering": 1,
   "nav_menu": {},
   "number_sections": true,
   "sideBar": true,
   "skip_h1_title": false,
   "title_cell": "Table of Contents",
   "title_sidebar": "Contents",
   "toc_cell": false,
   "toc_position": {},
   "toc_section_display": true,
   "toc_window_display": false
  }
 },
 "nbformat": 4,
 "nbformat_minor": 4
}
