{
 "cells": [
  {
   "cell_type": "markdown",
   "metadata": {},
   "source": [
    "<img src=\"../figures/ParaView_demo/ParaView_Logo.svg\"   width=\"400\">\n",
    "\n",
    "\n",
    "<font size=\"6\"><b>ParaView Demo</b></font>"
   ]
  },
  {
   "cell_type": "markdown",
   "metadata": {},
   "source": [
    "Download: https://www.paraview.org/download/"
   ]
  },
  {
   "cell_type": "markdown",
   "metadata": {},
   "source": [
    "source: https://www.paraview.org/, https://www.paraview.org/overview/\n",
    "\n",
    "- ParaView is open-source, \n",
    "- Available on multiple platforms (Linux, macOS, Windows)\n",
    "- Has both interactive and batch processing capabilities.\n",
    "- It was developed to analyze extremely large datasets using distributed memory computing resources.\n",
    "- It can be run on supercomputers to analyze datasets of petascale size as well as on laptops for smaller data.\n",
    "- Has become an integral tool in many national laboratories, universities and industry, and has won several awards related to high performance computation.\n",
    "- The ParaView project started in 2000 as a collaborative effort between Kitware Inc. and Los Alamos National Laboratory. "
   ]
  },
  {
   "cell_type": "markdown",
   "metadata": {},
   "source": [
    "[Official Tutorial](https://www.paraview.org/Wiki/The_ParaView_Tutorial)"
   ]
  },
  {
   "cell_type": "markdown",
   "metadata": {},
   "source": [
    "Further Comments:\n",
    "\n",
    "- It is available and well supported on Piz Daint (CSCS, Swiss National Supercomputing Centre)\n",
    "- Uses VTK (visualization tool kit) in the backend\n",
    "- Provides Python wrappers!\n",
    "- Supports GPUs"
   ]
  },
  {
   "cell_type": "markdown",
   "metadata": {},
   "source": [
    "<font size=\"4\"><b>Filters</b></font>\n",
    "- Calculator: For creating new variables and transforming coordinates (Coordinate results)\n",
    "- Slice\n",
    "- Contour\n",
    "- Clip\n",
    "....."
   ]
  },
  {
   "cell_type": "markdown",
   "metadata": {},
   "source": [
    "**NOTE:** Between exercises you can reset the ParaView session by doing `Edit -> Reset Session` "
   ]
  },
  {
   "cell_type": "markdown",
   "metadata": {},
   "source": [
    "**Material for exercises: https://docs.dkrz.de/doc/visualization/sw/paraview/dkrz-pdf-tutorial.html**"
   ]
  },
  {
   "cell_type": "markdown",
   "metadata": {},
   "source": [
    "## Exercise 1: First steps into ParaView with Slice and Clip"
   ]
  },
  {
   "cell_type": "markdown",
   "metadata": {},
   "source": [
    "Steps:\n",
    "- Click `file -> open`, and open the file `ECHAMH_OM_A1B.nc`\n",
    "- Choose the `NetCDF Reader` when prompted to select a file reader\n",
    "- Under the `Properties` tab in the bottom left:\n",
    "  - Leave the `Dimensions` to be `(lev,lat,lon)`\n",
    "  - **Uncheck** the option `Replace Fill Value With Nan`\n",
    "  - Choose the `Output Type` to be `Structured Grid`\n",
    " - Click on `Apply`\n",
    " - You will notice that one of the dimensions is much longer than the others. Vertical levels are probably in Pascal units\n",
    " - Let's use our first filter: `Calculator`\n",
    " - Click on the loaded data in the `Pipeline Browser` (top left) and click on `Filters -> Alphabetical -> Calculator`\n",
    " - In the `Properties` section of the calculator:\n",
    "   - **Check** `Coordinate Output`\n",
    "   - Type the formula: coordsX\\*iHat+coordsY\\*jHat+coordsZ\\*0.001\\*kHat\n",
    " - Click on `Apply`\n",
    " - Think about what we have just done and look at other options in the `Calculator` properties\n",
    " - (extra:) can you rescale the coordinates using the `Transform` filter\n",
    " - Center the data in UI\n",
    " - Change the representation from `Outline` to `Surface` representation in the toolbar\n",
    " - Change `Solid Color` to a data field\n",
    " - Try to interact with the data\n",
    " - Get familiar with the interface: e.g. play animations\n",
    " - Change the color bar which can be accessed by scrolling down in the Calculator `properties` and clicking on `Edit` under  `Coloring`\n",
    " - Select the `Calculator` in the `Pipeline Browser` and apply the `Slice` filter to it (`Filters -> Alphabetical -> Slice`)\n",
    " - Change the orientation of the `Slice` plane by changing the `Normal` to `(0,0,1)` under `Plane Parameters` and click on `Apply`\n",
    " - Play around with the Slice parameters and try to create multiple slices\n",
    " - Delete the `Slice` filter (right click on `Slice` in the `Pipeline Browser` and delete)\n",
    " - Apply the `Clip` filter and clip part of the domain\n",
    " - Apply the `Clip` filter again, change the plane orientation and clip the domain along another dimension"
   ]
  },
  {
   "cell_type": "markdown",
   "metadata": {},
   "source": [
    "## Exercise 2: Blue Marble"
   ]
  },
  {
   "cell_type": "markdown",
   "metadata": {},
   "source": [
    "Steps:\n",
    "\n",
    "- Click `Sources -> Geometric Shapes -> Sphere`\n",
    "- Change the `Sphere` properties:\n",
    "  - `Radius` -> 1\n",
    "  - `Theta Resolution` -> 100\n",
    "  - `Phi Resolution` -> 100\n",
    "- Click on `Apply`\n",
    "- Click `Filters -> Alphabetical -> Texture Map to Sphere`\n",
    "- Change the properties of `Texture Map to Sphere`:\n",
    "  - **Uncheck** `Prevent Seam`\n",
    "- Click on `Apply`\n",
    "- Scroll down in the properties of `Texture Map to Sphere` and find the option `Texture`:\n",
    "  - **Uncheck** `Repeat Textures`\n",
    "  - Click on the drop down -> load and choose the file `erde.png`\n",
    "- Notice that the texture is mapped incorrectly\n",
    "- Click `File -> open`, and open the file `coastlines.vtk`\n",
    "- To fix the mapped texture do the following:\n",
    "  - Click again on the `Texture` drop down and choose the file `erde_flipped.png`\n",
    "  - The mapping is better but is still off.\n",
    "  - Click on `Texture Map To Sphere` filter in the `Pipeline Browser`\n",
    "  - Scroll down in the `Properties` section\n",
    "  - Under `Transforming` change the scale to `(-1, -1, 1)`\n",
    "  - Now the coastlines from the image and lines should match\n",
    "  - If you rotate the sphere you will see that there is an artifact at the seam\n",
    "  - Click on the `Sphere` filter in the `Pipeline Browser` and change the `End Theta` to 359.99\n",
    "  - The artifact should disappear"
   ]
  },
  {
   "cell_type": "markdown",
   "metadata": {},
   "source": [
    "## Exercise 3: Mapping lat-lon data to a Sphere"
   ]
  },
  {
   "cell_type": "markdown",
   "metadata": {},
   "source": [
    "Steps:\n",
    "- Click `file -> open`, and open the file `Aeropt_2010.nc`\n",
    "- Choose the `NetCDF Reader` when prompted to select a file reader\n",
    "- Under the `Properties` tab in the bottom left:\n",
    "  - **Uncheck** the option `Replace Fill Value With Nan`\n",
    "  - Choose the `Output Type` to be `Structured Grid`\n",
    "- Click on `Apply`\n",
    "- Click on the loaded data in the `Pipeline Browser` (top left) and click on `Filters -> Alphabetical -> Calculator`\n",
    "- In the `Properties` section of the calculator:\n",
    "  - **Check** `Coordinate Output`\n",
    "  - Type the formula: coordsX\\*iHat+coordsY\\*jHat+kHat\n",
    "- Click on `Apply` \n",
    "- Click on the `Calculator` in the `Pipeline Browser` (top left) and add another `Calculator`, click on `Filters -> Alphabetical -> Calculator`\n",
    "- In the `Properties` section of the calculator:\n",
    "  - **Check** `Coordinate Output`\n",
    "  - Type the formula: iHat\\*(coordsZ)\\*cos(coordsY\\*3.14/180)\\*cos(coordsX\\*3.14/180)+jHat\\*(coordsZ)\\*cos(coordsY\\*3.14/180)\\*sin(coordsX\\*3.14/180)+kHat\\*(coordsZ)\\*sin(coordsY\\*3.14/180)\n",
    "- Click on `Apply`\n",
    "- Center the data in UI\n"
   ]
  },
  {
   "cell_type": "markdown",
   "metadata": {},
   "source": [
    "## Exercise 4: Combine exercise 2 and 3\n",
    "\n",
    "- After combining the both add some transparency to the data so that the background is visible.\n",
    "- Reduce the Sphere radius to 0.99"
   ]
  },
  {
   "cell_type": "code",
   "execution_count": null,
   "metadata": {},
   "outputs": [],
   "source": []
  }
 ],
 "metadata": {
  "kernelspec": {
   "display_name": "Python 3 (ipykernel)",
   "language": "python",
   "name": "python3"
  },
  "language_info": {
   "codemirror_mode": {
    "name": "ipython",
    "version": 3
   },
   "file_extension": ".py",
   "mimetype": "text/x-python",
   "name": "python",
   "nbconvert_exporter": "python",
   "pygments_lexer": "ipython3",
   "version": "3.11.8"
  },
  "toc": {
   "base_numbering": 1,
   "nav_menu": {},
   "number_sections": true,
   "sideBar": true,
   "skip_h1_title": false,
   "title_cell": "Table of Contents",
   "title_sidebar": "Contents",
   "toc_cell": false,
   "toc_position": {},
   "toc_section_display": true,
   "toc_window_display": false
  }
 },
 "nbformat": 4,
 "nbformat_minor": 4
}
