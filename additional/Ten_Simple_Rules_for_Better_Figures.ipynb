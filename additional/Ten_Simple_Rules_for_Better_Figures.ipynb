{
 "cells": [
  {
   "cell_type": "markdown",
   "metadata": {},
   "source": [
    "<font size=\"5\"><b>Ten Simple Rules for Better Figures</b></font>\n",
    "\n",
    "https://journals.plos.org/ploscompbiol/article?id=10.1371/journal.pcbi.1003833"
   ]
  },
  {
   "cell_type": "markdown",
   "metadata": {},
   "source": [
    "<font size=\"4\"><b>Rule 1: Know Your Audience</b></font>\n",
    "<br></br>\n",
    "\n",
    "<img src=\"../figures/summary/ten_simple_rules/journal.pcbi.1003833.g001.png\"   width=\"600\">\n",
    "<br></br>\n",
    "<br></br>\n",
    "<br></br>\n",
    "<br></br>\n",
    "<font size=\"4\"><b>Rule 2: Identify Your Message</b></font>\n",
    "<br></br>\n",
    "<br></br>\n",
    "<br></br>\n",
    "<br></br>\n",
    "<br></br>\n",
    "<font size=\"4\"><b>Rule 3: Adapt the Figure to the Support Medium</b></font>\n",
    "<br></br>\n",
    "<img src=\"../figures/summary/ten_simple_rules/journal.pcbi.1003833.g003.png\"   width=\"600\">\n",
    "<br></br>\n",
    "<br></br>\n",
    "<br></br>\n",
    "<br></br>\n",
    "<font size=\"4\"><b>Rule 4: Captions Are Not Optional</b></font>\n",
    "\n",
    "<br></br>\n",
    "<br></br>\n",
    "<br></br>\n",
    "<br></br>\n",
    "<br></br>\n",
    "<font size=\"4\"><b>Rule 5: Do Not Trust the Defaults</b></font>\n",
    "<br></br>\n",
    "<img src=\"../figures/summary/ten_simple_rules/journal.pcbi.1003833.g004.png\"   width=\"600\">\n",
    "<img src=\"../figures/summary/ten_simple_rules/defaults.png\"   width=\"600\">\n",
    "<br></br>\n",
    "<br></br>\n",
    "<br></br>\n",
    "<br></br>\n",
    "<font size=\"4\"><b>Rule 6: Use Color Effectively</b></font>\n",
    "<br></br>\n",
    "<br></br>\n",
    "<br></br>\n",
    "<br></br>\n",
    "<br></br>\n",
    "<font size=\"4\"><b>Rule 7: Do Not Mislead the Reader</b></font>\n",
    "<br></br>\n",
    "<img src=\"../figures/summary/ten_simple_rules/journal.pcbi.1003833.g006.png\"   width=\"600\">\n",
    "<img src=\"../figures/summary/ten_simple_rules/misleading.png\"   width=\"600\">\n",
    "<br></br>\n",
    "<br></br>\n",
    "<br></br>\n",
    "<br></br>\n",
    "<font size=\"4\"><b>Rule 8: Avoid “Chartjunk”</b></font>\n",
    "<br></br>\n",
    "<img src=\"../figures/summary/ten_simple_rules/journal.pcbi.1003833.g007.png\"   width=\"600\">\n",
    "<img src=\"../figures/summary/ten_simple_rules/chart_junk.png\"   width=\"600\">\n",
    "[darkhorseanalytics.com](https://www.darkhorseanalytics.com/blog/data-looks-better-naked/)\n",
    "<br></br>\n",
    "<br></br>\n",
    "<br></br>\n",
    "<br></br>\n",
    "<font size=\"4\"><b>Rule 9: Message Trumps Beauty</b></font>\n",
    "<br></br>\n",
    "<br></br>\n",
    "<br></br>\n",
    "<br></br>\n",
    "<br></br>\n",
    "<font size=\"4\"><b>Rule 10: Get the Right Tool</b></font>"
   ]
  }
 ],
 "metadata": {
  "kernelspec": {
   "display_name": "Python 3 (ipykernel)",
   "language": "python",
   "name": "python3"
  },
  "language_info": {
   "codemirror_mode": {
    "name": "ipython",
    "version": 3
   },
   "file_extension": ".py",
   "mimetype": "text/x-python",
   "name": "python",
   "nbconvert_exporter": "python",
   "pygments_lexer": "ipython3",
   "version": "3.11.8"
  },
  "toc": {
   "base_numbering": 1,
   "nav_menu": {},
   "number_sections": true,
   "sideBar": true,
   "skip_h1_title": false,
   "title_cell": "Table of Contents",
   "title_sidebar": "Contents",
   "toc_cell": false,
   "toc_position": {},
   "toc_section_display": true,
   "toc_window_display": false
  }
 },
 "nbformat": 4,
 "nbformat_minor": 4
}
