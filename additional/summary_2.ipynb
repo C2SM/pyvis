{
 "cells": [
  {
   "cell_type": "markdown",
   "metadata": {},
   "source": [
    "<font size=\"6\"><b>Scientific Visualization using Python 2024</b></font>\n",
    "\n",
    "<font size=\"3\"> April 25-26: 09:00 - 17:00 </b></font>\n",
    "\n",
    "<img src=\"../figures/summary/title.png\"   width=\"600\">"
   ]
  },
  {
   "cell_type": "markdown",
   "metadata": {},
   "source": [
    "- Continue working with basics of Matplotlib\n",
    "- Creating a sophisticated 2D plot"
   ]
  },
  {
   "cell_type": "markdown",
   "metadata": {},
   "source": [
    "<font size=\"3\"><b> Subplots </b></font>\n",
    "<img src=\"../figures/summary/subplots_1.png\"   width=\"400\">\n",
    "<img src=\"../figures/summary/subplots_2.png\"   width=\"400\">\n",
    "\n",
    "<font size=\"3\"><b> Histograms </b></font>\n",
    "\n",
    "<img src=\"../figures/summary/histograms.png\"   width=\"400\">\n",
    "\n",
    "<font size=\"3\"><b>Annotations</b></font>\n"
   ]
  },
  {
   "cell_type": "markdown",
   "metadata": {},
   "source": [
    "<img src=\"../figures/summary/figures_teaser/ex1_6_annotations.png\"   width=\"500\">"
   ]
  },
  {
   "cell_type": "markdown",
   "metadata": {},
   "source": [
    "<font size=\"3\"><b> Matplotlib Gallery  </b></font>\n",
    "\n",
    "https://matplotlib.org/3.1.1/gallery/index.html"
   ]
  },
  {
   "cell_type": "markdown",
   "metadata": {},
   "source": [
    "<font size=\"3\"><b> Matplotlib defaults  </b></font>"
   ]
  },
  {
   "cell_type": "code",
   "execution_count": null,
   "metadata": {},
   "outputs": [],
   "source": [
    "import matplotlib as mpl\n",
    "\n",
    "mpl.rcParams"
   ]
  },
  {
   "cell_type": "markdown",
   "metadata": {},
   "source": [
    "<font size=\"3\"><b> Seaborn </b></font>\n",
    "\n",
    "Seaborn is a library for statistical visualisation\n",
    "\n",
    "It tries to 'make a well-defined set of hard things easy to do'.\n",
    "\n",
    "https://seaborn.pydata.org/examples/index.html"
   ]
  },
  {
   "cell_type": "code",
   "execution_count": null,
   "metadata": {},
   "outputs": [],
   "source": []
  }
 ],
 "metadata": {
  "kernelspec": {
   "display_name": "Python 3 (ipykernel)",
   "language": "python",
   "name": "python3"
  },
  "language_info": {
   "codemirror_mode": {
    "name": "ipython",
    "version": 3
   },
   "file_extension": ".py",
   "mimetype": "text/x-python",
   "name": "python",
   "nbconvert_exporter": "python",
   "pygments_lexer": "ipython3",
   "version": "3.11.8"
  },
  "toc": {
   "base_numbering": 1,
   "nav_menu": {},
   "number_sections": true,
   "sideBar": true,
   "skip_h1_title": false,
   "title_cell": "Table of Contents",
   "title_sidebar": "Contents",
   "toc_cell": false,
   "toc_position": {},
   "toc_section_display": true,
   "toc_window_display": false
  }
 },
 "nbformat": 4,
 "nbformat_minor": 4
}
