{
 "cells": [
  {
   "cell_type": "markdown",
   "metadata": {},
   "source": [
    "# Exercise 1.5 - Histograms and Colorbars\n",
    "prepared by M.Hauser\n",
    "\n",
    "In this exercise we will look at how to create histograms and get to know a bit more about colorbars."
   ]
  },
  {
   "cell_type": "code",
   "execution_count": null,
   "metadata": {},
   "outputs": [],
   "source": [
    "import matplotlib.pyplot as plt\n",
    "import numpy as np\n",
    "import xarray as xr"
   ]
  },
  {
   "cell_type": "markdown",
   "metadata": {},
   "source": [
    "## Create/ load data\n",
    "\n",
    "### Artificial data\n",
    "\n",
    "First, we create some artificial multivariate normal distributed data."
   ]
  },
  {
   "cell_type": "code",
   "execution_count": null,
   "metadata": {},
   "outputs": [],
   "source": [
    "mean = [0, 0]\n",
    "cov = [[1, 1], [1, 2]]\n",
    "X0, Y0 = np.random.multivariate_normal(mean, cov, 10000).T\n",
    "\n",
    "cov = [[1, 0], [0, 1]]  # diagonal covariance\n",
    "X1, Y1 = np.random.multivariate_normal(mean, cov, 10000).T"
   ]
  },
  {
   "cell_type": "markdown",
   "metadata": {},
   "source": [
    "### Swiss Station Data\n",
    "\n",
    "We use Station Data for Switzerland - the time series of temperature & precipitation.\n",
    "\n",
    "The data is available from MeteoSwiss.\n",
    "\n",
    "The data has already been [retrieved and postprocessed](../data/prepare_data_MCH.ipynb)."
   ]
  },
  {
   "cell_type": "code",
   "execution_count": null,
   "metadata": {},
   "outputs": [],
   "source": [
    "def load_mch(station, annual=True):\n",
    "    fN = \"../data/MCH_HOM_{}.nc\".format(station)\n",
    "    return xr.open_dataset(fN)\n",
    "\n",
    "\n",
    "BAS = load_mch(\"BAS\")  # Basel\n",
    "DAV = load_mch(\"DAV\")  # Davos\n",
    "GSB = load_mch(\"GSB\")  # Col du Grand St-Bernard"
   ]
  },
  {
   "cell_type": "markdown",
   "metadata": {},
   "source": [
    "## Histogram\n",
    "\n",
    "A histogram is created with the `hist` function:"
   ]
  },
  {
   "cell_type": "code",
   "execution_count": null,
   "metadata": {},
   "outputs": [],
   "source": [
    "plt.hist(X0);"
   ]
  },
  {
   "cell_type": "markdown",
   "metadata": {},
   "source": [
    "`hist` takes many parameters:"
   ]
  },
  {
   "cell_type": "code",
   "execution_count": null,
   "metadata": {},
   "outputs": [],
   "source": [
    "plt.hist(\n",
    "    Y0,\n",
    "    bins=30,  # number of bins\n",
    "    density=True,  # percentage instead of count\n",
    "    histtype=\"stepfilled\",  # don't apply the edgecolor to the individual bars\n",
    "    facecolor=\"indianred\",\n",
    "    edgecolor=\"0.5\",\n",
    ");"
   ]
  },
  {
   "cell_type": "markdown",
   "metadata": {},
   "source": [
    "### Exercise\n",
    "\n",
    " * Plot the distribution of precipitation in Basel."
   ]
  },
  {
   "cell_type": "code",
   "execution_count": null,
   "metadata": {},
   "outputs": [],
   "source": [
    "x = BAS.Precipitation\n",
    "\n",
    "f, ax = plt.subplots()\n",
    "# plot here"
   ]
  },
  {
   "cell_type": "markdown",
   "metadata": {},
   "source": [
    "### Solution"
   ]
  },
  {
   "cell_type": "code",
   "execution_count": null,
   "metadata": {
    "hide_input": true,
    "tags": [
     "solution"
    ]
   },
   "outputs": [],
   "source": [
    "x = BAS.Precipitation\n",
    "\n",
    "f, ax = plt.subplots()\n",
    "ax.hist(x, bins=20);"
   ]
  },
  {
   "cell_type": "markdown",
   "metadata": {},
   "source": [
    "### Exercise\n",
    "\n",
    " * Plot the distribution of temperature in Basel and Davos in the same axes.\n",
    " * Use the `alpha` keyword to make them semi-transparent."
   ]
  },
  {
   "cell_type": "code",
   "execution_count": null,
   "metadata": {},
   "outputs": [],
   "source": [
    "# code here\n",
    "f, ax = plt.subplots()"
   ]
  },
  {
   "cell_type": "markdown",
   "metadata": {},
   "source": [
    "### Solution"
   ]
  },
  {
   "cell_type": "code",
   "execution_count": null,
   "metadata": {
    "hide_input": true,
    "tags": [
     "solution"
    ]
   },
   "outputs": [],
   "source": [
    "# code here\n",
    "f, ax = plt.subplots()\n",
    "\n",
    "ax.hist(BAS.Temperature, bins=20, alpha=0.5)\n",
    "ax.hist(DAV.Temperature, bins=20, alpha=0.5);"
   ]
  },
  {
   "cell_type": "markdown",
   "metadata": {},
   "source": [
    "## 2D histograms and hexbin\n",
    "\n",
    "We can also do 2D histograms with `hist2d` and hexagonal binning plots with `hexbin` by passing x and y."
   ]
  },
  {
   "cell_type": "code",
   "execution_count": null,
   "metadata": {},
   "outputs": [],
   "source": [
    "f, axs = plt.subplots(1, 2)\n",
    "f.set_size_inches(20 / 2.54, 10 / 2.54)\n",
    "\n",
    "ax = axs[0]\n",
    "ax.hist2d(X0, Y0, bins=25, cmap=\"Reds\")\n",
    "\n",
    "ax = axs[1]\n",
    "ax.hexbin(X1, Y1, gridsize=20, cmap=\"Blues\")"
   ]
  },
  {
   "cell_type": "markdown",
   "metadata": {},
   "source": [
    "### Exercise\n",
    "\n",
    "* use the data for Basel (`BAS`) and Col du Grand St-Bernard (`GSB`)\n",
    "\n",
    "* Is there a correlation between temperatures? \n",
    "  * Use `hist2d` to find out\n",
    "* Is there a correlation between precipitation? \n",
    "  * Use `hexbin` to find out   "
   ]
  },
  {
   "cell_type": "code",
   "execution_count": null,
   "metadata": {},
   "outputs": [],
   "source": [
    "f, axs = plt.subplots(1, 2)\n",
    "f.set_size_inches(20 / 2.54, 10 / 2.54)\n",
    "\n",
    "# ======\n",
    "x = GSB.Temperature\n",
    "y = BAS.Temperature\n",
    "\n",
    "ax = axs[0]\n",
    "\n",
    "\n",
    "# ======\n",
    "x = GSB.Precipitation.values\n",
    "y = BAS.Precipitation.values\n",
    "\n",
    "ax = axs[1]"
   ]
  },
  {
   "cell_type": "markdown",
   "metadata": {},
   "source": [
    "### Solution"
   ]
  },
  {
   "cell_type": "code",
   "execution_count": null,
   "metadata": {
    "hide_input": true,
    "tags": [
     "solution"
    ]
   },
   "outputs": [],
   "source": [
    "f, axs = plt.subplots(1, 2)\n",
    "f.set_size_inches(20 / 2.54, 10 / 2.54)\n",
    "\n",
    "# ======\n",
    "x = GSB.Temperature\n",
    "y = BAS.Temperature\n",
    "\n",
    "ax = axs[0]\n",
    "ax.hist2d(x, y, bins=25, cmap=\"Reds\")\n",
    "\n",
    "# ======\n",
    "x = GSB.Precipitation.values\n",
    "y = BAS.Precipitation.values\n",
    "\n",
    "ax = axs[1]\n",
    "ax.hexbin(x, y, cmap=\"Blues\", gridsize=20);"
   ]
  },
  {
   "cell_type": "markdown",
   "metadata": {},
   "source": [
    "While the plots look fine, we don't know how many elements there are in each bin - we need colorbars!\n",
    "\n",
    "\n",
    "## Colorbars \n",
    "\n",
    "We got to know colorbars in exercise 1.3. They are created with `plt.colorbar(h)`\n",
    "\n",
    "colorbars are `axes` objects with some special properties. Therefore, they are a function of `plt` (or of `f`), but not of `ax`. They are vertical by default, but can be made horizontal by setting the `orientation` keyword. Adding a label to them is done by using the `set_label` function. `set_label` adds a x- or a y- label, depending on the orientation of the colorbar.\n",
    "\n",
    "We need to pass a `mappable` to the colorbar. A `mappable` is returned by almost all plotting function. We will usually call them `h`."
   ]
  },
  {
   "cell_type": "code",
   "execution_count": null,
   "metadata": {},
   "outputs": [],
   "source": [
    "f, ax = plt.subplots()\n",
    "\n",
    "h = ax.hexbin(X0, Y0, cmap=\"Blues\", gridsize=20)\n",
    "\n",
    "cbar = f.colorbar(h)\n",
    "cbar.set_label(\"counts per bin\")"
   ]
  },
  {
   "cell_type": "markdown",
   "metadata": {},
   "source": [
    "### Exercise\n",
    " * Add a horizontal colorbar\n",
    " * Add a label"
   ]
  },
  {
   "cell_type": "code",
   "execution_count": null,
   "metadata": {},
   "outputs": [],
   "source": [
    "f, ax = plt.subplots()\n",
    "\n",
    "h = ax.hexbin(GSB.Temperature, BAS.Temperature, cmap=\"Reds\", gridsize=20)\n",
    "\n",
    "# add colorbar"
   ]
  },
  {
   "cell_type": "markdown",
   "metadata": {},
   "source": [
    "### Solution"
   ]
  },
  {
   "cell_type": "code",
   "execution_count": null,
   "metadata": {
    "hide_input": true,
    "tags": [
     "solution"
    ]
   },
   "outputs": [],
   "source": [
    "f, ax = plt.subplots()\n",
    "\n",
    "h = ax.hexbin(GSB.Temperature, BAS.Temperature, cmap=\"Reds\", gridsize=20)\n",
    "\n",
    "# add colorbar\n",
    "\n",
    "cbar = f.colorbar(h, orientation=\"horizontal\")\n",
    "cbar.set_label(\"counts per bin\")"
   ]
  },
  {
   "cell_type": "markdown",
   "metadata": {},
   "source": [
    "## Specifying the axes the colorbar belongs to\n",
    "\n",
    "The `ax` keyword of a `colorbar` determines which axes the colorbar belongs to. You can even pass a list of axes, to get a colorbar that spans multiple subfigures.\n",
    "\n",
    "> this shrinks the axes to make room for the colorbar."
   ]
  },
  {
   "cell_type": "code",
   "execution_count": null,
   "metadata": {},
   "outputs": [],
   "source": [
    "f, axs = plt.subplots(2, 2, constrained_layout=True)\n",
    "axs = axs.flatten()\n",
    "\n",
    "ax = axs[0]\n",
    "h0 = ax.hexbin(X0, Y0, cmap=\"viridis\", gridsize=20)\n",
    "\n",
    "ax = axs[1]\n",
    "h2 = ax.hexbin(X1, Y1, cmap=\"Reds\", gridsize=20, vmax=250)\n",
    "\n",
    "ax = axs[2]\n",
    "h1 = ax.hexbin(X1, Y1, cmap=\"Blues\", gridsize=20)\n",
    "\n",
    "ax = axs[3]\n",
    "h2 = ax.hexbin(X0, Y0, cmap=\"Reds\", gridsize=20, vmax=250)\n",
    "\n",
    "\n",
    "# ======\n",
    "# single colorbars\n",
    "\n",
    "f.colorbar(h0, ax=axs[0])\n",
    "f.colorbar(h1, ax=axs[2])\n",
    "\n",
    "# ======\n",
    "# double colorbars\n",
    "\n",
    "cbar = f.colorbar(h2, ax=[axs[1], axs[3]])\n",
    "cbar.set_label(\"Double colorbar\")"
   ]
  },
  {
   "cell_type": "markdown",
   "metadata": {},
   "source": [
    "> You have to make sure that all plots with the same colorbar also display the same data range! You do that by setting `vmin` and `vmax`."
   ]
  },
  {
   "cell_type": "markdown",
   "metadata": {},
   "source": [
    "### Exercise\n",
    "\n",
    "Let's go back to the figure comparing BAS and GSB.\n",
    "\n",
    " * Add a colorbar spanning both axes\n",
    " * Make sure both `hexbin`s show the same scale (30 is a good maximum value)"
   ]
  },
  {
   "cell_type": "code",
   "execution_count": null,
   "metadata": {},
   "outputs": [],
   "source": [
    "x0 = GSB.Temperature\n",
    "y0 = BAS.Temperature\n",
    "\n",
    "x1 = GSB.Precipitation\n",
    "y1 = BAS.Precipitation\n",
    "\n",
    "# ======\n",
    "\n",
    "f, axs = plt.subplots(1, 2, constrained_layout=True)\n",
    "f.set_size_inches(20 / 2.54, 10 / 2.54)\n",
    "\n",
    "# ======\n",
    "\n",
    "ax = axs[0]\n",
    "h = ax.hexbin(x0, y0, cmap=\"Blues\", gridsize=25, vmax=30)\n",
    "\n",
    "# ======\n",
    "\n",
    "ax = axs[1]\n",
    "h = ax.hexbin(x1, y1, cmap=\"Blues\", gridsize=25, vmax=30)\n",
    "\n",
    "# ======\n",
    "# add colorbar"
   ]
  },
  {
   "cell_type": "markdown",
   "metadata": {},
   "source": [
    "### Solution"
   ]
  },
  {
   "cell_type": "code",
   "execution_count": null,
   "metadata": {
    "hide_input": true,
    "tags": [
     "solution"
    ]
   },
   "outputs": [],
   "source": [
    "x0 = GSB.Temperature\n",
    "y0 = BAS.Temperature\n",
    "\n",
    "x1 = GSB.Precipitation\n",
    "y1 = BAS.Precipitation\n",
    "\n",
    "# ======\n",
    "\n",
    "f, axs = plt.subplots(1, 2, constrained_layout=True)\n",
    "f.set_size_inches(20 / 2.54, 10 / 2.54)\n",
    "\n",
    "# ======\n",
    "\n",
    "ax = axs[0]\n",
    "h = ax.hexbin(x0, y0, cmap=\"Blues\", gridsize=25, vmax=30)\n",
    "\n",
    "# ======\n",
    "\n",
    "ax = axs[1]\n",
    "h = ax.hexbin(x1, y1, cmap=\"Blues\", gridsize=25, vmax=30)\n",
    "\n",
    "# ======\n",
    "# add colorbar\n",
    "\n",
    "f.colorbar(h, ax=[axs[0], axs[1]], orientation=\"horizontal\")"
   ]
  },
  {
   "cell_type": "markdown",
   "metadata": {},
   "source": [
    "Actually, that does not look great, using only one vertical colorbar is better - let's do that.\n",
    "\n",
    "### Bonus exercise\n",
    "\n",
    "* Add only one vertical colorbar for the right axes\n",
    "  * Remove the old colorbar\n",
    "  * Add a label (`\"counts per bin\"`)\n",
    "* Add x-and y-labels\n",
    "* Add titles\n",
    "\n"
   ]
  },
  {
   "cell_type": "code",
   "execution_count": null,
   "metadata": {},
   "outputs": [],
   "source": [
    "x0 = GSB.Temperature\n",
    "y0 = BAS.Temperature\n",
    "\n",
    "x1 = GSB.Precipitation\n",
    "y1 = BAS.Precipitation\n",
    "\n",
    "# ======\n",
    "\n",
    "f, axs = plt.subplots(1, 2, constrained_layout=True)\n",
    "f.set_size_inches(20 / 2.54, 10 / 2.54)\n",
    "\n",
    "# ======\n",
    "\n",
    "ax = axs[0]\n",
    "h = ax.hexbin(x0, y0, cmap=\"Blues\", gridsize=25, vmax=30)\n",
    "\n",
    "# add labels and title\n",
    "\n",
    "# ======\n",
    "\n",
    "ax = axs[1]\n",
    "h = ax.hexbin(x1, y1, cmap=\"Blues\", gridsize=25, vmax=30)\n",
    "\n",
    "# add labels and title\n",
    "\n",
    "\n",
    "# ======\n",
    "# add colorbar"
   ]
  },
  {
   "cell_type": "markdown",
   "metadata": {},
   "source": [
    "### Solution"
   ]
  },
  {
   "cell_type": "code",
   "execution_count": null,
   "metadata": {
    "hide_input": true,
    "tags": [
     "solution"
    ]
   },
   "outputs": [],
   "source": [
    "x0 = GSB.Temperature\n",
    "y0 = BAS.Temperature\n",
    "\n",
    "x1 = GSB.Precipitation\n",
    "y1 = BAS.Precipitation\n",
    "\n",
    "# ======\n",
    "\n",
    "f, axs = plt.subplots(1, 2, constrained_layout=True)\n",
    "f.set_size_inches(20 / 2.54, 10 / 2.54)\n",
    "\n",
    "# ======\n",
    "\n",
    "ax = axs[0]\n",
    "h = ax.hexbin(x0, y0, cmap=\"Blues\", gridsize=25, vmax=30)\n",
    "\n",
    "# add labels and title\n",
    "ax.set_title(\"Temperature\")\n",
    "ax.set_title(\"a\", loc=\"left\", weight=\"semibold\")\n",
    "\n",
    "ax.set_xlabel(\"GSB (°C)\")\n",
    "ax.set_ylabel(\"BAS (°C)\")\n",
    "\n",
    "\n",
    "# ======\n",
    "\n",
    "ax = axs[1]\n",
    "h = ax.hexbin(x1, y1, cmap=\"Blues\", gridsize=25, vmax=30)\n",
    "\n",
    "# add labels and title\n",
    "ax.set_title(\"Precipitation\")\n",
    "ax.set_title(\"b\", loc=\"left\", weight=\"bold\")\n",
    "\n",
    "ax.set_xlabel(\"GSB (mm / yr)\")\n",
    "ax.set_ylabel(\"BAS (mm / yr)\")\n",
    "\n",
    "# ======\n",
    "# add colorbar\n",
    "\n",
    "cbar = f.colorbar(h, ax=ax)\n",
    "cbar.set_label(\"counts per bin\")"
   ]
  }
 ],
 "metadata": {
  "hide_input": false,
  "kernelspec": {
   "display_name": "Python 3 (ipykernel)",
   "language": "python",
   "name": "python3"
  },
  "language_info": {
   "codemirror_mode": {
    "name": "ipython",
    "version": 3
   },
   "file_extension": ".py",
   "mimetype": "text/x-python",
   "name": "python",
   "nbconvert_exporter": "python",
   "pygments_lexer": "ipython3",
   "version": "3.9.16"
  }
 },
 "nbformat": 4,
 "nbformat_minor": 4
}
