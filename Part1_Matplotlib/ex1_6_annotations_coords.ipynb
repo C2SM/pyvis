{
 "cells": [
  {
   "cell_type": "markdown",
   "metadata": {},
   "source": [
    "# Exercise 1.6: Annotations and coordinate systems\n",
    "prepared by M.Hauser\n",
    "\n",
    "We can add text annotations to a figure using the `ax.text` function."
   ]
  },
  {
   "cell_type": "code",
   "execution_count": null,
   "metadata": {
    "tags": []
   },
   "outputs": [],
   "source": [
    "import matplotlib.pyplot as plt\n",
    "import numpy as np\n",
    "import xarray as xr"
   ]
  },
  {
   "cell_type": "markdown",
   "metadata": {},
   "source": [
    "### Example data\n",
    "\n",
    "For this exercise, we use measurements of the stratospheric aerosol optical depth at 500 nm (Sato et al., 1999). The data was prepared in another [notebook](../data/prepare_strat_aerosol.ipynb).\n",
    "\n",
    "We also make use of the [list of large volcanic eruptions](https://en.wikipedia.org/wiki/List_of_volcanic_eruptions_1500–1999) from Wikipedia."
   ]
  },
  {
   "cell_type": "code",
   "execution_count": null,
   "metadata": {
    "tags": []
   },
   "outputs": [],
   "source": [
    "# load data stratospheric aerosols\n",
    "\n",
    "file = \"../data/aod.nc\"\n",
    "ds = xr.open_dataset(file)\n",
    "\n",
    "year = ds.year.values\n",
    "nh = ds.nh.values\n",
    "sh = ds.sh.values\n",
    "\n",
    "x = np.arange(0, np.pi * 2, 0.01)"
   ]
  },
  {
   "cell_type": "markdown",
   "metadata": {},
   "source": [
    "## Annotations\n",
    "\n",
    "Simple annotations can be done with `ax.text(x, y, 'string')`:"
   ]
  },
  {
   "cell_type": "code",
   "execution_count": null,
   "metadata": {
    "tags": []
   },
   "outputs": [],
   "source": [
    "f, ax = plt.subplots()\n",
    "\n",
    "ax.plot(x, np.cos(x), label=\"cos(x)\")\n",
    "\n",
    "ax.axhline(0, color=\"0.1\", lw=0.5)\n",
    "\n",
    "ax.legend()\n",
    "\n",
    "# =========================\n",
    "\n",
    "t = 2 * np.pi / 3\n",
    "\n",
    "ax.text(0, 0, \"origin\")\n",
    "\n",
    "ax.text(t, np.cos(t), r\"$\\cos(\\frac{2\\pi}{3})=-\\frac{1}{2}$\");"
   ]
  },
  {
   "cell_type": "markdown",
   "metadata": {},
   "source": [
    "### Exercise\n",
    "\n",
    " * Annotate the eruptions of Krakatoa (1883) and Pinatubo (1991) using `ax.text`"
   ]
  },
  {
   "cell_type": "code",
   "execution_count": null,
   "metadata": {
    "tags": []
   },
   "outputs": [],
   "source": [
    "f, ax = plt.subplots()\n",
    "\n",
    "ax.plot(year, nh, label=\"Northern Hemisphere\")\n",
    "ax.plot(year, sh, label=\"Southern Hemisphere\")\n",
    "\n",
    "ax.set_ylim(0, 0.25)\n",
    "ax.legend()\n",
    "\n",
    "ax.set_title(\"Stratospheric aerosol optical depth at 550 nm\")\n",
    "ax.set_ylabel(\"AOD (-)\")\n",
    "\n",
    "# code here"
   ]
  },
  {
   "cell_type": "markdown",
   "metadata": {},
   "source": [
    "### Solution"
   ]
  },
  {
   "cell_type": "code",
   "execution_count": null,
   "metadata": {
    "hide_input": true,
    "tags": [
     "solution"
    ]
   },
   "outputs": [],
   "source": [
    "f, ax = plt.subplots()\n",
    "\n",
    "\n",
    "ax.plot(year, nh, label=\"Northern Hemisphere\")\n",
    "ax.plot(year, sh, label=\"Southern Hemisphere\")\n",
    "\n",
    "ax.set_ylim(0, 0.25)\n",
    "ax.legend()\n",
    "\n",
    "ax.set_title(\"Stratospheric aerosol optical depth at 550 nm\")\n",
    "ax.set_ylabel(\"AOD (-)\")\n",
    "\n",
    "# code here\n",
    "\n",
    "ax.text(1883, 0.15, \"Krakatoa\")\n",
    "ax.text(1991, 0.15, \"Pinatubo\")"
   ]
  },
  {
   "cell_type": "markdown",
   "metadata": {},
   "source": [
    "### Alignment & rotation\n",
    "\n",
    "with the keyword arguments `verticalalignment` (or `va`), `horizontalalignment` (or `ha`), and `rotation`, you can set the alignment and orientation of the text."
   ]
  },
  {
   "cell_type": "code",
   "execution_count": null,
   "metadata": {
    "tags": []
   },
   "outputs": [],
   "source": [
    "f, ax = plt.subplots()\n",
    "\n",
    "ax.axhline(0, color=\"0.1\", lw=0.5)\n",
    "ax.axvline(3, color=\"0.1\", lw=0.5)\n",
    "\n",
    "ax.set_xlim(0, 7)\n",
    "ax.set_ylim(-1, 1)\n",
    "\n",
    "# =========================\n",
    "\n",
    "ax.text(3, 0.80, \"ha='left' (default)\")\n",
    "ax.text(3, 0.65, \"ha='right'\", horizontalalignment=\"right\")\n",
    "ax.text(3, 0.50, \"ha='center'\", ha=\"center\")\n",
    "\n",
    "\n",
    "ax.text(0, 0, \"va='baseline' (default)\")\n",
    "ax.text(3, 0, \"va='bottom'\", verticalalignment=\"bottom\")\n",
    "ax.text(3, 0, \"va='top'\", va=\"top\")\n",
    "ax.text(5, 0, \"va='center'\", va=\"center\")\n",
    "\n",
    "\n",
    "ax.plot(1, -0.25, \".\", color=\"r\")\n",
    "ax.text(1, -0.25, \"rotation=90\", rotation=90)\n",
    "\n",
    "ax.plot(2, -0.5, \".\", color=\"r\")\n",
    "ax.text(2, -0.5, \"rotation=45\", rotation=45, ha=\"center\", va=\"center\");"
   ]
  },
  {
   "cell_type": "markdown",
   "metadata": {},
   "source": [
    "Note:\n",
    "> The text is first rotated, then aligned, as explained in this [example in the official documentation](https://matplotlib.org/stable/gallery/text_labels_and_annotations/text_rotation.html?highlight=text_rotation%20py). "
   ]
  },
  {
   "cell_type": "markdown",
   "metadata": {},
   "source": [
    "### Exercise\n",
    "\n",
    " * Add the name of all volcanic eruptions vertically to the left of the line (use `yr` and `name`)\n"
   ]
  },
  {
   "cell_type": "code",
   "execution_count": null,
   "metadata": {
    "tags": []
   },
   "outputs": [],
   "source": [
    "f, ax = plt.subplots()\n",
    "\n",
    "ax.plot(year, nh, label=\"NH\")\n",
    "ax.plot(year, sh, label=\"SH\")\n",
    "\n",
    "ax.set_ylim(0, 0.25)\n",
    "\n",
    "ax.legend()\n",
    "\n",
    "ax.set_title(\"Stratospheric aerosol optical depth at 550 nm\")\n",
    "ax.set_ylabel(\"AOD (-)\")\n",
    "\n",
    "volcanic_eruptions = (1883, 1902, 1912, 1963, 1982, 1991)\n",
    "volcanoes = (\"Krakatoa\", \"Santa Maria\", \"Novarupta\", \"Agung\", \"El Chichón\", \"Pinatubo\")\n",
    "\n",
    "for yr, name in zip(volcanic_eruptions, volcanoes):\n",
    "\n",
    "    ax.axvline(yr, color=\"0.1\", lw=0.5)\n",
    "\n",
    "    # code here"
   ]
  },
  {
   "cell_type": "markdown",
   "metadata": {},
   "source": [
    "### Solution\n",
    "\n",
    "see also Hauser et al., ([2017](http://onlinelibrary.wiley.com/doi/10.1002/2017EF000612/abstract)), Figure S1b in the Supporting Information."
   ]
  },
  {
   "cell_type": "code",
   "execution_count": null,
   "metadata": {
    "hide_input": true,
    "tags": [
     "solution"
    ]
   },
   "outputs": [],
   "source": [
    "f, ax = plt.subplots()\n",
    "\n",
    "ax.plot(year, nh, label=\"NH\")\n",
    "ax.plot(year, sh, label=\"SH\")\n",
    "\n",
    "ax.set_ylim(0, 0.225)\n",
    "\n",
    "ax.legend()\n",
    "\n",
    "ax.set_title(\"Stratospheric aerosol optical depth at 550 nm\")\n",
    "ax.set_ylabel(\"AOD (-)\")\n",
    "\n",
    "volcanic_eruptions = (1883, 1902, 1912, 1963, 1982, 1991)\n",
    "volcanoes = (\"Krakatoa\", \"Santa Maria\", \"Novarupta\", \"Agung\", \"El Chichón\", \"Pinatubo\")\n",
    "\n",
    "for yr, name in zip(volcanic_eruptions, volcanoes):\n",
    "\n",
    "    ax.axvline(yr, color=\"0.1\", lw=0.5)\n",
    "\n",
    "    # code here\n",
    "    ax.text(yr, 0.16, name, rotation=90, va=\"bottom\", ha=\"right\")\n",
    "\n",
    "# plt.savefig('ex1_6_annotations.png', dpi=300)"
   ]
  },
  {
   "cell_type": "markdown",
   "metadata": {},
   "source": [
    "## Coordinate systems & transformations\n",
    "\n",
    "Until now we have mostly worked with data coordinates. However, you may also wish to write something in the top left corner of the axes irrespective of the data limits. Therefore, matplotlib offers three coordinate systems and the transformations between them:\n",
    "\n",
    " * data coordinates (`ax.transData`)\n",
    " * axes coordinates (`ax.transAxes`)\n",
    " * figure coordinates (`f.transFigure`)\n",
    "\n",
    "While the data coordinates depend on what we plot, the axes and figure coordinates always go from (0, 0) in the bottom left corner to (1, 1) in the top right corner. We already got to know the figure coordinates when creating new axes with `plt.axes(rect)`.\n",
    "\n",
    "The matplotlib documentation offers a [Transformations Tutorial](https://matplotlib.org/stable/tutorials/advanced/transforms_tutorial.html?highlight=transformations%20tutorial).\n",
    "\n",
    "An example may look like this:    "
   ]
  },
  {
   "cell_type": "code",
   "execution_count": null,
   "metadata": {
    "tags": []
   },
   "outputs": [],
   "source": [
    "f, axs = plt.subplots(1, 2, sharey=True)\n",
    "\n",
    "\n",
    "for ax in axs:\n",
    "    ax.set(xlim=[0, 5], ylim=[0, 2.5])\n",
    "\n",
    "ax = axs[0]\n",
    "\n",
    "x = y = 0.5\n",
    "\n",
    "# the default transformation is transData\n",
    "ax.text(x, y, \"Data\", va=\"center\", ha=\"center\")\n",
    "\n",
    "ax.text(x, y, \"Axes\", transform=ax.transAxes, va=\"center\", ha=\"center\")\n",
    "\n",
    "f.text(x, y, \"Figure\", transform=f.transFigure, va=\"center\", ha=\"center\");"
   ]
  },
  {
   "cell_type": "markdown",
   "metadata": {},
   "source": [
    "\n",
    "> `f.text` is used for `transform=transFigure` - else the text may be hidden behind the second axes.\n",
    "\n",
    "---\n",
    "\n",
    "What happens if we change the xlim and ylim of the axes: only the text in data coordinates changes position!"
   ]
  },
  {
   "cell_type": "code",
   "execution_count": null,
   "metadata": {
    "tags": []
   },
   "outputs": [],
   "source": [
    "f, axs = plt.subplots(1, 2, sharey=True)\n",
    "\n",
    "\n",
    "for ax in axs:\n",
    "    ax.set(xlim=[0, 5], ylim=[0, 0.6])\n",
    "\n",
    "ax = axs[0]\n",
    "\n",
    "x = y = 0.5\n",
    "\n",
    "# the default transformation is transData\n",
    "ax.text(x, y, \"Data\", va=\"center\", ha=\"center\")\n",
    "\n",
    "ax.text(x, y, \"Axes\", transform=ax.transAxes, va=\"center\", ha=\"center\")\n",
    "\n",
    "f.text(x, y, \"Figure\", transform=f.transFigure, va=\"center\", ha=\"center\");"
   ]
  },
  {
   "cell_type": "markdown",
   "metadata": {},
   "source": [
    "### Exercise\n",
    "\n",
    " * Use `transAxes` to add the labels `\"a\"`, `\"b\"`, etc. to the subplots at the top left edge of the plot"
   ]
  },
  {
   "cell_type": "code",
   "execution_count": null,
   "metadata": {
    "tags": []
   },
   "outputs": [],
   "source": [
    "f, axs = plt.subplots(2, 3, sharex=True, sharey=True)\n",
    "\n",
    "axs = axs.flatten()\n",
    "\n",
    "letters = [\"a\", \"b\", \"c\", \"d\", \"e\", \"f\"]\n",
    "\n",
    "for ax, letter in zip(axs, letters):\n",
    "\n",
    "    ax.set(xlim=[-2, 2], ylim=[0, 2.5])\n",
    "\n",
    "    # add annotation here\n",
    "    # ax.text(...)"
   ]
  },
  {
   "cell_type": "markdown",
   "metadata": {},
   "source": [
    "### Solution"
   ]
  },
  {
   "cell_type": "code",
   "execution_count": null,
   "metadata": {
    "hide_input": true,
    "tags": [
     "solution"
    ]
   },
   "outputs": [],
   "source": [
    "f, axs = plt.subplots(2, 3, sharex=True, sharey=True)\n",
    "\n",
    "axs = axs.flatten()\n",
    "\n",
    "letters = [\"a\", \"b\", \"c\", \"d\", \"e\", \"f\"]\n",
    "\n",
    "for ax, letter in zip(axs, letters):\n",
    "    ax.set(xlim=[-2, 2], ylim=[0, 2.5])\n",
    "\n",
    "    # for example:\n",
    "    ax.text(\n",
    "        0.02,\n",
    "        0.98,\n",
    "        f\"({letter})\",\n",
    "        va=\"top\",\n",
    "        ha=\"left\",\n",
    "        fontsize=12,\n",
    "        transform=ax.transAxes,\n",
    "    )"
   ]
  },
  {
   "cell_type": "markdown",
   "metadata": {},
   "source": [
    "### Note 1\n",
    "\n",
    "You could also do `letters = \"abcdef\"` as Python happily loops through strings.\n",
    "\n",
    "If you don't want to write all the letters, you could use `ascii_lowercase` in the `string` module (although remembering this may be more work than just writing the letters)."
   ]
  },
  {
   "cell_type": "code",
   "execution_count": null,
   "metadata": {
    "tags": []
   },
   "outputs": [],
   "source": [
    "import string\n",
    "\n",
    "string.ascii_lowercase[0]"
   ]
  },
  {
   "cell_type": "markdown",
   "metadata": {},
   "source": [
    "### Note 2\n",
    "\n",
    "I don't really recommend to add the labels like this, I usually use the following:"
   ]
  },
  {
   "cell_type": "code",
   "execution_count": null,
   "metadata": {
    "tags": []
   },
   "outputs": [],
   "source": [
    "f, axs = plt.subplots(2, 3, sharex=True, sharey=True)\n",
    "\n",
    "axs = axs.flatten()\n",
    "\n",
    "letters = [\"a\", \"b\", \"c\", \"d\", \"e\", \"f\"]\n",
    "\n",
    "for ax, letter in zip(axs, letters):\n",
    "    ax.set(xlim=[-2, 2], ylim=[0, 2.5])\n",
    "\n",
    "    ax.set_title(f\"({letter})\", loc=\"left\", fontsize=9)"
   ]
  },
  {
   "cell_type": "markdown",
   "metadata": {},
   "source": [
    "## `ax.annotate`\n",
    "\n",
    "ax.annotate is the fancier version of `ax.text`. You can add a string like this:"
   ]
  },
  {
   "cell_type": "code",
   "execution_count": null,
   "metadata": {
    "tags": []
   },
   "outputs": [],
   "source": [
    "f, ax = plt.subplots()\n",
    "\n",
    "ax.plot(year, nh, label=\"Northern Hemisphere\")\n",
    "ax.plot(year, sh, label=\"Southern Hemisphere\")\n",
    "\n",
    "ax.set_ylim(0, 0.25)\n",
    "ax.legend()\n",
    "\n",
    "ax.set_title(\"Stratospheric aerosol optical depth at 550 nm\")\n",
    "ax.set_ylabel(\"AOD (-)\")\n",
    "\n",
    "ax.annotate(\"Krakatoa\", xy=(1883, 0.146))\n",
    "ax.annotate(\"Pinatubo\", xy=(1991, 0.125));"
   ]
  },
  {
   "cell_type": "markdown",
   "metadata": {},
   "source": [
    "Because I used the observed values as y coordinate, the text is too close. `ax.annotate` offers a possibility to offset the text by some points."
   ]
  },
  {
   "cell_type": "code",
   "execution_count": null,
   "metadata": {
    "tags": []
   },
   "outputs": [],
   "source": [
    "f, ax = plt.subplots()\n",
    "\n",
    "ax.plot(year, nh, label=\"Northern Hemisphere\")\n",
    "ax.plot(year, sh, label=\"Southern Hemisphere\")\n",
    "\n",
    "ax.set_ylim(0, 0.25)\n",
    "ax.legend()\n",
    "\n",
    "ax.set_title(\"Stratospheric aerosol optical depth at 550 nm\")\n",
    "ax.set_ylabel(\"AOD (-)\")\n",
    "\n",
    "ax.annotate(\"Krakatoa\", xy=(1883, 0.146), xytext=(0, 5), textcoords=\"offset points\")\n",
    "ax.annotate(\"Pinatubo\", xy=(1991, 0.125), xytext=(0, 5), textcoords=\"offset points\")"
   ]
  },
  {
   "cell_type": "markdown",
   "metadata": {},
   "source": [
    "## Arrows\n",
    "\n",
    "Specifying arrows is not the easiest task in matplotlib... The recommended way to create an arrow is to use `ax.annotate`. The look of the arrow can be controlled with the `arrowprops` keyword. While nearly every aspect can be controlled, it can require very detailed specifications. Matplotlib offers several demos showcasing [annotations](https://matplotlib.org/stable/gallery/userdemo/index.html)."
   ]
  },
  {
   "cell_type": "code",
   "execution_count": null,
   "metadata": {
    "tags": []
   },
   "outputs": [],
   "source": [
    "x = np.arange(0, np.pi * 2, 0.01)\n",
    "\n",
    "# =========================\n",
    "\n",
    "f, ax = plt.subplots()\n",
    "\n",
    "ax.plot(x, np.cos(x), label=\"cos(x)\")\n",
    "\n",
    "ax.axhline(0, color=\"0.1\", lw=0.5)\n",
    "\n",
    "# =========================\n",
    "\n",
    "t = 2 * np.pi / 3\n",
    "\n",
    "ax.annotate(\"origin\", xy=(0, 0), xytext=(0.1, 0.25), arrowprops=dict(arrowstyle=\"->\"))\n",
    "\n",
    "ax.annotate(\n",
    "    r\"$\\cos(\\frac{2\\pi}{3})=-\\frac{1}{2}$\",\n",
    "    xy=(t, np.cos(t)),\n",
    "    xycoords=\"data\",\n",
    "    xytext=(-90, -50),\n",
    "    textcoords=\"offset points\",\n",
    "    fontsize=16,\n",
    "    arrowprops=dict(arrowstyle=\"wedge,tail_width=1.\", ec=\"none\"),\n",
    ")"
   ]
  },
  {
   "cell_type": "markdown",
   "metadata": {},
   "source": [
    "### Bonus Exercise\n",
    "\n",
    " * Add the name and arrows to the volcanic eruptions (You can get inspiration in the [annotation demo](https://matplotlib.org/examples/pylab_examples/annotation_demo2.html))"
   ]
  },
  {
   "cell_type": "code",
   "execution_count": null,
   "metadata": {
    "tags": []
   },
   "outputs": [],
   "source": [
    "# obtain the aod values at the time of eruption\n",
    "\n",
    "# maximum of nh and sh\n",
    "max_aod = np.fmax(nh, sh)\n",
    "\n",
    "# index of the year + 1 (this only works because year is continuous)\n",
    "idx = np.asarray(volcanic_eruptions) - year.min() + 1\n",
    "\n",
    "aod_at_eruption = max_aod[idx]"
   ]
  },
  {
   "cell_type": "code",
   "execution_count": null,
   "metadata": {
    "tags": []
   },
   "outputs": [],
   "source": [
    "f, ax = plt.subplots()\n",
    "\n",
    "ax.plot(year, nh, label=\"NH\")\n",
    "ax.plot(year, sh, label=\"SH\")\n",
    "\n",
    "ax.set_ylim(0, 0.25)\n",
    "\n",
    "ax.legend()\n",
    "\n",
    "ax.set_title(\"Stratospheric aerosol optical depth at 550 nm\")\n",
    "ax.set_ylabel(\"AOD (-)\")\n",
    "\n",
    "volcanic_eruptions = (1883, 1902, 1912, 1963, 1982, 1991)\n",
    "volcanoes = (\"Krakatoa\", \"Santa Maria\", \"Novarupta\", \"Agung\", \"El Chichón\", \"Pinatubo\")\n",
    "\n",
    "xz_pos = list(zip(volcanic_eruptions, aod_at_eruption))\n",
    "\n",
    "# code here\n",
    "\n",
    "ax.annotate(\n",
    "    volcanoes[0],\n",
    "    xy=(xz_pos[0]),\n",
    "    xytext=(0, 25),\n",
    "    textcoords=\"offset points\",\n",
    "    arrowprops=dict(arrowstyle=\"->\", connectionstyle=\"arc3,rad=-0.2\"),\n",
    ")\n",
    "\n",
    "# ax.annotate(\n",
    "#     volcanoes[1],\n",
    "#     xy=(xz_pos[1]),\n",
    "#     ...\n",
    "# )\n",
    "\n",
    "\n",
    "# ..."
   ]
  },
  {
   "cell_type": "markdown",
   "metadata": {},
   "source": [
    "### Solution (example)"
   ]
  },
  {
   "cell_type": "code",
   "execution_count": null,
   "metadata": {
    "hide_input": true,
    "tags": [
     "solution"
    ]
   },
   "outputs": [],
   "source": [
    "f, ax = plt.subplots()\n",
    "\n",
    "ax.plot(year, nh, label=\"NH\")\n",
    "ax.plot(year, sh, label=\"SH\")\n",
    "\n",
    "ax.set_ylim(0, 0.25)\n",
    "\n",
    "ax.legend()\n",
    "\n",
    "ax.set_title(\"Stratospheric aerosol optical depth at 550 nm\")\n",
    "ax.set_ylabel(\"AOD (-)\")\n",
    "\n",
    "volcanic_eruptions = (1883, 1902, 1912, 1963, 1982, 1991)\n",
    "volcanoes = (\"Krakatoa\", \"Santa Maria\", \"Novarupta\", \"Agung\", \"El Chichón\", \"Pinatubo\")\n",
    "\n",
    "xz_pos = list(zip(volcanic_eruptions, aod_at_eruption))\n",
    "\n",
    "# code here\n",
    "\n",
    "ax.annotate(\n",
    "    volcanoes[0],\n",
    "    xy=(xz_pos[0]),\n",
    "    xytext=(0, 25),\n",
    "    textcoords=\"offset points\",\n",
    "    arrowprops=dict(arrowstyle=\"->\", connectionstyle=\"arc3,rad=-0.2\"),\n",
    ")\n",
    "\n",
    "\n",
    "ax.annotate(\n",
    "    volcanoes[1],\n",
    "    xy=(xz_pos[1]),\n",
    "    bbox=dict(boxstyle=\"round\", fc=\"none\", ec=\"gray\"),\n",
    "    xytext=(10, 40),\n",
    "    textcoords=\"offset points\",\n",
    "    ha=\"center\",\n",
    "    arrowprops=dict(arrowstyle=\"->\"),\n",
    ")\n",
    "\n",
    "\n",
    "ax.annotate(\n",
    "    volcanoes[2],\n",
    "    xy=(xz_pos[2]),\n",
    "    xycoords=\"data\",\n",
    "    xytext=(30, 0),\n",
    "    textcoords=\"offset points\",\n",
    "    ha=\"left\",\n",
    "    va=\"center\",\n",
    "    bbox=dict(boxstyle=\"round\", alpha=0.25),\n",
    "    arrowprops=dict(arrowstyle=\"wedge,tail_width=0.4\", alpha=0.25),\n",
    ")\n",
    "\n",
    "\n",
    "ax.annotate(\n",
    "    volcanoes[3],\n",
    "    xy=(xz_pos[3]),\n",
    "    xycoords=\"data\",\n",
    "    bbox=dict(boxstyle=\"round\", fc=\"0.8\"),\n",
    "    xytext=(-20, 30),\n",
    "    textcoords=\"offset points\",\n",
    "    ha=\"right\",\n",
    "    arrowprops=dict(arrowstyle=\"->\", connectionstyle=\"angle,angleA=0,angleB=90,rad=10\"),\n",
    ")\n",
    "\n",
    "\n",
    "ax.annotate(\n",
    "    volcanoes[4],\n",
    "    xy=(xz_pos[4]),\n",
    "    xycoords=\"data\",\n",
    "    xytext=(-20, 75),\n",
    "    textcoords=\"offset points\",\n",
    "    ha=\"center\",\n",
    "    size=20,\n",
    "    arrowprops=dict(\n",
    "        arrowstyle=\"fancy,tail_width=0.5\",\n",
    "        fc=\"0.6\",\n",
    "        ec=\"none\",\n",
    "    ),\n",
    ")\n",
    "\n",
    "ax.annotate(\n",
    "    volcanoes[5],\n",
    "    xy=(xz_pos[5]),\n",
    "    xycoords=\"data\",\n",
    "    xytext=(0, 30),\n",
    "    textcoords=\"offset points\",\n",
    "    arrowprops=dict(arrowstyle=\"simple,tail_width=0.4\", fc=\"0.6\", ec=\"none\"),\n",
    "    ha=\"left\",\n",
    ")"
   ]
  }
 ],
 "metadata": {
  "hide_input": false,
  "kernelspec": {
   "display_name": "Python 3 (ipykernel)",
   "language": "python",
   "name": "python3"
  },
  "language_info": {
   "codemirror_mode": {
    "name": "ipython",
    "version": 3
   },
   "file_extension": ".py",
   "mimetype": "text/x-python",
   "name": "python",
   "nbconvert_exporter": "python",
   "pygments_lexer": "ipython3",
   "version": "3.9.14"
  }
 },
 "nbformat": 4,
 "nbformat_minor": 4
}
