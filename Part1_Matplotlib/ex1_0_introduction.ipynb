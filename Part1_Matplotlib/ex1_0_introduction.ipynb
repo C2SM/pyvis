{
 "cells": [
  {
   "cell_type": "markdown",
   "metadata": {},
   "source": [
    "# Introduction to matplotlib\n",
    "prepared by M.Hauser\n",
    "\n",
    "matplotlib is the main and most used plotting library in python. Most other plotting libraries (or libraries providing dedicated/ specialized plotting functionalities) use matplotlib in their core."
   ]
  },
  {
   "cell_type": "markdown",
   "metadata": {},
   "source": [
    "## Importing matplotlib\n",
    "\n",
    "The standard abbreviation for matplotlib imports are `mpl` for matplotlib and `plt` for pyplot.\n"
   ]
  },
  {
   "cell_type": "code",
   "execution_count": null,
   "metadata": {},
   "outputs": [],
   "source": [
    "import matplotlib as mpl\n",
    "import matplotlib.pyplot as plt\n",
    "import numpy as np"
   ]
  },
  {
   "cell_type": "markdown",
   "metadata": {},
   "source": [
    "You will mostly use `plt`, which yields the api for most of the plotting functionality. Let's do a plot."
   ]
  },
  {
   "cell_type": "code",
   "execution_count": null,
   "metadata": {},
   "outputs": [],
   "source": [
    "x = np.arange(0, 10, 0.1)\n",
    "\n",
    "f, ax = plt.subplots()\n",
    "ax.plot(x, np.sin(x));"
   ]
  },
  {
   "cell_type": "markdown",
   "metadata": {},
   "source": [
    "## How to display a figure\n",
    "\n",
    " * jupyter lab/ jupyter notebook (formerly IPython notebook) - as we use in this course\n",
    " * interactive IPython session\n",
    " * (I)Python script\n",
    "\n",
    "Note that you will need to `import matplotlib.pyplot as plt` in all of them. "
   ]
  },
  {
   "cell_type": "markdown",
   "metadata": {},
   "source": [
    "### jupyter notebook\n",
    "\n",
    "jupyter lab should directly show plots as output of its code:"
   ]
  },
  {
   "cell_type": "code",
   "execution_count": null,
   "metadata": {},
   "outputs": [],
   "source": [
    "x = np.arange(0, 10, 0.1)\n",
    "\n",
    "f, ax = plt.subplots()\n",
    "ax.plot(x, np.sin(x));"
   ]
  },
  {
   "cell_type": "markdown",
   "metadata": {},
   "source": [
    "### IPython session\n",
    "\n",
    "<b>(Skip this when using JupyterHub. Try this on your local machine later.) </b>\n",
    "\n",
    "For interactive IPython sessions, the recommended way to allow displaying figures is calling `%matplotlib` at the beginning of the session. This will open a figure window each time a new one is created. The figure should update itself every time a new plotting command is issued. If it does not, you will need to call `plt.draw()`. You can try it out by opening a console.\n",
    "\n",
    "\n",
    "``` bash\n",
    "$ ipython\n",
    "```\n",
    "Python 3.11 ...\n",
    "\n",
    "``` ipython\n",
    "In [1]: %matplotlib\n",
    "Using matplotlib backend: Qt4Agg\n",
    "\n",
    "In [2]: import numpy as np\n",
    "\n",
    "In [3]: import matplotlib.pyplot as plt\n",
    "\n",
    "In [4]: x = np.arange(0, 10, 0.1)\n",
    "\n",
    "In [5]: f, ax = plt.subplots()\n",
    "\n",
    "In [6]: h = ax.plot(x, np.sin(x))\n",
    "\n",
    "...\n",
    "    \n",
    "```"
   ]
  },
  {
   "cell_type": "markdown",
   "metadata": {},
   "source": [
    "### Python script\n",
    "\n",
    "If you write a script you usually save the figure (see below) and view the resulting file. If you don't want to save the figure but you still want to see it, you need to issue a `plt.show()` command.\n",
    "\n",
    "\n",
    "``` python\n",
    "# ---- file: script.py\n",
    "\n",
    "import numpy as np\n",
    "import matplotlib.pyplot as plt\n",
    "\n",
    "x = np.arange(0, 10, 0.1)\n",
    "\n",
    "f, ax = plt.subplots()\n",
    "ax.plot(x, np.sin(x))\n",
    "\n",
    "plt.show()\n",
    "```"
   ]
  },
  {
   "cell_type": "markdown",
   "metadata": {},
   "source": [
    "## Saving figures\n",
    "\n",
    "matplotlib can save figures to a large number of formats. You use the `f.savefig` command to do so (where `f`  is a figure handle) alternatively `plt.savefig` also works. The format of the figure is inferred from the file name. \n",
    "\n",
    "Note\n",
    "> Even in the jupyter notebooks you will still need to manually save all figures that you want to have as a pdf, png, ... \n"
   ]
  },
  {
   "cell_type": "code",
   "execution_count": null,
   "metadata": {},
   "outputs": [],
   "source": [
    "x = np.arange(0, 10, 0.1)\n",
    "\n",
    "f, ax = plt.subplots()\n",
    "ax.plot(x, np.sin(x))\n",
    "\n",
    "# save as pdf\n",
    "f.savefig(\"figure.pdf\")"
   ]
  },
  {
   "cell_type": "markdown",
   "metadata": {},
   "source": [
    "> The following may not work in Windows - just have a look at the current folder."
   ]
  },
  {
   "cell_type": "code",
   "execution_count": null,
   "metadata": {},
   "outputs": [],
   "source": [
    "! ls figure.pdf"
   ]
  },
  {
   "cell_type": "code",
   "execution_count": null,
   "metadata": {},
   "outputs": [],
   "source": [
    "# save as png\n",
    "f.savefig(\"figure.png\")"
   ]
  },
  {
   "cell_type": "code",
   "execution_count": null,
   "metadata": {},
   "outputs": [],
   "source": [
    "# adjusting the resolution\n",
    "f.savefig(\"figure_300.png\", dpi=300)"
   ]
  },
  {
   "cell_type": "markdown",
   "metadata": {},
   "source": [
    "> The following may not work in Windows - just have a look at the current folder."
   ]
  },
  {
   "cell_type": "code",
   "execution_count": null,
   "metadata": {},
   "outputs": [],
   "source": [
    "# check out the figures size\n",
    "\n",
    "! ls -lh figure*.png"
   ]
  },
  {
   "cell_type": "markdown",
   "metadata": {},
   "source": [
    "The following file types are supported on this system:"
   ]
  },
  {
   "cell_type": "code",
   "execution_count": null,
   "metadata": {},
   "outputs": [],
   "source": [
    "f.canvas.get_supported_filetypes()"
   ]
  },
  {
   "cell_type": "markdown",
   "metadata": {},
   "source": [
    "## Adjusting the figure size\n",
    "\n",
    "The figure size can be set in various ways. I usually use `f.set_size_inches(width, height)`. There is no `f.set_size_cm`..., so I divide my desired figure size in cm by 2.54.\n",
    "\n",
    "Per default a figure is 6 x 4 inches (15.24 x 10.16 cm)."
   ]
  },
  {
   "cell_type": "code",
   "execution_count": null,
   "metadata": {},
   "outputs": [],
   "source": [
    "f, ax = plt.subplots()\n",
    "\n",
    "print(\"Default size:\", f.get_size_inches() * 2.54)\n",
    "\n",
    "f.set_size_inches(10 / 2.54, 5 / 2.54)\n",
    "\n",
    "ax.plot(x, np.sin(x))\n",
    "\n",
    "print(\"Manually set size:\", f.get_size_inches() * 2.54)"
   ]
  },
  {
   "cell_type": "markdown",
   "metadata": {},
   "source": [
    "## Changing the figure size in `jupyter notebook`\n",
    "\n",
    "You can change the size of the figures displayed in the jupyter notebook by adapting the default dpi of the `savefig` command:"
   ]
  },
  {
   "cell_type": "code",
   "execution_count": null,
   "metadata": {},
   "outputs": [],
   "source": [
    "# let's get the default\n",
    "default_dpi = mpl.rcParams[\"figure.dpi\"]\n",
    "default_dpi"
   ]
  },
  {
   "cell_type": "code",
   "execution_count": null,
   "metadata": {},
   "outputs": [],
   "source": [
    "f, ax = plt.subplots()\n",
    "ax.plot(x, np.sin(x));"
   ]
  },
  {
   "cell_type": "code",
   "execution_count": null,
   "metadata": {},
   "outputs": [],
   "source": [
    "# you may have to execute this cell twice\n",
    "mpl.rcParams[\"figure.dpi\"] = 150"
   ]
  },
  {
   "cell_type": "code",
   "execution_count": null,
   "metadata": {},
   "outputs": [],
   "source": [
    "f, ax = plt.subplots()\n",
    "ax.plot(x, np.sin(x));"
   ]
  },
  {
   "cell_type": "markdown",
   "metadata": {},
   "source": [
    "<font size=\"5\"><b>Matplotlib terminology</b></font>\n",
    "\n",
    "<font size=\"4\"><b>axis, axes, subplots, figure, spines, …</b></font>\n",
    "\n"
   ]
  },
  {
   "cell_type": "markdown",
   "metadata": {},
   "source": [
    "<img src=\"../figures/summary/matplotlib_terminology/1.png\"   width=\"300\">\n",
    "<img src=\"../figures/summary/matplotlib_terminology/2.png\"   width=\"300\">"
   ]
  },
  {
   "cell_type": "code",
   "execution_count": null,
   "metadata": {},
   "outputs": [],
   "source": []
  },
  {
   "cell_type": "markdown",
   "metadata": {},
   "source": [
    "<img src=\"../figures/summary/matplotlib_terminology/3.png\"   width=\"500\">"
   ]
  },
  {
   "cell_type": "code",
   "execution_count": null,
   "metadata": {},
   "outputs": [],
   "source": []
  },
  {
   "cell_type": "markdown",
   "metadata": {},
   "source": [
    "<img src=\"../figures/summary/matplotlib_terminology/4.png\"   width=\"500\">"
   ]
  },
  {
   "cell_type": "code",
   "execution_count": null,
   "metadata": {},
   "outputs": [],
   "source": []
  },
  {
   "cell_type": "markdown",
   "metadata": {},
   "source": [
    "<img src=\"../figures/summary/matplotlib_terminology/5.png\"   width=\"500\">"
   ]
  },
  {
   "cell_type": "code",
   "execution_count": null,
   "metadata": {},
   "outputs": [],
   "source": []
  },
  {
   "cell_type": "markdown",
   "metadata": {},
   "source": [
    "<img src=\"../figures/summary/matplotlib_terminology/6.png\"   width=\"500\">"
   ]
  },
  {
   "cell_type": "code",
   "execution_count": null,
   "metadata": {},
   "outputs": [],
   "source": []
  },
  {
   "cell_type": "markdown",
   "metadata": {},
   "source": [
    "<img src=\"../figures/summary/matplotlib_terminology/7.png\"   width=\"500\">"
   ]
  },
  {
   "cell_type": "code",
   "execution_count": null,
   "metadata": {},
   "outputs": [],
   "source": []
  }
 ],
 "metadata": {
  "kernelspec": {
   "display_name": "Python 3 (ipykernel)",
   "language": "python",
   "name": "python3"
  },
  "language_info": {
   "codemirror_mode": {
    "name": "ipython",
    "version": 3
   },
   "file_extension": ".py",
   "mimetype": "text/x-python",
   "name": "python",
   "nbconvert_exporter": "python",
   "pygments_lexer": "ipython3",
   "version": "3.8.12"
  },
  "toc": {
   "base_numbering": 1,
   "nav_menu": {},
   "number_sections": true,
   "sideBar": true,
   "skip_h1_title": false,
   "title_cell": "Table of Contents",
   "title_sidebar": "Contents",
   "toc_cell": false,
   "toc_position": {},
   "toc_section_display": true,
   "toc_window_display": false
  }
 },
 "nbformat": 4,
 "nbformat_minor": 4
}
