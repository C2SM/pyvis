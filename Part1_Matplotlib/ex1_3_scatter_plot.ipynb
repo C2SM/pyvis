{
 "cells": [
  {
   "cell_type": "markdown",
   "metadata": {},
   "source": [
    "# Exercise 1.3 - Scatter plots\n",
    "prepared by M.Hauser\n",
    "\n",
    "In this exercise we will learn how to create scatter plots."
   ]
  },
  {
   "cell_type": "code",
   "execution_count": null,
   "metadata": {},
   "outputs": [],
   "source": [
    "import matplotlib.pyplot as plt\n",
    "import numpy as np\n",
    "import xarray as xr"
   ]
  },
  {
   "cell_type": "markdown",
   "metadata": {},
   "source": [
    "## Create sample data"
   ]
  },
  {
   "cell_type": "code",
   "execution_count": null,
   "metadata": {},
   "outputs": [],
   "source": [
    "N = 50\n",
    "x = np.random.rand(N)\n",
    "y = np.random.rand(N)"
   ]
  },
  {
   "cell_type": "markdown",
   "metadata": {},
   "source": [
    "## Climatological Station Data for Switzerland - Temperature & Precip\n",
    "\n",
    "We use data of the 14 Swiss weather stations available from MeteoSwiss.\n",
    "\n",
    "The data has already been [retrieved and postprocessed](../data/prepare_data_MCH.ipynb).\n",
    "\n",
    "First we load:\n",
    "* the climatology of temperature and precipitation, and\n",
    "* the outline of Switzerland in lon/lat coordinates."
   ]
  },
  {
   "cell_type": "code",
   "execution_count": null,
   "metadata": {},
   "outputs": [],
   "source": [
    "# load outline of switzerland\n",
    "\n",
    "file = \"../data/outline_switzerland.nc\"\n",
    "\n",
    "coords_ch = xr.open_dataset(file)\n",
    "\n",
    "lon_ch = coords_ch.lon.values\n",
    "lat_ch = coords_ch.lat.values\n",
    "\n",
    "# =====================================\n",
    "\n",
    "# load climatological station data\n",
    "\n",
    "file = \"../data/MCH_clim.nc\"\n",
    "ds = xr.open_dataset(file)\n",
    "\n",
    "lon = ds.lon.values\n",
    "lat = ds.lat.values\n",
    "\n",
    "temp = ds.temp.values\n",
    "prec = ds.prec.values\n",
    "station = ds.station.values"
   ]
  },
  {
   "cell_type": "markdown",
   "metadata": {},
   "source": [
    "> Again, we read the data as numpy arrays. Outside of this exercise I would most likely keep them as xarray objects."
   ]
  },
  {
   "cell_type": "markdown",
   "metadata": {},
   "source": [
    "## Scatterplot\n",
    "\n",
    "using `plt.scatter(x, y)` we can create a simple scatterplot:\n"
   ]
  },
  {
   "cell_type": "code",
   "execution_count": null,
   "metadata": {},
   "outputs": [],
   "source": [
    "plt.scatter(x, y)"
   ]
  },
  {
   "cell_type": "markdown",
   "metadata": {},
   "source": [
    "### Exercise\n",
    "\n",
    " * Plot the position (`lon`, `lat`) of the meteorological stations"
   ]
  },
  {
   "cell_type": "code",
   "execution_count": null,
   "metadata": {},
   "outputs": [],
   "source": [
    "# start with the outline of switzerland\n",
    "\n",
    "f, ax = plt.subplots()\n",
    "ax.plot(lon_ch, lat_ch)\n",
    "\n",
    "# code here"
   ]
  },
  {
   "cell_type": "markdown",
   "metadata": {},
   "source": [
    "### Solution"
   ]
  },
  {
   "cell_type": "code",
   "execution_count": null,
   "metadata": {
    "hide_input": true,
    "tags": [
     "solution"
    ]
   },
   "outputs": [],
   "source": [
    "# start with the outline of switzerland\n",
    "\n",
    "f, ax = plt.subplots()\n",
    "ax.plot(lon_ch, lat_ch)\n",
    "\n",
    "ax.scatter(lon, lat)"
   ]
  },
  {
   "cell_type": "markdown",
   "metadata": {},
   "source": [
    "## Markers\n",
    "\n",
    "pyplot offers a [range of markers](https://matplotlib.org/api/markers_api.html). They can be set with the `marker` keyword. Note that you can only specify one set of markers per `plt.scatter` command."
   ]
  },
  {
   "cell_type": "code",
   "execution_count": null,
   "metadata": {},
   "outputs": [],
   "source": [
    "plt.scatter(x, y, marker=\"d\")"
   ]
  },
  {
   "cell_type": "markdown",
   "metadata": {},
   "source": [
    "## Scatterplot with `plt.plot`\n",
    "\n",
    "Note that we can create a scatterplot with `plt.plot`, if we set the `linestyle=\"\"`, and `marker=\"o\"`. Indeed, one can use this instead of `plt.scatter`. Using `plt.plot` is faster than using `plt.scatter`. However, there are some things that can only be done with `scatter` - see examples below."
   ]
  },
  {
   "cell_type": "code",
   "execution_count": null,
   "metadata": {},
   "outputs": [],
   "source": [
    "plt.plot(x, y, marker=\"o\", linestyle=\"\")"
   ]
  },
  {
   "cell_type": "markdown",
   "metadata": {},
   "source": [
    "There are many properties you can set to adjust your scatterplot:"
   ]
  },
  {
   "cell_type": "code",
   "execution_count": null,
   "metadata": {},
   "outputs": [],
   "source": [
    "plt.plot(\n",
    "    x,\n",
    "    y,\n",
    "    linestyle=\"\",\n",
    "    marker=\"s\",\n",
    "    markersize=12,\n",
    "    markerfacecolor=\"0.75\",\n",
    "    markeredgecolor=\"green\",\n",
    "    markeredgewidth=1,\n",
    ")"
   ]
  },
  {
   "cell_type": "markdown",
   "metadata": {},
   "source": [
    "## Colors\n",
    "\n",
    "Going back to `scatter`, colors can be set with the `colors` or `c` keyword - however these keywords are not equal in their functionality. Both can take a list of colors (e.g. `[\"r\", \"g\", \"b\"]`)."
   ]
  },
  {
   "cell_type": "code",
   "execution_count": null,
   "metadata": {},
   "outputs": [],
   "source": [
    "# construct a list with 50 elements\n",
    "colors = [\"r\", \"g\"] * 25\n",
    "\n",
    "f, axs = plt.subplots(1, 2)\n",
    "\n",
    "ax = axs[0]\n",
    "ax.scatter(x, y, color=colors)\n",
    "ax.set_title(\"color=colors\")\n",
    "\n",
    "ax = axs[1]\n",
    "ax.scatter(x, y, c=colors)\n",
    "ax.set_title(\"c=colors\")\n",
    "\n",
    "plt.setp(axs, aspect=\"equal\");"
   ]
  },
  {
   "cell_type": "markdown",
   "metadata": {},
   "source": [
    "## Mapping colors\n",
    "\n",
    "I.e., in this example `c` and `colors` behave the same. However, `c` can also take values, then the color of each point is according to the given value."
   ]
  },
  {
   "cell_type": "code",
   "execution_count": null,
   "metadata": {},
   "outputs": [],
   "source": [
    "values = np.random.rand(N) * 100\n",
    "\n",
    "f, ax = plt.subplots()\n",
    "\n",
    "h = ax.scatter(x, y, c=values)\n",
    "\n",
    "f.colorbar(h)"
   ]
  },
  {
   "cell_type": "code",
   "execution_count": null,
   "metadata": {},
   "outputs": [],
   "source": [
    "# uncomment to get the docstring\n",
    "# plt.scatter?"
   ]
  },
  {
   "cell_type": "markdown",
   "metadata": {},
   "source": [
    "## Colorbar\n",
    "\n",
    "This is the first time we added a colorbar. Because colorbar is a new `axes` instance, it is a function of the figure (`f.colorbar`), but you can also call it with `plt.colorbar`. Colorbars take a `mappable` argument - so that they know which colors and data range to display. `scatter` returns such a `mappable`, I usually call it `h` (for handle). Other plot functions that return a `mappable` are e.g. `pcolormesh` or `contourf` (see later).\n",
    "\n",
    "We will learn more about colorbars in [Exercise 1.5](ex1_5_histograms_colorbars.ipynb) and [Exercise 2.4](../Part2_Mapplots/ex2_4_colorbars.ipynb)."
   ]
  },
  {
   "cell_type": "markdown",
   "metadata": {},
   "source": [
    "### Exercise\n",
    "\n",
    " * Try passing `values` to `color`.\n",
    "    \n",
    "``` ipython\n",
    "plt.scatter(x, y, color=values)\n",
    "```"
   ]
  },
  {
   "cell_type": "code",
   "execution_count": null,
   "metadata": {},
   "outputs": [],
   "source": [
    "# code here"
   ]
  },
  {
   "cell_type": "markdown",
   "metadata": {},
   "source": [
    "### Solution\n",
    "This creates an error."
   ]
  },
  {
   "cell_type": "markdown",
   "metadata": {},
   "source": [
    "### Exercise\n",
    " * Color the scatterpoints according to the climatological temperature at the stations (`temp`)\n",
    " * Add a colorbar\n",
    " * Use the `label` keyword in `plt.colorbar` to indicate that the data is `\"Temperature (°C)\"`"
   ]
  },
  {
   "cell_type": "code",
   "execution_count": null,
   "metadata": {},
   "outputs": [],
   "source": [
    "f, ax = plt.subplots()\n",
    "\n",
    "ax.plot(lon_ch, lat_ch)\n",
    "\n",
    "# adjust the scatter command\n",
    "h = ax.scatter(lon, lat)\n",
    "\n",
    "# add colorbar"
   ]
  },
  {
   "cell_type": "markdown",
   "metadata": {},
   "source": [
    "### Solution"
   ]
  },
  {
   "cell_type": "code",
   "execution_count": null,
   "metadata": {
    "hide_input": true,
    "tags": [
     "solution"
    ]
   },
   "outputs": [],
   "source": [
    "f, ax = plt.subplots()\n",
    "\n",
    "ax.plot(lon_ch, lat_ch)\n",
    "\n",
    "h = ax.scatter(lon, lat, c=temp)\n",
    "\n",
    "h = plt.colorbar(h, label=\"Temperature (°C)\")"
   ]
  },
  {
   "cell_type": "markdown",
   "metadata": {},
   "source": [
    "This is not yet entirely what we want - we would like the range of the colors to be symmetrical around 0 °C and positive temperature should be red and negative blue...\n",
    "\n",
    "## Colormaps\n",
    "\n",
    "The chosen colors are according to the default colormap of matplotlib, `\"viridis\"`. There are probably about [100 colormaps you can choose from](https://matplotlib.org/users/colormaps.html). However, not all of them are recommended. Colormaps can be set using the `cmap` keyword argument.\n",
    "\n",
    "`vmin` and `vmax` set the range of the colormap."
   ]
  },
  {
   "cell_type": "code",
   "execution_count": null,
   "metadata": {},
   "outputs": [],
   "source": [
    "h = plt.scatter(x, y, c=values, vmin=0, vmax=100, cmap=\"Reds\")\n",
    "\n",
    "plt.colorbar(h)"
   ]
  },
  {
   "cell_type": "markdown",
   "metadata": {},
   "source": [
    "### Exercise\n",
    "\n",
    "* Use the `RdBu_r` colormap.\n",
    "* Ensure that the color range goes from -8 to 8.\n",
    "* Draw a light gray line around each point, so that all of them can be clearly seen (hint: `edgecolor`)."
   ]
  },
  {
   "cell_type": "code",
   "execution_count": null,
   "metadata": {},
   "outputs": [],
   "source": [
    "f, ax = plt.subplots()\n",
    "\n",
    "ax.plot(lon_ch, lat_ch)\n",
    "\n",
    "# adjust scatter\n",
    "h = ax.scatter(lon, lat, c=temp)\n",
    "\n",
    "h = plt.colorbar(h, label=\"Temperature (°C)\")"
   ]
  },
  {
   "cell_type": "markdown",
   "metadata": {},
   "source": [
    "### Solution"
   ]
  },
  {
   "cell_type": "code",
   "execution_count": null,
   "metadata": {
    "hide_input": true,
    "tags": [
     "solution"
    ]
   },
   "outputs": [],
   "source": [
    "f, ax = plt.subplots()\n",
    "\n",
    "ax.plot(lon_ch, lat_ch)\n",
    "h = ax.scatter(lon, lat, c=temp, cmap=\"RdBu_r\", vmax=8, vmin=-8, edgecolor=\"0.5\")\n",
    "\n",
    "plt.colorbar(h, label=\"Temperature (°C)\")"
   ]
  },
  {
   "cell_type": "markdown",
   "metadata": {},
   "source": [
    "## Marker size\n",
    "\n",
    "The size of each point can be set with the `s` keyword.\n",
    "\n",
    "Note: normally you specify sizes as the width (or height) of an element (e.g. `linewidth` or `markersize`). However, `s` is the size in `points^2`. Thus, the following two points have the same size (see below):\n",
    "\n",
    "```python\n",
    "plt.plot(0, 1, marker=\"o\", markersize=22)\n",
    "plt.scatter(1, 1, s=22**2)\n",
    "```\n",
    "    \n",
    "Why is that? Because our brain uses the area and not the width/ height to interpret importance. So if something is twice as large it should have twice the area and not twice the width/ height, see this [stackoverflow question](https://stackoverflow.com/questions/14827650/pyplot-scatter-plot-marker-size).\n",
    "\n"
   ]
  },
  {
   "cell_type": "code",
   "execution_count": null,
   "metadata": {},
   "outputs": [],
   "source": [
    "fig, ax = plt.subplots()\n",
    "\n",
    "ax.plot(-1, 1, marker=\"o\", markersize=22)\n",
    "ax.scatter(1, 1, s=22**2)\n",
    "\n",
    "ax.set_xlim(-5, 5)"
   ]
  },
  {
   "cell_type": "code",
   "execution_count": null,
   "metadata": {},
   "outputs": [],
   "source": [
    "# 0 to 15 point radii\n",
    "area = (15 * np.random.rand(N)) ** 2\n",
    "\n",
    "plt.scatter(x, y, c=values, s=area);"
   ]
  },
  {
   "cell_type": "markdown",
   "metadata": {},
   "source": [
    "### Exercise\n",
    " * Set the size of the points according to the mean precipitation (`prec`) \n",
    " * Make sure the points are plotted above the map outline, using the `zorder` keyword."
   ]
  },
  {
   "cell_type": "code",
   "execution_count": null,
   "metadata": {},
   "outputs": [],
   "source": [
    "f, ax = plt.subplots()\n",
    "\n",
    "ax.plot(lon_ch, lat_ch)\n",
    "\n",
    "# adjust the scatter command\n",
    "h = ax.scatter(lon, lat, c=temp, cmap=\"RdBu_r\", vmax=8, vmin=-8, edgecolor=\"0.5\")\n",
    "\n",
    "plt.colorbar(h, label=\"Temperature (°C)\")"
   ]
  },
  {
   "cell_type": "markdown",
   "metadata": {},
   "source": [
    "### Solution"
   ]
  },
  {
   "cell_type": "code",
   "execution_count": null,
   "metadata": {
    "hide_input": true,
    "tags": [
     "solution"
    ]
   },
   "outputs": [],
   "source": [
    "f, ax = plt.subplots()\n",
    "\n",
    "ax.plot(lon_ch, lat_ch)\n",
    "h = ax.scatter(\n",
    "    lon, lat, c=temp, cmap=\"RdBu_r\", vmax=8, vmin=-8, edgecolor=\"0.5\", s=prec, zorder=3\n",
    ")\n",
    "\n",
    "plt.colorbar(h, label=\"Temperature (°C)\")"
   ]
  },
  {
   "cell_type": "markdown",
   "metadata": {},
   "source": [
    "### Exercise\n",
    "\n",
    "The visualization above is not optimal, yet. We'll have to rescale the precipitation for a more reasonable size. \n",
    "\n",
    "  * Set the size according to the mean precipitation, use a size of 50 for the smallest value and a size of 250 for the highest precipitation value.\n",
    "  "
   ]
  },
  {
   "cell_type": "code",
   "execution_count": null,
   "metadata": {},
   "outputs": [],
   "source": [
    "mn = prec.min()\n",
    "mx = prec.max()\n",
    "\n",
    "# scale the precipitation\n",
    "# p_scaled = ...\n",
    "\n",
    "# ======================\n",
    "\n",
    "f, ax = plt.subplots()\n",
    "\n",
    "ax.plot(lon_ch, lat_ch)\n",
    "\n",
    "# replace prec by p_scaled\n",
    "h = ax.scatter(\n",
    "    lon, lat, c=temp, cmap=\"RdBu_r\", vmax=8, vmin=-8, edgecolor=\"0.5\", s=prec, zorder=3\n",
    ")\n",
    "\n",
    "plt.colorbar(h, label=\"Temperature (°C)\")"
   ]
  },
  {
   "cell_type": "markdown",
   "metadata": {},
   "source": [
    "## Solution"
   ]
  },
  {
   "cell_type": "code",
   "execution_count": null,
   "metadata": {
    "hide_input": true,
    "tags": [
     "solution"
    ]
   },
   "outputs": [],
   "source": [
    "mn = prec.min()\n",
    "mx = prec.max()\n",
    "\n",
    "# scale the precipitation\n",
    "p_scaled = ((prec - mn) / (mx - mn)) * 200 + 50\n",
    "\n",
    "# ======================\n",
    "\n",
    "f, ax = plt.subplots()\n",
    "\n",
    "ax.plot(lon_ch, lat_ch)\n",
    "\n",
    "# replace prec by p_scaled\n",
    "h = ax.scatter(\n",
    "    lon,\n",
    "    lat,\n",
    "    c=temp,\n",
    "    cmap=\"RdBu_r\",\n",
    "    vmax=8,\n",
    "    vmin=-8,\n",
    "    edgecolor=\"0.5\",\n",
    "    s=p_scaled,\n",
    "    zorder=3,\n",
    ")\n",
    "\n",
    "plt.colorbar(h, label=\"Temperature (°C)\")"
   ]
  },
  {
   "cell_type": "markdown",
   "metadata": {},
   "source": [
    "## Bonus: Legends\n",
    "\n",
    "What is missing from the plot now is a legend, indicating that the size of the points corresponds to the amount of precipitation. We have already learned how to add a standard legend.\n",
    "\n",
    "With the `loc` keyword you can manually specify the position within the axes:\n",
    "\n",
    " * `\"best\"`\n",
    " * `\"lower right\"`\n",
    " * `\"right\"`\n",
    " * `\"upper right\"`\n",
    " * ...   \n",
    " \n",
    "We also want to remove the line around the legend frame. Therefore, we specify `edgecolor='none'`."
   ]
  },
  {
   "cell_type": "code",
   "execution_count": null,
   "metadata": {},
   "outputs": [],
   "source": [
    "h = plt.scatter(x, y, c=values, label=\"Legend entry\")\n",
    "\n",
    "legend = plt.legend(loc=\"upper left\", edgecolor=\"none\")"
   ]
  },
  {
   "cell_type": "markdown",
   "metadata": {},
   "source": [
    "### Dummy Plot\n",
    "\n",
    "You can add an empty `plot` (or `scatter`) function, that does not add any point/ line to the axes, but provides a legend entry. Sometimes this is the easiest way to create a custom legend entry."
   ]
  },
  {
   "cell_type": "code",
   "execution_count": null,
   "metadata": {},
   "outputs": [],
   "source": [
    "h = plt.plot([], label=\"empty plot function\")\n",
    "h = plt.scatter([], [], label=\"empty scatter function\")\n",
    "\n",
    "legend = plt.legend(loc=\"upper left\", edgecolor=\"none\")"
   ]
  },
  {
   "cell_type": "markdown",
   "metadata": {},
   "source": [
    "Assume that in our example `area` corresponds to an actual area in km$^2$. We can add legend entries as shown below. Note that we need to rescale `s` as we did above."
   ]
  },
  {
   "cell_type": "code",
   "execution_count": null,
   "metadata": {},
   "outputs": [],
   "source": [
    "plt.scatter(x, y, c=values, s=area)\n",
    "\n",
    "\n",
    "s = 5\n",
    "h = plt.scatter([], [], s=s**2, label=f\"{s} km$^2$\", facecolor=\"0.7\", edgecolor=\"0.4\")\n",
    "\n",
    "s = 10\n",
    "h = plt.scatter([], [], s=s**2, label=f\"{s} km$^2$\", facecolor=\"0.7\", edgecolor=\"0.4\")\n",
    "\n",
    "s = 15\n",
    "h = plt.scatter([], [], s=s**2, label=f\"{s} km$^2$\", facecolor=\"0.7\", edgecolor=\"0.4\")\n",
    "\n",
    "\n",
    "legend = plt.legend(loc=\"upper left\", edgecolor=\"none\")\n",
    "\n",
    "# the background of the legend is slightly transparent\n",
    "# we want to get rid of this\n",
    "frame = legend.get_frame()\n",
    "frame.set_alpha(1)"
   ]
  },
  {
   "cell_type": "markdown",
   "metadata": {},
   "source": [
    "### Exercise\n",
    "\n",
    " * Add a legend indicating annual mean precipitation for 1000 mm / yr, 1500 mm / yr, and 2000 mm / yr\n",
    " * Note that you will have to scale these values as you did for the original precipitation values\n",
    " * Put the legend at the top in the middle\n",
    " * Add a title to the legend `plt.legend(..., title=\"\")`\n",
    " * Try the keyword `ncol`, set it to 3\n",
    " * You may have to change the `y_lim` to make room for the legend"
   ]
  },
  {
   "cell_type": "code",
   "execution_count": null,
   "metadata": {},
   "outputs": [],
   "source": [
    "f, ax = plt.subplots()\n",
    "\n",
    "ax.plot(lon_ch, lat_ch)\n",
    "h = ax.scatter(\n",
    "    lon,\n",
    "    lat,\n",
    "    c=temp,\n",
    "    cmap=\"RdBu_r\",\n",
    "    vmax=8,\n",
    "    vmin=-8,\n",
    "    s=p_scaled,\n",
    "    edgecolor=\"0.5\",\n",
    "    zorder=3,\n",
    ")\n",
    "\n",
    "plt.colorbar(h, label=\"Temperature (°C)\")\n",
    "\n",
    "# code here\n",
    "\n",
    "for area in [1000, 1500, 2000]:\n",
    "    # size = ...\n",
    "\n",
    "    # ax.scatter(...)\n",
    "    pass\n",
    "\n",
    "# ax.legend(...)\n",
    "\n",
    "# ax.set_ylim(None, ...)"
   ]
  },
  {
   "cell_type": "markdown",
   "metadata": {},
   "source": [
    "### Solution"
   ]
  },
  {
   "cell_type": "code",
   "execution_count": null,
   "metadata": {
    "hide_input": true,
    "tags": [
     "solution"
    ]
   },
   "outputs": [],
   "source": [
    "f, ax = plt.subplots()\n",
    "\n",
    "ax.plot(lon_ch, lat_ch)\n",
    "\n",
    "h = ax.scatter(\n",
    "    lon,\n",
    "    lat,\n",
    "    c=temp,\n",
    "    cmap=\"RdBu_r\",\n",
    "    vmax=8,\n",
    "    vmin=-8,\n",
    "    s=p_scaled,\n",
    "    edgecolor=\"0.5\",\n",
    "    zorder=3,\n",
    ")\n",
    "\n",
    "plt.colorbar(h, label=\"Temperature (°C)\")\n",
    "\n",
    "# code here\n",
    "\n",
    "for area in [1000, 1500, 2000]:\n",
    "    size = ((area - mn) / (mx - mn)) * 200 + 50\n",
    "\n",
    "    ax.scatter([], [], c=\"0.85\", s=size, label=area, edgecolor=\"0.5\")\n",
    "\n",
    "\n",
    "ax.legend(title=\"Precipitation [mm / yr]\", loc=\"upper center\", ncol=3, edgecolor=\"none\")\n",
    "\n",
    "ax.set_ylim(None, 48.3)"
   ]
  }
 ],
 "metadata": {
  "hide_input": false,
  "kernelspec": {
   "display_name": "Python 3 (ipykernel)",
   "language": "python",
   "name": "python3"
  },
  "language_info": {
   "codemirror_mode": {
    "name": "ipython",
    "version": 3
   },
   "file_extension": ".py",
   "mimetype": "text/x-python",
   "name": "python",
   "nbconvert_exporter": "python",
   "pygments_lexer": "ipython3",
   "version": "3.9.16"
  },
  "toc": {
   "base_numbering": 1,
   "nav_menu": {},
   "number_sections": true,
   "sideBar": true,
   "skip_h1_title": false,
   "title_cell": "Table of Contents",
   "title_sidebar": "Contents",
   "toc_cell": false,
   "toc_position": {},
   "toc_section_display": true,
   "toc_window_display": false
  },
  "vscode": {
   "interpreter": {
    "hash": "767d51c1340bd893661ea55ea3124f6de3c7a262a8b4abca0554b478b1e2ff90"
   }
  }
 },
 "nbformat": 4,
 "nbformat_minor": 4
}
