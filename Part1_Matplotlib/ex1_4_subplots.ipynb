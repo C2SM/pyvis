{
 "cells": [
  {
   "cell_type": "markdown",
   "metadata": {},
   "source": [
    "# Exercise 1.4 - Multiple plots per figure\n",
    "prepared by M.Hauser\n",
    "\n",
    "Until now we used only one axes per figure. However you may want to add several subplots in the same figure. \n",
    "As mentioned earlier, it is possible to have more than one axes per figure in matplotlib."
   ]
  },
  {
   "cell_type": "code",
   "execution_count": null,
   "metadata": {
    "tags": []
   },
   "outputs": [],
   "source": [
    "import matplotlib.pyplot as plt"
   ]
  },
  {
   "cell_type": "markdown",
   "metadata": {},
   "source": [
    "## `plt.subplots` - simple grids\n",
    "\n",
    "Until now, we used `plt.subplots()` (notice the `s` at the end) to create a single axes, but it supports the `nrows` and `ncol` keywords to create regular grids.\n",
    "\n"
   ]
  },
  {
   "cell_type": "code",
   "execution_count": null,
   "metadata": {
    "tags": []
   },
   "outputs": [],
   "source": [
    "f, axs = plt.subplots(2, 3)"
   ]
  },
  {
   "cell_type": "markdown",
   "metadata": {},
   "source": [
    "## `hspace` and `wspace`\n",
    "\n",
    "This looks ok, but there is not enough space between the axes for the labels. You can adjust the space between the axes manually with `hspace` and `wspace` (`h` and `w` stands for height and width, respectively). Note that `hspace` and `wspace` are properties of the GridSpec (discussed later), so we have to pass it as `gridspec_kw`.\n",
    "\n",
    " * `wspace` the amount of width reserved for space between subplots, expressed as a fraction of the average axis width, default value = 0.2\n",
    " * `hspace`: the amount of height reserved for space between subplots, expressed as a fraction of the average axis height, default value = 0.2\n",
    "\n",
    "(I remember this as \"w(idth)space\" and \"h(eight)space\".)"
   ]
  },
  {
   "cell_type": "code",
   "execution_count": null,
   "metadata": {
    "tags": []
   },
   "outputs": [],
   "source": [
    "f, axs = plt.subplots(2, 3, gridspec_kw=dict(hspace=0.3, wspace=0.5))"
   ]
  },
  {
   "cell_type": "markdown",
   "metadata": {},
   "source": [
    "Note that `hspace` and `wspace` are relative measures:"
   ]
  },
  {
   "cell_type": "code",
   "execution_count": null,
   "metadata": {
    "tags": []
   },
   "outputs": [],
   "source": [
    "f, axs = plt.subplots(4, 3, gridspec_kw=dict(hspace=0.3, wspace=0.5))"
   ]
  },
  {
   "cell_type": "markdown",
   "metadata": {},
   "source": [
    "Alternatively, you can tell matplotlib to adjust the distances automatically. However, this may not always work (or may not work as you wish)."
   ]
  },
  {
   "cell_type": "code",
   "execution_count": null,
   "metadata": {
    "tags": []
   },
   "outputs": [],
   "source": [
    "f, axs = plt.subplots(2, 3, layout=\"constrained\")"
   ]
  },
  {
   "cell_type": "markdown",
   "metadata": {},
   "source": [
    "The axes can also share the x and y axis. This automatically removes the inner x and y ticks. \n",
    "\n",
    "Note that when sharing the axis, setting the x or y limit for one axes adjusts them for all the axes."
   ]
  },
  {
   "cell_type": "code",
   "execution_count": null,
   "metadata": {
    "tags": []
   },
   "outputs": [],
   "source": [
    "f, axs = plt.subplots(2, 3, sharex=True, sharey=True)\n",
    "\n",
    "ax = axs[0, 0]\n",
    "\n",
    "ax.set_xlim(-0.5, 0.5)"
   ]
  },
  {
   "cell_type": "markdown",
   "metadata": {},
   "source": [
    "Note the x-axis.\n",
    "\n",
    "\n",
    "\n",
    "If you have more than one column and more than one row of axes, `axs` is a 2D array. We use the abbreviation `axs` instead of `axes` to differentiate single Axes instances from a collection of Axes instances."
   ]
  },
  {
   "cell_type": "code",
   "execution_count": null,
   "metadata": {
    "tags": []
   },
   "outputs": [],
   "source": [
    "print(axs.shape)\n",
    "\n",
    "axs"
   ]
  },
  {
   "cell_type": "markdown",
   "metadata": {},
   "source": [
    "Let's see the order of the axes in the array:"
   ]
  },
  {
   "cell_type": "code",
   "execution_count": null,
   "metadata": {
    "tags": []
   },
   "outputs": [],
   "source": [
    "f, axs = plt.subplots(2, 3, sharex=True, sharey=True)\n",
    "\n",
    "# axes are in a two-dimensional array, indexed by [row, col]\n",
    "for i in range(2):\n",
    "    for j in range(3):\n",
    "        axs[i, j].text(0.5, 0.5, f\"({i}, {j})\", fontsize=16, ha=\"center\", va=\"center\")"
   ]
  },
  {
   "cell_type": "markdown",
   "metadata": {},
   "source": [
    "Because I don't find it very convenient to address the axes as `axs[i, j]` I often `flatten` them to a 1D array."
   ]
  },
  {
   "cell_type": "code",
   "execution_count": null,
   "metadata": {
    "tags": []
   },
   "outputs": [],
   "source": [
    "f, axs = plt.subplots(2, 3, sharex=True, sharey=True)\n",
    "\n",
    "axs = axs.flatten()\n",
    "\n",
    "# axs are now in a one-dimensional array, indexed by [index]\n",
    "for i, ax in enumerate(axs):\n",
    "    ax.text(0.5, 0.5, f\"({i})\", fontsize=16, ha=\"center\", va=\"center\")"
   ]
  },
  {
   "cell_type": "markdown",
   "metadata": {},
   "source": [
    "## Adding axes by hand (`plt.axes`)\n",
    "\n",
    "Axes can also be added by `plt.axes`. \n",
    "\n",
    "```python\n",
    "ax = plt.axes()\n",
    "```\n",
    "\n",
    "Using `ax = plt.axes()` creates the same axes object as `f, ax = plt.subplots(1, 1)`, but it does not return the figure handle (`f`). \n",
    "\n",
    "```python\n",
    "ax = plt.axes(rect)\n",
    "```\n",
    "\n",
    "With `ax = plt.axes(rect)` you can also specify the position of the new axes. The argument `rect` needs to have the form `rect = [left, bottom, width, height]`. The positions are given in the figure coordinate system, which ranges from 0 at the bottom left of the figure to 1 at the top right of the figure.\n",
    "\n",
    "For example, to create an inset in the top right corner, we could do the following."
   ]
  },
  {
   "cell_type": "code",
   "execution_count": null,
   "metadata": {
    "tags": []
   },
   "outputs": [],
   "source": [
    "ax1 = plt.axes()\n",
    "ax2 = plt.axes([0.6, 0.6, 0.27, 0.25])"
   ]
  },
  {
   "cell_type": "markdown",
   "metadata": {},
   "source": [
    "As mentioned in the presentation: `ax1` and `ax2` are instances of `plt.Axes`, but only `ax1` is a `plt.Subplot`."
   ]
  },
  {
   "cell_type": "code",
   "execution_count": null,
   "metadata": {
    "tags": []
   },
   "outputs": [],
   "source": [
    "for ax in [ax1, ax2]:\n",
    "    print(ax)\n",
    "    print(f\" * {isinstance(ax1, plt.Axes)    = }\")\n",
    "    print(f\" * {isinstance(ax1, plt.Subplot) = }\")\n",
    "    print()"
   ]
  },
  {
   "cell_type": "markdown",
   "metadata": {},
   "source": [
    "## Arbitrary grids (`plt.Gridspec`)\n",
    "\n",
    "If you need axes that are not all of the same size but are irregular, i.e. may span several rows and/or columns, you  can create them with `plt.GridSpec`. This is a 2-step process, you first need to create a grid by calling `grid = plt.GridSpec(nrows, ncols)` and then create the single axes with `plt.subplot`.\n"
   ]
  },
  {
   "cell_type": "code",
   "execution_count": null,
   "metadata": {
    "tags": []
   },
   "outputs": [],
   "source": [
    "# create grid\n",
    "grid = plt.GridSpec(3, 3)\n",
    "\n",
    "ax1 = plt.subplot(grid[0, :])\n",
    "ax2 = plt.subplot(grid[1:3, :2])\n",
    "ax3 = plt.subplot(grid[1, 2])\n",
    "ax4 = plt.subplot(grid[2, 2]);"
   ]
  },
  {
   "cell_type": "markdown",
   "metadata": {},
   "source": [
    "Here you can specify `hspace` and `wspace` directly: "
   ]
  },
  {
   "cell_type": "code",
   "execution_count": null,
   "metadata": {},
   "outputs": [],
   "source": [
    "# create grid\n",
    "grid = plt.GridSpec(3, 3, hspace=0.5, wspace=0.3)\n",
    "\n",
    "ax1 = plt.subplot(grid[0, :])\n",
    "ax2 = plt.subplot(grid[1:3, :2])\n",
    "ax3 = plt.subplot(grid[1, 2])\n",
    "ax4 = plt.subplot(grid[2, 2]);"
   ]
  },
  {
   "cell_type": "markdown",
   "metadata": {},
   "source": [
    "_constrained layout_ also works:"
   ]
  },
  {
   "cell_type": "code",
   "execution_count": null,
   "metadata": {},
   "outputs": [],
   "source": [
    "f = plt.figure(layout=\"constrained\")\n",
    "\n",
    "# create grid\n",
    "grid = plt.GridSpec(3, 3, figure=f)\n",
    "\n",
    "ax1 = plt.subplot(grid[0, :])\n",
    "ax2 = plt.subplot(grid[1:3, :2])\n",
    "ax3 = plt.subplot(grid[1, 2])\n",
    "ax4 = plt.subplot(grid[2, 2])"
   ]
  },
  {
   "cell_type": "markdown",
   "metadata": {},
   "source": [
    "## Exercises\n",
    "\n"
   ]
  },
  {
   "cell_type": "markdown",
   "metadata": {},
   "source": [
    "### Load Data\n",
    "\n",
    "We will again use the station data (Temperature & Precip) for Switzerland, but this time we will use the time series instead of the climatology.\n",
    "\n",
    "The data is available from MeteoSwiss.\n",
    "\n",
    "The data has already been [retrieved and postprocessed](../data/prepare_data_MCH.ipynb)."
   ]
  },
  {
   "cell_type": "code",
   "execution_count": null,
   "metadata": {},
   "outputs": [],
   "source": [
    "import xarray as xr"
   ]
  },
  {
   "cell_type": "code",
   "execution_count": null,
   "metadata": {},
   "outputs": [],
   "source": [
    "def load_mch(station, annual=True):\n",
    "    fN = f\"../data/MCH_HOM_{station}.nc\"\n",
    "    ds = xr.open_dataset(fN, drop_variables=[\"station\", \"station_long\"])\n",
    "\n",
    "    if annual:\n",
    "        # create annual data\n",
    "        ds = ds.groupby(\"time.year\").mean(\"time\")\n",
    "\n",
    "    return ds\n",
    "\n",
    "\n",
    "BAS = load_mch(\"BAS\")\n",
    "BER = load_mch(\"BER\")\n",
    "GSB = load_mch(\"GSB\")\n",
    "DAV = load_mch(\"DAV\")\n",
    "\n",
    "LUG_monthly = load_mch(\"LUG\", False)\n",
    "ENG_monthly = load_mch(\"ENG\", False)"
   ]
  },
  {
   "cell_type": "markdown",
   "metadata": {},
   "source": [
    "### Exercise\n",
    "\n",
    " * Create a grid of Axes with 4 rows and 1 column\n",
    " * Populate the axes with the annual mean temperature of four stations\n",
    "   ```python\n",
    "   ax.plot(BAS.year, BAS.Temperature)\n",
    "   ```\n",
    " * Loop through the axes to add `\"T (°C)\"` as the ylabel.\n",
    " * Add the station names as titles (set `loc=\"left\"`)"
   ]
  },
  {
   "cell_type": "code",
   "execution_count": null,
   "metadata": {},
   "outputs": [],
   "source": [
    "station_names = (\"BAS\", \"BER\", \"GSB\", \"DAV\")\n",
    "# ====\n",
    "\n",
    "# code here\n",
    "# f, axs =\n",
    "\n",
    "# use this code to loop through the axes and station_names\n",
    "# for i, ax in enumerate(axs):\n",
    "#    station_names[i]"
   ]
  },
  {
   "cell_type": "markdown",
   "metadata": {},
   "source": [
    "### Solution"
   ]
  },
  {
   "cell_type": "code",
   "execution_count": null,
   "metadata": {},
   "outputs": [],
   "source": [
    "station_names = (\"BAS\", \"BER\", \"GSB\", \"DAV\")\n",
    "\n",
    "# ====\n",
    "\n",
    "f, axs = plt.subplots(4, 1, sharex=True, layout=\"constrained\")\n",
    "\n",
    "ax = axs[0]\n",
    "ax.plot(BAS.year, BAS.Temperature)\n",
    "\n",
    "ax = axs[1]\n",
    "ax.plot(BER.year, BER.Temperature)\n",
    "\n",
    "ax = axs[2]\n",
    "ax.plot(GSB.year, GSB.Temperature)\n",
    "\n",
    "ax = axs[3]\n",
    "ax.plot(DAV.year, DAV.Temperature)\n",
    "\n",
    "for i, ax in enumerate(axs):\n",
    "    ax.set_ylabel(\"T (°C)\")\n",
    "\n",
    "    ax.set_title(station_names[i], loc=\"left\")"
   ]
  },
  {
   "cell_type": "markdown",
   "metadata": {},
   "source": [
    "### Exercise\n",
    "Use the following code and\n",
    " * Manually add an axes in the top left corner\n",
    " * Add the data for the years 2000 to 2010 (`BAS_sel`)\n",
    " * Test what happens if you use `layout=\"constrained\"`"
   ]
  },
  {
   "cell_type": "code",
   "execution_count": null,
   "metadata": {},
   "outputs": [],
   "source": [
    "f, ax = plt.subplots()\n",
    "\n",
    "ax.plot(BAS.year, BAS.Temperature)\n",
    "\n",
    "ax.set_ylim(None, 12.5)\n",
    "\n",
    "BAS_sel = BAS.sel(year=slice(2000, 2010))\n",
    "\n",
    "# code here\n"
   ]
  },
  {
   "cell_type": "markdown",
   "metadata": {},
   "source": [
    "### Solution"
   ]
  },
  {
   "cell_type": "code",
   "execution_count": null,
   "metadata": {
    "hide_input": true,
    "tags": [
     "solution"
    ]
   },
   "outputs": [],
   "source": [
    "f, ax = plt.subplots()\n",
    "\n",
    "#f, ax = plt.subplots(layout=\"constrained\")\n",
    "\n",
    "ax.plot(BAS.year, BAS.Temperature)\n",
    "\n",
    "ax.set_ylim(None, 12.5)\n",
    "\n",
    "BAS_sel = BAS.sel(year=slice(2000, 2010))\n",
    "\n",
    "# code here\n",
    "\n",
    "ax2 = plt.axes([0.2, 0.65, 0.2, 0.20])\n",
    "\n",
    "ax2.plot(BAS_sel.year, BAS_sel.Temperature)"
   ]
  },
  {
   "cell_type": "markdown",
   "metadata": {},
   "source": [
    "### Exercise\n",
    "\n",
    " * Use `plt.GridSpec` to create two axes, one that takes ~ 3/4 of the width and the other ~ 1/4\n",
    " * Bonus\n",
    "   * Plot precipitation data time series of BAS in the left axes\n",
    "   * Plot a histogram of the same data in the right axes. Hint:\n",
    "   ```python\n",
    "   ax1.hist(BAS.Precipitation, bins=10, orientation='horizontal', density=True);\n",
    "    ```"
   ]
  },
  {
   "cell_type": "code",
   "execution_count": null,
   "metadata": {},
   "outputs": [],
   "source": [
    "f = plt.figure(figsize=(20 / 2.54, 8 / 2.54))\n",
    "\n",
    "# create grid\n",
    "# grid ="
   ]
  },
  {
   "cell_type": "markdown",
   "metadata": {},
   "source": [
    "### Solution"
   ]
  },
  {
   "cell_type": "code",
   "execution_count": null,
   "metadata": {
    "hide_input": true,
    "tags": [
     "solution"
    ]
   },
   "outputs": [],
   "source": [
    "f = plt.figure(figsize=(20 / 2.54, 8 / 2.54))\n",
    "\n",
    "# create grid\n",
    "grid = plt.GridSpec(1, 4)\n",
    "\n",
    "ax0 = plt.subplot(grid[0, :3])\n",
    "\n",
    "ax1 = plt.subplot(grid[0, 3])\n",
    "\n",
    "# plot data\n",
    "\n",
    "ax0.plot(BAS.year, BAS.Precipitation)\n",
    "ax1.hist(BAS.Precipitation, 10, orientation=\"horizontal\", density=True)\n",
    "\n",
    "# format plot\n",
    "ax1.set_yticks([])\n",
    "\n",
    "ax0.set_ylabel(\"Precipitation (mm)\")\n",
    "\n",
    "ax0.set_xlabel(\"Year\")\n",
    "ax1.set_xlabel(\"Probability [-]\");"
   ]
  },
  {
   "cell_type": "markdown",
   "metadata": {},
   "source": [
    "### Bonus Exercise\n",
    "\n",
    " * Try to understand the following code:"
   ]
  },
  {
   "cell_type": "code",
   "execution_count": null,
   "metadata": {},
   "outputs": [],
   "source": [
    "# get data\n",
    "x = LUG_monthly.Temperature\n",
    "y = ENG_monthly.Temperature\n",
    "\n",
    "f = plt.figure(figsize=(15 / 2.54, 15 / 2.54))\n",
    "\n",
    "grid = plt.GridSpec(4, 4, hspace=0.5, wspace=0.5)\n",
    "\n",
    "ax_main = plt.subplot(grid[1:, :-1])\n",
    "\n",
    "\n",
    "ax_y = plt.subplot(grid[1:, -1], xticklabels=[], sharey=ax_main)\n",
    "ax_x = plt.subplot(grid[0, :-1], yticklabels=[], sharex=ax_main)\n",
    "\n",
    "ax_main.plot(x, y, \".\")\n",
    "\n",
    "ax_x.hist(x, 30, histtype=\"stepfilled\", orientation=\"vertical\", color=\"0.7\")\n",
    "ax_y.hist(y, 30, histtype=\"stepfilled\", orientation=\"horizontal\", color=\"0.7\")\n",
    "\n",
    "ax_main.set_xlabel(\"T Lugano (°C)\")\n",
    "ax_main.set_ylabel(\"T Engelberg (°C)\");"
   ]
  }
 ],
 "metadata": {
  "hide_input": false,
  "kernelspec": {
   "display_name": "Python 3 (ipykernel)",
   "language": "python",
   "name": "python3"
  },
  "language_info": {
   "codemirror_mode": {
    "name": "ipython",
    "version": 3
   },
   "file_extension": ".py",
   "mimetype": "text/x-python",
   "name": "python",
   "nbconvert_exporter": "python",
   "pygments_lexer": "ipython3",
   "version": "3.9.14"
  },
  "toc": {
   "base_numbering": 1,
   "nav_menu": {},
   "number_sections": true,
   "sideBar": true,
   "skip_h1_title": false,
   "title_cell": "Table of Contents",
   "title_sidebar": "Contents",
   "toc_cell": false,
   "toc_position": {},
   "toc_section_display": true,
   "toc_window_display": false
  }
 },
 "nbformat": 4,
 "nbformat_minor": 4
}
