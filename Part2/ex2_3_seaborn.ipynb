{
 "cells": [
  {
   "cell_type": "markdown",
   "metadata": {},
   "source": [
    "# Exercise 2.3 seaborn\n",
    "prepared by M.Hauser\n",
    "\n",
    "Seaborn is a library for statistical visualisation; it tries to 'make a well-defined set of hard things easy to do'.\n",
    "\n",
    "It has a beautiful [gallery](https://seaborn.pydata.org/examples/index.html) illustrating its capabilities."
   ]
  },
  {
   "cell_type": "code",
   "execution_count": null,
   "metadata": {},
   "outputs": [],
   "source": [
    "import matplotlib.pyplot as plt\n",
    "\n",
    "import numpy as np\n",
    "import seaborn as sns\n",
    "import xarray as xr\n",
    "\n",
    "%matplotlib inline"
   ]
  },
  {
   "cell_type": "markdown",
   "metadata": {},
   "source": [
    "Let's use a seaborn style:"
   ]
  },
  {
   "cell_type": "code",
   "execution_count": null,
   "metadata": {},
   "outputs": [],
   "source": [
    "sns.set(style=\"white\")"
   ]
  },
  {
   "cell_type": "markdown",
   "metadata": {},
   "source": [
    "### Load Data\n",
    "\n",
    "We again use time series of Station Data for Switzerland - Temperature & Precip.\n",
    "\n",
    "The data is available from [MeteoSwiss](http://www.meteoswiss.admin.ch/home/climate/past/homogenous-monthly-data.html).\n",
    "\n",
    "The data has already been [retrieved and postprocessed](../data/prepare_data_MCH.ipynb)."
   ]
  },
  {
   "cell_type": "code",
   "execution_count": null,
   "metadata": {},
   "outputs": [],
   "source": [
    "def load_mch(station, annual=True):\n",
    "    fN = '../data/MCH_HOM_{}.nc'.format(station)\n",
    "    return xr.open_dataset(fN)\n",
    "\n",
    "BAS = load_mch('BAS')\n",
    "BER = load_mch('BER')\n",
    "GSB = load_mch('GSB')\n",
    "DAV = load_mch('DAV')"
   ]
  },
  {
   "cell_type": "markdown",
   "metadata": {},
   "source": [
    "## Distributions\n",
    "\n",
    "While it is easy to create histograms with matplotlib, it's quite difficult to plot a Kernel Density Estimate (kde). With seaborns `distplot` function this is easy:"
   ]
  },
  {
   "cell_type": "code",
   "execution_count": null,
   "metadata": {},
   "outputs": [],
   "source": [
    "# create random data\n",
    "d = np.random.randn(100)\n",
    "\n",
    "# ======================\n",
    "\n",
    "# Set up the matplotlib figure\n",
    "f, axes = plt.subplots(2, 2, figsize=(7, 7), sharex=True, sharey=True)\n",
    "axes = axes.flatten()\n",
    "\n",
    "\n",
    "# get rid of the left axis\n",
    "sns.despine(left=True)\n",
    "\n",
    "ax = axes[0]\n",
    "\n",
    "# Plot a simple histogram with binsize determined automatically\n",
    "sns.distplot(d, kde=False, color=\"b\", ax=ax, hist_kws=dict(normed=True))\n",
    "\n",
    "ax = axes[1]\n",
    "\n",
    "# Plot a kernel density estimate and rug plot\n",
    "sns.distplot(d, hist=False, rug=True, color=\"r\", ax=ax)\n",
    "\n",
    "ax = axes[2]\n",
    "\n",
    "# Plot a filled kernel density estimate\n",
    "sns.distplot(d, hist=False, color=\"g\", kde_kws={\"shade\": True}, ax=ax)\n",
    "\n",
    "ax = axes[3]\n",
    "\n",
    "# Plot a historgram and kernel density estimate\n",
    "sns.distplot(d, color=\"m\", ax=ax)\n",
    "\n",
    "plt.setp(axes, yticks=[])\n",
    "plt.tight_layout()"
   ]
  },
  {
   "cell_type": "markdown",
   "metadata": {},
   "source": [
    "### Exercise\n",
    "\n",
    " * Plot a kde of `BAS.Temperature` and `DAV.Temperature`\n",
    " * can you add a legend?"
   ]
  },
  {
   "cell_type": "code",
   "execution_count": null,
   "metadata": {},
   "outputs": [],
   "source": [
    "# code here\n",
    "\n"
   ]
  },
  {
   "cell_type": "markdown",
   "metadata": {},
   "source": [
    "### Solution"
   ]
  },
  {
   "cell_type": "code",
   "execution_count": null,
   "metadata": {
    "hide_input": true
   },
   "outputs": [],
   "source": [
    "sns.distplot(BAS.Temperature, hist=False, kde_kws={\"shade\": True, 'label': 'Basel'})\n",
    "sns.distplot(DAV.Temperature, hist=False, kde_kws={\"shade\": True, 'label': 'Davos'})\n",
    "\n",
    "plt.legend();"
   ]
  },
  {
   "cell_type": "markdown",
   "metadata": {},
   "source": [
    "## Joint plot\n",
    "\n",
    "`jointplot` allows you to see the distribution of two individual data sets as well as their joint distribution"
   ]
  },
  {
   "cell_type": "code",
   "execution_count": null,
   "metadata": {},
   "outputs": [],
   "source": [
    "sns.jointplot(BAS.Temperature, BAS.Precipitation, kind='kde');"
   ]
  },
  {
   "cell_type": "markdown",
   "metadata": {},
   "source": [
    "### Exercise\n",
    " * is there a correlation between precipitation and temperature in Davos (`DAV`)\n",
    " * choose another `kind`"
   ]
  },
  {
   "cell_type": "code",
   "execution_count": null,
   "metadata": {},
   "outputs": [],
   "source": [
    "sns.jointplot?"
   ]
  },
  {
   "cell_type": "code",
   "execution_count": null,
   "metadata": {},
   "outputs": [],
   "source": []
  },
  {
   "cell_type": "markdown",
   "metadata": {},
   "source": [
    "### Solution"
   ]
  },
  {
   "cell_type": "code",
   "execution_count": null,
   "metadata": {
    "hide_input": true
   },
   "outputs": [],
   "source": [
    "sns.jointplot(DAV.Temperature, DAV.Precipitation, kind='hex');"
   ]
  },
  {
   "cell_type": "markdown",
   "metadata": {},
   "source": [
    "## Pandas\n",
    "\n",
    "Seaborn works especially well with pandas dataframes. We can illustrate this with an example from the [seaborn gallery](https://seaborn.pydata.org/examples/factorplot_bars.html).\n",
    "\n",
    "The example data is a passenger list from the titanic:"
   ]
  },
  {
   "cell_type": "code",
   "execution_count": null,
   "metadata": {},
   "outputs": [],
   "source": [
    "# Load the example Titanic dataset\n",
    "titanic = sns.load_dataset(\"titanic\")\n",
    "\n",
    "titanic.head()"
   ]
  },
  {
   "cell_type": "markdown",
   "metadata": {},
   "source": [
    "Then we can use a `factorplot` to illustrate the survival probability depending on the class the passenger traveled and if it was a male or female passenger:"
   ]
  },
  {
   "cell_type": "code",
   "execution_count": null,
   "metadata": {},
   "outputs": [],
   "source": [
    "with sns.axes_style('whitegrid'):\n",
    "    # Draw a nested barplot to show survival for class and sex\n",
    "    g = sns.factorplot(x=\"class\", y=\"survived\",\n",
    "                       hue=\"sex\",\n",
    "                       data=titanic,\n",
    "                       size=6, kind=\"bar\", palette=\"muted\")\n",
    "    \n",
    "    g.despine(left=True)\n",
    "    g.set_ylabels(\"survival probability\")"
   ]
  },
  {
   "cell_type": "markdown",
   "metadata": {},
   "source": [
    "Pandas DataFrame don't work very well with lat/ lon data (that's what xarray and the like are for), so let's use an example with a time series. First we need to convert `BAS` from an xarray Dataset to a pandas DataFrame. "
   ]
  },
  {
   "cell_type": "code",
   "execution_count": null,
   "metadata": {},
   "outputs": [],
   "source": [
    "import pandas as pd"
   ]
  },
  {
   "cell_type": "code",
   "execution_count": null,
   "metadata": {},
   "outputs": [],
   "source": [
    "\n",
    "def to_dataframe(data):\n",
    "    # STEP 1\n",
    "    # calculate monthly temperature and precipitation anomalies\n",
    "    d = data.groupby('time.month') - data.groupby('time.month').mean('time')\n",
    "\n",
    "    # STEP 2\n",
    "    # convert to a dataframe\n",
    "    d = d.to_dataframe()[['Temperature', 'Precipitation']]\n",
    "\n",
    "    # STEP 3\n",
    "    # create a new categorical variable 'month\n",
    "    d['month'] = d.index.month.values\n",
    "    d['month'] = d['month'].astype('category')\n",
    "\n",
    "    # STEP 4\n",
    "    # create wet and dry category depending if it rained more than on average\n",
    "    bins  = [-np.inf, 0, np.inf]\n",
    "    d['prec_cat'] = pd.cut(d['Precipitation'], bins, labels=['dry', 'wet'])\n",
    "\n",
    "    return d\n",
    "\n",
    "BAS_df = to_dataframe(BAS)\n",
    "DAV_df = to_dataframe(DAV)\n",
    "BAS_df.head()"
   ]
  },
  {
   "cell_type": "markdown",
   "metadata": {},
   "source": [
    "### Exercise\n",
    "\n",
    " * create a `factorplot` showing monthly temperature anomalies as a function of the `month` and precipitation category"
   ]
  },
  {
   "cell_type": "code",
   "execution_count": null,
   "metadata": {},
   "outputs": [],
   "source": [
    "# code here\n",
    "\n",
    "# sns.factorplot(...)"
   ]
  },
  {
   "cell_type": "markdown",
   "metadata": {},
   "source": [
    "### Solution"
   ]
  },
  {
   "cell_type": "code",
   "execution_count": null,
   "metadata": {
    "hide_input": true
   },
   "outputs": [],
   "source": [
    "g = sns.factorplot(x=\"month\", y=\"Temperature\", hue=\"prec_cat\", data=BAS_df,\n",
    "                   size=6, kind=\"bar\", palette=\"BrBG\")"
   ]
  }
 ],
 "metadata": {
  "hide_input": false,
  "kernelspec": {
   "display_name": "Python 3",
   "language": "python",
   "name": "python3"
  },
  "language_info": {
   "codemirror_mode": {
    "name": "ipython",
    "version": 3
   },
   "file_extension": ".py",
   "mimetype": "text/x-python",
   "name": "python",
   "nbconvert_exporter": "python",
   "pygments_lexer": "ipython3",
   "version": "3.6.5"
  }
 },
 "nbformat": 4,
 "nbformat_minor": 2
}
