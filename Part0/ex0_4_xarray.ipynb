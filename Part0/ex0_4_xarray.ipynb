{
 "cells": [
  {
   "cell_type": "markdown",
   "metadata": {},
   "source": [
    "# Exercise 0.4 - NetCDF files (using `xarray`)\n",
    "prepared by M.Hauser"
   ]
  },
  {
   "cell_type": "markdown",
   "metadata": {},
   "source": [
    "The `netCDF4` library is not the only library to load netCDFs. In this exercise we will get to know [xarray](http://xarray.pydata.org/en/stable/). `xarray` combines a netCDF-like data model with capabilities of [pandas](http://pandas.pydata.org/) (see next exercise)."
   ]
  },
  {
   "cell_type": "code",
   "execution_count": null,
   "metadata": {},
   "outputs": [],
   "source": [
    "import xarray as xr\n",
    "\n",
    "import numpy as np"
   ]
  },
  {
   "cell_type": "markdown",
   "metadata": {},
   "source": [
    "We will use the netCDF file with the growing season length (GSL), see [exercise 0.3](./ex0_3_netCDF4.ipynb).\n",
    "\n",
    "The data is described in Donat et al., [2013](http://onlinelibrary.wiley.com/doi/10.1002/jgrd.50150/abstract), and was obtained from http://www.climdex.org/.\n",
    "\n",
    "The data has already undergone some postprocessing - see [prepare_HadEX2_GSL](./../data/prepare_HadEX2_GSL.ipynb)"
   ]
  },
  {
   "cell_type": "markdown",
   "metadata": {},
   "source": [
    "## Opening a dataset"
   ]
  },
  {
   "cell_type": "code",
   "execution_count": null,
   "metadata": {},
   "outputs": [],
   "source": [
    "fN = './../data/HadEX2_GSL.nc'\n",
    "\n",
    "ds = xr.open_dataset(fN)\n",
    "\n",
    "ds"
   ]
  },
  {
   "cell_type": "markdown",
   "metadata": {},
   "source": [
    "## Data types: `Dataset ` and `DataArray`\n",
    "\n",
    "xarray has two main types `Dataset` and `DataArray`. A `Dataset` is a collection of `DataArray`s. Usually reading a netCDF file opens a `Dataset `.\n",
    "\n",
    "### Reading variables (= `DataArray`)\n",
    "\n",
    "To read a variable (=`DataArray`), you can use dot notation (`ds.lat`) or with dict-like indexing (`ds['lat']`).\n",
    "\n",
    "#### get lat - dict-like indexing"
   ]
  },
  {
   "cell_type": "code",
   "execution_count": null,
   "metadata": {},
   "outputs": [],
   "source": [
    "lat = ds['lat']\n",
    "lat[:10]"
   ]
  },
  {
   "cell_type": "markdown",
   "metadata": {},
   "source": [
    "#### #### get lat - dot notation"
   ]
  },
  {
   "cell_type": "code",
   "execution_count": null,
   "metadata": {},
   "outputs": [],
   "source": [
    "lat = ds.lat\n",
    "lat[:10]"
   ]
  },
  {
   "cell_type": "markdown",
   "metadata": {},
   "source": [
    "### Exercise\n",
    " * Get the longitude."
   ]
  },
  {
   "cell_type": "code",
   "execution_count": null,
   "metadata": {},
   "outputs": [],
   "source": []
  },
  {
   "cell_type": "markdown",
   "metadata": {},
   "source": [
    "### Solution"
   ]
  },
  {
   "cell_type": "code",
   "execution_count": null,
   "metadata": {
    "hide_input": true
   },
   "outputs": [],
   "source": [
    "ds.lon"
   ]
  },
  {
   "cell_type": "markdown",
   "metadata": {},
   "source": [
    "## Conversion to numpy array\n",
    "\n",
    "`DataArray`s behave more or less like an numpy array. However, sometimes an operation requires raw numpy arrays, you can use `lat.values`, or `np.asarray(lat)`\n",
    "\n",
    "#### using values"
   ]
  },
  {
   "cell_type": "code",
   "execution_count": null,
   "metadata": {},
   "outputs": [],
   "source": [
    "lat.values[:10]"
   ]
  },
  {
   "cell_type": "markdown",
   "metadata": {},
   "source": [
    "#### using asarray"
   ]
  },
  {
   "cell_type": "code",
   "execution_count": null,
   "metadata": {},
   "outputs": [],
   "source": [
    "print(np.asarray(lat)[:10])"
   ]
  },
  {
   "cell_type": "markdown",
   "metadata": {},
   "source": [
    "## NaNs\n",
    "\n",
    "Invalid data is given as NaN. This is different from the `netCDF4` library that used masked arrays."
   ]
  },
  {
   "cell_type": "code",
   "execution_count": null,
   "metadata": {},
   "outputs": [],
   "source": [
    "# load the trend\n",
    "trend = ds.trend\n",
    "\n",
    "trend"
   ]
  },
  {
   "cell_type": "markdown",
   "metadata": {},
   "source": [
    "## Coordinates\n",
    "\n",
    "If you look at the output of `trend` again, you see how it shows `Coordinates`. - xarray brings them along, which is super helpful, because it allows you to very easily subset data for certain regions."
   ]
  },
  {
   "cell_type": "markdown",
   "metadata": {},
   "source": [
    "## Subsetting data\n",
    "\n",
    "xarray can subset (select) data according to the coordinates very easily. Let's select a region in Central North America (CNA)."
   ]
  },
  {
   "cell_type": "code",
   "execution_count": null,
   "metadata": {},
   "outputs": [],
   "source": [
    "# load the growing season length\n",
    "GSL = ds.GSL"
   ]
  },
  {
   "cell_type": "markdown",
   "metadata": {},
   "source": [
    "#### select a region in Central North America (CNA)\n",
    "\n",
    " * lon: 30°N to 50°N\n",
    " * lat: -150°E to -85°E"
   ]
  },
  {
   "cell_type": "code",
   "execution_count": null,
   "metadata": {},
   "outputs": [],
   "source": [
    "# select a region in Central North America\n",
    "lat = slice(30, 50)\n",
    "lon = slice(360 - 105, 360 - 85)\n",
    "\n",
    "GSL_CNA = GSL.sel(lat=lat, lon=lon)\n",
    "\n",
    "print('Shape of the data:')\n",
    "print(' * all:', GSL.shape)\n",
    "print(' * CNA:', GSL_CNA.shape)"
   ]
  },
  {
   "cell_type": "markdown",
   "metadata": {},
   "source": [
    "*Note on `slice`*: the following two commands are equivalent:\n",
    "\n",
    "    GSL.values[:10]\n",
    "    GSL.values[slice(0, 10)]\n",
    "    \n",
    "However the `:` operator only works in square brackets (`[]`). So for functions like `GSL.sel(...)` we need to use `slice`."
   ]
  },
  {
   "cell_type": "markdown",
   "metadata": {},
   "source": [
    "#### lon goes from 255 to 273.75"
   ]
  },
  {
   "cell_type": "code",
   "execution_count": null,
   "metadata": {},
   "outputs": [],
   "source": [
    "GSL_CNA.lon"
   ]
  },
  {
   "cell_type": "markdown",
   "metadata": {},
   "source": [
    "### Exercise\n",
    "\n",
    "* Obtain a GSL time series for Switzerland (approx. 47° N, 8° E). (Hint: `method='nearest'`)."
   ]
  },
  {
   "cell_type": "code",
   "execution_count": null,
   "metadata": {},
   "outputs": [],
   "source": [
    "# code here\n",
    "lat = 47\n",
    "lon = 8\n",
    "\n",
    "# GSL_CH = GSL.sel(...)\n"
   ]
  },
  {
   "cell_type": "markdown",
   "metadata": {},
   "source": [
    "### Solution"
   ]
  },
  {
   "cell_type": "code",
   "execution_count": null,
   "metadata": {
    "hide_input": true
   },
   "outputs": [],
   "source": [
    "lat = 47\n",
    "lon = 8\n",
    "\n",
    "GSL_CH = GSL.sel(lat=lat, lon=lon, method='nearest')\n",
    "GSL_CH"
   ]
  },
  {
   "cell_type": "markdown",
   "metadata": {},
   "source": [
    "## Selection of time\n",
    "\n",
    "To select time-ranges from datetime arrays, we need to set the dates as strings:"
   ]
  },
  {
   "cell_type": "code",
   "execution_count": null,
   "metadata": {},
   "outputs": [],
   "source": [
    "GSL.sel(time=slice('1960', '1961'))"
   ]
  },
  {
   "cell_type": "markdown",
   "metadata": {},
   "source": [
    "### Exercise\n",
    "\n",
    " * select the data for the year 2000 for `GSL_CH`"
   ]
  },
  {
   "cell_type": "code",
   "execution_count": null,
   "metadata": {},
   "outputs": [],
   "source": [
    "#GSL_CH.sel(...)"
   ]
  },
  {
   "cell_type": "markdown",
   "metadata": {},
   "source": [
    "### Solution"
   ]
  },
  {
   "cell_type": "code",
   "execution_count": null,
   "metadata": {
    "hide_input": true
   },
   "outputs": [],
   "source": [
    "GSL_CH.sel(time='2000')"
   ]
  },
  {
   "cell_type": "markdown",
   "metadata": {},
   "source": [
    "## Computations (`mean` etc.)\n",
    "\n",
    "With numpy arrays you need to know which axis number corresponds to which dimension. If your data has the form `(time, lat lon)` you have to compute the time mean as `data.mean(axis=0)`. xarray allows you to used the named coordinates, thus you can do `data.mean('time')` to compute the climatology."
   ]
  },
  {
   "cell_type": "code",
   "execution_count": null,
   "metadata": {},
   "outputs": [],
   "source": [
    "GSL.mean('time')"
   ]
  },
  {
   "cell_type": "markdown",
   "metadata": {},
   "source": [
    "### Exercise\n",
    "\n",
    " * Compute the mean GSL over the Central North American domain.\n",
    " * Ensure that you still have the time dimension"
   ]
  },
  {
   "cell_type": "code",
   "execution_count": null,
   "metadata": {},
   "outputs": [],
   "source": [
    "GSL_CNA"
   ]
  },
  {
   "cell_type": "markdown",
   "metadata": {},
   "source": [
    "### Solution\n",
    "\n",
    "Note that you can calculate the mean over more than one dimension, if you put them in brackets:"
   ]
  },
  {
   "cell_type": "code",
   "execution_count": null,
   "metadata": {
    "hide_input": true
   },
   "outputs": [],
   "source": [
    "GSL_CNA.mean(('lat', 'lon'))"
   ]
  }
 ],
 "metadata": {
  "hide_input": false,
  "kernelspec": {
   "display_name": "Python 3",
   "language": "python",
   "name": "python3"
  },
  "language_info": {
   "codemirror_mode": {
    "name": "ipython",
    "version": 3
   },
   "file_extension": ".py",
   "mimetype": "text/x-python",
   "name": "python",
   "nbconvert_exporter": "python",
   "pygments_lexer": "ipython3",
   "version": "3.6.5"
  }
 },
 "nbformat": 4,
 "nbformat_minor": 2
}
