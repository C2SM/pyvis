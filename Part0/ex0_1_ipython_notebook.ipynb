{
 "cells": [
  {
   "cell_type": "markdown",
   "metadata": {},
   "source": [
    "# Exercise 0.1 - IPython notebook\n",
    "\n",
    "We use IPython notebooks in this workshop. Of course all the presented code also works for normal scripts or using another IDE, e.g. spyder.\n",
    "\n",
    "These notebooks are organised in cells which can either contain formatted text in [markdown-syntax](https://guides.github.com/features/mastering-markdown/), as this cell (double-click to see the source text), or code as the next cell.\n",
    "\n",
    "## Code"
   ]
  },
  {
   "cell_type": "code",
   "execution_count": null,
   "metadata": {},
   "outputs": [],
   "source": [
    "a = 5\n",
    "b = 7\n",
    "\n",
    "a + b"
   ]
  },
  {
   "cell_type": "markdown",
   "metadata": {},
   "source": [
    "### Exercise\n",
    "\n",
    " * Take a tour: <kbd>Help</kbd> -> <kbd>User Interface Tour</kbd>\n",
    " * Execute the code above by testing (select the cell first):\n",
    "   * the <kbd>Run</kbd> button in the menu bar\n",
    "   * <kbd>Ctrl</kbd> + <kbd>Enter</kbd>\n",
    "   * <kbd>Shift</kbd> + <kbd>Enter</kbd>\n",
    "\n",
    "## Strings\n",
    "\n",
    " * strings are enclosed by single quotes (`'''`) or double quotes (`\"\"`), a string enclosed by 3 quotes can span multiple lines\n",
    " * strings can be concatenated with `+`\n",
    " * to display strings (and almost all other types), use the `print()` command"
   ]
  },
  {
   "cell_type": "code",
   "execution_count": null,
   "metadata": {},
   "outputs": [],
   "source": [
    "# hashmarks are comments in Python\n",
    "\n",
    "print(\"Type a line and execute the cell\")\n",
    "\n",
    "print()\n",
    "\n",
    "a = 'A string '\n",
    "b = 'and another string'\n",
    "print(a + b + ' are concatenated by \"+.\"')\n",
    "\n",
    "print()\n",
    "\n",
    "multiline_string = \"\"\"You can create multiline strings by\n",
    "enclosing them in three consecutive\n",
    "quotes\n",
    "\"\"\"\n",
    "\n",
    "print(multiline_string)\n"
   ]
  },
  {
   "cell_type": "markdown",
   "metadata": {},
   "source": [
    "## List\n",
    "\n",
    "Lists are one of the most basic datatypes of python. They are created from comma-separated elements in square brackets. The elements do not need to have the same datatype.\n",
    "\n",
    "Indexing is done with square brackets in python.\n"
   ]
  },
  {
   "cell_type": "code",
   "execution_count": null,
   "metadata": {},
   "outputs": [],
   "source": [
    "list_a = [1, 2, 3]\n",
    "\n",
    "list_b = ['a', 'b', 2.3]\n",
    "\n",
    "print(\"Lists can also be concatenated with '+': \\nlist_a + list_b =\", list_a + list_b)\n",
    "\n",
    "print()\n",
    "\n",
    "print(\"Python 0-based!\")\n",
    "\n",
    "print('Select first element:', list_a[0])\n",
    "print('Select list of lenght one:', list_a[0:1])"
   ]
  },
  {
   "cell_type": "markdown",
   "metadata": {},
   "source": [
    "## Commenting and uncommenting\n",
    "\n",
    "comments are indicated with `#`\n",
    "\n",
    "### Exercise\n",
    "\n",
    " * Comment out part of the code by:\n",
    "   * prepending `#`\n",
    "   * Select -> <kbd>Ctrl</kbd> + <kbd>/</kbd> (this may not work in all browsers)"
   ]
  },
  {
   "cell_type": "code",
   "execution_count": null,
   "metadata": {},
   "outputs": [],
   "source": [
    "print(0)\n",
    "print(1)\n",
    "print(2)\n",
    "print(3)\n",
    "print(4)\n",
    "print(5)"
   ]
  },
  {
   "cell_type": "markdown",
   "metadata": {},
   "source": [
    "## Loops"
   ]
  },
  {
   "cell_type": "code",
   "execution_count": null,
   "metadata": {},
   "outputs": [],
   "source": [
    "print(\"Python loops through everything that is iterable:\")\n",
    "\n",
    "for element in list_b:\n",
    "    print(element)\n",
    "    \n",
    "print()\n",
    "\n",
    "string = 'Almost everything is iterable'\n",
    "\n",
    "for i in string:\n",
    "    print(i, end=' ')\n",
    "\n",
    "# end=' ' prints a space instead of a newline ('\\n')"
   ]
  },
  {
   "cell_type": "markdown",
   "metadata": {},
   "source": [
    "### Exercise\n",
    "* loop through list_a and print every element"
   ]
  },
  {
   "cell_type": "code",
   "execution_count": null,
   "metadata": {},
   "outputs": [],
   "source": [
    "list_a = [1, 2, 3]\n",
    "\n",
    "# loop"
   ]
  },
  {
   "cell_type": "markdown",
   "metadata": {},
   "source": [
    "### Solution"
   ]
  },
  {
   "cell_type": "code",
   "execution_count": null,
   "metadata": {
    "hide_input": true
   },
   "outputs": [],
   "source": [
    "list_a = [1, 2, 3]\n",
    "\n",
    "for el in list_a:\n",
    "    print(el)"
   ]
  },
  {
   "cell_type": "markdown",
   "metadata": {},
   "source": [
    "### `enumerate`\n",
    "\n",
    "`enumerate` is a very handy command when looping, you get the element, and also the index of the element:"
   ]
  },
  {
   "cell_type": "code",
   "execution_count": null,
   "metadata": {},
   "outputs": [],
   "source": [
    "for i, el in enumerate(list_b):\n",
    "    print('index:', i, 'element:', el)"
   ]
  },
  {
   "cell_type": "markdown",
   "metadata": {},
   "source": [
    "### Exercise\n",
    " * do the same with list_a"
   ]
  },
  {
   "cell_type": "code",
   "execution_count": null,
   "metadata": {},
   "outputs": [],
   "source": [
    "list_a = [1, 2, 3]\n",
    "\n"
   ]
  },
  {
   "cell_type": "markdown",
   "metadata": {},
   "source": [
    "### Solution"
   ]
  },
  {
   "cell_type": "code",
   "execution_count": null,
   "metadata": {
    "hide_input": true
   },
   "outputs": [],
   "source": [
    "list_a = [1, 2, 3]\n",
    "\n",
    "for i, el in enumerate(list_a):\n",
    "    print('index:', i, 'element:', el)"
   ]
  },
  {
   "cell_type": "markdown",
   "metadata": {},
   "source": [
    "## Interrupting code execution\n",
    "\n",
    "### Exercise\n",
    "\n",
    " * Run the following code and abort it by pressing <button class=\"btn btn-default\" title=\"interrupt the kernel\" data-jupyter-action=\"jupyter-notebook:interrupt-kernel\"><i class=\"fa-stop fa\"></i></button> in the menu bar\n",
    "\n",
    " "
   ]
  },
  {
   "cell_type": "code",
   "execution_count": null,
   "metadata": {},
   "outputs": [],
   "source": [
    "while True:\n",
    "    pass"
   ]
  },
  {
   "cell_type": "markdown",
   "metadata": {},
   "source": [
    "## Markdown-Cells and Rich Content\n",
    "\n",
    "As mentioned we can have code and markdown cells. Markdown is a human-readable and typable simplification of HTML that gets translated into HTML. The formatting syntax is extremely simple. You also can mix with HTML: \n",
    "<a href=\"http://daringfireball.net/projects/markdown/syntax\">like this</a>. But Markdown is [simpler](http://daringfireball.net/projects/markdown/syntax). (Switch to edit-mode to understand the sentence above.)"
   ]
  },
  {
   "cell_type": "markdown",
   "metadata": {},
   "source": [
    "You can write straight $\\LaTeX$ into Markdown cells:\n",
    "    \n",
    "$ F(x) = \\int{f(x) \\mathrm{d}x} $\n",
    "    "
   ]
  },
  {
   "cell_type": "markdown",
   "metadata": {},
   "source": [
    "You can use these markdown cells to comment and structure your notebook."
   ]
  },
  {
   "cell_type": "markdown",
   "metadata": {},
   "source": [
    "## Imports\n",
    "\n",
    "Python libraries are loaded with the `import` statement, e.g. `import numpy`. The loaded libraries are referenced by name to avoid a pollution of the namespace the `mean` function of numpy can now be accessed by `numpy.mean`. So it cannot be confused with (or overwrite) the mean function of another library. For convenience the libraries are often imported with an abbreviated name `import numpy as np`, so that we can write `np.mean.\n",
    "\n",
    "> Note: if nothing happens, you may have to go back and kill the infinite loop above\n"
   ]
  },
  {
   "cell_type": "code",
   "execution_count": null,
   "metadata": {},
   "outputs": [],
   "source": [
    "import numpy as np"
   ]
  },
  {
   "cell_type": "markdown",
   "metadata": {},
   "source": [
    "## Getting help\n",
    "\n",
    "\n",
    "ipython has a quite convenient help system.\n",
    " * Press <kbd>Tab</kbd> to expand all available functions: `np.<tab>`\n",
    " * Add a `?` to any function to get the help: `np.mean?`\n",
    " * Add `??` to any function to get the source code of the function (includes the help): `np.mean??`\n",
    " * Use <kbd>Shift</kbd><kbd>Tab</kbd>\n",
    "\n",
    "Of course you can always use the search engine of your choice... \n"
   ]
  },
  {
   "cell_type": "code",
   "execution_count": null,
   "metadata": {},
   "outputs": [],
   "source": [
    "# try np.<tab>\n",
    "\n"
   ]
  },
  {
   "cell_type": "code",
   "execution_count": null,
   "metadata": {},
   "outputs": [],
   "source": [
    "# this shows the docstring\n",
    "np.mean?"
   ]
  },
  {
   "cell_type": "code",
   "execution_count": null,
   "metadata": {},
   "outputs": [],
   "source": [
    "# this shows the docstring + code\n",
    "np.mean??"
   ]
  },
  {
   "cell_type": "code",
   "execution_count": null,
   "metadata": {},
   "outputs": [],
   "source": [
    "# point the text cursor to mean\n",
    "# press Shift + Tab\n",
    "np.mean"
   ]
  },
  {
   "cell_type": "markdown",
   "metadata": {},
   "source": [
    "## Line numbers\n",
    "\n",
    "If you create an error in a cell with a lot of code, you can enable line numbers by selecting the cell then press <kbd>Esc</kbd> and afterwards <kbd>L</kbd>\n",
    "\n",
    "* try it out"
   ]
  },
  {
   "cell_type": "code",
   "execution_count": null,
   "metadata": {},
   "outputs": [],
   "source": [
    "\n",
    "\n",
    "\n",
    "\n",
    "# toggle line numbers with Esc + L\n",
    "\n",
    "\n",
    "\n",
    "\n",
    "\n",
    "\n",
    "\n"
   ]
  },
  {
   "cell_type": "code",
   "execution_count": null,
   "metadata": {},
   "outputs": [],
   "source": []
  }
 ],
 "metadata": {
  "hide_input": false,
  "kernelspec": {
   "display_name": "Python 3",
   "language": "python",
   "name": "python3"
  },
  "language_info": {
   "codemirror_mode": {
    "name": "ipython",
    "version": 3
   },
   "file_extension": ".py",
   "mimetype": "text/x-python",
   "name": "python",
   "nbconvert_exporter": "python",
   "pygments_lexer": "ipython3",
   "version": "3.6.5"
  }
 },
 "nbformat": 4,
 "nbformat_minor": 2
}
