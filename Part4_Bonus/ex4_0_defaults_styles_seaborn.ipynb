{
 "cells": [
  {
   "cell_type": "markdown",
   "metadata": {},
   "source": [
    "# Exercise 4.0: Matplotlib Defaults, Styles & Seaborn\n",
    "prepared by M.Hauser\n",
    "\n",
    "matplotlib greatly improved its look with the introduction of version 2.0 - so the default figure looks much better than with version 1.5. However, you will still want to tweak the style to your liking.\n",
    "\n",
    "In this tutorial we will therefore introduce the way matplotlib handles defaults and stylesheets. Also, we show how you can use `seaborn` to set styles and a context (e.g. `paper`, or `poster`).\n",
    "\n",
    "## Preparation\n",
    "\n",
    "### Imports"
   ]
  },
  {
   "cell_type": "code",
   "execution_count": null,
   "metadata": {},
   "outputs": [],
   "source": [
    "import matplotlib as mpl\n",
    "import matplotlib.pyplot as plt\n",
    "import numpy as np\n",
    "\n",
    "dpi = mpl.rcParams[\"figure.dpi\"]"
   ]
  },
  {
   "cell_type": "markdown",
   "metadata": {},
   "source": [
    "### Example plots"
   ]
  },
  {
   "cell_type": "code",
   "execution_count": null,
   "metadata": {},
   "outputs": [],
   "source": [
    "# define small function to plot\n",
    "def hist_and_line():\n",
    "    f, axs = plt.subplots(1, 2)\n",
    "    x = np.arange(10)\n",
    "    y = np.random.randn(1000)\n",
    "    axs[0].hist(y)\n",
    "    axs[1].plot(x, y[:10], x, y[-10:])"
   ]
  },
  {
   "cell_type": "markdown",
   "metadata": {},
   "source": [
    "### Restore defaults"
   ]
  },
  {
   "cell_type": "code",
   "execution_count": null,
   "metadata": {},
   "outputs": [],
   "source": [
    "# define small function to restore defaults\n",
    "def restore_defaults():\n",
    "    # restore the defaults\n",
    "    mpl.rcdefaults()\n",
    "\n",
    "    # it turns out that `% matplotlib inline` changes the dpi settings, so we restore\n",
    "    # them manually here\n",
    "    mpl.rcParams[\"figure.dpi\"] = dpi"
   ]
  },
  {
   "cell_type": "markdown",
   "metadata": {},
   "source": [
    "## Defaults - matplotlibrc\n",
    "\n",
    "Matplotlib's greatest strength is its ability to give you complete control over every single aspect of your plots and figures. Matplotlib's second greatest strength is its ability to take as much control over as much of your plots and figures as you want. You, as the user, would never consider to use Matplotlib if you had to specify all of these things for every single plot. Most of the time, the defaults are exactly what you want them to be.\n",
    "\n",
    "Matplotlib uses a configuration file (`matplotlibrc`) to define the plethora of defaults found in the library. You can control the defaults of almost every property in Matplotlib: figure size and dpi, line width, color and style, axes, axis and grid properties, text and font properties and so on. Just modify your rc file and re-run your scripts to produce your improved figures.\n",
    "\n"
   ]
  },
  {
   "cell_type": "code",
   "execution_count": null,
   "metadata": {},
   "outputs": [],
   "source": [
    "print(\"Your matplotlib version:\", mpl.__version__)"
   ]
  },
  {
   "cell_type": "code",
   "execution_count": null,
   "metadata": {},
   "outputs": [],
   "source": [
    "# location of currently active definition file\n",
    "print(mpl.matplotlib_fname())"
   ]
  },
  {
   "cell_type": "markdown",
   "metadata": {},
   "source": [
    "The default settings are available in `mpl.rcParams`. For example the default linestyle is given with `mpl.rcParams['lines.linewidth']`."
   ]
  },
  {
   "cell_type": "code",
   "execution_count": null,
   "metadata": {},
   "outputs": [],
   "source": [
    "mpl.rcParams[\"lines.linewidth\"]"
   ]
  },
  {
   "cell_type": "code",
   "execution_count": null,
   "metadata": {},
   "outputs": [],
   "source": [
    "# the default looks like this\n",
    "hist_and_line()"
   ]
  },
  {
   "cell_type": "markdown",
   "metadata": {},
   "source": [
    "So if you generally want thicker lines you could change your matplotlibrc file. If you only want to change the linewidth in one notebook/ script, you can change them like this:\n"
   ]
  },
  {
   "cell_type": "code",
   "execution_count": null,
   "metadata": {},
   "outputs": [],
   "source": [
    "# you can change the defaults\n",
    "\n",
    "mpl.rcParams[\"lines.linewidth\"] = 5\n",
    "mpl.rcParams[\"hist.bins\"] = 20\n",
    "\n",
    "hist_and_line()\n",
    "\n",
    "restore_defaults()"
   ]
  },
  {
   "cell_type": "markdown",
   "metadata": {},
   "source": [
    "Of course you can also set the linewidth directly in the plotting command (and that would be the approach I'd take), but you'd have to do it for all lines.\n",
    "\n",
    "### All defaults\n",
    "\n",
    "There is a large list of settings that have a default value:"
   ]
  },
  {
   "cell_type": "code",
   "execution_count": null,
   "metadata": {},
   "outputs": [],
   "source": [
    "mpl.rcParams"
   ]
  },
  {
   "cell_type": "markdown",
   "metadata": {},
   "source": [
    "\n",
    "## Styles\n",
    "\n",
    "Styles provide a way to set a number of defaults in a stylesheet and to load them at runtime. Therefore, they are the preferred way to tweak the look of matplotlib to your liking. A large number of pre-defined styles are available, but you can also [create your own stylesheets](https://matplotlib.org/tutorials/introductory/customizing.html)."
   ]
  },
  {
   "cell_type": "code",
   "execution_count": null,
   "metadata": {},
   "outputs": [],
   "source": [
    "print(plt.style.available)"
   ]
  },
  {
   "cell_type": "markdown",
   "metadata": {},
   "source": [
    "With the `plt.style.use('ggplot')` command you select the style:"
   ]
  },
  {
   "cell_type": "code",
   "execution_count": null,
   "metadata": {},
   "outputs": [],
   "source": [
    "plt.style.use(\"ggplot\")\n",
    "\n",
    "hist_and_line()\n",
    "\n",
    "restore_defaults()"
   ]
  },
  {
   "cell_type": "markdown",
   "metadata": {},
   "source": [
    "But keep in mind that this will change the style for the rest of the session/ script (unless you reset it, as we did here with `restore_defaults()`)! Alternatively, you can use the style context manager, which sets a style temporarily:"
   ]
  },
  {
   "cell_type": "code",
   "execution_count": null,
   "metadata": {},
   "outputs": [],
   "source": [
    "# this is how the default looked prior to version 2!\n",
    "with plt.style.context(\"classic\"):\n",
    "    hist_and_line()\n",
    "\n",
    "# the default is automatically restored!\n",
    "hist_and_line()"
   ]
  },
  {
   "cell_type": "markdown",
   "metadata": {},
   "source": [
    "## Overview of all styles\n",
    "\n",
    "To compare all pre-defined styles you can visit this [gallery](https://tonysyu.github.io/raw_content/matplotlib-style-gallery/gallery.html).\n",
    "\n",
    "## Seaborn\n",
    "\n",
    "Seaborn is a 'Python visualization library based on matplotlib. It provides a high-level interface for drawing attractive statistical graphics'. We will present some of the statistical plotting capabilities later and focus on the \"attractive\" graphics part here. \n",
    "\n",
    "In the overview you saw a large number of styles starting with \"seaborn-\". These were originally defined in this package, or are inspired by it.\n",
    "\n",
    "In seaborn you can use the [`set` command](http://seaborn.pydata.org/generated/seaborn.set.html) to control a number properties of the plot:\n",
    "\n",
    " * context: set fontsize according to target ('notebook', 'paper', 'poster', 'talk')\n",
    " * style: set the look ('white', 'whitegrid', ...)\n",
    " * palette: the color scheme\n",
    "\n",
    "See also the [figure aesthetics](http://seaborn.pydata.org/tutorial/aesthetics.html) and [color palette](http://seaborn.pydata.org/tutorial/color_palettes.html) tutorials of seaborn.\n",
    "\n",
    "Seaborn is commonly abbreviated as `sns`:"
   ]
  },
  {
   "cell_type": "code",
   "execution_count": null,
   "metadata": {},
   "outputs": [],
   "source": [
    "import seaborn as sns"
   ]
  },
  {
   "cell_type": "code",
   "execution_count": null,
   "metadata": {},
   "outputs": [],
   "source": [
    "sns.set(style=\"white\")\n",
    "\n",
    "hist_and_line()\n",
    "\n",
    "restore_defaults()"
   ]
  },
  {
   "cell_type": "code",
   "execution_count": null,
   "metadata": {},
   "outputs": [],
   "source": [
    "sns.set(style=\"whitegrid\", palette=\"Paired\", font=\"serif\")\n",
    "\n",
    "hist_and_line()\n",
    "\n",
    "restore_defaults()"
   ]
  },
  {
   "cell_type": "code",
   "execution_count": null,
   "metadata": {},
   "outputs": [],
   "source": [
    "sns.set(style=\"white\", context=\"poster\")\n",
    "\n",
    "hist_and_line()\n",
    "\n",
    "restore_defaults()"
   ]
  }
 ],
 "metadata": {
  "kernelspec": {
   "display_name": "Python 3 (ipykernel)",
   "language": "python",
   "name": "python3"
  },
  "language_info": {
   "codemirror_mode": {
    "name": "ipython",
    "version": 3
   },
   "file_extension": ".py",
   "mimetype": "text/x-python",
   "name": "python",
   "nbconvert_exporter": "python",
   "pygments_lexer": "ipython3",
   "version": "3.8.15"
  },
  "toc": {
   "base_numbering": 1,
   "nav_menu": {},
   "number_sections": true,
   "sideBar": true,
   "skip_h1_title": false,
   "title_cell": "Table of Contents",
   "title_sidebar": "Contents",
   "toc_cell": false,
   "toc_position": {},
   "toc_section_display": true,
   "toc_window_display": false
  }
 },
 "nbformat": 4,
 "nbformat_minor": 4
}
