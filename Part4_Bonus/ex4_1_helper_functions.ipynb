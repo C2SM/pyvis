{
 "cells": [
  {
   "cell_type": "markdown",
   "metadata": {},
   "source": [
    "# Exercise 4.1: Helper functions\n",
    "prepared by M.Hauser\n",
    "\n",
    "In this exercise we will reproduce this famous plot from the IPCC report summary for policymakers (IPCC, 2013, Figure 10). It shows CO$_2$ emissions versus annual global mean temperature from CMIP 5 models (Taylor et al., 2012). The plot illustrates that the global mean temperature scales quite linearly with the cumulative Co$_2$ emissions and the emission scenario has a small  impact on this scaling. For simplicity we omit the simulations with 1 % CO$_2$ increase per year.\n",
    "\n",
    "We will use the basic matplotlib plotting functions, but will learn how to embed them in a function that can be used for each dataset.\n",
    "\n",
    "<img src=\"../figures/FigSPM-10.jpg\"  width=\"500\">\n",
    "\n",
    "The data (global mean temperature from all CMIP5 models and prescribed CO$_2$ concentrations) was prepared in another [notebook](./../data/prepare_CMIP5_tas_time_series.ipynb)."
   ]
  },
  {
   "cell_type": "code",
   "execution_count": null,
   "metadata": {},
   "outputs": [],
   "source": [
    "import matplotlib.pyplot as plt\n",
    "\n",
    "import numpy as np\n",
    "import xarray as xr\n",
    "\n",
    "%matplotlib inline"
   ]
  },
  {
   "cell_type": "code",
   "execution_count": null,
   "metadata": {},
   "outputs": [],
   "source": [
    "# load data\n",
    "rcp26 = xr.open_dataset(\"../data/cmip5_tas_rcp26_ts.nc\")\n",
    "rcp45 = xr.open_dataset(\"../data/cmip5_tas_rcp45_ts.nc\")\n",
    "rcp60 = xr.open_dataset(\"../data/cmip5_tas_rcp60_ts.nc\")\n",
    "rcp85 = xr.open_dataset(\"../data/cmip5_tas_rcp85_ts.nc\")\n",
    "\n",
    "rcp85"
   ]
  },
  {
   "cell_type": "markdown",
   "metadata": {},
   "source": [
    "### Exercise\n",
    "\n",
    "In the original plot they use cumulative CO$_2$ emissions on the x-axis. We will use CO$_2$ concentration here.\n",
    "\n",
    "* Get `co2` and the surface air temperature anomaly (`tas_anom`) from `rcp85`.\n",
    "* What's the shape of the `tas_anom`?\n",
    "* Calculate the multimodel mean. As we use xarray, you can do that by calling `rcp85.tas_anom.mean('ens')`.\n",
    "* Make a plot of `co2` and the multi model tas mean.\n"
   ]
  },
  {
   "cell_type": "code",
   "execution_count": null,
   "metadata": {},
   "outputs": [],
   "source": [
    "f, ax = plt.subplots()\n",
    "\n",
    "# co2 =\n",
    "# tasmean =\n",
    "\n",
    "# ax.plot(...)"
   ]
  },
  {
   "cell_type": "markdown",
   "metadata": {},
   "source": [
    "### Solution"
   ]
  },
  {
   "cell_type": "code",
   "execution_count": null,
   "metadata": {
    "hide_input": true
   },
   "outputs": [],
   "source": [
    "f, ax = plt.subplots()\n",
    "\n",
    "co2 = rcp85.co2\n",
    "tasmean = rcp85.tas_anom.mean(\"ens\")\n",
    "\n",
    "ax.plot(co2, tasmean)"
   ]
  },
  {
   "cell_type": "markdown",
   "metadata": {},
   "source": [
    "### Calculating decadal averages\n",
    "\n",
    "We can use `resample` to calculate 10-year averages."
   ]
  },
  {
   "cell_type": "code",
   "execution_count": null,
   "metadata": {},
   "outputs": [],
   "source": [
    "rcp26_decade = rcp26.resample(time=\"10A\").mean()\n",
    "rcp26_decade[\"year\"] = rcp26_decade[\"time.year\"]\n",
    "\n",
    "rcp45_decade = rcp45.resample(time=\"10A\").mean()\n",
    "rcp45_decade[\"year\"] = rcp45_decade[\"time.year\"]\n",
    "\n",
    "rcp60_decade = rcp60.resample(time=\"10A\").mean()\n",
    "rcp60_decade[\"year\"] = rcp60_decade[\"time.year\"]\n",
    "\n",
    "rcp85_decade = rcp85.resample(time=\"10A\").mean()\n",
    "rcp85_decade[\"year\"] = rcp85_decade[\"time.year\"]"
   ]
  },
  {
   "cell_type": "markdown",
   "metadata": {},
   "source": [
    "### Exercise\n",
    "\n",
    "* Add the 10-year mean data:\n",
    "  * Read & plot `co2` and the surface air temperature anomaly (`tas_anom`) from `rcp85_decade`.\n",
    "  * Add markers to each datapoint of `tasmean_decade`.\n",
    "* Why does the curve with annual means go further than the decadal means?\n"
   ]
  },
  {
   "cell_type": "code",
   "execution_count": null,
   "metadata": {},
   "outputs": [],
   "source": [
    "f, ax = plt.subplots()\n",
    "\n",
    "co2 = rcp85.co2\n",
    "tasmean = rcp85.tas_anom.mean(\"ens\")\n",
    "\n",
    "ax.plot(co2, tasmean)\n",
    "\n",
    "# co2_decade = ...\n",
    "# tasmean_decade = ...\n",
    "\n",
    "# ax.plot(...)"
   ]
  },
  {
   "cell_type": "markdown",
   "metadata": {},
   "source": [
    "### Solution"
   ]
  },
  {
   "cell_type": "code",
   "execution_count": null,
   "metadata": {
    "hide_input": true
   },
   "outputs": [],
   "source": [
    "f, ax = plt.subplots()\n",
    "\n",
    "\n",
    "co2 = rcp85.co2\n",
    "tasmean = rcp85.tas_anom.mean(\"ens\")\n",
    "\n",
    "ax.plot(co2, tasmean)\n",
    "\n",
    "\n",
    "co2_decade = rcp85_decade.co2\n",
    "tasmean_decade = rcp85_decade.tas_anom.mean(\"ens\")\n",
    "\n",
    "ax.plot(co2_decade, tasmean_decade, marker=\".\")\n",
    "\n",
    "# the last point of 'decadal' corresponds to the mean 2091 to 2100 & there is a trend."
   ]
  },
  {
   "cell_type": "markdown",
   "metadata": {},
   "source": [
    "### Exercise\n",
    "\n",
    "With `xarray` you can select a time-range using `hist = rcp85_decade.sel(time=slice(None, '2010')`. You can then get `co2` and `tas_anom.mean('ens')` from `hist`.\n",
    "\n",
    "* Select `'2010'` to `'2100'` from `rcp85_decade`.\n",
    "\n",
    "* Plot `*_hist` (1970 to 2010) in black. \n",
    "* Plot `*_fut` (2010 to 2100) in red line (`color='#e31a1c'`).\n",
    "* Add markers (`'o'`) and make sure the black marker gets plotted above the red marker."
   ]
  },
  {
   "cell_type": "code",
   "execution_count": null,
   "metadata": {},
   "outputs": [],
   "source": [
    "f, ax = plt.subplots()\n",
    "\n",
    "# get historical data\n",
    "hist = rcp85_decade.sel(time=slice(None, \"2010\"))\n",
    "co2_hist = hist.co2\n",
    "tasmean_hist = hist.tas_anom.mean(\"ens\")\n",
    "\n",
    "# get projections\n",
    "# fut =\n",
    "# co2_fut =\n",
    "# tasmean_fut =\n",
    "# ...\n",
    "\n",
    "# ax.plot(...)\n",
    "# ax.plot(...)"
   ]
  },
  {
   "cell_type": "markdown",
   "metadata": {},
   "source": [
    "### Solution"
   ]
  },
  {
   "cell_type": "code",
   "execution_count": null,
   "metadata": {
    "hide_input": true
   },
   "outputs": [],
   "source": [
    "f, ax = plt.subplots()\n",
    "\n",
    "# get historical data\n",
    "hist = rcp85_decade.sel(time=slice(None, \"2010\"))\n",
    "co2_hist = hist.co2\n",
    "tasmean_hist = hist.tas_anom.mean(\"ens\")\n",
    "\n",
    "fut = rcp85_decade.sel(time=slice(\"2010\", None))\n",
    "co2_fut = fut.co2\n",
    "tasmean_fut = fut.tas_anom.mean(\"ens\")\n",
    "\n",
    "\n",
    "ax.plot(co2_fut, tasmean_fut, color=\"#e31a1c\", marker=\"o\")\n",
    "ax.plot(co2_hist, tasmean_hist, color=\"0.1\", marker=\"o\")"
   ]
  },
  {
   "cell_type": "markdown",
   "metadata": {},
   "source": [
    "### Plot function\n",
    "\n",
    "We just wrote the same code twice... (Except for the selected years). This is pretty annoying... *And*, we would now need to add this code for every RCP scenario we want to plot. To our rescue, we can define a small function to do the selection and plotting for us:\n",
    "\n",
    "``` python\n",
    "\n",
    "def add_line(data, color, ax, time=slice('2010', None)):\n",
    "    \"\"\"select time period and plot mean tas\"\"\"\n",
    "\n",
    "    # select time period\n",
    "    data = data.sel(time=time)\n",
    "\n",
    "    # get data\n",
    "    year = data.year\n",
    "    tasmean = data.tas_anom.mean('ens')\n",
    "    \n",
    "    # add plot\n",
    "    ax.plot(year, tasmean, color=color)\n",
    "\n",
    "```\n",
    "\n",
    "#### Comments\n",
    "\n",
    "* I assume you know that\n",
    "  * python functions are constructed as `def name(argument, keyword_argument='default'):`\n",
    "  * they need four spaces indentation. \n",
    "* The function expects three arguments, `data`, `color`, and `ax`.\n",
    "* `time` has a default value, because most of the calls will be for this time period.\n",
    "\n",
    "\n",
    "### Exercise\n",
    "* Try it out\n",
    "* Add the other three RCPs (only the time period 2010 to 2100, the historical data is the same for all of them.)\n",
    "* Use the following colors\n",
    "  * rcp60: '#ff7f00'\n",
    "  * rcp45: '#1f78b4'\n",
    "  * rcp26: '#a6cee3'\n",
    "* Note: I think it does not make sense that RCP 4.5 has the brighter color than RCP 2.6, so I swapped them.\n",
    "* Matlab users: appreciate how easy it is to define default values in python."
   ]
  },
  {
   "cell_type": "code",
   "execution_count": null,
   "metadata": {},
   "outputs": [],
   "source": [
    "def add_line(data, color, ax, time=slice(\"2010\", None)):\n",
    "    \"\"\"select time period and plot mean tas\"\"\"\n",
    "\n",
    "    data = data.sel(time=time)\n",
    "\n",
    "    co2 = data.co2\n",
    "    tasmean = data.tas_anom.mean(\"ens\")\n",
    "\n",
    "    ax.plot(co2, tasmean, color=color)\n",
    "\n",
    "\n",
    "# ==============================================================\n",
    "\n",
    "f, ax = plt.subplots()\n",
    "\n",
    "# add projections\n",
    "add_line(rcp85_decade, \"#e31a1c\", ax)\n",
    "\n",
    "# add historical period (time=slice(....))"
   ]
  },
  {
   "cell_type": "markdown",
   "metadata": {},
   "source": [
    "### Solution"
   ]
  },
  {
   "cell_type": "code",
   "execution_count": null,
   "metadata": {
    "hide_input": true
   },
   "outputs": [],
   "source": [
    "def add_line(data, color, ax, time=slice(\"2010\", None)):\n",
    "    \"\"\"select time period and plot mean tas\"\"\"\n",
    "\n",
    "    data = data.sel(time=time)\n",
    "\n",
    "    co2 = data.co2\n",
    "    tasmean = data.tas_anom.mean(\"ens\")\n",
    "\n",
    "    ax.plot(co2, tasmean, color=color)\n",
    "\n",
    "\n",
    "# ==============================================================\n",
    "\n",
    "f, ax = plt.subplots()\n",
    "\n",
    "\n",
    "# add projections\n",
    "add_line(rcp85_decade, \"#e31a1c\", ax)\n",
    "add_line(rcp60_decade, \"#ff7f00\", ax)\n",
    "add_line(rcp45_decade, \"#1f78b4\", ax)\n",
    "add_line(rcp26_decade, \"#a6cee3\", ax)\n",
    "\n",
    "# add historical period\n",
    "add_line(rcp85_decade, \"0.1\", ax, time=slice(None, \"2010\"))"
   ]
  },
  {
   "cell_type": "markdown",
   "metadata": {},
   "source": [
    "### Refining the function\n",
    "\n",
    "This is already better, but we are still missing some things:\n",
    " * We need to add the markers.\n",
    " * What if we want to change other properties, such as the linewidth? Do we have to add a keyword argument for all of them?\n",
    " * What if we later require the return value of `ax.plot`?\n",
    " * Also, I would like to be able to do `add_line(rcp85_decade, 'm')`, i.e. I don't want to have to specify the `ax`.\n",
    " \n",
    "#### Not explicitly requiring axes\n",
    "\n",
    "When writing such a function it is very common (citation needed) to set `def fcn(..., ax=None, ...)`, as not to require this keyword. In the function we then check `if ax is None` and set it to `ax = plt.gca()` if needed. `gca` stands for get current axes - if an axes instance exists it gets it, if no axes exist it creates a new figure and axes.\n",
    "\n",
    "#### Return value of `ax.plot`\n",
    "\n",
    "Just do `return ax.plot(...)`. \n",
    "\n",
    "\n",
    "#### **kwargs\n",
    "\n",
    "To tackle the second point we can make use of `**kwargs` (= keyword arguments, named arguments) to let your functions take an arbitrary number of keyword arguments (`**` unpacks dictionaries in python). We can then pass the `**kwargs` on to the plotting function. See below.\n",
    "\n",
    "#### Marker\n",
    "\n",
    "For the markers we could just add `marker='o'` to the arguments of the function. However your function definition can get very long. So we can make use of the fact that `kwargs` is a dict - we can set a value if it is not yet in the dict, using\n",
    "`kwargs['key'] = kwargs.pop('key', 'default')` - see an example below.\n",
    "\n",
    "\n",
    "#### plot function skeleton\n",
    "\n",
    "Therefore we get the following\n",
    "\n",
    "``` python\n",
    "\n",
    "def pltfunc(data, ax=None, **kwargs):\n",
    "    \"\"\"select time period and plot mean tas\"\"\"\n",
    "\n",
    "    if ax is None:\n",
    "        ax = plt.gca()\n",
    "\n",
    "    # DO STUFF\n",
    "\n",
    "    return ax.plot(year, tasmean, **kwargs)\n",
    "\n",
    "```\n",
    "\n",
    "#### Note\n",
    "Of course deciding between requiring a value (`def fcn(color):`),  setting a default value (`def fcn(color='r'):`), using kwargs and pop to set a default (`kwargs['color'] = kwargs.pop('color', 'r')`), or not setting the value at all (and let the user set it via `**kwargs`) is mostly a matter of taste."
   ]
  },
  {
   "cell_type": "markdown",
   "metadata": {},
   "source": [
    "### Showcase **kwargs"
   ]
  },
  {
   "cell_type": "code",
   "execution_count": null,
   "metadata": {},
   "outputs": [],
   "source": [
    "def func(**kwargs):\n",
    "    print(kwargs)\n",
    "    print(type(kwargs))\n",
    "\n",
    "\n",
    "# kwargs is an empty dict\n",
    "print(\"func():\")\n",
    "func()\n",
    "\n",
    "print()\n",
    "print(\"func(a='a', color='red', t=5)\")\n",
    "# kwargs is a dict with all specified, named arguments\n",
    "func(a=\"a\", color=\"red\", t=5)"
   ]
  },
  {
   "cell_type": "markdown",
   "metadata": {},
   "source": [
    "### Showcase dict.pop"
   ]
  },
  {
   "cell_type": "code",
   "execution_count": null,
   "metadata": {},
   "outputs": [],
   "source": [
    "# create an empty dict\n",
    "d = dict()\n",
    "\n",
    "print(\"Uses the default value:\")\n",
    "print(d.pop(\"color\", \"r\"))\n",
    "\n",
    "d[\"color\"] = \"b\"\n",
    "\n",
    "print(\"The dict now contains an entry:\")\n",
    "print(d)\n",
    "\n",
    "print(\"Uses the value in the dict:\")\n",
    "print(d.pop(\"color\", \"r\"))\n",
    "\n",
    "print(\"The entry is gone (that's what pop does):\")\n",
    "print(d)\n",
    "print(\"If the entry should stay in the dict, use `get`.\")"
   ]
  },
  {
   "cell_type": "code",
   "execution_count": null,
   "metadata": {},
   "outputs": [],
   "source": [
    "# again\n",
    "d = dict()\n",
    "\n",
    "print(\"d is empty:\")\n",
    "print(d)\n",
    "\n",
    "d[\"color\"] = d.pop(\"color\", \"b\")\n",
    "\n",
    "print(\"Uses 'b' as the dict is empty & fills the dict.\")\n",
    "print(d)\n",
    "\n",
    "d[\"color\"] = d.pop(\"color\", \"r\")\n",
    "\n",
    "print(\"Uses 'b' and not 'r' as the key already exists.\")\n",
    "print(d)"
   ]
  },
  {
   "cell_type": "markdown",
   "metadata": {},
   "source": [
    "### Refined function:\n",
    "\n",
    "Implementing all the things we have learned, we end up with the following function:\n",
    "\n",
    "``` python\n",
    "\n",
    "def add_line(data, color, ax=None, time=slice('2010', None), **kwargs):\n",
    "    \"\"\"select time period and plot mean tas\"\"\"\n",
    "\n",
    "    kwargs['marker'] = kwargs.pop('marker', 'o')\n",
    "    \n",
    "    if ax is None:\n",
    "        ax = plt.gca()\n",
    "\n",
    "    # get data    \n",
    "    data = data.sel(time=time)\n",
    "\n",
    "    co2 = data.co2\n",
    "    tasmean = data.tas_anom.mean('ens')\n",
    "\n",
    "    return ax.plot(co2, tasmean, color=color, **kwargs)\n",
    "\n",
    "```\n",
    "\n",
    "\n",
    "### Exercise\n",
    "\n",
    "* Try it out"
   ]
  },
  {
   "cell_type": "code",
   "execution_count": null,
   "metadata": {},
   "outputs": [],
   "source": [
    "def add_line(data, color, ax=None, time=slice(\"2010\", None), **kwargs):\n",
    "    \"\"\"select time period and plot mean tas\"\"\"\n",
    "\n",
    "    kwargs[\"marker\"] = kwargs.pop(\"marker\", \"o\")\n",
    "\n",
    "    if ax is None:\n",
    "        ax = plt.gca()\n",
    "\n",
    "    # get data\n",
    "    data = data.sel(time=time)\n",
    "\n",
    "    co2 = data.co2\n",
    "    tasmean = data.tas_anom.mean(\"ens\")\n",
    "\n",
    "    return ax.plot(co2, tasmean, color=color, **kwargs)\n",
    "\n",
    "\n",
    "# ==============================================================\n",
    "\n",
    "f, ax = plt.subplots()\n",
    "\n",
    "# add projections\n",
    "add_line(rcp85_decade, color=\"#e31a1c\", ax=ax)\n",
    "add_line(rcp60_decade, color=\"#ff7f00\", ax=ax)\n",
    "add_line(rcp45_decade, color=\"#1f78b4\", ax=ax)\n",
    "add_line(rcp26_decade, color=\"#a6cee3\", ax=ax)\n",
    "\n",
    "# add historical period\n",
    "add_line(rcp85_decade, color=\"0.1\", time=slice(None, \"2010\"), ax=ax)"
   ]
  },
  {
   "cell_type": "markdown",
   "metadata": {},
   "source": [
    "### Defining the function in an external file\n",
    "\n",
    "When you want to use your helper function in multiple notebooks, you need to add it to a separate \\*.py file. Have a look at the [utils.py](utils.py) file in the current folder. It contains the `add_line` function.\n"
   ]
  },
  {
   "cell_type": "code",
   "execution_count": null,
   "metadata": {},
   "outputs": [],
   "source": [
    "import utils"
   ]
  },
  {
   "cell_type": "code",
   "execution_count": null,
   "metadata": {},
   "outputs": [],
   "source": [
    "# uncomment to get the docstring\n",
    "# utils.add_line?"
   ]
  },
  {
   "cell_type": "code",
   "execution_count": null,
   "metadata": {},
   "outputs": [],
   "source": [
    "# uncomment to get the docstring\n",
    "# utils.add_line??"
   ]
  },
  {
   "cell_type": "markdown",
   "metadata": {},
   "source": [
    "### Exercise\n",
    " * Change the following code such that you use `add_line` from `utils`.\n",
    " * It should print \"Using \\`add_line\\` from \\`utils\\`.\" twice."
   ]
  },
  {
   "cell_type": "code",
   "execution_count": null,
   "metadata": {},
   "outputs": [],
   "source": [
    "f, ax = plt.subplots()\n",
    "\n",
    "# add projections\n",
    "add_line(rcp85_decade, color=\"#e31a1c\", ax=ax)\n",
    "\n",
    "# add historical period\n",
    "add_line(rcp85_decade, \"0.1\", time=slice(None, \"2010\"), ax=ax)"
   ]
  },
  {
   "cell_type": "markdown",
   "metadata": {},
   "source": [
    "### Solution"
   ]
  },
  {
   "cell_type": "code",
   "execution_count": null,
   "metadata": {
    "hide_input": true
   },
   "outputs": [],
   "source": [
    "f, ax = plt.subplots()\n",
    "\n",
    "# add projections\n",
    "utils.add_line(rcp85_decade, color=\"#e31a1c\", ax=ax)\n",
    "\n",
    "# add historical period\n",
    "utils.add_line(rcp85_decade, \"0.1\", time=slice(None, \"2010\"), ax=ax)"
   ]
  },
  {
   "cell_type": "markdown",
   "metadata": {},
   "source": [
    "### Adapt the function\n",
    "\n",
    "The function is not yet entirely correct.\n",
    "\n",
    " * Change `utils.py`:\n",
    "   * I forgot the line `kwargs['marker'] = kwargs.pop('marker', 'o')`. Add it.\n",
    "   * Remove the annoying print statement.\n",
    "   * Don't forget to save your changes\n",
    " * Try if your changes took effect:"
   ]
  },
  {
   "cell_type": "code",
   "execution_count": null,
   "metadata": {},
   "outputs": [],
   "source": [
    "f, ax = plt.subplots()\n",
    "\n",
    "# add projections\n",
    "utils.add_line(rcp85_decade, color=\"#e31a1c\", ax=ax)\n",
    "\n",
    "# add historical period\n",
    "utils.add_line(rcp85_decade, \"0.1\", time=slice(None, \"2010\"), ax=ax)"
   ]
  },
  {
   "cell_type": "markdown",
   "metadata": {},
   "source": [
    "### Nothing changed\n",
    "\n",
    "Once the source code has been imported, it does not change even when you change the file it came from. Now you can\n",
    " * restart the notebook (Kernel -> Restart), and rerun the whole notebook, this is the cleanest solution, but it may take a while to reload the data.\n",
    " * use `reload` to explicitly tell python that your source code has changed."
   ]
  },
  {
   "cell_type": "code",
   "execution_count": null,
   "metadata": {},
   "outputs": [],
   "source": [
    "# import the reload capability (needed in python3)\n",
    "\n",
    "from importlib import reload\n",
    "\n",
    "# reload the script with your notifications\n",
    "reload(utils)"
   ]
  },
  {
   "cell_type": "code",
   "execution_count": null,
   "metadata": {},
   "outputs": [],
   "source": [
    "f, ax = plt.subplots()\n",
    "\n",
    "# add projections\n",
    "utils.add_line(rcp85_decade, color=\"#e31a1c\", ax=ax)\n",
    "\n",
    "# add historical period\n",
    "utils.add_line(rcp85_decade, \"0.1\", time=slice(None, \"2010\"), ax=ax)"
   ]
  },
  {
   "cell_type": "markdown",
   "metadata": {},
   "source": [
    "### Adding the uncertainty bands (range)\n",
    "\n",
    "Adding the uncertainty bands is quite tricky, because the x-axis is in CO$_2$ and not in time (see [Exercise 1.1](../Part1_Matplotlib/ex1_1_first_plot.ipynb)). We will bin all tas_anom data (remember that tas_anom is made up from many models) and calculate the minimum and maximum. For this we can use the [groupby_bins function](http://xarray.pydata.org/en/stable/generated/xarray.DataArray.groupby_bins.html) of `xarray`.\n",
    "\n",
    "We will plot the range for each RCP individually. \n",
    "\n",
    "> Important: we do that with `rcpXX` and not with `rcpXX_decadal`, i.e. the annual data and not the decadal data.\n"
   ]
  },
  {
   "cell_type": "code",
   "execution_count": null,
   "metadata": {},
   "outputs": [],
   "source": [
    "# create the bins\n",
    "\n",
    "co2_bins = np.arange(280, 960, 20)\n",
    "co2_bin_centers = (co2_bins[1:] + co2_bins[:-1]) / 2\n",
    "\n",
    "print(\"bins:\", co2_bins[:3].tolist() + [\"...\"])\n",
    "print(\"bin centers:\", co2_bin_centers[:2].tolist() + [\"...\"])\n",
    "\n",
    "print()\n",
    "print(\"shape:\")\n",
    "\n",
    "print(\"bins:\", co2_bins.shape)\n",
    "print(\"bin centers:\", co2_bin_centers.shape)"
   ]
  },
  {
   "cell_type": "code",
   "execution_count": null,
   "metadata": {},
   "outputs": [],
   "source": [
    "# not repeating the definition of add_line,\n",
    "# as we will not change it anymore\n",
    "\n",
    "# ==============================================================\n",
    "\n",
    "f, ax = plt.subplots()\n",
    "\n",
    "# ==============================================================\n",
    "\n",
    "# add range for rcp45\n",
    "\n",
    "# calculate minimum and maximum in each co2_bin\n",
    "mn = rcp45.groupby_bins(\"co2\", co2_bins).min(dim=[\"ens\", \"time\"]).tas_anom\n",
    "mx = rcp45.groupby_bins(\"co2\", co2_bins).max(dim=[\"ens\", \"time\"]).tas_anom\n",
    "\n",
    "ax.fill_between(co2_bin_centers, mn, mx, zorder=0, color=\"#ed9ca2\")\n",
    "\n",
    "# ==============================================================\n",
    "\n",
    "# add projections\n",
    "add_line(rcp85_decade, color=\"#e31a1c\", ax=ax)\n",
    "add_line(rcp60_decade, color=\"#ff7f00\", ax=ax)\n",
    "add_line(rcp45_decade, color=\"#1f78b4\", ax=ax)\n",
    "add_line(rcp26_decade, color=\"#a6cee3\", ax=ax)\n",
    "\n",
    "# add historical period\n",
    "add_line(rcp85_decade, \"0.1\", time=slice(None, \"2010\"), ax=ax)"
   ]
  },
  {
   "cell_type": "markdown",
   "metadata": {},
   "source": [
    "### Exercise\n",
    "\n",
    "* Write a function `shade_range`."
   ]
  },
  {
   "cell_type": "code",
   "execution_count": null,
   "metadata": {},
   "outputs": [],
   "source": [
    "# not repeating the definition of add_line,\n",
    "# as we will not change it anymore\n",
    "\n",
    "\n",
    "def shade_range(data, color=\"#ed9ca2\", ax=None, **kwargs):\n",
    "    # your code here\n",
    "\n",
    "    #     mn =\n",
    "    #     mx =\n",
    "    #     ax.fill_between(\n",
    "\n",
    "    pass\n",
    "\n",
    "\n",
    "# ==============================================================\n",
    "\n",
    "f, ax = plt.subplots()\n",
    "slice(None, \"2010\")\n",
    "\n",
    "# add range\n",
    "shade_range(rcp26, ax=ax)\n",
    "shade_range(rcp45, ax=ax)\n",
    "shade_range(rcp60, ax=ax)\n",
    "shade_range(rcp85, ax=ax)\n",
    "\n",
    "\n",
    "# add projections\n",
    "add_line(rcp85_decade, color=\"#e31a1c\", ax=ax)\n",
    "add_line(rcp60_decade, color=\"#ff7f00\", ax=ax)\n",
    "add_line(rcp45_decade, color=\"#1f78b4\", ax=ax)\n",
    "add_line(rcp26_decade, color=\"#a6cee3\", ax=ax)\n",
    "\n",
    "# add historical period\n",
    "add_line(rcp85_decade, \"0.1\", time=slice(None, \"2010\"), ax=ax)"
   ]
  },
  {
   "cell_type": "markdown",
   "metadata": {},
   "source": [
    "### Solution"
   ]
  },
  {
   "cell_type": "code",
   "execution_count": null,
   "metadata": {
    "hide_input": true
   },
   "outputs": [],
   "source": [
    "def shade_range(data, color=\"#ed9ca2\", ax=None, **kwargs):\n",
    "\n",
    "    if ax is None:\n",
    "        ax = plt.gca()\n",
    "\n",
    "    mn = data.groupby_bins(\"co2\", co2_bins).min(dim=[\"time\", \"ens\"]).tas_anom\n",
    "    mx = data.groupby_bins(\"co2\", co2_bins).max(dim=[\"time\", \"ens\"]).tas_anom\n",
    "\n",
    "    return ax.fill_between(co2_bin_centers, mn.values, mx.values, color=color, zorder=0)\n",
    "\n",
    "\n",
    "# ==============================================================\n",
    "\n",
    "f, ax = plt.subplots()\n",
    "\n",
    "# add uncertainty\n",
    "shade_range(rcp26, ax=ax)\n",
    "shade_range(rcp45, ax=ax)\n",
    "shade_range(rcp60, ax=ax)\n",
    "shade_range(rcp85, ax=ax)\n",
    "\n",
    "\n",
    "# add projections\n",
    "add_line(rcp85_decade, color=\"#e31a1c\", ax=ax)\n",
    "add_line(rcp60_decade, color=\"#ff7f00\", ax=ax)\n",
    "add_line(rcp45_decade, color=\"#1f78b4\", ax=ax)\n",
    "add_line(rcp26_decade, color=\"#a6cee3\", ax=ax)\n",
    "\n",
    "# add historical period\n",
    "add_line(rcp85_decade, \"0.1\", time=slice(None, \"2010\"), ax=ax)"
   ]
  },
  {
   "cell_type": "markdown",
   "metadata": {},
   "source": [
    "### Exercise\n",
    "\n",
    "* add x & y labels\n",
    "* add a title (e.g. `'Temperature - CO2 scaling'`)\n",
    "* restrict the y-limit to -0.5..5\n",
    "* add a legend (don't forget `label='XXX'`)"
   ]
  },
  {
   "cell_type": "code",
   "execution_count": null,
   "metadata": {},
   "outputs": [],
   "source": [
    "f, ax = plt.subplots()\n",
    "\n",
    "# add uncertainty\n",
    "shade_range(rcp26, ax=ax)\n",
    "shade_range(rcp45, ax=ax)\n",
    "shade_range(rcp60, ax=ax)\n",
    "shade_range(rcp85, ax=ax)\n",
    "\n",
    "\n",
    "# add projections\n",
    "add_line(rcp85_decade, color=\"#e31a1c\", ax=ax)\n",
    "add_line(rcp60_decade, color=\"#ff7f00\", ax=ax)\n",
    "add_line(rcp45_decade, color=\"#1f78b4\", ax=ax)\n",
    "add_line(rcp26_decade, color=\"#a6cee3\", ax=ax)\n",
    "\n",
    "# add historical period\n",
    "add_line(rcp85_decade, \"0.1\", time=slice(None, \"2010\"), ax=ax)\n",
    "\n",
    "# code here"
   ]
  },
  {
   "cell_type": "markdown",
   "metadata": {},
   "source": [
    "### Solution"
   ]
  },
  {
   "cell_type": "code",
   "execution_count": null,
   "metadata": {
    "hide_input": true
   },
   "outputs": [],
   "source": [
    "f, ax = plt.subplots()\n",
    "\n",
    "# add uncertainty\n",
    "shade_range(rcp26, ax=ax)\n",
    "shade_range(rcp45, ax=ax)\n",
    "shade_range(rcp60, ax=ax)\n",
    "shade_range(rcp85, ax=ax)\n",
    "\n",
    "\n",
    "# add projections\n",
    "add_line(rcp85_decade, color=\"#e31a1c\", ax=ax, label=\"RCP 8.5\")\n",
    "add_line(rcp60_decade, color=\"#ff7f00\", ax=ax, label=\"RCP 6.0\")\n",
    "add_line(rcp45_decade, color=\"#1f78b4\", ax=ax, label=\"RCP 4.5\")\n",
    "add_line(rcp26_decade, color=\"#a6cee3\", ax=ax, label=\"RCP 2.6\")\n",
    "\n",
    "# add historical period\n",
    "add_line(rcp85_decade, \"0.1\", time=slice(None, \"2010\"), ax=ax, label=\"Historical\")\n",
    "\n",
    "\n",
    "ax.set_title(\"Temperature - CO2 scaling\")\n",
    "ax.set_ylabel(\"T anom (wrt 1861 to 1881) [K]\")\n",
    "ax.set_xlabel(\"CO$_2$ [ppm]\")\n",
    "\n",
    "\n",
    "ax.set_ylim(-0.5, 5)\n",
    "\n",
    "ax.legend()"
   ]
  },
  {
   "cell_type": "markdown",
   "metadata": {},
   "source": [
    "### Exercise\n",
    "\n",
    " * Add the year labels to the curves, see original figure (e.g. '1900', '2000', '2010', '2050', '2100').\n",
    " I prepared a function to read the temperature and co2 from the date, given the year.\n",
    " You can do this with differing complexity:\n",
    "   * simple solution using `ax.text` (play with `ha` and `va` to avoid overlapping)\n",
    "   * advanced solution with `ax.annotate` and adjusting the offset, depending on whether we are to the right or the left of the curve.\n",
    " "
   ]
  },
  {
   "cell_type": "code",
   "execution_count": null,
   "metadata": {},
   "outputs": [],
   "source": [
    "f, ax = plt.subplots()\n",
    "\n",
    "# add uncertainty\n",
    "shade_range(rcp26, ax=ax)\n",
    "shade_range(rcp45, ax=ax)\n",
    "shade_range(rcp60, ax=ax)\n",
    "shade_range(rcp85, ax=ax)\n",
    "\n",
    "\n",
    "# add projections\n",
    "add_line(rcp85_decade, color=\"#e31a1c\", ax=ax, label=\"RCP 8.5\")\n",
    "add_line(rcp60_decade, color=\"#ff7f00\", ax=ax, label=\"RCP 6.0\")\n",
    "add_line(rcp45_decade, color=\"#1f78b4\", ax=ax, label=\"RCP 4.5\")\n",
    "add_line(rcp26_decade, color=\"#a6cee3\", ax=ax, label=\"RCP 2.6\")\n",
    "\n",
    "# add historical period\n",
    "add_line(rcp85_decade, \"0.1\", time=slice(None, \"2010\"), ax=ax, label=\"Historical\")\n",
    "\n",
    "\n",
    "ax.set_title(\"Temperature - CO2 scaling\")\n",
    "ax.set_ylabel(\"T anom (wrt 1861 to 1881) [K]\")\n",
    "ax.set_xlabel(\"CO$_2$ [ppm]\")\n",
    "\n",
    "\n",
    "ax.set_ylim(-0.5, 5)\n",
    "\n",
    "ax.legend()\n",
    "\n",
    "# ==============================================================\n",
    "\n",
    "\n",
    "def add_year(ax, data, time, color, **kwargs):\n",
    "\n",
    "    # convert time (2000) to a string ('2000')\n",
    "    str_time = str(time)\n",
    "\n",
    "    # get tas_anom and co2 at time\n",
    "    tas_anom = data.tas_anom.sel(time=str(time)).mean(\"ens\")\n",
    "    co2 = data.co2.sel(time=str(time))\n",
    "\n",
    "    kwargs[\"fontsize\"] = kwargs.pop(\"fontsize\", 8)\n",
    "\n",
    "    # code here\n",
    "    # ax.text(...)\n",
    "\n",
    "\n",
    "# ==============================================================\n",
    "\n",
    "# call of the function here\n",
    "\n",
    "# rcps\n",
    "add_year(ax, rcp85_decade, 2050, \"#e31a1c\", va=\"top\")\n",
    "add_year(ax, rcp85_decade, 2100, \"#e31a1c\", va=\"top\")\n",
    "\n",
    "add_year(ax, rcp60_decade, 2050, \"#ff7f00\", va=\"top\")\n",
    "add_year(ax, rcp60_decade, 2100, \"#ff7f00\", va=\"top\")\n",
    "\n",
    "add_year(ax, rcp45_decade, 2050, \"#1f78b4\", ha=\"right\")\n",
    "add_year(ax, rcp45_decade, 2100, \"#1f78b4\", ha=\"right\")\n",
    "\n",
    "add_year(ax, rcp26_decade, 2100, \"#a6cee3\", ha=\"right\")\n",
    "\n",
    "# observations\n",
    "add_year(ax, rcp26_decade, 2010, \"0.1\", ha=\"right\")\n",
    "add_year(ax, rcp26_decade, 2000, \"0.1\", ha=\"right\")\n",
    "add_year(ax, rcp85_decade, 1950, \"0.1\", va=\"top\")\n",
    "add_year(ax, rcp85_decade, 1900, \"0.1\", va=\"top\")"
   ]
  },
  {
   "cell_type": "markdown",
   "metadata": {},
   "source": [
    "### Solution (ax.text, simple)\n",
    "\n",
    "the colors should be tweaked a bit"
   ]
  },
  {
   "cell_type": "code",
   "execution_count": null,
   "metadata": {
    "hide_input": true
   },
   "outputs": [],
   "source": [
    "f, ax = plt.subplots()\n",
    "\n",
    "# add uncertainty\n",
    "shade_range(rcp26, ax=ax)\n",
    "shade_range(rcp45, ax=ax)\n",
    "shade_range(rcp60, ax=ax)\n",
    "shade_range(rcp85, ax=ax)\n",
    "\n",
    "\n",
    "# add projections\n",
    "add_line(rcp85_decade, color=\"#e31a1c\", ax=ax, label=\"RCP 8.5\")\n",
    "add_line(rcp60_decade, color=\"#ff7f00\", ax=ax, label=\"RCP 6.0\")\n",
    "add_line(rcp45_decade, color=\"#1f78b4\", ax=ax, label=\"RCP 4.5\")\n",
    "add_line(rcp26_decade, color=\"#a6cee3\", ax=ax, label=\"RCP 2.6\")\n",
    "\n",
    "# add historical period\n",
    "add_line(rcp85_decade, \"0.1\", time=slice(None, \"2010\"), ax=ax, label=\"Historical\")\n",
    "\n",
    "\n",
    "ax.set_title(\"Temperature - CO2 scaling\")\n",
    "ax.set_ylabel(\"T anom (wrt 1861 to 1881) [K]\")\n",
    "ax.set_xlabel(\"CO$_2$ [ppm]\")\n",
    "\n",
    "\n",
    "ax.set_ylim(-0.5, 5)\n",
    "\n",
    "ax.legend()\n",
    "\n",
    "\n",
    "time = 2100\n",
    "\n",
    "\n",
    "def add_year(ax, data, time, color, **kwargs):\n",
    "\n",
    "    # convert time (2000) to a string ('2000')\n",
    "    str_time = str(time)\n",
    "\n",
    "    # get tas_anom and co2 at time\n",
    "    tas_anom = data.tas_anom.sel(time=str(time)).mean(\"ens\")\n",
    "    co2 = data.co2.sel(time=str(time))\n",
    "\n",
    "    kwargs[\"fontsize\"] = kwargs.pop(\"fontsize\", 8)\n",
    "\n",
    "    ax.text(co2, tas_anom, str_time, color=color, **kwargs)\n",
    "\n",
    "\n",
    "# rcps\n",
    "add_year(ax, rcp85_decade, 2050, \"#e31a1c\", va=\"top\")\n",
    "add_year(ax, rcp85_decade, 2100, \"#e31a1c\", va=\"top\")\n",
    "\n",
    "add_year(ax, rcp60_decade, 2050, \"#ff7f00\", va=\"top\")\n",
    "add_year(ax, rcp60_decade, 2100, \"#ff7f00\", va=\"top\")\n",
    "\n",
    "add_year(ax, rcp45_decade, 2050, \"#1f78b4\", ha=\"right\")\n",
    "add_year(ax, rcp45_decade, 2100, \"#1f78b4\", ha=\"right\")\n",
    "\n",
    "add_year(ax, rcp26_decade, 2100, \"#a6cee3\", ha=\"right\")\n",
    "\n",
    "# observations\n",
    "add_year(ax, rcp26_decade, 2010, \"0.1\", ha=\"right\")\n",
    "add_year(ax, rcp26_decade, 2000, \"0.1\", ha=\"right\")\n",
    "add_year(ax, rcp85_decade, 1950, \"0.1\", va=\"top\")\n",
    "add_year(ax, rcp85_decade, 1900, \"0.1\", va=\"top\")"
   ]
  },
  {
   "cell_type": "markdown",
   "metadata": {},
   "source": [
    "### Solution (ax.annotate, fancy)\n",
    "\n",
    "the colors should be tweaked a bit"
   ]
  },
  {
   "cell_type": "code",
   "execution_count": null,
   "metadata": {
    "hide_input": true
   },
   "outputs": [],
   "source": [
    "f, ax = plt.subplots()\n",
    "\n",
    "# add uncertainty\n",
    "shade_range(rcp26, ax=ax)\n",
    "shade_range(rcp45, ax=ax)\n",
    "shade_range(rcp60, ax=ax)\n",
    "shade_range(rcp85, ax=ax)\n",
    "\n",
    "\n",
    "# add projections\n",
    "add_line(rcp85_decade, color=\"#e31a1c\", ax=ax, label=\"RCP 8.5\")\n",
    "add_line(rcp60_decade, color=\"#ff7f00\", ax=ax, label=\"RCP 6.0\")\n",
    "add_line(rcp45_decade, color=\"#1f78b4\", ax=ax, label=\"RCP 4.5\")\n",
    "add_line(rcp26_decade, color=\"#a6cee3\", ax=ax, label=\"RCP 2.6\")\n",
    "\n",
    "# add historical period\n",
    "add_line(rcp85_decade, \"0.1\", time=slice(None, \"2010\"), ax=ax, label=\"Historical\")\n",
    "\n",
    "\n",
    "ax.set_title(\"Temperature - CO2 scaling\")\n",
    "ax.set_ylabel(\"T anom (wrt 1861 to 1881) [K]\")\n",
    "ax.set_xlabel(\"CO$_2$ [ppm]\")\n",
    "\n",
    "\n",
    "ax.set_ylim(-0.5, 5)\n",
    "\n",
    "ax.legend()\n",
    "\n",
    "\n",
    "time = 2100\n",
    "\n",
    "\n",
    "def add_year(ax, data, time, color, right=True):\n",
    "\n",
    "    # convert time (2000) to a string ('2000')\n",
    "    str_time = str(time)\n",
    "\n",
    "    # get tas_anom and co2 at time\n",
    "    tas_anom = data.tas_anom.sel(time=str(time)).mean(\"ens\")\n",
    "    co2 = data.co2.sel(time=str(time))\n",
    "\n",
    "    x_offset = 3 if right else -3\n",
    "\n",
    "    ha = \"left\" if right else \"right\"\n",
    "    va = \"top\" if right else \"bottom\"\n",
    "\n",
    "    ax.annotate(\n",
    "        str_time,\n",
    "        xy=(co2, tas_anom),\n",
    "        xytext=(x_offset, -2),\n",
    "        textcoords=\"offset points\",\n",
    "        va=va,\n",
    "        ha=ha,\n",
    "        fontsize=8,\n",
    "        color=color,\n",
    "    )\n",
    "\n",
    "\n",
    "add_year(ax, rcp85_decade, 2050, \"#e31a1c\")\n",
    "add_year(ax, rcp85_decade, 2100, \"#e31a1c\")\n",
    "\n",
    "add_year(ax, rcp60_decade, 2050, \"#ff7f00\")\n",
    "add_year(ax, rcp60_decade, 2100, \"#ff7f00\")\n",
    "\n",
    "add_year(ax, rcp45_decade, 2050, \"#1f78b4\", right=False)\n",
    "add_year(ax, rcp45_decade, 2100, \"#1f78b4\")\n",
    "\n",
    "add_year(ax, rcp26_decade, 2100, \"#a6cee3\", right=False)\n",
    "\n",
    "add_year(ax, rcp26_decade, 2010, \"0.1\", right=False)\n",
    "add_year(ax, rcp26_decade, 2000, \"0.1\", right=True)\n",
    "add_year(ax, rcp26_decade, 1950, \"0.1\", right=False)\n",
    "add_year(ax, rcp26_decade, 1900, \"0.1\", right=True)"
   ]
  },
  {
   "cell_type": "markdown",
   "metadata": {},
   "source": [
    "## Bonus: Color gradient\n",
    "\n",
    "Ok, I know you want it - the color gradient. Unfortunately, there is no possibility to add it automatically, so it's not easy to do - I follow a recipe from a [blog](http://pradhanphy.blogspot.ch/2014/06/filling-between-curves-with-color.html).\n",
    "\n",
    "Instead of using `fill_between`, we will add a rgb-image with a color gradient. With the original color on the left (`'#ed9ca2'` = `(0.93, 0.61, 0.63)`) to white on the right (`'#ffffff'` = `(1, 1, 1)`). Then we clip the image to the extent of the range. "
   ]
  },
  {
   "cell_type": "code",
   "execution_count": null,
   "metadata": {},
   "outputs": [],
   "source": [
    "# we need to import Path an PathPatch\n",
    "\n",
    "import matplotlib as mpl\n",
    "from matplotlib.path import Path\n",
    "from matplotlib.patches import PathPatch"
   ]
  },
  {
   "cell_type": "markdown",
   "metadata": {},
   "source": [
    "First we need a function to encode the colors values. We could do it linearly, but let's choose a fancier function: it should be relatively constant at first and then show a strong increase to the right. We choose a function of the form\n",
    "\n",
    "> $\\alpha = \\frac{\\exp(\\mathrm{co2} * \\gamma)}{\\exp(\\max(\\mathrm{co2}) * \\gamma)}$\n",
    "\n",
    "$\\gamma$ is determined by testing various values."
   ]
  },
  {
   "cell_type": "code",
   "execution_count": null,
   "metadata": {},
   "outputs": [],
   "source": [
    "co2_min = co2_bin_centers.min()\n",
    "co2_max = co2_bin_centers.max()\n",
    "\n",
    "co2 = np.linspace(co2_min, co2_max, 600)\n",
    "\n",
    "gamma = 0.005\n",
    "\n",
    "alpha = np.exp(co2 * gamma) / np.exp(co2_max * gamma)\n",
    "\n",
    "\n",
    "plt.plot(co2, alpha)\n",
    "\n",
    "plt.xlabel(\"CO2\")\n",
    "plt.ylabel(\"alpha channel\");"
   ]
  },
  {
   "cell_type": "markdown",
   "metadata": {},
   "source": [
    "Next we need to create an array with the colors."
   ]
  },
  {
   "cell_type": "code",
   "execution_count": null,
   "metadata": {},
   "outputs": [],
   "source": [
    "# convert the hexadecimal color to rgb\n",
    "r, g, b, _ = mpl.colors.to_rgba(\"#ed9ca2\")\n",
    "\n",
    "# create an empty rgba array\n",
    "color_gradient = np.ones([1, len(alpha), 3])\n",
    "\n",
    "# assign the r, g, and b values\n",
    "color_gradient[:, :, 0] = r + (1 - r) * alpha\n",
    "color_gradient[:, :, 1] = g + (1 - g) * alpha\n",
    "color_gradient[:, :, 2] = b + (1 - b) * alpha\n",
    "\n",
    "print(color_gradient.shape)\n",
    "\n",
    "color_gradient[0, :]"
   ]
  },
  {
   "cell_type": "markdown",
   "metadata": {},
   "source": [
    "The `color_gradient` array has the dimensions `(y, x, color)`."
   ]
  },
  {
   "cell_type": "markdown",
   "metadata": {},
   "source": [
    "We use `ax.imshow` to add the constructed color_gradient. This function plots images, it assumes each rgb value belongs to a pixel."
   ]
  },
  {
   "cell_type": "code",
   "execution_count": null,
   "metadata": {},
   "outputs": [],
   "source": [
    "f, ax = plt.subplots()\n",
    "\n",
    "ax.imshow(color_gradient, extent=[co2.min(), co2.max(), -2, 7], origin=\"lower\")\n",
    "ax.set_aspect(\"auto\")\n",
    "\n",
    "\n",
    "# add projections\n",
    "add_line(rcp85_decade, color=\"#e31a1c\", ax=ax)\n",
    "\n",
    "# add historical period\n",
    "add_line(rcp85_decade, \"0.1\", time=slice(None, \"2010\"), ax=ax)"
   ]
  },
  {
   "cell_type": "markdown",
   "metadata": {},
   "source": [
    "According to the recipe, we first need to create a `Path`, then from this path, a `Patch` and then we need to clip the image to this patch. Let's start by creating a path manually:"
   ]
  },
  {
   "cell_type": "code",
   "execution_count": null,
   "metadata": {},
   "outputs": [],
   "source": [
    "f, ax = plt.subplots()\n",
    "\n",
    "# manually create a path\n",
    "p = [[400, 0], [900, 0], [900, 4], [400, 4]]\n",
    "path = Path(p)\n",
    "\n",
    "# create an invisible patch\n",
    "patch = PathPatch(path, facecolor=\"none\", edgecolor=\"none\")\n",
    "\n",
    "# we need to draw the patch, else\n",
    "ax.add_patch(patch)\n",
    "\n",
    "ax.imshow(\n",
    "    color_gradient,\n",
    "    extent=[co2.min(), co2.max(), -2, 7],\n",
    "    origin=\"lower\",\n",
    "    clip_on=True,\n",
    "    clip_path=patch,\n",
    ")\n",
    "\n",
    "ax.set_aspect(\"auto\")\n",
    "\n",
    "# add projections\n",
    "add_line(rcp85_decade, color=\"#e31a1c\", ax=ax)\n",
    "\n",
    "# add historical period\n",
    "add_line(rcp85_decade, \"0.1\", time=slice(None, \"2010\"), ax=ax)"
   ]
  },
  {
   "cell_type": "markdown",
   "metadata": {},
   "source": [
    "Next we need to get the path of the range from `fill_between` to clip the picture to the range of the data. We also put everything into a function:"
   ]
  },
  {
   "cell_type": "code",
   "execution_count": null,
   "metadata": {},
   "outputs": [],
   "source": [
    "def shade_range_gradient(data, color_gradient=color_gradient, ax=None, **kwargs):\n",
    "\n",
    "    if ax is None:\n",
    "        ax = plt.gca()\n",
    "\n",
    "    mn = data.groupby_bins(\"co2\", co2_bins).min(dim=[\"time\", \"ens\"]).tas_anom\n",
    "    mx = data.groupby_bins(\"co2\", co2_bins).max(dim=[\"time\", \"ens\"]).tas_anom\n",
    "\n",
    "    # make it invisible by using color='none\n",
    "    x = ax.fill_between(co2_bin_centers, mn.values, mx.values, color=\"none\", zorder=0)\n",
    "\n",
    "    # extract the path from fill_between\n",
    "    # we could also create the path manually, but this is easier\n",
    "    path = x.get_paths()\n",
    "\n",
    "    # create an invisible patch\n",
    "    patch = PathPatch(path[0], facecolor=\"none\", edgecolor=\"none\")\n",
    "\n",
    "    # we need to draw the patch, else the position is not correct\n",
    "    ax.add_patch(patch)\n",
    "\n",
    "    ax.imshow(\n",
    "        color_gradient,\n",
    "        extent=[co2.min(), co2.max(), -2, 7],\n",
    "        origin=\"lower\",\n",
    "        clip_on=True,\n",
    "        clip_path=patch,\n",
    "    )\n",
    "\n",
    "    ax.set_aspect(\"auto\")\n",
    "\n",
    "    return\n",
    "\n",
    "\n",
    "# ==============================================================\n",
    "\n",
    "f, ax = plt.subplots()\n",
    "\n",
    "shade_range_gradient(rcp85, ax=ax)\n",
    "shade_range_gradient(rcp60, ax=ax)\n",
    "shade_range_gradient(rcp45, ax=ax)\n",
    "shade_range_gradient(rcp26, ax=ax)\n",
    "\n",
    "\n",
    "# add projections\n",
    "add_line(rcp85_decade, color=\"#e31a1c\", ax=ax)\n",
    "add_line(rcp60_decade, color=\"#ff7f00\", ax=ax)\n",
    "add_line(rcp45_decade, color=\"#1f78b4\", ax=ax)\n",
    "add_line(rcp26_decade, color=\"#a6cee3\", ax=ax)\n",
    "\n",
    "# add historical period\n",
    "add_line(rcp85_decade, \"0.1\", time=slice(None, \"2010\"), ax=ax)"
   ]
  },
  {
   "cell_type": "markdown",
   "metadata": {},
   "source": [
    "## Final Plot\n",
    "\n",
    "Now we only need to add the legend, title, etc again:"
   ]
  },
  {
   "cell_type": "code",
   "execution_count": null,
   "metadata": {},
   "outputs": [],
   "source": [
    "# shade range does not change\n",
    "\n",
    "# ==============================================================\n",
    "\n",
    "f, ax = plt.subplots()\n",
    "\n",
    "shade_range_gradient(rcp85, ax=ax)\n",
    "shade_range_gradient(rcp60, ax=ax)\n",
    "shade_range_gradient(rcp45, ax=ax)\n",
    "shade_range_gradient(rcp26, ax=ax)\n",
    "\n",
    "\n",
    "# add projections\n",
    "add_line(rcp85_decade, color=\"#e31a1c\", ax=ax, label=\"RCP 8.5\")\n",
    "add_line(rcp60_decade, color=\"#ff7f00\", ax=ax, label=\"RCP 6.0\")\n",
    "add_line(rcp45_decade, color=\"#1f78b4\", ax=ax, label=\"RCP 4.5\")\n",
    "add_line(rcp26_decade, color=\"#a6cee3\", ax=ax, label=\"RCP 2.6\")\n",
    "\n",
    "# add historical period\n",
    "add_line(rcp85_decade, \"0.1\", time=slice(None, \"2010\"), ax=ax, label=\"Historical\")\n",
    "\n",
    "\n",
    "ax.set_ylim(-0.5, 5)\n",
    "\n",
    "\n",
    "ax.set_title(\"Temperature - CO2 scaling\")\n",
    "ax.set_ylabel(\"T anom (wrt 1861 to 1881) [K]\")\n",
    "ax.set_xlabel(\"CO$_2$ [ppm]\")\n",
    "\n",
    "\n",
    "ax.set_ylim(-0.5, 5)\n",
    "\n",
    "ax.legend()\n",
    "\n",
    "\n",
    "# use add_year to be consistent for all\n",
    "utils.add_year(ax, rcp85_decade, 2050, \"#e31a1c\")\n",
    "utils.add_year(ax, rcp85_decade, 2100, \"#e31a1c\")\n",
    "\n",
    "utils.add_year(ax, rcp60_decade, 2050, \"#ff7f00\")\n",
    "utils.add_year(ax, rcp60_decade, 2100, \"#ff7f00\")\n",
    "\n",
    "utils.add_year(ax, rcp45_decade, 2050, \"#1f78b4\", right=False)\n",
    "utils.add_year(ax, rcp45_decade, 2100, \"#1f78b4\")\n",
    "\n",
    "utils.add_year(ax, rcp26_decade, 2100, \"#a6cee3\", right=False)\n",
    "\n",
    "utils.add_year(ax, rcp26_decade, 2010, \"0.1\", right=False)\n",
    "utils.add_year(ax, rcp26_decade, 2000, \"0.1\", right=True)\n",
    "utils.add_year(ax, rcp26_decade, 1950, \"0.1\", right=False)\n",
    "utils.add_year(ax, rcp26_decade, 1900, \"0.1\", right=True)"
   ]
  },
  {
   "cell_type": "markdown",
   "metadata": {},
   "source": [
    "### Bonus exercise (no solution)\n",
    "\n",
    " * Create a colorgradient that fades out towards the top right edge of the plot.\n"
   ]
  }
 ],
 "metadata": {
  "hide_input": false,
  "kernelspec": {
   "display_name": "Python 3",
   "language": "python",
   "name": "python3"
  },
  "language_info": {
   "codemirror_mode": {
    "name": "ipython",
    "version": 3
   },
   "file_extension": ".py",
   "mimetype": "text/x-python",
   "name": "python",
   "nbconvert_exporter": "python",
   "pygments_lexer": "ipython3",
   "version": "3.10.2"
  }
 },
 "nbformat": 4,
 "nbformat_minor": 4
}
