{
 "cells": [
  {
   "cell_type": "markdown",
   "metadata": {},
   "source": [
    "# Exercise 4.3 Trajectories\n",
    "prepared by M.Hauser\n",
    "\n",
    "This is a short exercise showing how you can create lines colored according to a third value.\n",
    "\n",
    "It is similar to an exercise prepared by Nicolas Piaget in the [c2sm python workshop](https://github.com/hvwaldow/pyws-BE-15-2-26).\n",
    "\n",
    "It uses data calculated with the `lagranto` tool. `lagranto` is part of the Lagrangian Analysis Tool, Sprenger and Wernli, ([2015](https://www.geosci-model-dev.net/8/2569/2015/gmd-8-2569-2015.html))."
   ]
  },
  {
   "cell_type": "code",
   "execution_count": null,
   "metadata": {},
   "outputs": [],
   "source": [
    "import cartopy.crs as ccrs\n",
    "import matplotlib.pyplot as plt\n",
    "import numpy as np"
   ]
  },
  {
   "cell_type": "code",
   "execution_count": null,
   "metadata": {},
   "outputs": [],
   "source": [
    "import mplotutils as mpu"
   ]
  },
  {
   "cell_type": "markdown",
   "metadata": {},
   "source": [
    "## Load data\n",
    "\n",
    "Code from the Traj tool in the [Atmospheric Dynamics Group at ETH Zurich](http://www.iac.ethz.ch/groups/wernli)."
   ]
  },
  {
   "cell_type": "code",
   "execution_count": null,
   "metadata": {},
   "outputs": [],
   "source": [
    "fN = \"./../data/lsl_20070119_12_ana_48\"\n",
    "\n",
    "\n",
    "def read_trajectories(fN):\n",
    "    with open(fN) as fid:\n",
    "        file_lines = fid.readlines()\n",
    "    nvariables = file_lines[2].strip().split()\n",
    "    head = file_lines[0].split()\n",
    "\n",
    "    nhead = 5\n",
    "\n",
    "    dtypes = [\"f8\" for var in nvariables]\n",
    "    array = np.genfromtxt(\n",
    "        fN, dtype=dtypes, names=nvariables, skip_header=nhead, missing_values=-999.99\n",
    "    )\n",
    "\n",
    "    timestep = float(array[1][0]) - float(array[0][0])\n",
    "    period = float(array[-1][0]) - float(array[0][0])\n",
    "    ntime = int(1 + np.around(period / timestep))\n",
    "    ntra = int(array.size / ntime)\n",
    "\n",
    "    # reshape traj file\n",
    "    return np.reshape(array, (ntra, ntime))\n",
    "\n",
    "\n",
    "traj = read_trajectories(fN)"
   ]
  },
  {
   "cell_type": "markdown",
   "metadata": {},
   "source": [
    "`traj` is a [structured array](https://numpy.org/doc/stable/user/basics.rec.html), a special kind of numpy array (that I never use). It has named fields that can be accessed individually."
   ]
  },
  {
   "cell_type": "code",
   "execution_count": null,
   "metadata": {},
   "outputs": [],
   "source": [
    "print(f\"{traj.shape=}\")\n",
    "print(f\"{traj.dtype.names=}\")\n",
    "\n",
    "print(\"Field by name:\")\n",
    "traj[\"lon\"]"
   ]
  },
  {
   "cell_type": "markdown",
   "metadata": {},
   "source": [
    "### Exercise\n",
    "\n",
    " * plot the latitude and longitude of the trajectories\n",
    " \n",
    "> each row in `traj` corresponds to one trajectory"
   ]
  },
  {
   "cell_type": "code",
   "execution_count": null,
   "metadata": {},
   "outputs": [],
   "source": [
    "f, ax = plt.subplots(1, 1, subplot_kw=dict(projection=ccrs.PlateCarree()))\n",
    "ax.coastlines()\n",
    "\n",
    "lon = traj[\"lon\"]\n",
    "lat = traj[\"lat\"]\n",
    "\n",
    "# code here\n",
    "n_tra = len(lon)\n",
    "# for i in range(n_tra):\n",
    "# plot here"
   ]
  },
  {
   "cell_type": "markdown",
   "metadata": {},
   "source": [
    "### Solution"
   ]
  },
  {
   "cell_type": "code",
   "execution_count": null,
   "metadata": {
    "hide_input": true
   },
   "outputs": [],
   "source": [
    "f, ax = plt.subplots(1, 1, subplot_kw=dict(projection=ccrs.PlateCarree()))\n",
    "ax.coastlines()\n",
    "\n",
    "lon = traj[\"lon\"]\n",
    "lat = traj[\"lat\"]\n",
    "\n",
    "n_tra = len(lon)\n",
    "for i in range(n_tra):\n",
    "    ax.plot(lon[i], lat[i], color=\"0.5\", transform=ccrs.PlateCarree())"
   ]
  },
  {
   "cell_type": "markdown",
   "metadata": {},
   "source": [
    "By transposing them you can also directly plot all the lines:"
   ]
  },
  {
   "cell_type": "code",
   "execution_count": null,
   "metadata": {},
   "outputs": [],
   "source": [
    "f, ax = plt.subplots(1, 1, subplot_kw=dict(projection=ccrs.PlateCarree()))\n",
    "ax.coastlines()\n",
    "\n",
    "lon = traj[\"lon\"]\n",
    "lat = traj[\"lat\"]\n",
    "\n",
    "ax.plot(lon.T, lat.T, color=\"0.5\", transform=ccrs.PlateCarree());"
   ]
  },
  {
   "cell_type": "markdown",
   "metadata": {},
   "source": [
    "## colorline\n",
    "\n",
    "There is no direct way, to color lines depending on a 3rd value in pyplot. Therefore we start an internet search and find the following [notebook](http://nbviewer.jupyter.org/github/dpsanders/matplotlib-examples/blob/master/colorline.ipynb).\n",
    "\n",
    "So we copy the code from there"
   ]
  },
  {
   "cell_type": "code",
   "execution_count": null,
   "metadata": {},
   "outputs": [],
   "source": [
    "from matplotlib.collections import LineCollection\n",
    "\n",
    "\n",
    "# Data manipulation:\n",
    "def make_segments(x, y):\n",
    "    \"\"\"\n",
    "    Create list of line segments from x and y coordinates, in the correct format for LineCollection:\n",
    "    an array of the form   numlines x (points per line) x 2 (x and y) array\n",
    "    \"\"\"\n",
    "\n",
    "    points = np.asarray([x, y]).T.reshape(-1, 1, 2)\n",
    "    segments = np.concatenate([points[:-1], points[1:]], axis=1)\n",
    "\n",
    "    return segments\n",
    "\n",
    "\n",
    "# Interface to LineCollection:\n",
    "\n",
    "\n",
    "def colorline(\n",
    "    x,\n",
    "    y,\n",
    "    z=None,\n",
    "    ax=None,\n",
    "    cmap=\"viridis\",\n",
    "    norm=None,\n",
    "    linewidth=3,\n",
    "    alpha=1.0,\n",
    "    transform=None,\n",
    "):\n",
    "    \"\"\"\n",
    "    Plot a colored line with coordinates x and y\n",
    "    Optionally specify colors in the array z\n",
    "    Optionally specify a colormap, a norm function and a line width\n",
    "    \"\"\"\n",
    "\n",
    "    # parse default arguments\n",
    "\n",
    "    # colors equally spaced on [0,1]:\n",
    "    if z is None:\n",
    "        z = np.linspace(0.0, 1.0, len(x))\n",
    "\n",
    "    if ax is None:\n",
    "        ax = plt.gca()\n",
    "\n",
    "    if isinstance(cmap, str):\n",
    "        cmap = plt.get_cmap(cmap)\n",
    "\n",
    "    if norm is None:\n",
    "        norm = plt.Normalize(0.0, 1.0)\n",
    "\n",
    "    if transform is None:\n",
    "        transform = ax.transData\n",
    "\n",
    "    # Special case if a single number:\n",
    "    if not hasattr(z, \"__iter__\"):  # to check for numerical input -- this is a hack\n",
    "        z = [z]\n",
    "\n",
    "    z = np.asarray(z)\n",
    "\n",
    "    segments = make_segments(x, y)\n",
    "\n",
    "    lc = LineCollection(\n",
    "        segments,\n",
    "        array=z,\n",
    "        cmap=cmap,\n",
    "        norm=norm,\n",
    "        linewidth=linewidth,\n",
    "        alpha=alpha,\n",
    "        transform=transform,\n",
    "    )\n",
    "\n",
    "    ax.add_collection(lc)\n",
    "\n",
    "    return lc"
   ]
  },
  {
   "cell_type": "markdown",
   "metadata": {},
   "source": [
    "### Exercise\n",
    "\n",
    " * Try to get colorline to work\n",
    " * Bonus: use `mpu` to ensure the colorbar has the right height"
   ]
  },
  {
   "cell_type": "code",
   "execution_count": null,
   "metadata": {},
   "outputs": [],
   "source": [
    "f, ax = plt.subplots(1, 1, subplot_kw=dict(projection=ccrs.PlateCarree()))\n",
    "ax.coastlines()\n",
    "ax.set_extent([-90, 0, 20, 80], ccrs.PlateCarree())\n",
    "\n",
    "# code here\n",
    "\n",
    "# lc = colorline(...)"
   ]
  },
  {
   "cell_type": "markdown",
   "metadata": {},
   "source": [
    "### Solution"
   ]
  },
  {
   "cell_type": "code",
   "execution_count": null,
   "metadata": {
    "hide_input": true
   },
   "outputs": [],
   "source": [
    "f, ax = plt.subplots(1, 1, subplot_kw=dict(projection=ccrs.PlateCarree()))\n",
    "ax.coastlines()\n",
    "ax.set_extent([-90, 0, 20, 80], ccrs.PlateCarree())\n",
    "\n",
    "lc = colorline(lon.T, lat.T, transform=ccrs.PlateCarree())\n",
    "\n",
    "\n",
    "# create colorbar\n",
    "cbar = mpu.colorbar(lc, ax, extend=\"both\")"
   ]
  },
  {
   "cell_type": "markdown",
   "metadata": {},
   "source": [
    "### Exercise\n",
    "\n",
    " * color the lines according to the potential temperature (`TH = traj['TH']`)\n",
    " * you will have to pass a `norm` to `colorline`\n",
    "   * what do you have to choose for `norm=plt.Normalize(min, max)`?\n",
    " * use the colormap named `\"Reds\"`\n",
    " \n",
    "Note\n",
    "> you will have to loop through lat, lon and TH "
   ]
  },
  {
   "cell_type": "code",
   "execution_count": null,
   "metadata": {},
   "outputs": [],
   "source": [
    "f, ax = plt.subplots(1, 1, subplot_kw=dict(projection=ccrs.PlateCarree()))\n",
    "ax.coastlines()\n",
    "ax.set_extent([-90, 0, 20, 80], ccrs.PlateCarree())\n",
    "\n",
    "TH = traj[\"TH\"]\n",
    "\n",
    "# norm = plt.Normalize(...)\n",
    "\n",
    "n_tra = len(lon)\n",
    "for i in range(n_tra):\n",
    "    # adjust colorline\n",
    "    lc = colorline(lon[i], lat[i])\n",
    "\n",
    "\n",
    "# create colorbar\n",
    "cbar = mpu.colorbar(lc, ax, extend=\"both\")"
   ]
  },
  {
   "cell_type": "markdown",
   "metadata": {},
   "source": [
    "### Solution\n",
    "\n",
    "Le't also add ticks and ticklabels. As this is a PlateCarree map, we can use the ordinary mechanism."
   ]
  },
  {
   "cell_type": "code",
   "execution_count": null,
   "metadata": {},
   "outputs": [],
   "source": [
    "from cartopy.mpl.ticker import LatitudeFormatter, LongitudeFormatter"
   ]
  },
  {
   "cell_type": "code",
   "execution_count": null,
   "metadata": {
    "hide_input": true
   },
   "outputs": [],
   "source": [
    "f, ax = plt.subplots(1, 1, subplot_kw=dict(projection=ccrs.PlateCarree()))\n",
    "ax.coastlines(resolution=\"50m\", color=\"0.4\")\n",
    "\n",
    "TH = traj[\"TH\"]\n",
    "\n",
    "norm = plt.Normalize(TH.min(), TH.max())\n",
    "\n",
    "n_tra = len(lon)\n",
    "for i in range(n_tra):\n",
    "    lc = colorline(lon[i], lat[i], TH[i], norm=norm, linewidth=1, cmap=\"Reds\")\n",
    "\n",
    "\n",
    "ax.set_extent([-90, 0, 20, 80], ccrs.PlateCarree())\n",
    "\n",
    "# create colorbar in this axes\n",
    "cbar = mpu.colorbar(lc, ax, extend=\"both\")\n",
    "cbar.set_label(\"Potential Temperature (K)\")\n",
    "\n",
    "\n",
    "# set ticks\n",
    "tick_lon = np.arange(-90, 1, 15)\n",
    "tick_lat = np.arange(20, 81, 10)\n",
    "\n",
    "# set the ticks\n",
    "ax.set_xticks(tick_lon, crs=ccrs.PlateCarree())\n",
    "ax.set_yticks(tick_lat, crs=ccrs.PlateCarree())\n",
    "\n",
    "# format the ticks as e.g 60°W\n",
    "ax.xaxis.set_major_formatter(LongitudeFormatter())\n",
    "ax.yaxis.set_major_formatter(LatitudeFormatter())\n",
    "\n",
    "# plt.savefig('ex4_3_trajectories.png', dpi=300)"
   ]
  }
 ],
 "metadata": {
  "hide_input": false,
  "kernelspec": {
   "display_name": "Python [conda env:pyvis]",
   "language": "python",
   "name": "conda-env-pyvis-py"
  },
  "language_info": {
   "codemirror_mode": {
    "name": "ipython",
    "version": 3
   },
   "file_extension": ".py",
   "mimetype": "text/x-python",
   "name": "python",
   "nbconvert_exporter": "python",
   "pygments_lexer": "ipython3",
   "version": "3.11.0"
  },
  "toc": {
   "base_numbering": 1,
   "nav_menu": {},
   "number_sections": true,
   "sideBar": true,
   "skip_h1_title": false,
   "title_cell": "Table of Contents",
   "title_sidebar": "Contents",
   "toc_cell": false,
   "toc_position": {},
   "toc_section_display": true,
   "toc_window_display": false
  }
 },
 "nbformat": 4,
 "nbformat_minor": 4
}
