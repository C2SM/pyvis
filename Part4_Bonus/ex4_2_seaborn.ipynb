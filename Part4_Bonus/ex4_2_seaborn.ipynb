{
 "cells": [
  {
   "cell_type": "markdown",
   "metadata": {},
   "source": [
    "# Exercise 4.2 seaborn\n",
    "prepared by M.Hauser\n",
    "\n",
    "Seaborn is a library for statistical visualisation; it tries to 'make a well-defined set of hard things easy to do'.\n",
    "\n",
    "It has a beautiful [gallery](https://seaborn.pydata.org/examples/index.html) illustrating its capabilities."
   ]
  },
  {
   "cell_type": "code",
   "execution_count": null,
   "metadata": {},
   "outputs": [],
   "source": [
    "import matplotlib.pyplot as plt\n",
    "import numpy as np\n",
    "import seaborn as sns\n",
    "import xarray as xr"
   ]
  },
  {
   "cell_type": "markdown",
   "metadata": {},
   "source": [
    "Let's use a seaborn style:"
   ]
  },
  {
   "cell_type": "code",
   "execution_count": null,
   "metadata": {},
   "outputs": [],
   "source": [
    "sns.set(style=\"white\")"
   ]
  },
  {
   "cell_type": "markdown",
   "metadata": {},
   "source": [
    "### Load Data\n",
    "\n",
    "We again use time series of Station Data for Switzerland - Temperature & Precip.\n",
    "\n",
    "The data is available from [MeteoSwiss](https://www.meteoswiss.admin.ch/home/climate/swiss-climate-in-detail/homogeneous-data-series-since-1864.html?region=Table).\n",
    "\n",
    "The data has already been [retrieved and postprocessed](../data/prepare_data_MCH.ipynb)."
   ]
  },
  {
   "cell_type": "code",
   "execution_count": null,
   "metadata": {},
   "outputs": [],
   "source": [
    "def load_mch(station, annual=True):\n",
    "    fN = \"../data/MCH_HOM_{}.nc\".format(station)\n",
    "    return xr.open_dataset(fN, drop_variables=[\"station\", \"station_long\"])\n",
    "\n",
    "\n",
    "BAS = load_mch(\"BAS\")\n",
    "DAV = load_mch(\"DAV\")"
   ]
  },
  {
   "cell_type": "markdown",
   "metadata": {},
   "source": [
    "## Distributions\n",
    "\n",
    "While it is binned histograms with matplotlib have a dedicated function in matplotlib, it's difficult to plot a Kernel Density Estimate (kde). Seaborn has specialized functions wich allow to do this directly:"
   ]
  },
  {
   "cell_type": "code",
   "execution_count": null,
   "metadata": {},
   "outputs": [],
   "source": [
    "# create random data\n",
    "d = np.random.randn(100)\n",
    "\n",
    "# ======================\n",
    "\n",
    "# Set up the matplotlib figure\n",
    "f, axs = plt.subplots(2, 2, figsize=(7, 7), sharex=True, sharey=True)\n",
    "axs = axs.flatten()\n",
    "\n",
    "\n",
    "# get rid of the left axis\n",
    "sns.despine(left=True)\n",
    "\n",
    "ax = axs[0]\n",
    "\n",
    "# Plot a simple histogram with binsize determined automatically\n",
    "sns.histplot(d, kde=False, color=\"b\", ax=ax, stat=\"density\")\n",
    "\n",
    "ax = axs[1]\n",
    "\n",
    "# Plot a kernel density estimate and rug plot\n",
    "sns.kdeplot(d, color=\"r\", ax=ax)\n",
    "sns.rugplot(d, color=\"r\", ax=ax)\n",
    "\n",
    "ax = axs[2]\n",
    "\n",
    "# Plot a filled kernel density estimate\n",
    "# sns.distplot(d, hist=False, color=\"g\", kde_kws={\"shade\": True}, ax=ax)\n",
    "sns.kdeplot(d, color=\"g\", fill=True, ax=ax)\n",
    "\n",
    "\n",
    "ax = axs[3]\n",
    "\n",
    "# Plot a historgram and kernel density estimate\n",
    "sns.kdeplot(d, color=\"m\", ax=ax)\n",
    "sns.histplot(d, kde=False, color=\"m\", ax=ax, stat=\"density\")\n",
    "\n",
    "\n",
    "plt.setp(axs, yticks=[])\n",
    "plt.tight_layout()"
   ]
  },
  {
   "cell_type": "markdown",
   "metadata": {},
   "source": [
    "### Exercise\n",
    "\n",
    " * Add a `kdeplot` of `BAS.Temperature` and `DAV.Temperature`\n",
    " * can you add a legend?"
   ]
  },
  {
   "cell_type": "code",
   "execution_count": null,
   "metadata": {},
   "outputs": [],
   "source": [
    "f, ax = plt.subplots()\n",
    "\n",
    "# code here"
   ]
  },
  {
   "cell_type": "markdown",
   "metadata": {},
   "source": [
    "### Solution"
   ]
  },
  {
   "cell_type": "code",
   "execution_count": null,
   "metadata": {
    "hide_input": true,
    "tags": [
     "solution"
    ]
   },
   "outputs": [],
   "source": [
    "f, ax = plt.subplots()\n",
    "\n",
    "sns.kdeplot(BAS.Temperature, fill=True, ax=ax, label=\"Basel\")\n",
    "sns.kdeplot(DAV.Temperature, fill=True, ax=ax, label=\"Davos\")\n",
    "\n",
    "plt.legend();"
   ]
  },
  {
   "cell_type": "markdown",
   "metadata": {},
   "source": [
    "## Joint plot\n",
    "\n",
    "`jointplot` allows you to see the distribution of two individual data sets as well as their joint distribution"
   ]
  },
  {
   "cell_type": "code",
   "execution_count": null,
   "metadata": {},
   "outputs": [],
   "source": [
    "sns.jointplot(x=BAS.Temperature, y=BAS.Precipitation, kind=\"kde\");"
   ]
  },
  {
   "cell_type": "markdown",
   "metadata": {},
   "source": [
    "### Exercise\n",
    " * is there a correlation between precipitation and temperature in Davos (`DAV`)\n",
    " * choose another `kind`"
   ]
  },
  {
   "cell_type": "code",
   "execution_count": null,
   "metadata": {},
   "outputs": [],
   "source": [
    "# uncomment to get the docstring\n",
    "# sns.jointplot?"
   ]
  },
  {
   "cell_type": "code",
   "execution_count": null,
   "metadata": {},
   "outputs": [],
   "source": []
  },
  {
   "cell_type": "markdown",
   "metadata": {},
   "source": [
    "### Solution"
   ]
  },
  {
   "cell_type": "code",
   "execution_count": null,
   "metadata": {
    "hide_input": true,
    "tags": [
     "solution"
    ]
   },
   "outputs": [],
   "source": [
    "sns.jointplot(x=DAV.Temperature, y=DAV.Precipitation, kind=\"hex\");"
   ]
  },
  {
   "cell_type": "markdown",
   "metadata": {},
   "source": [
    "## Pandas\n",
    "\n",
    "Seaborn works especially well with pandas dataframes. We can illustrate this with an example from the [seaborn gallery](https://seaborn.pydata.org/examples/factorplot_bars.html).\n",
    "\n",
    "The example data is a passenger list from the titanic:"
   ]
  },
  {
   "cell_type": "code",
   "execution_count": null,
   "metadata": {},
   "outputs": [],
   "source": [
    "# Load the example Titanic dataset\n",
    "titanic = sns.load_dataset(\"titanic\")\n",
    "\n",
    "titanic.head()"
   ]
  },
  {
   "cell_type": "markdown",
   "metadata": {},
   "source": [
    "Then we can use a `catplot`/`factorplot` to illustrate the survival probability depending on the class the passenger traveled and if it was a male or female passenger:"
   ]
  },
  {
   "cell_type": "code",
   "execution_count": null,
   "metadata": {},
   "outputs": [],
   "source": [
    "with sns.axes_style(\"whitegrid\"):\n",
    "    # Draw a nested barplot to show survival for class and sex\n",
    "    g = sns.catplot(\n",
    "        x=\"class\",\n",
    "        y=\"survived\",\n",
    "        hue=\"sex\",\n",
    "        data=titanic,\n",
    "        height=6,\n",
    "        kind=\"bar\",\n",
    "        palette=\"muted\",\n",
    "    )\n",
    "\n",
    "    g.despine(left=True)\n",
    "    g.set_ylabels(\"survival probability\")"
   ]
  },
  {
   "cell_type": "markdown",
   "metadata": {},
   "source": [
    "Pandas DataFrame don't work very well with lat/ lon data (that's what xarray and the like are for), so let's use an example with a time series. First we need to convert `BAS` from an xarray Dataset to a pandas DataFrame. "
   ]
  },
  {
   "cell_type": "code",
   "execution_count": null,
   "metadata": {},
   "outputs": [],
   "source": [
    "import pandas as pd"
   ]
  },
  {
   "cell_type": "code",
   "execution_count": null,
   "metadata": {},
   "outputs": [],
   "source": [
    "def to_dataframe(data):\n",
    "    # STEP 1\n",
    "    # calculate monthly temperature and precipitation anomalies\n",
    "    d = data.groupby(\"time.month\") - data.groupby(\"time.month\").mean(\"time\")\n",
    "\n",
    "    # STEP 2\n",
    "    # convert to a dataframe\n",
    "    d = d.to_dataframe()[[\"Temperature\", \"Precipitation\"]]\n",
    "\n",
    "    # STEP 3\n",
    "    # create a new categorical variable 'month\n",
    "    d[\"month\"] = d.index.month.values\n",
    "    d[\"month\"] = d[\"month\"].astype(\"category\")\n",
    "\n",
    "    # STEP 4\n",
    "    # create wet and dry category depending if it rained more than on average\n",
    "    bins = [-np.inf, 0, np.inf]\n",
    "    d[\"prec_cat\"] = pd.cut(d[\"Precipitation\"], bins, labels=[\"dry\", \"wet\"])\n",
    "\n",
    "    return d\n",
    "\n",
    "\n",
    "BAS_df = to_dataframe(BAS)\n",
    "DAV_df = to_dataframe(DAV)\n",
    "BAS_df.head()"
   ]
  },
  {
   "cell_type": "markdown",
   "metadata": {},
   "source": [
    "### Exercise\n",
    "\n",
    " * Create a `catplot` showing monthly temperature anomalies as a function of the `month` and precipitation category"
   ]
  },
  {
   "cell_type": "code",
   "execution_count": null,
   "metadata": {},
   "outputs": [],
   "source": [
    "# code here\n",
    "\n",
    "# sns.catplot(...)"
   ]
  },
  {
   "cell_type": "markdown",
   "metadata": {},
   "source": [
    "### Solution"
   ]
  },
  {
   "cell_type": "code",
   "execution_count": null,
   "metadata": {
    "hide_input": true,
    "tags": [
     "solution"
    ]
   },
   "outputs": [],
   "source": [
    "g = sns.catplot(\n",
    "    x=\"month\",\n",
    "    y=\"Temperature\",\n",
    "    hue=\"prec_cat\",\n",
    "    data=BAS_df,\n",
    "    height=6,\n",
    "    kind=\"bar\",\n",
    "    palette=\"BrBG\",\n",
    ")"
   ]
  }
 ],
 "metadata": {
  "hide_input": false,
  "kernelspec": {
   "display_name": "Python 3 (ipykernel)",
   "language": "python",
   "name": "python3"
  },
  "language_info": {
   "codemirror_mode": {
    "name": "ipython",
    "version": 3
   },
   "file_extension": ".py",
   "mimetype": "text/x-python",
   "name": "python",
   "nbconvert_exporter": "python",
   "pygments_lexer": "ipython3",
   "version": "3.9.16"
  },
  "toc": {
   "base_numbering": 1,
   "nav_menu": {},
   "number_sections": true,
   "sideBar": true,
   "skip_h1_title": false,
   "title_cell": "Table of Contents",
   "title_sidebar": "Contents",
   "toc_cell": false,
   "toc_position": {},
   "toc_section_display": true,
   "toc_window_display": false
  }
 },
 "nbformat": 4,
 "nbformat_minor": 4
}
