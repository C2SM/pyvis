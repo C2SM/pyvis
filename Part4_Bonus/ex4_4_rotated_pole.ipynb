{
 "cells": [
  {
   "cell_type": "markdown",
   "metadata": {},
   "source": [
    "# Exercise 4.4 - Rotated pole grids\n",
    "prepared by M.Hauser\n",
    "\n",
    "This is a short exercise showing how we can plot data from a regional climate model using its native coordinates."
   ]
  },
  {
   "cell_type": "code",
   "execution_count": null,
   "metadata": {},
   "outputs": [],
   "source": [
    "import cartopy.crs as ccrs\n",
    "import matplotlib.pyplot as plt\n",
    "import xarray as xr"
   ]
  },
  {
   "cell_type": "code",
   "execution_count": null,
   "metadata": {},
   "outputs": [],
   "source": [
    "import mplotutils as mpu"
   ]
  },
  {
   "cell_type": "markdown",
   "metadata": {},
   "source": [
    "## Loading data\n",
    "\n",
    "We load one timestep of the latent heat flux from a regional climate simulation.\n",
    "\n",
    "The data was extracted in another [notebook](./../data/prepare_weather_at_home.ipynb)."
   ]
  },
  {
   "cell_type": "code",
   "execution_count": null,
   "metadata": {},
   "outputs": [],
   "source": [
    "ds = xr.open_dataset(\"../data/wah_LH.nc\")\n",
    "ds"
   ]
  },
  {
   "cell_type": "markdown",
   "metadata": {},
   "source": [
    "## Different coordinates\n",
    "\n",
    "Regional climate model simulations are often conducted with rotated pole. The North Pole is shifted such that the region of interest is centered over the Equator (0 °N, 0 °W). Like this the grid cells are as square as possible on a sphere.\n",
    "\n",
    "Therefore, there are two latitude coordinates.\n",
    " * `lat` for the rotated pole, here from -26 °N to 25 °N\n",
    " * `global_lat` for the normal pole, here from 17 °N to 75 °N\n",
    "\n",
    "The same applies to the longitude.\n",
    "\n",
    "### Plotting lat and lon\n",
    "\n",
    "You can do the standard plot using `lat` and `lon` - I assume you know that this goes wrong:"
   ]
  },
  {
   "cell_type": "code",
   "execution_count": null,
   "metadata": {
    "hide_input": true
   },
   "outputs": [],
   "source": [
    "f, ax = plt.subplots(subplot_kw=dict(projection=ccrs.PlateCarree()))\n",
    "ax.coastlines()\n",
    "\n",
    "ax.pcolormesh(ds.lon, ds.lat, ds.LH, transform=ccrs.PlateCarree(), cmap=\"Reds\")\n",
    "\n",
    "ax.set_global()"
   ]
  },
  {
   "cell_type": "markdown",
   "metadata": {},
   "source": [
    "This does not work, because the regional climate simulation is on a rotated pole. Thus lat goes from -26 to 25 and lon from -31 to 21.\n",
    "\n",
    "We of course need to use `global_lon` and `global_lat`, which contain the 'real' coordinates.\n",
    "\n",
    "### Exercise\n",
    "\n",
    " * replace `lon` and `lat` with `global_lon` and `global_lat`"
   ]
  },
  {
   "cell_type": "code",
   "execution_count": null,
   "metadata": {},
   "outputs": [],
   "source": [
    "f, ax = plt.subplots(subplot_kw=dict(projection=ccrs.PlateCarree()))\n",
    "ax.coastlines()\n",
    "\n",
    "ax.pcolormesh(ds.lon, ds.lat, ds.LH, transform=ccrs.PlateCarree(), cmap=\"Reds\")"
   ]
  },
  {
   "cell_type": "markdown",
   "metadata": {},
   "source": [
    "### Solution"
   ]
  },
  {
   "cell_type": "code",
   "execution_count": null,
   "metadata": {
    "hide_input": true
   },
   "outputs": [],
   "source": [
    "f, ax = plt.subplots(subplot_kw=dict(projection=ccrs.PlateCarree()))\n",
    "ax.coastlines()\n",
    "\n",
    "ax.pcolormesh(\n",
    "    ds.global_lon, ds.global_lat, ds.LH, transform=ccrs.PlateCarree(), cmap=\"Reds\"\n",
    ")"
   ]
  },
  {
   "cell_type": "markdown",
   "metadata": {},
   "source": [
    "## Using xarray\n",
    "\n",
    "When constructing the same plot using xarray you can set the name of the `x=` and `y=` coordinates separately:"
   ]
  },
  {
   "cell_type": "code",
   "execution_count": null,
   "metadata": {},
   "outputs": [],
   "source": [
    "f, ax = plt.subplots(subplot_kw=dict(projection=ccrs.PlateCarree()))\n",
    "ax.coastlines()\n",
    "\n",
    "h = ds.LH.plot(\n",
    "    transform=ccrs.PlateCarree(),\n",
    "    x=\"global_lon\",\n",
    "    y=\"global_lat\",\n",
    "    add_colorbar=False,\n",
    "    vmin=0,\n",
    "    cmap=\"Reds\",\n",
    ")\n",
    "\n",
    "mpu.colorbar(h, ax)"
   ]
  },
  {
   "cell_type": "markdown",
   "metadata": {},
   "source": [
    "## `ccrs.RotatedPole`\n",
    "\n",
    "So far so good, but now comes the cool thing. We can tell cartopy that our data is on a rotated pole, and we can then directly use `lon` and `lat` for plotting. For this we need to know the coordinates of the rotated pole - we can get them from the attributes of the Dataarray:\n"
   ]
  },
  {
   "cell_type": "code",
   "execution_count": null,
   "metadata": {},
   "outputs": [],
   "source": [
    "pole_lon = ds.attrs[\"pole_lon\"]  # -162.0\n",
    "pole_lat = ds.attrs[\"pole_lat\"]  # 39.25\n",
    "\n",
    "print(f\"{pole_lon}°E, {pole_lat}°N\")"
   ]
  },
  {
   "cell_type": "markdown",
   "metadata": {},
   "source": [
    "### Exercise\n",
    "\n",
    "* Check the documentation of `ccrs.RotatedPole` - is that something we could use?"
   ]
  },
  {
   "cell_type": "code",
   "execution_count": null,
   "metadata": {},
   "outputs": [],
   "source": [
    "# uncomment to get the docstring\n",
    "# ccrs.RotatedPole?"
   ]
  },
  {
   "cell_type": "markdown",
   "metadata": {},
   "source": [
    "### Exercise\n",
    "\n",
    " * Replace `transform = ccrs.PlateCarree()` with the `RotatedPole` such that you can use `lat` and `lon` as coordinates (and the plot is correct):"
   ]
  },
  {
   "cell_type": "code",
   "execution_count": null,
   "metadata": {},
   "outputs": [],
   "source": [
    "# this is the EURO CORDEX POLE\n",
    "pole_lon = ds.attrs[\"pole_lon\"]  # -162.0\n",
    "pole_lat = ds.attrs[\"pole_lat\"]  # 39.25\n",
    "\n",
    "# exchange this\n",
    "transform = ccrs.PlateCarree()\n",
    "\n",
    "# ====\n",
    "\n",
    "f, ax = plt.subplots(subplot_kw=dict(projection=ccrs.PlateCarree()))\n",
    "ax.coastlines()\n",
    "\n",
    "ax.pcolormesh(ds.lon, ds.lat, ds.LH, cmap=\"Reds\", transform=transform)"
   ]
  },
  {
   "cell_type": "markdown",
   "metadata": {},
   "source": [
    "### Solution"
   ]
  },
  {
   "cell_type": "code",
   "execution_count": null,
   "metadata": {
    "hide_input": true
   },
   "outputs": [],
   "source": [
    "# this is the EURO CORDEX POLE\n",
    "pole_lon = ds.attrs[\"pole_lon\"]  # -162.0\n",
    "pole_lat = ds.attrs[\"pole_lat\"]  # 39.25\n",
    "transform = ccrs.RotatedPole(pole_longitude=pole_lon, pole_latitude=pole_lat)\n",
    "\n",
    "# ====\n",
    "\n",
    "f, ax = plt.subplots(subplot_kw=dict(projection=ccrs.PlateCarree()))\n",
    "ax.coastlines()\n",
    "\n",
    "ax.pcolormesh(ds.lon, ds.lat, ds.LH, cmap=\"Reds\", transform=transform)"
   ]
  }
 ],
 "metadata": {
  "hide_input": false,
  "kernelspec": {
   "display_name": "Python [conda env:pyvis]",
   "language": "python",
   "name": "conda-env-pyvis-py"
  },
  "language_info": {
   "codemirror_mode": {
    "name": "ipython",
    "version": 3
   },
   "file_extension": ".py",
   "mimetype": "text/x-python",
   "name": "python",
   "nbconvert_exporter": "python",
   "pygments_lexer": "ipython3",
   "version": "3.11.0"
  },
  "toc": {
   "base_numbering": 1,
   "nav_menu": {},
   "number_sections": true,
   "sideBar": true,
   "skip_h1_title": false,
   "title_cell": "Table of Contents",
   "title_sidebar": "Contents",
   "toc_cell": false,
   "toc_position": {},
   "toc_section_display": true,
   "toc_window_display": false
  }
 },
 "nbformat": 4,
 "nbformat_minor": 4
}
