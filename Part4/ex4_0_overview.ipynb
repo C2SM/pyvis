{
 "cells": [
  {
   "cell_type": "markdown",
   "metadata": {},
   "source": [
    "# Exercise 4 - Overview\n",
    "\n",
    "User contributions - figures that will be developed in each of the exercises in Part 4. Click on the link to go to the exercise."
   ]
  },
  {
   "cell_type": "markdown",
   "metadata": {},
   "source": [
    "## Exercise 4.1: Single Map Plot (M. Hauser)\n",
    "\n",
    "<img src=\"../figures/ex4_single_map_M_Hauser.png\"  width=\"500\">\n",
    "\n",
    "See [Exercise 4.1](ex4_1_single_map_M_Hauser.ipynb)"
   ]
  },
  {
   "cell_type": "markdown",
   "metadata": {},
   "source": [
    "## Exercise 4.2: Multiple Map Plots (M. Hauser, K Strassmann)\n",
    "\n",
    "<img src=\"../figures/ex4_multiple_regional_maps_M_Hauser.png\"  width=\"500\">\n",
    "\n",
    "See [Exercise 4.2](ex4_2_multiple_regional_maps_M_Hauser.ipynb)"
   ]
  },
  {
   "cell_type": "markdown",
   "metadata": {},
   "source": [
    "## Exercise 4.3: Distributions (W. Ball)\n",
    "\n",
    "<img src=\"../figures/ex4_distributions_W_Ball.png\"  width=\"500\">\n",
    "\n",
    "\n",
    "\n",
    "See [Exercise 4.3](ex4_3_distributions_W_Ball.ipynb)"
   ]
  }
 ],
 "metadata": {
  "kernelspec": {
   "display_name": "Python 3",
   "language": "python",
   "name": "python3"
  },
  "language_info": {
   "codemirror_mode": {
    "name": "ipython",
    "version": 3
   },
   "file_extension": ".py",
   "mimetype": "text/x-python",
   "name": "python",
   "nbconvert_exporter": "python",
   "pygments_lexer": "ipython3",
   "version": "3.5.4"
  }
 },
 "nbformat": 4,
 "nbformat_minor": 2
}
