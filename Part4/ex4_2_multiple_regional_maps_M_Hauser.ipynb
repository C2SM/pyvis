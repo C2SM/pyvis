{
 "cells": [
  {
   "cell_type": "markdown",
   "metadata": {},
   "source": [
    "# Exercise 4.2 - multiple map plot (M. Hauser, K Strassmann)\n",
    "\n",
    "prepared by M.Hauser\n",
    "\n",
    "We want to create a plot with multiple regional maps. This was a wish by K. Strassmann. However, we will reproduce one of my old plots (Philip et al., [2017](https://link.springer.com/article/10.1007/s00382-017-3759-x), Figure 7).\n",
    "\n",
    "It shows two land-atmosphere coupling metrics ($\\pi$ and VAC), as well as the anomalies (in standard deviation) of the \n",
    "sensible heat flux minus potential sensible heat flux  (H'−H'p), temperature anomaly (T') and the latent heat flux anomaly (LH').\n",
    "\n",
    "## Import Modules"
   ]
  },
  {
   "cell_type": "code",
   "execution_count": null,
   "metadata": {},
   "outputs": [],
   "source": [
    "import cartopy.crs as ccrs\n",
    "import cartopy.util as cutil\n",
    "import cartopy.feature as cfeature\n",
    "\n",
    "import matplotlib.pyplot as plt\n",
    "import numpy as np\n",
    "\n",
    "import seaborn as sns\n",
    "import xarray as xr\n",
    "\n",
    "%matplotlib inline"
   ]
  },
  {
   "cell_type": "code",
   "execution_count": null,
   "metadata": {},
   "outputs": [],
   "source": [
    "import mplotutils as mpu"
   ]
  },
  {
   "cell_type": "code",
   "execution_count": null,
   "metadata": {},
   "outputs": [],
   "source": [
    "## Load Data"
   ]
  },
  {
   "cell_type": "code",
   "execution_count": null,
   "metadata": {},
   "outputs": [],
   "source": [
    "fN = './../data/VAC_2015_06.nc'\n",
    "    \n",
    "ds = xr.open_dataset(fN)\n",
    "\n",
    "# rename T to TS (because T also stands for 'transpose')\n",
    "ds = ds.rename(dict(T='TS'))\n",
    "\n",
    "# VAC has values everywhere, put NaN where necessary\n",
    "ds = ds.assign(VAC=ds.VAC.where(~np.isnan(ds.TS)))\n",
    "\n",
    "\n",
    "ds"
   ]
  },
  {
   "cell_type": "markdown",
   "metadata": {},
   "source": [
    "`pi` and `VAC` are land-atmosphere coupling metrics, `LH` the latent heat flux, `TS` (surface) temperature, `h` the difference between the sensible heat flux (`SH`) and the potential sensible heat flux (`SHp`)"
   ]
  },
  {
   "cell_type": "markdown",
   "metadata": {},
   "source": [
    "## Load Natural Earth Data"
   ]
  },
  {
   "cell_type": "code",
   "execution_count": null,
   "metadata": {},
   "outputs": [],
   "source": [
    "states = cfeature.NaturalEarthFeature('cultural', 'admin_1_states_provinces_lakes', '50m')\n",
    "border = cfeature.NaturalEarthFeature('cultural', 'admin_0_countries', '50m')"
   ]
  },
  {
   "cell_type": "markdown",
   "metadata": {},
   "source": [
    "## Plot Maps\n",
    "\n",
    "### Exercise\n",
    "* create a grid of 1 x 5 maps with a Lambert Conformal projection\n",
    "* for all axes (use a loop)\n",
    "  * set the extent to [-122, -115, 30, 50]\n",
    "  * add the States and the Countries (`states` and `border`) with `add_feature`, choose the `facecolor` and `edgecolor`"
   ]
  },
  {
   "cell_type": "code",
   "execution_count": null,
   "metadata": {},
   "outputs": [],
   "source": [
    "# code here\n",
    "# f, axes = \n",
    "\n",
    "# for ax in axes:\n",
    "    # ax.\n",
    "    # ax.\n",
    "    # ax."
   ]
  },
  {
   "cell_type": "markdown",
   "metadata": {},
   "source": [
    "### Solution"
   ]
  },
  {
   "cell_type": "code",
   "execution_count": null,
   "metadata": {
    "hide_input": true
   },
   "outputs": [],
   "source": [
    "f, axes = plt.subplots(1, 5, subplot_kw=dict(projection=ccrs.LambertConformal()))\n",
    "\n",
    "\n",
    "\n",
    "for ax in axes:\n",
    "\n",
    "    ax.set_extent([-122, -115, 30, 50], ccrs.PlateCarree())\n",
    "\n",
    "    ax.add_feature(states, facecolor='none', edgecolor='0.5')\n",
    "    ax.add_feature(border, facecolor='none', edgecolor='0.5')"
   ]
  },
  {
   "cell_type": "markdown",
   "metadata": {},
   "source": [
    "## Continuous-color-plots\n",
    "\n",
    "Let's plot the maps with non-discrete colormaps\n",
    "\n",
    "### Exercise\n",
    "\n",
    "* plot\n",
    "  * axes[0] -> plot `ds.pi`\n",
    "  * axes[2] -> plot `ds.h`\n",
    "  * axes[3] -> plot `ds.TS`\n",
    "  * axes[4] -> plot `ds.LH`\n",
    "  * dont forget about `infer_interval_breaks`\n",
    "* choose good colormaps (`cmap`) and the data range (`vmin`, `vmax`)\n",
    "\n",
    "\n",
    "-> [colorbrewer](http://colorbrewer2.org)"
   ]
  },
  {
   "cell_type": "code",
   "execution_count": null,
   "metadata": {},
   "outputs": [],
   "source": [
    "f, axes = plt.subplots(1, 5, subplot_kw=dict(projection=ccrs.LambertConformal()))\n",
    "\n",
    "\n",
    "\n",
    "for ax in axes:\n",
    "\n",
    "    ax.set_extent([-122, -115, 30, 50], ccrs.PlateCarree())\n",
    "\n",
    "    ax.add_feature(states, facecolor='none', edgecolor='0.5')\n",
    "    ax.add_feature(border, facecolor='none', edgecolor='0.5')\n",
    "    \n",
    "    \n",
    "LON, LAT = mpu.infer_interval_breaks(ds.lon, ds.lat)\n",
    "lon = ds.lon\n",
    "lat = ds.lat\n",
    "\n",
    "\n",
    "ax = axes[0]\n",
    "# ax.pcolormesh(...)\n",
    "\n",
    "# ..."
   ]
  },
  {
   "cell_type": "markdown",
   "metadata": {},
   "source": [
    "### Solution"
   ]
  },
  {
   "cell_type": "code",
   "execution_count": null,
   "metadata": {
    "hide_input": true
   },
   "outputs": [],
   "source": [
    "f, axes = plt.subplots(1, 5, subplot_kw=dict(projection=ccrs.LambertConformal()))\n",
    "\n",
    "\n",
    "\n",
    "for ax in axes:\n",
    "\n",
    "    ax.set_extent([-122, -115, 30, 50], ccrs.PlateCarree())\n",
    "\n",
    "    ax.add_feature(states, facecolor='none', edgecolor='0.5')\n",
    "    ax.add_feature(border, facecolor='none', edgecolor='0.5')\n",
    "    \n",
    "\n",
    "LON, LAT = mpu.infer_interval_breaks(ds.lon, ds.lat)\n",
    "lon = ds.lon\n",
    "lat = ds.lat\n",
    "\n",
    "\n",
    "ax = axes[0]\n",
    "ax.pcolormesh(LON, LAT, ds.pi, cmap='Reds_r', vmin=0, vmax=2, transform=ccrs.PlateCarree())\n",
    "\n",
    "ax = axes[2]\n",
    "ax.pcolormesh(LON, LAT, ds.h, cmap='RdBu_r', vmin=-2, vmax=2, transform=ccrs.PlateCarree())\n",
    "\n",
    "ax = axes[3]\n",
    "ax.pcolormesh(LON, LAT, ds.TS, cmap='RdBu_r', vmin=-2, vmax=2, transform=ccrs.PlateCarree())\n",
    "\n",
    "ax = axes[4]\n",
    "ax.pcolormesh(LON, LAT, ds.LH, cmap='RdBu_r', vmin=-2, vmax=2, transform=ccrs.PlateCarree())"
   ]
  },
  {
   "cell_type": "markdown",
   "metadata": {},
   "source": [
    "## Plotting VAC\n",
    "\n",
    "VAC comes in four categories (a, b, c, d) with two levels each. It is encoded with numbers from 0 to 8:\n",
    "\n",
    "* 0: No category\n",
    "* 1: a, small\n",
    "* 2: a, large\n",
    "* 3: b, small\n",
    "* ...\n",
    "* 8: d, small\n",
    "\n",
    "### Exercise\n",
    "* plot VAC\n",
    "\n",
    "> Create levels such that the break is in the middle of the category/ level change. Then use `from_levels_and_colors` to create a new colormap (`cmap`) and norm from `levels` and `colors`.\n"
   ]
  },
  {
   "cell_type": "code",
   "execution_count": null,
   "metadata": {},
   "outputs": [],
   "source": [
    "from matplotlib.colors import from_levels_and_colors"
   ]
  },
  {
   "cell_type": "code",
   "execution_count": null,
   "metadata": {},
   "outputs": [],
   "source": [
    "colors = ['#a6cee3', '#1f78b4',\n",
    "          '#fdbf6f', '#ff7f00',\n",
    "          '#fb9a99', '#e31a1c',\n",
    "          '#b2df8a', '#33a02c']"
   ]
  },
  {
   "cell_type": "code",
   "execution_count": null,
   "metadata": {},
   "outputs": [],
   "source": [
    "f, ax = plt.subplots(1, 1, subplot_kw=dict(projection=ccrs.LambertConformal()))\n",
    "ax.set_extent([-122, -115, 30, 50], ccrs.PlateCarree())\n",
    "ax.add_feature(states, facecolor='none', edgecolor='0.5')\n",
    "ax.add_feature(border, facecolor='none', edgecolor='0.5')\n",
    "\n",
    "\n",
    "# levels = np.arange(...)\n",
    "# cmap, norm = from_levels_and_colors(...)\n",
    "\n",
    "h = ax.pcolormesh(LON, LAT, ds. VAC, transform=ccrs.PlateCarree())\n",
    "\n",
    "# add colorbar\n",
    "cbar = plt.colorbar(h, orientation='horizontal')\n",
    "cbar.set_ticks([1.5, 3.5, 5.5, 7.5])\n",
    "cbar.set_ticklabels(['a', 'b', 'c', 'd'])"
   ]
  },
  {
   "cell_type": "markdown",
   "metadata": {},
   "source": [
    "### Solution"
   ]
  },
  {
   "cell_type": "code",
   "execution_count": null,
   "metadata": {
    "hide_input": true
   },
   "outputs": [],
   "source": [
    "f, ax = plt.subplots(1, 1, subplot_kw=dict(projection=ccrs.LambertConformal()))\n",
    "ax.set_extent([-122, -115, 30, 50], ccrs.PlateCarree())\n",
    "ax.add_feature(states, facecolor='none', edgecolor='0.5')\n",
    "ax.add_feature(border, facecolor='none', edgecolor='0.5')\n",
    "\n",
    "\n",
    "levels = np.arange(0.5, 9.5, 1)\n",
    "cmap, norm = from_levels_and_colors(levels, colors=colors)\n",
    "h = ax.pcolormesh(LON, LAT, ds. VAC, cmap=cmap, norm=norm, transform=ccrs.PlateCarree())\n",
    "\n",
    "# add colorbar\n",
    "cbar = plt.colorbar(h, orientation='horizontal')\n",
    "cbar.set_ticks([1.5, 3.5, 5.5, 7.5])\n",
    "cbar.set_ticklabels(['a', 'b', 'c', 'd'])"
   ]
  },
  {
   "cell_type": "markdown",
   "metadata": {},
   "source": [
    "## Colorbars\n",
    "\n",
    "The next step is to copy the code from the plotting of VAC back to the other code. I have done that for you. So you can now create and add the colorbars.\n",
    "\n",
    "### Exercise\n",
    "\n",
    "* add colorbars for axes 0, 1, and 2 to 4\n",
    "* use `mpu.colorbar`; you will need to set `size` `pad`, `orientation`\n",
    "* also copy the a, b, c, d labeling from above"
   ]
  },
  {
   "cell_type": "code",
   "execution_count": null,
   "metadata": {},
   "outputs": [],
   "source": [
    "f, axes = plt.subplots(1, 5, subplot_kw=dict(projection=ccrs.LambertConformal()))\n",
    "\n",
    "\n",
    "\n",
    "for ax in axes:\n",
    "\n",
    "    ax.set_extent([-122, -115, 30, 50], ccrs.PlateCarree())\n",
    "\n",
    "    ax.add_feature(states, facecolor='none', edgecolor='0.5')\n",
    "    ax.add_feature(border, facecolor='none', edgecolor='0.5')\n",
    "    \n",
    "\n",
    "LON, LAT = mpu.infer_interval_breaks(ds.lon, ds.lat)\n",
    "lon = ds.lon\n",
    "lat = ds.lat\n",
    "\n",
    "\n",
    "ax = axes[0]\n",
    "h0 = ax.pcolormesh(LON, LAT, ds.pi, cmap='Reds_r', vmin=0, vmax=2, transform=ccrs.PlateCarree())\n",
    "\n",
    "ax = axes[1]\n",
    "levels = np.arange(0.5, 9.5, 1)\n",
    "cmap, norm = from_levels_and_colors(levels, colors=colors)\n",
    "h1 = ax.pcolormesh(LON, LAT, ds. VAC, cmap=cmap, norm=norm, transform=ccrs.PlateCarree())\n",
    "\n",
    "ax = axes[2]\n",
    "h2 = ax.pcolormesh(LON, LAT, ds.h, cmap='RdBu_r', vmin=-2, vmax=2, transform=ccrs.PlateCarree())\n",
    "\n",
    "ax = axes[3]\n",
    "ax.pcolormesh(LON, LAT, ds.TS, cmap='RdBu_r', vmin=-2, vmax=2, transform=ccrs.PlateCarree())\n",
    "\n",
    "ax = axes[4]\n",
    "ax.pcolormesh(LON, LAT, ds.LH, cmap='RdBu_r', vmin=-2, vmax=2, transform=ccrs.PlateCarree())\n",
    "\n",
    "# ====================\n",
    "# add colorbars\n",
    "\n",
    "\n"
   ]
  },
  {
   "cell_type": "markdown",
   "metadata": {},
   "source": [
    "### Solution"
   ]
  },
  {
   "cell_type": "code",
   "execution_count": null,
   "metadata": {
    "hide_input": true
   },
   "outputs": [],
   "source": [
    "f, axes = plt.subplots(1, 5, subplot_kw=dict(projection=ccrs.LambertConformal()))\n",
    "\n",
    "\n",
    "\n",
    "for ax in axes:\n",
    "\n",
    "    ax.set_extent([-122, -115, 30, 50], ccrs.PlateCarree())\n",
    "\n",
    "    ax.add_feature(states, facecolor='none', edgecolor='0.5')\n",
    "    ax.add_feature(border, facecolor='none', edgecolor='0.5')\n",
    "    \n",
    "\n",
    "LON, LAT = mpu.infer_interval_breaks(ds.lon, ds.lat)\n",
    "lon = ds.lon\n",
    "lat = ds.lat\n",
    "\n",
    "\n",
    "ax = axes[0]\n",
    "h0 = ax.pcolormesh(LON, LAT, ds.pi, cmap='Reds_r', vmin=0, vmax=2, transform=ccrs.PlateCarree())\n",
    "\n",
    "ax = axes[1]\n",
    "levels = np.arange(0.5, 9.5, 1)\n",
    "cmap, norm = from_levels_and_colors(levels, colors=colors)\n",
    "h1 = ax.pcolormesh(LON, LAT, ds. VAC, cmap=cmap, norm=norm, transform=ccrs.PlateCarree())\n",
    "\n",
    "ax = axes[2]\n",
    "h2 = ax.pcolormesh(LON, LAT, ds.h, cmap='RdBu_r', vmin=-2, vmax=2, transform=ccrs.PlateCarree())\n",
    "\n",
    "ax = axes[3]\n",
    "ax.pcolormesh(LON, LAT, ds.TS, cmap='RdBu_r', vmin=-2, vmax=2, transform=ccrs.PlateCarree())\n",
    "\n",
    "ax = axes[4]\n",
    "ax.pcolormesh(LON, LAT, ds.LH, cmap='RdBu_r', vmin=-2, vmax=2, transform=ccrs.PlateCarree())\n",
    "\n",
    "# ====================\n",
    "# add colorbars\n",
    "\n",
    "cbar = mpu.colorbar(h0, axes[0], size=0.04, pad=0.05, orientation='horizontal')\n",
    "cbar.set_ticks(np.arange(0, 2.1, 1))\n",
    "\n",
    "cbar = mpu.colorbar(h1, axes[1], size=0.04, pad=0.05, orientation='horizontal')\n",
    "cbar.set_ticks([0., 1.5, 3.5, 5.5, 7.5])\n",
    "cbar.set_ticklabels(['a', 'b', 'c', 'd'])\n",
    "\n",
    "cbar = mpu.colorbar(h2, axes[2], axes[-1], size=0.04, pad=0.05, orientation='horizontal')\n",
    "cbar.set_ticks(np.arange(-2, 2.1, 0.5))\n"
   ]
  },
  {
   "cell_type": "markdown",
   "metadata": {},
   "source": [
    "## Labels and gridlines\n",
    "\n",
    "### Exercise\n",
    "\n",
    "* add labels for the plot ('a,' 'b', 'c'), as a title (`loc='left'`)\n",
    "* add the following titles\n",
    "  * axes[0] -> '$\\pi$'\n",
    "  * axes[1] -> 'VAC'\n",
    "  * axes[2] -> \"SH' - SHp'\"\n",
    "  * axes[3] -> \"T'\"\n",
    "  * axes[4] -> \"LH'\"\n",
    "* add gridlines using `ax.gridlines` (4° is a good grid distance)"
   ]
  },
  {
   "cell_type": "code",
   "execution_count": null,
   "metadata": {},
   "outputs": [],
   "source": [
    "f, axes = plt.subplots(1, 5, subplot_kw=dict(projection=ccrs.LambertConformal()))\n",
    "\n",
    "\n",
    "\n",
    "for ax in axes:\n",
    "\n",
    "    ax.set_extent([-122, -115, 30, 50], ccrs.PlateCarree())\n",
    "\n",
    "    ax.add_feature(states, facecolor='none', edgecolor='0.5')\n",
    "    ax.add_feature(border, facecolor='none', edgecolor='0.5')\n",
    "    \n",
    "\n",
    "LON, LAT = mpu.infer_interval_breaks(ds.lon, ds.lat)\n",
    "lon = ds.lon\n",
    "lat = ds.lat\n",
    "\n",
    "\n",
    "ax = axes[0]\n",
    "h0 = ax.pcolormesh(LON, LAT, ds.pi, cmap='Reds_r', vmin=0, vmax=2, transform=ccrs.PlateCarree())\n",
    "\n",
    "ax = axes[1]\n",
    "levels = np.arange(0.5, 9.5, 1)\n",
    "cmap, norm = from_levels_and_colors(levels, colors=colors)\n",
    "h1 = ax.pcolormesh(LON, LAT, ds. VAC, cmap=cmap, norm=norm, transform=ccrs.PlateCarree())\n",
    "\n",
    "ax = axes[2]\n",
    "h2 = ax.pcolormesh(LON, LAT, ds.h, cmap='RdBu_r', vmin=-2, vmax=2, transform=ccrs.PlateCarree())\n",
    "\n",
    "ax = axes[3]\n",
    "ax.pcolormesh(LON, LAT, ds.TS, cmap='RdBu_r', vmin=-2, vmax=2, transform=ccrs.PlateCarree())\n",
    "\n",
    "ax = axes[4]\n",
    "ax.pcolormesh(LON, LAT, ds.LH, cmap='RdBu_r', vmin=-2, vmax=2, transform=ccrs.PlateCarree())\n",
    "\n",
    "# ====================\n",
    "# add colorbars\n",
    "\n",
    "cbar = mpu.colorbar(h0, axes[0], size=0.04, pad=0.05, orientation='horizontal')\n",
    "cbar.set_ticks(np.arange(0, 2.1, 1))\n",
    "\n",
    "cbar = mpu.colorbar(h1, axes[1], size=0.04, pad=0.05, orientation='horizontal')\n",
    "cbar.set_ticks([0., 1.5, 3.5, 5.5, 7.5])\n",
    "cbar.set_ticklabels(['a', 'b', 'c', 'd'])\n",
    "\n",
    "cbar = mpu.colorbar(h2, axes[2], axes[-1], size=0.04, pad=0.05, orientation='horizontal')\n",
    "cbar.set_ticks(np.arange(-2, 2.1, 0.5))\n",
    "\n",
    "# ====================\n",
    "# add labels\n",
    "\n",
    "\n",
    "# ====================\n",
    "# add add gridlines\n"
   ]
  },
  {
   "cell_type": "markdown",
   "metadata": {},
   "source": [
    "## Solution / Final Figure"
   ]
  },
  {
   "cell_type": "code",
   "execution_count": null,
   "metadata": {
    "hide_input": true
   },
   "outputs": [],
   "source": [
    "f, axes = plt.subplots(1, 5, subplot_kw=dict(projection=ccrs.LambertConformal()))\n",
    "\n",
    "\n",
    "\n",
    "for ax in axes:\n",
    "\n",
    "    ax.set_extent([-122, -115, 30, 50], ccrs.PlateCarree())\n",
    "\n",
    "    ax.add_feature(states, facecolor='none', edgecolor='0.5')\n",
    "    ax.add_feature(border, facecolor='none', edgecolor='0.5')\n",
    "    \n",
    "\n",
    "LON, LAT = mpu.infer_interval_breaks(ds.lon, ds.lat)\n",
    "lon = ds.lon\n",
    "lat = ds.lat\n",
    "\n",
    "\n",
    "ax = axes[0]\n",
    "h0 = ax.pcolormesh(LON, LAT, ds.pi, cmap='Reds_r', vmin=0, vmax=2, transform=ccrs.PlateCarree())\n",
    "\n",
    "ax = axes[1]\n",
    "levels = np.arange(0.5, 9.5, 1)\n",
    "cmap, norm = from_levels_and_colors(levels, colors=colors)\n",
    "h1 = ax.pcolormesh(LON, LAT, ds. VAC, cmap=cmap, norm=norm, transform=ccrs.PlateCarree())\n",
    "\n",
    "ax = axes[2]\n",
    "h2 = ax.pcolormesh(LON, LAT, ds.h, cmap='RdBu_r', vmin=-2, vmax=2, transform=ccrs.PlateCarree())\n",
    "\n",
    "ax = axes[3]\n",
    "ax.pcolormesh(LON, LAT, ds.TS, cmap='RdBu_r', vmin=-2, vmax=2, transform=ccrs.PlateCarree())\n",
    "\n",
    "ax = axes[4]\n",
    "ax.pcolormesh(LON, LAT, ds.LH, cmap='RdBu_r', vmin=-2, vmax=2, transform=ccrs.PlateCarree())\n",
    "\n",
    "# ====================\n",
    "# add colorbars\n",
    "\n",
    "cbar = mpu.colorbar(h0, axes[0], size=0.04, pad=0.05, orientation='horizontal')\n",
    "cbar.set_ticks(np.arange(0, 2.1, 1))\n",
    "\n",
    "cbar = mpu.colorbar(h1, axes[1], size=0.04, pad=0.05, orientation='horizontal')\n",
    "cbar.set_ticks([0., 1.5, 3.5, 5.5, 7.5])\n",
    "cbar.set_ticklabels(['a', 'b', 'c', 'd'])\n",
    "\n",
    "cbar = mpu.colorbar(h2, axes[2], axes[-1], size=0.04, pad=0.05, orientation='horizontal')\n",
    "cbar.set_ticks(np.arange(-2, 2.1, 0.5))\n",
    "\n",
    "# ====================\n",
    "# add labels\n",
    "\n",
    "lbl = 'abcde'\n",
    "for i, ax in enumerate(axes):\n",
    "    ax.set_title(lbl[i], loc='left', weight='bold')\n",
    "\n",
    "axes[0].set_title('$\\pi$')\n",
    "axes[1].set_title('VAC')\n",
    "axes[2].set_title(\"SH' - SHp'\", loc='right')\n",
    "axes[3].set_title(\"T'\")\n",
    "axes[4].set_title(\"LH'\")\n",
    "\n",
    "# ====================\n",
    "# add gridlines\n",
    "\n",
    "lon = np.arange(-200, -100, 4)\n",
    "lat = np.arange(10, 86, 4)\n",
    "\n",
    "for ax in axes:\n",
    "    gl = ax.gridlines(ylocs=lat, xlocs=lon, color='0.5', alpha=0.5)\n",
    "    \n",
    "\n",
    "# ====================\n",
    "# format the figure\n",
    "\n",
    "f.subplots_adjust(left=0.025, right=0.975, bottom=0.2)\n",
    "mpu.set_map_layout(ax, 17)\n",
    "\n",
    "plt.draw()\n",
    "\n",
    "#plt.savefig('ex4_multiple_regional_maps_M_Hauser.png', dpi=300)"
   ]
  }
 ],
 "metadata": {
  "hide_input": false,
  "kernelspec": {
   "display_name": "Python 3",
   "language": "python",
   "name": "python3"
  },
  "language_info": {
   "codemirror_mode": {
    "name": "ipython",
    "version": 3
   },
   "file_extension": ".py",
   "mimetype": "text/x-python",
   "name": "python",
   "nbconvert_exporter": "python",
   "pygments_lexer": "ipython3",
   "version": "3.6.5"
  }
 },
 "nbformat": 4,
 "nbformat_minor": 2
}
