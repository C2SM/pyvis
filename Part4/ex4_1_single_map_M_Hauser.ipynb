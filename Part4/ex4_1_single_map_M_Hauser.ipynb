{
 "cells": [
  {
   "cell_type": "markdown",
   "metadata": {},
   "source": [
    "# Exercise 4.1 - single map plot (M. Hauser)\n",
    "prepared by M.Hauser"
   ]
  },
  {
   "cell_type": "markdown",
   "metadata": {},
   "source": [
    "In this exercise we will again use the growing season length (GSL), see [exercise 0.3](./ex0_3_netCDF4.ipynb).\n",
    "\n",
    "The data is described in Donat et al., [2013](http://onlinelibrary.wiley.com/doi/10.1002/jgrd.50150/abstract), and was obtained from http://www.climdex.org/. "
   ]
  },
  {
   "cell_type": "markdown",
   "metadata": {},
   "source": [
    "We will create the following plot (see Mueller et al., ([2015](https://www.sciencedirect.com/science/article/pii/S2212094715000183))):\n",
    "    \n",
    "\n",
    "    "
   ]
  },
  {
   "cell_type": "markdown",
   "metadata": {},
   "source": [
    "## Import modules"
   ]
  },
  {
   "cell_type": "code",
   "execution_count": null,
   "metadata": {},
   "outputs": [],
   "source": [
    "import cartopy.crs as ccrs\n",
    "import cartopy.util as cutil\n",
    "import cartopy.feature as cfeature\n",
    "\n",
    "import matplotlib.pyplot as plt\n",
    "import numpy as np\n",
    "\n",
    "import seaborn as sns\n",
    "import xarray as xr\n",
    "\n",
    "%matplotlib inline"
   ]
  },
  {
   "cell_type": "code",
   "execution_count": null,
   "metadata": {},
   "outputs": [],
   "source": [
    "import mplotutils as mpu"
   ]
  },
  {
   "cell_type": "markdown",
   "metadata": {},
   "source": [
    "We will use `cartopy`to plot georeferenced data."
   ]
  },
  {
   "cell_type": "markdown",
   "metadata": {},
   "source": [
    "## Load data"
   ]
  },
  {
   "cell_type": "code",
   "execution_count": null,
   "metadata": {},
   "outputs": [],
   "source": [
    "fN = './../data/HadEX2_GSL.nc'\n",
    "    \n",
    "ds = xr.open_dataset(fN)\n",
    "\n",
    "ds"
   ]
  },
  {
   "cell_type": "markdown",
   "metadata": {},
   "source": [
    "## Map\n",
    "\n",
    "### Exercise\n",
    "\n",
    "* create a figure with one axes, choose a projection\n",
    "* add coastlines\n",
    "* plot the variable `ds.trend`\n",
    "* add a colorbar below the axes"
   ]
  },
  {
   "cell_type": "code",
   "execution_count": null,
   "metadata": {},
   "outputs": [],
   "source": []
  },
  {
   "cell_type": "markdown",
   "metadata": {},
   "source": [
    "### Solution"
   ]
  },
  {
   "cell_type": "code",
   "execution_count": null,
   "metadata": {
    "hide_input": true
   },
   "outputs": [],
   "source": [
    "f, ax = plt.subplots(1, 1, subplot_kw=dict(projection=ccrs.PlateCarree()))\n",
    "\n",
    "ax.coastlines()\n",
    "\n",
    "h = ax.pcolormesh(ds.lon, ds.lat, ds.trend)\n",
    "\n",
    "mpu.colorbar(h, ax, orientation='horizontal')\n",
    "\n",
    "ax.set_global()"
   ]
  },
  {
   "cell_type": "markdown",
   "metadata": {},
   "source": [
    "### Exercise\n",
    " * restrict the displayed range of the data to -0.35, 0.35\n",
    " * choose a [diverging colormap](http://colorbrewer2.org)\n",
    " * if you haven't done so use `mpu.infer_interval_breaks`"
   ]
  },
  {
   "cell_type": "code",
   "execution_count": null,
   "metadata": {},
   "outputs": [],
   "source": [
    "f, ax = plt.subplots(1, 1, subplot_kw=dict(projection=ccrs.PlateCarree()))\n",
    "\n",
    "ax.coastlines()\n",
    "\n",
    "h = ax.pcolormesh(ds.lon, ds.lat, ds.trend)\n",
    "\n",
    "mpu.colorbar(h, ax, orientation='horizontal')\n",
    "\n",
    "ax.set_global()"
   ]
  },
  {
   "cell_type": "markdown",
   "metadata": {},
   "source": [
    "### Solution"
   ]
  },
  {
   "cell_type": "code",
   "execution_count": null,
   "metadata": {
    "hide_input": true
   },
   "outputs": [],
   "source": [
    "f, ax = plt.subplots(1, 1, subplot_kw=dict(projection=ccrs.PlateCarree()))\n",
    "\n",
    "ax.coastlines()\n",
    "\n",
    "LON, LAT = mpu.infer_interval_breaks(ds.lon, ds.lat, clip=True)\n",
    "\n",
    "h = ax.pcolormesh(LON, LAT, ds.trend, cmap='RdBu_r', vmin=-0.35, vmax=0.35)\n",
    "\n",
    "mpu.colorbar(h, ax, orientation='horizontal')\n",
    "\n",
    "ax.set_global()"
   ]
  },
  {
   "cell_type": "markdown",
   "metadata": {},
   "source": [
    "### Exercise\n",
    "\n",
    "* use `aspect` to decrease the height of the colorbar\n",
    "* use `mpu.from_levels_and_cmap` to get colors in steps of 0.1\n",
    "* get rid of Antarctica (`ax.set_extent`)"
   ]
  },
  {
   "cell_type": "code",
   "execution_count": null,
   "metadata": {},
   "outputs": [],
   "source": [
    "f, ax = plt.subplots(1, 1, subplot_kw=dict(projection=ccrs.PlateCarree()))\n",
    "\n",
    "ax.coastlines()\n",
    "\n",
    "LON, LAT = mpu.infer_interval_breaks(ds.lon, ds.lat, clip=True)\n",
    "\n",
    "h = ax.pcolormesh(LON, LAT, ds.trend, cmap='RdBu_r', vmin=-0.35, vmax=0.35)\n",
    "\n",
    "mpu.colorbar(h, ax, orientation='horizontal')\n",
    "\n",
    "ax.set_global()"
   ]
  },
  {
   "cell_type": "markdown",
   "metadata": {},
   "source": [
    "### Solution"
   ]
  },
  {
   "cell_type": "code",
   "execution_count": null,
   "metadata": {
    "hide_input": true
   },
   "outputs": [],
   "source": [
    "f, ax = plt.subplots(1, 1, subplot_kw=dict(projection=ccrs.PlateCarree()))\n",
    "\n",
    "ax.coastlines()\n",
    "\n",
    "levels = np.arange(-0.35, 0.36, 0.1)\n",
    "cmap, norm = mpu.from_levels_and_cmap(levels, 'RdBu_r', extend='both')\n",
    "\n",
    "LON, LAT = mpu.infer_interval_breaks(ds.lon, ds.lat, clip=True)\n",
    "\n",
    "h = ax.pcolormesh(LON, LAT, ds.trend, cmap=cmap, norm=norm)\n",
    "\n",
    "\n",
    "\n",
    "mpu.colorbar(h, ax, orientation='horizontal', aspect=30)\n",
    "\n",
    "ax.set_extent([-180, 180, -63, 89], ccrs.PlateCarree())\n",
    "\n"
   ]
  },
  {
   "cell_type": "markdown",
   "metadata": {},
   "source": [
    "## Stippling\n",
    "\n",
    "### Exercise\n",
    "* develop the stippling for p values < 0.05 (the data is in `ds.p_val`, see [Exercise 3.5](./../Part3/ex3_5_stippling.ipynb)).\n",
    "* use `mpu.cyclic_dataarray`."
   ]
  },
  {
   "cell_type": "code",
   "execution_count": null,
   "metadata": {},
   "outputs": [],
   "source": [
    "f, ax = plt.subplots(1, 1, subplot_kw=dict(projection=ccrs.PlateCarree()))\n",
    "\n",
    "ax.coastlines()\n",
    "\n",
    "\n",
    "\n"
   ]
  },
  {
   "cell_type": "markdown",
   "metadata": {},
   "source": [
    "### Solution"
   ]
  },
  {
   "cell_type": "code",
   "execution_count": null,
   "metadata": {
    "hide_input": true
   },
   "outputs": [],
   "source": [
    "f, ax = plt.subplots(1, 1, subplot_kw=dict(projection=ccrs.PlateCarree()))\n",
    "\n",
    "ax.coastlines()\n",
    "\n",
    "pval = mpu.cyclic_dataarray(ds.p_val)\n",
    "levels = [0, 0.05, 1]\n",
    "h = ax.contourf(pval.lon, pval.lat, pval, levels=levels, hatches=['...', ''], colors='none')\n",
    "\n",
    "plt.colorbar(h)"
   ]
  },
  {
   "cell_type": "markdown",
   "metadata": {},
   "source": [
    "### Exercise\n",
    "\n",
    "* copy the relevant code to the other figure\n"
   ]
  },
  {
   "cell_type": "code",
   "execution_count": null,
   "metadata": {},
   "outputs": [],
   "source": [
    "f, ax = plt.subplots(1, 1, subplot_kw=dict(projection=ccrs.PlateCarree()))\n",
    "\n",
    "ax.coastlines()\n",
    "\n",
    "# =======\n",
    "# plot trend\n",
    "\n",
    "levels = np.arange(-0.35, 0.36, 0.1)\n",
    "cmap, norm = mpu.from_levels_and_cmap(levels, 'RdBu_r', extend='both')\n",
    "LON, LAT = mpu.infer_interval_breaks(ds.lon, ds.lat, clip=True)\n",
    "h = ax.pcolormesh(LON, LAT, ds.trend, cmap=cmap, norm=norm)\n",
    "\n",
    "# =======\n",
    "# stippling\n",
    "\n",
    "# ADD HERE\n",
    "\n",
    "# =======\n",
    "# add colorbar\n",
    "\n",
    "mpu.colorbar(h, ax, orientation='horizontal', aspect=30)\n",
    "\n",
    "# =======\n",
    "# format axes\n",
    "\n",
    "ax.set_extent([-180, 180, -63, 89], ccrs.PlateCarree())"
   ]
  },
  {
   "cell_type": "markdown",
   "metadata": {},
   "source": [
    "### Solution"
   ]
  },
  {
   "cell_type": "code",
   "execution_count": null,
   "metadata": {
    "hide_input": true
   },
   "outputs": [],
   "source": [
    "f, ax = plt.subplots(1, 1, subplot_kw=dict(projection=ccrs.PlateCarree()))\n",
    "\n",
    "ax.coastlines()\n",
    "\n",
    "# =======\n",
    "# plot trend\n",
    "\n",
    "levels = np.arange(-0.35, 0.36, 0.1)\n",
    "cmap, norm = mpu.from_levels_and_cmap(levels, 'RdBu_r', extend='both')\n",
    "LON, LAT = mpu.infer_interval_breaks(ds.lon, ds.lat, clip=True)\n",
    "h = ax.pcolormesh(LON, LAT, ds.trend, cmap=cmap, norm=norm)\n",
    "\n",
    "# =======\n",
    "# stippling\n",
    "\n",
    "pval = mpu.cyclic_dataarray(ds.p_val)\n",
    "levels = [0, 0.05, 1]\n",
    "ax.contourf(pval.lon, pval.lat, pval, levels=levels, hatches=['...', ''], colors='none')\n",
    "\n",
    "# =======\n",
    "# add colorbar\n",
    "\n",
    "mpu.colorbar(h, ax, orientation='horizontal', aspect=30)\n",
    "\n",
    "# =======\n",
    "# format axes\n",
    "\n",
    "ax.set_extent([-180, 180, -63, 89], ccrs.PlateCarree())\n"
   ]
  },
  {
   "cell_type": "markdown",
   "metadata": {},
   "source": [
    "## Region Boxes\n",
    "\n",
    "### Exercise\n",
    "\n",
    "* add the outline of the US-region (the coordinates are given below)\n",
    "* add `US` as text label. If you set `va='top', ha='left'`, then lat: 82° N , lon: 198° E is a good position\n",
    "* color the background of the textbox white (`bbox=dict(...)`)\n",
    "  * if you set `pad=0` the background will only have the size of the text"
   ]
  },
  {
   "cell_type": "code",
   "execution_count": null,
   "metadata": {},
   "outputs": [],
   "source": [
    "US_lon = [-165, -25, -25, -165, -165]\n",
    "US_lat = [40, 40, 85, 85, 40]"
   ]
  },
  {
   "cell_type": "code",
   "execution_count": null,
   "metadata": {},
   "outputs": [],
   "source": [
    "f, ax = plt.subplots(1, 1, subplot_kw=dict(projection=ccrs.PlateCarree()))\n",
    "\n",
    "ax.coastlines()\n",
    "\n",
    "# =======\n",
    "# plot trend\n",
    "\n",
    "levels = np.arange(-0.35, 0.36, 0.1)\n",
    "cmap, norm = mpu.from_levels_and_cmap(levels, 'RdBu_r', extend='both')\n",
    "LON, LAT = mpu.infer_interval_breaks(ds.lon, ds.lat, clip=True)\n",
    "h = ax.pcolormesh(LON, LAT, ds.trend, cmap=cmap, norm=norm)\n",
    "\n",
    "# =======\n",
    "# stippling\n",
    "\n",
    "pval = mpu.cyclic_dataarray(ds.p_val)\n",
    "levels = [0, 0.05, 1]\n",
    "ax.contourf(pval.lon, pval.lat, pval, levels=levels, hatches=['...', ''], colors='none')\n",
    "\n",
    "# =======\n",
    "# add colorbar\n",
    "\n",
    "mpu.colorbar(h, ax, orientation='horizontal', aspect=30)\n",
    "\n",
    "# =======\n",
    "# format axes\n",
    "\n",
    "ax.set_extent([-180, 180, -63, 89], ccrs.PlateCarree())\n",
    "\n",
    "# =======\n",
    "# add regions\n"
   ]
  },
  {
   "cell_type": "markdown",
   "metadata": {},
   "source": [
    "### Solution"
   ]
  },
  {
   "cell_type": "code",
   "execution_count": null,
   "metadata": {
    "hide_input": true
   },
   "outputs": [],
   "source": [
    "f, ax = plt.subplots(1, 1, subplot_kw=dict(projection=ccrs.PlateCarree()))\n",
    "\n",
    "ax.coastlines()\n",
    "\n",
    "# =======\n",
    "# plot trend\n",
    "\n",
    "levels = np.arange(-0.35, 0.36, 0.1)\n",
    "cmap, norm = mpu.from_levels_and_cmap(levels, 'RdBu_r', extend='both')\n",
    "LON, LAT = mpu.infer_interval_breaks(ds.lon, ds.lat, clip=True)\n",
    "h = ax.pcolormesh(LON, LAT, ds.trend, cmap=cmap, norm=norm)\n",
    "\n",
    "# =======\n",
    "# stippling\n",
    "\n",
    "pval = mpu.cyclic_dataarray(ds.p_val)\n",
    "levels = [0, 0.05, 1]\n",
    "ax.contourf(pval.lon, pval.lat, pval, levels=levels, hatches=['...', ''], colors='none')\n",
    "\n",
    "# =======\n",
    "# add colorbar\n",
    "\n",
    "mpu.colorbar(h, ax, orientation='horizontal', aspect=30)\n",
    "\n",
    "# =======\n",
    "# format axes\n",
    "\n",
    "ax.set_extent([-180, 180, -63, 90], ccrs.PlateCarree())\n",
    "\n",
    "# =======\n",
    "# add regions\n",
    "\n",
    "ax.plot(US_lon, US_lat, transform=ccrs.PlateCarree(), color='k', lw=2)\n",
    "ax.text(198, 82, 'US', va='top', ha='left', fontweight='bold', transform=ccrs.PlateCarree(),\n",
    "        bbox=dict(color='w', pad=0))\n",
    "\n",
    "\n",
    "\n",
    "\n"
   ]
  },
  {
   "cell_type": "markdown",
   "metadata": {},
   "source": [
    "## Add other regions\n",
    "\n",
    "### Exercise\n",
    " * add the outline & label for the European region (EU) and Asian region (AS)\n",
    " * either just copy the code from the US, or write a function \n",
    " * do the text labels at -17 °E and 63°E"
   ]
  },
  {
   "cell_type": "code",
   "execution_count": null,
   "metadata": {},
   "outputs": [],
   "source": [
    "EU_lon = [-20, 55, 55, -20, -20]\n",
    "EU_lat = [40, 40, 85, 85, 40]\n",
    "AS_lon = [60, 179, 179, 60, 60]\n",
    "AS_lat = [40, 40, 85, 85, 40]"
   ]
  },
  {
   "cell_type": "code",
   "execution_count": null,
   "metadata": {},
   "outputs": [],
   "source": [
    "f, ax = plt.subplots(1, 1, subplot_kw=dict(projection=ccrs.PlateCarree()))\n",
    "\n",
    "ax.coastlines()\n",
    "\n",
    "# =======\n",
    "# plot trend\n",
    "\n",
    "levels = np.arange(-0.35, 0.36, 0.1)\n",
    "cmap, norm = mpu.from_levels_and_cmap(levels, 'RdBu_r', extend='both')\n",
    "LON, LAT = mpu.infer_interval_breaks(ds.lon, ds.lat, clip=True)\n",
    "h = ax.pcolormesh(LON, LAT, ds.trend, cmap=cmap, norm=norm)\n",
    "\n",
    "# =======\n",
    "# stippling\n",
    "\n",
    "pval = mpu.cyclic_dataarray(ds.p_val)\n",
    "levels = [0, 0.05, 1]\n",
    "ax.contourf(pval.lon, pval.lat, pval, levels=levels, hatches=['...', ''], colors='none')\n",
    "\n",
    "# =======\n",
    "# add colorbar\n",
    "\n",
    "mpu.colorbar(h, ax, orientation='horizontal', aspect=30)\n",
    "\n",
    "# =======\n",
    "# format axes\n",
    "\n",
    "ax.set_extent([-180, 180, -63, 90], ccrs.PlateCarree())\n",
    "\n",
    "# =======\n",
    "# add regions\n",
    "\n",
    "ax.plot(US_lon, US_lat, transform=ccrs.PlateCarree(), color='k', lw=2)\n",
    "ax.text(198, 82, 'US', va='top', ha='left', fontweight='bold', transform=ccrs.PlateCarree(),\n",
    "        bbox=dict(color='w', pad=0))"
   ]
  },
  {
   "cell_type": "markdown",
   "metadata": {},
   "source": [
    "### Solution"
   ]
  },
  {
   "cell_type": "code",
   "execution_count": null,
   "metadata": {
    "hide_input": true
   },
   "outputs": [],
   "source": [
    "f, ax = plt.subplots(1, 1, subplot_kw=dict(projection=ccrs.PlateCarree()))\n",
    "\n",
    "ax.coastlines()\n",
    "\n",
    "# =======\n",
    "# plot trend\n",
    "\n",
    "levels = np.arange(-0.35, 0.36, 0.1)\n",
    "cmap, norm = mpu.from_levels_and_cmap(levels, 'RdBu_r', extend='both')\n",
    "LON, LAT = mpu.infer_interval_breaks(ds.lon, ds.lat, clip=True)\n",
    "h = ax.pcolormesh(LON, LAT, ds.trend, cmap=cmap, norm=norm)\n",
    "\n",
    "# =======\n",
    "# stippling\n",
    "\n",
    "pval = mpu.cyclic_dataarray(ds.p_val)\n",
    "levels = [0, 0.05, 1]\n",
    "ax.contourf(pval.lon, pval.lat, pval, levels=levels, hatches=['...', ''], colors='none')\n",
    "\n",
    "# =======\n",
    "# add colorbar\n",
    "\n",
    "mpu.colorbar(h, ax, orientation='horizontal', aspect=30)\n",
    "\n",
    "# =======\n",
    "# format axes\n",
    "\n",
    "ax.set_extent([-180, 180, -63, 90], ccrs.PlateCarree())\n",
    "\n",
    "# =======\n",
    "# add regions\n",
    "\n",
    "def mark_region(lon, lat, lbl, lon_lbl):\n",
    "    ax.plot(lon, lat, transform=ccrs.PlateCarree(), color='k', lw=2)\n",
    "    ax.text(lon_lbl, 82, lbl, va='top', ha='left', fontweight='bold', transform=ccrs.PlateCarree(),\n",
    "            bbox=dict(color='w', pad=0))\n",
    "    \n",
    "mark_region(US_lon, US_lat, 'US', 198)\n",
    "mark_region(EU_lon, EU_lat, 'EU', -17)    \n",
    "mark_region(AS_lon, AS_lat, 'AS', 63)    "
   ]
  },
  {
   "cell_type": "markdown",
   "metadata": {},
   "source": [
    "## Tropics\n",
    "\n",
    "### Exercise\n",
    "\n",
    " * Use `ax.fill_between` to shade the tropics (25°S to 25°N) in a light grey\n",
    " * Set `zorder` to plot it behind the data"
   ]
  },
  {
   "cell_type": "code",
   "execution_count": null,
   "metadata": {},
   "outputs": [],
   "source": [
    "f, ax = plt.subplots(1, 1, subplot_kw=dict(projection=ccrs.PlateCarree()))\n",
    "\n",
    "ax.coastlines()\n",
    "\n",
    "# =======\n",
    "# plot trend\n",
    "\n",
    "levels = np.arange(-0.35, 0.36, 0.1)\n",
    "cmap, norm = mpu.from_levels_and_cmap(levels, 'RdBu_r', extend='both')\n",
    "LON, LAT = mpu.infer_interval_breaks(ds.lon, ds.lat, clip=True)\n",
    "h = ax.pcolormesh(LON, LAT, ds.trend, cmap=cmap, norm=norm)\n",
    "\n",
    "# =======\n",
    "# stippling\n",
    "\n",
    "pval = mpu.cyclic_dataarray(ds.p_val)\n",
    "levels = [0, 0.05, 1]\n",
    "ax.contourf(pval.lon, pval.lat, pval, levels=levels, hatches=['...', ''], colors='none')\n",
    "\n",
    "# =======\n",
    "# add colorbar\n",
    "\n",
    "mpu.colorbar(h, ax, orientation='horizontal', aspect=30)\n",
    "\n",
    "# =======\n",
    "# format axes\n",
    "\n",
    "ax.set_extent([-180, 180, -63, 90], ccrs.PlateCarree())\n",
    "\n",
    "# =======\n",
    "# add regions\n",
    "\n",
    "def mark_region(lon, lat, lbl, lon_lbl):\n",
    "    ax.plot(lon, lat, transform=ccrs.PlateCarree(), color='k', lw=2)\n",
    "    ax.text(lon_lbl, 82, lbl, va='top', ha='left', fontweight='bold', transform=ccrs.PlateCarree(),\n",
    "            bbox=dict(color='w', pad=0))\n",
    "    \n",
    "mark_region(US_lon, US_lat, 'US', 198)\n",
    "mark_region(EU_lon, EU_lat, 'EU', -17)    \n",
    "mark_region(AS_lon, AS_lat, 'AS', 63)  \n",
    "\n",
    "# =======\n",
    "# mark tropics\n"
   ]
  },
  {
   "cell_type": "markdown",
   "metadata": {},
   "source": [
    "### Solution"
   ]
  },
  {
   "cell_type": "code",
   "execution_count": null,
   "metadata": {
    "hide_input": true
   },
   "outputs": [],
   "source": [
    "f, ax = plt.subplots(1, 1, subplot_kw=dict(projection=ccrs.PlateCarree()))\n",
    "\n",
    "ax.coastlines()\n",
    "\n",
    "# =======\n",
    "# plot trend\n",
    "\n",
    "levels = np.arange(-0.35, 0.36, 0.1)\n",
    "cmap, norm = mpu.from_levels_and_cmap(levels, 'RdBu_r', extend='both')\n",
    "LON, LAT = mpu.infer_interval_breaks(ds.lon, ds.lat, clip=True)\n",
    "h = ax.pcolormesh(LON, LAT, ds.trend, cmap=cmap, norm=norm)\n",
    "\n",
    "# =======\n",
    "# stippling\n",
    "\n",
    "pval = mpu.cyclic_dataarray(ds.p_val)\n",
    "levels = [0, 0.05, 1]\n",
    "ax.contourf(pval.lon, pval.lat, pval, levels=levels, hatches=['...', ''], colors='none')\n",
    "\n",
    "# =======\n",
    "# add colorbar\n",
    "\n",
    "mpu.colorbar(h, ax, orientation='horizontal', aspect=30)\n",
    "\n",
    "# =======\n",
    "# format axes\n",
    "\n",
    "ax.set_extent([-180, 180, -63, 90], ccrs.PlateCarree())\n",
    "\n",
    "# =======\n",
    "# add regions\n",
    "\n",
    "def mark_region(lon, lat, lbl, lon_lbl):\n",
    "    ax.plot(lon, lat, transform=ccrs.PlateCarree(), color='k', lw=2)\n",
    "    ax.text(lon_lbl, 82, lbl, va='top', ha='left', fontweight='bold', transform=ccrs.PlateCarree(),\n",
    "            bbox=dict(color='w', pad=0))\n",
    "    \n",
    "mark_region(US_lon, US_lat, 'US', 198)\n",
    "mark_region(EU_lon, EU_lat, 'EU', -17)    \n",
    "mark_region(AS_lon, AS_lat, 'AS', 63)  \n",
    "\n",
    "# =======\n",
    "# mark tropics\n",
    "\n",
    "ax.fill_between([-180, 180], [-25, -25], [25, 25], transform=ccrs.PlateCarree(),\n",
    "                facecolor='0.75', edgecolor='none', zorder=0)"
   ]
  },
  {
   "cell_type": "markdown",
   "metadata": {},
   "source": [
    "## Dont mark tropics over land\n",
    "\n",
    "Now some regions in Africa, South America, ... are grey as well. \n",
    "\n",
    "### Exercise\n",
    " * use `ax.add_feature` and `cfeature.LAND` to color the land areas in white.\n",
    " * Play with `zorder`, so that the white land is between the data and the grey band around the tropics"
   ]
  },
  {
   "cell_type": "code",
   "execution_count": null,
   "metadata": {},
   "outputs": [],
   "source": [
    "\n",
    "f, ax = plt.subplots(1, 1, subplot_kw=dict(projection=ccrs.PlateCarree()))\n",
    "\n",
    "ax.coastlines()\n",
    "\n",
    "# =======\n",
    "# plot trend\n",
    "\n",
    "levels = np.arange(-0.35, 0.36, 0.1)\n",
    "cmap, norm = mpu.from_levels_and_cmap(levels, 'RdBu_r', extend='both')\n",
    "LON, LAT = mpu.infer_interval_breaks(ds.lon, ds.lat, clip=True)\n",
    "h = ax.pcolormesh(LON, LAT, ds.trend, cmap=cmap, norm=norm)\n",
    "\n",
    "# =======\n",
    "# stippling\n",
    "\n",
    "pval = mpu.cyclic_dataarray(ds.p_val)\n",
    "levels = [0, 0.05, 1]\n",
    "ax.contourf(pval.lon, pval.lat, pval, levels=levels, hatches=['...', ''], colors='none')\n",
    "\n",
    "# =======\n",
    "# add colorbar\n",
    "\n",
    "mpu.colorbar(h, ax, orientation='horizontal', aspect=30)\n",
    "\n",
    "# =======\n",
    "# format axes\n",
    "\n",
    "ax.set_extent([-180, 180, -63, 90], ccrs.PlateCarree())\n",
    "\n",
    "# =======\n",
    "# add regions\n",
    "\n",
    "def mark_region(lon, lat, lbl, lon_lbl):\n",
    "    ax.plot(lon, lat, transform=ccrs.PlateCarree(), color='k', lw=2)\n",
    "    ax.text(lon_lbl, 82, lbl, va='top', ha='left', fontweight='bold', transform=ccrs.PlateCarree(),\n",
    "            bbox=dict(color='w', pad=0))\n",
    "    \n",
    "mark_region(US_lon, US_lat, 'US', 198)\n",
    "mark_region(EU_lon, EU_lat, 'EU', -17)    \n",
    "mark_region(AS_lon, AS_lat, 'AS', 63)  \n",
    "\n",
    "# =======\n",
    "# mark tropics\n",
    "\n",
    "ax.fill_between([-180, 180], [-25, -25], [25, 25], transform=ccrs.PlateCarree(),\n",
    "                facecolor='0.75', edgecolor='none', zorder=0)\n",
    "\n",
    "# color land areas in white\n"
   ]
  },
  {
   "cell_type": "markdown",
   "metadata": {},
   "source": [
    "### Solution"
   ]
  },
  {
   "cell_type": "code",
   "execution_count": null,
   "metadata": {
    "hide_input": true
   },
   "outputs": [],
   "source": [
    "f, ax = plt.subplots(1, 1, subplot_kw=dict(projection=ccrs.PlateCarree()))\n",
    "\n",
    "ax.coastlines()\n",
    "\n",
    "# =======\n",
    "# plot trend\n",
    "\n",
    "levels = np.arange(-0.35, 0.36, 0.1)\n",
    "cmap, norm = mpu.from_levels_and_cmap(levels, 'RdBu_r', extend='both')\n",
    "LON, LAT = mpu.infer_interval_breaks(ds.lon, ds.lat, clip=True)\n",
    "h = ax.pcolormesh(LON, LAT, ds.trend, cmap=cmap, norm=norm)\n",
    "\n",
    "# =======\n",
    "# stippling\n",
    "\n",
    "pval = mpu.cyclic_dataarray(ds.p_val)\n",
    "levels = [0, 0.05, 1]\n",
    "ax.contourf(pval.lon, pval.lat, pval, levels=levels, hatches=['...', ''], colors='none')\n",
    "\n",
    "# =======\n",
    "# add colorbar\n",
    "\n",
    "mpu.colorbar(h, ax, orientation='horizontal', aspect=30)\n",
    "\n",
    "# =======\n",
    "# format axes\n",
    "\n",
    "ax.set_extent([-180, 180, -63, 90], ccrs.PlateCarree())\n",
    "\n",
    "# =======\n",
    "# add regions\n",
    "\n",
    "def mark_region(lon, lat, lbl, lon_lbl):\n",
    "    ax.plot(lon, lat, transform=ccrs.PlateCarree(), color='k', lw=2)\n",
    "    ax.text(lon_lbl, 82, lbl, va='top', ha='left', fontweight='bold', transform=ccrs.PlateCarree(),\n",
    "            bbox=dict(color='w', pad=0))\n",
    "    \n",
    "mark_region(US_lon, US_lat, 'US', 198)\n",
    "mark_region(EU_lon, EU_lat, 'EU', -17)    \n",
    "mark_region(AS_lon, AS_lat, 'AS', 63)  \n",
    "\n",
    "# =======\n",
    "# mark tropics\n",
    "\n",
    "ax.fill_between([-180, 180], [-25, -25], [25, 25], transform=ccrs.PlateCarree(),\n",
    "                facecolor='0.75', edgecolor='none', zorder=0)\n",
    "\n",
    "# color land areas in white\n",
    "ax.add_feature(cfeature.LAND, facecolor='w', edgecolor='none', lw=0, zorder=0.5)"
   ]
  },
  {
   "cell_type": "markdown",
   "metadata": {},
   "source": [
    "## Tick labels\n",
    "\n",
    "### Exercise\n",
    "* add lon ticks every 60° and lat ticks every 25° (see [Exercise 3.6](./../Part3/ex3_6_ticks_grids.ipynb))\n",
    "* you will have to adapt `pad` in for the colorbar\n",
    "* use `ax.tick_params(axis='both', which='major', ...)` to\n",
    "  * adjust the fontsize\n",
    "  * set the tick length to 0\n",
    "\n",
    "\n"
   ]
  },
  {
   "cell_type": "code",
   "execution_count": null,
   "metadata": {},
   "outputs": [],
   "source": [
    "from cartopy.mpl.ticker import LongitudeFormatter, LatitudeFormatter"
   ]
  },
  {
   "cell_type": "code",
   "execution_count": null,
   "metadata": {},
   "outputs": [],
   "source": [
    "f, ax = plt.subplots(1, 1, subplot_kw=dict(projection=ccrs.PlateCarree()))\n",
    "\n",
    "ax.coastlines()\n",
    "\n",
    "# =======\n",
    "# plot trend\n",
    "\n",
    "levels = np.arange(-0.35, 0.36, 0.1)\n",
    "cmap, norm = mpu.from_levels_and_cmap(levels, 'RdBu_r', extend='both')\n",
    "LON, LAT = mpu.infer_interval_breaks(ds.lon, ds.lat, clip=True)\n",
    "h = ax.pcolormesh(LON, LAT, ds.trend, cmap=cmap, norm=norm)\n",
    "\n",
    "# =======\n",
    "# stippling\n",
    "\n",
    "pval = mpu.cyclic_dataarray(ds.p_val)\n",
    "levels = [0, 0.05, 1]\n",
    "ax.contourf(pval.lon, pval.lat, pval, levels=levels, hatches=['...', ''], colors='none')\n",
    "\n",
    "# =======\n",
    "# add colorbar\n",
    "\n",
    "mpu.colorbar(h, ax, orientation='horizontal', aspect=30)\n",
    "\n",
    "# =======\n",
    "# format axes\n",
    "\n",
    "ax.set_extent([-180, 180, -63, 90], ccrs.PlateCarree())\n",
    "\n",
    "# =======\n",
    "# add regions\n",
    "\n",
    "def mark_region(lon, lat, lbl, lon_lbl):\n",
    "    ax.plot(lon, lat, transform=ccrs.PlateCarree(), color='k', lw=2)\n",
    "    ax.text(lon_lbl, 82, lbl, va='top', ha='left', fontweight='bold', transform=ccrs.PlateCarree(),\n",
    "            bbox=dict(color='w', pad=0))\n",
    "    \n",
    "mark_region(US_lon, US_lat, 'US', 198)\n",
    "mark_region(EU_lon, EU_lat, 'EU', -17)    \n",
    "mark_region(AS_lon, AS_lat, 'AS', 63)  \n",
    "\n",
    "# =======\n",
    "# mark tropics\n",
    "\n",
    "ax.fill_between([-180, 180], [-25, -25], [25, 25], transform=ccrs.PlateCarree(),\n",
    "                facecolor='0.75', edgecolor='none', zorder=0)\n",
    "\n",
    "# color land areas in white\n",
    "ax.add_feature(cfeature.LAND, facecolor='w', edgecolor='none', lw=0, zorder=0.5)\n",
    "\n",
    "# =======\n",
    "# set ticks\n"
   ]
  },
  {
   "cell_type": "markdown",
   "metadata": {},
   "source": [
    "## Final Plot\n",
    "\n",
    "### Solution"
   ]
  },
  {
   "cell_type": "code",
   "execution_count": null,
   "metadata": {
    "hide_input": true
   },
   "outputs": [],
   "source": [
    "f, ax = plt.subplots(1, 1, subplot_kw=dict(projection=ccrs.PlateCarree()))\n",
    "\n",
    "ax.coastlines()\n",
    "\n",
    "# =======\n",
    "# plot trend\n",
    "\n",
    "levels = np.arange(-0.35, 0.36, 0.1)\n",
    "cmap, norm = mpu.from_levels_and_cmap(levels, 'RdBu_r', extend='both')\n",
    "LON, LAT = mpu.infer_interval_breaks(ds.lon, ds.lat, clip=True)\n",
    "trend = np.ma.masked_invalid(ds.trend)\n",
    "h = ax.pcolormesh(LON, LAT, trend, cmap=cmap, norm=norm)\n",
    "\n",
    "# =======\n",
    "# stippling\n",
    "\n",
    "pval = mpu.cyclic_dataarray(ds.p_val)\n",
    "levels = [0, 0.05, 1]\n",
    "ax.contourf(pval.lon, pval.lat, pval, levels=levels, hatches=['...', ''], colors='none')\n",
    "\n",
    "# =======\n",
    "# add colorbar\n",
    "\n",
    "mpu.colorbar(h, ax, orientation='horizontal', aspect=30)\n",
    "\n",
    "# =======\n",
    "# format axes\n",
    "\n",
    "ax.set_extent([-180, 180, -63, 90], ccrs.PlateCarree())\n",
    "\n",
    "# =======\n",
    "# add regions\n",
    "\n",
    "def mark_region(lon, lat, lbl, lon_lbl):\n",
    "    ax.plot(lon, lat, transform=ccrs.PlateCarree(), color='k', lw=2)\n",
    "    ax.text(lon_lbl, 82, lbl, va='top', ha='left', fontweight='bold', transform=ccrs.PlateCarree(),\n",
    "            bbox=dict(color='w', pad=0))\n",
    "    \n",
    "mark_region(US_lon, US_lat, 'US', 198)\n",
    "mark_region(EU_lon, EU_lat, 'EU', -17)    \n",
    "mark_region(AS_lon, AS_lat, 'AS', 63)  \n",
    "\n",
    "# =======\n",
    "# mark tropics\n",
    "\n",
    "ax.fill_between([-180, 180], [-25, -25], [25, 25], transform=ccrs.PlateCarree(),\n",
    "                facecolor='0.75', edgecolor='none', zorder=0)\n",
    "\n",
    "# color land areas in white\n",
    "ax.add_feature(cfeature.LAND, facecolor='w', edgecolor='none', lw=0, zorder=0.5)\n",
    "\n",
    "# =======\n",
    "# set ticks\n",
    "lon = np.arange(-180, 181, 60)\n",
    "lat = np.arange(-50, 76, 25)\n",
    "\n",
    "# set the ticks\n",
    "ax.set_xticks(lon, crs=ccrs.PlateCarree());\n",
    "ax.set_yticks(lat, crs=ccrs.PlateCarree());\n",
    "\n",
    "# format the ticks as e.g 60°W\n",
    "ax.xaxis.set_major_formatter(LongitudeFormatter())\n",
    "ax.yaxis.set_major_formatter(LatitudeFormatter())\n",
    "\n",
    "ax.tick_params(axis='both', which='major', labelsize=8, length=0)"
   ]
  }
 ],
 "metadata": {
  "hide_input": false,
  "kernelspec": {
   "display_name": "Python 3",
   "language": "python",
   "name": "python3"
  },
  "language_info": {
   "codemirror_mode": {
    "name": "ipython",
    "version": 3
   },
   "file_extension": ".py",
   "mimetype": "text/x-python",
   "name": "python",
   "nbconvert_exporter": "python",
   "pygments_lexer": "ipython3",
   "version": "3.6.5"
  }
 },
 "nbformat": 4,
 "nbformat_minor": 2
}
