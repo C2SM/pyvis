{
 "cells": [
  {
   "cell_type": "markdown",
   "id": "f3b6e50a",
   "metadata": {},
   "source": [
    "# 3.1 Introduction to xarray - DataArrays\n",
    "\n",
    "prepared by Mathias Hauser"
   ]
  },
  {
   "cell_type": "markdown",
   "id": "61fb61b3",
   "metadata": {},
   "source": [
    "xarray is an extension on top of numpy - it introduces labels in the form of dimensions, coordinates and attributes on top of numPy-like _multi_ dimensional<sup>*</sup> arrays.\n",
    "\n",
    "<sup>*</sup>The [pandas](https://pandas.pydata.org/) library offers similar functionality for 2-dimensional tabular data (think: spreadsheets)."
   ]
  },
  {
   "cell_type": "markdown",
   "id": "25469fd2",
   "metadata": {},
   "source": [
    "First we need some imports. The only new thing here is xarray which is abbreviated as xr."
   ]
  },
  {
   "cell_type": "code",
   "execution_count": null,
   "id": "a6789036",
   "metadata": {},
   "outputs": [],
   "source": [
    "import matplotlib.pyplot as plt\n",
    "import numpy as np\n",
    "import xarray as xr"
   ]
  },
  {
   "cell_type": "markdown",
   "id": "cb9ef754",
   "metadata": {},
   "source": [
    "## Temperature data at two stations \n",
    "\n",
    "We start the introduction with an example using pure numpy to motivate why labelled arrays with coordinates may be a good thing.\n",
    "\n",
    "Assume we have some annual-mean temperature data at two stations named \"a\" and \"b\" for the years 1999 to 2019. We create the data using numpy - the following commands should already be familiar to you:"
   ]
  },
  {
   "cell_type": "code",
   "execution_count": null,
   "id": "cd898f5e",
   "metadata": {},
   "outputs": [],
   "source": [
    "year = np.arange(1999, 2020)\n",
    "station = np.array([\"a\", \"b\"])\n",
    "\n",
    "# random temperature data with a trend\n",
    "rng = np.random.default_rng(1)\n",
    "data = np.array([[0.3, 0.5]]).T * (year - year[0]) + rng.standard_normal(size=(2, 21))"
   ]
  },
  {
   "cell_type": "markdown",
   "id": "35c99b15",
   "metadata": {},
   "source": [
    "We create a small plot to visualize the data:"
   ]
  },
  {
   "cell_type": "code",
   "execution_count": null,
   "id": "fc9df751",
   "metadata": {},
   "outputs": [],
   "source": [
    "f, ax = plt.subplots()\n",
    "\n",
    "ax.plot(year, data[0, :], label=\"a\")\n",
    "ax.plot(year, data[1, :], label=\"b\")\n",
    "\n",
    "ax.legend()\n",
    "\n",
    "ax.set_xlabel(\"Year\")\n",
    "ax.set_xticks(np.arange(2000, 2021, 5))"
   ]
  },
  {
   "cell_type": "markdown",
   "id": "7e052c26",
   "metadata": {},
   "source": [
    "### Exercises\n",
    "\n",
    "You don't need to code this - just think about it.\n",
    "\n",
    "* Which of the two commands calculates the mean over all years?\n",
    "  - `np.mean(data, axis=0)`\n",
    "  - `np.mean(data, axis=1)`\n",
    "* Which of the two commands selects station `\"b\"`?\n",
    "  - `data[1, :]`\n",
    "  - `data[:, 1]`\n",
    "* Which of the four commands select the data of the year 2013?\n",
    "  - `data[:, 12]`\n",
    "  - `data[:, 13]`\n",
    "  - `data[:, 14]`\n",
    "  - `data[:, year == 2013]`"
   ]
  },
  {
   "cell_type": "markdown",
   "id": "4cd24db8",
   "metadata": {},
   "source": [
    "It would be much easier to answer these questions if \n",
    "* the two axes (dimensions) of the array were named\n",
    "* the year and station (coordinates) were directly associated with the data\n",
    "\n",
    "Both of this is given in a `DataArray`.\n"
   ]
  },
  {
   "cell_type": "markdown",
   "id": "b5a2b067",
   "metadata": {},
   "source": [
    "## Creating an xarray DataArray\n",
    "\n",
    "A `DataArray` is the xarray equivalent of a numpy `array`. We can create a `DataArray` by passing some data to it:"
   ]
  },
  {
   "cell_type": "code",
   "execution_count": null,
   "id": "470fe48a",
   "metadata": {},
   "outputs": [],
   "source": [
    "dta = [1, 0, 3, 9, 7, np.NaN]\n",
    "xr.DataArray(dta)"
   ]
  },
  {
   "cell_type": "markdown",
   "id": "671dc503",
   "metadata": {},
   "source": [
    "But this is not very helpful because it does not have any coordinates and the dimension is called `dim_0`. These have to be passed separately and bring all the power to the `DataArray`:"
   ]
  },
  {
   "cell_type": "code",
   "execution_count": null,
   "id": "1bbce1e1",
   "metadata": {},
   "outputs": [],
   "source": [
    "x = [0, 10, 20, 30, 40, 50]\n",
    "\n",
    "da0 = xr.DataArray(dta, dims=[\"x\"], coords=dict(x=x))\n",
    "\n",
    "da0"
   ]
  },
  {
   "cell_type": "markdown",
   "id": "c8755612",
   "metadata": {},
   "source": [
    "Now the dimension is called `\"x\"` and the array gained coordinates."
   ]
  },
  {
   "cell_type": "markdown",
   "id": "19c5f168",
   "metadata": {},
   "source": [
    "### Exercise\n",
    "\n",
    "* Create a `DataArray` using `data` from above as data variable, `year` and `station` as coordinates. The dimensions should be called `\"year\"` and `\"station`\"."
   ]
  },
  {
   "cell_type": "code",
   "execution_count": null,
   "id": "4921d59c",
   "metadata": {},
   "outputs": [],
   "source": [
    "# code here"
   ]
  },
  {
   "cell_type": "code",
   "execution_count": null,
   "id": "alleged-hands",
   "metadata": {},
   "outputs": [],
   "source": [
    "# solution\n",
    "\n",
    "xr.DataArray(data, dims=(\"station\", \"year\"), coords=dict(station=station, year=year))"
   ]
  },
  {
   "cell_type": "markdown",
   "id": "bac6b6b8",
   "metadata": {},
   "source": [
    "We now introduce how you can work with `DataArray` objects using `da0`. This array is only one dimensional, thus some of the examples are a bit pointless but everything also generalizes to multi-dimensional `DataArray`s.\n",
    "\n",
    "\n",
    "## Attributes\n",
    "\n",
    "Similar to a numpy array a DataArray also has some attributes which describe it. A new one here is the `dims` which lists the names of the dimensions. However, I also find the printed representational already very helpful:"
   ]
  },
  {
   "cell_type": "code",
   "execution_count": null,
   "id": "618703d3",
   "metadata": {},
   "outputs": [],
   "source": [
    "print(f\"{da0.ndim = }\")\n",
    "print(f\"{da0.shape= }\")\n",
    "print(f\"{da0.dims = }\")\n",
    "print(f\"{da0.dtype= }\")"
   ]
  },
  {
   "cell_type": "code",
   "execution_count": null,
   "id": "ee1be3e7",
   "metadata": {},
   "outputs": [],
   "source": [
    "print(da0)"
   ]
  },
  {
   "cell_type": "markdown",
   "id": "795f439a",
   "metadata": {},
   "source": [
    "## Plotting a DataArray\n",
    "\n",
    "A `DataArray` has a `plot` method which creates a figure of the data it contains. This is super useful because it uses the dimensions and coordinates for the plot. Check the x-axis to see that the x-coords were used. Under the hood, xarray also uses matplotlib to create the plot."
   ]
  },
  {
   "cell_type": "code",
   "execution_count": null,
   "id": "e70b6e79",
   "metadata": {},
   "outputs": [],
   "source": [
    "da0.plot(marker=\"*\")"
   ]
  },
  {
   "cell_type": "markdown",
   "id": "9422f04a",
   "metadata": {},
   "source": [
    "## Basic operations\n",
    "\n",
    "Similar to the numpy arrays you can perform arithmetic operations on `DataArray`s:"
   ]
  },
  {
   "cell_type": "code",
   "execution_count": null,
   "id": "89d84dba",
   "metadata": {},
   "outputs": [],
   "source": [
    "da0 + 1000"
   ]
  },
  {
   "cell_type": "markdown",
   "id": "2ca51937",
   "metadata": {},
   "source": [
    "This only affects the data - the coordinates are unchanged! You can also multiply two `DataArray`s: "
   ]
  },
  {
   "cell_type": "code",
   "execution_count": null,
   "id": "15be0988",
   "metadata": {},
   "outputs": [],
   "source": [
    "da0 * da0"
   ]
  },
  {
   "cell_type": "markdown",
   "id": "47dbe8b1",
   "metadata": {},
   "source": [
    "## Alignment and broadcasting\n",
    "\n",
    "xarray uses the dimension names and coordinates to align & broadcast the data."
   ]
  },
  {
   "cell_type": "code",
   "execution_count": null,
   "id": "palestinian-regular",
   "metadata": {},
   "outputs": [],
   "source": [
    "da1 = xr.DataArray([1, 0, 3], dims=[\"x\"], coords=dict(x=[0, 10, 20]))\n",
    "da1"
   ]
  },
  {
   "cell_type": "code",
   "execution_count": null,
   "id": "2ad382fe",
   "metadata": {},
   "outputs": [],
   "source": [
    "da0 + da1"
   ]
  },
  {
   "cell_type": "markdown",
   "id": "743a30c2",
   "metadata": {},
   "source": [
    "See how only coordinates that occur in both arrays (0, 10, and 20) are used in the result. xarray does an inner join for arithmetic operations (this behavior can be changed).\n",
    "\n",
    "### Exercise\n",
    "\n",
    "* Replace `20` by `50` in `da2` - what happens?"
   ]
  },
  {
   "cell_type": "code",
   "execution_count": null,
   "id": "e9343949",
   "metadata": {},
   "outputs": [],
   "source": [
    "# update code\n",
    "da2 = xr.DataArray([1, 0, 3], dims=[\"x\"], coords=dict(x=[0, 10, 20]))\n",
    "\n",
    "da0 + da2\n",
    "\n",
    "# what happens?\n",
    "#"
   ]
  },
  {
   "cell_type": "code",
   "execution_count": null,
   "id": "helpful-thumb",
   "metadata": {},
   "outputs": [],
   "source": [
    "# solution\n",
    "\n",
    "da2 = xr.DataArray([1, 0, 3], dims=[\"x\"], coords=dict(x=[0, 10, 50]))\n",
    "\n",
    "da0 + da2\n",
    "\n",
    "# what happens?\n",
    "# the element at x=50 is used"
   ]
  },
  {
   "cell_type": "markdown",
   "id": "7bd7f79d",
   "metadata": {},
   "source": [
    "### Exercise\n",
    "\n",
    "* Replace `20` by `20 + 1e-14` in `da3` - what happens?"
   ]
  },
  {
   "cell_type": "code",
   "execution_count": null,
   "id": "fb64b5e1",
   "metadata": {},
   "outputs": [],
   "source": [
    "# update code\n",
    "da3 = xr.DataArray([1, 0, 3], dims=[\"x\"], coords=dict(x=[0, 10, 20]))\n",
    "\n",
    "da0 + da3\n",
    "\n",
    "# what happens?\n",
    "#"
   ]
  },
  {
   "cell_type": "code",
   "execution_count": null,
   "id": "round-active",
   "metadata": {},
   "outputs": [],
   "source": [
    "# solution\n",
    "da3 = xr.DataArray([1, 0, 3], dims=[\"x\"], coords=dict(x=[0, 10, 20 + 1e-14]))\n",
    "\n",
    "da0 + da3\n",
    "\n",
    "# what happens\n",
    "# 20 != 20 + 1e-14 -> therefore this element is no longer part of the result"
   ]
  },
  {
   "cell_type": "markdown",
   "id": "95347ae4",
   "metadata": {},
   "source": [
    "### Exercise\n",
    "\n",
    "* Rename `\"x\"` to `\"y\"` in `da4` - what happens?"
   ]
  },
  {
   "cell_type": "code",
   "execution_count": null,
   "id": "f55fe2e1",
   "metadata": {},
   "outputs": [],
   "source": [
    "# update code\n",
    "da4 = xr.DataArray([1, 0, 3], dims=[\"x\"], coords=dict(x=[0, 10, 20]))\n",
    "\n",
    "da0 + da4\n",
    "\n",
    "# what happens\n",
    "#"
   ]
  },
  {
   "cell_type": "code",
   "execution_count": null,
   "id": "iraqi-russia",
   "metadata": {},
   "outputs": [],
   "source": [
    "# solution\n",
    "da4 = xr.DataArray([1, 0, 3], dims=[\"y\"], coords=dict(y=[0, 10, 20]))\n",
    "\n",
    "da0 + da4\n",
    "\n",
    "# what happens\n",
    "# the coordinates are combined - the result now has x & y coords"
   ]
  },
  {
   "cell_type": "markdown",
   "id": "49dd8897",
   "metadata": {},
   "source": [
    "## Reductions\n",
    "\n",
    "Reductions work similar as in numpy. Per default it also reduces over all dimensions:"
   ]
  },
  {
   "cell_type": "code",
   "execution_count": null,
   "id": "f3d8f142",
   "metadata": {},
   "outputs": [],
   "source": [
    "da0.mean()"
   ]
  },
  {
   "cell_type": "markdown",
   "id": "04690c43",
   "metadata": {},
   "source": [
    "One difference to numpy is that we always call the method on the `DataArray` (i.e. `da.mean()`. A second difference concerns the handling of missing values. Per default xarray skips missing values in the reduction operations. This is (in my experience) almost always what we want. If missing values should be kept, we need to set `skipna=False`:"
   ]
  },
  {
   "cell_type": "code",
   "execution_count": null,
   "id": "e68b81de",
   "metadata": {},
   "outputs": [],
   "source": [
    "da0.mean(skipna=False)"
   ]
  },
  {
   "cell_type": "markdown",
   "id": "b08f8ce4",
   "metadata": {},
   "source": [
    "However, the biggest change compared to numpy is that instead of reducing over `axis` we reduce over `dim`:"
   ]
  },
  {
   "cell_type": "code",
   "execution_count": null,
   "id": "8bec6ec9",
   "metadata": {},
   "outputs": [],
   "source": [
    "da0.mean(\"x\")"
   ]
  },
  {
   "cell_type": "markdown",
   "id": "19ae4f4f",
   "metadata": {},
   "source": [
    "For our 1-dimensional array this is trivial but becomes extremely convenient if the array has more dimensions."
   ]
  },
  {
   "cell_type": "markdown",
   "id": "465f2904",
   "metadata": {},
   "source": [
    "## Selecting data (Indexing)\n",
    "\n",
    "You can select data just like in numpy using `da0[0]`"
   ]
  },
  {
   "cell_type": "code",
   "execution_count": null,
   "id": "excess-greensboro",
   "metadata": {},
   "outputs": [],
   "source": [
    "da0"
   ]
  },
  {
   "cell_type": "code",
   "execution_count": null,
   "id": "95392317",
   "metadata": {},
   "outputs": [],
   "source": [
    "da0[2]"
   ]
  },
  {
   "cell_type": "markdown",
   "id": "b05cb76f",
   "metadata": {},
   "source": [
    "However, this does not take advantage of the named dimensions or the coordinates. We have to differentiate between two ways to select data\n",
    "\n",
    "* by position: this is done using `da.isel(x=2)` (or `da[2]`)\n",
    "* by coordinate: this is done using `da.sel(x=20)` (or `da.loc[20]`)\n",
    "\n",
    "Let's try it out\n",
    "\n"
   ]
  },
  {
   "cell_type": "code",
   "execution_count": null,
   "id": "4e431f3a",
   "metadata": {},
   "outputs": [],
   "source": [
    "da0.isel(x=2)"
   ]
  },
  {
   "cell_type": "code",
   "execution_count": null,
   "id": "1ae509ac",
   "metadata": {},
   "outputs": [],
   "source": [
    "da0.sel(x=20)"
   ]
  },
  {
   "cell_type": "markdown",
   "id": "bfad483a",
   "metadata": {},
   "source": [
    "We can also use slicing to get more than single values from an array. Unfortunately, we can _not_ use the convenient syntax with `3:5` but have to write this as `da.isel(x=slice(3, 5))`:\n",
    "\n"
   ]
  },
  {
   "cell_type": "code",
   "execution_count": null,
   "id": "7f3084cf",
   "metadata": {},
   "outputs": [],
   "source": [
    "da0.isel(x=slice(1, 3))"
   ]
  },
  {
   "cell_type": "markdown",
   "id": "cd1619d8",
   "metadata": {},
   "source": [
    "## Exercises\n",
    "\n",
    "Let's use what we learned above to work with our example dataset. First let's create a `DataArray` with the temperature data:"
   ]
  },
  {
   "cell_type": "code",
   "execution_count": null,
   "id": "0c80c1be",
   "metadata": {},
   "outputs": [],
   "source": [
    "da = xr.DataArray(\n",
    "    data, dims=[\"station\", \"year\"], coords=dict(station=station, year=year)\n",
    ")\n",
    "\n",
    "da"
   ]
  },
  {
   "cell_type": "markdown",
   "id": "65d8405e",
   "metadata": {},
   "source": [
    "### Exercise\n",
    "* Calculate the mean over all years. (Make sure you get two numbers!)"
   ]
  },
  {
   "cell_type": "code",
   "execution_count": null,
   "id": "c8af86ef",
   "metadata": {},
   "outputs": [],
   "source": [
    "# code here"
   ]
  },
  {
   "cell_type": "code",
   "execution_count": null,
   "id": "minute-scratch",
   "metadata": {},
   "outputs": [],
   "source": [
    "# solution\n",
    "\n",
    "da.mean(\"year\")"
   ]
  },
  {
   "cell_type": "markdown",
   "id": "2ebb77b1",
   "metadata": {},
   "source": [
    "### Exercise\n",
    "* Select station `\"b\"` by its coordinate using `da.sel`.\n"
   ]
  },
  {
   "cell_type": "code",
   "execution_count": null,
   "id": "23cafbf7",
   "metadata": {},
   "outputs": [],
   "source": [
    "# code here"
   ]
  },
  {
   "cell_type": "code",
   "execution_count": null,
   "id": "aggregate-surgeon",
   "metadata": {},
   "outputs": [],
   "source": [
    "# solution\n",
    "\n",
    "da.sel(station=\"b\")"
   ]
  },
  {
   "cell_type": "markdown",
   "id": "6d4af183",
   "metadata": {},
   "source": [
    "### Exercise\n",
    "* Select station `\"a\"` by position using `da.isel`."
   ]
  },
  {
   "cell_type": "code",
   "execution_count": null,
   "id": "59358a2c",
   "metadata": {},
   "outputs": [],
   "source": [
    "# code here"
   ]
  },
  {
   "cell_type": "code",
   "execution_count": null,
   "id": "whole-bhutan",
   "metadata": {},
   "outputs": [],
   "source": [
    "# solution\n",
    "\n",
    "da.isel(station=0)"
   ]
  },
  {
   "cell_type": "markdown",
   "id": "87e04c18",
   "metadata": {},
   "source": [
    "### Exercise\n",
    "* Select the data of the year 2013."
   ]
  },
  {
   "cell_type": "code",
   "execution_count": null,
   "id": "d41b22c6",
   "metadata": {},
   "outputs": [],
   "source": [
    "# code here"
   ]
  },
  {
   "cell_type": "code",
   "execution_count": null,
   "id": "expressed-protocol",
   "metadata": {},
   "outputs": [],
   "source": [
    "# solution\n",
    "da.sel(year=2013)"
   ]
  },
  {
   "cell_type": "markdown",
   "id": "df92f2b9",
   "metadata": {},
   "source": [
    "### Exercise\n",
    "* Select the years 2000 to 2010 (use `slice`)."
   ]
  },
  {
   "cell_type": "code",
   "execution_count": null,
   "id": "6f094f90",
   "metadata": {},
   "outputs": [],
   "source": [
    "# code here"
   ]
  },
  {
   "cell_type": "code",
   "execution_count": null,
   "id": "deadly-connectivity",
   "metadata": {},
   "outputs": [],
   "source": [
    "# solution\n",
    "da.sel(year=slice(2000, 2010))"
   ]
  },
  {
   "cell_type": "markdown",
   "id": "0afbab83",
   "metadata": {},
   "source": [
    "### Exercise\n",
    "* Calculate anomalies. Subtract the mean of the years 2000 to 2010 from the data (make sure you do not average over the two stations!)."
   ]
  },
  {
   "cell_type": "code",
   "execution_count": null,
   "id": "52757807",
   "metadata": {},
   "outputs": [],
   "source": [
    "# code here"
   ]
  },
  {
   "cell_type": "code",
   "execution_count": null,
   "id": "cloudy-isolation",
   "metadata": {},
   "outputs": [],
   "source": [
    "# solution\n",
    "\n",
    "da - da.sel(year=slice(2000, 2010)).mean(\"year\")"
   ]
  },
  {
   "cell_type": "markdown",
   "id": "2dac6a89",
   "metadata": {},
   "source": [
    "### Exercise\n",
    "* Create a plot of `da` (You will have to pass `infer_intervals=False` else it will result in an error). Why does this not result in a line plot?\n",
    "\n",
    "> Note: depending on the version of xarray and matplotlib this may throw an error - just ignore the exercise in this case."
   ]
  },
  {
   "cell_type": "code",
   "execution_count": null,
   "id": "129e8460",
   "metadata": {},
   "outputs": [],
   "source": [
    "# code here"
   ]
  },
  {
   "cell_type": "code",
   "execution_count": null,
   "id": "thousand-venice",
   "metadata": {},
   "outputs": [],
   "source": [
    "# solution\n",
    "da.plot(infer_intervals=False)\n",
    "\n",
    "# xarray creates a 2D plot if 2D data is passed"
   ]
  },
  {
   "cell_type": "markdown",
   "id": "10861173",
   "metadata": {},
   "source": [
    "### Exercise\n",
    "* Select `station=\"a\"` and then create a plot."
   ]
  },
  {
   "cell_type": "code",
   "execution_count": null,
   "id": "0710c3d1",
   "metadata": {},
   "outputs": [],
   "source": [
    "# code here"
   ]
  },
  {
   "cell_type": "code",
   "execution_count": null,
   "id": "sound-malta",
   "metadata": {},
   "outputs": [],
   "source": [
    "# solution\n",
    "da.sel(station=\"a\").plot()"
   ]
  },
  {
   "cell_type": "markdown",
   "id": "coordinate-rochester",
   "metadata": {},
   "source": [
    "### Exercise\n",
    "\n",
    "* Try `da.plot(hue=\"station\")` (use a translator to find out what \"hue\" means if you are not sure)"
   ]
  },
  {
   "cell_type": "code",
   "execution_count": null,
   "id": "marked-wheel",
   "metadata": {},
   "outputs": [],
   "source": [
    "# code here"
   ]
  },
  {
   "cell_type": "code",
   "execution_count": null,
   "id": "classified-selection",
   "metadata": {},
   "outputs": [],
   "source": [
    "# solution\n",
    "da.plot(hue=\"station\")"
   ]
  }
 ],
 "metadata": {
  "kernelspec": {
   "display_name": "Python 3 (ipykernel)",
   "language": "python",
   "name": "python3"
  },
  "language_info": {
   "codemirror_mode": {
    "name": "ipython",
    "version": 3
   },
   "file_extension": ".py",
   "mimetype": "text/x-python",
   "name": "python",
   "nbconvert_exporter": "python",
   "pygments_lexer": "ipython3",
   "version": "3.11.8"
  }
 },
 "nbformat": 4,
 "nbformat_minor": 5
}
