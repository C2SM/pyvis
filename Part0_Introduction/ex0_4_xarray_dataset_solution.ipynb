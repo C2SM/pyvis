{
 "cells": [
  {
   "cell_type": "markdown",
   "id": "d1fdd9ac",
   "metadata": {},
   "source": [
    "# 3.2 Introduction to xarray - NetCDF and Dataset\n",
    "\n",
    "prepared by Mathias Hauser"
   ]
  },
  {
   "cell_type": "code",
   "execution_count": null,
   "id": "019acfa2",
   "metadata": {},
   "outputs": [],
   "source": [
    "import matplotlib.pyplot as plt\n",
    "import numpy as np\n",
    "import xarray as xr"
   ]
  },
  {
   "cell_type": "markdown",
   "id": "6cca8dc5",
   "metadata": {},
   "source": [
    "## Reading NetCDFs\n",
    "\n",
    "NetCDF (Network Common Data Format) is a data format that is very commonly used in the geosciences. It is used to save and distribute observational data or the output from climate models. It has a very similar format as the `DataArray`s we got to know - named dimensions, coordinates, etc. Indeed, xarray was modelled after the NetCDF data model.\n",
    "\n",
    "We will use a NetCDF file that contains observed annual maximum temperature (TXx) data. The data is described in Dunn et al. ([2020](https://agupubs.onlinelibrary.wiley.com/doi/full/10.1029/2019JD032263)). The data has already undergone some preprocessing.\n",
    "\n",
    "NetCDF files can be opened with the `xr.open_dataset` function:"
   ]
  },
  {
   "cell_type": "code",
   "execution_count": null,
   "id": "fa36ca1a",
   "metadata": {},
   "outputs": [],
   "source": [
    "file = \"../data/HadEX3_TXx_ANN.nc\"\n",
    "ds = xr.open_dataset(file)"
   ]
  },
  {
   "cell_type": "code",
   "execution_count": null,
   "id": "b02e4712",
   "metadata": {},
   "outputs": [],
   "source": [
    "type(ds)"
   ]
  },
  {
   "cell_type": "code",
   "execution_count": null,
   "id": "b09d1dc5",
   "metadata": {},
   "outputs": [],
   "source": [
    "ds"
   ]
  },
  {
   "cell_type": "markdown",
   "id": "bd0e75b3",
   "metadata": {},
   "source": [
    "This is not a `DataArray` but a `Dataset`. Also its representation looks a bit different than the one of a `DataArray` that we saw in the last exercise. A `Dataset` is a collection of `DataArray`s. Most operations that work with a `DataArray` also work with a `Dataset`.\n",
    "\n",
    "The `Dataset` we opened here has 4 dimensions `time`, `lon`, `lat` and `bnds`. Only the first three also have coordinates. Then there is a number of data variables: `longitude_bnds` and `latitude_bnds` give the bounds of the `lon` and `lat` coords. `TXx` is the time-dependent annual maximum temperature. `trend` and `is_significant` give an estimate of the mean change over time and its significance.\n",
    "\n",
    "Further, it has a number of `Attributes` that are descriptive - e.g. they indicate the reference of the data. "
   ]
  },
  {
   "cell_type": "markdown",
   "id": "2a4c4e1a",
   "metadata": {},
   "source": [
    "The `Dataset` contains a number of data variables - these variables are `DataArray`s and can be accessed either with dot-notation (`ds.variable`) or by indexing (`ds[\"variable\"]`):"
   ]
  },
  {
   "cell_type": "code",
   "execution_count": null,
   "id": "64a5f3b2",
   "metadata": {},
   "outputs": [],
   "source": [
    "TXx = ds.TXx\n",
    "TXx"
   ]
  },
  {
   "cell_type": "code",
   "execution_count": null,
   "id": "538d2314",
   "metadata": {},
   "outputs": [],
   "source": [
    "type(TXx)"
   ]
  },
  {
   "cell_type": "markdown",
   "id": "b4b482bc",
   "metadata": {},
   "source": [
    "### Exercise\n",
    "\n",
    "* Read the variable `trend`."
   ]
  },
  {
   "cell_type": "code",
   "execution_count": null,
   "id": "2635a551",
   "metadata": {},
   "outputs": [],
   "source": [
    "# code here"
   ]
  },
  {
   "cell_type": "code",
   "execution_count": null,
   "id": "potential-government",
   "metadata": {},
   "outputs": [],
   "source": [
    "# solution\n",
    "\n",
    "trend = ds.trend\n",
    "trend"
   ]
  },
  {
   "cell_type": "markdown",
   "id": "brown-homeless",
   "metadata": {},
   "source": [
    "* Call `trend.plot()` to create a plot."
   ]
  },
  {
   "cell_type": "code",
   "execution_count": null,
   "id": "funky-destination",
   "metadata": {},
   "outputs": [],
   "source": [
    "# code here"
   ]
  },
  {
   "cell_type": "code",
   "execution_count": null,
   "id": "facial-labor",
   "metadata": {},
   "outputs": [],
   "source": [
    "# solution\n",
    "\n",
    "ds.trend.plot()"
   ]
  },
  {
   "cell_type": "markdown",
   "id": "2fb4458e",
   "metadata": {},
   "source": [
    "## Computation with Datasets\n",
    "\n",
    "You can do the same computations with a `Dataset` as with a `DataArray`. For example to compute the mean over the latitude and longitude:"
   ]
  },
  {
   "cell_type": "code",
   "execution_count": null,
   "id": "9c68e5c8",
   "metadata": {},
   "outputs": [],
   "source": [
    "ds.mean((\"lat\", \"lon\"))"
   ]
  },
  {
   "cell_type": "markdown",
   "id": "7bdeb130",
   "metadata": {},
   "source": [
    "### Exercise\n",
    "\n",
    "* Calculate the mean over time."
   ]
  },
  {
   "cell_type": "code",
   "execution_count": null,
   "id": "eec2df2a",
   "metadata": {},
   "outputs": [],
   "source": [
    "# code here"
   ]
  },
  {
   "cell_type": "code",
   "execution_count": null,
   "id": "historic-athens",
   "metadata": {},
   "outputs": [],
   "source": [
    "# solution\n",
    "\n",
    "ds.mean(\"time\")"
   ]
  },
  {
   "cell_type": "markdown",
   "id": "4ac25ed2",
   "metadata": {},
   "source": [
    "## High level operations\n",
    "\n",
    "xarray offers many high level operations that go beyond simple reductions. Many of these rely on the coordinates and make use of the named dimensions. They work for `DataArray` and `Dataset` and include:\n",
    "\n",
    "* `ds.groupby`\n",
    "* `ds.resample`\n",
    "* `ds.rolling`\n",
    "* `ds.weighted`\n",
    "\n",
    "We cannot look at all of them but will shortly introduce some of them below.\n",
    "\n",
    "## Weighted reductions\n",
    "\n",
    "We calculated the mean over the latitude and longitude above, but we have to be careful with this. The individual grid cells become smaller as we move towards the pole! So we need to give less weights to gridpoints at high latitudes. If the lat/ lon grid is rectangular the cosine of the latitude is a good proxy for the area of the grid cell.\n",
    "\n",
    "We look at this with a tutorial dataset xarray offers. `air` is a two-year air temperature dataset over the North American continent. The dataset can be accessed like so:"
   ]
  },
  {
   "cell_type": "code",
   "execution_count": null,
   "id": "fe891276",
   "metadata": {},
   "outputs": [],
   "source": [
    "air = xr.tutorial.open_dataset(\"air_temperature\")\n",
    "air"
   ]
  },
  {
   "cell_type": "markdown",
   "id": "9ee6a7ce",
   "metadata": {},
   "source": [
    "We first need to calculate the weights. Because `np.cos` expects the data in radians we need to convert latitudes (which are given in degrees) to radians first."
   ]
  },
  {
   "cell_type": "code",
   "execution_count": null,
   "id": "80f76614",
   "metadata": {},
   "outputs": [],
   "source": [
    "wgt = np.cos(np.deg2rad(air.lat))\n",
    "\n",
    "wgt"
   ]
  },
  {
   "cell_type": "code",
   "execution_count": null,
   "id": "20253dd5",
   "metadata": {},
   "outputs": [],
   "source": [
    "wgt.plot()"
   ]
  },
  {
   "cell_type": "markdown",
   "id": "fdb3d4f8",
   "metadata": {},
   "source": [
    "This illustrates another helpful property of xarray objects - you can pass them directly to numpy functions. To calculate the weighted mean we have to create a weighted operation. And calculate the mean over lat & lon:"
   ]
  },
  {
   "cell_type": "code",
   "execution_count": null,
   "id": "829f7308",
   "metadata": {},
   "outputs": [],
   "source": [
    "air_weighted = air.weighted(wgt).mean((\"lat\", \"lon\"))"
   ]
  },
  {
   "cell_type": "markdown",
   "id": "68371c76",
   "metadata": {},
   "source": [
    "We also compute the unweighted mean and compare it to the weighted mean. Why is the weighted mean warmer than the unweighted?"
   ]
  },
  {
   "cell_type": "code",
   "execution_count": null,
   "id": "1b2b66c7",
   "metadata": {},
   "outputs": [],
   "source": [
    "air_unweighted = air.mean((\"lat\", \"lon\"))\n",
    "\n",
    "# ===\n",
    "\n",
    "air_weighted.air.plot(label=\"weighted\")\n",
    "air_unweighted.air.plot(label=\"unweighted\")\n",
    "\n",
    "plt.legend()"
   ]
  },
  {
   "cell_type": "markdown",
   "id": "ca66db6b",
   "metadata": {},
   "source": [
    "### Exercise\n",
    "\n",
    "* Repeat the calculation from above using `ds`.\n",
    "\n",
    "Hints: you need to calculate the weights again. If you want to create a plot you will need to select the `DataArray` (`TXx`) first."
   ]
  },
  {
   "cell_type": "code",
   "execution_count": null,
   "id": "185812e9",
   "metadata": {},
   "outputs": [],
   "source": [
    "# code here"
   ]
  },
  {
   "cell_type": "code",
   "execution_count": null,
   "id": "aquatic-aging",
   "metadata": {},
   "outputs": [],
   "source": [
    "# solution\n",
    "\n",
    "wgt = np.cos(np.deg2rad(ds.lat))\n",
    "\n",
    "ds.weighted(wgt).mean((\"lat\", \"lon\"))"
   ]
  },
  {
   "cell_type": "code",
   "execution_count": null,
   "id": "chicken-concert",
   "metadata": {},
   "outputs": [],
   "source": [
    "# solution\n",
    "\n",
    "wgt = np.cos(np.deg2rad(ds.lat))\n",
    "\n",
    "ds.weighted(wgt).mean((\"lat\", \"lon\")).TXx.plot()"
   ]
  },
  {
   "cell_type": "markdown",
   "id": "7b2e8f2c",
   "metadata": {},
   "source": [
    "## Time coordinates\n",
    "\n",
    "Both datasets used here have a time axis. The time axis has some special properties that help us to work with time coordinates.\n",
    "\n",
    "The `air` dataset is 6-hourly (4 datapoints each day):"
   ]
  },
  {
   "cell_type": "code",
   "execution_count": null,
   "id": "d5df9a4f",
   "metadata": {},
   "outputs": [],
   "source": [
    "air.time.head()"
   ]
  },
  {
   "cell_type": "markdown",
   "id": "63a79d5e",
   "metadata": {},
   "source": [
    "We can select a single timestep with a string:"
   ]
  },
  {
   "cell_type": "code",
   "execution_count": null,
   "id": "e8c56a12",
   "metadata": {},
   "outputs": [],
   "source": [
    "air.sel(time=\"2013-01-01T00\")"
   ]
  },
  {
   "cell_type": "markdown",
   "id": "8ce57495",
   "metadata": {},
   "source": [
    "### Exercise\n",
    "\n",
    "* What happens if you select with `time=\"2013-01-01\"`?"
   ]
  },
  {
   "cell_type": "code",
   "execution_count": null,
   "id": "bb503fdc",
   "metadata": {},
   "outputs": [],
   "source": [
    "# code here"
   ]
  },
  {
   "cell_type": "code",
   "execution_count": null,
   "id": "moral-tunnel",
   "metadata": {},
   "outputs": [],
   "source": [
    "# solution\n",
    "air.sel(time=\"2013-01-01\")\n",
    "\n",
    "# this selects all timesteps of the day"
   ]
  },
  {
   "cell_type": "markdown",
   "id": "83c53521",
   "metadata": {},
   "source": [
    "Again, we can select ranges using `slice`. The first five months of 2013 can be selected using:"
   ]
  },
  {
   "cell_type": "code",
   "execution_count": null,
   "id": "b487181a",
   "metadata": {},
   "outputs": [],
   "source": [
    "air.sel(time=slice(\"2013-01\", \"2013-05\"))"
   ]
  },
  {
   "cell_type": "markdown",
   "id": "66d378ef",
   "metadata": {},
   "source": [
    "### Exercise\n",
    "\n",
    "* Select the period 1981 to 2010 from `ds`."
   ]
  },
  {
   "cell_type": "code",
   "execution_count": null,
   "id": "01e2e65b",
   "metadata": {},
   "outputs": [],
   "source": [
    "# code here"
   ]
  },
  {
   "cell_type": "code",
   "execution_count": null,
   "id": "smoking-title",
   "metadata": {},
   "outputs": [],
   "source": [
    "# solution\n",
    "ds.sel(time=slice(\"1981\", \"2010\"))"
   ]
  },
  {
   "cell_type": "markdown",
   "id": "4d4f000d",
   "metadata": {},
   "source": [
    "### Exercise\n",
    "\n",
    "* What does the following command do? Have a closer look at the resulting time coordinate."
   ]
  },
  {
   "cell_type": "code",
   "execution_count": null,
   "id": "d8ed72c8",
   "metadata": {},
   "outputs": [],
   "source": [
    "air.resample(time=\"d\").mean()"
   ]
  },
  {
   "cell_type": "code",
   "execution_count": null,
   "id": "abandoned-wildlife",
   "metadata": {},
   "outputs": [],
   "source": [
    "# it calculates ..."
   ]
  },
  {
   "cell_type": "code",
   "execution_count": null,
   "id": "reported-warrant",
   "metadata": {},
   "outputs": [],
   "source": [
    "# solution\n",
    "\n",
    "# it calculates a daily mean"
   ]
  },
  {
   "cell_type": "markdown",
   "id": "c0b2c090",
   "metadata": {},
   "source": [
    "### Exercise\n",
    "\n",
    "* Use the code snipped from above to calculate the monthly mean."
   ]
  },
  {
   "cell_type": "code",
   "execution_count": null,
   "id": "789a17df",
   "metadata": {},
   "outputs": [],
   "source": [
    "# code here"
   ]
  },
  {
   "cell_type": "code",
   "execution_count": null,
   "id": "integrated-basket",
   "metadata": {},
   "outputs": [],
   "source": [
    "# solution\n",
    "\n",
    "air.resample(time=\"m\").mean()"
   ]
  },
  {
   "cell_type": "markdown",
   "id": "209d6046",
   "metadata": {},
   "source": [
    "### Exercise\n",
    "\n",
    "* What does the following command do? Where did the `time` dimension go? How long is the new dimension? Can you see the difference to the computation with `resample`?"
   ]
  },
  {
   "cell_type": "code",
   "execution_count": null,
   "id": "d9a05e58",
   "metadata": {},
   "outputs": [],
   "source": [
    "air.groupby(\"time.month\").mean()"
   ]
  },
  {
   "cell_type": "code",
   "execution_count": null,
   "id": "yellow-lincoln",
   "metadata": {},
   "outputs": [],
   "source": [
    "# it calculates ..."
   ]
  },
  {
   "cell_type": "code",
   "execution_count": null,
   "id": "european-hollywood",
   "metadata": {},
   "outputs": [],
   "source": [
    "# solution\n",
    "\n",
    "# it calculates the mean over all Januaries, Februaries, etc.."
   ]
  },
  {
   "cell_type": "markdown",
   "id": "ce1ac80a",
   "metadata": {},
   "source": [
    "### Exercise\n",
    "\n",
    "* What does the following command do? "
   ]
  },
  {
   "cell_type": "code",
   "execution_count": null,
   "id": "cce6e15b",
   "metadata": {},
   "outputs": [],
   "source": [
    "air.time.dt.hour"
   ]
  },
  {
   "cell_type": "code",
   "execution_count": null,
   "id": "intermediate-congress",
   "metadata": {},
   "outputs": [],
   "source": [
    "# it returns ..."
   ]
  },
  {
   "cell_type": "code",
   "execution_count": null,
   "id": "chronic-infrastructure",
   "metadata": {},
   "outputs": [],
   "source": [
    "# solution\n",
    "\n",
    "# it returns the hour of the day"
   ]
  }
 ],
 "metadata": {
  "kernelspec": {
   "display_name": "Python 3 (ipykernel)",
   "language": "python",
   "name": "python3"
  },
  "language_info": {
   "codemirror_mode": {
    "name": "ipython",
    "version": 3
   },
   "file_extension": ".py",
   "mimetype": "text/x-python",
   "name": "python",
   "nbconvert_exporter": "python",
   "pygments_lexer": "ipython3",
   "version": "3.9.14"
  }
 },
 "nbformat": 4,
 "nbformat_minor": 5
}
