{
 "cells": [
  {
   "cell_type": "markdown",
   "metadata": {},
   "source": [
    "# CMIP5 Global mean temperatures"
   ]
  },
  {
   "cell_type": "markdown",
   "metadata": {},
   "source": [
    "Create a NetCDF with historical, and projected climatological precipitation, as well as the relative change between them, from all CMIP5 models for RCP8.5 (Taylor et al., 2012). We make use of Jan Sedláček's post-processing of CMIP5 data (https://data.iac.ethz.ch/atmos/). The data is stored at IAC at: /net/atmos/data/cmip5-ng/.\n",
    "\n",
    "The table with all used models is at the end of the [notebook](#Models)."
   ]
  },
  {
   "cell_type": "code",
   "execution_count": null,
   "metadata": {},
   "outputs": [],
   "source": [
    "from glob import glob\n",
    "from os import path\n",
    "\n",
    "import xarray as xr\n",
    "\n",
    "import pandas as pd\n",
    "import numpy as np\n",
    "\n",
    "from scipy import stats"
   ]
  },
  {
   "cell_type": "code",
   "execution_count": null,
   "metadata": {},
   "outputs": [],
   "source": [
    "import matplotlib.pyplot as plt\n",
    "import cartopy.crs as ccrs\n",
    "\n",
    "%matplotlib inline"
   ]
  },
  {
   "cell_type": "code",
   "execution_count": null,
   "metadata": {},
   "outputs": [],
   "source": [
    "def cmip5_filename(var, time, model, scen, ens, res=\"g025\"):\n",
    "    \"\"\"\n",
    "    list cmip5 filenames according to criteria\n",
    "\n",
    "    Parameters\n",
    "    ----------\n",
    "    var : string\n",
    "        Variable name.\n",
    "    time : string\n",
    "        Time resolution, e.g. 'ann', 'seas'.\n",
    "    model : string\n",
    "        Models to look for, e.g. '*', 'NorESM1'\n",
    "    scen : string\n",
    "        Scenario, e.g. 'rcp85', ...\n",
    "    ens : string\n",
    "        Which ensemble members, e.g. '*', 'r1i1p?', 'r1i1p1'\n",
    "    res : string\n",
    "        Resolution, 'native' or 'g025'. Optional, default: 'g025'.\n",
    "\n",
    "    ..note::\n",
    "\n",
    "    All arguments can take wildcards.\n",
    "\n",
    "    \"\"\"\n",
    "\n",
    "    folder_root = \"/net/atmos/data/cmip5-ng/\"\n",
    "    folder = path.join(folder_root, var)\n",
    "\n",
    "    fN = \"_\".join([var, time, model, scen, ens, res])\n",
    "    fN = path.join(folder, fN + \".nc\")\n",
    "\n",
    "    fN = sorted(glob(fN))\n",
    "\n",
    "    if not fN:\n",
    "        raise RuntimeError(\"No simulations found\")\n",
    "\n",
    "    return fN"
   ]
  },
  {
   "cell_type": "code",
   "execution_count": null,
   "metadata": {},
   "outputs": [],
   "source": [
    "# obtain a list of cmip5 output, annual mean, surface air temperature\n",
    "# use only the first ensemble member\n",
    "\n",
    "fNs = cmip5_filename(\"pr\", \"ann\", \"*\", \"rcp85\", \"r1i1p1\", res=\"g025\")\n",
    "\n",
    "print(len(fNs))\n",
    "\n",
    "for fN in fNs[:4]:\n",
    "    print(fN)\n",
    "\n",
    "print(\"...\")"
   ]
  },
  {
   "cell_type": "code",
   "execution_count": null,
   "metadata": {},
   "outputs": [],
   "source": [
    "all_models = []\n",
    "for fN in fNs:\n",
    "    basename = path.basename(fN)\n",
    "    all_models.append(basename.split(\"_\")[2])"
   ]
  },
  {
   "cell_type": "code",
   "execution_count": null,
   "metadata": {},
   "outputs": [],
   "source": [
    "# read all models\n",
    "\n",
    "hist = list()\n",
    "proj = list()\n",
    "\n",
    "\n",
    "for fN in fNs:\n",
    "\n",
    "    # open dataset\n",
    "    ds = xr.open_dataset(fN)\n",
    "    ds.load()\n",
    "\n",
    "    # calculate climatology\n",
    "    h = ds.sel(year=slice(\"1986\", \"2005\")).mean(\"year\")\n",
    "    p = ds.sel(year=slice(\"2081\", \"2100\")).mean(\"year\")\n",
    "\n",
    "    # append to list\n",
    "    hist.append(h)\n",
    "    proj.append(p)\n",
    "\n",
    "\n",
    "# concatenate\n",
    "hist = xr.concat(hist, dim=\"ens\")\n",
    "proj = xr.concat(proj, dim=\"ens\")"
   ]
  },
  {
   "cell_type": "code",
   "execution_count": null,
   "metadata": {},
   "outputs": [],
   "source": [
    "ds = 100 * (proj.mean(\"ens\") - hist.mean(\"ens\")) / hist.mean(\"ens\")\n",
    "\n",
    "ds = ds.rename(dict(pr=\"pr_rel\"))"
   ]
  },
  {
   "cell_type": "code",
   "execution_count": null,
   "metadata": {},
   "outputs": [],
   "source": [
    "ds"
   ]
  },
  {
   "cell_type": "code",
   "execution_count": null,
   "metadata": {},
   "outputs": [],
   "source": [
    "ds = ds.assign(proj=proj.pr.mean(\"ens\") * 24 * 3600 * 365)\n",
    "ds = ds.assign(hist=hist.pr.mean(\"ens\") * 24 * 3600 * 365)"
   ]
  },
  {
   "cell_type": "code",
   "execution_count": null,
   "metadata": {},
   "outputs": [],
   "source": [
    "ds.attrs[\"data\"] = \"CMIP5 precipitation (pr)\"\n",
    "ds.attrs[\"time_periods\"] = \"hist: 1986-2005; proj: 2081-2100\"\n",
    "ds.attrs[\"pr_delta\"] = \"(proj - hist) / hist * 100\"\n",
    "\n",
    "ds.attrs[\"source\"] = \"https://data.iac.ethz.ch/atmos/\"\n",
    "ds.attrs[\"reference\"] = \"Taylor et al., 2012\"\n",
    "ds.attrs[\"scenario\"] = \"rcp8.5\"\n",
    "\n",
    "ds.attrs[\"interpolation_grid\"] = \"2.5 x 2.5 degrees bilinear interpolation\"\n",
    "\n",
    "ds.pr_rel.attrs[\"units\"] = \"%\"\n",
    "\n",
    "ds.proj.attrs[\"units\"] = \"mm\"\n",
    "ds.hist.attrs[\"units\"] = \"mm\""
   ]
  },
  {
   "cell_type": "code",
   "execution_count": null,
   "metadata": {},
   "outputs": [],
   "source": [
    "(hist.mean(\"ens\") * 24 * 3600 * 365).pr.plot(infer_intervals=False)"
   ]
  },
  {
   "cell_type": "code",
   "execution_count": null,
   "metadata": {},
   "outputs": [],
   "source": [
    "# plot relative changes\n",
    "\n",
    "ax = plt.axes(projection=ccrs.PlateCarree())\n",
    "ax.coastlines()\n",
    "\n",
    "ds.pr_rel.plot(\n",
    "    transform=ccrs.PlateCarree(),\n",
    "    vmax=50,\n",
    "    center=0,\n",
    "    extend=\"both\",\n",
    "    cmap=\"BrBG\",\n",
    "    infer_intervals=False,\n",
    ")\n",
    "\n",
    "ax.set_global()\n",
    "\n",
    "ds.lon"
   ]
  },
  {
   "cell_type": "code",
   "execution_count": null,
   "metadata": {},
   "outputs": [],
   "source": [
    "# calculate the percentage of models that show a increase / decrease\n",
    "\n",
    "# the sign indicates if pr in- or decreases\n",
    "s = np.sign(proj.pr - hist.pr)\n",
    "\n",
    "# count the number of models that agree\n",
    "n_incr = (s == -1).sum(\"ens\")\n",
    "n_decr = (s == 1).sum(\"ens\")\n",
    "\n",
    "# we need the maximum percentage\n",
    "agree_sign = np.fmax((n_incr / 40), (n_decr / 40)) * 100\n",
    "\n",
    "ax = plt.axes(projection=ccrs.PlateCarree())\n",
    "ax.coastlines()\n",
    "agree_sign.plot(ax=ax)\n",
    "\n",
    "\n",
    "agree_sign.name = \"agree_sign\"\n",
    "agree_sign.attrs[\"units\"] = \"%\"\n",
    "\n",
    "ds = ds.assign(agree_sign=agree_sign)\n",
    "ds"
   ]
  },
  {
   "cell_type": "code",
   "execution_count": null,
   "metadata": {},
   "outputs": [],
   "source": [
    "# calculate significance using a t-test\n",
    "\n",
    "axis = proj.pr.get_axis_num(\"ens\")\n",
    "\n",
    "_, pval = stats.ttest_ind(proj.pr, hist.pr, axis=axis)\n",
    "\n",
    "\n",
    "ds = ds.assign(pval=((\"lat\", \"lon\"), pval))\n",
    "\n",
    "\n",
    "ax = plt.axes(projection=ccrs.PlateCarree())\n",
    "ax.coastlines()\n",
    "\n",
    "ds.pval.plot(vmin=0, vmax=1)\n",
    "\n",
    "\n",
    "ds"
   ]
  },
  {
   "cell_type": "code",
   "execution_count": null,
   "metadata": {},
   "outputs": [],
   "source": [
    "ds.to_netcdf(\"cmip5_delta_pr_rcp85_map.nc\", format=\"NETCDF4_CLASSIC\")"
   ]
  },
  {
   "cell_type": "markdown",
   "metadata": {},
   "source": [
    "## Models\n",
    "\n",
    "Print all models:"
   ]
  },
  {
   "cell_type": "code",
   "execution_count": null,
   "metadata": {},
   "outputs": [],
   "source": [
    "for model in all_models:\n",
    "    print(model)"
   ]
  },
  {
   "cell_type": "code",
   "execution_count": null,
   "metadata": {},
   "outputs": [],
   "source": []
  }
 ],
 "metadata": {
  "kernelspec": {
   "display_name": "Python 3",
   "language": "python",
   "name": "python3"
  },
  "language_info": {
   "codemirror_mode": {
    "name": "ipython",
    "version": 3
   },
   "file_extension": ".py",
   "mimetype": "text/x-python",
   "name": "python",
   "nbconvert_exporter": "python",
   "pygments_lexer": "ipython3",
   "version": "3.5.4"
  }
 },
 "nbformat": 4,
 "nbformat_minor": 2
}
