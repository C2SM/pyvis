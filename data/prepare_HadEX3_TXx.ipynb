{
 "cells": [
  {
   "cell_type": "markdown",
   "id": "e4559624",
   "metadata": {},
   "source": [
    "# Prepare HadEX3 TXx dataset\n",
    "\n",
    "\n",
    "Prepare the annual maximum temperature (TXx) dataset from Dunn et al. ([2020](https://agupubs.onlinelibrary.wiley.com/doi/full/10.1029/2019JD032263)).\n",
    "\n",
    "Dunn, et al. (2020), Development of an updated global land in-situ-based dataset of temperature and precipitation extremes: HadEX3."
   ]
  },
  {
   "cell_type": "code",
   "execution_count": null,
   "id": "43d22e22",
   "metadata": {},
   "outputs": [],
   "source": [
    "import warnings\n",
    "\n",
    "import pooch\n",
    "import xarray as xr\n",
    "\n",
    "from statistics import theil_ufunc"
   ]
  },
  {
   "cell_type": "code",
   "execution_count": null,
   "id": "indoor-bobby",
   "metadata": {},
   "outputs": [],
   "source": [
    "logger = pooch.get_logger()\n",
    "logger.setLevel(\"WARNING\")"
   ]
  },
  {
   "cell_type": "markdown",
   "id": "95056cae",
   "metadata": {},
   "source": [
    "### Download and cache the file\n",
    "\n",
    "Not setting a `know_hash` - the file may change upstream but this does not matter as it is only used as an example."
   ]
  },
  {
   "cell_type": "code",
   "execution_count": null,
   "id": "81449a80",
   "metadata": {},
   "outputs": [],
   "source": [
    "name = \"HadEX3_TXx_ANN.nc\"\n",
    "\n",
    "file = pooch.retrieve(\n",
    "    f\"https://www.metoffice.gov.uk/hadobs/hadex3/data/{name}.gz\",\n",
    "    known_hash=None,\n",
    "    path=\"./rawdata/HadEX3\",\n",
    "    fname=f\"{name}.gz\",\n",
    "    processor=pooch.Decompress(name=name),\n",
    ")"
   ]
  },
  {
   "cell_type": "code",
   "execution_count": null,
   "id": "97f7eb2c",
   "metadata": {},
   "outputs": [],
   "source": [
    "# we would get 13 warnings when reading HadEX3 data\n",
    "with warnings.catch_warnings():\n",
    "    warnings.filterwarnings(\"ignore\", message=\"variable '.*' has multiple fill values\")\n",
    "    ds = xr.open_dataset(file)\n",
    "\n",
    "# rename some dimensions\n",
    "ds = ds.rename(latitude=\"lat\", longitude=\"lon\")\n",
    "\n",
    "# use only data after 1950\n",
    "ds = ds.sel(time=slice(\"1950\", None))"
   ]
  },
  {
   "cell_type": "markdown",
   "id": "eb450209",
   "metadata": {},
   "source": [
    "## Calculate regression slope\n",
    "\n",
    "Using a Theil-Sen estimator. Not all gridpoints have full coverage, we need to mask gridpoints that have not enough data.\n",
    "\n",
    "Plot the fraction of valid timesteps:"
   ]
  },
  {
   "cell_type": "code",
   "execution_count": null,
   "id": "81276ae0",
   "metadata": {},
   "outputs": [],
   "source": [
    "TXx = ds.TXx\n",
    "\n",
    "fraction_valid = TXx.notnull().sum(\"time\") / len(TXx.time)\n",
    "\n",
    "fraction_valid.plot()"
   ]
  },
  {
   "cell_type": "markdown",
   "id": "0aa14e1a",
   "metadata": {},
   "source": [
    "Select gridpoints with a coverage of > 0.66"
   ]
  },
  {
   "cell_type": "code",
   "execution_count": null,
   "id": "8e9a39fc",
   "metadata": {},
   "outputs": [],
   "source": [
    "# select\n",
    "TXX = TXx.where(fraction_valid > 0.66)\n",
    "TXX.isel(time=-1).plot()"
   ]
  },
  {
   "cell_type": "code",
   "execution_count": null,
   "id": "92826f67",
   "metadata": {},
   "outputs": [],
   "source": [
    "trend, is_significant = theil_ufunc(TXx)"
   ]
  },
  {
   "cell_type": "code",
   "execution_count": null,
   "id": "2c584401",
   "metadata": {},
   "outputs": [],
   "source": [
    "ds = ds.assign(trend=trend, is_significant=is_significant)\n",
    "\n",
    "ds.trend.attrs[\"long_name\"] = \"TXx_trend\"\n",
    "ds.trend.attrs[\"units\"] = \"°C / year\"\n",
    "ds.trend.attrs[\"comment\"] = \"°C / year\""
   ]
  },
  {
   "cell_type": "markdown",
   "id": "b88b7ae1",
   "metadata": {},
   "source": [
    "### Save"
   ]
  },
  {
   "cell_type": "code",
   "execution_count": null,
   "id": "1d1c4a05",
   "metadata": {},
   "outputs": [],
   "source": [
    "ds.to_netcdf(\"HadEX3_TXx_ANN.nc\")"
   ]
  }
 ],
 "metadata": {
  "kernelspec": {
   "display_name": "Python 3 (ipykernel)",
   "language": "python",
   "name": "python3"
  },
  "language_info": {
   "codemirror_mode": {
    "name": "ipython",
    "version": 3
   },
   "file_extension": ".py",
   "mimetype": "text/x-python",
   "name": "python",
   "nbconvert_exporter": "python",
   "pygments_lexer": "ipython3",
   "version": "3.11.0"
  }
 },
 "nbformat": 4,
 "nbformat_minor": 5
}
