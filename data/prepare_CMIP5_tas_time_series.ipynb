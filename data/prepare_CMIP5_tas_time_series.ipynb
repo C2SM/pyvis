{
 "cells": [
  {
   "cell_type": "markdown",
   "metadata": {},
   "source": [
    "# CMIP5 Global mean temperatures"
   ]
  },
  {
   "cell_type": "markdown",
   "metadata": {},
   "source": [
    "Create a NetCDF with global mean temperature from all CMIP5 models (Taylor et al., 2012). We make use of Jan Sedláček's post-processing of CMIP5 data (https://data.iac.ethz.ch/atmos/). The data is stored at IAC at: /net/atmos/data/cmip5-ng/.\n",
    "\n",
    "The table with all used models is at the end of the [notebook](#Models).\n"
   ]
  },
  {
   "cell_type": "code",
   "execution_count": null,
   "metadata": {},
   "outputs": [],
   "source": [
    "from glob import glob\n",
    "from os import path\n",
    "\n",
    "import numpy as np\n",
    "import pandas as pd\n",
    "import xarray as xr"
   ]
  },
  {
   "cell_type": "code",
   "execution_count": null,
   "metadata": {},
   "outputs": [],
   "source": [
    "def cmip5_filename(var, time, model, scen, ens, res=\"g025\"):\n",
    "    \"\"\"\n",
    "    list cmip5 filenames according to criteria\n",
    "\n",
    "    Parameters\n",
    "    ----------\n",
    "    var : string\n",
    "        Variable name.\n",
    "    time : string\n",
    "        Time resolution, e.g. 'ann', 'seas'.\n",
    "    model : string\n",
    "        Models to look for, e.g. '*', 'NorESM1'\n",
    "    scen : string\n",
    "        Scenario, e.g. 'rcp85', ...\n",
    "    ens : string\n",
    "        Which ensemble members, e.g. '*', 'r1i1p?', 'r1i1p1'\n",
    "    res : string\n",
    "        Resolution, 'native' or 'g025'. Optional, default: 'g025'.\n",
    "\n",
    "    ..note::\n",
    "\n",
    "    All arguments can take wildcards.\n",
    "\n",
    "    \"\"\"\n",
    "\n",
    "    folder_root = \"/net/atmos/data/cmip5-ng/\"\n",
    "    folder = path.join(folder_root, var)\n",
    "\n",
    "    fN = \"_\".join([var, time, model, scen, ens, res])\n",
    "    fN = path.join(folder, fN + \".nc\")\n",
    "\n",
    "    fN = sorted(glob(fN))\n",
    "\n",
    "    if not fN:\n",
    "        raise RuntimeError(\"No simulations found\")\n",
    "\n",
    "    return fN"
   ]
  },
  {
   "cell_type": "code",
   "execution_count": null,
   "metadata": {},
   "outputs": [],
   "source": [
    "# obtain a list of cmip5 output, annual mean, surface air temperature\n",
    "# use only the first ensemble member\n",
    "\n",
    "fNs = cmip5_filename(\"tas\", \"ann\", \"*\", \"rcp85\", \"r1i1p1\", res=\"g025\")\n",
    "\n",
    "print(len(fNs))\n",
    "\n",
    "for fN in fNs[:4]:\n",
    "    print(fN)\n",
    "\n",
    "print(\"...\")"
   ]
  },
  {
   "cell_type": "code",
   "execution_count": null,
   "metadata": {},
   "outputs": [],
   "source": [
    "# cosine weighting of the latitude\n",
    "\n",
    "\n",
    "def cos_wgt(lat):\n",
    "    \"\"\"cosine-weighted latitude\"\"\"\n",
    "    return np.cos(np.deg2rad(lat))"
   ]
  },
  {
   "cell_type": "code",
   "execution_count": null,
   "metadata": {},
   "outputs": [],
   "source": [
    "# Unfortunately, xarray does not have a weighted average function as of yet.\n",
    "# see https://github.com/pydata/xarray/issues/422\n",
    "\n",
    "\n",
    "def _average_da(self, dim=None, axis=None, weights=None, skipna=None, keep_attrs=False):\n",
    "    \"\"\"\n",
    "    weighted average for DataArrays\n",
    "\n",
    "    Parameters\n",
    "    ----------\n",
    "    dim : str or sequence of str, optional\n",
    "        Dimension(s) over which to apply `average`.\n",
    "    axis : int or sequence of int, optional\n",
    "            Axis(es) over which to apply `average`. Only one of the 'dim'\n",
    "            and 'axis' arguments can be supplied. If neither are supplied, then\n",
    "            `average` is calculated over axes.\n",
    "    weights : DataArray\n",
    "        weights to apply. Shape must be broadcastable to shape of self.\n",
    "    keep_attrs : bool, optional\n",
    "        If True, the attributes (`attrs`) will be copied from the original\n",
    "        object to the new one.  If False (default), the new object will be\n",
    "        returned without attributes.\n",
    "\n",
    "    Returns\n",
    "    -------\n",
    "    reduced : DataArray\n",
    "        New DataArray with average applied to its data and the indicated\n",
    "        dimension(s) removed.\n",
    "\n",
    "    \"\"\"\n",
    "\n",
    "    if weights is None:\n",
    "        return self.mean(dim=dim, axis=axis, keep_attrs=keep_attrs)\n",
    "\n",
    "    if not isinstance(weights, xr.DataArray):\n",
    "        raise TypeError(\"weights must be a DataArray\")\n",
    "\n",
    "    # check that weights.dims are in DataArray\n",
    "    invalid = set([d for d in weights.dims if d not in self.dims])\n",
    "    if invalid:\n",
    "        raise ValueError(\"Invalid dims in weights: %s\" % \" \".join(invalid))\n",
    "\n",
    "    valid = self.notnull()\n",
    "    sum_of_weights = weights.where(valid).sum(dim=dim, axis=axis)  # ,\n",
    "    # skipna=skipna)\n",
    "\n",
    "    if (sum_of_weights == 0).any():\n",
    "        msg = \"Weights sum to zero, returns 0.\"\n",
    "        # warnings.warn(msg, RuntimeWarning)\n",
    "        print(msg)\n",
    "        print(skipna)\n",
    "\n",
    "    w = weights / sum_of_weights\n",
    "\n",
    "    return (self * w).sum(dim, axis=axis, skipna=skipna, keep_attrs=keep_attrs)\n",
    "\n",
    "\n",
    "def _average_ds(self, dim=None, axis=None, weights=None, keep_attrs=False):\n",
    "    \"\"\"\n",
    "    weighted average for Datasets\n",
    "\n",
    "    ... omitted ..\n",
    "\n",
    "    \"\"\"\n",
    "\n",
    "    if weights is None:\n",
    "        return self.mean(dim=dim, axis=axis, keep_attrs=keep_attrs)\n",
    "    else:\n",
    "        return self.apply(_average_da, dim=dim, axis=axis, weights=weights)\n",
    "\n",
    "\n",
    "# monkey patch\n",
    "xr.DataArray.average = _average_da\n",
    "xr.Dataset.average = _average_ds"
   ]
  },
  {
   "cell_type": "code",
   "execution_count": null,
   "metadata": {},
   "outputs": [],
   "source": [
    "def get_tas_ann(fNs):\n",
    "    \"\"\"get global annual mean temperature\"\"\"\n",
    "\n",
    "    # open first dataset to get lat coordinates\n",
    "    ds = xr.open_dataset(fNs[0])\n",
    "    wgt = cos_wgt(ds.lat)\n",
    "\n",
    "    ds_all = []\n",
    "    for fN in fNs:\n",
    "        ds = xr.open_dataset(fN)\n",
    "\n",
    "        # replace the datetime64[ns] object with integers (2000, 2001, etc.)\n",
    "        ds = ds.groupby(\"year.year\", squeeze=False).mean(\"year\")\n",
    "\n",
    "        ds = ds.average((\"lat\", \"lon\"), weights=wgt)\n",
    "        ds_all.append(ds)\n",
    "\n",
    "    ds = xr.concat(ds_all, \"ens\")\n",
    "\n",
    "    ens = np.arange(len(fNs))\n",
    "    ds[\"ens\"] = (\"ens\", ens)\n",
    "\n",
    "    # ds = ds.rename(dict(year='time'))\n",
    "\n",
    "    # year = ds['time.year']\n",
    "    # ds = ds.assign(year=('time', year.values))\n",
    "\n",
    "    # get the model name\n",
    "    model = []\n",
    "    for fN in fNs:\n",
    "        basename = path.basename(fN)\n",
    "        model.append(basename.split(\"_\")[2])\n",
    "\n",
    "    # model = pd.Series(model, dtype=\"category\")\n",
    "    ds = ds.assign_coords(model=(\"ens\", model)).tas\n",
    "\n",
    "    return ds"
   ]
  },
  {
   "cell_type": "code",
   "execution_count": null,
   "metadata": {},
   "outputs": [],
   "source": [
    "# get the CO2 data from https://climexp.knmi.nl\n",
    "\n",
    "co2_data_location = dict(\n",
    "    rcp26=\"https://climexp.knmi.nl/data/iRCP3PD_CO2.dat\",\n",
    "    rcp45=\"https://climexp.knmi.nl/data/iRCP45_CO2.dat\",\n",
    "    rcp60=\"https://climexp.knmi.nl/data/iRCP6_CO2.dat\",\n",
    "    rcp85=\"https://climexp.knmi.nl/data/iRCP85_CO2.dat\",\n",
    ")\n",
    "\n",
    "\n",
    "def get_co2(scen):\n",
    "    # load the co2 data directly from the climate explorer\n",
    "    fN = co2_data_location[scen]\n",
    "\n",
    "    d = pd.read_csv(fN, header=None, skiprows=4, index_col=0, sep=\" \")\n",
    "    d.columns = [\"co2\"]\n",
    "    d.index.name = \"year\"\n",
    "\n",
    "    d = d.to_xarray()\n",
    "\n",
    "    d = d.co2\n",
    "\n",
    "    d.attrs = dict(\n",
    "        data=\"CMIP5 CO2 concentrations\",\n",
    "        units=\"ppm\",\n",
    "        source=fN,\n",
    "        reference=\"M. Meinshausen, S. Smith et al.\",\n",
    "    )\n",
    "    return d"
   ]
  },
  {
   "cell_type": "code",
   "execution_count": null,
   "metadata": {},
   "outputs": [],
   "source": [
    "def get_tas_ann_scen(scen):\n",
    "    print(scen)\n",
    "\n",
    "    # get filenames\n",
    "    fNs = cmip5_filename(\"tas\", \"ann\", \"*\", scen, \"r1i1p1\", res=\"g025\")\n",
    "\n",
    "    # get time series\n",
    "    ds = get_tas_ann(fNs)\n",
    "\n",
    "    # calculate anomaly\n",
    "    ds_anom = ds - ds.sel(year=slice(1861, 1880)).mean(\"year\")\n",
    "\n",
    "    ds = ds.to_dataset(name=\"tas\")\n",
    "\n",
    "    # add anomaly time series\n",
    "    ds = ds.assign(tas_anom=ds_anom)\n",
    "\n",
    "    # add global attributes\n",
    "    ds.attrs = dict(\n",
    "        data=\"CMIP5 surface air temperaure (tas) global annual mean\",\n",
    "        source=\"https://data.iac.ethz.ch/atmos/\",\n",
    "        reference=\"Taylor et al., 2012\",\n",
    "        scenario=scen,\n",
    "    )\n",
    "\n",
    "    # add attributes for the variables\n",
    "    ds.tas.attrs = dict(units=\"K\")\n",
    "    ds.tas_anom.attrs = dict(units=\"K\", postprocessing=\"anomalies wrt. 1861..1880\")\n",
    "\n",
    "    # get the co2 data\n",
    "    co2 = get_co2(scen)\n",
    "\n",
    "    # maxe sure both datasets span the same years\n",
    "    ds, co2 = xr.align(ds, co2, join=\"inner\")\n",
    "\n",
    "    # add the co2 data\n",
    "    ds = ds.assign(co2=co2)\n",
    "\n",
    "    # get the time axis\n",
    "    year = str(ds.year[0].values)\n",
    "    periods = len(ds.year)\n",
    "    time = pd.date_range(year, periods=periods, freq=\"A-JUN\")\n",
    "\n",
    "    # add it\n",
    "    ds = ds.assign_coords(time=(\"year\", time))\n",
    "\n",
    "    # make time the main coord\n",
    "    ds = ds.swap_dims(dict(year=\"time\"))\n",
    "\n",
    "    ds.to_netcdf(f\"cmip5_tas_{scen}_ts.nc\", format=\"NETCDF4_CLASSIC\")\n",
    "\n",
    "    return ds"
   ]
  },
  {
   "cell_type": "code",
   "execution_count": null,
   "metadata": {},
   "outputs": [],
   "source": [
    "rcp85 = get_tas_ann_scen(\"rcp85\")"
   ]
  },
  {
   "cell_type": "code",
   "execution_count": null,
   "metadata": {},
   "outputs": [],
   "source": [
    "rcp85"
   ]
  },
  {
   "cell_type": "code",
   "execution_count": null,
   "metadata": {},
   "outputs": [],
   "source": [
    "# rcp85.swap_dims(dict(time='year'))"
   ]
  },
  {
   "cell_type": "code",
   "execution_count": null,
   "metadata": {},
   "outputs": [],
   "source": [
    "rcp85.assign(abc=(\"xyz\", rcp85.time))"
   ]
  },
  {
   "cell_type": "code",
   "execution_count": null,
   "metadata": {},
   "outputs": [],
   "source": [
    "rcp85.tas.plot.pcolormesh()\n",
    "# looks good"
   ]
  },
  {
   "cell_type": "code",
   "execution_count": null,
   "metadata": {},
   "outputs": [],
   "source": [
    "# plot ts for all models\n",
    "\n",
    "[rcp85.tas.sel(ens=ens).plot.line(\"0.5\") for ens in rcp85.ens];"
   ]
  },
  {
   "cell_type": "code",
   "execution_count": null,
   "metadata": {},
   "outputs": [],
   "source": [
    "# plot again\n",
    "\n",
    "[rcp85.tas_anom.sel(ens=ens).plot.line(\"0.5\") for ens in rcp85.ens];"
   ]
  },
  {
   "cell_type": "code",
   "execution_count": null,
   "metadata": {},
   "outputs": [],
   "source": [
    "rcp85.co2.plot()"
   ]
  },
  {
   "cell_type": "code",
   "execution_count": null,
   "metadata": {},
   "outputs": [],
   "source": [
    "rcp26 = get_tas_ann_scen(\"rcp26\")\n",
    "rcp45 = get_tas_ann_scen(\"rcp45\")\n",
    "rcp60 = get_tas_ann_scen(\"rcp60\")"
   ]
  },
  {
   "cell_type": "markdown",
   "metadata": {},
   "source": [
    "## Models\n",
    "\n",
    "Print all the used models:"
   ]
  },
  {
   "cell_type": "code",
   "execution_count": null,
   "metadata": {},
   "outputs": [],
   "source": [
    "m_rcp26 = set(rcp26.model.values)\n",
    "m_rcp45 = set(rcp45.model.values)\n",
    "m_rcp60 = set(rcp60.model.values)\n",
    "m_rcp85 = set(rcp85.model.values)"
   ]
  },
  {
   "cell_type": "code",
   "execution_count": null,
   "metadata": {},
   "outputs": [],
   "source": [
    "all_models = frozenset().union(m_rcp26, m_rcp45, m_rcp60, m_rcp85)"
   ]
  },
  {
   "cell_type": "code",
   "execution_count": null,
   "metadata": {},
   "outputs": [],
   "source": [
    "for model in all_models:\n",
    "    print(model)"
   ]
  }
 ],
 "metadata": {
  "kernelspec": {
   "display_name": "Python 3",
   "language": "python",
   "name": "python3"
  },
  "language_info": {
   "codemirror_mode": {
    "name": "ipython",
    "version": 3
   },
   "file_extension": ".py",
   "mimetype": "text/x-python",
   "name": "python",
   "nbconvert_exporter": "python",
   "pygments_lexer": "ipython3",
   "version": "3.5.4"
  }
 },
 "nbformat": 4,
 "nbformat_minor": 2
}
