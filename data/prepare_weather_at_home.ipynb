{
 "cells": [
  {
   "cell_type": "markdown",
   "metadata": {},
   "source": [
    "# weather at home - rotated pole data\n",
    "\n",
    "Save surface_upward_latent_heat_flux for a random timestep."
   ]
  },
  {
   "cell_type": "code",
   "execution_count": null,
   "metadata": {},
   "outputs": [],
   "source": [
    "import cartopy.crs as ccrs\n",
    "import matplotlib.pyplot as plt\n",
    "import xarray as xr\n",
    "\n",
    "%matplotlib inline"
   ]
  },
  {
   "cell_type": "code",
   "execution_count": null,
   "metadata": {},
   "outputs": [],
   "source": [
    "fN = (\n",
    "    \"/net/exo/landclim/mathause/EUCLEIA/w_at_h/hadam3p_eu/\"\n",
    "    \"hadam3p_eu_faqn_2013_1_010205811_0_9/faqnga.pel4aug.nc\"\n",
    ")\n",
    "\n",
    "ds = xr.open_dataset(fN)\n",
    "\n",
    "# get surface_upward_latent_heat_flux\n",
    "ds = ds.field180\n",
    "\n",
    "# get rid of time axis\n",
    "ds = ds.squeeze()\n",
    "\n",
    "# get rid of time and level information\n",
    "ds = ds.drop((\"time1\", \"z0\"))\n",
    "\n",
    "ds = ds.rename(\n",
    "    dict(\n",
    "        latitude0=\"lat\",\n",
    "        longitude0=\"lon\",\n",
    "        global_latitude0=\"global_lat\",\n",
    "        global_longitude0=\"global_lon\",\n",
    "    )\n",
    ")\n",
    "\n",
    "\n",
    "ds = ds.to_dataset(name=\"LH\")\n",
    "\n",
    "# this is the EURO CORDEX POLE\n",
    "pole_lon = -162.00\n",
    "pole_lat = 39.25\n",
    "\n",
    "ds.attrs[\"pole_lon\"] = pole_lon\n",
    "ds.attrs[\"pole_lat\"] = pole_lat\n",
    "\n",
    "\n",
    "ds.to_netcdf(\"wah_LH.nc\", format=\"NETCDF4_CLASSIC\")"
   ]
  },
  {
   "cell_type": "code",
   "execution_count": null,
   "metadata": {},
   "outputs": [],
   "source": [
    "projection = ccrs.LambertConformal(central_longitude=15)\n",
    "ax = plt.axes(projection=projection)\n",
    "\n",
    "\n",
    "ax.coastlines()\n",
    "\n",
    "ax.pcolormesh(\n",
    "    ds.global_lon, ds.global_lat, ds, transform=ccrs.PlateCarree(), cmap=\"Reds\"\n",
    ")\n",
    "\n",
    "ax.set_global()\n",
    "\n",
    "\n",
    "ax.set_extent([-30, 60, 10, 90], ccrs.PlateCarree())"
   ]
  },
  {
   "cell_type": "code",
   "execution_count": null,
   "metadata": {},
   "outputs": [],
   "source": [
    "projection = ccrs.PlateCarree()\n",
    "\n",
    "ax = plt.axes(projection=projection)\n",
    "\n",
    "\n",
    "ax.coastlines()\n",
    "\n",
    "ax.pcolormesh(ds.lon, ds.lat, ds, transform=ccrs.PlateCarree(), cmap=\"Reds\")\n",
    "\n",
    "ax.set_global()"
   ]
  },
  {
   "cell_type": "code",
   "execution_count": null,
   "metadata": {},
   "outputs": [],
   "source": [
    "# this is the EURO CORDEX POLE\n",
    "pole_lon = -162.00\n",
    "pole_lat = 39.25\n",
    "\n",
    "\n",
    "rp = ccrs.RotatedPole(pole_longitude=pole_lon, pole_latitude=pole_lat)\n",
    "\n",
    "projection = ccrs.LambertConformal(central_longitude=15)\n",
    "ax = plt.axes(projection=projection)\n",
    "\n",
    "\n",
    "ax.coastlines()\n",
    "\n",
    "\n",
    "ax.pcolormesh(ds.lon, ds.lat, ds, transform=rp, cmap=\"Reds\")\n",
    "\n",
    "ax.set_extent([-30, 60, 10, 90], ccrs.PlateCarree())"
   ]
  }
 ],
 "metadata": {
  "kernelspec": {
   "display_name": "Python 3",
   "language": "python",
   "name": "python3"
  },
  "language_info": {
   "codemirror_mode": {
    "name": "ipython",
    "version": 3
   },
   "file_extension": ".py",
   "mimetype": "text/x-python",
   "name": "python",
   "nbconvert_exporter": "python",
   "pygments_lexer": "ipython3",
   "version": "3.5.4"
  }
 },
 "nbformat": 4,
 "nbformat_minor": 2
}
