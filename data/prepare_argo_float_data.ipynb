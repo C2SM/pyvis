{
 "cells": [
  {
   "cell_type": "markdown",
   "metadata": {},
   "source": [
    "# ARGO Data from 30.12.2017\n",
    "\n",
    "We use the position and temperature from the argo float array:\n",
    "\n",
    " * http://www.argo.ucsd.edu/\n",
    " * Argo (2000). Argo float data and metadata from Global Data Assembly Centre (Argo GDAC). SEANOE. http://doi.org/10.17882/42182\n",
    "  \n",
    "The data was obtained from\n",
    " * ftp://ftp.ifremer.fr/ifremer/argo/geo\n",
    "\n"
   ]
  },
  {
   "cell_type": "code",
   "execution_count": null,
   "metadata": {},
   "outputs": [],
   "source": [
    "import pooch\n",
    "import xarray as xr"
   ]
  },
  {
   "cell_type": "code",
   "execution_count": null,
   "metadata": {},
   "outputs": [],
   "source": [
    "logger = pooch.get_logger()\n",
    "logger.setLevel(\"WARNING\")"
   ]
  },
  {
   "cell_type": "code",
   "execution_count": null,
   "metadata": {},
   "outputs": [],
   "source": [
    "def date_string(year: int, month: int, day: int) -> str:\n",
    "    return f\"{year}{month:02d}{day:02d}\"\n",
    "\n",
    "\n",
    "def get_data(year: int, month: int, day: int, ocean: str) -> str:\n",
    "\n",
    "    oc = {\"ATL\": \"atlantic\", \"IND\": \"indian\", \"PAC\": \"pacific\"}\n",
    "\n",
    "    date = date_string(year, month, day)\n",
    "\n",
    "    path = (\n",
    "        f\"ftp://ftp.ifremer.fr/ifremer/argo/geo/{oc[ocean]}_ocean/{year}/{month:02d}/\"\n",
    "    )\n",
    "    file = f\"{date}_prof.nc\"\n",
    "    fname = f\"ARGO_{ocean}_{date}.nc\"\n",
    "\n",
    "    return pooch.retrieve(\n",
    "        path + file,\n",
    "        known_hash=None,\n",
    "        path=\"./rawdata/argo\",\n",
    "        fname=fname,\n",
    "    )"
   ]
  },
  {
   "cell_type": "code",
   "execution_count": null,
   "metadata": {},
   "outputs": [],
   "source": [
    "def process_argo_data(year: int, month: int, day: int, ocean: str):\n",
    "\n",
    "    fN = get_data(year, month, day, ocean)\n",
    "    ds = xr.open_dataset(fN)\n",
    "\n",
    "    # only select lon, lat, temp\n",
    "    ds = ds[[\"LONGITUDE\", \"LATITUDE\", \"TEMP\"]]\n",
    "\n",
    "    # only the topmost layer\n",
    "    ds = ds.isel(N_LEVELS=0)\n",
    "\n",
    "    ds = ds.rename(dict(LATITUDE=\"lat\", LONGITUDE=\"lon\"))\n",
    "\n",
    "    date = date_string(year, month, day)\n",
    "    fN_out = f\"../data/ARGO_{ocean}_{date}.nc\"\n",
    "\n",
    "    ds.to_netcdf(fN_out, format=\"NETCDF4_CLASSIC\")\n",
    "\n",
    "    return ds\n",
    "\n",
    "\n",
    "ATL = process_argo_data(2017, 12, 30, \"ATL\")\n",
    "IND = process_argo_data(2017, 12, 30, \"IND\")\n",
    "PAC = process_argo_data(2017, 12, 30, \"PAC\")"
   ]
  }
 ],
 "metadata": {
  "kernelspec": {
   "display_name": "Python [conda env:pyvis]",
   "language": "python",
   "name": "conda-env-pyvis-py"
  },
  "language_info": {
   "codemirror_mode": {
    "name": "ipython",
    "version": 3
   },
   "file_extension": ".py",
   "mimetype": "text/x-python",
   "name": "python",
   "nbconvert_exporter": "python",
   "pygments_lexer": "ipython3",
   "version": "3.11.0"
  }
 },
 "nbformat": 4,
 "nbformat_minor": 4
}
