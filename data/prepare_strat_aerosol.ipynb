{
 "cells": [
  {
   "cell_type": "markdown",
   "metadata": {},
   "source": [
    "# Stratospheric aerosol optical depth at 550 nm\n",
    "\n",
    "For some exercises we use measurements of the stratospheric aerosol optical depth (Sato et al., 1999).\n"
   ]
  },
  {
   "cell_type": "code",
   "execution_count": null,
   "metadata": {},
   "outputs": [],
   "source": [
    "import matplotlib.pyplot as plt\n",
    "import pandas as pd\n",
    "import xarray as xr\n",
    "\n",
    "%matplotlib inline"
   ]
  },
  {
   "cell_type": "code",
   "execution_count": null,
   "metadata": {},
   "outputs": [],
   "source": [
    "def strat_aod(hemisphere):\n",
    "\n",
    "    fN = f\"isaod_{hemisphere}.dat\"\n",
    "\n",
    "    aod = pd.read_csv(\n",
    "        fN, delim_whitespace=True, skiprows=3, names=(\"year\", \"month\", \"AOD\")\n",
    "    )\n",
    "\n",
    "    aod[\"day\"] = 1\n",
    "\n",
    "    date = pd.to_datetime(aod[[\"year\", \"month\", \"day\"]])\n",
    "\n",
    "    ds = xr.DataArray(aod[\"AOD\"], dims=(\"time\",), coords=dict(time=(\"time\", date)))\n",
    "\n",
    "    ds = ds.to_dataset(name=hemisphere)\n",
    "\n",
    "    ds = ds.groupby(\"time.year\").mean(\"time\")\n",
    "\n",
    "    ds.attrs[\"data\"] = \"Stratospheric aerosol optical depth at 550 nm\"\n",
    "    ds.attrs[\"source_nh\"] = \"https://climexp.knmi.nl/data/isaod_nh.dat\"\n",
    "    ds.attrs[\"source_sh\"] = \"https://climexp.knmi.nl/data/isaod_sh.dat\"\n",
    "\n",
    "    ds = ds.sel(year=slice(1875, None))\n",
    "\n",
    "    return ds"
   ]
  },
  {
   "cell_type": "code",
   "execution_count": null,
   "metadata": {},
   "outputs": [],
   "source": [
    "aod = strat_aod(\"nh\")\n",
    "sh = strat_aod(\"sh\")\n",
    "\n",
    "aod = aod.assign(sh=sh.sh)\n",
    "\n",
    "aod.to_netcdf(\"aod.nc\", format=\"NETCDF4_CLASSIC\")"
   ]
  },
  {
   "cell_type": "code",
   "execution_count": null,
   "metadata": {},
   "outputs": [],
   "source": [
    "volcanic_eruptions = (1883, 1902, 1912, 1963, 1982, 1991)\n",
    "volcanoes = (\n",
    "    \"Krakatoa\",\n",
    "    \"Santa Maria\",\n",
    "    \"Novarupta\",\n",
    "    \"Agung\",\n",
    "    r\"El Chich\\'{o}n\",\n",
    "    \"Pinatubo\",\n",
    ")"
   ]
  },
  {
   "cell_type": "code",
   "execution_count": null,
   "metadata": {},
   "outputs": [],
   "source": [
    "from matplotlib import rc\n",
    "\n",
    "# rc('font',**{'family':'sans-serif','sans-serif':['Helvetica']})\n",
    "## for Palatino and other serif fonts use:\n",
    "# rc('font',**{'family':'serif','serif':['Palatino']})\n",
    "rc(\"text\", usetex=True)\n",
    "\n",
    "import matplotlib\n",
    "\n",
    "matplotlib.rcParams[\"mathtext.fontset\"] = \"custom\"\n",
    "matplotlib.rcParams[\"mathtext.rm\"] = \"Bitstream Vera Sans\"\n",
    "matplotlib.rcParams[\"mathtext.it\"] = \"Bitstream Vera Sans:italic\"\n",
    "matplotlib.rcParams[\"mathtext.bf\"] = \"Bitstream Vera Sans:bold\"\n",
    "\n",
    "\n",
    "params = {\"text.latex.preamble\": [r\"\"]}\n",
    "\n",
    "\n",
    "plt.rcParams.update(params)"
   ]
  },
  {
   "cell_type": "code",
   "execution_count": null,
   "metadata": {},
   "outputs": [],
   "source": [
    "nh = strat_aod(\"nh\")\n",
    "sh = strat_aod(\"sh\")\n",
    "\n",
    "\n",
    "nh.nh.plot.line(label=\"nh\")\n",
    "sh.sh.plot.line(label=\"sh\")\n",
    "\n",
    "\n",
    "ax = plt.gca()\n",
    "\n",
    "\n",
    "dx = 0.5\n",
    "fontsize = 8\n",
    "\n",
    "ax.set_ylim(None, 0.2)\n",
    "\n",
    "for y, v in zip(volcanic_eruptions, volcanoes):\n",
    "    ax.text(y - dx, 0.1925, v, fontsize=fontsize, rotation=90, va=\"top\", ha=\"right\")\n",
    "\n",
    "\n",
    "# ax.set_xlim(1898.5, 2030)\n",
    "\n",
    "for y in volcanic_eruptions:\n",
    "    ax.axvline(y, color=\"0.1\", lw=1)\n",
    "\n",
    "# hack to convert labels from number to text\n",
    "ax.set_xticklabels([f\"{tl:0g}\" for tl in ax.get_xticks()])\n",
    "ax.set_yticklabels([f\"{tl:0g}\" for tl in ax.get_yticks()])\n",
    "\n",
    "plt.legend()\n",
    "\n",
    "plt.savefig(\"aod.pdf\")"
   ]
  },
  {
   "cell_type": "code",
   "execution_count": null,
   "metadata": {},
   "outputs": [],
   "source": []
  }
 ],
 "metadata": {
  "kernelspec": {
   "display_name": "Python 3",
   "language": "python",
   "name": "python3"
  },
  "language_info": {
   "codemirror_mode": {
    "name": "ipython",
    "version": 3
   },
   "file_extension": ".py",
   "mimetype": "text/x-python",
   "name": "python",
   "nbconvert_exporter": "python",
   "pygments_lexer": "ipython3",
   "version": "3.5.4"
  }
 },
 "nbformat": 4,
 "nbformat_minor": 2
}
