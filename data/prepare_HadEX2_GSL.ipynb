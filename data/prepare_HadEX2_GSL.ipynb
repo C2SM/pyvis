{
 "cells": [
  {
   "cell_type": "markdown",
   "metadata": {},
   "source": [
    "# Preparation of the growing season length dataset"
   ]
  },
  {
   "cell_type": "markdown",
   "metadata": {},
   "source": [
    "The data is described in Donat et al., ([2013](http://onlinelibrary.wiley.com/doi/10.1002/jgrd.50150/abstract)), and was obtained from http://www.climdex.org/. "
   ]
  },
  {
   "cell_type": "code",
   "execution_count": null,
   "metadata": {},
   "outputs": [],
   "source": [
    "import numpy as np\n",
    "import pandas as pd\n",
    "import statsmodels.formula.api as smf\n",
    "import xarray as xr"
   ]
  },
  {
   "cell_type": "code",
   "execution_count": null,
   "metadata": {},
   "outputs": [],
   "source": [
    "fN = \"/home/mathause/teaching/2018_PyVisWorkshop/rawdata/HadEX2_GSL.nc\"\n",
    "\n",
    "ds = xr.open_dataset(fN)"
   ]
  },
  {
   "cell_type": "code",
   "execution_count": null,
   "metadata": {},
   "outputs": [],
   "source": [
    "ds"
   ]
  },
  {
   "cell_type": "code",
   "execution_count": null,
   "metadata": {},
   "outputs": [],
   "source": [
    "# rename Ann -> GSL\n",
    "\n",
    "ds = ds.rename(dict(Ann=\"GSL\"))\n",
    "ds"
   ]
  },
  {
   "cell_type": "code",
   "execution_count": null,
   "metadata": {},
   "outputs": [],
   "source": [
    "# the time axis is not CF-compiant...\n",
    "ds.time[:10]"
   ]
  },
  {
   "cell_type": "code",
   "execution_count": null,
   "metadata": {},
   "outputs": [],
   "source": [
    "# use pandas to convert the time axis\n",
    "time = pd.to_datetime(ds.time, format=\"%Y%m%d\")\n",
    "\n",
    "# alternatively: do it manually\n",
    "# time = pd.date_range('01.01.1901', '01.01.2010', freq='AS')\n",
    "\n",
    "ds[\"time\"] = time\n",
    "\n",
    "ds.time[:10]"
   ]
  },
  {
   "cell_type": "code",
   "execution_count": null,
   "metadata": {},
   "outputs": [],
   "source": [
    "# select the years 1956 to 2005 (inclusive)\n",
    "ds = ds.sel(time=slice(\"1956\", \"2005\"))\n",
    "\n",
    "ds"
   ]
  },
  {
   "cell_type": "markdown",
   "metadata": {},
   "source": [
    "Create a function that calculates the regression slope for one pixels. Then apply the function to each lon/ lat pixel. After a [example](https://gist.github.com/rabernat/bc4c6990eb20942246ce967e6c9c3dbe) by [Ryan Abernathey](https://github.com/rabernat)."
   ]
  },
  {
   "cell_type": "code",
   "execution_count": null,
   "metadata": {},
   "outputs": [],
   "source": [
    "# the linear regression can be very unstable if we use large x values (i.e. 1956 to 2010).\n",
    "time_ind = np.arange(50)\n",
    "\n",
    "\n",
    "def xr_regression(y):\n",
    "    # s: slope\n",
    "    # p: p-value\n",
    "\n",
    "    # no need to calculate anything if we are over the ocean\n",
    "    if np.all(np.isnan(y.values)):\n",
    "        s = np.nan\n",
    "        p = np.nan\n",
    "\n",
    "    else:\n",
    "        # smf.glm expects a pd DataFrame\n",
    "        df = pd.DataFrame([y.values, time_ind]).T\n",
    "        df.columns = [\"GSL\", \"time\"]\n",
    "\n",
    "        # linear regression using R-like syntay\n",
    "        glm = smf.glm(\"GSL ~ time\", df, missing=\"drop\")\n",
    "        fit = glm.fit()\n",
    "        # read slope and p-value\n",
    "        s = fit.params[\"time\"]\n",
    "        p = fit.pvalues[\"time\"]\n",
    "\n",
    "    return xr.DataArray([s, p])"
   ]
  },
  {
   "cell_type": "code",
   "execution_count": null,
   "metadata": {},
   "outputs": [],
   "source": [
    "# combine lat and lon into one coordinate\n",
    "stacked = ds.GSL.stack(allpoints=(\"lat\", \"lon\"))\n",
    "stacked = stacked.reset_coords(drop=True)\n",
    "\n",
    "# apply the function to all points\n",
    "coefs = stacked.groupby(\"allpoints\").apply(xr_regression)\n",
    "# create the lat/ lon grid again\n",
    "coefs_unstacked = coefs.unstack(\"allpoints\")"
   ]
  },
  {
   "cell_type": "code",
   "execution_count": null,
   "metadata": {},
   "outputs": [],
   "source": [
    "# add trend and p-values to the DataSet\n",
    "ds = ds.assign(trend=coefs_unstacked.sel(dim_0=0))\n",
    "ds = ds.assign(p_val=coefs_unstacked.sel(dim_0=1))"
   ]
  },
  {
   "cell_type": "code",
   "execution_count": null,
   "metadata": {},
   "outputs": [],
   "source": [
    "ds.attrs = dict(\n",
    "    data=\"Growing season length\",\n",
    "    source=\"HadEX2 (http://www.climdex.org/)\",\n",
    "    reference=\"Donat et al., 2013\",\n",
    ")\n",
    "ds.attrs"
   ]
  },
  {
   "cell_type": "code",
   "execution_count": null,
   "metadata": {},
   "outputs": [],
   "source": [
    "ds"
   ]
  },
  {
   "cell_type": "code",
   "execution_count": null,
   "metadata": {},
   "outputs": [],
   "source": [
    "ds.to_netcdf(\"./HadEX2_GSL.nc\", format=\"NETCDF4_CLASSIC\")"
   ]
  }
 ],
 "metadata": {
  "kernelspec": {
   "display_name": "Python 3",
   "language": "python",
   "name": "python3"
  },
  "language_info": {
   "codemirror_mode": {
    "name": "ipython",
    "version": 3
   },
   "file_extension": ".py",
   "mimetype": "text/x-python",
   "name": "python",
   "nbconvert_exporter": "python",
   "pygments_lexer": "ipython3",
   "version": "3.5.4"
  }
 },
 "nbformat": 4,
 "nbformat_minor": 2
}
