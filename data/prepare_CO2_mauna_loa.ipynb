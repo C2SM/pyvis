{
 "cells": [
  {
   "cell_type": "markdown",
   "metadata": {},
   "source": [
    "# Mauna Loa Weekly Atmospheric CO$_2$ Data"
   ]
  },
  {
   "cell_type": "markdown",
   "metadata": {},
   "source": [
    "For some exercises we use measurements of the atmospheric CO<sub>2</sub> concentration from Mauna Loa, Hawaii (Keeling & Whorf [2004](https://cdiac.ess-dive.lbl.gov/trends/co2/sio-keel-flask/sio-keel-flaskmlo_c.html)).\n",
    "\n",
    "The data is available in the [statsmodels](http://www.statsmodels.org/stable/index.html) package, as [weekly data](http://www.statsmodels.org/devel/datasets/generated/co2.html). However, I want to make it directly available. \n"
   ]
  },
  {
   "cell_type": "code",
   "execution_count": null,
   "metadata": {},
   "outputs": [],
   "source": [
    "import pandas as pd\n",
    "from statsmodels.datasets import co2"
   ]
  },
  {
   "cell_type": "code",
   "execution_count": null,
   "metadata": {},
   "outputs": [],
   "source": [
    "# load the data\n",
    "data = co2.load_pandas().data"
   ]
  },
  {
   "cell_type": "code",
   "execution_count": null,
   "metadata": {},
   "outputs": [],
   "source": [
    "with open(\"co2.csv\", \"w\") as fid:\n",
    "\n",
    "    # write header\n",
    "    fid.write(\"Mauna Loa Weekly Atmospheric CO2 Data\\n\")\n",
    "    fid.write(\" - units: ppm\\n\")\n",
    "    fid.write(\" - Keeling & Whorf 2004\\n\")\n",
    "    fid.write(\" - Obtained from statsmodels\\n\")\n",
    "    fid.write(\" - http://www.statsmodels.org/devel/datasets/generated/co2.html\\n\")\n",
    "\n",
    "    # write data\n",
    "    data.to_csv(fid, sep=\",\")"
   ]
  },
  {
   "cell_type": "code",
   "execution_count": null,
   "metadata": {},
   "outputs": [],
   "source": [
    "# load the data again, to see if all went well\n",
    "d = pd.read_csv(\"co2.csv\", index_col=0, parse_dates=True, header=5)\n",
    "\n",
    "print(d.head(n=7))"
   ]
  },
  {
   "cell_type": "code",
   "execution_count": null,
   "metadata": {},
   "outputs": [],
   "source": [
    "! head co2.csv"
   ]
  },
  {
   "cell_type": "markdown",
   "metadata": {},
   "source": [
    "## Also save as NetCDF"
   ]
  },
  {
   "cell_type": "code",
   "execution_count": null,
   "metadata": {},
   "outputs": [],
   "source": [
    "ds = data.to_xarray()\n",
    "ds = ds.rename(dict(index=\"time\"))\n",
    "\n",
    "ds.co2.attrs = dict(units=\"ppm\")"
   ]
  },
  {
   "cell_type": "code",
   "execution_count": null,
   "metadata": {},
   "outputs": [],
   "source": [
    "co2_annual = ds.co2.groupby(\"time.year\").mean(\"time\")\n",
    "co2_annual.attrs = dict(units=\"ppm\")\n",
    "\n",
    "ds = ds.assign(co2_annual=co2_annual)"
   ]
  },
  {
   "cell_type": "code",
   "execution_count": null,
   "metadata": {},
   "outputs": [],
   "source": [
    "ds.attrs = dict(\n",
    "    data=\"Mauna Loa Weekly Atmospheric CO2 Data\",\n",
    "    source=\"statsmodels (http://www.statsmodels.org/devel/datasets/generated/co2.html)\",\n",
    "    reference=\"Keeling & Whorf 2004\",\n",
    ")"
   ]
  },
  {
   "cell_type": "code",
   "execution_count": null,
   "metadata": {},
   "outputs": [],
   "source": [
    "ds.to_netcdf(\"co2.nc\", format=\"NETCDF4_CLASSIC\")"
   ]
  },
  {
   "cell_type": "code",
   "execution_count": null,
   "metadata": {},
   "outputs": [],
   "source": [
    "! ncdump -h co2.nc"
   ]
  },
  {
   "cell_type": "code",
   "execution_count": null,
   "metadata": {},
   "outputs": [],
   "source": []
  }
 ],
 "metadata": {
  "kernelspec": {
   "display_name": "Python 3",
   "language": "python",
   "name": "python3"
  },
  "language_info": {
   "codemirror_mode": {
    "name": "ipython",
    "version": 3
   },
   "file_extension": ".py",
   "mimetype": "text/x-python",
   "name": "python",
   "nbconvert_exporter": "python",
   "pygments_lexer": "ipython3",
   "version": "3.5.4"
  }
 },
 "nbformat": 4,
 "nbformat_minor": 2
}
