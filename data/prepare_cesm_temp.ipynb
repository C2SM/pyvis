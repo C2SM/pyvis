{
 "cells": [
  {
   "cell_type": "markdown",
   "metadata": {},
   "source": [
    "# CESM temperature\n",
    "\n",
    "Save the temperature field of cesm for a random timestep."
   ]
  },
  {
   "cell_type": "code",
   "execution_count": null,
   "metadata": {},
   "outputs": [],
   "source": [
    "import xarray as xr\n",
    "\n",
    "%matplotlib inline"
   ]
  },
  {
   "cell_type": "code",
   "execution_count": null,
   "metadata": {},
   "outputs": [],
   "source": [
    "fN = (\n",
    "    \"/net/meso/climphys/cesm122/b.e122.B_1850-2000_CAM5_CN.f19_g16.io144.580/archive/atm/hist/\"\n",
    "    \"b.e122.B_1850-2000_CAM5_CN.f19_g16.io144.580.cam.h0.2000-05.nc\"\n",
    ")\n",
    "\n",
    "ds = xr.open_dataset(fN)\n",
    "\n",
    "\n",
    "ds.TREFHT.plot()\n",
    "\n",
    "\n",
    "ds = ds.TREFHT.squeeze()\n",
    "\n",
    "ds = ds.to_dataset(name=\"temp\")\n",
    "\n",
    "ds.to_netcdf(\"cesm_temp.nc\", format=\"NETCDF4_CLASSIC\")"
   ]
  },
  {
   "cell_type": "code",
   "execution_count": null,
   "metadata": {},
   "outputs": [],
   "source": []
  }
 ],
 "metadata": {
  "kernelspec": {
   "display_name": "Python 3",
   "language": "python",
   "name": "python3"
  },
  "language_info": {
   "codemirror_mode": {
    "name": "ipython",
    "version": 3
   },
   "file_extension": ".py",
   "mimetype": "text/x-python",
   "name": "python",
   "nbconvert_exporter": "python",
   "pygments_lexer": "ipython3",
   "version": "3.5.4"
  }
 },
 "nbformat": 4,
 "nbformat_minor": 2
}
