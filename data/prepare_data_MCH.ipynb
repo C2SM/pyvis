{
 "cells": [
  {
   "cell_type": "markdown",
   "metadata": {},
   "source": [
    "# Monthly data of precip and temperature from MeteoSwiss\n",
    "\n",
    "obained from http://www.meteoswiss.admin.ch/home/climate/past/homogenous-monthly-data.html?region=Table"
   ]
  },
  {
   "cell_type": "code",
   "execution_count": null,
   "metadata": {},
   "outputs": [],
   "source": [
    "import geopandas\n",
    "import matplotlib.pyplot as plt\n",
    "import numpy as np\n",
    "import pandas as pd\n",
    "import xarray as xr\n",
    "from cartopy.io import shapereader"
   ]
  },
  {
   "cell_type": "code",
   "execution_count": null,
   "metadata": {},
   "outputs": [],
   "source": [
    "import io\n",
    "\n",
    "import parse\n",
    "import requests\n",
    "\n",
    "%matplotlib inline"
   ]
  },
  {
   "cell_type": "markdown",
   "metadata": {},
   "source": [
    "## Load lon/ lat coordinates of Switzerland"
   ]
  },
  {
   "cell_type": "code",
   "execution_count": null,
   "metadata": {},
   "outputs": [],
   "source": [
    "# get natural earth data (http://www.naturalearthdata.com/)\n",
    "\n",
    "# get country borders\n",
    "resolution = \"10m\"\n",
    "category = \"cultural\"\n",
    "name = \"admin_0_countries\"\n",
    "\n",
    "shpfilename = shapereader.natural_earth(resolution, category, name)\n",
    "\n",
    "df = geopandas.read_file(shpfilename)\n",
    "\n",
    "# read the Swiss borders\n",
    "poly = df.loc[df[\"ADMIN\"] == \"Switzerland\"][\"geometry\"]\n",
    "ch = np.asarray(poly.values[0].exterior.coords)\n",
    "\n",
    "lon = ch[:, 0]\n",
    "lat = ch[:, 1]\n",
    "\n",
    "plt.plot(lon, lat)"
   ]
  },
  {
   "cell_type": "code",
   "execution_count": null,
   "metadata": {},
   "outputs": [],
   "source": [
    "# save to NetCDF\n",
    "\n",
    "ch = xr.Dataset(dict(lon=lon, lat=lat))\n",
    "\n",
    "ch.attrs = dict(\n",
    "    data=\"Outline of Switzerland in lon/ lat coordinates\",\n",
    "    source=\"http://www.naturalearthdata.com/\",\n",
    ")\n",
    "\n",
    "ch.to_netcdf(\"../data/outline_switzerland.nc\", format=\"NETCDF4_CLASSIC\")"
   ]
  },
  {
   "cell_type": "markdown",
   "metadata": {},
   "source": [
    "## Homogenized monthly station data"
   ]
  },
  {
   "cell_type": "code",
   "execution_count": null,
   "metadata": {},
   "outputs": [],
   "source": [
    "def read_MCH_station_data(station):\n",
    "\n",
    "    data = _get_data(station)\n",
    "\n",
    "    station, lon, lat = _parse_header(data)\n",
    "\n",
    "    df = _parse_data(data)\n",
    "\n",
    "    return df, station, lon, lat\n",
    "\n",
    "\n",
    "def _get_data(station):\n",
    "    \"\"\"read data from web\"\"\"\n",
    "\n",
    "    url = (\n",
    "        \"http://www.meteoswiss.admin.ch/product/output/climate-data/\"\n",
    "        \"homogenous-monthly-data-processing/data/homog_mo_{}.txt\"\n",
    "    )\n",
    "\n",
    "    full_url = url.format(station)\n",
    "\n",
    "    # we need to pretend to be a browser\n",
    "    headers = {\n",
    "        \"User-agent\": \"Mozilla/5.0 (Windows NT 6.1) AppleWebKit/537.36 \"\n",
    "        \"(KHTML, like Gecko) Chrome/41.0.2228.0 Safari/537.36\"\n",
    "    }\n",
    "\n",
    "    # read txt file from web\n",
    "    response = requests.get(full_url, headers=headers)\n",
    "\n",
    "    return response.text\n",
    "\n",
    "\n",
    "def _parse_header(data):\n",
    "    \"\"\"extract Station Name and Coordinates\"\"\"\n",
    "\n",
    "    # loop through lines and extract Station Name and Coordinates\n",
    "    for line in data.splitlines():\n",
    "\n",
    "        if \"Station\" in line:\n",
    "            print(line)\n",
    "            station = line.split(\"Station:\")[1].strip()\n",
    "\n",
    "        if \"Coordinates\" in line:\n",
    "            # read lat and lon\n",
    "\n",
    "            l = line.split(\"Coordinates:\")[1].strip()\n",
    "\n",
    "            r = parse.parse(\"{:g}° {:g}' N / {:g}° {:g}' E\", l)\n",
    "\n",
    "            lat = r[0] + r[1] / 60\n",
    "            lon = r[2] + r[3] / 60\n",
    "\n",
    "    return station, lon, lat\n",
    "\n",
    "\n",
    "def _parse_data(data):\n",
    "    \"\"\"read prec and temp into a pd.DataFrame\"\"\"\n",
    "\n",
    "    # we need to pretend data is a string buffer\n",
    "    df = pd.read_table(io.StringIO(data), header=18, delim_whitespace=True)\n",
    "\n",
    "    # add day in order to parse the date\n",
    "    df[\"day\"] = 1\n",
    "\n",
    "    date = pd.to_datetime(df[[\"Year\", \"Month\", \"day\"]])\n",
    "\n",
    "    # only extract the necessary stuff\n",
    "    df = df[[\"Temperature\", \"Precipitation\"]]\n",
    "\n",
    "    # add date to df\n",
    "    df.index = date\n",
    "    return df\n",
    "\n",
    "\n",
    "df, station, lon, lat = read_MCH_station_data(\"BAS\")"
   ]
  },
  {
   "cell_type": "code",
   "execution_count": null,
   "metadata": {},
   "outputs": [],
   "source": [
    "def to_netcdf(df, lon, lat, station, station_long):\n",
    "    \"\"\"save station data to NetCDF file\"\"\"\n",
    "\n",
    "    ds = df.to_xarray()\n",
    "\n",
    "    ds = ds.rename(dict(index=\"time\"))\n",
    "\n",
    "    ds[\"lat\"] = lat\n",
    "    ds[\"lon\"] = lon\n",
    "    ds[\"station_long\"] = station_long\n",
    "    ds[\"station\"] = station\n",
    "\n",
    "    ds.attrs = dict(\n",
    "        data=\"MeteoCH monthly station data\",\n",
    "        source=\"http://www.meteoswiss.admin.ch/home/climate/past/homogenous-monthly-data.html\",\n",
    "    )\n",
    "\n",
    "    ds.Temperature.attrs = dict(unit=\"°C\")\n",
    "    ds.Precipitation.attrs = dict(unit=\"mm\")\n",
    "\n",
    "    ds.to_netcdf(f\"../data/MCH_HOM_{station}.nc\", format=\"NETCDF4_CLASSIC\")\n",
    "\n",
    "    return ds"
   ]
  },
  {
   "cell_type": "code",
   "execution_count": null,
   "metadata": {},
   "outputs": [],
   "source": []
  },
  {
   "cell_type": "code",
   "execution_count": null,
   "metadata": {},
   "outputs": [],
   "source": [
    "stations = (\n",
    "    \"BAS\",\n",
    "    \"BER\",\n",
    "    \"CHM\",\n",
    "    \"CHD\",\n",
    "    \"GSB\",\n",
    "    \"DAV\",\n",
    "    \"ENG\",\n",
    "    \"GVE\",\n",
    "    \"LUG\",\n",
    "    \"PAY\",\n",
    "    \"SIA\",\n",
    "    \"SIO\",\n",
    "    \"SAE\",\n",
    "    \"SMA\",\n",
    ")\n",
    "\n",
    "\n",
    "LON = list()\n",
    "LAT = list()\n",
    "\n",
    "TEMP = list()\n",
    "PREC = list()\n",
    "\n",
    "\n",
    "for station in stations:\n",
    "    df, station_long, lon, lat = read_MCH_station_data(station)\n",
    "\n",
    "    # save as NetCDF\n",
    "    to_netcdf(df, lon, lat, station, station_long)\n",
    "\n",
    "    LON.append(lon)\n",
    "    LAT.append(lat)\n",
    "\n",
    "    TEMP.append(df.Temperature.resample(\"A\").mean().mean())\n",
    "\n",
    "    # create annual sum of precipitation\n",
    "    PREC.append(df.Precipitation.resample(\"A\").sum().mean())\n",
    "\n",
    "\n",
    "LON = np.asarray(LON)\n",
    "LAT = np.asarray(LAT)\n",
    "\n",
    "TEMP = np.asarray(TEMP)\n",
    "PREC = np.asarray(PREC)"
   ]
  },
  {
   "cell_type": "code",
   "execution_count": null,
   "metadata": {},
   "outputs": [],
   "source": [
    "# save climatology data to NetCDF\n",
    "\n",
    "number = range(len(stations))\n",
    "\n",
    "data = dict(\n",
    "    temp=(\"number\", TEMP),\n",
    "    prec=(\"number\", PREC),\n",
    "    lon=(\"number\", LON),\n",
    "    lat=(\"number\", LAT),\n",
    "    station=(\"number\", list(stations)),\n",
    ")\n",
    "\n",
    "\n",
    "ds = xr.Dataset(data_vars=data, coords=dict(number=(\"number\", number)))\n",
    "\n",
    "\n",
    "ds.attrs = dict(\n",
    "    data=\"MeteoCH monthly station data, climatology\",\n",
    "    source=\"http://www.meteoswiss.admin.ch/home/climate/past/homogenous-monthly-data.html\",\n",
    ")\n",
    "\n",
    "\n",
    "ds.temp.attrs[\"units\"] = \"°C\"\n",
    "ds.prec.attrs[\"units\"] = \"mm / yr\"\n",
    "\n",
    "\n",
    "ds.to_netcdf(\"../data/MCH_clim.nc\", format=\"NETCDF4_CLASSIC\")"
   ]
  },
  {
   "cell_type": "markdown",
   "metadata": {},
   "source": [
    "## Test scatter exercise"
   ]
  },
  {
   "cell_type": "code",
   "execution_count": null,
   "metadata": {},
   "outputs": [],
   "source": [
    "mn = PREC.min()\n",
    "mx = PREC.max()\n",
    "\n",
    "p_scaled = ((PREC - mn) / (mx - mn)) * 200 + 50\n",
    "\n",
    "p_scaled"
   ]
  },
  {
   "cell_type": "code",
   "execution_count": null,
   "metadata": {},
   "outputs": [],
   "source": [
    "plt.plot(ch.lon, ch.lat)\n",
    "h = plt.scatter(\n",
    "    LON, LAT, c=TEMP, cmap=\"RdBu_r\", vmax=8, vmin=-8, s=p_scaled, edgecolor=\"0.5\"\n",
    ")\n",
    "\n",
    "plt.colorbar(h)"
   ]
  },
  {
   "cell_type": "code",
   "execution_count": null,
   "metadata": {},
   "outputs": [],
   "source": [
    "import cartopy.crs as ccrs\n",
    "\n",
    "ax = plt.axes(projection=ccrs.EuroPP())\n",
    "\n",
    "\n",
    "ax.plot(ch.lon, ch.lat, transform=ccrs.PlateCarree())\n",
    "h = ax.scatter(\n",
    "    LON,\n",
    "    LAT,\n",
    "    c=TEMP,\n",
    "    cmap=\"RdBu_r\",\n",
    "    vmax=8,\n",
    "    vmin=-8,\n",
    "    s=p_scaled,\n",
    "    edgecolor=\"0.5\",\n",
    "    transform=ccrs.PlateCarree(),\n",
    ")\n",
    "\n",
    "plt.colorbar(h)"
   ]
  },
  {
   "cell_type": "code",
   "execution_count": null,
   "metadata": {},
   "outputs": [],
   "source": []
  },
  {
   "cell_type": "code",
   "execution_count": null,
   "metadata": {},
   "outputs": [],
   "source": [
    "stations = (\n",
    "    \"BAS\",\n",
    "    \"BER\",\n",
    "    \"CHM\",\n",
    "    \"CHD\",\n",
    "    \"GSB\",\n",
    "    \"DAV\",\n",
    "    \"ENG\",\n",
    "    \"GVE\",\n",
    "    \"LUG\",\n",
    "    \"PAY\",\n",
    "    \"SIA\",\n",
    "    \"SIO\",\n",
    "    \"SAE\",\n",
    "    \"SMA\",\n",
    ")\n",
    "\n",
    "\n",
    "MCH = dict()\n",
    "MCH_anom = dict()\n",
    "\n",
    "for station in stations:\n",
    "\n",
    "    fN = f\"../data/MCH_HOM_{station}.nc\"\n",
    "\n",
    "    ds = xr.open_dataset(fN)\n",
    "\n",
    "    MCH[station] = ds\n",
    "\n",
    "    MCH_anom[station] = ds - ds.mean(\"time\")"
   ]
  },
  {
   "cell_type": "code",
   "execution_count": null,
   "metadata": {},
   "outputs": [],
   "source": [
    "for st in MCH_anom.values():\n",
    "\n",
    "    st.Temperature.groupby(\"time.year\").mean(\"time\").plot.line(\"0.5\")"
   ]
  },
  {
   "cell_type": "code",
   "execution_count": null,
   "metadata": {},
   "outputs": [],
   "source": [
    "ds.mean(\"time\")"
   ]
  },
  {
   "cell_type": "code",
   "execution_count": null,
   "metadata": {},
   "outputs": [],
   "source": [
    "ds.Temperature.plot()"
   ]
  },
  {
   "cell_type": "code",
   "execution_count": null,
   "metadata": {},
   "outputs": [],
   "source": []
  }
 ],
 "metadata": {
  "kernelspec": {
   "display_name": "Python 3",
   "language": "python",
   "name": "python3"
  },
  "language_info": {
   "codemirror_mode": {
    "name": "ipython",
    "version": 3
   },
   "file_extension": ".py",
   "mimetype": "text/x-python",
   "name": "python",
   "nbconvert_exporter": "python",
   "pygments_lexer": "ipython3",
   "version": "3.5.4"
  }
 },
 "nbformat": 4,
 "nbformat_minor": 2
}
