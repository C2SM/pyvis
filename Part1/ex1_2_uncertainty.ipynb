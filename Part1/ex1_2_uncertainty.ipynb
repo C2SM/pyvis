{
 "cells": [
  {
   "cell_type": "markdown",
   "metadata": {},
   "source": [
    "# Exercise 1.2: Visualize uncertainty\n",
    "prepared by M.Hauser\n",
    "\n",
    "In this exercise we will repeat the material we learned in the first exercise & get to know some more helpful plotting functions:\n",
    "\n",
    " * `errorbar` to visualise error bars\n",
    " * `fill_between` to add uncertainty bands\n",
    " * `axhline` and `axvline` to add horizontal and vertical lines that span the whole axes\n",
    " * `axhspan` and `axvspan` to add horizontal and vertical patches that span the whole axes\n",
    "\n",
    "As example data, we will use global mean temperature from all CMIP5 models (Taylor et al., 2012). The data was prepared in another [notebook](./../data/prepare_CMIP5_tas_time_series.ipynb).\n",
    "\n",
    "We will develop a plot showing the time evolution and model uncertainty of global mean temperature from 1870 to 2000 using CMIP5 data."
   ]
  },
  {
   "cell_type": "markdown",
   "metadata": {},
   "source": [
    "## Imports"
   ]
  },
  {
   "cell_type": "code",
   "execution_count": null,
   "metadata": {},
   "outputs": [],
   "source": [
    "import matplotlib.pyplot as plt\n",
    "import numpy as np\n",
    "\n",
    "import netCDF4 as nc\n",
    "\n",
    "%matplotlib inline"
   ]
  },
  {
   "cell_type": "markdown",
   "metadata": {},
   "source": [
    "## Load  & process data"
   ]
  },
  {
   "cell_type": "code",
   "execution_count": null,
   "metadata": {},
   "outputs": [],
   "source": [
    "# load data\n",
    "\n",
    "fN = '../data/cmip5_tas_rcp85_ts.nc'\n",
    "\n",
    "ncf = nc.Dataset(fN)\n",
    "\n",
    "# the with construct automatically closes the dataset once we are done\n",
    "with nc.Dataset(fN) as ncf:\n",
    "    \n",
    "    year = ncf.variables['year'][:]\n",
    "    tas = ncf.variables['tas'][:]"
   ]
  },
  {
   "cell_type": "code",
   "execution_count": null,
   "metadata": {},
   "outputs": [],
   "source": [
    "# print some info\n",
    "\n",
    "print('shape of time axis:', year.shape)      \n",
    "print('shape of data:', tas.shape)\n",
    "\n",
    "print('')\n",
    "print('Excerpt of time:', year[:5])\n",
    "print('Excerpt of data:', tas[:3, 0])"
   ]
  },
  {
   "cell_type": "code",
   "execution_count": null,
   "metadata": {},
   "outputs": [],
   "source": [
    "# calculate the anomaly with respect to 1971..2000\n",
    "\n",
    "# select all years in this range\n",
    "sel = (year >= 1971) & (year <= 2000)\n",
    "\n",
    "# calculate the climatology for each model\n",
    "clim = tas[:, sel].mean(axis=1)\n",
    "\n",
    "# calculate the anomaly\n",
    "\n",
    "# we need to add an axis such that the broadcasting works\n",
    "tas_anom = tas - clim[:, np.newaxis]"
   ]
  },
  {
   "cell_type": "markdown",
   "metadata": {},
   "source": [
    "### Explanation of the last line\n",
    "\n",
    "`tas` has shape (40, 231) and `clim` has shape (40). To calculate `clim -  tas` the variable `clim` needs to have shape (40, 1) - it is then automatically broadcast to the shape (40, 231). This can be achieved with `clim[:, np.newaxis]`. For more details see the [numpy broadcasting rules](https://docs.scipy.org/doc/numpy-1.13.0/user/basics.broadcasting.html)."
   ]
  },
  {
   "cell_type": "markdown",
   "metadata": {},
   "source": [
    "## Exercise \n",
    "\n",
    " * Plot the multi model mean temperature (Hint: `mmm = tas_anom.mean(axis=0)`)\n",
    " * Make the line thicker (Hint: `linewidth` or `lw`).\n",
    " * Add x- and y- labels.\n",
    " * Add a title. Set the `fontsize` to 14\n",
    " * Add a horizontal line at 0. (Hint: `ax.plot(ax.get_xlim(), [0, 0], color='0.1')`)\n",
    " * Realise that this is not very helpful.\n",
    " * Use `ax.axhline` instead. Set the linewidth to 0.5, and the color to a light grey.\n",
    " * Use `ax.axvspan` to shade the years of the climatolotgy (1971 to 2000)."
   ]
  },
  {
   "cell_type": "code",
   "execution_count": null,
   "metadata": {},
   "outputs": [],
   "source": [
    "f, axes = plt.subplots(1, 1)\n",
    "ax = axes\n"
   ]
  },
  {
   "cell_type": "markdown",
   "metadata": {},
   "source": [
    "### Solution"
   ]
  },
  {
   "cell_type": "code",
   "execution_count": null,
   "metadata": {},
   "outputs": [],
   "source": [
    "f, axes = plt.subplots(1, 1)\n",
    "ax = axes\n",
    "\n",
    "mmm = tas_anom.mean(axis=0)\n",
    "\n",
    "h = ax.plot(year, mmm, lw=2)\n",
    "\n",
    "ax.set_ylabel('Tanom [°C]')\n",
    "ax.set_xlabel('Time')\n",
    "\n",
    "ax.set_title('Global mean temperature', fontsize=14)\n",
    "\n",
    "ax.axhline(0, color='0.1', lw=0.5)\n",
    "\n",
    "ax.axvspan(1971, 2000, color='0.75')\n",
    "\n",
    "plt.show()"
   ]
  },
  {
   "cell_type": "markdown",
   "metadata": {},
   "source": [
    "## Exercise\n",
    " \n",
    " * Continue with the previous plot (see below).\n",
    " * Add each model as individual line.\n",
    " * It's way too many models to differentiate between them, so paint them all in a light blue (`'#a6bddb'`)."
   ]
  },
  {
   "cell_type": "code",
   "execution_count": null,
   "metadata": {},
   "outputs": [],
   "source": [
    "f, axes = plt.subplots(1, 1)\n",
    "ax = axes\n",
    "\n",
    "mmm = tas_anom.mean(axis=0)\n",
    "\n",
    "# this loops through each row in the array\n",
    "for y in tas_anom:\n",
    "    # plot here\n",
    "    pass\n",
    "\n",
    "h = ax.plot(year, mmm, lw=2)\n",
    "\n",
    "ax.set_ylabel('Tanom [°C]')\n",
    "ax.set_xlabel('Time')\n",
    "\n",
    "ax.set_title('Global mean temperature', fontsize=14)\n",
    "\n",
    "ax.axhline(0, color='0.1', lw=0.5)\n",
    "\n",
    "ax.axvspan(1971, 2000, color='0.75')\n",
    "\n",
    "plt.show()"
   ]
  },
  {
   "cell_type": "markdown",
   "metadata": {},
   "source": [
    "### Solution\n",
    "\n",
    "```python\n",
    "for y in tas_anom:   \n",
    "    ax.plot(year, y, '#a6bddb')\n",
    "```\n",
    "\n"
   ]
  },
  {
   "cell_type": "code",
   "execution_count": null,
   "metadata": {},
   "outputs": [],
   "source": [
    "f, axes = plt.subplots(1, 1)\n",
    "ax = axes\n",
    "\n",
    "for y in tas_anom:  \n",
    "    ax.plot(year, y, '#a6bddb')\n",
    "\n",
    "\n",
    "mmm = tas_anom.mean(axis=0)\n",
    "\n",
    "h = ax.plot(year, mmm, lw=2)\n",
    "\n",
    "ax.set_ylabel('Tanom [°C]')\n",
    "ax.set_xlabel('Time')\n",
    "\n",
    "ax.set_title('Global mean temperature', fontsize=14)\n",
    "\n",
    "ax.axhline(0, color='0.1', lw=0.5)\n",
    "\n",
    "ax.axvspan(1971, 2000, color='0.85')\n"
   ]
  },
  {
   "cell_type": "markdown",
   "metadata": {},
   "source": [
    "## Errorbar\n",
    "\n",
    "Plotting the uncertainty of data may just be as important as ploting the data itself. A basic errorbar can be created using `plt.errorbar`."
   ]
  },
  {
   "cell_type": "code",
   "execution_count": null,
   "metadata": {},
   "outputs": [],
   "source": [
    "# create some data including uncertainty\n",
    "\n",
    "x = np.arange(0, 2*np.pi, 0.25)\n",
    "\n",
    "y_err = 0.75\n",
    "\n",
    "y = np.sin(x) + np.random.randn(*x.shape) * y_err"
   ]
  },
  {
   "cell_type": "code",
   "execution_count": null,
   "metadata": {},
   "outputs": [],
   "source": [
    "plt.errorbar(x, y, yerr=y_err, linestyle='', marker='o')"
   ]
  },
  {
   "cell_type": "markdown",
   "metadata": {},
   "source": [
    "There is loads of ways on how to format the errorbars:"
   ]
  },
  {
   "cell_type": "code",
   "execution_count": null,
   "metadata": {},
   "outputs": [],
   "source": [
    "plt.errorbar(x, y,\n",
    "             yerr=y_err,\n",
    "             marker='.',\n",
    "             linestyle='',\n",
    "             color='black',\n",
    "             ecolor='0.75',\n",
    "             elinewidth=3,\n",
    "             capsize=5);"
   ]
  },
  {
   "cell_type": "markdown",
   "metadata": {},
   "source": [
    "## Exercise\n",
    "\n",
    " * Let's replace the individual models by a errorbars indicating the standard deviation.\n",
    " * Replace the `ax.plot` command with `ax.errorbar`.\n",
    " * Use a slightly lighter blue ('#74a9cf') for the color of the error bars. \n",
    " * It has too many error lines. Read the docstring of errorbar (`plt.errorbar?`) to find out if we can only plot every 5th error bar.\n"
   ]
  },
  {
   "cell_type": "code",
   "execution_count": null,
   "metadata": {},
   "outputs": [],
   "source": [
    "f, axes = plt.subplots(1, 1)\n",
    "ax = axes\n",
    "\n",
    "mmm = tas_anom.mean(axis=0)\n",
    "\n",
    "# calculate std\n",
    "\n",
    "# replace plot\n",
    "h = ax.plot(year, mmm, lw=2)\n",
    "\n",
    "ax.set_ylabel('Tanom [°C]')\n",
    "ax.set_xlabel('Time')\n",
    "\n",
    "ax.set_title('Global mean temperature', fontsize=14)\n",
    "\n",
    "ax.axhline(0, color='0.1', lw=0.5)\n",
    "\n",
    "ax.axvspan(1971, 2000, color='0.85')\n"
   ]
  },
  {
   "cell_type": "markdown",
   "metadata": {},
   "source": [
    "### Solution"
   ]
  },
  {
   "cell_type": "code",
   "execution_count": null,
   "metadata": {},
   "outputs": [],
   "source": [
    "f, axes = plt.subplots(1, 1)\n",
    "ax = axes\n",
    "\n",
    "mmm = tas_anom.mean(axis=0)\n",
    "\n",
    "# calculate std\n",
    "std = tas_anom.std(axis=0)\n",
    "# plot here\n",
    "ax.errorbar(year, mmm, lw=2, yerr=std, errorevery=5, elinewidth=1, ecolor='#74a9cf')\n",
    "\n",
    "ax.set_ylabel('Tanom [°C]')\n",
    "ax.set_xlabel('Time')\n",
    "\n",
    "ax.set_title('Global mean temperature', fontsize=14)\n",
    "\n",
    "ax.axhline(0, color='0.1', lw=0.5)\n",
    "\n",
    "ax.axvspan(1971, 2000, color='0.85')\n",
    "\n",
    "plt.show()"
   ]
  },
  {
   "cell_type": "markdown",
   "metadata": {},
   "source": [
    "## Continious Errors\n",
    "\n",
    "For continious errors the `errorbar` function is not very convinient, but we can use `fill_between`. This function takes `x`, `y1`, and `y2` as input and shades the region between `y1` and `y2`.\n"
   ]
  },
  {
   "cell_type": "code",
   "execution_count": null,
   "metadata": {},
   "outputs": [],
   "source": [
    "f, ax = plt.subplots()\n",
    "\n",
    "ax.fill_between(x, np.sin(x), np.cos(x), color='0.75')\n",
    "ax.plot(x, (np.sin(x) + np.cos(x)) / 2)"
   ]
  },
  {
   "cell_type": "markdown",
   "metadata": {},
   "source": [
    "## Exercise\n",
    "\n",
    " * Let's replace the individual models by a shaded region indicating the standard deviation.\n",
    " * Use `ax.fill_between`.\n",
    " * The box indicating the reference period gets plotted over the std of the models, use the `zorder` keyword in `axvspan` to correct this.\n",
    " \n"
   ]
  },
  {
   "cell_type": "code",
   "execution_count": null,
   "metadata": {},
   "outputs": [],
   "source": [
    "f, axes = plt.subplots(1, 1)\n",
    "ax = axes\n",
    "\n",
    "mmm = tas_anom.mean(axis=0)\n",
    "\n",
    "# calculate std\n",
    "std = tas_anom.std(axis=0)\n",
    "\n",
    "# plot here\n",
    "\n",
    "\n",
    "h = ax.plot(year, mmm, lw=2)\n",
    "\n",
    "ax.set_ylabel('Tanom [°C]')\n",
    "ax.set_xlabel('Time')\n",
    "\n",
    "ax.set_title('Global mean temperature', fontsize=14)\n",
    "\n",
    "ax.axhline(0, color='0.1', lw=0.5)\n",
    "\n",
    "ax.axvspan(1971, 2000, color='0.85')\n",
    "\n",
    "plt.show()"
   ]
  },
  {
   "cell_type": "markdown",
   "metadata": {},
   "source": [
    "### Solution"
   ]
  },
  {
   "cell_type": "code",
   "execution_count": null,
   "metadata": {},
   "outputs": [],
   "source": [
    "f, axes = plt.subplots(1, 1)\n",
    "ax = axes\n",
    "\n",
    "mmm = tas_anom.mean(axis=0)\n",
    "std = tas_anom.std(axis=0)\n",
    "\n",
    "ax.fill_between(year, mmm - std, mmm + std, color='#a6bddb')\n",
    "\n",
    "h = ax.plot(year, mmm, lw=2)\n",
    "\n",
    "ax.set_ylabel('Tanom [°C]')\n",
    "ax.set_xlabel('Time')\n",
    "\n",
    "ax.set_title('Global mean temperature', fontsize=14)\n",
    "\n",
    "ax.axhline(0, color='0.1', lw=0.5)\n",
    "\n",
    "ax.axvspan(1971, 2000, color='0.85', zorder=0)\n",
    "\n",
    "plt.show()\n"
   ]
  }
 ],
 "metadata": {
  "kernelspec": {
   "display_name": "Python 3",
   "language": "python",
   "name": "python3"
  },
  "language_info": {
   "codemirror_mode": {
    "name": "ipython",
    "version": 3
   },
   "file_extension": ".py",
   "mimetype": "text/x-python",
   "name": "python",
   "nbconvert_exporter": "python",
   "pygments_lexer": "ipython3",
   "version": "3.5.4"
  }
 },
 "nbformat": 4,
 "nbformat_minor": 2
}
