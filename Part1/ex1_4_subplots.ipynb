{
 "cells": [
  {
   "cell_type": "markdown",
   "metadata": {},
   "source": [
    "# Exercise 1.4 - Multiple plots per figure\n",
    "prepared by M.Hauser\n",
    "\n",
    "Until now we used only one axes per figure, however you may want to add several subplots. Therefore, it is possible to have more than one axes per figure."
   ]
  },
  {
   "cell_type": "code",
   "execution_count": null,
   "metadata": {},
   "outputs": [],
   "source": [
    "import matplotlib.pyplot as plt\n",
    "import numpy as np\n",
    "\n",
    "%matplotlib inline"
   ]
  },
  {
   "cell_type": "markdown",
   "metadata": {},
   "source": [
    "## `plt.subplots` - simple grids\n",
    "\n",
    "Until now, we used `plt.subplots()` (notice the `s` at the end) to create a single axis, but it supports the `nrows` and `ncol` keywords to create regular grids.\n",
    "\n"
   ]
  },
  {
   "cell_type": "code",
   "execution_count": null,
   "metadata": {},
   "outputs": [],
   "source": [
    "f, axes = plt.subplots(2, 3)"
   ]
  },
  {
   "cell_type": "markdown",
   "metadata": {},
   "source": [
    "## `hspace` and `wspace`\n",
    "\n",
    "This looks ok, but there is not enough space between the axes for the labels. You can adjust the space between the axes manually with `hspace` and `wspace` (`h` and `w` stands for heigth and width). Note that `hspace` and `wspace` are a property of the GridSpec (see later), so we have to pass it as `gridspec_kw`.\n",
    "\n",
    " * `wspace` the amount of width reserved for blank space between subplots, expressed as a fraction of the average axis width, default value = 0.2\n",
    " * `hspace`: the amount of height reserved for white space between subplots,  expressed as a fraction of the average axis height, default value = 0.2\n",
    "\n",
    "(The bullet points are from the documentation, don't ask me what difference between white and blank space is...)"
   ]
  },
  {
   "cell_type": "code",
   "execution_count": null,
   "metadata": {},
   "outputs": [],
   "source": [
    "f, axes = plt.subplots(2, 3, gridspec_kw=dict(hspace=0.3, wspace=0.5))"
   ]
  },
  {
   "cell_type": "markdown",
   "metadata": {},
   "source": [
    "Note that `hspace` and `wspace` are relative measures:"
   ]
  },
  {
   "cell_type": "code",
   "execution_count": null,
   "metadata": {},
   "outputs": [],
   "source": [
    "f, axes = plt.subplots(4, 3, gridspec_kw=dict(hspace=0.3, wspace=0.5))"
   ]
  },
  {
   "cell_type": "markdown",
   "metadata": {},
   "source": [
    "Alternatively, you can tell matplotlib to adjust the distances automatically. Note however, that this may not always work (or work as you wish)."
   ]
  },
  {
   "cell_type": "code",
   "execution_count": null,
   "metadata": {},
   "outputs": [],
   "source": [
    "f, axes = plt.subplots(2, 3)\n",
    "\n",
    "f.tight_layout()"
   ]
  },
  {
   "cell_type": "markdown",
   "metadata": {},
   "source": [
    "The axes can also share the x and y axis. This automatically removes the inner x and y ticks. Note that setting the  x or y limit for one axes adjusts them for all axes."
   ]
  },
  {
   "cell_type": "code",
   "execution_count": null,
   "metadata": {},
   "outputs": [],
   "source": [
    "f, axes = plt.subplots(2, 3, sharex=True, sharey=True)\n",
    "\n",
    "ax = axes[0, 0]\n",
    "\n",
    "ax.set_xlim(-0.5, 0.5)"
   ]
  },
  {
   "cell_type": "markdown",
   "metadata": {},
   "source": [
    "Note the x-axis.\n",
    "\n",
    "-\n",
    "\n",
    "If you have more than one column and more than one row of axes, `axes` is a 2D array."
   ]
  },
  {
   "cell_type": "code",
   "execution_count": null,
   "metadata": {},
   "outputs": [],
   "source": [
    "print(axes.shape)\n",
    "\n",
    "axes"
   ]
  },
  {
   "cell_type": "markdown",
   "metadata": {},
   "source": [
    "Let's see the order of the axes in the array:"
   ]
  },
  {
   "cell_type": "code",
   "execution_count": null,
   "metadata": {},
   "outputs": [],
   "source": [
    "f, axes = plt.subplots(2, 3, sharex=True, sharey=True)\n",
    "\n",
    "# axes are in a two-dimensional array, indexed by [row, col]\n",
    "for i in range(2):\n",
    "    for j in range(3):\n",
    "        axes[i, j].text(0.5, 0.5, str((i, j)), fontsize=16, ha='center', va='center')"
   ]
  },
  {
   "cell_type": "markdown",
   "metadata": {},
   "source": [
    "Because I don't find it very convenient to address the axes as `axes[i, j]` I often `flatten` them into a 1D array."
   ]
  },
  {
   "cell_type": "code",
   "execution_count": null,
   "metadata": {},
   "outputs": [],
   "source": [
    "f, axes = plt.subplots(2, 3, sharex=True, sharey=True)\n",
    "\n",
    "axes = axes.flatten()\n",
    "\n",
    "# axes are now in a one-dimensional array, indexed by [index]\n",
    "for i, ax in enumerate(axes):\n",
    "    ax.text(0.5, 0.5, '({})'.format(i), fontsize=16, ha='center', va='center')"
   ]
  },
  {
   "cell_type": "markdown",
   "metadata": {},
   "source": [
    "## `plt.axes` - adding axes by hand\n",
    "\n",
    "Axes can also be added by `plt.axes`. \n",
    "\n",
    "* `ax = plt.axes()`\n",
    "\n",
    "Using `ax = plt.axes()` creates the same axes object as `f, ax = plt.subplots(1, 1)`, but it does not return the figure handle (`f`). \n",
    "\n",
    "* `ax = plt.axes(rect)`\n",
    "\n",
    "With `ax = plt.axes(rect)` you can also specify the position of the new axes. The argument `rect` needs to have the form `rect = [left, bottom, width, height]`. The positions are given in the figure coordinate system, which ranges from 0 at the bottom left of the figure to 1 at the top right of the figure.\n",
    "\n",
    "So to create an inset at the top right corner we could for example do."
   ]
  },
  {
   "cell_type": "code",
   "execution_count": null,
   "metadata": {},
   "outputs": [],
   "source": [
    "ax1 = plt.axes()\n",
    "ax2 = plt.axes([0.6, 0.6, 0.27, 0.25])"
   ]
  },
  {
   "cell_type": "markdown",
   "metadata": {},
   "source": [
    "I mentioned this in the presentation: ax1 and ax2 are an instance of plt.Axes, but only ax1 is a Subplot."
   ]
  },
  {
   "cell_type": "code",
   "execution_count": null,
   "metadata": {},
   "outputs": [],
   "source": [
    "print(ax1, isinstance(ax1, plt.Axes), isinstance(ax1, plt.Subplot))\n",
    "print(ax2, '            ', isinstance(ax2, plt.Axes), isinstance(ax2, plt.Subplot))"
   ]
  },
  {
   "cell_type": "markdown",
   "metadata": {},
   "source": [
    "## `plt.Gridspec` - arbitrary grids\n",
    "\n",
    "If you need axes that are not all of the same size but are regular, i.e. may span several rows and/ or columns, you  can create them with `plt.Gridspec`. This is a 2-step proccess, you first need to create a grid by calling `grid = plt.GridSpec(nrows, ncols)` and then create the single axes with `plt.subplot`.\n"
   ]
  },
  {
   "cell_type": "code",
   "execution_count": null,
   "metadata": {},
   "outputs": [],
   "source": [
    "# create grid\n",
    "grid = plt.GridSpec(3, 3)\n",
    "\n",
    "ax1 = plt.subplot(grid[0, :])\n",
    "ax2 = plt.subplot(grid[1:3, :2])\n",
    "ax3 = plt.subplot(grid[1, 2]);\n",
    "ax4 = plt.subplot(grid[2, 2]);"
   ]
  },
  {
   "cell_type": "markdown",
   "metadata": {},
   "source": [
    "Here you can specify `hspace` and `wspace` directly: "
   ]
  },
  {
   "cell_type": "code",
   "execution_count": null,
   "metadata": {},
   "outputs": [],
   "source": [
    "# create grid\n",
    "grid = plt.GridSpec(3, 3, hspace=0.5, wspace=0.3)\n",
    "\n",
    "ax1 = plt.subplot(grid[0, :])\n",
    "ax2 = plt.subplot(grid[1:3, :2])\n",
    "ax3 = plt.subplot(grid[1, 2]);\n",
    "ax4 = plt.subplot(grid[2, 2]);"
   ]
  },
  {
   "cell_type": "markdown",
   "metadata": {},
   "source": [
    "`tight_layout` also works:"
   ]
  },
  {
   "cell_type": "code",
   "execution_count": null,
   "metadata": {},
   "outputs": [],
   "source": [
    "# create grid\n",
    "grid = plt.GridSpec(3, 3)\n",
    "\n",
    "ax1 = plt.subplot(grid[0, :])\n",
    "ax2 = plt.subplot(grid[1:3, :2])\n",
    "ax3 = plt.subplot(grid[1, 2]);\n",
    "ax4 = plt.subplot(grid[2, 2]);\n",
    "\n",
    "plt.tight_layout()\n"
   ]
  },
  {
   "cell_type": "markdown",
   "metadata": {},
   "source": [
    "## Exercises\n",
    "\n"
   ]
  },
  {
   "cell_type": "markdown",
   "metadata": {},
   "source": [
    "### Load Data\n",
    "\n",
    "We again use Station Data for Switzerland - Temperature & Precip, but this time not the climatology but the time series.\n",
    "\n",
    "The data is available from [MeteoSwiss](http://www.meteoswiss.admin.ch/home/climate/past/homogenous-monthly-data.html).\n",
    "\n",
    "The data has already been [retrieved and postprocessed](../data/prepare_data_MCH.ipynb)."
   ]
  },
  {
   "cell_type": "code",
   "execution_count": null,
   "metadata": {},
   "outputs": [],
   "source": [
    "import netCDF4 as nc\n",
    "\n",
    "import xarray as xr"
   ]
  },
  {
   "cell_type": "code",
   "execution_count": null,
   "metadata": {},
   "outputs": [],
   "source": [
    "def load_mch(station, annual=True):\n",
    "    fN = '../data/MCH_HOM_{}.nc'.format(station)\n",
    "    ds = xr.open_dataset(fN)\n",
    "    \n",
    "    if annual:\n",
    "        # create annual data\n",
    "        ds = ds.groupby('time.year').mean('time')\n",
    "\n",
    "    return ds\n",
    "    \n",
    "\n",
    "BAS = load_mch('BAS')\n",
    "BER = load_mch('BER')\n",
    "GSB = load_mch('GSB')\n",
    "DAV = load_mch('DAV')\n",
    "\n",
    "LUG_monthly = load_mch('LUG', False)\n",
    "ENG_monthly = load_mch('ENG', False)\n"
   ]
  },
  {
   "cell_type": "markdown",
   "metadata": {},
   "source": [
    "### Exercise\n",
    "\n",
    " * Create a grid of Axes with 4 rows and 1 column\n",
    " * If you want you can populate the axes with the annual mean temperature of four stations\n",
    "   > ax.plot(BAS.year, BAS.Temperature)\n",
    " * Loop through the axes to add `\"T [°C]\"` as ylabel.\n",
    " * add the station name as title (set loc='left')"
   ]
  },
  {
   "cell_type": "code",
   "execution_count": null,
   "metadata": {},
   "outputs": [],
   "source": [
    "# code here\n",
    "\n",
    "station_names = ('BAS', 'BER', 'GSB', 'DAV')\n",
    "\n",
    "# use this code to loop through the axes and station_names\n",
    "# for i, ax in enumerate(axes):\n",
    "#    station_names[i]\n"
   ]
  },
  {
   "cell_type": "markdown",
   "metadata": {},
   "source": [
    "### Solution"
   ]
  },
  {
   "cell_type": "code",
   "execution_count": null,
   "metadata": {
    "hide_input": true
   },
   "outputs": [],
   "source": [
    "f, axes = plt.subplots(4, 1, sharex=True)\n",
    "\n",
    "ax = axes[0]\n",
    "ax.plot(BAS.year, BAS.Temperature)\n",
    "\n",
    "ax = axes[1]\n",
    "ax.plot(BER.year, BER.Temperature)\n",
    "\n",
    "ax = axes[2]\n",
    "ax.plot(GSB.year, GSB.Temperature)\n",
    "\n",
    "ax = axes[3]\n",
    "ax.plot(DAV.year, DAV.Temperature)\n",
    "\n",
    "station_names = ('BAS', 'BER', 'GSB', 'DAV')\n",
    "\n",
    "for i, ax in enumerate(axes):\n",
    "    ax.set_ylabel(\"T [°C]\")\n",
    "\n",
    "    ax.set_title(station_names[i], loc='left')\n",
    "    \n",
    "    \n",
    "f.tight_layout()"
   ]
  },
  {
   "cell_type": "markdown",
   "metadata": {},
   "source": [
    "### Exercise\n",
    "Use the following code and\n",
    " * add an axes in the top left corner\n",
    " * add the data for the years 2000 to 2010 (`BAS_sel`)\n",
    " * test what happens if you use `f.tight_layout()`"
   ]
  },
  {
   "cell_type": "code",
   "execution_count": null,
   "metadata": {},
   "outputs": [],
   "source": [
    "f, axes = plt.subplots(1, 1, sharex=True)\n",
    "\n",
    "ax = axes\n",
    "ax.plot(BAS.year, BAS.Temperature)\n",
    "\n",
    "ax.set_ylim(None, 12.5)\n",
    "\n",
    "BAS_sel = BAS.sel(year=slice(2000, 2010))\n",
    "\n",
    "# code here\n"
   ]
  },
  {
   "cell_type": "markdown",
   "metadata": {},
   "source": [
    "### Solution"
   ]
  },
  {
   "cell_type": "code",
   "execution_count": null,
   "metadata": {
    "hide_input": true
   },
   "outputs": [],
   "source": [
    "f, axes = plt.subplots(1, 1, sharex=True)\n",
    "\n",
    "ax = axes\n",
    "ax.plot(BAS.year, BAS.Temperature)\n",
    "\n",
    "ax.set_ylim(None, 12.5)\n",
    "\n",
    "BAS_sel = BAS.sel(year=slice(2000, 2010))\n",
    "\n",
    "# code here\n",
    "\n",
    "ax2 = plt.axes([0.2, 0.65, 0.2, 0.20])\n",
    "\n",
    "ax2.plot(BAS_sel.year, BAS_sel.Temperature)\n",
    "\n",
    "# f.tight_layout()"
   ]
  },
  {
   "cell_type": "markdown",
   "metadata": {},
   "source": [
    "### Exercise\n",
    "\n",
    " * Use `plt.Gridspec` to create two axes, one that takes ~ 3/4 of the width and the other ~ 1/4\n",
    " * Bonus\n",
    "   * plot precipitation data time series of BAS in the left axes\n",
    "   * plot a histogram of the same data in the right axes (Hint: `ax1.hist(BAS.Precipitation, 10, orientation='horizontal', normed=True);`)"
   ]
  },
  {
   "cell_type": "code",
   "execution_count": null,
   "metadata": {},
   "outputs": [],
   "source": [
    "# code here"
   ]
  },
  {
   "cell_type": "markdown",
   "metadata": {},
   "source": [
    "### Solution"
   ]
  },
  {
   "cell_type": "code",
   "execution_count": null,
   "metadata": {
    "hide_input": true
   },
   "outputs": [],
   "source": [
    "f = plt.figure(figsize=(20 / 2.54, 8 / 2.54))\n",
    "\n",
    "# create grid\n",
    "grid = plt.GridSpec(1, 4)\n",
    "\n",
    "ax0 = plt.subplot(grid[0, :3])\n",
    "\n",
    "ax1 = plt.subplot(grid[0, 3])\n",
    "\n",
    "ax1.set_yticks([])\n",
    "\n",
    "ax0.plot(BAS.year, BAS.Precipitation)\n",
    "ax1.hist(BAS.Precipitation, 10, orientation='horizontal', normed=True);\n",
    "\n",
    "ax0.set_ylabel('Precipitation [mm]');\n",
    "\n",
    "ax0.set_xlabel('Year');\n",
    "ax1.set_xlabel('Probability [-]');"
   ]
  },
  {
   "cell_type": "markdown",
   "metadata": {},
   "source": [
    "### Bonus Exercise\n",
    "\n",
    " * Try to understand the following code:"
   ]
  },
  {
   "cell_type": "code",
   "execution_count": null,
   "metadata": {},
   "outputs": [],
   "source": [
    "# get data\n",
    "x = LUG_monthly.Temperature\n",
    "y = ENG_monthly.Temperature\n",
    "\n",
    "f = plt.figure(figsize=(15 / 2.54, 15 / 2.54))\n",
    "\n",
    "grid = plt.GridSpec(4, 4, hspace=0.5, wspace=0.5)\n",
    "\n",
    "main_ax = plt.subplot(grid[1:, :-1])\n",
    "\n",
    "y_hist = plt.subplot(grid[1:, -1], xticklabels=[], sharey=main_ax)\n",
    "x_hist = plt.subplot(grid[0, :-1], yticklabels=[], sharex=main_ax)\n",
    "\n",
    "main_ax.plot(x, y, '.')\n",
    "\n",
    "x_hist.hist(x, 30, histtype='stepfilled', orientation='vertical', color='0.7')\n",
    "y_hist.hist(y, 30, histtype='stepfilled', orientation='horizontal', color='0.7');\n",
    "\n",
    "main_ax.set_xlabel('T Lugano [°C]')\n",
    "main_ax.set_ylabel('T Engelberg [°C]');\n"
   ]
  },
  {
   "cell_type": "code",
   "execution_count": null,
   "metadata": {},
   "outputs": [],
   "source": []
  }
 ],
 "metadata": {
  "hide_input": false,
  "kernelspec": {
   "display_name": "Python 3",
   "language": "python",
   "name": "python3"
  },
  "language_info": {
   "codemirror_mode": {
    "name": "ipython",
    "version": 3
   },
   "file_extension": ".py",
   "mimetype": "text/x-python",
   "name": "python",
   "nbconvert_exporter": "python",
   "pygments_lexer": "ipython3",
   "version": "3.6.5"
  }
 },
 "nbformat": 4,
 "nbformat_minor": 2
}
