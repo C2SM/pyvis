{
 "cells": [
  {
   "cell_type": "markdown",
   "metadata": {},
   "source": [
    "# Introduction to matplotlib\n",
    "prepared by M.Hauser\n",
    "\n",
    "matplotlib is the main and most-used plotting library in python. Most other plotting libraries (or libraries providing dedicated/ specialized plotting functionalities) use matplotlib in their core."
   ]
  },
  {
   "cell_type": "markdown",
   "metadata": {},
   "source": [
    "## Importing matplotlib\n",
    "\n",
    "The standard abbreviation for matplotlib imports are `plt` for pyplot and `mpl` for matplotlib.\n"
   ]
  },
  {
   "cell_type": "code",
   "execution_count": null,
   "metadata": {},
   "outputs": [],
   "source": [
    "import matplotlib as mpl\n",
    "import matplotlib.pyplot as plt"
   ]
  },
  {
   "cell_type": "markdown",
   "metadata": {},
   "source": [
    "You will mostly use `plt`, which yields the api for most of the plotting functionality. Let's do a plot."
   ]
  },
  {
   "cell_type": "code",
   "execution_count": null,
   "metadata": {},
   "outputs": [],
   "source": [
    "import numpy as np\n",
    "\n",
    "x = np.arange(0, 10, 0.1)\n",
    "\n",
    "f, ax = plt.subplots()\n",
    "ax.plot(x, np.sin(x));"
   ]
  },
  {
   "cell_type": "markdown",
   "metadata": {},
   "source": [
    "This created a plot but did not show it.\n",
    "\n",
    "## How to display a figure\n",
    "\n",
    "In order to see the figure you created you need to tell your python session to show it. How you do this depends on the context you are programming in. There are three main ways you could be using python:\n",
    "\n",
    " * a jupyter notebook (formerly IPython notebook) - as we do in this course\n",
    " * an interactive IPython session\n",
    " * a (I)Python script\n",
    "\n",
    " \n",
    "Note that you will need to `import matplotlib.pyplot as plt` in all of them. "
   ]
  },
  {
   "cell_type": "markdown",
   "metadata": {},
   "source": [
    "### jupyter notebook\n",
    "\n",
    "jupyter allows you to directly embed graphics in the notebook. This can be achieved with:\n",
    "\n",
    " * `%matplotlib notebook` will create interactive plots\n",
    " * `%matplotlib inline` will create static plots\n",
    " \n",
    "While the interactive plots can be handy to inspect the data (zoom, pan), I experienced some difficulties with them, especially for map-plots. Therefore, we will use static plots in this course. This command will need to be executed once in each notebook."
   ]
  },
  {
   "cell_type": "code",
   "execution_count": null,
   "metadata": {},
   "outputs": [],
   "source": [
    "%matplotlib inline"
   ]
  },
  {
   "cell_type": "markdown",
   "metadata": {},
   "source": [
    "This will add a image of the figure you created:"
   ]
  },
  {
   "cell_type": "code",
   "execution_count": null,
   "metadata": {},
   "outputs": [],
   "source": [
    "x = np.arange(0, 10, 0.1)\n",
    "\n",
    "f, ax = plt.subplots()\n",
    "ax.plot(x, np.sin(x));"
   ]
  },
  {
   "cell_type": "markdown",
   "metadata": {},
   "source": [
    "### IPython session\n",
    "\n",
    "For interactive IPython sessions, the recommended command to allow displaying figures is calling `%matplotlib` at the beginning of the session. This will open a figure window each time a new one is created. The figure should update every time a new plotting command is issued. If it does not, you will need to call `plt.draw()`. You can try it out by opening a console.\n",
    "\n",
    "\n",
    "``` bash\n",
    "$ ipython\n",
    "```\n",
    "Python 3.5.4 ...\n",
    "\n",
    "``` ipython\n",
    "In [1]: %matplotlib\n",
    "Using matplotlib backend: Qt4Agg\n",
    "\n",
    "In [2]: import numpy as np\n",
    "\n",
    "In [3]: import matplotlib.pyplot as plt\n",
    "\n",
    "In [4]: x = np.arange(0, 10, 0.1)\n",
    "\n",
    "In [5]: f, ax = plt.subplots()\n",
    "\n",
    "In [6]: h = ax.plot(x, np.sin(x))\n",
    "\n",
    "...\n",
    "    \n",
    "```"
   ]
  },
  {
   "cell_type": "markdown",
   "metadata": {},
   "source": [
    "### Python script\n",
    "\n",
    "If you write a script you usually save the figure (see below) and view the resulting file. If you don't want to save the figure but you still want to see it, you need to issue a `plt.show()` command.\n",
    "\n",
    "\n",
    "``` python\n",
    "# ---- file: script.py\n",
    "\n",
    "import numpy as np\n",
    "import matplotlib.pyplot as plt\n",
    "\n",
    "x = np.arange(0, 10, 0.1)\n",
    "\n",
    "f, ax = plt.subplots()\n",
    "ax.plot(x, np.sin(x))\n",
    "\n",
    "plt.show()\n",
    "```"
   ]
  },
  {
   "cell_type": "markdown",
   "metadata": {},
   "source": [
    "## Saving figures\n",
    "\n",
    "matplotlib can save figures to a large number of formats. You use the `f.savefig` command to do so (where `f`  is a figure handle) alternatively `plt.savefig` also works. The format of the figure is inferred from the file name. \n",
    "\n",
    "Note\n",
    "> Even in the jupyter notebooks you will still need to manually save all figures that you want to have as a pdf, png, ... \n"
   ]
  },
  {
   "cell_type": "code",
   "execution_count": null,
   "metadata": {},
   "outputs": [],
   "source": [
    "# save as pdf\n",
    "\n",
    "x = np.arange(0, 10, 0.1)\n",
    "\n",
    "f, ax = plt.subplots()\n",
    "ax.plot(x, np.sin(x));\n",
    "\n",
    "f.savefig('figure.pdf')"
   ]
  },
  {
   "cell_type": "markdown",
   "metadata": {},
   "source": [
    "> The following may not work in Windows - just have a look at the current folder."
   ]
  },
  {
   "cell_type": "code",
   "execution_count": null,
   "metadata": {},
   "outputs": [],
   "source": [
    "! ls figure.pdf"
   ]
  },
  {
   "cell_type": "code",
   "execution_count": null,
   "metadata": {},
   "outputs": [],
   "source": [
    "# save as png\n",
    "f.savefig('figure.png')"
   ]
  },
  {
   "cell_type": "code",
   "execution_count": null,
   "metadata": {},
   "outputs": [],
   "source": [
    "# adjusting the resolution \n",
    "f.savefig('figure_300.png', dpi=300)"
   ]
  },
  {
   "cell_type": "markdown",
   "metadata": {},
   "source": [
    "> The following may not work in Windows - just have a look at the current folder."
   ]
  },
  {
   "cell_type": "code",
   "execution_count": null,
   "metadata": {},
   "outputs": [],
   "source": [
    "# check out the figures size\n",
    "\n",
    "! ls -lh figure*.png"
   ]
  },
  {
   "cell_type": "markdown",
   "metadata": {},
   "source": [
    "The following filetypes are supported on this system:"
   ]
  },
  {
   "cell_type": "code",
   "execution_count": null,
   "metadata": {},
   "outputs": [],
   "source": [
    "f.canvas.get_supported_filetypes()"
   ]
  },
  {
   "cell_type": "markdown",
   "metadata": {},
   "source": [
    "## adjusting the figure size\n",
    "\n",
    "The figure size can be set in various ways. I usually use `f.set_size_inches(width, height)`. There is no `f.set_size_cm`..., so I divide my desired figure size in cm by 2.54.\n",
    "\n",
    "Per default a figure is 6 x 4 inches (15.24 x 10.16 cm)."
   ]
  },
  {
   "cell_type": "code",
   "execution_count": null,
   "metadata": {},
   "outputs": [],
   "source": [
    "f, ax = plt.subplots()\n",
    "\n",
    "print('Default size:', f.get_size_inches() * 2.54)\n",
    "\n",
    "f.set_size_inches(10 / 2.54, 5 / 2.54)\n",
    "\n",
    "ax.plot(x, np.sin(x));\n",
    "\n",
    "print('Manually set size:', f.get_size_inches() * 2.54)"
   ]
  },
  {
   "cell_type": "markdown",
   "metadata": {},
   "source": [
    "## Changing the figure size in `jupyter notebook`\n",
    "\n",
    "You can change the size of the figures displayed in the jupyter notebook by adapting the default dpi of the `savefig` command:"
   ]
  },
  {
   "cell_type": "code",
   "execution_count": null,
   "metadata": {},
   "outputs": [],
   "source": [
    "# let's get the default\n",
    "default_dpi = mpl.rcParams['figure.dpi']\n",
    "default_dpi"
   ]
  },
  {
   "cell_type": "code",
   "execution_count": null,
   "metadata": {},
   "outputs": [],
   "source": [
    "f, ax = plt.subplots()\n",
    "ax.plot(x, np.sin(x));"
   ]
  },
  {
   "cell_type": "code",
   "execution_count": null,
   "metadata": {},
   "outputs": [],
   "source": [
    "# you may have to execute this cell twice\n",
    "mpl.rcParams['figure.dpi'] = 150"
   ]
  },
  {
   "cell_type": "code",
   "execution_count": null,
   "metadata": {},
   "outputs": [],
   "source": [
    "f, ax = plt.subplots()\n",
    "ax.plot(x, np.sin(x));"
   ]
  }
 ],
 "metadata": {
  "kernelspec": {
   "display_name": "Python 3",
   "language": "python",
   "name": "python3"
  },
  "language_info": {
   "codemirror_mode": {
    "name": "ipython",
    "version": 3
   },
   "file_extension": ".py",
   "mimetype": "text/x-python",
   "name": "python",
   "nbconvert_exporter": "python",
   "pygments_lexer": "ipython3",
   "version": "3.5.4"
  }
 },
 "nbformat": 4,
 "nbformat_minor": 2
}
