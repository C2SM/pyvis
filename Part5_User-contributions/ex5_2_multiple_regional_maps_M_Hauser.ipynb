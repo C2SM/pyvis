{
 "cells": [
  {
   "cell_type": "markdown",
   "metadata": {},
   "source": [
    "# Exercise 5.2 - multiple map plot (M. Hauser)\n",
    "\n",
    "prepared by M.Hauser\n",
    "\n",
    "Here, we want to create a plot with multiple regional maps. For this, we will reproduce one of my old plots (Philip et al., [2017](https://link.springer.com/article/10.1007/s00382-017-3759-x), Figure 7).\n",
    "\n",
    "<img src=\"../figures/ex5_multiple_regional_maps_M_Hauser.png\"  width=\"500\">\n",
    "\n",
    "It shows two land-atmosphere coupling metrics ($\\pi$ and VAC), as well as the anomalies (in standard deviation) of the sensible heat flux minus potential sensible heat flux  (H'−H'p), temperature anomaly (T') and the latent heat flux anomaly (LH') of a high temperature event in 2015 in the Western US.\n",
    "\n",
    "## Import Modules"
   ]
  },
  {
   "cell_type": "code",
   "execution_count": null,
   "metadata": {},
   "outputs": [],
   "source": [
    "import cartopy.crs as ccrs\n",
    "import cartopy.feature as cfeature\n",
    "import matplotlib.pyplot as plt\n",
    "import numpy as np\n",
    "import xarray as xr"
   ]
  },
  {
   "cell_type": "code",
   "execution_count": null,
   "metadata": {},
   "outputs": [],
   "source": [
    "import mplotutils as mpu"
   ]
  },
  {
   "cell_type": "markdown",
   "metadata": {},
   "source": [
    "## Load Data"
   ]
  },
  {
   "cell_type": "code",
   "execution_count": null,
   "metadata": {},
   "outputs": [],
   "source": [
    "fN = \"./../data/VAC_2015_06.nc\"\n",
    "\n",
    "ds = xr.open_dataset(fN)\n",
    "\n",
    "# rename T to TS (because T also stands for 'transpose')\n",
    "ds = ds.rename(T=\"TS\")\n",
    "\n",
    "# VAC has values everywhere, put NaN where necessary\n",
    "ds = ds.assign(VAC=ds.VAC.where(~np.isnan(ds.TS)))\n",
    "\n",
    "ds"
   ]
  },
  {
   "cell_type": "markdown",
   "metadata": {},
   "source": [
    "`pi` and `VAC` are land-atmosphere coupling metrics, `LH` the latent heat flux, `TS` (surface) temperature, `h` the difference between the sensible heat flux (`SH`) and the potential sensible heat flux (`SHp`)"
   ]
  },
  {
   "cell_type": "markdown",
   "metadata": {},
   "source": [
    "## Load Natural Earth Data\n",
    "\n",
    "This is used later to indicate the US states and country borders."
   ]
  },
  {
   "cell_type": "code",
   "execution_count": null,
   "metadata": {},
   "outputs": [],
   "source": [
    "states = cfeature.NaturalEarthFeature(\n",
    "    \"cultural\", \"admin_1_states_provinces_lakes\", \"50m\"\n",
    ")\n",
    "border = cfeature.NaturalEarthFeature(\"cultural\", \"admin_0_countries\", \"50m\")"
   ]
  },
  {
   "cell_type": "markdown",
   "metadata": {},
   "source": [
    "## Plot Maps\n",
    "\n",
    "### Exercise\n",
    "* create a grid of 1 x 5 maps with a Lambert Conformal projection\n",
    "* for all axes (use a loop)\n",
    "  * set the extent to `[-122, -115, 30, 50]`\n",
    "  * add the States and the Countries (`states` and `border`) with `add_feature`, set no `facecolor` and a gray `edgecolor`"
   ]
  },
  {
   "cell_type": "code",
   "execution_count": null,
   "metadata": {},
   "outputs": [],
   "source": [
    "# code here\n",
    "# f, axs =\n",
    "\n",
    "# for ax in axs:\n",
    "#     ax.set_extent(...)\n",
    "#     ax.add_feature(...)\n",
    "#     ax.add_feature(...)"
   ]
  },
  {
   "cell_type": "markdown",
   "metadata": {},
   "source": [
    "### Solution"
   ]
  },
  {
   "cell_type": "code",
   "execution_count": null,
   "metadata": {
    "hide_input": true
   },
   "outputs": [],
   "source": [
    "f, axs = plt.subplots(1, 5, subplot_kw=dict(projection=ccrs.LambertConformal()))\n",
    "\n",
    "for ax in axs:\n",
    "\n",
    "    ax.set_extent([-122, -115, 30, 50], ccrs.PlateCarree())\n",
    "\n",
    "    ax.add_feature(states, facecolor=\"none\", edgecolor=\"0.5\")\n",
    "    ax.add_feature(border, facecolor=\"none\", edgecolor=\"0.5\")"
   ]
  },
  {
   "cell_type": "markdown",
   "metadata": {},
   "source": [
    "## Continuous-color-plots\n",
    "\n",
    "Let's plot the maps with non-discrete colormaps\n",
    "\n",
    "### Exercise\n",
    "\n",
    "* plot the data using the _xarray_ interface\n",
    "  * `axs[0]` -> plot `ds.pi`\n",
    "  * `axs[2]` -> plot `ds.h`\n",
    "  * `axs[3]` -> plot `ds.TS`\n",
    "  * `axs[4]` -> plot `ds.LH`\n",
    "* choose colormaps (`cmap`, see [colorbrewer](http://colorbrewer2.org)) and the data range (`vmin`, `vmax`) "
   ]
  },
  {
   "cell_type": "code",
   "execution_count": null,
   "metadata": {},
   "outputs": [],
   "source": [
    "f, axs = plt.subplots(1, 5, subplot_kw=dict(projection=ccrs.LambertConformal()))\n",
    "\n",
    "for ax in axs:\n",
    "\n",
    "    ax.set_extent([-122, -115, 30, 50], ccrs.PlateCarree())\n",
    "\n",
    "    ax.add_feature(states, facecolor=\"none\", edgecolor=\"0.5\")\n",
    "    ax.add_feature(border, facecolor=\"none\", edgecolor=\"0.5\")\n",
    "\n",
    "\n",
    "ax = axs[0]\n",
    "# ds.pi.pcolormesh(ax=ax, ...)\n",
    "\n",
    "# ..."
   ]
  },
  {
   "cell_type": "markdown",
   "metadata": {},
   "source": [
    "### Solution"
   ]
  },
  {
   "cell_type": "code",
   "execution_count": null,
   "metadata": {
    "hide_input": true
   },
   "outputs": [],
   "source": [
    "f, axs = plt.subplots(1, 5, subplot_kw=dict(projection=ccrs.LambertConformal()))\n",
    "\n",
    "for ax in axs:\n",
    "    ax.set_extent([-122, -115, 30, 50], ccrs.PlateCarree())\n",
    "\n",
    "    ax.add_feature(states, facecolor=\"none\", edgecolor=\"0.5\")\n",
    "    ax.add_feature(border, facecolor=\"none\", edgecolor=\"0.5\")\n",
    "\n",
    "ax = axs[0]\n",
    "ds.pi.plot.pcolormesh(\n",
    "    ax=ax,\n",
    "    cmap=\"Reds_r\",\n",
    "    vmin=0,\n",
    "    vmax=2,\n",
    "    transform=ccrs.PlateCarree(),\n",
    "    add_colorbar=False,\n",
    ")\n",
    "\n",
    "ax = axs[2]\n",
    "ds.h.plot(\n",
    "    ax=ax,\n",
    "    cmap=\"RdBu_r\",\n",
    "    vmin=-2,\n",
    "    vmax=2,\n",
    "    transform=ccrs.PlateCarree(),\n",
    "    add_colorbar=False,\n",
    ")\n",
    "\n",
    "\n",
    "ax = axs[3]\n",
    "ds.TS.plot(\n",
    "    ax=ax,\n",
    "    cmap=\"RdBu_r\",\n",
    "    vmin=-2,\n",
    "    vmax=2,\n",
    "    transform=ccrs.PlateCarree(),\n",
    "    add_colorbar=False,\n",
    ")\n",
    "\n",
    "\n",
    "ax = axs[4]\n",
    "ds.LH.plot(\n",
    "    ax=ax,\n",
    "    cmap=\"RdBu_r\",\n",
    "    vmin=-2,\n",
    "    vmax=2,\n",
    "    transform=ccrs.PlateCarree(),\n",
    "    add_colorbar=False,\n",
    ")"
   ]
  },
  {
   "cell_type": "markdown",
   "metadata": {},
   "source": [
    "## Plotting VAC\n",
    "\n",
    "VAC comes in four categories (a, b, c, d) with two levels each. It is encoded with numbers from 0 to 8:\n",
    "\n",
    "* 0: No category\n",
    "* 1: a, small\n",
    "* 2: a, large\n",
    "* 3: b, small\n",
    "* ...\n",
    "* 8: d, small\n",
    "\n",
    "### Exercise\n",
    "* plot `da.VAC`\n",
    "\n",
    "> Create levels such that the break is in the middle of the category/ level change. Then use `from_levels_and_colors` to create a new colormap (`cmap`) and norm from `levels` and `colors`.\n",
    "\n",
    "> The colors used below stem from the following colormap on colorbrewer: https://colorbrewer2.org/#type=qualitative&scheme=Paired&n=8\n"
   ]
  },
  {
   "cell_type": "code",
   "execution_count": null,
   "metadata": {},
   "outputs": [],
   "source": [
    "from matplotlib.colors import from_levels_and_colors"
   ]
  },
  {
   "cell_type": "code",
   "execution_count": null,
   "metadata": {},
   "outputs": [],
   "source": [
    "colors = [\n",
    "    \"#a6cee3\",\n",
    "    \"#1f78b4\",\n",
    "    \"#fdbf6f\",\n",
    "    \"#ff7f00\",\n",
    "    \"#fb9a99\",\n",
    "    \"#e31a1c\",\n",
    "    \"#b2df8a\",\n",
    "    \"#33a02c\",\n",
    "]"
   ]
  },
  {
   "cell_type": "code",
   "execution_count": null,
   "metadata": {},
   "outputs": [],
   "source": [
    "f, ax = plt.subplots(1, 1, subplot_kw=dict(projection=ccrs.LambertConformal()))\n",
    "ax.set_extent([-122, -115, 30, 50], ccrs.PlateCarree())\n",
    "ax.add_feature(states, facecolor=\"none\", edgecolor=\"0.5\")\n",
    "ax.add_feature(border, facecolor=\"none\", edgecolor=\"0.5\")\n",
    "\n",
    "# levels = np.arange(...)\n",
    "# cmap, norm = from_levels_and_colors(levels, colors=colors)\n",
    "h = ds.VAC.plot(\n",
    "    ax=ax,\n",
    "    transform=ccrs.PlateCarree(),\n",
    "    add_colorbar=False,\n",
    "    extend=\"neither\",\n",
    "    vmax=8.5,\n",
    "    vmin=0.5,\n",
    ")\n",
    "\n",
    "# colorbar\n",
    "cbar = mpu.colorbar(h, ax, orientation=\"horizontal\", pad=0.05, size=0.05)\n",
    "cbar.set_ticks([1.5, 3.5, 5.5, 7.5])\n",
    "cbar.set_ticklabels([\"a\", \"b\", \"c\", \"d\"])"
   ]
  },
  {
   "cell_type": "markdown",
   "metadata": {},
   "source": [
    "### Solution"
   ]
  },
  {
   "cell_type": "code",
   "execution_count": null,
   "metadata": {
    "hide_input": true
   },
   "outputs": [],
   "source": [
    "f, ax = plt.subplots(1, 1, subplot_kw=dict(projection=ccrs.LambertConformal()))\n",
    "ax.set_extent([-122, -115, 30, 50], ccrs.PlateCarree())\n",
    "ax.add_feature(states, facecolor=\"none\", edgecolor=\"0.5\")\n",
    "ax.add_feature(border, facecolor=\"none\", edgecolor=\"0.5\")\n",
    "\n",
    "levels = np.arange(0.5, 9.5, 1)\n",
    "cmap, norm = from_levels_and_colors(levels, colors=colors)\n",
    "h = ds.VAC.plot(\n",
    "    ax=ax,\n",
    "    cmap=cmap,\n",
    "    levels=levels,\n",
    "    transform=ccrs.PlateCarree(),\n",
    "    add_colorbar=False,\n",
    "    extend=\"neither\",\n",
    ")\n",
    "\n",
    "# colorbar\n",
    "cbar = mpu.colorbar(h, ax, orientation=\"horizontal\", pad=0.05, size=0.05)\n",
    "cbar.set_ticks([1.5, 3.5, 5.5, 7.5])\n",
    "cbar.set_ticklabels([\"a\", \"b\", \"c\", \"d\"])"
   ]
  },
  {
   "cell_type": "markdown",
   "metadata": {},
   "source": [
    "## Colorbars\n",
    "\n",
    "The next step is to copy the code from the plotting of VAC back to the other code. I have done that for you. I have also gathered some of the common options into dictionaries. So you can now create and add the colorbars. The one for VAC is already copied in.\n",
    "\n",
    "### Exercise\n",
    "\n",
    "* add colorbars for axes 0, and 2 to 4\n",
    "* use `mpu.colorbar`; you will need to set `size` `pad`, `orientation`"
   ]
  },
  {
   "cell_type": "code",
   "execution_count": null,
   "metadata": {},
   "outputs": [],
   "source": [
    "opt = dict(transform=ccrs.PlateCarree(), add_colorbar=False)\n",
    "\n",
    "opt_anom = dict(\n",
    "    cmap=\"RdBu_r\", vmin=-2, vmax=2, transform=ccrs.PlateCarree(), add_colorbar=False\n",
    ")\n",
    "\n",
    "# ====================\n",
    "# create axes\n",
    "\n",
    "f, axs = plt.subplots(1, 5, subplot_kw=dict(projection=ccrs.LambertConformal()))\n",
    "\n",
    "for ax in axs:\n",
    "    ax.set_extent([-122, -115, 30, 50], ccrs.PlateCarree())\n",
    "\n",
    "    ax.add_feature(states, facecolor=\"none\", edgecolor=\"0.5\")\n",
    "    ax.add_feature(border, facecolor=\"none\", edgecolor=\"0.5\")\n",
    "\n",
    "# ====================\n",
    "# plot data\n",
    "\n",
    "ax = axs[0]\n",
    "h0 = ds.pi.plot.pcolormesh(ax=ax, cmap=\"Reds_r\", vmin=0, vmax=2, **opt)\n",
    "\n",
    "ax = axs[1]\n",
    "levels = np.arange(0.5, 9.5, 1)\n",
    "cmap, norm = from_levels_and_colors(levels, colors=colors)\n",
    "h1 = ds.VAC.plot(ax=ax, cmap=cmap, levels=levels, extend=\"neither\", **opt)\n",
    "\n",
    "ax = axs[2]\n",
    "h2 = ds.h.plot(ax=ax, **opt_anom)\n",
    "\n",
    "\n",
    "ax = axs[3]\n",
    "h3 = ds.TS.plot(ax=ax, **opt_anom)\n",
    "\n",
    "\n",
    "ax = axs[4]\n",
    "h4 = ds.LH.plot(ax=ax, **opt_anom)\n",
    "\n",
    "# ====================\n",
    "# add colorbars\n",
    "\n",
    "cbar = mpu.colorbar(h1, axs[1], size=0.04, pad=0.05, orientation=\"horizontal\")\n",
    "cbar.set_ticks([1.5, 3.5, 5.5, 7.5])\n",
    "cbar.set_ticklabels([\"a\", \"b\", \"c\", \"d\"])"
   ]
  },
  {
   "cell_type": "markdown",
   "metadata": {},
   "source": [
    "### Solution"
   ]
  },
  {
   "cell_type": "code",
   "execution_count": null,
   "metadata": {
    "hide_input": true
   },
   "outputs": [],
   "source": [
    "opt = dict(transform=ccrs.PlateCarree(), add_colorbar=False)\n",
    "\n",
    "opt_anom = dict(\n",
    "    cmap=\"RdBu_r\", vmin=-2, vmax=2, transform=ccrs.PlateCarree(), add_colorbar=False\n",
    ")\n",
    "\n",
    "# ====================\n",
    "# create axes\n",
    "\n",
    "f, axs = plt.subplots(1, 5, subplot_kw=dict(projection=ccrs.LambertConformal()))\n",
    "\n",
    "for ax in axs:\n",
    "    ax.set_extent([-122, -115, 30, 50], ccrs.PlateCarree())\n",
    "\n",
    "    ax.add_feature(states, facecolor=\"none\", edgecolor=\"0.5\")\n",
    "    ax.add_feature(border, facecolor=\"none\", edgecolor=\"0.5\")\n",
    "\n",
    "# ====================\n",
    "# plot data\n",
    "\n",
    "ax = axs[0]\n",
    "h0 = ds.pi.plot.pcolormesh(ax=ax, cmap=\"Reds_r\", vmin=0, vmax=2, **opt)\n",
    "\n",
    "ax = axs[1]\n",
    "levels = np.arange(0.5, 9.5, 1)\n",
    "cmap, norm = from_levels_and_colors(levels, colors=colors)\n",
    "h1 = ds.VAC.plot(ax=ax, cmap=cmap, levels=levels, extend=\"neither\", **opt)\n",
    "\n",
    "ax = axs[2]\n",
    "h2 = ds.h.plot(ax=ax, **opt_anom)\n",
    "\n",
    "\n",
    "ax = axs[3]\n",
    "h3 = ds.TS.plot(ax=ax, **opt_anom)\n",
    "\n",
    "\n",
    "ax = axs[4]\n",
    "h4 = ds.LH.plot(ax=ax, **opt_anom)\n",
    "\n",
    "# ====================\n",
    "# add colorbars\n",
    "\n",
    "cbar = mpu.colorbar(h0, axs[0], size=0.04, pad=0.05, orientation=\"horizontal\")\n",
    "cbar.set_ticks(np.arange(0, 2.1, 1))\n",
    "\n",
    "cbar = mpu.colorbar(h1, axs[1], size=0.04, pad=0.05, orientation=\"horizontal\")\n",
    "cbar.set_ticks([1.5, 3.5, 5.5, 7.5])\n",
    "cbar.set_ticklabels([\"a\", \"b\", \"c\", \"d\"])\n",
    "\n",
    "cbar = mpu.colorbar(h2, axs[2], axs[-1], size=0.04, pad=0.05, orientation=\"horizontal\")\n",
    "cbar.set_ticks(np.arange(-2, 2.1, 0.5))"
   ]
  },
  {
   "cell_type": "markdown",
   "metadata": {},
   "source": [
    "## Labels and gridlines\n",
    "\n",
    "### Exercise\n",
    "\n",
    "* add labels for the plot ('a,' 'b', 'c'), as a title (`loc='left'`)\n",
    "* add the following titles\n",
    "  * `axs[0]` -> \"$\\pi$\"\n",
    "  * `axs[1]` -> \"VAC\"\n",
    "  * `axs[2]` -> \"SH' - SHp'\"\n",
    "  * `axs[3]` -> \"T'\"\n",
    "  * `axs[4]` -> \"LH'\"\n",
    "* add gridlines using `ax.gridlines` (4° is a good grid distance)"
   ]
  },
  {
   "cell_type": "code",
   "execution_count": null,
   "metadata": {},
   "outputs": [],
   "source": [
    "opt = dict(transform=ccrs.PlateCarree(), add_colorbar=False)\n",
    "\n",
    "opt_anom = dict(\n",
    "    cmap=\"RdBu_r\", vmin=-2, vmax=2, transform=ccrs.PlateCarree(), add_colorbar=False\n",
    ")\n",
    "\n",
    "# ====================\n",
    "# create axes\n",
    "\n",
    "f, axs = plt.subplots(1, 5, subplot_kw=dict(projection=ccrs.LambertConformal()))\n",
    "\n",
    "for ax in axs:\n",
    "    ax.set_extent([-122, -115, 30, 50], ccrs.PlateCarree())\n",
    "\n",
    "    ax.add_feature(states, facecolor=\"none\", edgecolor=\"0.5\")\n",
    "    ax.add_feature(border, facecolor=\"none\", edgecolor=\"0.5\")\n",
    "\n",
    "# ====================\n",
    "# plot data\n",
    "\n",
    "ax = axs[0]\n",
    "h0 = ds.pi.plot.pcolormesh(ax=ax, cmap=\"Reds_r\", vmin=0, vmax=2, **opt)\n",
    "\n",
    "ax = axs[1]\n",
    "levels = np.arange(0.5, 9.5, 1)\n",
    "cmap, norm = from_levels_and_colors(levels, colors=colors)\n",
    "h1 = ds.VAC.plot(ax=ax, cmap=cmap, levels=levels, extend=\"neither\", **opt)\n",
    "\n",
    "ax = axs[2]\n",
    "h2 = ds.h.plot(ax=ax, **opt_anom)\n",
    "\n",
    "\n",
    "ax = axs[3]\n",
    "h3 = ds.TS.plot(ax=ax, **opt_anom)\n",
    "\n",
    "\n",
    "ax = axs[4]\n",
    "h4 = ds.LH.plot(ax=ax, **opt_anom)\n",
    "\n",
    "# ====================\n",
    "# add colorbars\n",
    "\n",
    "cbar = mpu.colorbar(h0, axs[0], size=0.04, pad=0.05, orientation=\"horizontal\")\n",
    "cbar.set_ticks(np.arange(0, 2.1, 1))\n",
    "\n",
    "cbar = mpu.colorbar(h1, axs[1], size=0.04, pad=0.05, orientation=\"horizontal\")\n",
    "cbar.set_ticks([1.5, 3.5, 5.5, 7.5])\n",
    "cbar.set_ticklabels([\"a\", \"b\", \"c\", \"d\"])\n",
    "\n",
    "cbar = mpu.colorbar(h2, axs[2], axs[-1], size=0.04, pad=0.05, orientation=\"horizontal\")\n",
    "cbar.set_ticks(np.arange(-2, 2.1, 0.5))\n",
    "\n",
    "# ====================\n",
    "# add labels\n",
    "\n",
    "\n",
    "# ====================\n",
    "# add gridlines"
   ]
  },
  {
   "cell_type": "markdown",
   "metadata": {},
   "source": [
    "## Solution / Final Figure"
   ]
  },
  {
   "cell_type": "code",
   "execution_count": null,
   "metadata": {
    "hide_input": true
   },
   "outputs": [],
   "source": [
    "opt = dict(transform=ccrs.PlateCarree(), add_colorbar=False)\n",
    "\n",
    "opt_anom = dict(\n",
    "    cmap=\"RdBu_r\", vmin=-2, vmax=2, transform=ccrs.PlateCarree(), add_colorbar=False\n",
    ")\n",
    "\n",
    "# ====================\n",
    "# create axes\n",
    "\n",
    "f, axs = plt.subplots(1, 5, subplot_kw=dict(projection=ccrs.LambertConformal()))\n",
    "\n",
    "for ax in axs:\n",
    "    ax.set_extent([-122, -115, 30, 50], ccrs.PlateCarree())\n",
    "\n",
    "    ax.add_feature(states, facecolor=\"none\", edgecolor=\"0.5\")\n",
    "    ax.add_feature(border, facecolor=\"none\", edgecolor=\"0.5\")\n",
    "\n",
    "# ====================\n",
    "# plot data\n",
    "\n",
    "ax = axs[0]\n",
    "h0 = ds.pi.plot.pcolormesh(ax=ax, cmap=\"Reds_r\", vmin=0, vmax=2, **opt)\n",
    "\n",
    "ax = axs[1]\n",
    "levels = np.arange(0.5, 9.5, 1)\n",
    "cmap, norm = from_levels_and_colors(levels, colors=colors)\n",
    "h1 = ds.VAC.plot(ax=ax, cmap=cmap, levels=levels, extend=\"neither\", **opt)\n",
    "\n",
    "ax = axs[2]\n",
    "h2 = ds.h.plot(ax=ax, **opt_anom)\n",
    "\n",
    "\n",
    "ax = axs[3]\n",
    "h3 = ds.TS.plot(ax=ax, **opt_anom)\n",
    "\n",
    "\n",
    "ax = axs[4]\n",
    "h4 = ds.LH.plot(ax=ax, **opt_anom)\n",
    "\n",
    "# ====================\n",
    "# add colorbars\n",
    "\n",
    "cbar = mpu.colorbar(h0, axs[0], size=0.04, pad=0.05, orientation=\"horizontal\")\n",
    "cbar.set_ticks(np.arange(0, 2.1, 1))\n",
    "\n",
    "cbar = mpu.colorbar(h1, axs[1], size=0.04, pad=0.05, orientation=\"horizontal\")\n",
    "cbar.set_ticks([1.5, 3.5, 5.5, 7.5])\n",
    "cbar.set_ticklabels([\"a\", \"b\", \"c\", \"d\"])\n",
    "\n",
    "cbar = mpu.colorbar(h2, axs[2], axs[-1], size=0.04, pad=0.05, orientation=\"horizontal\")\n",
    "cbar.set_ticks(np.arange(-2, 2.1, 0.5))\n",
    "\n",
    "# ====================\n",
    "# add labels\n",
    "\n",
    "lbl = \"abcde\"\n",
    "for i, ax in enumerate(axs):\n",
    "    ax.set_title(f\"({lbl[i]})\", loc=\"left\")\n",
    "\n",
    "axs[0].set_title(r\"$\\pi$\")\n",
    "axs[1].set_title(\"VAC\")\n",
    "axs[2].set_title(\"\")\n",
    "axs[2].set_title(\"SH' - SHp'\", loc=\"right\")\n",
    "axs[3].set_title(\"T'\")\n",
    "axs[4].set_title(\"LH'\")\n",
    "\n",
    "# ====================\n",
    "# add gridlines\n",
    "\n",
    "lon = np.arange(-200, -100, 4)\n",
    "lat = np.arange(10, 86, 4)\n",
    "\n",
    "for ax in axs:\n",
    "    gl = ax.gridlines(ylocs=lat, xlocs=lon, color=\"0.5\", alpha=0.5)\n",
    "\n",
    "\n",
    "# ====================\n",
    "# format the figure\n",
    "\n",
    "f.subplots_adjust(left=0.025, right=0.975, bottom=0.2)\n",
    "mpu.set_map_layout(ax, 17)\n",
    "\n",
    "# plt.savefig('ex5_multiple_regional_maps_M_Hauser.png', dpi=300)"
   ]
  }
 ],
 "metadata": {
  "hide_input": false,
  "kernelspec": {
   "display_name": "Python [conda env:pyvis]",
   "language": "python",
   "name": "conda-env-pyvis-py"
  },
  "language_info": {
   "codemirror_mode": {
    "name": "ipython",
    "version": 3
   },
   "file_extension": ".py",
   "mimetype": "text/x-python",
   "name": "python",
   "nbconvert_exporter": "python",
   "pygments_lexer": "ipython3",
   "version": "3.11.0"
  },
  "vscode": {
   "interpreter": {
    "hash": "767d51c1340bd893661ea55ea3124f6de3c7a262a8b4abca0554b478b1e2ff90"
   }
  }
 },
 "nbformat": 4,
 "nbformat_minor": 4
}
