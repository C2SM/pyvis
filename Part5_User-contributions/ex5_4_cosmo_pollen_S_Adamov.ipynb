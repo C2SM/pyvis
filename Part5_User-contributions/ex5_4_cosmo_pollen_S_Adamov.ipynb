{
 "cells": [
  {
   "cell_type": "markdown",
   "id": "7ce2a28b",
   "metadata": {},
   "source": [
    "# Exercise 5.4: User Contribution: pollen concentration\n",
    "prepared by A. Lauber\n",
    "\n",
    "An example plot made by Simon Adamov using [iconarray](https://github.com/C2SM/iconarray)\n",
    "\n",
    "<img src=\"../figures/ex5_cosmo_pollen.png\"  width=\"500\">\n",
    "\n",
    "It shows pollen concentrations over the Alps on the 15th of February 2020 at 8 o'clock in the evening. Displayed are hourly Alder (Alnus) pollen concentration averages. The field is produced by the COSMO-1E weather model, on the typical COSMO-1E domain over the greater alpine area. The visible layer corresponds to the lowest model layer (i.e. the layer closest to the surface). Such data is used at MeteoSwiss to provide the animated pollen maps in the MeteoSwiss-App. These plots with iconarray are used for scientific presentations and visual verification of machine learning models for pollen forecasting.\n",
    "\n",
    "\n",
    "## Import modules"
   ]
  },
  {
   "cell_type": "code",
   "execution_count": null,
   "id": "beac440c",
   "metadata": {},
   "outputs": [],
   "source": [
    "import urllib.request\n",
    "import numpy as np\n",
    "import psyplot.project as psy\n",
    "import iconarray\n",
    "\n",
    "%matplotlib inline\n",
    "%config InlineBackend.close_figures = False\n",
    "psy.rcParams[\"auto_show\"] = True"
   ]
  },
  {
   "cell_type": "markdown",
   "id": "2bf26b29",
   "metadata": {},
   "source": [
    "## Download data"
   ]
  },
  {
   "cell_type": "code",
   "execution_count": null,
   "id": "00008092",
   "metadata": {},
   "outputs": [],
   "source": [
    "ftp_pyvis = \"ftp://iacftp.ethz.ch/pub_read/alauber/pyvis/\"\n",
    "filename = \"cosmo_pollen.nc\"\n",
    "urllib.request.urlretrieve(ftp_pyvis + filename, \"../data/\" + filename)\n",
    "ds_alnu = psy.open_dataset(\"../data/\" + filename)"
   ]
  },
  {
   "cell_type": "markdown",
   "id": "1bb565ba",
   "metadata": {},
   "source": [
    "## Exercise\n",
    "- Plot the cosmo pollen on a logarithmic scale using psyplot (name of variable: ALNU)"
   ]
  },
  {
   "cell_type": "code",
   "execution_count": null,
   "id": "1e171a0a",
   "metadata": {},
   "outputs": [],
   "source": [
    "ds_alnu.ALNU.values = np.log10(ds_alnu.ALNU.values + 1)\n",
    "# Code here"
   ]
  },
  {
   "cell_type": "markdown",
   "id": "db1c6f28",
   "metadata": {},
   "source": [
    "## Solution"
   ]
  },
  {
   "cell_type": "code",
   "execution_count": null,
   "id": "29d04aa4",
   "metadata": {},
   "outputs": [],
   "source": [
    "ds_alnu.ALNU.values = np.log10(ds_alnu.ALNU.values + 1)\n",
    "plot_alnu = ds_alnu.psy.plot.mapplot(name=\"ALNU\")"
   ]
  },
  {
   "cell_type": "markdown",
   "id": "8cadbdaf",
   "metadata": {},
   "source": [
    "## Exercise\n",
    "Now update the following things:\n",
    "- Add title\n",
    "- Change titlesize\n",
    "- Change tick size\n",
    "- Change grid label size\n",
    "- Add a label to the colorbar\n",
    "- Change the grid color to white\n",
    "- Use the projection \"robin\"\n",
    "- Use the colormap \"RdBu_r\"\n",
    "\n",
    "You can do this by using `plot_alnu.update(...)`"
   ]
  },
  {
   "cell_type": "code",
   "execution_count": null,
   "id": "e00afedd",
   "metadata": {},
   "outputs": [],
   "source": [
    "# Code here"
   ]
  },
  {
   "cell_type": "markdown",
   "id": "642da394",
   "metadata": {},
   "source": [
    "## Solution"
   ]
  },
  {
   "cell_type": "code",
   "execution_count": null,
   "id": "ff0bd3fc",
   "metadata": {},
   "outputs": [],
   "source": [
    "plot_alnu.update(\n",
    "    title=\"Alder Pollen in the Alps on 2020-02-15 20h\",\n",
    "    titlesize=15,\n",
    "    grid_color=\"white\",\n",
    "    cticksize=8,\n",
    "    projection=\"robin\",\n",
    "    cmap=\"RdBu_r\",\n",
    "    clabel=\"Log. Pollen Concentrations [Pollen/m³]\",\n",
    "    grid_labelsize=8,\n",
    ")"
   ]
  },
  {
   "cell_type": "markdown",
   "id": "7aabe7ad",
   "metadata": {},
   "source": [
    "## Exercise\n",
    "With the help of the [iconarray formatoptions](https://github.com/C2SM/iconarray#formatoptions), you can now also easily add lakes, borders, and rivers.\n",
    "\n",
    "(iconarray shows the border by default, which is why you actually don't need to update the borders anymore when you imported iconarray)"
   ]
  },
  {
   "cell_type": "code",
   "execution_count": null,
   "id": "3fac22b9",
   "metadata": {},
   "outputs": [],
   "source": [
    "# Code here"
   ]
  },
  {
   "cell_type": "markdown",
   "id": "5732669e",
   "metadata": {},
   "source": [
    "## Solution"
   ]
  },
  {
   "cell_type": "code",
   "execution_count": null,
   "id": "2b0b6319",
   "metadata": {},
   "outputs": [],
   "source": [
    "plot_alnu.update(lakes=True, borders=True, rivers=True)"
   ]
  },
  {
   "cell_type": "code",
   "execution_count": null,
   "id": "5d531f44-92f4-4201-8002-aa018b3d4797",
   "metadata": {},
   "outputs": [],
   "source": [
    "# close figure\n",
    "plot_alnu.close()"
   ]
  }
 ],
 "metadata": {
  "kernelspec": {
   "display_name": "Python 3 (ipykernel)",
   "language": "python",
   "name": "python3"
  },
  "language_info": {
   "codemirror_mode": {
    "name": "ipython",
    "version": 3
   },
   "file_extension": ".py",
   "mimetype": "text/x-python",
   "name": "python",
   "nbconvert_exporter": "python",
   "pygments_lexer": "ipython3",
   "version": "3.11.6"
  }
 },
 "nbformat": 4,
 "nbformat_minor": 5
}
