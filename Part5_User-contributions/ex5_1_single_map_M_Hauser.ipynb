{
 "cells": [
  {
   "cell_type": "markdown",
   "metadata": {},
   "source": [
    "# Exercise 5.1 - single map plot (M. Hauser)\n",
    "prepared by M.Hauser"
   ]
  },
  {
   "cell_type": "markdown",
   "metadata": {},
   "source": [
    "In this exercise we will use the growing season length (GSL), from 1956 to 2005. GSL is a climate index indicating conditions favourable for plant growth. It is defined as the number of consecutive days per year with a temperature above 5° C.\n",
    "\n",
    "The data is described in Donat et al., ([2013](http://onlinelibrary.wiley.com/doi/10.1002/jgrd.50150/abstract)), and was obtained from http://www.climdex.org/. The data has already undergone some postprocessing - see [prepare_HadEX2_GSL](./data/prepare_HadEX2_GSL.ipynb)."
   ]
  },
  {
   "cell_type": "markdown",
   "metadata": {},
   "source": [
    "We will create the following plot (see Mueller et al., [2015](https://www.sciencedirect.com/science/article/pii/S2212094715000183)):\n",
    "\n",
    "<img src=\"../figures/ex5_single_map_M_Hauser.png\"  width=\"500\">\n",
    "\n",
    "    "
   ]
  },
  {
   "cell_type": "markdown",
   "metadata": {},
   "source": [
    "## Import modules"
   ]
  },
  {
   "cell_type": "code",
   "execution_count": null,
   "metadata": {},
   "outputs": [],
   "source": [
    "import cartopy.crs as ccrs\n",
    "import cartopy.feature as cfeature\n",
    "import matplotlib.pyplot as plt\n",
    "import numpy as np\n",
    "import xarray as xr"
   ]
  },
  {
   "cell_type": "code",
   "execution_count": null,
   "metadata": {},
   "outputs": [],
   "source": [
    "import mplotutils as mpu"
   ]
  },
  {
   "cell_type": "markdown",
   "metadata": {},
   "source": [
    "## Load data"
   ]
  },
  {
   "cell_type": "code",
   "execution_count": null,
   "metadata": {},
   "outputs": [],
   "source": [
    "file = \"./../data/HadEX2_GSL.nc\"\n",
    "ds = xr.open_dataset(file)\n",
    "\n",
    "ds"
   ]
  },
  {
   "cell_type": "markdown",
   "metadata": {},
   "source": [
    "## Map\n",
    "\n",
    "### Exercise\n",
    "\n",
    "* create a figure with one axes, choose a projection\n",
    "* add coastlines\n",
    "* plot the variable `ds.trend`\n",
    "* add a colorbar below the axes"
   ]
  },
  {
   "cell_type": "code",
   "execution_count": null,
   "metadata": {},
   "outputs": [],
   "source": [
    "# code here\n",
    "# f, ax ="
   ]
  },
  {
   "cell_type": "markdown",
   "metadata": {},
   "source": [
    "### Solution"
   ]
  },
  {
   "cell_type": "code",
   "execution_count": null,
   "metadata": {
    "hide_input": true
   },
   "outputs": [],
   "source": [
    "f, ax = plt.subplots(subplot_kw=dict(projection=ccrs.PlateCarree()))\n",
    "ax.coastlines()\n",
    "\n",
    "h = ax.pcolormesh(ds.lon, ds.lat, ds.trend, transform=ccrs.PlateCarree())\n",
    "\n",
    "mpu.colorbar(h, ax, orientation=\"horizontal\")"
   ]
  },
  {
   "cell_type": "markdown",
   "metadata": {},
   "source": [
    "### Exercise\n",
    " * restrict the displayed range of the data to -0.35, 0.35\n",
    " * choose a [diverging colormap](http://colorbrewer2.org)"
   ]
  },
  {
   "cell_type": "code",
   "execution_count": null,
   "metadata": {},
   "outputs": [],
   "source": [
    "f, ax = plt.subplots(subplot_kw=dict(projection=ccrs.PlateCarree()))\n",
    "ax.coastlines()\n",
    "\n",
    "h = ax.pcolormesh(ds.lon, ds.lat, ds.trend, transform=ccrs.PlateCarree())\n",
    "\n",
    "mpu.colorbar(h, ax, orientation=\"horizontal\")"
   ]
  },
  {
   "cell_type": "markdown",
   "metadata": {},
   "source": [
    "### Solution"
   ]
  },
  {
   "cell_type": "code",
   "execution_count": null,
   "metadata": {
    "hide_input": true
   },
   "outputs": [],
   "source": [
    "f, ax = plt.subplots(subplot_kw=dict(projection=ccrs.PlateCarree()))\n",
    "ax.coastlines()\n",
    "\n",
    "h = ax.pcolormesh(\n",
    "    ds.lon,\n",
    "    ds.lat,\n",
    "    ds.trend,\n",
    "    transform=ccrs.PlateCarree(),\n",
    "    cmap=\"RdBu_r\",\n",
    "    vmin=-0.35,\n",
    "    vmax=0.35,\n",
    ")\n",
    "\n",
    "mpu.colorbar(h, ax, orientation=\"horizontal\")"
   ]
  },
  {
   "cell_type": "markdown",
   "metadata": {},
   "source": [
    "### Exercise\n",
    "\n",
    "* use `mpu.from_levels_and_cmap` to get colors in steps of 0.1\n",
    "* get rid of Antarctica (`ax.set_extent`)"
   ]
  },
  {
   "cell_type": "code",
   "execution_count": null,
   "metadata": {},
   "outputs": [],
   "source": [
    "f, ax = plt.subplots(subplot_kw=dict(projection=ccrs.PlateCarree()))\n",
    "ax.coastlines()\n",
    "\n",
    "h = ax.pcolormesh(\n",
    "    ds.lon,\n",
    "    ds.lat,\n",
    "    ds.trend,\n",
    "    transform=ccrs.PlateCarree(),\n",
    "    cmap=\"RdBu_r\",\n",
    "    vmin=-0.35,\n",
    "    vmax=0.35,\n",
    ")\n",
    "\n",
    "mpu.colorbar(h, ax, orientation=\"horizontal\")"
   ]
  },
  {
   "cell_type": "markdown",
   "metadata": {},
   "source": [
    "### Solution"
   ]
  },
  {
   "cell_type": "code",
   "execution_count": null,
   "metadata": {
    "hide_input": true
   },
   "outputs": [],
   "source": [
    "f, ax = plt.subplots(subplot_kw=dict(projection=ccrs.PlateCarree()))\n",
    "ax.coastlines()\n",
    "\n",
    "levels = np.arange(-0.35, 0.36, 0.1)\n",
    "cmap, norm = mpu.from_levels_and_cmap(levels, \"RdBu_r\", extend=\"both\")\n",
    "\n",
    "h = ax.pcolormesh(\n",
    "    ds.lon, ds.lat, ds.trend, transform=ccrs.PlateCarree(), cmap=cmap, norm=norm\n",
    ")\n",
    "\n",
    "mpu.colorbar(h, ax, orientation=\"horizontal\")\n",
    "\n",
    "ax.set_extent([-180, 180, -63, 89], ccrs.PlateCarree())"
   ]
  },
  {
   "cell_type": "markdown",
   "metadata": {},
   "source": [
    "### Bonus exercise - xarray\n",
    "\n",
    "* Replace `ax.pcolormesh` with the xarray interface (`ds.trend.plot`)\n",
    "* What else do you need to change? What is easier?"
   ]
  },
  {
   "cell_type": "code",
   "execution_count": null,
   "metadata": {},
   "outputs": [],
   "source": [
    "f, ax = plt.subplots(subplot_kw=dict(projection=ccrs.PlateCarree()))\n",
    "ax.coastlines()\n",
    "\n",
    "levels = np.arange(-0.35, 0.36, 0.1)\n",
    "cmap, norm = mpu.from_levels_and_cmap(levels, \"RdBu_r\", extend=\"both\")\n",
    "\n",
    "h = ax.pcolormesh(\n",
    "    ds.lon, ds.lat, ds.trend, transform=ccrs.PlateCarree(), cmap=cmap, norm=norm\n",
    ")\n",
    "\n",
    "mpu.colorbar(h, ax, orientation=\"horizontal\")\n",
    "\n",
    "ax.set_extent([-180, 180, -63, 89], ccrs.PlateCarree())"
   ]
  },
  {
   "cell_type": "markdown",
   "metadata": {},
   "source": [
    "### Solution"
   ]
  },
  {
   "cell_type": "code",
   "execution_count": null,
   "metadata": {},
   "outputs": [],
   "source": [
    "f, ax = plt.subplots(subplot_kw=dict(projection=ccrs.PlateCarree()))\n",
    "ax.coastlines()\n",
    "\n",
    "levels = np.arange(-0.35, 0.36, 0.1)\n",
    "\n",
    "h = ds.trend.plot(\n",
    "    ax=ax, transform=ccrs.PlateCarree(), levels=levels, add_colorbar=False\n",
    ")\n",
    "\n",
    "mpu.colorbar(h, ax, orientation=\"horizontal\")\n",
    "\n",
    "ax.set_extent([-180, 180, -63, 89], ccrs.PlateCarree())"
   ]
  },
  {
   "cell_type": "markdown",
   "metadata": {},
   "source": [
    "## Stippling\n",
    "\n",
    "### Exercise\n",
    "* develop the stippling for p values < 0.05 (the data is in `ds.p_val`, see [Exercise 2.4](./../Part2_Mapplots/ex2_4_stippling.ipynb)).\n",
    "* use `mpu.cyclic_dataarray`."
   ]
  },
  {
   "cell_type": "code",
   "execution_count": null,
   "metadata": {},
   "outputs": [],
   "source": [
    "f, ax = plt.subplots(subplot_kw=dict(projection=ccrs.PlateCarree()))\n",
    "ax.coastlines()\n",
    "\n",
    "# pval = mpu.cyclic_dataarray(ds.p_val)\n",
    "# levels = [...]\n",
    "# h = ax.contourf(...)\n",
    "\n",
    "# plt.colorbar(h)"
   ]
  },
  {
   "cell_type": "markdown",
   "metadata": {},
   "source": [
    "### Solution"
   ]
  },
  {
   "cell_type": "code",
   "execution_count": null,
   "metadata": {
    "hide_input": true
   },
   "outputs": [],
   "source": [
    "f, ax = plt.subplots(subplot_kw=dict(projection=ccrs.PlateCarree()))\n",
    "ax.coastlines()\n",
    "\n",
    "pval = mpu.cyclic_dataarray(ds.p_val)\n",
    "levels = [0, 0.05, 1]\n",
    "h = ax.contourf(\n",
    "    pval.lon,\n",
    "    pval.lat,\n",
    "    pval,\n",
    "    levels=levels,\n",
    "    hatches=[\"...\", \"\"],\n",
    "    colors=\"none\",\n",
    "    transform=ccrs.PlateCarree(),\n",
    ")\n",
    "\n",
    "plt.colorbar(h)"
   ]
  },
  {
   "cell_type": "markdown",
   "metadata": {},
   "source": [
    "### Add stippling to other figure\n",
    "\n",
    "This is done below:\n"
   ]
  },
  {
   "cell_type": "code",
   "execution_count": null,
   "metadata": {
    "hide_input": true
   },
   "outputs": [],
   "source": [
    "f, ax = plt.subplots(subplot_kw=dict(projection=ccrs.PlateCarree()))\n",
    "ax.coastlines()\n",
    "\n",
    "# =======\n",
    "# plot trend\n",
    "\n",
    "levels = np.arange(-0.35, 0.36, 0.1)\n",
    "cmap, norm = mpu.from_levels_and_cmap(levels, \"RdBu_r\", extend=\"both\")\n",
    "h = ax.pcolormesh(\n",
    "    ds.lon, ds.lat, ds.trend, transform=ccrs.PlateCarree(), cmap=cmap, norm=norm\n",
    ")\n",
    "\n",
    "# =======\n",
    "# stippling\n",
    "\n",
    "pval = mpu.cyclic_dataarray(ds.p_val)\n",
    "levels = [0, 0.05, 1]\n",
    "ax.contourf(\n",
    "    pval.lon,\n",
    "    pval.lat,\n",
    "    pval,\n",
    "    levels=levels,\n",
    "    hatches=[\"...\", \"\"],\n",
    "    colors=\"none\",\n",
    "    transform=ccrs.PlateCarree(),\n",
    ")\n",
    "\n",
    "# =======\n",
    "# add colorbar\n",
    "\n",
    "mpu.colorbar(h, ax, orientation=\"horizontal\")\n",
    "\n",
    "# =======\n",
    "# format axes\n",
    "\n",
    "ax.set_extent([-180, 180, -63, 89], ccrs.PlateCarree())"
   ]
  },
  {
   "cell_type": "markdown",
   "metadata": {},
   "source": [
    "## Region Boxes\n",
    "\n",
    "### Exercise\n",
    "\n",
    "* add the outline of the US-region using `ax.plot` (the coordinates are given below)\n",
    "* add `US` as text label. If you set `va='top', ha='left'`, then lat: 82°N, lon: 198°E is a good position"
   ]
  },
  {
   "cell_type": "code",
   "execution_count": null,
   "metadata": {},
   "outputs": [],
   "source": [
    "US_lon = [-165, -25, -25, -165, -165]\n",
    "US_lat = [40, 40, 85, 85, 40]"
   ]
  },
  {
   "cell_type": "code",
   "execution_count": null,
   "metadata": {},
   "outputs": [],
   "source": [
    "f, ax = plt.subplots(subplot_kw=dict(projection=ccrs.PlateCarree()))\n",
    "ax.coastlines()\n",
    "\n",
    "# =======\n",
    "# plot trend\n",
    "\n",
    "levels = np.arange(-0.35, 0.36, 0.1)\n",
    "cmap, norm = mpu.from_levels_and_cmap(levels, \"RdBu_r\", extend=\"both\")\n",
    "h = ax.pcolormesh(\n",
    "    ds.lon, ds.lat, ds.trend, transform=ccrs.PlateCarree(), cmap=cmap, norm=norm\n",
    ")\n",
    "\n",
    "# =======\n",
    "# stippling\n",
    "\n",
    "pval = mpu.cyclic_dataarray(ds.p_val)\n",
    "levels = [0, 0.05, 1]\n",
    "ax.contourf(\n",
    "    pval.lon,\n",
    "    pval.lat,\n",
    "    pval,\n",
    "    levels=levels,\n",
    "    hatches=[\"...\", \"\"],\n",
    "    colors=\"none\",\n",
    "    transform=ccrs.PlateCarree(),\n",
    ")\n",
    "\n",
    "# =======\n",
    "# add colorbar\n",
    "\n",
    "mpu.colorbar(h, ax, orientation=\"horizontal\")\n",
    "\n",
    "# =======\n",
    "# format axes\n",
    "\n",
    "ax.set_extent([-180, 180, -63, 89], ccrs.PlateCarree())\n",
    "\n",
    "# =======\n",
    "# add regions\n",
    "\n",
    "# ax.plot(...)\n",
    "# ax.text(..., va=\"top\", ha=\"left\", transform=ccrs.PlateCarree())"
   ]
  },
  {
   "cell_type": "markdown",
   "metadata": {},
   "source": [
    "### Solution"
   ]
  },
  {
   "cell_type": "code",
   "execution_count": null,
   "metadata": {
    "hide_input": true
   },
   "outputs": [],
   "source": [
    "f, ax = plt.subplots(subplot_kw=dict(projection=ccrs.PlateCarree()))\n",
    "ax.coastlines()\n",
    "\n",
    "# =======\n",
    "# plot trend\n",
    "\n",
    "levels = np.arange(-0.35, 0.36, 0.1)\n",
    "cmap, norm = mpu.from_levels_and_cmap(levels, \"RdBu_r\", extend=\"both\")\n",
    "h = ax.pcolormesh(\n",
    "    ds.lon, ds.lat, ds.trend, transform=ccrs.PlateCarree(), cmap=cmap, norm=norm\n",
    ")\n",
    "\n",
    "# =======\n",
    "# stippling\n",
    "\n",
    "pval = mpu.cyclic_dataarray(ds.p_val)\n",
    "levels = [0, 0.05, 1]\n",
    "ax.contourf(\n",
    "    pval.lon,\n",
    "    pval.lat,\n",
    "    pval,\n",
    "    levels=levels,\n",
    "    hatches=[\"...\", \"\"],\n",
    "    colors=\"none\",\n",
    "    transform=ccrs.PlateCarree(),\n",
    ")\n",
    "\n",
    "# =======\n",
    "# add colorbar\n",
    "\n",
    "mpu.colorbar(h, ax, orientation=\"horizontal\")\n",
    "\n",
    "# =======\n",
    "# format axes\n",
    "\n",
    "ax.set_extent([-180, 180, -63, 90], ccrs.PlateCarree())\n",
    "\n",
    "# =======\n",
    "# add regions\n",
    "\n",
    "ax.plot(US_lon, US_lat, transform=ccrs.PlateCarree(), color=\"k\", lw=2)\n",
    "ax.text(198, 82, \"US\", va=\"top\", ha=\"left\", transform=ccrs.PlateCarree())"
   ]
  },
  {
   "cell_type": "markdown",
   "metadata": {},
   "source": [
    "## Adding other regions\n",
    "\n",
    "We could now duplicate the code to do the region outline for the  European region (EU) and Asian region (AS) - or we can write a short helper function to do this for us. We decide to do the latter. In addition a bold font is used and the background is colored in white.\n",
    "\n",
    "### Exercise\n",
    " * take a look at the function"
   ]
  },
  {
   "cell_type": "code",
   "execution_count": null,
   "metadata": {},
   "outputs": [],
   "source": [
    "EU_lon = [-20, 55, 55, -20, -20]\n",
    "EU_lat = [40, 40, 85, 85, 40]\n",
    "AS_lon = [60, 179, 179, 60, 60]\n",
    "AS_lat = [40, 40, 85, 85, 40]\n",
    "\n",
    "\n",
    "def region_outline(lon, lat, lbl, lon_lbl):\n",
    "    ax.plot(lon, lat, transform=ccrs.PlateCarree(), color=\"k\", lw=2)\n",
    "    ax.text(\n",
    "        lon_lbl,\n",
    "        82,\n",
    "        lbl,\n",
    "        va=\"top\",\n",
    "        ha=\"left\",\n",
    "        fontweight=\"bold\",\n",
    "        transform=ccrs.PlateCarree(),\n",
    "        bbox=dict(color=\"w\", pad=0),\n",
    "    )"
   ]
  },
  {
   "cell_type": "markdown",
   "metadata": {},
   "source": [
    "### Adding all region outlines"
   ]
  },
  {
   "cell_type": "code",
   "execution_count": null,
   "metadata": {
    "hide_input": true
   },
   "outputs": [],
   "source": [
    "f, ax = plt.subplots(subplot_kw=dict(projection=ccrs.PlateCarree()))\n",
    "ax.coastlines()\n",
    "\n",
    "# =======\n",
    "# plot trend\n",
    "\n",
    "levels = np.arange(-0.35, 0.36, 0.1)\n",
    "cmap, norm = mpu.from_levels_and_cmap(levels, \"RdBu_r\", extend=\"both\")\n",
    "h = ax.pcolormesh(\n",
    "    ds.lon, ds.lat, ds.trend, transform=ccrs.PlateCarree(), cmap=cmap, norm=norm\n",
    ")\n",
    "\n",
    "# =======\n",
    "# stippling\n",
    "\n",
    "pval = mpu.cyclic_dataarray(ds.p_val)\n",
    "levels = [0, 0.05, 1]\n",
    "ax.contourf(\n",
    "    pval.lon,\n",
    "    pval.lat,\n",
    "    pval,\n",
    "    levels=levels,\n",
    "    hatches=[\"...\", \"\"],\n",
    "    colors=\"none\",\n",
    "    transform=ccrs.PlateCarree(),\n",
    ")\n",
    "\n",
    "# =======\n",
    "# add colorbar\n",
    "\n",
    "mpu.colorbar(h, ax, orientation=\"horizontal\")\n",
    "\n",
    "# =======\n",
    "# format axes\n",
    "\n",
    "ax.set_extent([-180, 180, -63, 90], ccrs.PlateCarree())\n",
    "\n",
    "# =======\n",
    "# add regions\n",
    "\n",
    "region_outline(US_lon, US_lat, \"US\", 198)\n",
    "region_outline(EU_lon, EU_lat, \"EU\", -17)\n",
    "region_outline(AS_lon, AS_lat, \"AS\", 63)"
   ]
  },
  {
   "cell_type": "markdown",
   "metadata": {},
   "source": [
    "## Tropics\n",
    "\n",
    "We want shade the tropics in grey.\n",
    "\n",
    "### Exercise\n",
    "\n",
    " * Use `ax.fill_between` to shade the tropics (25°S to 25°N) in a light grey\n",
    " * Set `zorder` to plot it behind the data"
   ]
  },
  {
   "cell_type": "code",
   "execution_count": null,
   "metadata": {},
   "outputs": [],
   "source": [
    "f, ax = plt.subplots(subplot_kw=dict(projection=ccrs.PlateCarree()))\n",
    "ax.coastlines()\n",
    "\n",
    "# =======\n",
    "# plot trend\n",
    "\n",
    "levels = np.arange(-0.35, 0.36, 0.1)\n",
    "cmap, norm = mpu.from_levels_and_cmap(levels, \"RdBu_r\", extend=\"both\")\n",
    "h = ax.pcolormesh(\n",
    "    ds.lon, ds.lat, ds.trend, transform=ccrs.PlateCarree(), cmap=cmap, norm=norm\n",
    ")\n",
    "\n",
    "# =======\n",
    "# stippling\n",
    "\n",
    "pval = mpu.cyclic_dataarray(ds.p_val)\n",
    "levels = [0, 0.05, 1]\n",
    "ax.contourf(\n",
    "    pval.lon,\n",
    "    pval.lat,\n",
    "    pval,\n",
    "    levels=levels,\n",
    "    hatches=[\"...\", \"\"],\n",
    "    colors=\"none\",\n",
    "    transform=ccrs.PlateCarree(),\n",
    ")\n",
    "\n",
    "# =======\n",
    "# add colorbar\n",
    "\n",
    "mpu.colorbar(h, ax, orientation=\"horizontal\")\n",
    "\n",
    "# =======\n",
    "# format axes\n",
    "\n",
    "ax.set_extent([-180, 180, -63, 90], ccrs.PlateCarree())\n",
    "\n",
    "# =======\n",
    "# add regions\n",
    "\n",
    "region_outline(US_lon, US_lat, \"US\", 198)\n",
    "region_outline(EU_lon, EU_lat, \"EU\", -17)\n",
    "region_outline(AS_lon, AS_lat, \"AS\", 63)\n",
    "\n",
    "# =======\n",
    "# mark tropics\n",
    "\n",
    "# ax.fill_between(...)"
   ]
  },
  {
   "cell_type": "markdown",
   "metadata": {},
   "source": [
    "### Solution"
   ]
  },
  {
   "cell_type": "code",
   "execution_count": null,
   "metadata": {
    "hide_input": true
   },
   "outputs": [],
   "source": [
    "f, ax = plt.subplots(subplot_kw=dict(projection=ccrs.PlateCarree()))\n",
    "ax.coastlines()\n",
    "\n",
    "# =======\n",
    "# plot trend\n",
    "\n",
    "levels = np.arange(-0.35, 0.36, 0.1)\n",
    "cmap, norm = mpu.from_levels_and_cmap(levels, \"RdBu_r\", extend=\"both\")\n",
    "h = ax.pcolormesh(\n",
    "    ds.lon, ds.lat, ds.trend, transform=ccrs.PlateCarree(), cmap=cmap, norm=norm\n",
    ")\n",
    "\n",
    "# =======\n",
    "# stippling\n",
    "\n",
    "pval = mpu.cyclic_dataarray(ds.p_val)\n",
    "levels = [0, 0.05, 1]\n",
    "ax.contourf(\n",
    "    pval.lon,\n",
    "    pval.lat,\n",
    "    pval,\n",
    "    levels=levels,\n",
    "    hatches=[\"...\", \"\"],\n",
    "    colors=\"none\",\n",
    "    transform=ccrs.PlateCarree(),\n",
    ")\n",
    "\n",
    "# =======\n",
    "# add colorbar\n",
    "\n",
    "mpu.colorbar(h, ax, orientation=\"horizontal\")\n",
    "\n",
    "# =======\n",
    "# format axes\n",
    "\n",
    "ax.set_extent([-180, 180, -63, 90], ccrs.PlateCarree())\n",
    "\n",
    "# =======\n",
    "# add regions\n",
    "\n",
    "region_outline(US_lon, US_lat, \"US\", 198)\n",
    "region_outline(EU_lon, EU_lat, \"EU\", -17)\n",
    "region_outline(AS_lon, AS_lat, \"AS\", 63)\n",
    "\n",
    "# =======\n",
    "# mark tropics\n",
    "\n",
    "ax.fill_between(\n",
    "    [-180, 180],\n",
    "    [-25, -25],\n",
    "    [25, 25],\n",
    "    facecolor=\"0.75\",\n",
    "    edgecolor=\"none\",\n",
    "    zorder=0,\n",
    ")"
   ]
  },
  {
   "cell_type": "markdown",
   "metadata": {},
   "source": [
    "## Dont mark tropics over land\n",
    "\n",
    "Now some regions in Africa, South America, ... are grey as well. \n",
    "\n",
    "### Exercise\n",
    " * use `ax.add_feature` and `cfeature.LAND` to color the land areas in white.\n",
    " * Play with `zorder`, so that the white land is between the data and the grey band around the tropics"
   ]
  },
  {
   "cell_type": "code",
   "execution_count": null,
   "metadata": {},
   "outputs": [],
   "source": [
    "f, ax = plt.subplots(subplot_kw=dict(projection=ccrs.PlateCarree()))\n",
    "ax.coastlines()\n",
    "\n",
    "# =======\n",
    "# plot trend\n",
    "\n",
    "levels = np.arange(-0.35, 0.36, 0.1)\n",
    "cmap, norm = mpu.from_levels_and_cmap(levels, \"RdBu_r\", extend=\"both\")\n",
    "h = ax.pcolormesh(\n",
    "    ds.lon, ds.lat, ds.trend, transform=ccrs.PlateCarree(), cmap=cmap, norm=norm\n",
    ")\n",
    "\n",
    "# =======\n",
    "# stippling\n",
    "\n",
    "pval = mpu.cyclic_dataarray(ds.p_val)\n",
    "levels = [0, 0.05, 1]\n",
    "ax.contourf(\n",
    "    pval.lon,\n",
    "    pval.lat,\n",
    "    pval,\n",
    "    levels=levels,\n",
    "    hatches=[\"...\", \"\"],\n",
    "    colors=\"none\",\n",
    "    transform=ccrs.PlateCarree(),\n",
    ")\n",
    "\n",
    "# =======\n",
    "# add colorbar\n",
    "\n",
    "mpu.colorbar(h, ax, orientation=\"horizontal\")\n",
    "\n",
    "# =======\n",
    "# format axes\n",
    "\n",
    "ax.set_extent([-180, 180, -63, 90], ccrs.PlateCarree())\n",
    "\n",
    "# =======\n",
    "# add regions\n",
    "\n",
    "region_outline(US_lon, US_lat, \"US\", 198)\n",
    "region_outline(EU_lon, EU_lat, \"EU\", -17)\n",
    "region_outline(AS_lon, AS_lat, \"AS\", 63)\n",
    "\n",
    "# =======\n",
    "# mark tropics\n",
    "\n",
    "ax.fill_between(\n",
    "    [-180, 180],\n",
    "    [-25, -25],\n",
    "    [25, 25],\n",
    "    facecolor=\"0.75\",\n",
    "    edgecolor=\"none\",\n",
    "    zorder=0,\n",
    ")\n",
    "\n",
    "# =======\n",
    "# color land areas in white\n",
    "\n",
    "# ax.add_feature(...)"
   ]
  },
  {
   "cell_type": "markdown",
   "metadata": {},
   "source": [
    "### Solution"
   ]
  },
  {
   "cell_type": "code",
   "execution_count": null,
   "metadata": {
    "hide_input": true
   },
   "outputs": [],
   "source": [
    "f, ax = plt.subplots(subplot_kw=dict(projection=ccrs.PlateCarree()))\n",
    "ax.coastlines()\n",
    "\n",
    "# =======\n",
    "# plot trend\n",
    "\n",
    "levels = np.arange(-0.35, 0.36, 0.1)\n",
    "cmap, norm = mpu.from_levels_and_cmap(levels, \"RdBu_r\", extend=\"both\")\n",
    "h = ax.pcolormesh(\n",
    "    ds.lon, ds.lat, ds.trend, transform=ccrs.PlateCarree(), cmap=cmap, norm=norm\n",
    ")\n",
    "\n",
    "# =======\n",
    "# stippling\n",
    "\n",
    "pval = mpu.cyclic_dataarray(ds.p_val)\n",
    "levels = [0, 0.05, 1]\n",
    "ax.contourf(\n",
    "    pval.lon,\n",
    "    pval.lat,\n",
    "    pval,\n",
    "    levels=levels,\n",
    "    hatches=[\"...\", \"\"],\n",
    "    colors=\"none\",\n",
    "    transform=ccrs.PlateCarree(),\n",
    ")\n",
    "\n",
    "# =======\n",
    "# add colorbar\n",
    "\n",
    "mpu.colorbar(h, ax, orientation=\"horizontal\")\n",
    "\n",
    "# =======\n",
    "# format axes\n",
    "\n",
    "ax.set_extent([-180, 180, -63, 90], ccrs.PlateCarree())\n",
    "\n",
    "# =======\n",
    "# add regions\n",
    "\n",
    "region_outline(US_lon, US_lat, \"US\", 198)\n",
    "region_outline(EU_lon, EU_lat, \"EU\", -17)\n",
    "region_outline(AS_lon, AS_lat, \"AS\", 63)\n",
    "\n",
    "# =======\n",
    "# mark tropics\n",
    "\n",
    "ax.fill_between(\n",
    "    [-180, 180],\n",
    "    [-25, -25],\n",
    "    [25, 25],\n",
    "    facecolor=\"0.75\",\n",
    "    edgecolor=\"none\",\n",
    "    zorder=0,\n",
    ")\n",
    "\n",
    "# =======\n",
    "# color land areas in white\n",
    "\n",
    "ax.add_feature(cfeature.LAND, facecolor=\"w\", edgecolor=\"none\", lw=0, zorder=0.5)"
   ]
  },
  {
   "cell_type": "markdown",
   "metadata": {},
   "source": [
    "## Tick labels\n",
    "\n",
    "### Exercise\n",
    "* add lon ticks every 60° and lat ticks every 25° (see [Exercise 2.5](./../Part2_Mapplots/ex2_5_ticks_grids.ipynb))\n",
    "* you will have to adapt `pad` in for the colorbar\n",
    "\n",
    "> `ax.tick_params(axis='both', which='major', ...)` is used to adjust the fontsize and set the tick length to 0\n",
    "\n",
    "\n"
   ]
  },
  {
   "cell_type": "code",
   "execution_count": null,
   "metadata": {},
   "outputs": [],
   "source": [
    "from cartopy.mpl.ticker import LatitudeFormatter, LongitudeFormatter"
   ]
  },
  {
   "cell_type": "code",
   "execution_count": null,
   "metadata": {},
   "outputs": [],
   "source": [
    "f, ax = plt.subplots(subplot_kw=dict(projection=ccrs.PlateCarree()))\n",
    "ax.coastlines()\n",
    "\n",
    "# =======\n",
    "# plot trend\n",
    "\n",
    "levels = np.arange(-0.35, 0.36, 0.1)\n",
    "cmap, norm = mpu.from_levels_and_cmap(levels, \"RdBu_r\", extend=\"both\")\n",
    "h = ax.pcolormesh(\n",
    "    ds.lon, ds.lat, ds.trend, transform=ccrs.PlateCarree(), cmap=cmap, norm=norm\n",
    ")\n",
    "\n",
    "# =======\n",
    "# stippling\n",
    "\n",
    "pval = mpu.cyclic_dataarray(ds.p_val)\n",
    "levels = [0, 0.05, 1]\n",
    "ax.contourf(\n",
    "    pval.lon,\n",
    "    pval.lat,\n",
    "    pval,\n",
    "    levels=levels,\n",
    "    hatches=[\"...\", \"\"],\n",
    "    colors=\"none\",\n",
    "    transform=ccrs.PlateCarree(),\n",
    ")\n",
    "\n",
    "# =======\n",
    "# add colorbar\n",
    "\n",
    "mpu.colorbar(h, ax, orientation=\"horizontal\")\n",
    "\n",
    "# =======\n",
    "# format axes\n",
    "\n",
    "ax.set_extent([-180, 180, -63, 90], ccrs.PlateCarree())\n",
    "\n",
    "# =======\n",
    "# add regions\n",
    "\n",
    "region_outline(US_lon, US_lat, \"US\", 198)\n",
    "region_outline(EU_lon, EU_lat, \"EU\", -17)\n",
    "region_outline(AS_lon, AS_lat, \"AS\", 63)\n",
    "\n",
    "# =======\n",
    "# mark tropics\n",
    "\n",
    "ax.fill_between(\n",
    "    [-180, 180],\n",
    "    [-25, -25],\n",
    "    [25, 25],\n",
    "    facecolor=\"0.75\",\n",
    "    edgecolor=\"none\",\n",
    "    zorder=0,\n",
    ")\n",
    "\n",
    "# color land areas in white\n",
    "ax.add_feature(cfeature.LAND, facecolor=\"w\", edgecolor=\"none\", lw=0, zorder=0.5)\n",
    "\n",
    "# =======\n",
    "# set ticks\n",
    "\n",
    "lon = np.arange(-180, 181, 60)\n",
    "lat = np.arange(-50, 76, 25)\n",
    "\n",
    "# set the ticks\n",
    "# ax.set_xticks(...)\n",
    "# ax.set_yticks(...)\n",
    "\n",
    "# format the ticks as e.g 60°W\n",
    "ax.xaxis.set_major_formatter(LongitudeFormatter())\n",
    "ax.yaxis.set_major_formatter(LatitudeFormatter())\n",
    "\n",
    "ax.tick_params(axis=\"both\", which=\"major\", labelsize=8, length=0)"
   ]
  },
  {
   "cell_type": "markdown",
   "metadata": {},
   "source": [
    "## Final Plot\n",
    "\n",
    "### Solution"
   ]
  },
  {
   "cell_type": "code",
   "execution_count": null,
   "metadata": {
    "hide_input": true
   },
   "outputs": [],
   "source": [
    "f, ax = plt.subplots(subplot_kw=dict(projection=ccrs.PlateCarree()))\n",
    "ax.coastlines()\n",
    "\n",
    "# =======\n",
    "# plot trend\n",
    "\n",
    "levels = np.arange(-0.35, 0.36, 0.1)\n",
    "cmap, norm = mpu.from_levels_and_cmap(levels, \"RdBu_r\", extend=\"both\")\n",
    "trend = np.ma.masked_invalid(ds.trend)\n",
    "h = ax.pcolormesh(\n",
    "    ds.lon, ds.lat, ds.trend, transform=ccrs.PlateCarree(), cmap=cmap, norm=norm\n",
    ")\n",
    "\n",
    "\n",
    "# =======\n",
    "# stippling\n",
    "\n",
    "pval = mpu.cyclic_dataarray(ds.p_val)\n",
    "levels = [0, 0.05, 1]\n",
    "ax.contourf(\n",
    "    pval.lon,\n",
    "    pval.lat,\n",
    "    pval,\n",
    "    levels=levels,\n",
    "    hatches=[\"...\", \"\"],\n",
    "    colors=\"none\",\n",
    "    transform=ccrs.PlateCarree(),\n",
    ")\n",
    "\n",
    "# =======\n",
    "# add colorbar\n",
    "\n",
    "mpu.colorbar(h, ax, orientation=\"horizontal\")\n",
    "\n",
    "# =======\n",
    "# format axes\n",
    "\n",
    "ax.set_extent([-180, 180, -63, 90], ccrs.PlateCarree())\n",
    "\n",
    "# =======\n",
    "# add regions\n",
    "\n",
    "region_outline(US_lon, US_lat, \"US\", 198)\n",
    "region_outline(EU_lon, EU_lat, \"EU\", -17)\n",
    "region_outline(AS_lon, AS_lat, \"AS\", 63)\n",
    "\n",
    "# =======\n",
    "# mark tropics\n",
    "\n",
    "ax.fill_between(\n",
    "    [-180, 180],\n",
    "    [-25, -25],\n",
    "    [25, 25],\n",
    "    facecolor=\"0.75\",\n",
    "    edgecolor=\"none\",\n",
    "    zorder=0,\n",
    ")\n",
    "\n",
    "# color land areas in white\n",
    "ax.add_feature(cfeature.LAND, facecolor=\"w\", edgecolor=\"none\", lw=0, zorder=0.5)\n",
    "\n",
    "# =======\n",
    "# set ticks\n",
    "lon = np.arange(-180, 181, 60)\n",
    "lat = np.arange(-50, 76, 25)\n",
    "\n",
    "# set the ticks\n",
    "ax.set_xticks(lon, crs=ccrs.PlateCarree())\n",
    "ax.set_yticks(lat, crs=ccrs.PlateCarree())\n",
    "\n",
    "# format the ticks as e.g 60°W\n",
    "ax.xaxis.set_major_formatter(LongitudeFormatter())\n",
    "ax.yaxis.set_major_formatter(LatitudeFormatter())\n",
    "\n",
    "ax.tick_params(axis=\"both\", which=\"major\", labelsize=8, length=0)"
   ]
  }
 ],
 "metadata": {
  "hide_input": false,
  "kernelspec": {
   "display_name": "Python 3 (ipykernel)",
   "language": "python",
   "name": "python3"
  },
  "language_info": {
   "codemirror_mode": {
    "name": "ipython",
    "version": 3
   },
   "file_extension": ".py",
   "mimetype": "text/x-python",
   "name": "python",
   "nbconvert_exporter": "python",
   "pygments_lexer": "ipython3",
   "version": "3.11.6"
  }
 },
 "nbformat": 4,
 "nbformat_minor": 4
}
