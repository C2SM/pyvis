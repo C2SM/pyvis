{
 "cells": [
  {
   "cell_type": "markdown",
   "metadata": {},
   "source": [
    "# Exercise 2.7 Subplots with cartopy\n",
    "prepared by M.Hauser\n",
    "\n",
    "We already learned how to create subplots in [Exercise 1.4](./../Part1_Matplotlib/ex1_4_subplots.ipynb), and we also used this for map plots. However, they suffer from the same problem as when adding colorbars - the axes are shrunk but the figure is not, leaving large gaps between the rows (or columns)...\n",
    "\n",
    "> Most of what we show here for geo-referenced plots does *NOT* apply to normal subplots."
   ]
  },
  {
   "cell_type": "code",
   "execution_count": null,
   "metadata": {},
   "outputs": [],
   "source": [
    "import cartopy.crs as ccrs\n",
    "import cartopy.feature as cfeature\n",
    "import matplotlib.pyplot as plt\n",
    "import numpy as np"
   ]
  },
  {
   "cell_type": "code",
   "execution_count": null,
   "metadata": {},
   "outputs": [],
   "source": [
    "import mplotutils as mpu"
   ]
  },
  {
   "cell_type": "markdown",
   "metadata": {},
   "source": [
    "## Setup\n",
    "\n",
    "Usually we want the background of the figure to be white - but here we want to see how large it really is. Therefore, we color it gray."
   ]
  },
  {
   "cell_type": "code",
   "execution_count": null,
   "metadata": {},
   "outputs": [],
   "source": [
    "%config InlineBackend.print_figure_kwargs = {'facecolor': '0.9'}"
   ]
  },
  {
   "cell_type": "markdown",
   "metadata": {},
   "source": [
    "## The Problem - example\n",
    "\n",
    "Let's do a 2 x 2 map plot:"
   ]
  },
  {
   "cell_type": "code",
   "execution_count": null,
   "metadata": {},
   "outputs": [],
   "source": [
    "f, axs = plt.subplots(2, 2, subplot_kw=dict(projection=ccrs.PlateCarree()))\n",
    "axs = axs.flatten()\n",
    "\n",
    "for ax in axs:\n",
    "    ax.coastlines()"
   ]
  },
  {
   "cell_type": "markdown",
   "metadata": {},
   "source": [
    "There is too much vertical space between the subplots! Again, the issue is that the aspect ratio of a map plot has to be equal, else it would be distorted. Matplotlib then 'shrinks' the axes, but does not shrink the area of the figure.\n",
    "\n",
    "## What we can try\n",
    "\n",
    "There are some functions in pyplot that can potentially solve this problem. (However, they don't).\n",
    "\n",
    "\n",
    "* _constrained layout_, automatically adjusts subplots and decorations like legends and colorbars so that they fit in the figure window while still preserving, as best they can, the logical layout requested by the user.\n",
    "* _subplot_adjust_, i.e. setting the distance between the subplots manually\n",
    "\n",
    "> There is also _tight layout_ with a similar goal but different approach as _constrained layout_. However, the latter generally seems to work better.\n",
    "\n",
    "Before we can illustrate these two, we need to get another obstacle out of the way.\n",
    "\n",
    "\n",
    "## `bbox_inches='tight'`\n",
    "\n",
    "When you save a figure you can tell matplotlib to remove all white boundary areas using `plt.savefig('figure.pdf', bbox_inches='tight')`. While this sounds like a good idea, the issue is that the size of the figure is unpredictable. This can distort your font sizes. Also, if a journal asks for a figure with a certain size you cannot use this option.\n",
    "\n",
    "> `bbox_inches='tight'` is NOT the same as `f.tight_layout()`\n",
    "\n",
    "However, figures displayed in the notebooks use this option per default (in contrast to figures you save). To better see what figures we create, we need to turn this option off, and again, set the background color to a light gray."
   ]
  },
  {
   "cell_type": "code",
   "execution_count": null,
   "metadata": {},
   "outputs": [],
   "source": [
    "%config InlineBackend.print_figure_kwargs = {'bbox_inches': None, 'facecolor': '0.9'}"
   ]
  },
  {
   "cell_type": "markdown",
   "metadata": {},
   "source": [
    "When we now redo the plot from above we see what our pdf would look like:"
   ]
  },
  {
   "cell_type": "code",
   "execution_count": null,
   "metadata": {},
   "outputs": [],
   "source": [
    "f, axs = plt.subplots(2, 2, subplot_kw=dict(projection=ccrs.PlateCarree()))\n",
    "axs = axs.flatten()\n",
    "\n",
    "for ax in axs:\n",
    "    ax.coastlines()\n",
    "    ax.set_global()"
   ]
  },
  {
   "cell_type": "markdown",
   "metadata": {},
   "source": [
    "So there is not only unequal distance between the figures, it also has a very large boundary.\n",
    "\n",
    "## constrained layout\n",
    "\n",
    "As mentioned _constrained layout_ tries to make sure all elements have space on the figure, but this does not really help either:"
   ]
  },
  {
   "cell_type": "code",
   "execution_count": null,
   "metadata": {},
   "outputs": [],
   "source": [
    "f, axs = plt.subplots(\n",
    "    2, 2, subplot_kw=dict(projection=ccrs.PlateCarree()), layout=\"constrained\"\n",
    ")\n",
    "axs = axs.flatten()\n",
    "\n",
    "for ax in axs:\n",
    "    ax.coastlines()"
   ]
  },
  {
   "cell_type": "markdown",
   "metadata": {},
   "source": [
    "### Different projections\n",
    "\n",
    "While for the PlateCarree maps the figure was too high, it can also be too small for different projections:"
   ]
  },
  {
   "cell_type": "code",
   "execution_count": null,
   "metadata": {
    "hide_input": true,
    "tags": [
     "solution"
    ]
   },
   "outputs": [],
   "source": [
    "f, axs = plt.subplots(2, 2, subplot_kw=dict(projection=ccrs.Orthographic()))\n",
    "\n",
    "axs = axs.flatten()\n",
    "\n",
    "for ax in axs:\n",
    "    ax.coastlines()\n",
    "\n",
    "f.tight_layout()"
   ]
  },
  {
   "cell_type": "markdown",
   "metadata": {},
   "source": [
    "## `subplot_adjust`\n",
    "\n",
    "We already got to know `wspace` and `hspace` in [Exercise 1.4](../Part1_Matplotlib/ex1_4_subplots.ipynb#hspace-and-wspace). Using `subplot_adjust` we can manually fine tune the positioning of the subplots:\n",
    "\n",
    "* `left`, `right`, `bottom`, and `top` are measured in figure coordinates, where (0, 0) is in the lower left corner and (1, 1) is in the upper right corner\n",
    "* `wspace` is the amount of width reserved for blank space between subplots, expressed as a fraction of the average axis width, default value = 0.2\n",
    "* `hspace` is the amount of height reserved for white space between subplots, expressed as a fraction of the average axis height, default value = 0.2\n",
    "\n",
    "For a normal plot (i.e. non map plots), we can use them to adjust the figure to our liking: "
   ]
  },
  {
   "cell_type": "code",
   "execution_count": null,
   "metadata": {},
   "outputs": [],
   "source": [
    "f, axs = plt.subplots(2, 2)\n",
    "axs = axs.flatten()\n",
    "\n",
    "for ax in axs:\n",
    "    ax.set_xticks([])\n",
    "    ax.set_yticks([])\n",
    "\n",
    "f.subplots_adjust(left=0.1, right=0.95, bottom=0.1, top=0.9, hspace=0.0, wspace=0.0)"
   ]
  },
  {
   "cell_type": "markdown",
   "metadata": {},
   "source": [
    "Again, this does not work for axes with a fixed aspect ratio because matplotlib 'shrinks' the axes for map plots, setting hspace and wspace to 0 can leave some vertical distance between subplots. Therefore, the following plot still has some distance between the two rows:"
   ]
  },
  {
   "cell_type": "code",
   "execution_count": null,
   "metadata": {},
   "outputs": [],
   "source": [
    "f, axs = plt.subplots(2, 2, subplot_kw=dict(projection=ccrs.PlateCarree()))\n",
    "axs = axs.flatten()\n",
    "\n",
    "for ax in axs:\n",
    "    ax.coastlines()\n",
    "\n",
    "f.subplots_adjust(hspace=0, wspace=0)"
   ]
  },
  {
   "cell_type": "markdown",
   "metadata": {},
   "source": [
    "# Solution\n",
    "\n",
    "\n",
    "\n",
    "To solve this problem we can use `mpu.set_map_layout`. This function respects all parameters of `subplot_adjust` (left, right, bottom, top, hspace, and wspace), and the figure width, but *NOT* its height. To be precise, it calculates the figure height such that all other parameters are respected.\n",
    "\n",
    "#### Advantages\n",
    " * creating a map plot becomes predictable again (e.g. when you set `hspace=0`, the vertical space is actually 0)\n",
    "\n",
    "#### Disadvantages\n",
    " * it only really works if all subplots have the same aspect ratio\n",
    " * needs manual adjustments (of subplot_adjust params)\n",
    " \n",
    "#### Usage\n",
    "\n",
    "1. Create figure and axes\n",
    "1. Do all the plotting\n",
    "1. use `f.subplots_adjust`\n",
    "1. use `mpu.set_map_layout(axs, width=17)`\n",
    "1. save the figure\n",
    "\n",
    "\n"
   ]
  },
  {
   "cell_type": "code",
   "execution_count": null,
   "metadata": {},
   "outputs": [],
   "source": [
    "# 1. create figure\n",
    "f, axs = plt.subplots(2, 2, subplot_kw=dict(projection=ccrs.PlateCarree()))\n",
    "axs = axs.flatten()\n",
    "\n",
    "# 2. plot stuff\n",
    "for ax in axs:\n",
    "    ax.coastlines()\n",
    "\n",
    "# 3. adjust the position parameters\n",
    "f.subplots_adjust(hspace=0, wspace=0)\n",
    "\n",
    "# 4. call set_map_layout\n",
    "mpu.set_map_layout(axs, width=17)  # width is in cm\n",
    "\n",
    "print(\"Size (w x h):  \", np.round(f.get_size_inches() * 2.54, 2))\n",
    "\n",
    "# 5. save\n",
    "# plt.savefig(...)"
   ]
  },
  {
   "cell_type": "markdown",
   "metadata": {},
   "source": [
    "It worked! `hspace=0, wspace=0` is actually respected!\n",
    "\n",
    "### Exercise\n",
    "\n",
    "* run the code below\n",
    "* compare the width/ height of the figure below with the one above"
   ]
  },
  {
   "cell_type": "code",
   "execution_count": null,
   "metadata": {},
   "outputs": [],
   "source": [
    "f, axs = plt.subplots(2, 2, subplot_kw=dict(projection=ccrs.PlateCarree()))\n",
    "axs = axs.flatten()\n",
    "\n",
    "for ax in axs:\n",
    "    ax.coastlines()\n",
    "\n",
    "f.subplots_adjust(hspace=0.3, wspace=0.15, left=0.05, right=0.95, bottom=0.05, top=0.95)\n",
    "\n",
    "mpu.set_map_layout(axs, width=17)\n",
    "\n",
    "print(\"Size (w x h):  \", np.round(f.get_size_inches() * 2.54, 2))"
   ]
  },
  {
   "cell_type": "markdown",
   "metadata": {},
   "source": [
    "### Exercise\n",
    "\n",
    " * use `mpu.set_map_layout`, and `f.subplots_adjust` to create a 'good' looking figure"
   ]
  },
  {
   "cell_type": "code",
   "execution_count": null,
   "metadata": {},
   "outputs": [],
   "source": [
    "f, axs = plt.subplots(2, 2, subplot_kw=dict(projection=ccrs.NearsidePerspective()))\n",
    "axs = axs.flatten()\n",
    "\n",
    "for i, ax in enumerate(axs):\n",
    "    ax.coastlines()\n",
    "    ax.set_title(f\"Map {i}\", fontsize=18)\n",
    "\n",
    "# =============\n",
    "# adjust size\n",
    "\n",
    "# f.subplots_adjust(...)\n",
    "mpu.set_map_layout(axs)\n",
    "\n",
    "# =============\n",
    "\n",
    "print(\"Size (w x h):  \", np.round(f.get_size_inches() * 2.54, 2))"
   ]
  },
  {
   "cell_type": "markdown",
   "metadata": {},
   "source": [
    "### Solution"
   ]
  },
  {
   "cell_type": "code",
   "execution_count": null,
   "metadata": {
    "hide_input": true,
    "tags": [
     "solution"
    ]
   },
   "outputs": [],
   "source": [
    "f, axs = plt.subplots(2, 2, subplot_kw=dict(projection=ccrs.NearsidePerspective()))\n",
    "axs = axs.flatten()\n",
    "\n",
    "for i, ax in enumerate(axs):\n",
    "    ax.coastlines()\n",
    "    ax.set_title(f\"Map {i}\", fontsize=18)\n",
    "\n",
    "# =============\n",
    "# adjust size\n",
    "f.subplots_adjust(hspace=0.2, wspace=0.1, left=0.05, right=0.95, bottom=0.05, top=0.925)\n",
    "\n",
    "mpu.set_map_layout(axs)\n",
    "\n",
    "# =============\n",
    "\n",
    "print(\"Size (w x h):  \", np.round(f.get_size_inches() * 2.54, 2))"
   ]
  },
  {
   "cell_type": "markdown",
   "metadata": {},
   "source": [
    "## Colorbars\n",
    "\n",
    "`set_map_layout` can be combined with the manual creation of colorbars. You will have to manually make room for the colorbars, by adjusting left, bottom, etc..."
   ]
  },
  {
   "cell_type": "code",
   "execution_count": null,
   "metadata": {},
   "outputs": [],
   "source": [
    "# create sample data\n",
    "lon, lat, data = mpu.sample_data_map(90, 48)\n",
    "\n",
    "opt = dict(vmin=-1.2, vmax=1.2, transform=ccrs.PlateCarree())\n",
    "\n",
    "# =====\n",
    "\n",
    "f, axs = plt.subplots(2, 2, subplot_kw=dict(projection=ccrs.PlateCarree()))\n",
    "axs = axs.flatten()\n",
    "\n",
    "for ax in axs:\n",
    "    ax.coastlines()\n",
    "\n",
    "\n",
    "f.subplots_adjust(hspace=0.2, wspace=0.25, left=0.025, right=0.9, bottom=0.05, top=0.95)\n",
    "\n",
    "# ===================================\n",
    "\n",
    "# color bar1\n",
    "h = axs[0].pcolormesh(lon, lat, data, cmap=\"BrBG\", **opt)\n",
    "cbar = mpu.colorbar(h, axs[0], pad=0.015, size=0.05)\n",
    "\n",
    "# color bar2\n",
    "h = axs[2].pcolormesh(lon, lat, data, cmap=\"RdGy\", **opt)\n",
    "cbar = mpu.colorbar(h, axs[2], pad=0.015, size=0.05)\n",
    "\n",
    "# color bar2\n",
    "h = axs[1].pcolormesh(lon, lat, data, cmap=\"RdBu_r\", **opt)\n",
    "h = axs[3].pcolormesh(lon, lat, data, cmap=\"RdBu_r\", **opt)\n",
    "cbar = mpu.colorbar(h, axs[1], axs[3], pad=0.015, size=0.05)\n",
    "\n",
    "# ===================================\n",
    "\n",
    "mpu.set_map_layout(axs, width=17)\n",
    "\n",
    "# ===================================\n",
    "\n",
    "f.get_size_inches() * 2.54"
   ]
  },
  {
   "cell_type": "markdown",
   "metadata": {},
   "source": [
    "### Exercise\n",
    "\n",
    " * take the plot below and make it look good"
   ]
  },
  {
   "cell_type": "code",
   "execution_count": null,
   "metadata": {},
   "outputs": [],
   "source": [
    "f, axs = plt.subplots(1, 2, subplot_kw=dict(projection=ccrs.NearsidePerspective()))\n",
    "axs = axs.flatten()\n",
    "\n",
    "for i, ax in enumerate(axs):\n",
    "    ax.coastlines()\n",
    "    ax.set_title(f\"Map {i}\", fontsize=18)\n",
    "    h = ax.pcolormesh(lon, lat, data, vmin=-1, vmax=1, transform=ccrs.PlateCarree())\n",
    "\n",
    "# color bar1\n",
    "cbar = mpu.colorbar(h, axs[1], size=0.1)\n",
    "\n",
    "# =============\n",
    "# adjust size\n",
    "\n",
    "# f.subplots_adjust(...)\n",
    "\n",
    "mpu.set_map_layout(axs)\n",
    "\n",
    "# =============\n",
    "\n",
    "print(\"Size (w x h):  \", np.round(f.get_size_inches() * 2.54, 2))"
   ]
  },
  {
   "cell_type": "markdown",
   "metadata": {},
   "source": [
    "### Solution"
   ]
  },
  {
   "cell_type": "code",
   "execution_count": null,
   "metadata": {
    "hide_input": true,
    "tags": [
     "solution"
    ]
   },
   "outputs": [],
   "source": [
    "f, axs = plt.subplots(1, 2, subplot_kw=dict(projection=ccrs.NearsidePerspective()))\n",
    "axs = axs.flatten()\n",
    "\n",
    "for i, ax in enumerate(axs):\n",
    "    ax.coastlines()\n",
    "    ax.set_title(f\"Map {i}\", fontsize=18)\n",
    "    h = ax.pcolormesh(lon, lat, data, vmin=-1, vmax=1, transform=ccrs.PlateCarree())\n",
    "\n",
    "# color bar1\n",
    "cbar = mpu.colorbar(h, axs[1], size=0.1)\n",
    "\n",
    "f.subplots_adjust(hspace=0.2, wspace=0.1, left=0.05, right=0.85, bottom=0.05, top=0.85)\n",
    "\n",
    "mpu.set_map_layout(axs, width=15.24)\n",
    "\n",
    "print(\"Size (w x h):  \", np.round(f.get_size_inches() * 2.54, 2))"
   ]
  },
  {
   "cell_type": "markdown",
   "metadata": {},
   "source": [
    "# Different projections\n",
    "\n",
    "To combine different projections in subplots, or to combine map and none map plots, you have to use `gridspec`."
   ]
  },
  {
   "cell_type": "code",
   "execution_count": null,
   "metadata": {},
   "outputs": [],
   "source": [
    "import matplotlib.gridspec as gridspec"
   ]
  },
  {
   "cell_type": "code",
   "execution_count": null,
   "metadata": {},
   "outputs": [],
   "source": [
    "gs = gridspec.GridSpec(2, 2)\n",
    "\n",
    "ax1 = plt.subplot(gs[0, 0], projection=ccrs.PlateCarree())\n",
    "\n",
    "ax2 = plt.subplot(gs[0, 1], projection=ccrs.Robinson())\n",
    "\n",
    "ax3 = plt.subplot(gs[1, :])\n",
    "\n",
    "ax1.coastlines()\n",
    "ax2.coastlines()\n",
    "\n",
    "x = np.arange(0, 10, 0.1)\n",
    "ax3.plot(x, np.sin(x))\n",
    "ax3.plot(x, np.cos(x))"
   ]
  },
  {
   "cell_type": "markdown",
   "metadata": {},
   "source": [
    "Like this we can create a rotating earth:"
   ]
  },
  {
   "cell_type": "code",
   "execution_count": null,
   "metadata": {},
   "outputs": [],
   "source": [
    "# n_col subplots\n",
    "n_col = 10\n",
    "\n",
    "f = plt.figure()\n",
    "gs = gridspec.GridSpec(1, n_col)\n",
    "\n",
    "axs = list()\n",
    "\n",
    "# loop from 0...9\n",
    "for i in range(n_col):\n",
    "\n",
    "    # rotate\n",
    "    c_lon = 360.0 / n_col * i\n",
    "\n",
    "    # create subplot\n",
    "    ax = plt.subplot(\n",
    "        gs[i], projection=ccrs.Orthographic(central_longitude=c_lon, central_latitude=0)\n",
    "    )\n",
    "\n",
    "    # add some features\n",
    "    ax.coastlines()\n",
    "    ax.add_feature(cfeature.OCEAN)\n",
    "    ax.add_feature(cfeature.LAND)\n",
    "\n",
    "    # collect the axes\n",
    "    axs.append(ax)\n",
    "\n",
    "# adjust the size\n",
    "f.subplots_adjust(wspace=0.1, left=0.025, right=0.975)\n",
    "mpu.set_map_layout(axs, width=40)"
   ]
  },
  {
   "cell_type": "markdown",
   "metadata": {},
   "source": [
    "# Bonus: Correct distance between subplots, alternative Solution\n",
    "\n",
    "As for the colorbars, there is a second solution to overcome the problem, and again it is by using `axes_grid1`:\n",
    "\n",
    "\"[axes_grid1](https://matplotlib.org/2.0.2/mpl_toolkits/axes_grid/users/overview.html) is a collection of helper classes to ease displaying (multiple) images with matplotlib. In matplotlib, the axes location (and size) is specified in the normalized figure coordinates, which may not be ideal for displaying images that needs to have a given aspect ratio.\"\n",
    "\n",
    " > However, it is not part of the core matplotlib functionality, and not its best-documented part\n",
    "\n",
    "We will use an [example from the cartopy gallery](http://scitools.org.uk/cartopy/docs/v0.15/examples/axes_grid_basic.html)."
   ]
  },
  {
   "cell_type": "code",
   "execution_count": null,
   "metadata": {},
   "outputs": [],
   "source": [
    "from mpl_toolkits.axes_grid1 import AxesGrid\n",
    "from cartopy.mpl.geoaxes import GeoAxes"
   ]
  },
  {
   "cell_type": "markdown",
   "metadata": {},
   "source": [
    "The syntax is not super simple..., `axes_pad=[hspace, wspace]` defines the distance between the subplots in inches."
   ]
  },
  {
   "cell_type": "code",
   "execution_count": null,
   "metadata": {},
   "outputs": [],
   "source": [
    "projection = ccrs.PlateCarree()\n",
    "axes_class = (GeoAxes, dict(projection=projection))\n",
    "\n",
    "\n",
    "f = plt.figure()\n",
    "axgr = AxesGrid(\n",
    "    f,\n",
    "    111,\n",
    "    axes_class=axes_class,\n",
    "    nrows_ncols=(3, 2),\n",
    "    axes_pad=[2 / 2.54, 1 / 2.54],\n",
    "    label_mode=\"\",\n",
    ")  # note the empty label_mode\n",
    "\n",
    "axs = axgr.axes_all\n",
    "\n",
    "for ax in axs:\n",
    "    ax.coastlines()\n",
    "\n",
    "plt.savefig(\"AxesGrid.pdf\")"
   ]
  },
  {
   "cell_type": "markdown",
   "metadata": {},
   "source": [
    "This may look wrong - but the distance between the subplots are exactly 2 cm & 1 cm (see the AxesGrid.pdf).\n",
    "\n",
    "While hspace and wspace are correct, this comes at the cost that left, right, top, and bottom may not be set as specified.\n",
    "\n",
    "### Exercise\n",
    "\n",
    " * set axes_pad to 0.5 cm\n",
    " * set the figure size to 16 cm x 13 cm (`f.set_size_inches`)\n",
    " * play around with `f.subplots_adjust` to find a good setting"
   ]
  },
  {
   "cell_type": "code",
   "execution_count": null,
   "metadata": {},
   "outputs": [],
   "source": [
    "projection = ccrs.PlateCarree()\n",
    "axes_class = (GeoAxes, dict(projection=projection))\n",
    "\n",
    "f = plt.figure()\n",
    "\n",
    "# set figure size\n",
    "# f.set_size_inches(...)\n",
    "\n",
    "axgr = AxesGrid(\n",
    "    f,\n",
    "    111,\n",
    "    axes_class=axes_class,\n",
    "    nrows_ncols=(3, 2),\n",
    "    axes_pad=[2 / 2.54, 1 / 2.54],\n",
    "    label_mode=\"\",\n",
    ")\n",
    "\n",
    "axs = axgr.axes_all\n",
    "\n",
    "for ax in axs:\n",
    "    ax.coastlines()\n",
    "\n",
    "# adjust the subplots\n",
    "# f.subplots_adjust(left=0.1, right=0.9, bottom=0.1, top=0.9)"
   ]
  },
  {
   "cell_type": "markdown",
   "metadata": {},
   "source": [
    "### Solution"
   ]
  },
  {
   "cell_type": "code",
   "execution_count": null,
   "metadata": {
    "hide_input": false,
    "tags": [
     "solution"
    ]
   },
   "outputs": [],
   "source": [
    "projection = ccrs.PlateCarree()\n",
    "axes_class = (GeoAxes, dict(projection=projection))\n",
    "\n",
    "\n",
    "f = plt.figure()\n",
    "\n",
    "# set figure size\n",
    "f.set_size_inches(16 / 2.54, 13 / 2.54)\n",
    "\n",
    "axgr = AxesGrid(\n",
    "    f,\n",
    "    111,\n",
    "    axes_class=axes_class,\n",
    "    nrows_ncols=(3, 2),\n",
    "    axes_pad=[0.5 / 2.54, 0.5 / 2.54],\n",
    "    label_mode=\"\",\n",
    ")  # note the empty label_mode\n",
    "\n",
    "axs = axgr.axes_all\n",
    "\n",
    "for ax in axs:\n",
    "    ax.coastlines()\n",
    "\n",
    "f.subplots_adjust(left=0.05, right=0.95, bottom=0.05, top=0.95)"
   ]
  },
  {
   "cell_type": "markdown",
   "metadata": {},
   "source": [
    "## Colorbars\n",
    "\n",
    "You can also directly add colorbars."
   ]
  },
  {
   "cell_type": "code",
   "execution_count": null,
   "metadata": {
    "hide_input": false
   },
   "outputs": [],
   "source": [
    "# create sample data\n",
    "lon, lat, data = mpu.sample_data_map(90, 48)\n",
    "\n",
    "# =====\n",
    "\n",
    "f = plt.figure()\n",
    "\n",
    "f.set_size_inches(16 / 2.54, 14.5 / 2.54)\n",
    "\n",
    "\n",
    "projection = ccrs.PlateCarree()\n",
    "axes_class = (GeoAxes, dict(projection=projection))\n",
    "\n",
    "axgr = AxesGrid(\n",
    "    f,\n",
    "    111,\n",
    "    axes_class=axes_class,\n",
    "    nrows_ncols=(3, 2),\n",
    "    axes_pad=[0.5 / 2.54, 0.5 / 2.54],\n",
    "    cbar_location=\"bottom\",\n",
    "    cbar_mode=\"single\",\n",
    "    cbar_pad=0.1 / 2.54,\n",
    "    cbar_size=\"10%\",\n",
    "    label_mode=\"\",\n",
    ")  # note the empty label_mode\n",
    "\n",
    "\n",
    "axs = axgr.axes_all\n",
    "for ax in axs:\n",
    "    ax.coastlines()\n",
    "    h = ax.pcolormesh(\n",
    "        lon, lat, data, vmin=-1, vmax=1, cmap=\"RdBu_r\", transform=ccrs.PlateCarree()\n",
    "    )\n",
    "    ax.set_global()\n",
    "\n",
    "axgr.cbar_axes[0].colorbar(h)\n",
    "\n",
    "f.subplots_adjust(left=0.05, right=0.95, bottom=0.1, top=0.95)"
   ]
  },
  {
   "cell_type": "markdown",
   "metadata": {},
   "source": [
    "Note how the figure size and bottom had to be adjusted.\n",
    "\n",
    "### Exercise\n",
    "\n",
    " * plot the same data on 3 subplots below each other\n",
    " * choose an Orthographic projection\n",
    " * add a colorbar for each plot, on the right side of the subplot\n",
    " * bonus: adjust the figure size and the subplot params "
   ]
  },
  {
   "cell_type": "code",
   "execution_count": null,
   "metadata": {},
   "outputs": [],
   "source": [
    "# uncomment to get the docstring\n",
    "# AxesGrid?"
   ]
  },
  {
   "cell_type": "code",
   "execution_count": null,
   "metadata": {},
   "outputs": [],
   "source": [
    "# create sample data\n",
    "lon, lat, data = mpu.sample_data_map(90, 48)\n",
    "\n",
    "# =====\n",
    "\n",
    "# code here"
   ]
  },
  {
   "cell_type": "markdown",
   "metadata": {},
   "source": [
    "### Solution"
   ]
  },
  {
   "cell_type": "code",
   "execution_count": null,
   "metadata": {
    "hide_input": false,
    "tags": [
     "solution"
    ]
   },
   "outputs": [],
   "source": [
    "# create sample data\n",
    "lon, lat, data = mpu.sample_data_map(90, 48)\n",
    "\n",
    "# =====\n",
    "\n",
    "projection = ccrs.Orthographic()\n",
    "axes_class = (GeoAxes, dict(projection=projection))\n",
    "\n",
    "f = plt.figure()\n",
    "\n",
    "f.set_size_inches(8 / 2.54, 14.5 / 2.54)\n",
    "\n",
    "axgr = AxesGrid(\n",
    "    f,\n",
    "    111,\n",
    "    axes_class=axes_class,\n",
    "    nrows_ncols=(3, 1),\n",
    "    axes_pad=0.75 / 2.54,\n",
    "    cbar_location=\"right\",\n",
    "    cbar_mode=\"each\",\n",
    "    cbar_pad=0.5 / 2.54,\n",
    "    cbar_size=\"10%\",\n",
    "    label_mode=\"\",\n",
    ")  # note the empty label_mode\n",
    "\n",
    "\n",
    "axs = axgr.axes_all\n",
    "for i, ax in enumerate(axs):\n",
    "    ax.coastlines()\n",
    "    h = ax.pcolormesh(\n",
    "        lon, lat, data, vmin=-1, vmax=1, cmap=\"RdBu_r\", transform=ccrs.PlateCarree()\n",
    "    )\n",
    "\n",
    "    axgr.cbar_axes[i].colorbar(h)\n",
    "\n",
    "\n",
    "f.subplots_adjust(left=0.05, right=0.9, bottom=0.05, top=0.95)"
   ]
  }
 ],
 "metadata": {
  "hide_input": false,
  "kernelspec": {
   "display_name": "Python 3 (ipykernel)",
   "language": "python",
   "name": "python3"
  },
  "language_info": {
   "codemirror_mode": {
    "name": "ipython",
    "version": 3
   },
   "file_extension": ".py",
   "mimetype": "text/x-python",
   "name": "python",
   "nbconvert_exporter": "python",
   "pygments_lexer": "ipython3",
   "version": "3.9.16"
  },
  "toc": {
   "base_numbering": 1,
   "nav_menu": {},
   "number_sections": true,
   "sideBar": true,
   "skip_h1_title": false,
   "title_cell": "Table of Contents",
   "title_sidebar": "Contents",
   "toc_cell": false,
   "toc_position": {},
   "toc_section_display": true,
   "toc_window_display": false
  },
  "vscode": {
   "interpreter": {
    "hash": "767d51c1340bd893661ea55ea3124f6de3c7a262a8b4abca0554b478b1e2ff90"
   }
  }
 },
 "nbformat": 4,
 "nbformat_minor": 4
}
