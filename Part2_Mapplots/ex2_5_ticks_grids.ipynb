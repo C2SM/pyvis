{
 "cells": [
  {
   "cell_type": "markdown",
   "metadata": {},
   "source": [
    "# Exercise 2.5 Ticks and Grids for maps (cartopy)\n",
    "prepared by M.Hauser\n",
    "\n",
    "In this exercise we will look at how to add ticks, gridlines, and ticklabels to maps. This is probably the least developed part of cartopy...\n",
    "\n",
    "Note that most of what we show here for georeferenced plots does *NOT* apply to normal ticklabels."
   ]
  },
  {
   "cell_type": "code",
   "execution_count": null,
   "metadata": {},
   "outputs": [],
   "source": [
    "# Specific to our jupyterhub setup\n",
    "import os\n",
    "os.environ[\"PROJ_DATA\"] = \"/data/python_intro/miniconda/pkgs/proj-9.2.1-ha643af7_0\""
   ]
  },
  {
   "cell_type": "code",
   "execution_count": null,
   "metadata": {},
   "outputs": [],
   "source": [
    "import cartopy.crs as ccrs\n",
    "import cartopy.feature as cfeature\n",
    "import matplotlib.pyplot as plt\n",
    "import numpy as np\n",
    "from cartopy.mpl.ticker import LatitudeFormatter, LongitudeFormatter"
   ]
  },
  {
   "cell_type": "code",
   "execution_count": null,
   "metadata": {},
   "outputs": [],
   "source": [
    "import mplotutils as mpu"
   ]
  },
  {
   "cell_type": "markdown",
   "metadata": {},
   "source": [
    "## Ticks\n",
    "\n",
    "You can add ticks and format the tick labels like this:\n",
    "\n",
    "```python\n",
    "# set the ticks\n",
    "ax.set_xticks(lon, crs=ccrs.PlateCarree())\n",
    "# format the ticks as e.g 60°W\n",
    "ax.xaxis.set_major_formatter(LongitudeFormatter())\n",
    "```\n",
    "\n",
    "> Note: lon must be from -180 to 180, and not from 0 to 360"
   ]
  },
  {
   "cell_type": "code",
   "execution_count": null,
   "metadata": {},
   "outputs": [],
   "source": [
    "f, ax = plt.subplots(1, 1, subplot_kw=dict(projection=ccrs.PlateCarree()))\n",
    "ax.coastlines()\n",
    "\n",
    "lon = np.arange(-180, 181, 60)\n",
    "lat = np.arange(-90, 91, 30)\n",
    "\n",
    "# set the ticks\n",
    "ax.set_xticks(lon, crs=ccrs.PlateCarree())\n",
    "ax.set_yticks(lat, crs=ccrs.PlateCarree())\n",
    "\n",
    "# format the ticks as e.g 60°W\n",
    "ax.xaxis.set_major_formatter(LongitudeFormatter())\n",
    "ax.yaxis.set_major_formatter(LatitudeFormatter())\n",
    "\n",
    "ax.set_global()\n",
    "\n",
    "ax.set_ylabel(\"lat\")\n",
    "ax.set_xlabel(\"lon\")"
   ]
  },
  {
   "cell_type": "markdown",
   "metadata": {},
   "source": [
    "### Exercise\n",
    "\n",
    " * Add ticks for this Central European region\n",
    "\n",
    "> Note: If you try to set a tick at +- 90°, this will cause an error, because +- 90° is at +- infinity on the Mercartor Projection."
   ]
  },
  {
   "cell_type": "code",
   "execution_count": null,
   "metadata": {},
   "outputs": [],
   "source": [
    "f, ax = plt.subplots(1, 1, subplot_kw=dict(projection=ccrs.Mercator()))\n",
    "\n",
    "# load borders\n",
    "borders_50m = cfeature.NaturalEarthFeature(\n",
    "    \"cultural\", \"admin_0_countries\", \"50m\", facecolor=\"none\", edgecolor=\"0.5\"\n",
    ")\n",
    "ax.add_feature(borders_50m)\n",
    "\n",
    "# set ticks\n",
    "\n",
    "\n",
    "ax.set_extent([-10, 20, 45, 60], ccrs.PlateCarree())"
   ]
  },
  {
   "cell_type": "markdown",
   "metadata": {},
   "source": [
    "### Solution"
   ]
  },
  {
   "cell_type": "code",
   "execution_count": null,
   "metadata": {
    "hide_input": true,
    "tags": [
     "solution"
    ]
   },
   "outputs": [],
   "source": [
    "f, ax = plt.subplots(1, 1, subplot_kw=dict(projection=ccrs.Mercator()))\n",
    "\n",
    "# load borders\n",
    "borders_50m = cfeature.NaturalEarthFeature(\n",
    "    \"cultural\", \"admin_0_countries\", \"50m\", facecolor=\"none\", edgecolor=\"0.5\"\n",
    ")\n",
    "ax.add_feature(borders_50m)\n",
    "\n",
    "# set ticks\n",
    "lon = np.arange(-10, 21, 5)\n",
    "lat = np.arange(45, 61, 5)\n",
    "\n",
    "# set the ticks\n",
    "ax.set_xticks(lon, crs=ccrs.PlateCarree())\n",
    "ax.set_yticks(lat, crs=ccrs.PlateCarree())\n",
    "\n",
    "# format the ticks as e.g 60°W\n",
    "ax.xaxis.set_major_formatter(LongitudeFormatter())\n",
    "ax.yaxis.set_major_formatter(LatitudeFormatter())\n",
    "\n",
    "ax.set_extent([-10, 20, 45, 60], ccrs.PlateCarree())"
   ]
  },
  {
   "cell_type": "markdown",
   "metadata": {},
   "source": [
    "## Limitations\n",
    "\n",
    "When we try to add ticks to a global map with a `Robinson` projection it fails:"
   ]
  },
  {
   "cell_type": "code",
   "execution_count": null,
   "metadata": {
    "hide_input": true,
    "tags": [
     "solution"
    ]
   },
   "outputs": [],
   "source": [
    "f, ax = plt.subplots(1, 1, subplot_kw=dict(projection=ccrs.Robinson()))\n",
    "\n",
    "ax.coastlines()\n",
    "\n",
    "lon = np.arange(-180, 181, 60)\n",
    "lat = np.arange(-90, 91, 30)\n",
    "\n",
    "try:\n",
    "    # set the ticks\n",
    "    ax.set_xticks(lon, crs=ccrs.PlateCarree())\n",
    "    ax.set_yticks(lat, crs=ccrs.PlateCarree())\n",
    "except RuntimeError as err:\n",
    "    print(\"Error encountered:\")\n",
    "    print(f\"- {err}\")"
   ]
  },
  {
   "cell_type": "markdown",
   "metadata": {},
   "source": [
    "### Explanation\n",
    "\n",
    "This results in an error, at the moment cartopy can only handle ticks for [rectangular coordinate systems](http://scitools.org.uk/cartopy/docs/latest/reference/projections.html) (`PlateCarree`, `Miller`, ...). On the one hand, this is a (serious) limitation of cartopy, which may be fixed one day. On the other hand, there are some projections where it does not make sense to add ticks/ ticklabels, because they would all end up at the same location (e.g. the [Orthographic projection](http://scitools.org.uk/cartopy/docs/latest/reference/projections.html#orthographic)).\n",
    "\n",
    "## Grid lines\n",
    "\n",
    "Alternatively to ticks, you can also add gridlines."
   ]
  },
  {
   "cell_type": "code",
   "execution_count": null,
   "metadata": {},
   "outputs": [],
   "source": [
    "f, ax = plt.subplots(1, 1, subplot_kw=dict(projection=ccrs.PlateCarree()))\n",
    "\n",
    "ax.coastlines()\n",
    "\n",
    "lon = np.arange(-180, 181, 60)\n",
    "lat = np.arange(-90, 91, 30)\n",
    "\n",
    "ax.gridlines()\n",
    "\n",
    "ax.set_ylabel(\"lat\")\n",
    "ax.set_xlabel(\"lon\")"
   ]
  },
  {
   "cell_type": "markdown",
   "metadata": {},
   "source": [
    "> Note how `set_xlabel` and `set_ylabel` is ignored.\n",
    "\n",
    "There is a helper function to still add x- and y- labels for cartopy-based maps in `mplotutils` ([based on a stackoverflow answer](https://stackoverflow.com/a/35483665/3010700))."
   ]
  },
  {
   "cell_type": "code",
   "execution_count": null,
   "metadata": {},
   "outputs": [],
   "source": [
    "f, ax = plt.subplots(1, 1, subplot_kw=dict(projection=ccrs.PlateCarree()))\n",
    "\n",
    "ax.coastlines()\n",
    "\n",
    "lon = np.arange(-180, 181, 60)\n",
    "lat = np.arange(-90, 91, 30)\n",
    "\n",
    "ax.gridlines()\n",
    "\n",
    "ax.set_global()\n",
    "\n",
    "mpu.ylabel_map(\"lat\")\n",
    "mpu.xlabel_map(\"lon\");"
   ]
  },
  {
   "cell_type": "markdown",
   "metadata": {},
   "source": [
    "### Exercise\n",
    "\n",
    " * Try adding gridlines projections where ticks failed (e.g. `Robinson`)"
   ]
  },
  {
   "cell_type": "code",
   "execution_count": null,
   "metadata": {},
   "outputs": [],
   "source": [
    "# code here"
   ]
  },
  {
   "cell_type": "markdown",
   "metadata": {},
   "source": [
    "### Solution\n",
    "\n",
    "This works!"
   ]
  },
  {
   "cell_type": "code",
   "execution_count": null,
   "metadata": {
    "hide_input": true,
    "tags": [
     "solution"
    ]
   },
   "outputs": [],
   "source": [
    "f, ax = plt.subplots(1, 1, subplot_kw=dict(projection=ccrs.Robinson()))\n",
    "\n",
    "ax.coastlines()\n",
    "\n",
    "lon = np.arange(-180, 181, 60)\n",
    "lat = np.arange(-90, 91, 30)\n",
    "\n",
    "ax.gridlines()\n",
    "\n",
    "ax.set_global()\n",
    "\n",
    "mpu.ylabel_map(\"lat\")\n",
    "mpu.xlabel_map(\"lon\");"
   ]
  },
  {
   "cell_type": "markdown",
   "metadata": {},
   "source": [
    "## Gridline labels\n",
    "\n",
    "You can also add labels for gridlines, by setting `draw_labels=True`.\n",
    "\n",
    "Note:\n",
    "\n",
    "> Per default you get labels at each edge, you need to turn them off manually\n",
    "\n",
    "> You need to tell the gridliner to format the labels nicely (e.g. 60°N)\n",
    "\n",
    "> it chooses the location by itself, but this may not always be desirable\n"
   ]
  },
  {
   "cell_type": "code",
   "execution_count": null,
   "metadata": {},
   "outputs": [],
   "source": [
    "from cartopy.mpl.gridliner import LATITUDE_FORMATTER, LONGITUDE_FORMATTER"
   ]
  },
  {
   "cell_type": "code",
   "execution_count": null,
   "metadata": {},
   "outputs": [],
   "source": [
    "f, ax = plt.subplots(1, 1, subplot_kw=dict(projection=ccrs.Mercator()))\n",
    "\n",
    "# load borders\n",
    "borders_50m = cfeature.NaturalEarthFeature(\n",
    "    \"cultural\", \"admin_0_countries\", \"50m\", facecolor=\"none\", edgecolor=\"0.5\"\n",
    ")\n",
    "\n",
    "ax.add_feature(borders_50m)\n",
    "\n",
    "gl = ax.gridlines(draw_labels=True)\n",
    "\n",
    "gl.top_labels = False\n",
    "gl.right_labels = False\n",
    "\n",
    "gl.xformatter = LONGITUDE_FORMATTER\n",
    "gl.yformatter = LATITUDE_FORMATTER\n",
    "\n",
    "ax.set_extent([-10, 20, 45, 60], ccrs.PlateCarree())"
   ]
  },
  {
   "cell_type": "markdown",
   "metadata": {},
   "source": [
    "### Exercise\n",
    "\n",
    " * Choose the location of the x- and y- ticks manually. This can be done by passing `xlocs`, and `ylocs` to `ax.gridlines`.\n",
    " * Increase the box (`set_extent`) a tiny bit so all labels are added"
   ]
  },
  {
   "cell_type": "code",
   "execution_count": null,
   "metadata": {},
   "outputs": [],
   "source": [
    "# uncomment to get the docstring\n",
    "# ax.gridlines?"
   ]
  },
  {
   "cell_type": "code",
   "execution_count": null,
   "metadata": {},
   "outputs": [],
   "source": [
    "f, ax = plt.subplots(1, 1, subplot_kw=dict(projection=ccrs.Mercator()))\n",
    "\n",
    "# load borders\n",
    "borders_50m = cfeature.NaturalEarthFeature(\n",
    "    \"cultural\", \"admin_0_countries\", \"50m\", facecolor=\"none\", edgecolor=\"0.5\"\n",
    ")\n",
    "\n",
    "ax.add_feature(borders_50m)\n",
    "\n",
    "# create lon and lat\n",
    "# lon = np.arange(...)\n",
    "# lat = np.arange(...)\n",
    "\n",
    "\n",
    "# use xlocs and ylocs\n",
    "gl = ax.gridlines(draw_labels=True)\n",
    "\n",
    "gl.top_labels = False\n",
    "gl.right_labels = False\n",
    "\n",
    "gl.xformatter = LONGITUDE_FORMATTER\n",
    "gl.yformatter = LATITUDE_FORMATTER\n",
    "\n",
    "ax.set_extent([-10, 20, 45, 60], ccrs.PlateCarree())"
   ]
  },
  {
   "cell_type": "markdown",
   "metadata": {},
   "source": [
    "### Solution"
   ]
  },
  {
   "cell_type": "code",
   "execution_count": null,
   "metadata": {
    "hide_input": true,
    "tags": [
     "solution"
    ]
   },
   "outputs": [],
   "source": [
    "f, ax = plt.subplots(1, 1, subplot_kw=dict(projection=ccrs.Mercator()))\n",
    "\n",
    "# load borders\n",
    "borders_50m = cfeature.NaturalEarthFeature(\n",
    "    \"cultural\", \"admin_0_countries\", \"50m\", facecolor=\"none\", edgecolor=\"0.5\"\n",
    ")\n",
    "\n",
    "ax.add_feature(borders_50m)\n",
    "\n",
    "lon = np.arange(-10, 21, 5)\n",
    "lat = np.arange(45, 61, 2.5)\n",
    "\n",
    "gl = ax.gridlines(xlocs=lon, ylocs=lat, draw_labels=True)\n",
    "\n",
    "gl.top_labels = False\n",
    "gl.right_labels = False\n",
    "\n",
    "gl.xformatter = LONGITUDE_FORMATTER\n",
    "gl.yformatter = LATITUDE_FORMATTER\n",
    "\n",
    "ax.set_extent([-10.1, 20.1, 44.9, 60.1], ccrs.PlateCarree())"
   ]
  },
  {
   "cell_type": "markdown",
   "metadata": {},
   "source": [
    "### Exercise\n",
    "\n",
    " * Try to add labels for a global map with the Robinson projection"
   ]
  },
  {
   "cell_type": "code",
   "execution_count": null,
   "metadata": {},
   "outputs": [],
   "source": [
    "# code here"
   ]
  },
  {
   "cell_type": "markdown",
   "metadata": {},
   "source": [
    "### Solution"
   ]
  },
  {
   "cell_type": "code",
   "execution_count": null,
   "metadata": {
    "hide_input": true,
    "tags": [
     "solution"
    ]
   },
   "outputs": [],
   "source": [
    "f, ax = plt.subplots(1, 1, subplot_kw=dict(projection=ccrs.Robinson()))\n",
    "\n",
    "ax.coastlines()\n",
    "\n",
    "gl = ax.gridlines(draw_labels=True)\n",
    "\n",
    "gl.top_labels = False\n",
    "gl.right_labels = False\n",
    "\n",
    "gl.xformatter = LONGITUDE_FORMATTER\n",
    "gl.yformatter = LATITUDE_FORMATTER\n",
    "\n",
    "ax.set_global()"
   ]
  },
  {
   "cell_type": "markdown",
   "metadata": {},
   "source": [
    "## This fails as well (partially) - what to do?\n",
    "\n",
    "This problem is actually quite difficult to solve. I provide an incomplete (and not very well tested) solution to add ticks for more projections:"
   ]
  },
  {
   "cell_type": "code",
   "execution_count": null,
   "metadata": {},
   "outputs": [],
   "source": [
    "f, ax = plt.subplots(1, 1, subplot_kw=dict(projection=ccrs.Robinson()))\n",
    "\n",
    "ax.coastlines()\n",
    "\n",
    "ax.set_global()\n",
    "\n",
    "lat = np.arange(-90, 91, 20)\n",
    "lon = np.arange(-180, 181, 60)\n",
    "\n",
    "gl = ax.gridlines(ylocs=lat, xlocs=lon)\n",
    "\n",
    "mpu.yticklabels(lat, ax=ax, size=8)\n",
    "mpu.xticklabels(lon, ax=ax, size=8)"
   ]
  },
  {
   "cell_type": "markdown",
   "metadata": {},
   "source": [
    "### Exercise\n",
    "\n",
    " * Add ticklabels to the following regional plot\n",
    " \n",
    "Note\n",
    "> You need to call `set_extent` *before* `mpu.yticklabels`"
   ]
  },
  {
   "cell_type": "code",
   "execution_count": null,
   "metadata": {},
   "outputs": [],
   "source": [
    "f, ax = plt.subplots(1, 1, subplot_kw=dict(projection=ccrs.Robinson()))\n",
    "\n",
    "# load borders\n",
    "borders_50m = cfeature.NaturalEarthFeature(\n",
    "    \"cultural\", \"admin_0_countries\", \"50m\", facecolor=\"none\", edgecolor=\"0.5\"\n",
    ")\n",
    "\n",
    "ax.add_feature(borders_50m)\n",
    "\n",
    "lon = np.arange(-15, 26, 5)\n",
    "lat = np.arange(45, 66, 5)\n",
    "\n",
    "gl = ax.gridlines(xlocs=lon, ylocs=lat)\n",
    "\n",
    "ax.set_extent([-10.1, 20.1, 44.9, 61.1], ccrs.PlateCarree())\n",
    "\n",
    "# add labels"
   ]
  },
  {
   "cell_type": "markdown",
   "metadata": {},
   "source": [
    "### Solution"
   ]
  },
  {
   "cell_type": "code",
   "execution_count": null,
   "metadata": {
    "hide_input": true,
    "tags": [
     "solution"
    ]
   },
   "outputs": [],
   "source": [
    "f, ax = plt.subplots(1, 1, subplot_kw=dict(projection=ccrs.Robinson()))\n",
    "\n",
    "# load borders\n",
    "borders_50m = cfeature.NaturalEarthFeature(\n",
    "    \"cultural\", \"admin_0_countries\", \"50m\", facecolor=\"none\", edgecolor=\"0.5\"\n",
    ")\n",
    "\n",
    "ax.add_feature(borders_50m)\n",
    "\n",
    "lon = np.arange(-15, 26, 5)\n",
    "lat = np.arange(45, 66, 2.5)\n",
    "\n",
    "gl = ax.gridlines(xlocs=lon, ylocs=lat)\n",
    "\n",
    "ax.set_extent([-10.1, 20.1, 44.9, 61.1], ccrs.PlateCarree())\n",
    "\n",
    "mpu.yticklabels(lat, ax=ax)\n",
    "mpu.xticklabels(lon, ax=ax)"
   ]
  },
  {
   "cell_type": "markdown",
   "metadata": {},
   "source": [
    "## However,\n",
    "\n",
    "this approach does not work if all labels fall into one place:"
   ]
  },
  {
   "cell_type": "code",
   "execution_count": null,
   "metadata": {},
   "outputs": [],
   "source": [
    "f, ax = plt.subplots(1, 1, subplot_kw=dict(projection=ccrs.Sinusoidal()))\n",
    "\n",
    "ax.coastlines()\n",
    "\n",
    "ax.set_global()\n",
    "\n",
    "lat = np.arange(-90, 91, 30)\n",
    "lon = np.arange(-180, 361, 30)\n",
    "\n",
    "gl = ax.gridlines(ylocs=lat, xlocs=lon)\n",
    "\n",
    "mpu.yticklabels(lat, ax=ax, size=8, labelpad=[4, 20])\n",
    "mpu.xticklabels(lon, ax=ax, size=8)"
   ]
  },
  {
   "cell_type": "markdown",
   "metadata": {},
   "source": [
    "### Exercise\n",
    " * Manually add labels for the longitude, using ax.text\n",
    " * Bonus: set the background to a semi-transparent white (Hint: `bbox=dict(...)`)"
   ]
  },
  {
   "cell_type": "code",
   "execution_count": null,
   "metadata": {},
   "outputs": [],
   "source": [
    "# uncomment to get the docstring\n",
    "# ax.text?"
   ]
  },
  {
   "cell_type": "code",
   "execution_count": null,
   "metadata": {},
   "outputs": [],
   "source": [
    "f, ax = plt.subplots(1, 1, subplot_kw=dict(projection=ccrs.Sinusoidal()))\n",
    "\n",
    "ax.coastlines()\n",
    "\n",
    "ax.set_global()\n",
    "\n",
    "lat = np.arange(-90, 91, 30)\n",
    "lon = np.arange(-180, 181, 60)\n",
    "\n",
    "gl = ax.gridlines(ylocs=lat, xlocs=lon)\n",
    "\n",
    "mpu.yticklabels(lat, ax=ax, size=8, labelpad=[4, 20])\n",
    "\n",
    "for ln in lon[1:]:\n",
    "\n",
    "    msg = LONGITUDE_FORMATTER(ln)\n",
    "\n",
    "    # add textbox here"
   ]
  },
  {
   "cell_type": "markdown",
   "metadata": {},
   "source": [
    "### Solution"
   ]
  },
  {
   "cell_type": "code",
   "execution_count": null,
   "metadata": {
    "hide_input": true,
    "tags": [
     "solution"
    ]
   },
   "outputs": [],
   "source": [
    "f, ax = plt.subplots(1, 1, subplot_kw=dict(projection=ccrs.Sinusoidal()))\n",
    "\n",
    "ax.coastlines()\n",
    "\n",
    "ax.set_global()\n",
    "\n",
    "lat = np.arange(-90, 91, 30)\n",
    "lon = np.arange(-180, 181, 60)\n",
    "\n",
    "gl = ax.gridlines(ylocs=lat, xlocs=lon)\n",
    "\n",
    "mpu.yticklabels(lat, ax=ax, size=8, labelpad=[4, 20])\n",
    "\n",
    "bbox_props = dict(fc=\"w\", ec=\"none\", alpha=0.75)\n",
    "\n",
    "for ln in lon[1:]:\n",
    "\n",
    "    msg = LONGITUDE_FORMATTER(ln)\n",
    "\n",
    "    ax.text(\n",
    "        ln,\n",
    "        0,\n",
    "        msg,\n",
    "        va=\"center\",\n",
    "        ha=\"center\",\n",
    "        transform=ccrs.PlateCarree(),\n",
    "        fontsize=8,\n",
    "        bbox=bbox_props,\n",
    "    )"
   ]
  }
 ],
 "metadata": {
  "hide_input": false,
  "kernelspec": {
   "display_name": "Python 3 (ipykernel)",
   "language": "python",
   "name": "python3"
  },
  "language_info": {
   "codemirror_mode": {
    "name": "ipython",
    "version": 3
   },
   "file_extension": ".py",
   "mimetype": "text/x-python",
   "name": "python",
   "nbconvert_exporter": "python",
   "pygments_lexer": "ipython3",
   "version": "3.11.8"
  }
 },
 "nbformat": 4,
 "nbformat_minor": 4
}
