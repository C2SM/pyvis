{
 "cells": [
  {
   "cell_type": "markdown",
   "metadata": {},
   "source": [
    "# Exercise 2.5 Stippling (cartopy)\n",
    "prepared by M.Hauser\n",
    "\n",
    "Stippling in pyplot is done with the function `contourf`.\n",
    "\n",
    "> Most of what we show here for georeferenced plots also applies to stippling when you are not using cartopy.\n",
    "\n",
    "## Import libraries"
   ]
  },
  {
   "cell_type": "code",
   "execution_count": null,
   "metadata": {},
   "outputs": [],
   "source": [
    "import cartopy.crs as ccrs\n",
    "import cartopy.util as cutil\n",
    "import matplotlib.pyplot as plt\n",
    "import mplotutils as mpu\n",
    "import numpy as np\n",
    "import xarray as xr"
   ]
  },
  {
   "cell_type": "markdown",
   "metadata": {},
   "source": [
    "## stippling $\\rightarrow$ hatching\n",
    "\n",
    "Stippling is called hatching in matplotlib.\n",
    "\n",
    "* `contourf` takes a `hatches` keyword, and you have to specify one hatch-pattern per drawn level. The pattern are determined via characters, e.g. using `\"/\"` yields diagonal lines.\n",
    "* The hatching is more dense if the character is repeated, e.g.: `\"///\"`.\n",
    "* Specifying an empty string (`\"\"`) omits the hatching."
   ]
  },
  {
   "cell_type": "code",
   "execution_count": null,
   "metadata": {},
   "outputs": [],
   "source": [
    "# create sample data\n",
    "lon, lat, data = mpu.sample_data_map(90, 48)\n",
    "DATA, LON = cutil.add_cyclic_point(data, lon)\n",
    "\n",
    "# ====\n",
    "\n",
    "f, ax = plt.subplots(1, 1, subplot_kw=dict(projection=ccrs.PlateCarree()))\n",
    "ax.coastlines()\n",
    "\n",
    "# ====\n",
    "\n",
    "# add 3 levels\n",
    "levels = [-1, -0.5, 0.5, 1]\n",
    "\n",
    "# set hatching for each level\n",
    "hatches = [\"/\", \"\", \"////\"]\n",
    "\n",
    "h = ax.contourf(LON, lat, DATA, levels=levels, hatches=hatches, cmap=\"RdBu\")\n",
    "\n",
    "# ====\n",
    "\n",
    "ax.set_global()\n",
    "\n",
    "# add colorbar\n",
    "mpu.colorbar(h, ax, aspect=15, pad=0.025)\n",
    "\n",
    "f.canvas.draw()"
   ]
  },
  {
   "cell_type": "markdown",
   "metadata": {},
   "source": [
    "## Hatch patterns\n",
    "\n",
    "Most of the hatch patterns are quite intuitive:\n",
    "\n",
    "```python\n",
    "patterns = [ \"/\" , \"\\\\\" , \"|\" , \"-\" , \"+\" , \"x\", \"o\", \"O\", \".\", \"*\" ]\n",
    "```\n",
    "    \n",
    "They are visualized in the next figure (after an [stackoverflow answer](https://stackoverflow.com/a/14279608)). Not only `contourf`, other functions also take a hatch keyword, e.g. `ax.bar`. \n",
    "\n",
    "(However, `pcolormesh` does not, although the documentation says so.)"
   ]
  },
  {
   "cell_type": "code",
   "execution_count": null,
   "metadata": {},
   "outputs": [],
   "source": [
    "patterns = [\"/\", \"\\\\\", \"|\", \"-\", \"+\", \"x\", \"o\", \"O\", \".\", \"*\", \"/.\"]\n",
    "\n",
    "f, ax = plt.subplots()\n",
    "for i, pattern in enumerate(patterns):\n",
    "    ax.bar(i, 1, color=\"none\", edgecolor=\"k\", hatch=pattern)"
   ]
  },
  {
   "cell_type": "markdown",
   "metadata": {},
   "source": [
    "Note that \\ is an escape character. Therefore, `\"\\\"` is not a valid string. You can either escape the escape character, using `\"\\\\\"` or add a space `\"\\ \"`."
   ]
  },
  {
   "cell_type": "markdown",
   "metadata": {},
   "source": [
    "## Load CMIP5 data: historical precipitation climatology (1986 to 2005)\n",
    "\n",
    "Load historical, and projected climatological precipitation, as well as the relative change between them, from all CMIP5 models for RCP8.5 (Taylor et al., 2012).\n",
    "\n",
    "The data was prepared in [another notebook](../data/prepare_CMIP5_map.ipynb)."
   ]
  },
  {
   "cell_type": "code",
   "execution_count": null,
   "metadata": {},
   "outputs": [],
   "source": [
    "file = \"../data/cmip5_delta_pr_rcp85_map.nc\"\n",
    "pr = xr.open_dataset(file)"
   ]
  },
  {
   "cell_type": "markdown",
   "metadata": {},
   "source": [
    "### Exercise\n",
    " * Add hatches for precipitation changes larger than +- 20 % - there are a total of 8 levels (don't change `levels`)"
   ]
  },
  {
   "cell_type": "code",
   "execution_count": null,
   "metadata": {},
   "outputs": [],
   "source": [
    "# get data\n",
    "pr_rel_cyclic = mpu.cyclic_dataarray(pr.pr_rel)\n",
    "\n",
    "# ===\n",
    "\n",
    "# plot\n",
    "f, ax = plt.subplots(1, 1, subplot_kw=dict(projection=ccrs.Robinson()))\n",
    "ax.coastlines()\n",
    "\n",
    "# set levels\n",
    "levels = np.arange(-20, 101, 20)\n",
    "\n",
    "# add hatches\n",
    "# hatches = [...]\n",
    "\n",
    "h = pr_rel_cyclic.plot.contourf(\n",
    "    ax=ax,\n",
    "    transform=ccrs.PlateCarree(),\n",
    "    levels=levels,\n",
    "    extend=\"both\",\n",
    "    add_colorbar=False,\n",
    "    cmap=\"viridis\",\n",
    "    #     hatches=hatches,\n",
    ")\n",
    "\n",
    "# add colorbar\n",
    "mpu.colorbar(h, ax, spacing=\"proportional\", aspect=15)\n",
    "\n",
    "plt.draw()"
   ]
  },
  {
   "cell_type": "markdown",
   "metadata": {},
   "source": [
    "### Solution"
   ]
  },
  {
   "cell_type": "code",
   "execution_count": null,
   "metadata": {
    "hide_input": true,
    "tags": [
     "solution"
    ]
   },
   "outputs": [],
   "source": [
    "# get data\n",
    "pr_rel_cyclic = mpu.cyclic_dataarray(pr.pr_rel)\n",
    "\n",
    "# ===\n",
    "\n",
    "# plot\n",
    "f, ax = plt.subplots(1, 1, subplot_kw=dict(projection=ccrs.Robinson()))\n",
    "ax.coastlines()\n",
    "\n",
    "# set levels\n",
    "levels = np.arange(-20, 101, 20)\n",
    "\n",
    "# add hatches\n",
    "hatches = [\"\\\\\\\\\", \"\", \"\", \"//\", \"//\", \"//\", \"//\", \"//\"]\n",
    "\n",
    "h = pr_rel_cyclic.plot.contourf(\n",
    "    ax=ax,\n",
    "    transform=ccrs.PlateCarree(),\n",
    "    levels=levels,\n",
    "    extend=\"both\",\n",
    "    add_colorbar=False,\n",
    "    cmap=\"viridis\",\n",
    "    hatches=hatches,\n",
    ")\n",
    "\n",
    "# add colorbar\n",
    "mpu.colorbar(h, ax, spacing=\"proportional\", aspect=15)\n",
    "\n",
    "plt.draw()"
   ]
  },
  {
   "cell_type": "markdown",
   "metadata": {},
   "source": [
    "### Better Solution\n",
    "\n",
    "When you look closely, you can see that some of the hatch-lines are broken. It's actually better if you add a second contourf command, with only 3 levels, so that the entire area gets hatched in one go. You can then remove the colored patches with `colors='none'`:"
   ]
  },
  {
   "cell_type": "code",
   "execution_count": null,
   "metadata": {},
   "outputs": [],
   "source": [
    "# get data\n",
    "pr_rel_cyclic = mpu.cyclic_dataarray(pr.pr_rel)\n",
    "\n",
    "levels = np.arange(-20, 101, 20)\n",
    "\n",
    "# ===\n",
    "\n",
    "# plot\n",
    "f, ax = plt.subplots(1, 1, subplot_kw=dict(projection=ccrs.Robinson()))\n",
    "ax.coastlines()\n",
    "\n",
    "# plot the filled contours\n",
    "h = pr_rel_cyclic.plot.contourf(\n",
    "    ax=ax,\n",
    "    transform=ccrs.PlateCarree(),\n",
    "    levels=levels,\n",
    "    extend=\"both\",\n",
    "    add_colorbar=False,\n",
    "    cmap=\"viridis\",\n",
    ")\n",
    "\n",
    "# add the hatching\n",
    "levels = [-20, 20]\n",
    "hatches = [\"\\\\\\\\\", \"\", \"//\"]\n",
    "\n",
    "pr_rel_cyclic.plot.contourf(\n",
    "    ax=ax,\n",
    "    transform=ccrs.PlateCarree(),\n",
    "    levels=levels,\n",
    "    hatches=hatches,\n",
    "    extend=\"both\",\n",
    "    add_colorbar=False,\n",
    "    colors=\"none\",\n",
    ")\n",
    "\n",
    "\n",
    "# add colorbar\n",
    "mpu.colorbar(h, ax, spacing=\"proportional\", aspect=15)\n",
    "\n",
    "plt.draw()"
   ]
  },
  {
   "cell_type": "markdown",
   "metadata": {},
   "source": [
    "## Significance hatching\n",
    "\n",
    "Often we don't want to hatch the same values that we color, but, e.g. stipple significant parts of the data. I recommend to do this in five steps:\n",
    "\n",
    "1. Plot contourf of the significance values\n",
    "1. Determine the levels (e.g. `[0, 0.1, 1]`)\n",
    "1. Add the hatches (e.g. `['...', '']`)\n",
    "1. Remove the colors with `colors='none'` & get rid of the colorbar\n",
    "1. Add the actual data you want to plot"
   ]
  },
  {
   "cell_type": "markdown",
   "metadata": {},
   "source": [
    "### Loading Data\n",
    "\n",
    "For this example we use data contributed by a course participant. \n",
    "\n",
    "The data are ranked probability skill scores (RPSS) of ECMWF system 4 seasonal tercile forecasts verified against ERA-Interim on a global 1° x 1° grid. Additionally, the dataset contains the variable `signif` that indicates grid points with a significant improvement in skill. `signif` is given as boolean, 0 means no improvement, 1 means an improvement.\n",
    "\n",
    "> Due to the resolution of the data the plotting will take a moment."
   ]
  },
  {
   "cell_type": "code",
   "execution_count": null,
   "metadata": {},
   "outputs": [],
   "source": [
    "file = \"../data/globalRPSS.nc\"\n",
    "\n",
    "ds = xr.open_dataset(file)\n",
    "ds"
   ]
  },
  {
   "cell_type": "code",
   "execution_count": null,
   "metadata": {},
   "outputs": [],
   "source": [
    "# add cyclic point\n",
    "signif_cyclic = mpu.cyclic_dataarray(ds.signif, coord=\"longitude\")\n",
    "\n",
    "opt = dict(transform=ccrs.PlateCarree(), add_colorbar=False)\n",
    "\n",
    "# =====\n",
    "\n",
    "f, axs = plt.subplots(\n",
    "    2, 2, subplot_kw=dict(projection=ccrs.PlateCarree()), gridspec_kw=dict(wspace=0.4)\n",
    ")\n",
    "\n",
    "f.set_size_inches(20 / 2.54, 12 / 2.54)\n",
    "axs = axs.flatten()\n",
    "\n",
    "# =====\n",
    "\n",
    "ax = axs[0]\n",
    "h = signif_cyclic.plot.contourf(ax=ax, **opt)\n",
    "mpu.colorbar(h, ax, aspect=10)\n",
    "ax.set_title(\"Step 1: raw contourf\")\n",
    "\n",
    "# =====\n",
    "\n",
    "ax = axs[1]\n",
    "levels = [0, 0.5, 1]\n",
    "h = signif_cyclic.plot.contourf(ax=ax, levels=levels, **opt)\n",
    "mpu.colorbar(h, ax, aspect=10)\n",
    "ax.set_title(\"Step 2: manual levels\")\n",
    "\n",
    "# =====\n",
    "\n",
    "ax = axs[2]\n",
    "levels = [0, 0.5, 1]\n",
    "hatches = [\"\", \"...\"]\n",
    "h = signif_cyclic.plot.contourf(ax=ax, levels=levels, hatches=hatches, **opt)\n",
    "mpu.colorbar(h, ax, aspect=10)\n",
    "ax.set_title(\"Step 3: hatching\")\n",
    "\n",
    "# =====\n",
    "\n",
    "ax = axs[3]\n",
    "levels = [0, 0.5, 1]\n",
    "hatches = [\"\", \"...\"]\n",
    "h = signif_cyclic.plot.contourf(\n",
    "    ax=ax, levels=levels, hatches=hatches, colors=\"none\", **opt\n",
    ")\n",
    "\n",
    "ax.set_title(\"Step 4: remove color & bar\")\n",
    "\n",
    "# =====\n",
    "\n",
    "for ax in axs:\n",
    "    ax.coastlines()"
   ]
  },
  {
   "cell_type": "markdown",
   "metadata": {},
   "source": [
    "I would not actually do a four-panel plot. But repeat the same plot over and over, doing one step after the other.\n",
    "\n",
    "### Final figure"
   ]
  },
  {
   "cell_type": "code",
   "execution_count": null,
   "metadata": {},
   "outputs": [],
   "source": [
    "# add cyclic point\n",
    "signif_cyclic = mpu.cyclic_dataarray(ds.signif, coord=\"longitude\")\n",
    "\n",
    "# ========================================\n",
    "\n",
    "f, ax = plt.subplots(subplot_kw=dict(projection=ccrs.PlateCarree()))\n",
    "f.subplots_adjust(left=0.1, right=0.8)\n",
    "ax.coastlines()\n",
    "\n",
    "# =====\n",
    "\n",
    "# plot RPSS data\n",
    "\n",
    "levels = np.arange(-1.0, 1.1, 0.25)\n",
    "\n",
    "h = ds.RPSS.plot(\n",
    "    ax=ax,\n",
    "    levels=levels,\n",
    "    transform=ccrs.PlateCarree(),\n",
    "    add_colorbar=False,\n",
    "    cmap=\"RdYlBu_r\",\n",
    "    rasterized=True,\n",
    ")\n",
    "\n",
    "# =====\n",
    "\n",
    "# alternative (not using xarray)\n",
    "# create norm & cmap to plot levels\n",
    "# cmap, norm = mpu.from_levels_and_cmap(levels, \"RdYlBu_r\")\n",
    "\n",
    "# h = ax.pcolormesh(\n",
    "#     ds.longitude,\n",
    "#     ds.latitude,\n",
    "#     ds.RPSS,\n",
    "#     transform=ccrs.PlateCarree(),\n",
    "#     cmap=cmap,\n",
    "#     norm=norm,\n",
    "#     rasterized=True,\n",
    "# )\n",
    "\n",
    "# =====\n",
    "\n",
    "cbar = mpu.colorbar(h, ax, extendfrac=0.1, aspect=15)\n",
    "\n",
    "levels = [0, 0.5, 1]\n",
    "hatches = [\"\", \"...\"]\n",
    "\n",
    "signif_cyclic.plot.contourf(\n",
    "    ax=ax,\n",
    "    levels=levels,\n",
    "    hatches=hatches,\n",
    "    colors=\"none\",\n",
    "    transform=ccrs.PlateCarree(),\n",
    "    add_colorbar=False,\n",
    ")\n",
    "\n",
    "ax.set_title(\"Step 5: plot the actual data\")\n",
    "\n",
    "# ax.set_title('T2M: Ranked probability skill score, JJA')\n",
    "\n",
    "f.canvas.draw()\n",
    "# plt.savefig('ex2_5_stippling_RPSS.png', dpi=300)"
   ]
  },
  {
   "cell_type": "markdown",
   "metadata": {},
   "source": [
    "## Exercise: Show significant precipitation change\n",
    "\n",
    "The precipitation data from CMIP5 contains p-values, indicating where the change between the historical and future period is significant (note: this is derived from a t-test, which is not necessarily appropriate for the data).\n",
    "\n",
    "### Step 1\n",
    "\n",
    "* Use contourf to plot the p-values\n",
    "\n",
    "> Note: it's p-values and not a boolean indicating significance as above."
   ]
  },
  {
   "cell_type": "code",
   "execution_count": null,
   "metadata": {},
   "outputs": [],
   "source": [
    "# get data\n",
    "lon, lat, pval = pr.lon, pr.lat, pr.pval\n",
    "PVAL, LON = cutil.add_cyclic_point(pval, lon)\n",
    "\n",
    "# ====\n",
    "\n",
    "# plot\n",
    "f, ax = plt.subplots(1, 1, subplot_kw=dict(projection=ccrs.Robinson()))\n",
    "ax.coastlines()\n",
    "\n",
    "# plot p-values here\n",
    "# h = ax.contourf(...)\n",
    "\n",
    "# add colorbar\n",
    "mpu.colorbar(h, ax, spacing=\"proportional\")\n",
    "\n",
    "plt.draw()"
   ]
  },
  {
   "cell_type": "markdown",
   "metadata": {},
   "source": [
    "### Solution"
   ]
  },
  {
   "cell_type": "code",
   "execution_count": null,
   "metadata": {
    "hide_input": true,
    "tags": [
     "solution"
    ]
   },
   "outputs": [],
   "source": [
    "# get data\n",
    "lon, lat, pval = pr.lon, pr.lat, pr.pval\n",
    "PVAL, LON = cutil.add_cyclic_point(pval, lon)\n",
    "\n",
    "# ====\n",
    "\n",
    "# plot\n",
    "f, ax = plt.subplots(1, 1, subplot_kw=dict(projection=ccrs.Robinson()))\n",
    "ax.coastlines()\n",
    "\n",
    "# plot p-values here\n",
    "h = ax.contourf(LON, lat, PVAL, transform=ccrs.PlateCarree())\n",
    "\n",
    "# add colorbar\n",
    "mpu.colorbar(h, ax, spacing=\"proportional\")\n",
    "\n",
    "plt.draw()"
   ]
  },
  {
   "cell_type": "markdown",
   "metadata": {},
   "source": [
    "### Exercise - Step 2 & 3\n",
    "\n",
    "* We want to stipple everything with a p-value smaller than 0.1: determine the levels\n",
    "* Add the hatches"
   ]
  },
  {
   "cell_type": "code",
   "execution_count": null,
   "metadata": {},
   "outputs": [],
   "source": [
    "# get data\n",
    "lon, lat, pval = pr.lon, pr.lat, pr.pval\n",
    "PVAL, LON = cutil.add_cyclic_point(pval, lon)\n",
    "\n",
    "# ====\n",
    "\n",
    "# plot\n",
    "f, ax = plt.subplots(1, 1, subplot_kw=dict(projection=ccrs.Robinson()))\n",
    "ax.coastlines()\n",
    "\n",
    "# set the levels\n",
    "# levels =\n",
    "\n",
    "# add hatches\n",
    "# hatches = [...]\n",
    "\n",
    "h = ax.contourf(LON, lat, PVAL, transform=ccrs.PlateCarree())\n",
    "\n",
    "# add colorbar\n",
    "mpu.colorbar(h, ax, spacing=\"proportional\")\n",
    "\n",
    "plt.draw()"
   ]
  },
  {
   "cell_type": "markdown",
   "metadata": {},
   "source": [
    "### Solution"
   ]
  },
  {
   "cell_type": "code",
   "execution_count": null,
   "metadata": {
    "hide_input": true,
    "tags": [
     "solution"
    ]
   },
   "outputs": [],
   "source": [
    "# get data\n",
    "lon, lat, pval = pr.lon, pr.lat, pr.pval\n",
    "PVAL, LON = cutil.add_cyclic_point(pval, lon)\n",
    "\n",
    "# ====\n",
    "\n",
    "# plot\n",
    "f, ax = plt.subplots(1, 1, subplot_kw=dict(projection=ccrs.Robinson()))\n",
    "ax.coastlines()\n",
    "\n",
    "# set the levels\n",
    "levels = [0, 0.1, 1]\n",
    "# add hatches\n",
    "hatches = [\"..\", \"\"]\n",
    "\n",
    "h = ax.contourf(\n",
    "    LON, lat, PVAL, transform=ccrs.PlateCarree(), levels=levels, hatches=hatches\n",
    ")\n",
    "\n",
    "ax.set_global()\n",
    "\n",
    "# add colorbar\n",
    "mpu.colorbar(h, ax, spacing=\"proportional\")\n",
    "\n",
    "plt.draw()"
   ]
  },
  {
   "cell_type": "markdown",
   "metadata": {},
   "source": [
    "### Exercise - Step 4 & 5\n",
    "\n",
    "* Remove the colors with `colors=\"none\"`\n",
    "* Plot the relative precipitation change below the hatches\n",
    "* Make sure the right data is used for the colorbar"
   ]
  },
  {
   "cell_type": "code",
   "execution_count": null,
   "metadata": {},
   "outputs": [],
   "source": [
    "# get data\n",
    "lon, lat, pval, pr_rel = pr.lon, pr.lat, pr.pval, pr.pr_rel\n",
    "\n",
    "PVAL, LON = cutil.add_cyclic_point(pval, lon)\n",
    "PR_REL, LON = cutil.add_cyclic_point(pr_rel, lon)\n",
    "\n",
    "# ====\n",
    "\n",
    "# plot\n",
    "f, ax = plt.subplots(1, 1, subplot_kw=dict(projection=ccrs.Robinson()))\n",
    "ax.coastlines()\n",
    "\n",
    "# plot relative precipitation change\n",
    "# h = ax.contourf(...)\n",
    "\n",
    "# plot significance stippling\n",
    "# set the levels\n",
    "levels = [0, 0.1, 1]\n",
    "# add hatches\n",
    "hatches = [\"...\", \"\"]\n",
    "h = ax.contourf(\n",
    "    LON, lat, PVAL, transform=ccrs.PlateCarree(), levels=levels, hatches=hatches\n",
    ")\n",
    "\n",
    "# add colorbar\n",
    "mpu.colorbar(h, ax, spacing=\"proportional\")\n",
    "\n",
    "plt.draw()"
   ]
  },
  {
   "cell_type": "markdown",
   "metadata": {},
   "source": [
    "### Solution"
   ]
  },
  {
   "cell_type": "code",
   "execution_count": null,
   "metadata": {
    "hide_input": true,
    "tags": [
     "solution"
    ]
   },
   "outputs": [],
   "source": [
    "# get data\n",
    "lon, lat, pval, pr_rel = pr.lon, pr.lat, pr.pval, pr.pr_rel\n",
    "\n",
    "PVAL, LON = cutil.add_cyclic_point(pval, lon)\n",
    "PR_REL, LON = cutil.add_cyclic_point(pr_rel, lon)\n",
    "\n",
    "# ====\n",
    "\n",
    "# plot\n",
    "f, ax = plt.subplots(1, 1, subplot_kw=dict(projection=ccrs.Robinson()))\n",
    "ax.coastlines()\n",
    "\n",
    "# plot relative precipitation change\n",
    "# set levels\n",
    "levels = np.arange(-20, 101, 20)\n",
    "h = ax.contourf(\n",
    "    LON, lat, PR_REL, transform=ccrs.PlateCarree(), levels=levels, extend=\"both\"\n",
    ")\n",
    "\n",
    "# plot significance stippling\n",
    "# set the levels\n",
    "levels = [0, 0.1, 1]\n",
    "# add hatches\n",
    "hatches = [\"...\", \"\"]\n",
    "ax.contourf(\n",
    "    LON,\n",
    "    lat,\n",
    "    PVAL,\n",
    "    transform=ccrs.PlateCarree(),\n",
    "    levels=levels,\n",
    "    hatches=hatches,\n",
    "    colors=\"none\",\n",
    ")\n",
    "\n",
    "# add colorbar\n",
    "mpu.colorbar(h, ax, spacing=\"proportional\")\n",
    "\n",
    "plt.draw()"
   ]
  },
  {
   "cell_type": "markdown",
   "metadata": {},
   "source": [
    "## Manual hatches\n",
    "\n",
    "You can also manually add hatches by adding points at the coordinates of all grid cells that are significant. This can be considerably faster than with using hatches, however, it leads to a hatching pattern that depends on the resolution of the data which is generally not desirable."
   ]
  },
  {
   "cell_type": "code",
   "execution_count": null,
   "metadata": {},
   "outputs": [],
   "source": [
    "# get data\n",
    "pr_rel_cyclic = mpu.cyclic_dataarray(pr.pr_rel)\n",
    "\n",
    "# ====\n",
    "\n",
    "# plot\n",
    "f, ax = plt.subplots(1, 1, subplot_kw=dict(projection=ccrs.Robinson()))\n",
    "ax.coastlines()\n",
    "\n",
    "# plot relative precipitation change\n",
    "# set levels\n",
    "levels = np.arange(-20, 101, 20)\n",
    "h = pr_rel_cyclic.plot.contourf(\n",
    "    ax=ax,\n",
    "    transform=ccrs.PlateCarree(),\n",
    "    levels=levels,\n",
    "    extend=\"both\",\n",
    "    add_colorbar=False,\n",
    "    cmap=\"viridis\",\n",
    ")\n",
    "\n",
    "# 'manual' stippling\n",
    "\n",
    "# create array with all lat/ lon combinations\n",
    "LON, LAT = np.meshgrid(pr.lon, pr.lat)\n",
    "\n",
    "# find significant points (need to use .values)\n",
    "sig = pr.pval.values.flatten() <= 0.1\n",
    "\n",
    "LON = LON.flatten()[sig == 1]\n",
    "LAT = LAT.flatten()[sig == 1]\n",
    "\n",
    "# add scatterpoints\n",
    "ax.plot(LON, LAT, \".\", color=\"0.1\", transform=ccrs.PlateCarree(), ms=1)\n",
    "\n",
    "# add colorbar\n",
    "mpu.colorbar(h, ax, spacing=\"proportional\")\n",
    "\n",
    "f.canvas.draw()"
   ]
  }
 ],
 "metadata": {
  "hide_input": false,
  "kernelspec": {
   "display_name": "Python [conda env:pyvis]",
   "language": "python",
   "name": "conda-env-pyvis-py"
  },
  "language_info": {
   "codemirror_mode": {
    "name": "ipython",
    "version": 3
   },
   "file_extension": ".py",
   "mimetype": "text/x-python",
   "name": "python",
   "nbconvert_exporter": "python",
   "pygments_lexer": "ipython3",
   "version": "3.11.0"
  },
  "toc": {
   "base_numbering": 1,
   "nav_menu": {},
   "number_sections": true,
   "sideBar": true,
   "skip_h1_title": false,
   "title_cell": "Table of Contents",
   "title_sidebar": "Contents",
   "toc_cell": false,
   "toc_position": {},
   "toc_section_display": true,
   "toc_window_display": false
  }
 },
 "nbformat": 4,
 "nbformat_minor": 4
}
