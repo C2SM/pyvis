{
 "cells": [
  {
   "cell_type": "markdown",
   "metadata": {},
   "source": [
    "# Exercise 2.0 Georeferenced plots - cartopy: Introduction and scatterplots\n",
    "\n",
    "prepared by Mathias Hauser\n",
    "\n",
    "The main library to plot georeferenced data/ map plots in Python is [cartopy](http://scitools.org.uk/cartopy/). It is tightly coupled to matplotlib, so the general syntax is similar.\n",
    "\n",
    "## Goals\n",
    "\n",
    "* Display georeferenced data: create a map plot\n",
    "* Get to know cartopy and the `projection` and `transform` keywords\n",
    "\n",
    "## Import standard libraries"
   ]
  },
  {
   "cell_type": "code",
   "execution_count": null,
   "metadata": {
    "tags": []
   },
   "outputs": [],
   "source": [
    "import matplotlib.pyplot as plt\n",
    "import xarray as xr"
   ]
  },
  {
   "cell_type": "markdown",
   "metadata": {},
   "source": [
    "We also need to import the coordinate reference system (crs) from cartopy, which is commonly abbreviated as `ccrs`:"
   ]
  },
  {
   "cell_type": "code",
   "execution_count": null,
   "metadata": {
    "tags": []
   },
   "outputs": [],
   "source": [
    "import cartopy.crs as ccrs"
   ]
  },
  {
   "cell_type": "markdown",
   "metadata": {},
   "source": [
    "## Load Data\n",
    "\n",
    "### Argo floats\n",
    "\n",
    "As an example dataset, we use the position and temperature of [argo floats](http://www.argo.ucsd.edu/) for one day. Argo is a fleet of robotic instruments that drift with ocean currents and measure temperature, salinity, etc. The data was obtained from [ifremer](http://wwz.ifremer.fr/) (Institut français de recherche pour l'exploitation de la mer). The relevant data was extracted from the raw file in another [notebook](../data/prepare_argo_float_data.ipynb)\n",
    "\n",
    "There are three separate files for the Atlantic, Indian, and Pacific Oceans. We combine all three datasets into one using `xr.concat`:"
   ]
  },
  {
   "cell_type": "code",
   "execution_count": null,
   "metadata": {
    "tags": []
   },
   "outputs": [],
   "source": [
    "date = \"20171230\"\n",
    "\n",
    "fN = f\"../data/ARGO_ATL_{date}.nc\"\n",
    "atl = xr.open_dataset(fN)\n",
    "\n",
    "fN = f\"../data/ARGO_IND_{date}.nc\"\n",
    "ind = xr.open_dataset(fN)\n",
    "\n",
    "fN = f\"../data/ARGO_PAC_{date}.nc\"\n",
    "pac = xr.open_dataset(fN)\n",
    "\n",
    "argo = xr.concat([atl, ind, pac], dim=\"N_PROF\")"
   ]
  },
  {
   "cell_type": "code",
   "execution_count": null,
   "metadata": {
    "tags": []
   },
   "outputs": [],
   "source": [
    "argo"
   ]
  },
  {
   "cell_type": "markdown",
   "metadata": {},
   "source": [
    "The file contains the position (`lat` and `lon`)  and the ocean surface temperature (`TEMP`) of the floats for one day."
   ]
  },
  {
   "cell_type": "markdown",
   "metadata": {},
   "source": [
    "## First map\n",
    "\n",
    "To plot a map, we have to specify a `projection` for the axes. We start with the `PlateCarree` projection, which is an [equirectangular projection](https://en.wikipedia.org/wiki/Equirectangular_projection). This projection maps `x` to be the value of the longitude and `y` to be the value of the latitude.\n",
    "\n",
    "This creates a special kind of axes (a `<GeoAxesSubplot>`) which is derived from the normal `<AxesSubplot>`. It includes some special methods, one of which is called `ax.coastlines()` which allows to add coastlines.\n",
    "\n",
    "Ok, let's get started:"
   ]
  },
  {
   "cell_type": "code",
   "execution_count": null,
   "metadata": {
    "tags": []
   },
   "outputs": [],
   "source": [
    "# notice the `()`:\n",
    "projection = ccrs.PlateCarree()\n",
    "\n",
    "f, ax = plt.subplots(subplot_kw=dict(projection=projection))\n",
    "\n",
    "ax.coastlines()\n",
    "\n",
    "# for non-maps this would be: `<AxesSubplot>`\n",
    "ax"
   ]
  },
  {
   "cell_type": "markdown",
   "metadata": {},
   "source": [
    "We created our first map plot!\n",
    "\n",
    "There is a second way to create an axes with a certain projection:\n",
    "\n",
    "```python\n",
    "ax = plt.axes(projection=ccrs.PlateCarree())\n",
    "```"
   ]
  },
  {
   "cell_type": "code",
   "execution_count": null,
   "metadata": {
    "tags": []
   },
   "outputs": [],
   "source": [
    "f = plt.figure()\n",
    "ax = plt.axes(projection=ccrs.PlateCarree())\n",
    "ax.coastlines()"
   ]
  },
  {
   "cell_type": "markdown",
   "metadata": {},
   "source": [
    "While this is less to write, it does not allow for creating several subplots at once. We'll mostly use `plt.subplots` for the rest of the course, but both forms are fine.\n",
    "\n",
    "### Exercise\n",
    "\n",
    "* Create a figure with two subplots and add coastlines."
   ]
  },
  {
   "cell_type": "code",
   "execution_count": null,
   "metadata": {
    "tags": []
   },
   "outputs": [],
   "source": [
    "# code here"
   ]
  },
  {
   "cell_type": "markdown",
   "metadata": {},
   "source": [
    "### Solution"
   ]
  },
  {
   "cell_type": "code",
   "execution_count": null,
   "metadata": {
    "tags": []
   },
   "outputs": [],
   "source": [
    "f, axs = plt.subplots(1, 2, subplot_kw=dict(projection=projection))\n",
    "\n",
    "axs[0].coastlines()\n",
    "axs[1].coastlines()"
   ]
  },
  {
   "cell_type": "markdown",
   "metadata": {},
   "source": [
    "#### Note\n",
    "\n",
    " > Because map plots have a fixed aspect ratio it's difficult to get a nice layout with `<GeoAxesSubplot>`. This is discussed in [Exercise 2.7](ex2_7_subplots.ipynb)."
   ]
  },
  {
   "cell_type": "markdown",
   "metadata": {},
   "source": [
    "## Scatter plot - adding the position of the argo floats\n",
    "\n",
    "### Exercise\n",
    "\n",
    " * Add the position of the argo floats with `ax.scatter` for all three ocean basins (`argo.lon`, `argo.lat`).\n",
    " \n",
    "> this restricts the plot area to the position of the floats\n",
    "\n",
    " * Restore the global view with `ax.set_global()`"
   ]
  },
  {
   "cell_type": "code",
   "execution_count": null,
   "metadata": {
    "tags": []
   },
   "outputs": [],
   "source": [
    "f, ax = plt.subplots(subplot_kw=dict(projection=ccrs.PlateCarree()))\n",
    "\n",
    "ax.coastlines()\n",
    "\n",
    "# code here"
   ]
  },
  {
   "cell_type": "markdown",
   "metadata": {},
   "source": [
    "### Solution"
   ]
  },
  {
   "cell_type": "code",
   "execution_count": null,
   "metadata": {
    "tags": []
   },
   "outputs": [],
   "source": [
    "f, ax = plt.subplots(subplot_kw=dict(projection=ccrs.PlateCarree()))\n",
    "\n",
    "ax.coastlines()\n",
    "\n",
    "# code here\n",
    "ax.scatter(argo.lon, argo.lat)\n",
    "\n",
    "ax.set_global()"
   ]
  },
  {
   "cell_type": "markdown",
   "metadata": {},
   "source": [
    "## Projections\n",
    "\n",
    "The projection argument is used when creating plots and determines the kind of map of the plot (i.e. what the plot looks like). `cartopy` offers [different projections](https://scitools.org.uk/cartopy/docs/latest/reference/projections.html). Check them out.\n",
    "\n",
    "### Exercise\n",
    " * Redo the plot but use a `Robinson` projection."
   ]
  },
  {
   "cell_type": "code",
   "execution_count": null,
   "metadata": {
    "tags": []
   },
   "outputs": [],
   "source": [
    "# update code\n",
    "\n",
    "f, ax = plt.subplots(subplot_kw=dict(projection=ccrs.PlateCarree()))\n",
    "\n",
    "ax.coastlines()\n",
    "\n",
    "h = ax.scatter(argo.lon, argo.lat)\n",
    "\n",
    "ax.set_global()"
   ]
  },
  {
   "cell_type": "markdown",
   "metadata": {},
   "source": [
    "### Solution"
   ]
  },
  {
   "cell_type": "code",
   "execution_count": null,
   "metadata": {
    "tags": []
   },
   "outputs": [],
   "source": [
    "f, ax = plt.subplots(subplot_kw=dict(projection=ccrs.Robinson()))\n",
    "\n",
    "ax.coastlines()\n",
    "\n",
    "h = ax.scatter(argo.lon, argo.lat)\n",
    "\n",
    "ax.set_global()"
   ]
  },
  {
   "cell_type": "markdown",
   "metadata": {},
   "source": [
    "## `transform`\n",
    "\n",
    "Something went wrong, the points are all at `lon=0`, `lat=0`! This is because the map no longer has longitude and latitude coordinates. We need to tell the plotting function that we are passing lat/ lon data. We do that by passing in a coordinate system with the `transform` keyword. This enables the geo axes to reproject the plot into the display projection.\n",
    "\n",
    "### Exercise\n",
    "\n",
    "* Add the `PlateCarree` `transform`ation to `ax.scatter` ."
   ]
  },
  {
   "cell_type": "code",
   "execution_count": null,
   "metadata": {
    "tags": []
   },
   "outputs": [],
   "source": [
    "# update code\n",
    "\n",
    "f, ax = plt.subplots(subplot_kw=dict(projection=ccrs.Robinson()))\n",
    "\n",
    "ax.coastlines()\n",
    "\n",
    "h = ax.scatter(argo.lon, argo.lat)\n",
    "\n",
    "ax.set_global()"
   ]
  },
  {
   "cell_type": "markdown",
   "metadata": {},
   "source": [
    "### Solution"
   ]
  },
  {
   "cell_type": "code",
   "execution_count": null,
   "metadata": {
    "tags": []
   },
   "outputs": [],
   "source": [
    "f, ax = plt.subplots(subplot_kw=dict(projection=ccrs.Robinson()))\n",
    "\n",
    "ax.coastlines()\n",
    "\n",
    "h = ax.scatter(argo.lon, argo.lat, transform=ccrs.PlateCarree())\n",
    "\n",
    "ax.set_global()"
   ]
  },
  {
   "cell_type": "markdown",
   "metadata": {},
   "source": [
    "Nice, we got our floats back... The takeaway from here is to **always** set the `transform` keyword for a map plot!"
   ]
  },
  {
   "cell_type": "markdown",
   "metadata": {
    "hide_input": false
   },
   "source": [
    "## Mapping colors\n",
    "\n",
    "The dataset `argo` also contains the measured surface temperature. We want each displayed point to have a color according to its temperature.\n",
    "\n",
    "### Exercise\n",
    "\n",
    "* Color the points according to their temperature (`argo.TEMP`).\n",
    "> This can be done with the `c=` argument of the scatter method."
   ]
  },
  {
   "cell_type": "code",
   "execution_count": null,
   "metadata": {
    "tags": []
   },
   "outputs": [],
   "source": [
    "# update code\n",
    "\n",
    "f, ax = plt.subplots(subplot_kw=dict(projection=ccrs.Robinson()))\n",
    "\n",
    "ax.coastlines()\n",
    "\n",
    "ax.scatter(argo.lon, argo.lat, transform=ccrs.PlateCarree())\n",
    "\n",
    "ax.set_global()"
   ]
  },
  {
   "cell_type": "markdown",
   "metadata": {},
   "source": [
    "### Solution"
   ]
  },
  {
   "cell_type": "code",
   "execution_count": null,
   "metadata": {},
   "outputs": [],
   "source": [
    "f, ax = plt.subplots(subplot_kw=dict(projection=ccrs.Robinson()))\n",
    "ax.coastlines()\n",
    "\n",
    "ax.scatter(argo.lon, argo.lat, c=argo.TEMP, transform=ccrs.PlateCarree())\n",
    "\n",
    "ax.set_global()"
   ]
  },
  {
   "cell_type": "markdown",
   "metadata": {},
   "source": [
    "## Colorbar\n",
    "\n",
    "In the plot above you don't know which color corresponds to which temperature - therefore we need to add a colorbar."
   ]
  },
  {
   "cell_type": "markdown",
   "metadata": {},
   "source": [
    "### Exercise\n",
    "\n",
    "* Add a colorbar to know which color corresponds to which temperature.\n",
    "* Restrict the range of the colormap to 0...25 using the `vmin` and `vmax` keywords."
   ]
  },
  {
   "cell_type": "code",
   "execution_count": null,
   "metadata": {
    "tags": []
   },
   "outputs": [],
   "source": [
    "# update code\n",
    "\n",
    "f, ax = plt.subplots(subplot_kw=dict(projection=ccrs.Robinson()))\n",
    "\n",
    "ax.coastlines()\n",
    "\n",
    "h = ax.scatter(argo.lon, argo.lat, transform=ccrs.PlateCarree(), c=argo.TEMP)\n",
    "\n",
    "ax.set_global()"
   ]
  },
  {
   "cell_type": "markdown",
   "metadata": {},
   "source": [
    "### Solution"
   ]
  },
  {
   "cell_type": "code",
   "execution_count": null,
   "metadata": {},
   "outputs": [],
   "source": [
    "f, ax = plt.subplots(subplot_kw=dict(projection=ccrs.Robinson()))\n",
    "ax.coastlines()\n",
    "\n",
    "h = ax.scatter(\n",
    "    argo.lon, argo.lat, transform=ccrs.PlateCarree(), c=argo.TEMP, vmin=0, vmax=25\n",
    ")\n",
    "\n",
    "ax.set_global()\n",
    "\n",
    "plt.colorbar(h)"
   ]
  },
  {
   "cell_type": "markdown",
   "metadata": {},
   "source": [
    "#### Note\n",
    "\n",
    " > The colorbar is too big for the map (also because the aspect ratio of the map is fixed). However, this is not straightforward to correct... In [Exercise 2.4](ex2_4_colorbars.ipynb) we will learn how to fix this."
   ]
  },
  {
   "cell_type": "markdown",
   "metadata": {},
   "source": [
    "## Colormaps\n",
    "\n",
    "As already discussed, the chosen colors are according to the default colormap of matplotlib, \"viridis\". Colormaps can be set using the `cmap` keyword argument.\n",
    "\n",
    "### Exercise\n",
    "\n",
    "* Use the colormap named `\"Reds\"`.\n"
   ]
  },
  {
   "cell_type": "code",
   "execution_count": null,
   "metadata": {
    "tags": []
   },
   "outputs": [],
   "source": [
    "# update code\n",
    "\n",
    "f, ax = plt.subplots(subplot_kw=dict(projection=ccrs.Robinson()))\n",
    "ax.coastlines()\n",
    "\n",
    "h = ax.scatter(\n",
    "    argo.lon,\n",
    "    argo.lat,\n",
    "    transform=ccrs.PlateCarree(),\n",
    "    c=argo.TEMP,\n",
    "    vmin=0,\n",
    "    vmax=25,\n",
    ")\n",
    "\n",
    "plt.colorbar(h)\n",
    "\n",
    "ax.set_global()"
   ]
  },
  {
   "cell_type": "markdown",
   "metadata": {},
   "source": [
    "### Solution"
   ]
  },
  {
   "cell_type": "code",
   "execution_count": null,
   "metadata": {
    "tags": []
   },
   "outputs": [],
   "source": [
    "# solution\n",
    "\n",
    "f, ax = plt.subplots(subplot_kw=dict(projection=ccrs.Robinson()))\n",
    "ax.coastlines()\n",
    "\n",
    "h = ax.scatter(\n",
    "    argo.lon,\n",
    "    argo.lat,\n",
    "    transform=ccrs.PlateCarree(),\n",
    "    c=argo.TEMP,\n",
    "    vmin=0,\n",
    "    vmax=25,\n",
    "    cmap=\"Reds\",\n",
    ")\n",
    "\n",
    "plt.colorbar(h)\n",
    "\n",
    "ax.set_global()"
   ]
  },
  {
   "cell_type": "markdown",
   "metadata": {},
   "source": [
    "## Set extent of maps\n",
    "\n",
    "Until now we have not restricted the extent of the plots. While using `set_xlim` and `set_ylim` works for some projections (e.g. PlateCarree), they will fail in other cases. Therefore it is recommended to use `set_extent`: \n",
    "\n",
    "```python\n",
    "ax.set_extent([lon_min, lon_max, lat_min, lat_max], ccrs.PlateCarree())\n",
    "```\n",
    " > Adding `ccrs.PlateCarree()` (i.e. the coordinate reference system) to the function is required. Else your limits can be off.\n",
    " \n",
    "### Exercise\n",
    "\n",
    "* Restrict the plot to the Indian Ocean (e.g. 20°E to 150°E and 30°N to -75°N)"
   ]
  },
  {
   "cell_type": "code",
   "execution_count": null,
   "metadata": {
    "tags": []
   },
   "outputs": [],
   "source": [
    "# update code\n",
    "\n",
    "f, ax = plt.subplots(subplot_kw=dict(projection=ccrs.PlateCarree()))\n",
    "ax.coastlines()\n",
    "\n",
    "h = ax.scatter(\n",
    "    argo.lon, argo.lat, transform=ccrs.PlateCarree(), c=argo.TEMP, vmin=0, vmax=25\n",
    ")\n",
    "\n",
    "plt.colorbar(h)\n",
    "\n",
    "ax.set_global()"
   ]
  },
  {
   "cell_type": "markdown",
   "metadata": {},
   "source": [
    "### Solution"
   ]
  },
  {
   "cell_type": "code",
   "execution_count": null,
   "metadata": {
    "tags": []
   },
   "outputs": [],
   "source": [
    "f, ax = plt.subplots(subplot_kw=dict(projection=ccrs.PlateCarree()))\n",
    "ax.coastlines()\n",
    "\n",
    "h = ax.scatter(\n",
    "    argo.lon, argo.lat, transform=ccrs.PlateCarree(), c=argo.TEMP, vmin=0, vmax=25\n",
    ")\n",
    "\n",
    "plt.colorbar(h)\n",
    "\n",
    "ax.set_extent([20, 150, 30, -75], ccrs.PlateCarree())"
   ]
  },
  {
   "cell_type": "markdown",
   "metadata": {},
   "source": [
    "## Bonus Material\n",
    "\n",
    "* More features (e.g. lakes)\n",
    "* Regional maps (e.g. Switzerland)\n",
    "* Great circle lines"
   ]
  },
  {
   "cell_type": "markdown",
   "metadata": {},
   "source": [
    "### Features & Natural Earth Data\n",
    "\n",
    "`cartopy` can make use of many online geographical data sources. See examples under [Web Services](https://scitools.org.uk/cartopy/docs/latest/gallery/index.html). The best thing about this is that you have access and easy ways to plot all the data available at [naturalearthdata.com](http://www.naturalearthdata.com/). Naturalearth provides high-quality geo data for free. For example `ax.coastline()` displays the following data: [110m-coastline](http://www.naturalearthdata.com/downloads/110m-physical-vectors/110m-coastline/).\n",
    "\n",
    "Note:\n",
    "\n",
    "> The data is downloaded and stored the first time you use it, so this might take a moment."
   ]
  },
  {
   "cell_type": "code",
   "execution_count": null,
   "metadata": {
    "tags": []
   },
   "outputs": [],
   "source": [
    "import cartopy.feature as cf"
   ]
  },
  {
   "cell_type": "code",
   "execution_count": null,
   "metadata": {
    "tags": []
   },
   "outputs": [],
   "source": [
    "f, ax = plt.subplots(subplot_kw=dict(projection=ccrs.PlateCarree()))\n",
    "\n",
    "ax.set_extent([-135, -50, 15, 55], ccrs.PlateCarree())\n",
    "\n",
    "# ==========================================\n",
    "# NaturalEarthData\n",
    "\n",
    "ax.coastlines(resolution=\"50m\", color=\"k\")\n",
    "\n",
    "# some data is easily accessible\n",
    "ax.add_feature(cf.LAKES, edgecolor=\"0.1\", zorder=100)\n",
    "\n",
    "# for some data you need to know the name (e.g. the States of the US and Canada):\n",
    "states = cf.NaturalEarthFeature(\n",
    "    \"cultural\", \"admin_1_states_provinces_lakes\", \"50m\"\n",
    ")\n",
    "ax.add_feature(states, edgecolor=\"#b15928\", facecolor=\"none\", lw=0.5)"
   ]
  },
  {
   "cell_type": "markdown",
   "metadata": {},
   "source": [
    "### Local maps\n",
    "\n",
    "Plotting a map of Switzerland does not work differently than for the globe.\n",
    "\n",
    "Note\n",
    "> The outline of Switzerland was also obtained from NaturalEarthData - see [stack overflow](https://stackoverflow.com/a/47885128) or the [data preparation notebook](../data/prepare_data_MCH.ipynb)."
   ]
  },
  {
   "cell_type": "code",
   "execution_count": null,
   "metadata": {
    "tags": []
   },
   "outputs": [],
   "source": [
    "# load outline of Switzerland\n",
    "\n",
    "fN = \"../data/outline_switzerland.nc\"\n",
    "ch = xr.open_dataset(fN)"
   ]
  },
  {
   "cell_type": "markdown",
   "metadata": {},
   "source": [
    "This is the same plot as in [Exercise 1.3](../Part1_Matplotlib/ex1_3_scatter_plot.ipynb). The only two things that changed are the `projection` and `transform` keywords."
   ]
  },
  {
   "cell_type": "code",
   "execution_count": null,
   "metadata": {
    "tags": []
   },
   "outputs": [],
   "source": [
    "f, ax = plt.subplots(subplot_kw=dict(projection=ccrs.PlateCarree()))\n",
    "\n",
    "ax.plot(ch.lon, ch.lat, transform=ccrs.PlateCarree())\n",
    "\n",
    "plt.colorbar(h)"
   ]
  },
  {
   "cell_type": "markdown",
   "metadata": {},
   "source": [
    "## A better projection for Switzerland\n",
    "\n",
    "This looks terrible - but that's how Switzerland looks in the PlateCarree projection! Let's change the projection - find one that works for regional maps -> [cartopy projections](http://scitools.org.uk/cartopy/docs/v0.15/crs/projections.html).\n",
    "\n",
    "### Exercises\n",
    "\n",
    " * Try out `EuroPP`\n",
    " * Try out `LambertConformal` (with `central_longitude=15`)"
   ]
  },
  {
   "cell_type": "code",
   "execution_count": null,
   "metadata": {
    "tags": []
   },
   "outputs": [],
   "source": [
    "projection = ccrs.PlateCarree()\n",
    "\n",
    "f, ax = plt.subplots(subplot_kw=dict(projection=projection))\n",
    "\n",
    "ax.plot(ch.lon, ch.lat, transform=ccrs.PlateCarree())\n",
    "\n",
    "plt.colorbar(h)"
   ]
  },
  {
   "cell_type": "markdown",
   "metadata": {},
   "source": [
    "### Solution"
   ]
  },
  {
   "cell_type": "code",
   "execution_count": null,
   "metadata": {
    "hide_input": true,
    "tags": [
     "solution"
    ]
   },
   "outputs": [],
   "source": [
    "# solution\n",
    "\n",
    "projection = ccrs.LambertConformal(central_longitude=15)\n",
    "\n",
    "f, ax = plt.subplots(subplot_kw=dict(projection=projection))\n",
    "\n",
    "ax.plot(ch.lon, ch.lat, transform=ccrs.PlateCarree())\n",
    "\n",
    "plt.colorbar(h)"
   ]
  },
  {
   "cell_type": "markdown",
   "metadata": {},
   "source": [
    "### Climatological Station Data for Switzerland - Temperature & Precip\n",
    "\n",
    "Thus, we can repeat the plot we developed in [Exercise 1.3](../Part1_Matplotlib/ex1_3_scatter_plot.ipynb) on a proper map."
   ]
  },
  {
   "cell_type": "code",
   "execution_count": null,
   "metadata": {
    "tags": []
   },
   "outputs": [],
   "source": [
    "# load climatological station data\n",
    "\n",
    "fN = \"../data/MCH_clim.nc\"\n",
    "clim = xr.open_dataset(fN)\n",
    "\n",
    "# scale the precipitation to the point size\n",
    "mn = clim.prec.min()\n",
    "mx = clim.prec.max()\n",
    "\n",
    "p_scaled = ((clim.prec - mn) / (mx - mn)) * 200 + 50"
   ]
  },
  {
   "cell_type": "code",
   "execution_count": null,
   "metadata": {
    "tags": []
   },
   "outputs": [],
   "source": [
    "projection = ccrs.LambertConformal(central_longitude=15)\n",
    "\n",
    "ax = plt.axes(projection=projection)\n",
    "\n",
    "ax.plot(ch.lon.values, ch.lat.values, transform=ccrs.PlateCarree())\n",
    "h = ax.scatter(\n",
    "    clim.lon.values,\n",
    "    clim.lat.values,\n",
    "    c=clim.temp.values,\n",
    "    cmap=\"RdBu_r\",\n",
    "    vmax=8,\n",
    "    vmin=-8,\n",
    "    s=p_scaled,\n",
    "    edgecolor=\"0.5\",\n",
    "    transform=ccrs.PlateCarree(),\n",
    "    zorder=3,\n",
    ")\n",
    "\n",
    "plt.colorbar(h, label=\"Temperature [°C]\")\n",
    "\n",
    "for area in [1000, 1500, 2000]:\n",
    "    size = ((area - mn) / (mx - mn)) * 200 + 50\n",
    "\n",
    "    # convert number to string\n",
    "    label = f\"{area}\"\n",
    "\n",
    "    plt.scatter(\n",
    "        [],\n",
    "        [],\n",
    "        c=\"0.85\",\n",
    "        s=size,\n",
    "        label=label,\n",
    "        edgecolor=\"0.5\",\n",
    "        transform=ccrs.PlateCarree(),\n",
    "    )\n",
    "\n",
    "\n",
    "plt.legend(\n",
    "    title=\"Precipitation [mm / yr]\", loc=\"upper center\", ncol=3, edgecolor=\"none\"\n",
    ")\n",
    "\n",
    "ax.set_extent((5.49, 10.77, 45.7, 48.3), ccrs.PlateCarree())"
   ]
  },
  {
   "cell_type": "markdown",
   "metadata": {},
   "source": [
    "\n",
    "### Great circle lines\n",
    "\n",
    "When plotting a line on a map with `plt.plot(..., transform=ccrs.PlateCarree())`, this creates a straight line between the points and not a great circle line. To show the shortest path between two points on a sphere (i.e. a great circle line), we need to set `transform=ccrs.Geodetic()`.\n",
    "\n",
    "Let's fly from Zürich (ZRH) to Vancover (YVR):"
   ]
  },
  {
   "cell_type": "code",
   "execution_count": null,
   "metadata": {
    "tags": []
   },
   "outputs": [],
   "source": [
    "# define location of airports\n",
    "\n",
    "ZRH = (47.458361, 8.555264)\n",
    "YVR = (49.196817, -123.180332)\n",
    "\n",
    "lat = [ZRH[0], YVR[0]]\n",
    "lon = [ZRH[1], YVR[1]]\n",
    "\n",
    "# ==========================================\n",
    "\n",
    "ax = plt.axes(projection=ccrs.PlateCarree())\n",
    "\n",
    "ax.coastlines()\n",
    "\n",
    "# direct line\n",
    "ax.plot(lon, lat, transform=ccrs.PlateCarree(), color=\"#ff7f00\")\n",
    "\n",
    "# great circle line\n",
    "ax.plot(lon, lat, transform=ccrs.Geodetic(), color=\"#e31a1c\", marker=\"o\")\n",
    "\n",
    "# see comment\n",
    "ax.set_extent([-135, 20, 10, 90], ccrs.PlateCarree())\n",
    "\n",
    "# ==========================================\n",
    "\n",
    "# add labels for airports\n",
    "\n",
    "textopt = dict(\n",
    "    transform=ccrs.PlateCarree(),\n",
    "    ha=\"center\",\n",
    "    va=\"top\",\n",
    "    bbox=dict(facecolor=\"w\", edgecolor=\"none\", alpha=0.7),\n",
    ")\n",
    "\n",
    "ax.annotate(\"ZRH\", xy=ZRH[::-1], xytext=(0, -10), textcoords=\"offset points\", **textopt)\n",
    "ax.annotate(\"YVR\", xy=YVR[::-1], xytext=(0, -10), textcoords=\"offset points\", **textopt)\n",
    "\n",
    "# adding a slightly textured image of the globe\n",
    "ax.stock_img();"
   ]
  },
  {
   "cell_type": "markdown",
   "metadata": {
    "tags": []
   },
   "source": [
    "### Side note: Fixing the bumpy great circle line\n",
    "\n",
    "When you look closely, you can see that the great circle has some bumps in it. We can display it with higher accuracy.\n"
   ]
  },
  {
   "cell_type": "code",
   "execution_count": null,
   "metadata": {
    "tags": []
   },
   "outputs": [],
   "source": [
    "PC = ccrs.PlateCarree()\n",
    "PC.threshold"
   ]
  },
  {
   "cell_type": "code",
   "execution_count": null,
   "metadata": {
    "tags": []
   },
   "outputs": [],
   "source": [
    "PC = ccrs.PlateCarree()\n",
    "\n",
    "PC.threshold = 0.01\n",
    "\n",
    "ax = plt.axes(projection=PC)\n",
    "\n",
    "ax.coastlines()\n",
    "\n",
    "# great circle line\n",
    "ax.plot(lon, lat, transform=ccrs.Geodetic(), color=\"#e31a1c\", marker=\"o\")\n",
    "\n",
    "# set extent\n",
    "ax.set_extent([-135, 20, 10, 90], ccrs.PlateCarree())\n",
    "\n",
    "# adding a slightly textured image of the globe\n",
    "ax.stock_img();"
   ]
  }
 ],
 "metadata": {
  "hide_input": false,
  "kernelspec": {
   "display_name": "Python 3 (ipykernel)",
   "language": "python",
   "name": "python3"
  },
  "language_info": {
   "codemirror_mode": {
    "name": "ipython",
    "version": 3
   },
   "file_extension": ".py",
   "mimetype": "text/x-python",
   "name": "python",
   "nbconvert_exporter": "python",
   "pygments_lexer": "ipython3",
   "version": "3.9.14"
  },
  "toc": {
   "base_numbering": 1,
   "nav_menu": {},
   "number_sections": true,
   "sideBar": true,
   "skip_h1_title": false,
   "title_cell": "Table of Contents",
   "title_sidebar": "Contents",
   "toc_cell": false,
   "toc_position": {},
   "toc_section_display": true,
   "toc_window_display": false
  }
 },
 "nbformat": 4,
 "nbformat_minor": 4
}
