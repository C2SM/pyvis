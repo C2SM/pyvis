{
 "cells": [
  {
   "cell_type": "markdown",
   "metadata": {
    "tags": []
   },
   "source": [
    "# Exercise 2.1 Mesh plots (cartopy)\n",
    "prepared by M. Hauser\n",
    "\n",
    "Here we learn how to plot data as mesh grid. This is important for *gridded* model data or observations (we will introduce the interpolating functions `contour` and `contourf` in [Exercise 2.2](ex2_2_contour.ipynb)). We will show the usage of `pcolormesh` in this exercise. While there are other functions with a similar functionality (`pcolor` and `imshow`), `pcolormesh` is recommended over the others.\n",
    "\n",
    "> Most of what we show here for georeferenced plots also applies to normal usage of `pcolormesh`.\n",
    "\n",
    "## Goals\n",
    "\n",
    " * Know how to plot gridded data on a map using `pcolormesh`\n",
    " * Restrict the shown range of the data, including discrete levels\n",
    " * Showcase the xarray interface to `pcolormesh`\n",
    " * Saving figures (including rasterizing and dpi)\n",
    "\n",
    "## Import libraries"
   ]
  },
  {
   "cell_type": "code",
   "execution_count": null,
   "metadata": {},
   "outputs": [],
   "source": [
    "# Specific to our jupyterhub setup\n",
    "import os\n",
    "os.environ[\"PROJ_DATA\"] = \"/data/python_intro/miniconda/pkgs/proj-9.2.1-ha643af7_0\""
   ]
  },
  {
   "cell_type": "code",
   "execution_count": null,
   "metadata": {
    "tags": []
   },
   "outputs": [],
   "source": [
    "import cartopy.crs as ccrs\n",
    "import matplotlib.pyplot as plt\n",
    "import numpy as np\n",
    "import xarray as xr"
   ]
  },
  {
   "cell_type": "code",
   "execution_count": null,
   "metadata": {
    "tags": []
   },
   "outputs": [],
   "source": [
    "import mplotutils as mpu"
   ]
  },
  {
   "cell_type": "markdown",
   "metadata": {},
   "source": [
    "## First pcolormesh plot\n",
    "\n",
    "`pcolormesh` takes x, y, z as input. x and y are the coordinates while z determines the color of each pixel.\n",
    "\n",
    "We showcase `pcolormesh` using artificial [sample data](https://scitools.org.uk/cartopy/docs/latest/gallery/miscellanea/axes_grid_basic.html).\n"
   ]
  },
  {
   "cell_type": "code",
   "execution_count": null,
   "metadata": {
    "tags": []
   },
   "outputs": [],
   "source": [
    "# create sample data\n",
    "lon, lat, data = mpu.sample_data_map(nlons=90, nlats=45)"
   ]
  },
  {
   "cell_type": "code",
   "execution_count": null,
   "metadata": {
    "tags": []
   },
   "outputs": [],
   "source": [
    "print(f\"{lon.shape  = }\")\n",
    "print(f\"{lat.shape  = }\")\n",
    "print(f\"{data.shape = }\")\n",
    "\n",
    "print(f\"{lon[:4]    = }\")\n",
    "print(f\"{lat[:4]    = }\")"
   ]
  },
  {
   "cell_type": "markdown",
   "metadata": {},
   "source": [
    "lon and lat are the coordinates and define the center of the grid cell. Each grid cell has a size of 4° x 4°. We pass lat, lon and data to `pcolormesh` to plot it:"
   ]
  },
  {
   "cell_type": "code",
   "execution_count": null,
   "metadata": {
    "tags": []
   },
   "outputs": [],
   "source": [
    "f, ax = plt.subplots(subplot_kw=dict(projection=ccrs.PlateCarree()))\n",
    "ax.coastlines()\n",
    "\n",
    "ax.pcolormesh(lon, lat, data)"
   ]
  },
  {
   "cell_type": "markdown",
   "metadata": {},
   "source": [
    "## Load CMIP 5 data: historical precipitation climatology (1986 to 2005)\n",
    "\n",
    "We will load a NetCDF with historical, and projected climatological precipitation, as well as the relative change between them, from all CMIP5 models for RCP8.5 (Taylor et al., [2012](https://doi.org/10.1175/BAMS-D-11-00094.1)).\n",
    "\n",
    "The data was prepared in [another notebook](../data/prepare_CMIP5_map.ipynb)."
   ]
  },
  {
   "cell_type": "code",
   "execution_count": null,
   "metadata": {
    "tags": []
   },
   "outputs": [],
   "source": [
    "file = \"../data/cmip5_delta_pr_rcp85_map.nc\"\n",
    "\n",
    "# load data, omitting some unnecessary variables\n",
    "pr = xr.open_dataset(file, drop_variables=[\"pr_rel\", \"proj\", \"agree_sign\", \"pval\"])\n",
    "\n",
    "pr"
   ]
  },
  {
   "cell_type": "markdown",
   "metadata": {},
   "source": [
    "### Exercise\n",
    "\n",
    "* Plot the climatological precipitation amount (`pr.hist`)\n",
    " > Pass `pr.lon`, `pr.lat`, and `pr.hist` to `ax.pcolormesh`."
   ]
  },
  {
   "cell_type": "code",
   "execution_count": null,
   "metadata": {
    "tags": []
   },
   "outputs": [],
   "source": [
    "f, ax = plt.subplots(subplot_kw=dict(projection=ccrs.Robinson()))\n",
    "ax.coastlines()\n",
    "\n",
    "# code here"
   ]
  },
  {
   "cell_type": "markdown",
   "metadata": {},
   "source": [
    "### Solution"
   ]
  },
  {
   "cell_type": "code",
   "execution_count": null,
   "metadata": {
    "hide_input": true,
    "tags": [
     "solution"
    ]
   },
   "outputs": [],
   "source": [
    "f, ax = plt.subplots(subplot_kw=dict(projection=ccrs.Robinson()))\n",
    "ax.coastlines()\n",
    "\n",
    "ax.pcolormesh(pr.lon, pr.lat, pr.hist, transform=ccrs.PlateCarree())"
   ]
  },
  {
   "cell_type": "markdown",
   "metadata": {},
   "source": [
    "## Cell centers\n",
    "\n",
    "matplotlib assumes that the x and y coordinates are the cell centers and calculates the cell boundaries from them (if the number of coordinates is equal to the number of data points).\n",
    "\n",
    "We can illustrate this best with an example with only a few datapoints. The red points show the original lat and lon coordinates in the center of the gridcells."
   ]
  },
  {
   "cell_type": "code",
   "execution_count": null,
   "metadata": {
    "tags": []
   },
   "outputs": [],
   "source": [
    "# create sample data\n",
    "lon, lat, data = mpu.sample_data_map(nlons=18, nlats=9)\n",
    "\n",
    "# ====\n",
    "\n",
    "f, ax = plt.subplots(subplot_kw=dict(projection=ccrs.PlateCarree()))\n",
    "ax.coastlines()\n",
    "\n",
    "h = ax.pcolormesh(lon, lat, data, transform=ccrs.PlateCarree(), ec=\"0.5\", lw=0.5)\n",
    "\n",
    "# plot the gridcell centers\n",
    "\n",
    "LON, LAT = np.meshgrid(lon, lat)\n",
    "ax.plot(LON.flatten(), LAT.flatten(), \"o\", transform=ccrs.PlateCarree(), ms=1, c=\"r\")"
   ]
  },
  {
   "cell_type": "markdown",
   "metadata": {},
   "source": [
    "> In earlier versions of matplotlib the behavior of `pcolormesh` was different - it removed one row and column of the data, and a white row and column was shown. Thus, if you use earlier versions of matplotlib you will need to take care of this by manually extrapolating the coordinates (check `mpu.infer_interval_breaks?`)."
   ]
  },
  {
   "cell_type": "markdown",
   "metadata": {},
   "source": [
    "## Data range, colorbar and color range\n",
    "\n",
    "Per default `pcolormesh` shows the entire range of data - this is often not desirable.\n",
    "\n",
    "We can set the shown data limits with `vmin` and `vmax`. Because we now clip values at both ends, we should let the viewers know. We can do this by using the `extend` keyword in the colorbar. It takes the  values\n",
    "\n",
    " * `'neither'` (default).\n",
    " * `'both'`\n",
    " * `'min'`\n",
    " * `'max'`"
   ]
  },
  {
   "cell_type": "markdown",
   "metadata": {},
   "source": [
    "**Let's illustrate this with a random temperature field from a climate model**"
   ]
  },
  {
   "cell_type": "code",
   "execution_count": null,
   "metadata": {
    "tags": []
   },
   "outputs": [],
   "source": [
    "file = \"../data/cesm_temp.nc\"\n",
    "cesm = xr.open_dataset(file)\n",
    "cesm.temp"
   ]
  },
  {
   "cell_type": "code",
   "execution_count": null,
   "metadata": {
    "tags": []
   },
   "outputs": [],
   "source": [
    "f, axs = plt.subplots(2, 1, subplot_kw=dict(projection=ccrs.PlateCarree()))\n",
    "\n",
    "for ax in axs:\n",
    "    ax.coastlines()\n",
    "\n",
    "ax = axs[0]\n",
    "\n",
    "h = ax.pcolormesh(\n",
    "    cesm.lon,\n",
    "    cesm.lat,\n",
    "    cesm.temp - 273.15,\n",
    "    transform=ccrs.PlateCarree(),\n",
    "    cmap=\"RdBu_r\",\n",
    ")\n",
    "plt.colorbar(h, ax=ax)\n",
    "ax.set_title(\"Entire data range show\")\n",
    "\n",
    "ax = axs[1]\n",
    "\n",
    "h = ax.pcolormesh(\n",
    "    cesm.lon,\n",
    "    cesm.lat,\n",
    "    cesm.temp - 273.15,\n",
    "    transform=ccrs.PlateCarree(),\n",
    "    vmin=-30,\n",
    "    vmax=30,\n",
    "    cmap=\"RdBu_r\",\n",
    ")\n",
    "plt.colorbar(h, ax=ax, extend=\"both\")\n",
    "ax.set_title(\"Data range restricted and extend='both'\")"
   ]
  },
  {
   "cell_type": "markdown",
   "metadata": {},
   "source": [
    "### Exercise\n",
    " * Clip the precipitation values to the range 0...3000\n",
    " * Indicate that the values extend at the upper bound"
   ]
  },
  {
   "cell_type": "code",
   "execution_count": null,
   "metadata": {
    "tags": []
   },
   "outputs": [],
   "source": [
    "f, ax = plt.subplots(subplot_kw=dict(projection=ccrs.Robinson()))\n",
    "ax.coastlines()\n",
    "\n",
    "h = ax.pcolormesh(pr.lon, pr.lat, pr.hist, transform=ccrs.PlateCarree())\n",
    "\n",
    "plt.colorbar(h)"
   ]
  },
  {
   "cell_type": "markdown",
   "metadata": {},
   "source": [
    "### Solution"
   ]
  },
  {
   "cell_type": "code",
   "execution_count": null,
   "metadata": {
    "hide_input": true,
    "tags": [
     "solution"
    ]
   },
   "outputs": [],
   "source": [
    "f, ax = plt.subplots(subplot_kw=dict(projection=ccrs.Robinson()))\n",
    "ax.coastlines()\n",
    "\n",
    "h = ax.pcolormesh(\n",
    "    pr.lon, pr.lat, pr.hist, transform=ccrs.PlateCarree(), vmin=0, vmax=3000\n",
    ")\n",
    "\n",
    "plt.colorbar(h, extend=\"max\")"
   ]
  },
  {
   "cell_type": "markdown",
   "metadata": {},
   "source": [
    "## Color levels\n",
    "\n",
    "In addition to limiting the color scale, it is also possible to display the data in color levels. To create a discrete color scale instead of a continuous one, we need to pass `norm` to `pcolormesh`. `norm` is a function that normalizes data to the 0.0...1.0 interval. Usually it ranges linearly between the minimum and maximum data values - we'll need to pass one that generates the levels. We also need to pass a changed colormap (`cmap`).\n",
    "\n",
    "For this, we can make use of a small helper function in mplotutils: `mpu.from_levels_and_cmap`.\n",
    "\n",
    "> Doing this, we need to specify `extend` in the `from_levels_and_cmap` and not in the colorbar anymore."
   ]
  },
  {
   "cell_type": "code",
   "execution_count": null,
   "metadata": {
    "tags": []
   },
   "outputs": [],
   "source": [
    "f, ax = plt.subplots(subplot_kw=dict(projection=ccrs.PlateCarree()))\n",
    "ax.coastlines()\n",
    "\n",
    "levels = np.arange(-30, 31, 10)\n",
    "cmap, norm = mpu.from_levels_and_cmap(levels, cmap=\"RdBu_r\", extend=\"both\")\n",
    "\n",
    "h = ax.pcolormesh(\n",
    "    cesm.lon,\n",
    "    cesm.lat,\n",
    "    cesm.temp - 273.15,\n",
    "    transform=ccrs.PlateCarree(),\n",
    "    norm=norm,\n",
    "    cmap=cmap,\n",
    ")\n",
    "plt.colorbar(h)"
   ]
  },
  {
   "cell_type": "markdown",
   "metadata": {},
   "source": [
    "### Exercise\n",
    "\n",
    "* Create discrete levels for the precipitation data from 0 to 3000 with a spacing of 500\n",
    "* The colormap is called `\"viridis\"`\n",
    "* Let your viewers know that the colorbar has a restricted range."
   ]
  },
  {
   "cell_type": "code",
   "execution_count": null,
   "metadata": {
    "tags": []
   },
   "outputs": [],
   "source": [
    "f, ax = plt.subplots(subplot_kw=dict(projection=ccrs.Robinson()))\n",
    "ax.coastlines()\n",
    "\n",
    "# levels = ...\n",
    "# cmap, norm = ...\n",
    "h = ax.pcolormesh(pr.lon, pr.lat, pr.hist, transform=ccrs.PlateCarree())\n",
    "\n",
    "plt.colorbar(h)"
   ]
  },
  {
   "cell_type": "markdown",
   "metadata": {},
   "source": [
    "### Solution"
   ]
  },
  {
   "cell_type": "code",
   "execution_count": null,
   "metadata": {
    "hide_input": true,
    "tags": [
     "solution"
    ]
   },
   "outputs": [],
   "source": [
    "f, ax = plt.subplots(subplot_kw=dict(projection=ccrs.Robinson()))\n",
    "ax.coastlines()\n",
    "\n",
    "levels = np.arange(0, 3001, 500)\n",
    "cmap, norm = mpu.from_levels_and_cmap(levels, cmap=\"viridis\", extend=\"max\")\n",
    "h = ax.pcolormesh(\n",
    "    pr.lon, pr.lat, pr.hist, transform=ccrs.PlateCarree(), cmap=cmap, norm=norm\n",
    ")\n",
    "\n",
    "plt.colorbar(h)"
   ]
  },
  {
   "cell_type": "markdown",
   "metadata": {},
   "source": [
    "## Using xarray\n",
    "\n",
    "Until now we used xarray only as 'data store' and did the plotting as\n",
    "\n",
    "```python\n",
    "ax.pcolormesh(ds.lon, ds.lat. ds.data, ...)\n",
    "```\n",
    "    \n",
    "However, `xarray` also has its dedicated plotting functions, which allow you to do:\n",
    "\n",
    "```python\n",
    "ds.data.plot.pcolormesh(ax=ax, ...)\n",
    "```\n",
    "\n",
    "It is good to know how to create the plot directly with matplotlib. However, for daily work, I almost always create the plot with xarray, e.g. you don't explicitly need to pass the coordinates. This simplifies certain aspects of the plot. Under the hood, xarray uses matplotlib to create the figure.\n",
    "\n",
    "### Example"
   ]
  },
  {
   "cell_type": "code",
   "execution_count": null,
   "metadata": {
    "tags": []
   },
   "outputs": [],
   "source": [
    "temp = cesm.temp - 273.15\n",
    "temp.plot()"
   ]
  },
  {
   "cell_type": "markdown",
   "metadata": {},
   "source": [
    "### Exercise\n",
    "\n",
    "* Plot `pr.hist` calling its `.plot` method."
   ]
  },
  {
   "cell_type": "code",
   "execution_count": null,
   "metadata": {
    "tags": []
   },
   "outputs": [],
   "source": [
    "# code here"
   ]
  },
  {
   "cell_type": "markdown",
   "metadata": {},
   "source": [
    "### Solution"
   ]
  },
  {
   "cell_type": "code",
   "execution_count": null,
   "metadata": {},
   "outputs": [],
   "source": [
    "pr.hist.plot()"
   ]
  },
  {
   "cell_type": "markdown",
   "metadata": {},
   "source": [
    "This does not create a map plot. For this we will need to pass a `GeoAxesSubplot` to the plot method, as `pr.hist.plot(ax=ax)`.\n",
    "\n",
    "### Exercise\n",
    "\n",
    "* Create a map plot with a `Robinson` projection.\n",
    "* Add coastlines.\n",
    "* Plot the CMIP5 precipitation data with xarray\n",
    "* Restrict the shown data range using `vmax`\n",
    " "
   ]
  },
  {
   "cell_type": "code",
   "execution_count": null,
   "metadata": {
    "tags": []
   },
   "outputs": [],
   "source": [
    "# f, ax = ..."
   ]
  },
  {
   "cell_type": "markdown",
   "metadata": {},
   "source": [
    "### Solution"
   ]
  },
  {
   "cell_type": "code",
   "execution_count": null,
   "metadata": {
    "hide_input": true,
    "tags": [
     "solution"
    ]
   },
   "outputs": [],
   "source": [
    "f, ax = plt.subplots(subplot_kw=dict(projection=ccrs.Robinson()))\n",
    "ax.coastlines()\n",
    "\n",
    "pr.hist.plot.pcolormesh(ax=ax, transform=ccrs.PlateCarree(), vmax=3000)"
   ]
  },
  {
   "cell_type": "markdown",
   "metadata": {},
   "source": [
    "### Differences xarray - matplolib\n",
    "\n",
    "Comparing the xarray plot with the one from matplotlib/ cartopy you can see a number of differences.\n",
    "\n",
    "* xarray automatically chooses the `\"RdBu_r\"` colormap if the data crosses 0 and the `\"viridis\"` colorbar otherwise.\n",
    "* If the data crosses 0 the displayed range is symmetric (unless otherwise specified with `vmin` and `vmax`)\n",
    "* It adds a colorbar. This can be controlled with the `add_colorbar` keyword.\n",
    "* If you restrict the color range with `vmin` or `vmax`, it automatically adds triangles at the end of the colorbar to indicate that the values were \"cut off\"."
   ]
  },
  {
   "cell_type": "markdown",
   "metadata": {},
   "source": [
    "## Color levels - xarray\n",
    "\n",
    "Using the xarray plotting interface you can also directly pass `levels` without using `mpu.from_levels_and_cmap`:"
   ]
  },
  {
   "cell_type": "code",
   "execution_count": null,
   "metadata": {
    "tags": []
   },
   "outputs": [],
   "source": [
    "# get data\n",
    "temp = cesm.temp - 273.15\n",
    "\n",
    "# plot\n",
    "f, ax = plt.subplots(subplot_kw=dict(projection=ccrs.Robinson()))\n",
    "ax.coastlines()\n",
    "\n",
    "levels = np.arange(-40, 41, 10)\n",
    "temp.plot(ax=ax, transform=ccrs.PlateCarree(), levels=levels, extend=\"both\")"
   ]
  },
  {
   "cell_type": "markdown",
   "metadata": {},
   "source": [
    "### Exercise\n",
    "\n",
    "* Replace `vmax` with `levels`"
   ]
  },
  {
   "cell_type": "code",
   "execution_count": null,
   "metadata": {
    "tags": []
   },
   "outputs": [],
   "source": [
    "f, ax = plt.subplots(subplot_kw=dict(projection=ccrs.Robinson()))\n",
    "ax.coastlines()\n",
    "\n",
    "pr.hist.plot.pcolormesh(ax=ax, transform=ccrs.PlateCarree(), vmax=3000)"
   ]
  },
  {
   "cell_type": "markdown",
   "metadata": {},
   "source": [
    "### Solution"
   ]
  },
  {
   "cell_type": "code",
   "execution_count": null,
   "metadata": {},
   "outputs": [],
   "source": [
    "f, ax = plt.subplots(subplot_kw=dict(projection=ccrs.Robinson()))\n",
    "ax.coastlines()\n",
    "\n",
    "levels = np.arange(0, 3001, 500)\n",
    "\n",
    "pr.hist.plot.pcolormesh(ax=ax, transform=ccrs.PlateCarree(), levels=levels)"
   ]
  },
  {
   "cell_type": "markdown",
   "metadata": {},
   "source": [
    "## Saving figures // rasterized\n",
    "\n",
    "> This applies to figures created by matplotlib and xarray.\n",
    "\n",
    "There is nothing special about saving a map figure:"
   ]
  },
  {
   "cell_type": "code",
   "execution_count": null,
   "metadata": {
    "tags": []
   },
   "outputs": [],
   "source": [
    "f, ax = plt.subplots(subplot_kw=dict(projection=ccrs.Robinson()))\n",
    "ax.coastlines()\n",
    "\n",
    "pr.hist.plot(transform=ccrs.PlateCarree())\n",
    "\n",
    "plt.savefig(\"precip_global.pdf\")"
   ]
  },
  {
   "cell_type": "markdown",
   "metadata": {},
   "source": [
    "However, they can grow large very quickly. Especially if you save a `pcolormesh` figure as pdf, because the pdf is saved as vector graphic and each mesh is its own element.\n",
    "\n",
    "It is, however, possible to rasterize certain elements of the plot, e.g. the `pcolormesh`.\n",
    "\n",
    "> It is then important that you increase the resolution of the saved figure, e.g. by setting `dpi=300`."
   ]
  },
  {
   "cell_type": "code",
   "execution_count": null,
   "metadata": {
    "tags": []
   },
   "outputs": [],
   "source": [
    "f, ax = plt.subplots(subplot_kw=dict(projection=ccrs.Robinson()))\n",
    "ax.coastlines()\n",
    "\n",
    "pr.hist.plot(transform=ccrs.PlateCarree(), rasterized=True)\n",
    "\n",
    "plt.savefig(\"precip_global_rasterized.pdf\", dpi=300)"
   ]
  },
  {
   "cell_type": "markdown",
   "metadata": {},
   "source": [
    "* Compare the file size of `'precip_global.pdf'` and `'precip_global_rasterized.pdf'`.\n",
    "\n",
    "> The following may not work in windows."
   ]
  },
  {
   "cell_type": "code",
   "execution_count": null,
   "metadata": {
    "tags": []
   },
   "outputs": [],
   "source": [
    "! ls -lh precip_global*.pdf"
   ]
  },
  {
   "cell_type": "markdown",
   "metadata": {},
   "source": [
    "* Open robinson_rasterized.pdf and zoom in; you can see that the coastlines are not rasterized.\n",
    "\n",
    "> Setting `rasterized=True` can help make smaller figures. By setting `dpi` to e.g. `300` you can do so without (much) loss of quality.\n",
    "\n",
    "Therefore, I recommend to always use this option.\n",
    "\n",
    "\n",
    "### Another example\n",
    "\n",
    "We look at another example of the precipitation data. We select a region with tilted lines. Because the rectangular elements don't have vertical edges (but the pixels do), the `dpi` keyword is especially important. \n",
    "\n"
   ]
  },
  {
   "cell_type": "code",
   "execution_count": null,
   "metadata": {
    "tags": []
   },
   "outputs": [],
   "source": [
    "f, ax = plt.subplots(subplot_kw=dict(projection=ccrs.Robinson()))\n",
    "ax.coastlines()\n",
    "\n",
    "pr.hist.plot.pcolormesh(\n",
    "    transform=ccrs.PlateCarree(),\n",
    "    cmap=\"Blues\",\n",
    "    vmax=2500,\n",
    "    add_colorbar=False,\n",
    ")\n",
    "\n",
    "ax.set_extent([-150, -130, 30, 70], ccrs.PlateCarree())\n",
    "\n",
    "plt.savefig(\"precip_detail.pdf\")"
   ]
  },
  {
   "cell_type": "code",
   "execution_count": null,
   "metadata": {
    "hide_input": true,
    "tags": [
     "solution"
    ]
   },
   "outputs": [],
   "source": [
    "f, ax = plt.subplots(subplot_kw=dict(projection=ccrs.Robinson()))\n",
    "ax.coastlines()\n",
    "\n",
    "pr.hist.plot.pcolormesh(\n",
    "    transform=ccrs.PlateCarree(),\n",
    "    cmap=\"Blues\",\n",
    "    vmax=2500,\n",
    "    add_colorbar=False,\n",
    "    rasterized=True,\n",
    ")\n",
    "\n",
    "ax.set_extent([-150, -130, 30, 70], ccrs.PlateCarree())\n",
    "\n",
    "plt.savefig(\"precip_detail_rasterized.pdf\")"
   ]
  },
  {
   "cell_type": "code",
   "execution_count": null,
   "metadata": {
    "tags": []
   },
   "outputs": [],
   "source": [
    "f, ax = plt.subplots(subplot_kw=dict(projection=ccrs.Robinson()))\n",
    "ax.coastlines()\n",
    "\n",
    "pr.hist.plot.pcolormesh(\n",
    "    transform=ccrs.PlateCarree(),\n",
    "    cmap=\"Blues\",\n",
    "    vmax=2500,\n",
    "    add_colorbar=False,\n",
    "    rasterized=True,\n",
    ")\n",
    "\n",
    "ax.set_extent([-150, -130, 30, 70], ccrs.PlateCarree())\n",
    "\n",
    "plt.savefig(\"precip_detail_rasterized_dpi.pdf\", dpi=300)"
   ]
  },
  {
   "cell_type": "markdown",
   "metadata": {},
   "source": [
    "* Open the three pdfs (`precip_detail.pdf`, `precip_detail_rasterized.pdf`, and `precip_detail_rasterized_dpi.pdf`) and compare their quality (zoom in).\n",
    "* Compare the size of the pdfs.\n",
    "\n",
    "> The following may not work in windows."
   ]
  },
  {
   "cell_type": "code",
   "execution_count": null,
   "metadata": {
    "tags": []
   },
   "outputs": [],
   "source": [
    "! ls -lh precip_detail*"
   ]
  }
 ],
 "metadata": {
  "hide_input": false,
  "kernelspec": {
   "display_name": "Python 3 (ipykernel)",
   "language": "python",
   "name": "python3"
  },
  "language_info": {
   "codemirror_mode": {
    "name": "ipython",
    "version": 3
   },
   "file_extension": ".py",
   "mimetype": "text/x-python",
   "name": "python",
   "nbconvert_exporter": "python",
   "pygments_lexer": "ipython3",
   "version": "3.11.8"
  }
 },
 "nbformat": 4,
 "nbformat_minor": 4
}
