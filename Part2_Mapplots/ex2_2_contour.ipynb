{
 "cells": [
  {
   "cell_type": "markdown",
   "metadata": {},
   "source": [
    "# Exercise 2.3 Contour plots (cartopy)\n",
    "prepared by M.Hauser\n",
    "\n",
    "Besides `pcolormesh` we can also do contour and filled contour plots in matplotlib. This is done with `contour` and `contourf`.\n",
    "\n",
    "Note that most of what we show here for georeferenced plots also applies to normal `contour` and `contourf`.\n",
    "\n",
    "## Import libraries"
   ]
  },
  {
   "cell_type": "code",
   "execution_count": null,
   "metadata": {},
   "outputs": [],
   "source": [
    "import cartopy.crs as ccrs\n",
    "import matplotlib.pyplot as plt\n",
    "import numpy as np\n",
    "import xarray as xr"
   ]
  },
  {
   "cell_type": "code",
   "execution_count": null,
   "metadata": {},
   "outputs": [],
   "source": [
    "import mplotutils as mpu"
   ]
  },
  {
   "cell_type": "markdown",
   "metadata": {},
   "source": [
    "## Plot filled contours (`contourf`)\n",
    "\n",
    "`contourf` works similar to `pcolormesh` and takes x, y, z as input:"
   ]
  },
  {
   "cell_type": "code",
   "execution_count": null,
   "metadata": {},
   "outputs": [],
   "source": [
    "# create sample data\n",
    "lon, lat, data = mpu.sample_data_map(90, 48)\n",
    "\n",
    "# ====\n",
    "\n",
    "f, ax = plt.subplots(subplot_kw=dict(projection=ccrs.PlateCarree()))\n",
    "ax.coastlines()\n",
    "\n",
    "h = ax.contourf(lon, lat, data)"
   ]
  },
  {
   "cell_type": "markdown",
   "metadata": {},
   "source": [
    "There is one white stripe - the reason is that the latitude coordinates go from 0°E to 356°E (in this example) while the map is from -180°E to 180°E. The solution is to add a wrap-around point, i.e. repeat the first column at the end. This is done with the function `add_cyclic_point` which can be found in `cartopy.util`:"
   ]
  },
  {
   "cell_type": "code",
   "execution_count": null,
   "metadata": {},
   "outputs": [],
   "source": [
    "import cartopy.util as cutil"
   ]
  },
  {
   "cell_type": "markdown",
   "metadata": {},
   "source": [
    "This adds an additional column for `data` and `lon`:"
   ]
  },
  {
   "cell_type": "code",
   "execution_count": null,
   "metadata": {},
   "outputs": [],
   "source": [
    "lon, lat, data = mpu.sample_data_map(90, 48)\n",
    "DATA, LON = cutil.add_cyclic_point(data, lon)\n",
    "\n",
    "print(f\"{lon.shape=}\")\n",
    "print(f\"{LON.shape=}\")\n",
    "print()\n",
    "print(f\"{data.shape=}\")\n",
    "print(f\"{DATA.shape=}\")"
   ]
  },
  {
   "cell_type": "markdown",
   "metadata": {},
   "source": [
    "And now the map is filled:"
   ]
  },
  {
   "cell_type": "code",
   "execution_count": null,
   "metadata": {},
   "outputs": [],
   "source": [
    "# create sample data\n",
    "lon, lat, data = mpu.sample_data_map(90, 48)\n",
    "DATA, LON = cutil.add_cyclic_point(data, lon)\n",
    "\n",
    "# ====\n",
    "\n",
    "f, ax = plt.subplots(subplot_kw=dict(projection=ccrs.PlateCarree()))\n",
    "ax.coastlines()\n",
    "\n",
    "h = ax.contourf(LON, lat, DATA)"
   ]
  },
  {
   "cell_type": "markdown",
   "metadata": {},
   "source": [
    "> Note: adding a cyclic point does not need to be done for non-map contour plots."
   ]
  },
  {
   "cell_type": "markdown",
   "metadata": {},
   "source": [
    "## Load data\n",
    "\n",
    "For the exercises we load a NetCDF with historical, and projected climatological precipitation, as well as the relative change between them, from all CMIP5 models for RCP8.5 (Taylor et al., 2012).\n",
    "\n",
    "The data was prepared in [another notebook](../data/prepare_CMIP5_map.ipynb)."
   ]
  },
  {
   "cell_type": "code",
   "execution_count": null,
   "metadata": {},
   "outputs": [],
   "source": [
    "file = \"../data/cmip5_delta_pr_rcp85_map.nc\"\n",
    "\n",
    "# load data, omitting some unnecessary variables\n",
    "pr = xr.open_dataset(file, drop_variables=[\"proj\", \"agree_sign\", \"pval\"])"
   ]
  },
  {
   "cell_type": "markdown",
   "metadata": {},
   "source": [
    "### Exercise\n",
    " * Plot the climatological precipitation amount - make sure to get rid of the white band.\n",
    " * Add a colorbar"
   ]
  },
  {
   "cell_type": "code",
   "execution_count": null,
   "metadata": {},
   "outputs": [],
   "source": [
    "# get data\n",
    "lon, lat, hist = pr.lon, pr.lat, pr.hist\n",
    "\n",
    "# ====\n",
    "\n",
    "f, ax = plt.subplots(subplot_kw=dict(projection=ccrs.Robinson()))\n",
    "\n",
    "ax.coastlines()\n",
    "\n",
    "# code here"
   ]
  },
  {
   "cell_type": "markdown",
   "metadata": {},
   "source": [
    "### Solution"
   ]
  },
  {
   "cell_type": "code",
   "execution_count": null,
   "metadata": {
    "hide_input": true,
    "tags": [
     "solution"
    ]
   },
   "outputs": [],
   "source": [
    "# get data\n",
    "lon, lat, hist = pr.lon, pr.lat, pr.hist\n",
    "HIST, LON = cutil.add_cyclic_point(hist, lon)\n",
    "\n",
    "# ====\n",
    "\n",
    "f, ax = plt.subplots(subplot_kw=dict(projection=ccrs.Robinson()))\n",
    "\n",
    "ax.coastlines()\n",
    "\n",
    "h = ax.contourf(LON, lat, HIST, transform=ccrs.PlateCarree())\n",
    "plt.colorbar(h)"
   ]
  },
  {
   "cell_type": "markdown",
   "metadata": {},
   "source": [
    "## `levels`\n",
    "\n",
    "`contourf` (and `contour`) take a `levels` keyword to manually set the levels to draw, e.g.:\n",
    "\n",
    "```python\n",
    "\n",
    "levels = np.arange(0, 1.1, 0.25)\n",
    "levels = [-1, 0, 1]\n",
    "```\n",
    "\n",
    "Because you can directly pass the levels to the function, this is much easier than in `ax.pcolormesh`.\n",
    "\n",
    "### Note on np.arange\n",
    "`np.arange` follows the same logic as `range`: the upper bound needs to be larger than where we want it to stop, because it starts at 0. "
   ]
  },
  {
   "cell_type": "code",
   "execution_count": null,
   "metadata": {},
   "outputs": [],
   "source": [
    "print(list(range(10)))\n",
    "print(np.arange(10))\n",
    "\n",
    "print()\n",
    "\n",
    "print(\"Wrong:\")\n",
    "print(repr(np.arange(0, 1, 0.5)))\n",
    "\n",
    "print(\"Correct:\")\n",
    "print(repr(np.arange(0, 1.1, 0.5)))"
   ]
  },
  {
   "cell_type": "markdown",
   "metadata": {},
   "source": [
    "We set three levels to our example data: "
   ]
  },
  {
   "cell_type": "code",
   "execution_count": null,
   "metadata": {},
   "outputs": [],
   "source": [
    "# create sample data\n",
    "lon, lat, data = mpu.sample_data_map(90, 48)\n",
    "DATA, LON = cutil.add_cyclic_point(data, lon)\n",
    "\n",
    "levels = np.arange(-0.75, 1.1, 0.5)\n",
    "\n",
    "# ====\n",
    "\n",
    "f, ax = plt.subplots(subplot_kw=dict(projection=ccrs.PlateCarree()))\n",
    "\n",
    "ax.coastlines()\n",
    "\n",
    "h = ax.contourf(LON, lat, DATA, levels=levels, cmap=\"RdYlBu\")\n",
    "plt.colorbar(h)"
   ]
  },
  {
   "cell_type": "markdown",
   "metadata": {},
   "source": [
    "## `extend`\n",
    "\n",
    "This is probably not what we want - it clips values above/ below our `levels`. To fix this we can use the `extend` keyword:"
   ]
  },
  {
   "cell_type": "code",
   "execution_count": null,
   "metadata": {},
   "outputs": [],
   "source": [
    "# create sample data\n",
    "lon, lat, data = mpu.sample_data_map(90, 48)\n",
    "DATA, LON = cutil.add_cyclic_point(data, lon)\n",
    "\n",
    "levels = np.arange(-0.75, 1.1, 0.5)\n",
    "\n",
    "# ====\n",
    "\n",
    "f, ax = plt.subplots(subplot_kw=dict(projection=ccrs.PlateCarree()))\n",
    "\n",
    "ax.coastlines()\n",
    "\n",
    "h = ax.contourf(LON, lat, DATA, levels=levels, cmap=\"RdYlBu\", extend=\"both\")\n",
    "plt.colorbar(h)"
   ]
  },
  {
   "cell_type": "markdown",
   "metadata": {},
   "source": [
    "### Exercise\n",
    "\n",
    " * Create the levels `0-1000`, `1000-2000`, `2000-3000` for the precipitation plot\n",
    " * Don't forget to indicate that values > 3000 are clipped"
   ]
  },
  {
   "cell_type": "code",
   "execution_count": null,
   "metadata": {},
   "outputs": [],
   "source": [
    "# get data\n",
    "lon, lat, hist = pr.lon, pr.lat, pr.hist\n",
    "HIST, LON = cutil.add_cyclic_point(hist, lon)\n",
    "\n",
    "# levels = ...\n",
    "\n",
    "# ====\n",
    "\n",
    "f, ax = plt.subplots(subplot_kw=dict(projection=ccrs.Robinson()))\n",
    "\n",
    "ax.coastlines()\n",
    "\n",
    "h = ax.contourf(LON, lat, HIST, transform=ccrs.PlateCarree())\n",
    "plt.colorbar(h)"
   ]
  },
  {
   "cell_type": "markdown",
   "metadata": {},
   "source": [
    "### Solution"
   ]
  },
  {
   "cell_type": "code",
   "execution_count": null,
   "metadata": {
    "hide_input": true,
    "tags": [
     "solution"
    ]
   },
   "outputs": [],
   "source": [
    "# get data\n",
    "lon, lat, hist = pr.lon, pr.lat, pr.hist\n",
    "HIST, LON = cutil.add_cyclic_point(hist, lon)\n",
    "\n",
    "levels = np.arange(0, 3100, 1000)\n",
    "\n",
    "# ====\n",
    "\n",
    "f, ax = plt.subplots(subplot_kw=dict(projection=ccrs.Robinson()))\n",
    "\n",
    "ax.coastlines()\n",
    "\n",
    "h = ax.contourf(\n",
    "    LON, lat, HIST, transform=ccrs.PlateCarree(), levels=levels, extend=\"max\"\n",
    ")\n",
    "plt.colorbar(h)"
   ]
  },
  {
   "cell_type": "markdown",
   "metadata": {},
   "source": [
    "## xarray\n",
    "\n",
    "Similarly to `pcolormesh` we can use `xarray` to directly create contour plots:\n",
    "   \n",
    "```python\n",
    "ds.data.plot.contour(ax=ax, ...)\n",
    "\n",
    "ds.data.plot.contourf(ax=ax, ...)\n",
    "```\n",
    "\n",
    "xarray\n",
    " * automatically chooses a divergent colormap if the values cross 0\n",
    " * automatically set `extend` appropriately\n",
    " * does _not_ automatically add cyclic points. We can use `mpu.cyclic_dataarray` for this.\n",
    " \n",
    "#### Example"
   ]
  },
  {
   "cell_type": "code",
   "execution_count": null,
   "metadata": {},
   "outputs": [],
   "source": [
    "sample_da = mpu.sample_dataarray(90, 48)\n",
    "\n",
    "sample_da_cyclic = mpu.cyclic_dataarray(sample_da)\n",
    "\n",
    "# ====\n",
    "\n",
    "f, ax = plt.subplots(subplot_kw=dict(projection=ccrs.Robinson()))\n",
    "ax.coastlines(color=\"0.4\")\n",
    "\n",
    "sample_da_cyclic.plot.contourf(ax=ax, transform=ccrs.PlateCarree(), add_colorbar=False)"
   ]
  },
  {
   "cell_type": "markdown",
   "metadata": {},
   "source": [
    "### Exercise\n",
    "\n",
    " * Plot the CMIP5 precipitation data with xarray (`pr.hist`)\n",
    " * Also set the levels with steps of 1000\n"
   ]
  },
  {
   "cell_type": "code",
   "execution_count": null,
   "metadata": {},
   "outputs": [],
   "source": [
    "# pr_hist_cyclic =\n",
    "# levels =\n",
    "\n",
    "# ---\n",
    "\n",
    "f, ax = plt.subplots(subplot_kw=dict(projection=ccrs.Robinson()))"
   ]
  },
  {
   "cell_type": "markdown",
   "metadata": {},
   "source": [
    "### Solution"
   ]
  },
  {
   "cell_type": "code",
   "execution_count": null,
   "metadata": {},
   "outputs": [],
   "source": [
    "pr_hist_cyclic = mpu.cyclic_dataarray(pr.hist)\n",
    "levels = np.arange(0, 3001, 1000)\n",
    "\n",
    "# ----\n",
    "\n",
    "f, ax = plt.subplots(subplot_kw=dict(projection=ccrs.Robinson()))\n",
    "ax.coastlines()\n",
    "\n",
    "pr_hist_cyclic.plot.contourf(ax=ax, transform=ccrs.PlateCarree(), levels=levels)"
   ]
  },
  {
   "cell_type": "markdown",
   "metadata": {},
   "source": [
    "## Plot contour lines (`contour`)\n",
    "\n",
    "`contour` plots contours that are not filled. `contour` takes the same arguments as `contourf` and additionally takes a `linewidths` and a `linestyles` parameter. If the we choose a monochrome color, negative contours are dashed, unless otherwise specified.\n",
    "\n",
    "See the [documentation](https://matplotlib.org/stable/api/_as_gen/matplotlib.axes.Axes.contourf.html) for details.\n",
    "\n",
    "> Below we illustrate _both_ the regular pyplot interface as well as the one from xarray."
   ]
  },
  {
   "cell_type": "code",
   "execution_count": null,
   "metadata": {},
   "outputs": [],
   "source": [
    "# create sample data\n",
    "\n",
    "# numpy array\n",
    "lon, lat, data = mpu.sample_data_map(90, 48)\n",
    "DATA, LON = cutil.add_cyclic_point(data, lon)\n",
    "\n",
    "# xr.DataArray\n",
    "sample_da = mpu.sample_dataarray(90, 48)\n",
    "sample_da_cyclic = mpu.cyclic_dataarray(sample_da)\n",
    "\n",
    "# ====\n",
    "\n",
    "f, axs = plt.subplots(2, 1, subplot_kw=dict(projection=ccrs.PlateCarree()))\n",
    "\n",
    "ax = axs[0]\n",
    "\n",
    "ax.coastlines(color=\"0.5\")\n",
    "h = ax.contour(\n",
    "    LON,\n",
    "    lat,\n",
    "    DATA,\n",
    "    levels=[-0.5, 0.75],\n",
    "    colors=\".1\",\n",
    "    transform=ccrs.PlateCarree(),\n",
    ")\n",
    "ax.set_title(\"colors='.1'; linestyles not set\")\n",
    "\n",
    "# ==\n",
    "\n",
    "ax = axs[1]\n",
    "\n",
    "ax.coastlines(color=\"0.5\")\n",
    "h = sample_da_cyclic.plot.contour(\n",
    "    ax=ax,\n",
    "    levels=[-0.5, 0.75],\n",
    "    colors=\".1\",\n",
    "    linestyles=\"-\",\n",
    "    transform=ccrs.PlateCarree(),\n",
    ")\n",
    "ax.set_title(\"colors='.1', linestyles='-'\")"
   ]
  },
  {
   "cell_type": "markdown",
   "metadata": {},
   "source": [
    "### Exercise\n",
    " * Add contourlines for the relative change of precipitation in the next century\n",
    " * Indicate a decrease of -25 % with brown (`\"#8c510a\"`)\n",
    " * Indicate an increase of 25 % with green (`\"#7fbc41\"`)"
   ]
  },
  {
   "cell_type": "code",
   "execution_count": null,
   "metadata": {},
   "outputs": [],
   "source": [
    "# get data\n",
    "lon, lat, pr_rel = pr.lon, pr.lat, pr.pr_rel\n",
    "PR_REL, LON = cutil.add_cyclic_point(pr_rel, lon)\n",
    "\n",
    "# levels =\n",
    "colors = [\"#8c510a\", \"#7fbc41\"]\n",
    "\n",
    "# ====\n",
    "\n",
    "f, ax = plt.subplots(subplot_kw=dict(projection=ccrs.Robinson()))\n",
    "\n",
    "ax.coastlines()\n",
    "\n",
    "# h = ax.contour(...)"
   ]
  },
  {
   "cell_type": "markdown",
   "metadata": {},
   "source": [
    "### Solution"
   ]
  },
  {
   "cell_type": "code",
   "execution_count": null,
   "metadata": {
    "hide_input": true,
    "tags": [
     "solution"
    ]
   },
   "outputs": [],
   "source": [
    "# get data\n",
    "lon, lat, pr_rel = pr.lon, pr.lat, pr.pr_rel\n",
    "PR_REL, LON = cutil.add_cyclic_point(pr_rel, lon)\n",
    "\n",
    "levels = [-25, 25]\n",
    "colors = [\"#8c510a\", \"#7fbc41\"]\n",
    "\n",
    "# ====\n",
    "\n",
    "f, ax = plt.subplots(subplot_kw=dict(projection=ccrs.Robinson()))\n",
    "\n",
    "ax.coastlines()\n",
    "\n",
    "h = ax.contour(\n",
    "    LON, lat, PR_REL, transform=ccrs.PlateCarree(), levels=levels, colors=colors\n",
    ")"
   ]
  },
  {
   "cell_type": "markdown",
   "metadata": {},
   "source": [
    "## Bonus\n",
    "\n",
    "* Label contour lines\n",
    "* Additional xarray exercise\n",
    "\n",
    "### contour label\n",
    "\n",
    "The contour lines can be labeled by passing `h` to `ax.clabel`:"
   ]
  },
  {
   "cell_type": "code",
   "execution_count": null,
   "metadata": {},
   "outputs": [],
   "source": [
    "# create sample data\n",
    "lon, lat, data = mpu.sample_data_map(90, 48)\n",
    "DATA, LON = cutil.add_cyclic_point(data, lon)\n",
    "\n",
    "# ====\n",
    "\n",
    "f, ax = plt.subplots(1, 1, subplot_kw=dict(projection=ccrs.PlateCarree()))\n",
    "\n",
    "ax.coastlines()\n",
    "h = ax.contour(LON, lat, DATA, levels=[-0.5, 0.75], transform=ccrs.PlateCarree())\n",
    "\n",
    "cl = ax.clabel(h)"
   ]
  },
  {
   "cell_type": "markdown",
   "metadata": {},
   "source": [
    "### Exercise\n",
    " * Add labels to the contourlines for the relative change of precipitation\n",
    " * Specify the number format as `fmt='%1.0f %%'` to get '25 %'"
   ]
  },
  {
   "cell_type": "code",
   "execution_count": null,
   "metadata": {},
   "outputs": [],
   "source": [
    "# get data\n",
    "pr_cyclic = mpu.cyclic_dataarray(pr)\n",
    "\n",
    "levels = [-25, 25]\n",
    "colors = [\"#8c510a\", \"#7fbc41\"]\n",
    "\n",
    "# ====\n",
    "\n",
    "f, ax = plt.subplots(subplot_kw=dict(projection=ccrs.Robinson()))\n",
    "\n",
    "ax.coastlines()\n",
    "\n",
    "h = pr_cyclic.pr_rel.plot.contour(\n",
    "    ax=ax, transform=ccrs.PlateCarree(), levels=levels, colors=colors, extend=\"both\"\n",
    ")"
   ]
  },
  {
   "cell_type": "code",
   "execution_count": null,
   "metadata": {},
   "outputs": [],
   "source": [
    "pr_cyclic.hist"
   ]
  },
  {
   "cell_type": "markdown",
   "metadata": {},
   "source": [
    "### Solution"
   ]
  },
  {
   "cell_type": "code",
   "execution_count": null,
   "metadata": {
    "hide_input": true,
    "tags": [
     "solution"
    ]
   },
   "outputs": [],
   "source": [
    "# get data\n",
    "pr_cyclic = mpu.cyclic_dataarray(pr)\n",
    "\n",
    "levels = [-25, 25]\n",
    "colors = [\"#8c510a\", \"#7fbc41\"]\n",
    "\n",
    "# ====\n",
    "\n",
    "f, ax = plt.subplots(subplot_kw=dict(projection=ccrs.Robinson()))\n",
    "\n",
    "ax.coastlines()\n",
    "\n",
    "h = pr_cyclic.pr_rel.plot.contour(\n",
    "    ax=ax, transform=ccrs.PlateCarree(), levels=levels, colors=colors, extend=\"both\"\n",
    ")\n",
    "\n",
    "cl = ax.clabel(h, fmt=\"%1.0f %%\")"
   ]
  },
  {
   "cell_type": "markdown",
   "metadata": {},
   "source": [
    "### Additional xarray exercise\n",
    "\n",
    "* Plot the temperature in °Celsius\n",
    "* Manually select levels"
   ]
  },
  {
   "cell_type": "code",
   "execution_count": null,
   "metadata": {},
   "outputs": [],
   "source": [
    "# load temperature data\n",
    "\n",
    "file = \"../data/cesm_temp.nc\"\n",
    "\n",
    "cesm = xr.open_dataset(file)"
   ]
  },
  {
   "cell_type": "code",
   "execution_count": null,
   "metadata": {},
   "outputs": [],
   "source": [
    "temp = cesm.temp - 273.15\n",
    "# levels =\n",
    "\n",
    "# ===="
   ]
  },
  {
   "cell_type": "code",
   "execution_count": null,
   "metadata": {},
   "outputs": [],
   "source": [
    "# solution\n",
    "\n",
    "temp = cesm.temp - 273.15\n",
    "\n",
    "temp_cyclic = mpu.cyclic_dataarray(temp)\n",
    "\n",
    "# ====\n",
    "\n",
    "f, ax = plt.subplots(1, 1, subplot_kw=dict(projection=ccrs.Robinson()))\n",
    "\n",
    "ax.coastlines()\n",
    "\n",
    "levels = np.arange(-35, 36, 5)\n",
    "\n",
    "temp_cyclic.plot.contourf(\n",
    "    ax=ax, transform=ccrs.PlateCarree(), levels=levels, extend=\"both\"\n",
    ")"
   ]
  }
 ],
 "metadata": {
  "hide_input": false,
  "kernelspec": {
   "display_name": "Python [conda env:pyvis]",
   "language": "python",
   "name": "conda-env-pyvis-py"
  },
  "language_info": {
   "codemirror_mode": {
    "name": "ipython",
    "version": 3
   },
   "file_extension": ".py",
   "mimetype": "text/x-python",
   "name": "python",
   "nbconvert_exporter": "python",
   "pygments_lexer": "ipython3",
   "version": "3.11.0"
  },
  "toc": {
   "base_numbering": 1,
   "nav_menu": {},
   "number_sections": true,
   "sideBar": true,
   "skip_h1_title": false,
   "title_cell": "Table of Contents",
   "title_sidebar": "Contents",
   "toc_cell": false,
   "toc_position": {},
   "toc_section_display": true,
   "toc_window_display": false
  }
 },
 "nbformat": 4,
 "nbformat_minor": 4
}
