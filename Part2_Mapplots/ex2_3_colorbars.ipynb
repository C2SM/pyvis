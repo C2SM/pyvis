{
 "cells": [
  {
   "cell_type": "markdown",
   "metadata": {},
   "source": [
    "# Exercise 2.3 Colorbars\n",
    "prepared by M.Hauser\n",
    "\n",
    "We got to know colorbars in Exercises 1.3 and 1.5. However, there are some quirks when adding colorbars to map plots. \n",
    "We have already seen that colorbars can be too large for map plots, which does not happen for 'normal' plots (with exceptions). In this exercise, we will discuss how to overcome this problem.\n",
    "\n",
    "> This exercise applies only to map plots (or plots where the aspect ratio must be equal).\n",
    "\n",
    "\n",
    "\n",
    "## Import libraries"
   ]
  },
  {
   "cell_type": "code",
   "execution_count": null,
   "metadata": {},
   "outputs": [],
   "source": [
    "import cartopy.crs as ccrs\n",
    "import matplotlib.pyplot as plt\n",
    "import numpy as np\n",
    "import xarray as xr"
   ]
  },
  {
   "cell_type": "code",
   "execution_count": null,
   "metadata": {},
   "outputs": [],
   "source": [
    "import mplotutils as mpu"
   ]
  },
  {
   "cell_type": "markdown",
   "metadata": {},
   "source": [
    "## Load data\n",
    "\n",
    "We use a NetCDF with historical, and projected climatological precipitation, as well as the relative change between them, from all CMIP5 models for RCP8.5 (Taylor et al., 2012).\n",
    "\n",
    "The data was prepared in [another notebook](../data/prepare_CMIP5_map.ipynb)."
   ]
  },
  {
   "cell_type": "code",
   "execution_count": null,
   "metadata": {},
   "outputs": [],
   "source": [
    "file = \"../data/cmip5_delta_pr_rcp85_map.nc\"\n",
    "\n",
    "# load data, omitting some unnecessary variables\n",
    "pr = xr.open_dataset(file, drop_variables=[\"agree_sign\", \"pval\"])"
   ]
  },
  {
   "cell_type": "markdown",
   "metadata": {},
   "source": [
    "## Reminder\n",
    "\n",
    "As noted before, colorbars are usually created as\n",
    "\n",
    "```python\n",
    "plt.colorbar(h, ax=ax)\n",
    "```\n",
    "    \n",
    "### Example\n",
    "\n",
    "We plot the relative change in precipitation between a historical and future time period, calculated from CMIP5 data - including a colorbar:"
   ]
  },
  {
   "cell_type": "code",
   "execution_count": null,
   "metadata": {
    "hide_input": true,
    "metadata": {},
    "tags": [
     "solution"
    ]
   },
   "outputs": [],
   "source": [
    "f, ax = plt.subplots(1, 1, subplot_kw=dict(projection=ccrs.PlateCarree()))\n",
    "\n",
    "h = ax.pcolormesh(\n",
    "    pr.lon,\n",
    "    pr.lat,\n",
    "    pr.pr_rel,\n",
    "    transform=ccrs.PlateCarree(),\n",
    "    cmap=\"BrBG\",\n",
    "    vmin=-50,\n",
    "    vmax=50,\n",
    ")\n",
    "\n",
    "ax.set_title(\"Precipitation\")\n",
    "ax.coastlines()\n",
    "\n",
    "# =======\n",
    "# add colorbar\n",
    "plt.colorbar(h, ax=ax, label=\"Relative change (%)\")"
   ]
  },
  {
   "cell_type": "markdown",
   "metadata": {},
   "source": [
    "## The problem\n",
    "\n",
    "The colorbar is larger than the axes! Depending on the map and the extent of the map, this can be even worse. Let's illustrate this with another projection:"
   ]
  },
  {
   "cell_type": "code",
   "execution_count": null,
   "metadata": {},
   "outputs": [],
   "source": [
    "# create sample data\n",
    "lon, lat, data = mpu.sample_data_map(90, 48)\n",
    "# ====\n",
    "\n",
    "f, ax = plt.subplots(\n",
    "    1, 1, subplot_kw=dict(projection=ccrs.Orthographic(central_latitude=45))\n",
    ")\n",
    "\n",
    "ax.coastlines()\n",
    "h = ax.pcolormesh(lon, lat, data, transform=ccrs.PlateCarree())\n",
    "\n",
    "plt.colorbar(h, extend=\"both\", orientation=\"horizontal\")"
   ]
  },
  {
   "cell_type": "markdown",
   "metadata": {},
   "source": [
    "#### Why is this a problem for map plots but not for others?\n",
    "\n",
    "We have seen examples where the colorbar just worked fine. The issue is that the aspect ratio of a map plot has to be equal, otherwise the map would be distorted. To achieve this, matplotlib shrinks the axes, but does not shrink the figure itself. The colorbar is correct if we set the aspect to `\"auto\"`, but then of course the map is distorted..."
   ]
  },
  {
   "cell_type": "code",
   "execution_count": null,
   "metadata": {},
   "outputs": [],
   "source": [
    "# create sample data\n",
    "lon, lat, data = mpu.sample_data_map(90, 48)\n",
    "# ====\n",
    "\n",
    "f, ax = plt.subplots(\n",
    "    1, 1, subplot_kw=dict(projection=ccrs.Orthographic(central_latitude=45))\n",
    ")\n",
    "\n",
    "ax.coastlines()\n",
    "h = ax.pcolormesh(lon, lat, data, transform=ccrs.PlateCarree())\n",
    "\n",
    "plt.colorbar(h, extend=\"both\", orientation=\"horizontal\")\n",
    "\n",
    "ax.set_aspect(\"auto\")"
   ]
  },
  {
   "cell_type": "markdown",
   "metadata": {},
   "source": [
    "# The solution\n",
    "\n",
    "There is a function in mplotutils that creates colorbars of the correct size: `mpu.colorbar(...)`.\n",
    "\n",
    "The solution is inspired by this [stackoverflow answer](https://stackoverflow.com/a/30077745). The trick is to read out the coordinates of the cartopy axes and adjust the position of the colorbar accordingly. Because the position of the cartopy axes can change, we have to redo this every time the plot gets drawn."
   ]
  },
  {
   "cell_type": "code",
   "execution_count": null,
   "metadata": {},
   "outputs": [],
   "source": [
    "# create sample data\n",
    "lon, lat, data = mpu.sample_data_map(90, 48)\n",
    "# ====\n",
    "\n",
    "f, ax = plt.subplots(\n",
    "    1, 1, subplot_kw=dict(projection=ccrs.Orthographic(central_latitude=45))\n",
    ")\n",
    "\n",
    "ax.coastlines()\n",
    "h = ax.pcolormesh(lon, lat, data, transform=ccrs.PlateCarree())\n",
    "\n",
    "# =======\n",
    "# NOTE: mpu.colorbar instead of plt.colorbar\n",
    "cbar = mpu.colorbar(h, ax, extend=\"both\", orientation=\"horizontal\", aspect=15, pad=0.05)\n",
    "\n",
    "cbar.set_ticks(np.arange(-1, 1.1, 0.5))"
   ]
  },
  {
   "cell_type": "markdown",
   "metadata": {},
   "source": [
    "Have a look at the help:"
   ]
  },
  {
   "cell_type": "code",
   "execution_count": null,
   "metadata": {},
   "outputs": [],
   "source": [
    "# uncomment to get the docstring\n",
    "# mpu.colorbar?"
   ]
  },
  {
   "cell_type": "markdown",
   "metadata": {},
   "source": [
    "### Exercise\n",
    "\n",
    "Let's go back to the relative precipitation change\n",
    "\n",
    " * Replace the `plt` colorbar with the `mpu` one.\n",
    " \n",
    " > Note: we use xarray to plot the data - therefore we need to set `add_colorbar=False`"
   ]
  },
  {
   "cell_type": "code",
   "execution_count": null,
   "metadata": {},
   "outputs": [],
   "source": [
    "f, ax = plt.subplots(1, 1, subplot_kw=dict(projection=ccrs.Robinson()))\n",
    "ax.coastlines()\n",
    "\n",
    "h = pr.hist.plot(\n",
    "    transform=ccrs.PlateCarree(), cmap=\"Blues\", vmin=0, vmax=4000, add_colorbar=False\n",
    ")\n",
    "\n",
    "# =======\n",
    "# use mpu.colorbar instead\n",
    "cbar = plt.colorbar(h, label=\"(mm)\")"
   ]
  },
  {
   "cell_type": "markdown",
   "metadata": {},
   "source": [
    "### Solution"
   ]
  },
  {
   "cell_type": "code",
   "execution_count": null,
   "metadata": {
    "hide_input": true,
    "metadata": {},
    "tags": [
     "solution"
    ]
   },
   "outputs": [],
   "source": [
    "f, ax = plt.subplots(1, 1, subplot_kw=dict(projection=ccrs.Robinson()))\n",
    "ax.coastlines()\n",
    "\n",
    "h = pr.hist.plot(\n",
    "    transform=ccrs.PlateCarree(), cmap=\"Blues\", vmin=0, vmax=4000, add_colorbar=False\n",
    ")\n",
    "\n",
    "# =======\n",
    "# use mpu.colorbar instead\n",
    "cbar = mpu.colorbar(h, ax, label=\"(mm)\")"
   ]
  },
  {
   "cell_type": "markdown",
   "metadata": {},
   "source": [
    "## More than one axes\n",
    "\n",
    "You can add a colorbar that spans more than one axes. To achieve that you need to pass a list (or array) of axes to `mpu.colorbar`.\n",
    "\n",
    "``` ipython\n",
    "cbar = mpu.colorbar(h, axs)\n",
    "```\n",
    "\n",
    "\n",
    "### Exercise\n",
    "\n",
    "Here we plot the precipitation climatology of the historical and future period.\n",
    "\n",
    " * Add a `'horizontal'` colorbar that spans both axes in the plot showing historical and projected rainfall amounts\n",
    " * The colorbar is a bit large, play with the `aspect` keyword to find a better size.\n",
    " * Save the figure as a pdf\n",
    " * Is the colorbar at the right position in the saved figure?\n"
   ]
  },
  {
   "cell_type": "code",
   "execution_count": null,
   "metadata": {},
   "outputs": [],
   "source": [
    "f, axs = plt.subplots(1, 2, subplot_kw=dict(projection=ccrs.PlateCarree()))\n",
    "\n",
    "ax = axs[0]\n",
    "h = ax.pcolormesh(\n",
    "    pr.lon,\n",
    "    pr.lat,\n",
    "    pr.hist,\n",
    "    transform=ccrs.PlateCarree(),\n",
    "    cmap=\"Blues\",\n",
    "    vmin=0,\n",
    "    vmax=4000,\n",
    "    rasterized=True,\n",
    ")\n",
    "\n",
    "ax.set_title(\"Precipitation: historical\")\n",
    "\n",
    "ax = axs[1]\n",
    "h = ax.pcolormesh(\n",
    "    pr.lon,\n",
    "    pr.lat,\n",
    "    pr.proj,\n",
    "    transform=ccrs.PlateCarree(),\n",
    "    cmap=\"Blues\",\n",
    "    vmin=0,\n",
    "    vmax=4000,\n",
    "    rasterized=True,\n",
    ")\n",
    "\n",
    "ax.set_title(\"Precipitation: projections\")\n",
    "\n",
    "\n",
    "for ax in axs:\n",
    "    ax.coastlines()\n",
    "\n",
    "# =======\n",
    "# create the colorbar\n",
    "# cbar = mpu.colorbar(...)\n",
    "\n",
    "# save figure\n",
    "# plt.savefig(\"pr_hist_proj.pdf\")"
   ]
  },
  {
   "cell_type": "markdown",
   "metadata": {},
   "source": [
    "### Solution\n"
   ]
  },
  {
   "cell_type": "code",
   "execution_count": null,
   "metadata": {
    "hide_input": true,
    "metadata": {},
    "tags": [
     "solution"
    ]
   },
   "outputs": [],
   "source": [
    "f, axs = plt.subplots(1, 2, subplot_kw=dict(projection=ccrs.PlateCarree()))\n",
    "\n",
    "ax = axs[0]\n",
    "h = ax.pcolormesh(\n",
    "    pr.lon,\n",
    "    pr.lat,\n",
    "    pr.hist,\n",
    "    transform=ccrs.PlateCarree(),\n",
    "    cmap=\"Blues\",\n",
    "    vmin=0,\n",
    "    vmax=4000,\n",
    "    rasterized=True,\n",
    ")\n",
    "\n",
    "ax.set_title(\"Precipitation: historical\")\n",
    "\n",
    "ax = axs[1]\n",
    "h = ax.pcolormesh(\n",
    "    pr.lon,\n",
    "    pr.lat,\n",
    "    pr.proj,\n",
    "    transform=ccrs.PlateCarree(),\n",
    "    cmap=\"Blues\",\n",
    "    vmin=0,\n",
    "    vmax=4000,\n",
    "    rasterized=True,\n",
    ")\n",
    "\n",
    "ax.set_title(\"Precipitation: projections\")\n",
    "\n",
    "for ax in axs:\n",
    "    ax.coastlines()\n",
    "\n",
    "\n",
    "# create the colorbar\n",
    "cbar = mpu.colorbar(h, axs, orientation=\"horizontal\", aspect=30)\n",
    "cbar.set_label(\"(mm)\")\n",
    "\n",
    "# save figure\n",
    "plt.savefig(\"pr_hist_proj.pdf\")"
   ]
  },
  {
   "cell_type": "markdown",
   "metadata": {},
   "source": [
    "## Some more stuff you can do\n",
    "\n",
    "* Span multiple axes\n",
    "* More than one colorbar per axes\n",
    "\n"
   ]
  },
  {
   "cell_type": "code",
   "execution_count": null,
   "metadata": {},
   "outputs": [],
   "source": [
    "f, axs = plt.subplots(2, 3, subplot_kw=dict(projection=ccrs.PlateCarree()))\n",
    "\n",
    "axs = axs.flatten()\n",
    "\n",
    "for ax in axs:\n",
    "    ax.coastlines(color=\"0.3\", lw=0.5)\n",
    "    ax.set_global()\n",
    "\n",
    "# plot dummy data to get the colormap\n",
    "h0 = ax.pcolormesh([[0, 1]])\n",
    "h1 = ax.pcolormesh([[0, 1]])\n",
    "\n",
    "h2_1 = ax.pcolormesh([[0, 1]], cmap=\"Blues\")\n",
    "h2_2 = ax.pcolormesh([[0, 1]], cmap=\"Reds_r\")\n",
    "\n",
    "\n",
    "h3 = ax.pcolormesh([[0, 1]], cmap=\"BrBG\")\n",
    "\n",
    "# ====\n",
    "# single colorbar\n",
    "cbar = mpu.colorbar(h1, axs[0:2], size=0.2, pad=0.1, orientation=\"horizontal\")\n",
    "\n",
    "# ====\n",
    "# two colorbars for the same axes\n",
    "cbar = mpu.colorbar(h2_1, axs[2], size=0.2, pad=0.1, orientation=\"horizontal\")\n",
    "cbar.ax.set_xticklabels([])\n",
    "\n",
    "cbar = mpu.colorbar(h2_2, axs[2], size=0.2, pad=0.4, orientation=\"horizontal\")\n",
    "cbar.ax.set_xticklabels([])\n",
    "\n",
    "# ====\n",
    "# colorbar for three axes\n",
    "cbar = mpu.colorbar(h3, axs[-3:], size=0.2, pad=0.1, orientation=\"horizontal\")"
   ]
  },
  {
   "cell_type": "markdown",
   "metadata": {},
   "source": [
    "## shrink and shift\n",
    "\n",
    "You can use the `shrink` and `shift` keywords to adjust the position of the colorbar. `shrink` and `shift` are in fraction of the total width/ height of the colorbar.\n"
   ]
  },
  {
   "cell_type": "code",
   "execution_count": null,
   "metadata": {},
   "outputs": [],
   "source": [
    "f, axs = plt.subplots(2, 2, subplot_kw=dict(projection=ccrs.Robinson()))\n",
    "\n",
    "axs = axs.flatten()\n",
    "\n",
    "# plot dummy data to get a colormap\n",
    "h = ax.pcolormesh([[0, 1]])\n",
    "\n",
    "ax = axs[0]\n",
    "mpu.colorbar(h, ax, orientation=\"horizontal\", shrink=0.5)\n",
    "ax.text(0.5, 0.5, \"shrink=0.5\\nshift='symmetric' (default)\", ha=\"center\", va=\"center\")\n",
    "\n",
    "ax = axs[1]\n",
    "mpu.colorbar(h, ax, orientation=\"horizontal\", shrink=0.5, shift=0.35)\n",
    "ax.text(0.5, 0.5, \"shrink=0.5\\nshift=0.35\", ha=\"center\", va=\"center\")\n",
    "\n",
    "ax = axs[2]\n",
    "mpu.colorbar(h, ax, orientation=\"horizontal\", shrink=0.5, shift=0)\n",
    "ax.text(0.5, 0.5, \"shrink=0.5\\nshift=0.\", ha=\"center\", va=\"center\")\n",
    "\n",
    "ax = axs[3]\n",
    "mpu.colorbar(h, ax, orientation=\"horizontal\", shrink=None, shift=0.2)\n",
    "ax.text(0.5, 0.5, \"shrink=None (default)\\nshift=0.2\", ha=\"center\", va=\"center\")"
   ]
  },
  {
   "cell_type": "markdown",
   "metadata": {},
   "source": [
    "### Exercise\n",
    "\n",
    "Now we plot the historical and future precipitation climatologies and their relative change.\n",
    "\n",
    " * Add one colorbar for the climatologies and one for the relative change\n",
    " * Add the units with `cbar.ax.set_xlabel`\n",
    " * Use `shrink` and `shift` to make room for the xlabel\n",
    " > You may have to use different values for `shrink` and `shift` for the two colorbars\n",
    "> \n",
    " > Use `labelpad` for `set_xlabel` to have some distance between the colorbar and the label\n",
    " * Set `extend='both'` and `extendfrac=0.1` for the second colorbar\n",
    " > Per default `mpu.colorbar` sets the width of the colorbar with its aspect ratio. As the two are not of the same height, it is recommended to use `size` instead. "
   ]
  },
  {
   "cell_type": "code",
   "execution_count": null,
   "metadata": {},
   "outputs": [],
   "source": [
    "f, axs = plt.subplots(3, 1, subplot_kw=dict(projection=ccrs.Robinson()))\n",
    "\n",
    "f.set_size_inches(w=10 / 2.54, h=16 / 2.54)\n",
    "\n",
    "ax = axs[0]\n",
    "h0 = pr.hist.plot(\n",
    "    ax=ax,\n",
    "    transform=ccrs.PlateCarree(),\n",
    "    cmap=\"Blues\",\n",
    "    vmin=0,\n",
    "    vmax=4000,\n",
    "    add_colorbar=False,\n",
    ")\n",
    "\n",
    "\n",
    "ax = axs[1]\n",
    "h1 = pr.proj.plot(\n",
    "    ax=ax,\n",
    "    transform=ccrs.PlateCarree(),\n",
    "    cmap=\"Blues\",\n",
    "    vmin=0,\n",
    "    vmax=4000,\n",
    "    add_colorbar=False,\n",
    ")\n",
    "\n",
    "\n",
    "ax = axs[2]\n",
    "h2 = pr.pr_rel.plot(\n",
    "    transform=ccrs.PlateCarree(),\n",
    "    cmap=\"BrBG\",\n",
    "    vmin=-50,\n",
    "    vmax=50,\n",
    "    add_colorbar=False,\n",
    ")\n",
    "\n",
    "\n",
    "axs[0].set_title(\"Precipitation: historical\")\n",
    "axs[1].set_title(\"Precipitation: projections\")\n",
    "axs[2].set_title(\"Precipitation: change\")\n",
    "\n",
    "for ax in axs:\n",
    "    ax.coastlines()\n",
    "\n",
    "# first colorbar\n",
    "\n",
    "\n",
    "# second colorbar\n",
    "\n"
   ]
  },
  {
   "cell_type": "markdown",
   "metadata": {},
   "source": [
    "### Solution\n",
    "\n",
    "As shift is relative to the height of the colorbar, I use `shift=0.1` for the upper colorbar and `shift=0.2` for the lower colorbar. This creates approximately the same absolute shift."
   ]
  },
  {
   "cell_type": "code",
   "execution_count": null,
   "metadata": {
    "hide_input": true,
    "metadata": {},
    "tags": [
     "solution"
    ]
   },
   "outputs": [],
   "source": [
    "f, axs = plt.subplots(3, 1, subplot_kw=dict(projection=ccrs.Robinson()))\n",
    "\n",
    "f.set_size_inches(w=10 / 2.54, h=16 / 2.54)\n",
    "\n",
    "ax = axs[0]\n",
    "h0 = pr.hist.plot(\n",
    "    ax=ax,\n",
    "    transform=ccrs.PlateCarree(),\n",
    "    cmap=\"Blues\",\n",
    "    vmin=0,\n",
    "    vmax=4000,\n",
    "    add_colorbar=False,\n",
    ")\n",
    "\n",
    "\n",
    "ax = axs[1]\n",
    "h1 = pr.proj.plot(\n",
    "    ax=ax,\n",
    "    transform=ccrs.PlateCarree(),\n",
    "    cmap=\"Blues\",\n",
    "    vmin=0,\n",
    "    vmax=4000,\n",
    "    add_colorbar=False,\n",
    ")\n",
    "\n",
    "\n",
    "ax = axs[2]\n",
    "h2 = pr.pr_rel.plot(\n",
    "    transform=ccrs.PlateCarree(),\n",
    "    cmap=\"BrBG\",\n",
    "    vmin=-50,\n",
    "    vmax=50,\n",
    "    add_colorbar=False,\n",
    ")\n",
    "\n",
    "\n",
    "axs[0].set_title(\"Precipitation: historical\")\n",
    "axs[1].set_title(\"Precipitation: projections\")\n",
    "axs[2].set_title(\"Precipitation: change\")\n",
    "\n",
    "for ax in axs:\n",
    "    ax.coastlines()\n",
    "\n",
    "\n",
    "# first colorbar\n",
    "cbar = mpu.colorbar(h1, axs[0:2], shift=0.075, size=0.05)\n",
    "cbar.ax.set_xlabel(\"(mm)\", labelpad=5, ha=\"left\")\n",
    "\n",
    "\n",
    "# second colorbar\n",
    "cbar = mpu.colorbar(h2, axs[2], shift=0.15, size=0.05, extendfrac=0.1, extend=\"both\")\n",
    "cbar.ax.set_xlabel(\"(%)\", labelpad=10, ha=\"left\")"
   ]
  },
  {
   "cell_type": "markdown",
   "metadata": {},
   "source": [
    "## Bonus: Alternative Solution\n",
    "\n",
    "There is a second way to create a colorbar that has the right size - using `axes_grid1`.\n",
    "\n",
    "\"[axes_grid1](https://matplotlib.org/2.0.2/mpl_toolkits/axes_grid/users/overview.html) is a collection of helper classes to ease displaying (multiple) images with matplotlib. In matplotlib, the axes location (and size) is specified in the normalized figure coordinates, which may not be ideal for displaying images that needs to have a given aspect ratio.\"\n",
    "\n",
    " > However, it is not part of the core matplotlib functionality, and not its best-documented part\n",
    "\n",
    "From the axes_grid1 toolkit we need `make_axes_locatable`:"
   ]
  },
  {
   "cell_type": "code",
   "execution_count": null,
   "metadata": {},
   "outputs": [],
   "source": [
    "from mpl_toolkits.axes_grid1 import make_axes_locatable"
   ]
  },
  {
   "cell_type": "code",
   "execution_count": null,
   "metadata": {},
   "outputs": [],
   "source": [
    "# create sample data\n",
    "lon, lat, data = mpu.sample_data_map(90, 48)\n",
    "# ====\n",
    "\n",
    "f, ax = plt.subplots(subplot_kw=dict(projection=ccrs.Orthographic(central_latitude=45)))\n",
    "ax.coastlines()\n",
    "\n",
    "h = ax.pcolormesh(lon, lat, data, transform=ccrs.PlateCarree())\n",
    "\n",
    "# =======\n",
    "# add colorbar\n",
    "\n",
    "# create axes that has the right size\n",
    "divider = make_axes_locatable(ax)\n",
    "cbax = divider.append_axes(\"bottom\", size=\"6.5%\", pad=0.1, axes_class=plt.Axes)\n",
    "\n",
    "# create colorbar in this axes\n",
    "cbar = plt.colorbar(h, cax=cbax, orientation=\"horizontal\", extend=\"both\")"
   ]
  },
  {
   "cell_type": "markdown",
   "metadata": {},
   "source": [
    "\n",
    "> You need to pass `axes_class=plt.Axes` to `append_axes`, else it fails miserably (because it tries to create a new axes with a projection). \n",
    "\n",
    "\n",
    "### Exercise\n",
    "\n",
    " * Add a vertical colorbar to the historical precipitation plot"
   ]
  },
  {
   "cell_type": "code",
   "execution_count": null,
   "metadata": {},
   "outputs": [],
   "source": [
    "f, ax = plt.subplots(subplot_kw=dict(projection=ccrs.LambertAzimuthalEqualArea()))\n",
    "ax.coastlines()\n",
    "\n",
    "h = ax.pcolormesh(\n",
    "    pr.lon,\n",
    "    pr.lat,\n",
    "    pr.hist,\n",
    "    transform=ccrs.PlateCarree(),\n",
    "    cmap=\"Blues\",\n",
    "    vmin=0,\n",
    "    vmax=4000,\n",
    ")\n",
    "\n",
    "# add colorbar here"
   ]
  },
  {
   "cell_type": "markdown",
   "metadata": {},
   "source": [
    "### Solution"
   ]
  },
  {
   "cell_type": "code",
   "execution_count": null,
   "metadata": {
    "hide_input": true,
    "metadata": {},
    "tags": [
     "solution"
    ]
   },
   "outputs": [],
   "source": [
    "f, ax = plt.subplots(subplot_kw=dict(projection=ccrs.LambertAzimuthalEqualArea()))\n",
    "ax.coastlines()\n",
    "\n",
    "h = ax.pcolormesh(\n",
    "    pr.lon,\n",
    "    pr.lat,\n",
    "    pr.hist,\n",
    "    transform=ccrs.PlateCarree(),\n",
    "    cmap=\"Blues\",\n",
    "    vmin=0,\n",
    "    vmax=4000,\n",
    ")\n",
    "\n",
    "# add colorbar here\n",
    "\n",
    "# create axes that has the right size\n",
    "divider = make_axes_locatable(ax)\n",
    "cbax = divider.append_axes(\"right\", size=\"6.5%\", pad=0.1, axes_class=plt.Axes)\n",
    "\n",
    "# create colorbar in this axes\n",
    "cbar = plt.colorbar(h, cax=cbax, orientation=\"vertical\", extend=\"max\")"
   ]
  },
  {
   "cell_type": "markdown",
   "metadata": {},
   "source": [
    "### Limitations\n",
    "\n",
    "The solution with `axes_grid1` works reasonably well, but it has limitations, e.g. as far as I know you cannot shrink the colorbar to make room for a label below it."
   ]
  }
 ],
 "metadata": {
  "hide_input": false,
  "kernelspec": {
   "display_name": "Python 3 (ipykernel)",
   "language": "python",
   "name": "python3"
  },
  "language_info": {
   "codemirror_mode": {
    "name": "ipython",
    "version": 3
   },
   "file_extension": ".py",
   "mimetype": "text/x-python",
   "name": "python",
   "nbconvert_exporter": "python",
   "pygments_lexer": "ipython3",
   "version": "3.11.8"
  }
 },
 "nbformat": 4,
 "nbformat_minor": 4
}
