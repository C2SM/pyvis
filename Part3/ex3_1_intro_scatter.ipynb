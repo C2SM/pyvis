{
 "cells": [
  {
   "cell_type": "markdown",
   "metadata": {},
   "source": [
    "# Exercise 3.1 Georeferenced plots - cartopy: Introduction and scatterplots\n",
    "prepared by M.Hauser\n",
    "\n",
    "Currently there are two main libraries to plot georeferenced data/ map plots in python - [basemap](https://matplotlib.org/basemap/) and [cartopy](http://scitools.org.uk/cartopy/).\n",
    "\n",
    "However, as [basemap is not developped any further](https://matplotlib.org/basemap/users/intro.html#cartopy-new-management-and-eol-announcement), it is not so difficult to decide which of them to use.\n",
    "\n",
    "For starters we will learn how to make scatterplots on maps.\n",
    "\n",
    "## Import standard libraries"
   ]
  },
  {
   "cell_type": "code",
   "execution_count": 59,
   "metadata": {},
   "outputs": [],
   "source": [
    "import matplotlib.pyplot as plt\n",
    "import xarray as xr\n",
    "\n",
    "%matplotlib inline"
   ]
  },
  {
   "cell_type": "markdown",
   "metadata": {},
   "source": [
    "We also need to import the coordinate reference system (crs) from cartopy, which is commonly abbreviated as `ccrs`:"
   ]
  },
  {
   "cell_type": "code",
   "execution_count": null,
   "metadata": {},
   "outputs": [],
   "source": [
    "import cartopy.crs as ccrs"
   ]
  },
  {
   "cell_type": "markdown",
   "metadata": {},
   "source": [
    "## Load Data\n",
    "\n",
    "### Argo floats\n",
    "\n",
    "We use position and temperature of the [argo floats](http://www.argo.ucsd.edu/). The data was obtained from [ifremer](http://wwz.ifremer.fr/) (Institut français de recherche pour l'exploitation de la mer), from their [ftp repository](ftp://ftp.ifremer.fr/ifremer/argo/geo/).\n",
    "\n",
    "The relevant data was extracted from the raw file in another [notebook](../data/prepare_argo_float_data.ipynb).\n"
   ]
  },
  {
   "cell_type": "code",
   "execution_count": null,
   "metadata": {},
   "outputs": [],
   "source": [
    "fN = '../data/ARGO_ATL_20171230.nc'\n",
    "ATL = xr.open_dataset(fN)\n",
    "\n",
    "fN = '../data/ARGO_IND_20171230.nc'\n",
    "IND = xr.open_dataset(fN)\n",
    "\n",
    "fN = '../data/ARGO_PAC_20171230.nc'\n",
    "PAC = xr.open_dataset(fN)\n",
    "\n",
    "ATL"
   ]
  },
  {
   "cell_type": "markdown",
   "metadata": {},
   "source": [
    "## First map\n",
    "\n",
    "To plot a map, we have to specify a `projection` for the axes. We start with the `PlateCarree` projection, which is a [equirectangular projection](https://en.wikipedia.org/wiki/Equirectangular_projection). This projection maps x to be the value of the longitude and y to be the value of the latitude.\n",
    "\n",
    "This creates a special kind of axes (a `<cartopy.mpl.geoaxes.GeoAxesSubplot>`) which is derived from the normal `axes`. As such it includes some special commands (which we'll get to know), one of them called `ax.coastlines()` which is an easy way to add the coastlines.\n",
    "\n",
    "Ok, let's get started:\n"
   ]
  },
  {
   "cell_type": "code",
   "execution_count": null,
   "metadata": {},
   "outputs": [],
   "source": [
    "# notice the `()`:\n",
    "ax = plt.axes(projection=ccrs.PlateCarree())\n",
    "\n",
    "ax.coastlines()\n",
    "\n",
    "# for non-maps this would be: `matplotlib.axes._subplots.AxesSubplot`\n",
    "ax"
   ]
  },
  {
   "cell_type": "markdown",
   "metadata": {},
   "source": [
    "`PlateCarree` takes a input parameter, `central_longitude`:"
   ]
  },
  {
   "cell_type": "code",
   "execution_count": null,
   "metadata": {},
   "outputs": [],
   "source": [
    "ax = plt.axes(projection=ccrs.PlateCarree(central_longitude=180))\n",
    "\n",
    "ax.coastlines()"
   ]
  },
  {
   "cell_type": "markdown",
   "metadata": {},
   "source": [
    "## Map subplots\n",
    "\n",
    "If you want to use create multiple subplots with the `plt.subplots` function, this has to be done like so:"
   ]
  },
  {
   "cell_type": "code",
   "execution_count": null,
   "metadata": {},
   "outputs": [],
   "source": [
    "f, axes = plt.subplots(1, 2, subplot_kw=dict(projection=ccrs.PlateCarree()))\n",
    "\n",
    "for ax in axes:\n",
    "    ax.coastlines()"
   ]
  },
  {
   "cell_type": "markdown",
   "metadata": {},
   "source": [
    "We will later have a dedicated exercise to create multiple subplots.\n",
    "\n",
    "## Adding the position of the argo floats\n",
    "\n",
    "### Exercise\n",
    "\n",
    " * add the position of the argo floats with ax.scatter (`ATL.lon`, `ATL.lat`, etc.)\n",
    " \n",
    "> this restricts the plot area to the position of the floats\n",
    "\n",
    " * restore the global view with `ax.set_global()`\n"
   ]
  },
  {
   "cell_type": "code",
   "execution_count": null,
   "metadata": {},
   "outputs": [],
   "source": [
    "ax = plt.axes(projection=ccrs.PlateCarree())\n",
    "\n",
    "ax.coastlines()\n",
    "\n",
    "# code here"
   ]
  },
  {
   "cell_type": "markdown",
   "metadata": {},
   "source": [
    "### Solution"
   ]
  },
  {
   "cell_type": "code",
   "execution_count": null,
   "metadata": {},
   "outputs": [],
   "source": [
    "ax = plt.axes(projection=ccrs.PlateCarree())\n",
    "\n",
    "ax.coastlines()\n",
    "\n",
    "ax.scatter(ATL.lon, ATL.lat)\n",
    "ax.scatter(IND.lon, IND.lat)\n",
    "ax.scatter(PAC.lon, PAC.lat)\n",
    "\n",
    "ax.set_global()"
   ]
  },
  {
   "cell_type": "markdown",
   "metadata": {},
   "source": [
    "## Setting the color with a dict\n",
    "\n",
    "Now all the floats in each ocean have a different color. But we want them to have the same color. So we could of course set `color='teal'` for all of them. But if we want to change it, we have to change it for all of them. And it would be just as tedious if we want to add another keyword to all of them. So we could write a function, as we learned in the 'helper functions' exercise. A third possibility is to use a dict and unpack it:\n"
   ]
  },
  {
   "cell_type": "code",
   "execution_count": null,
   "metadata": {},
   "outputs": [],
   "source": [
    "ax = plt.axes(projection=ccrs.PlateCarree())\n",
    "\n",
    "ax.coastlines()\n",
    "\n",
    "opt = dict(color='teal')\n",
    "\n",
    "ax.scatter(ATL.lon, ATL.lat, **opt)\n",
    "ax.scatter(IND.lon, IND.lat, **opt)\n",
    "ax.scatter(PAC.lon, PAC.lat, **opt)\n",
    "\n",
    "ax.set_global()"
   ]
  },
  {
   "cell_type": "markdown",
   "metadata": {},
   "source": [
    "### Exercise\n",
    "\n",
    " * Set the size of the markers to 15 for all the three oceans (which keyword argument was this again? use `plt.scatter?` to find out."
   ]
  },
  {
   "cell_type": "code",
   "execution_count": null,
   "metadata": {},
   "outputs": [],
   "source": []
  },
  {
   "cell_type": "code",
   "execution_count": null,
   "metadata": {},
   "outputs": [],
   "source": [
    "ax = plt.axes(projection=ccrs.PlateCarree())\n",
    "\n",
    "ax.coastlines()\n",
    "\n",
    "opt = dict(color='teal')\n",
    "\n",
    "ax.scatter(ATL.lon, ATL.lat, **opt)\n",
    "ax.scatter(IND.lon, IND.lat, **opt)\n",
    "ax.scatter(PAC.lon, PAC.lat, **opt)\n",
    "\n",
    "ax.set_global()"
   ]
  },
  {
   "cell_type": "markdown",
   "metadata": {},
   "source": [
    "### Solution"
   ]
  },
  {
   "cell_type": "code",
   "execution_count": null,
   "metadata": {},
   "outputs": [],
   "source": [
    "ax = plt.axes(projection=ccrs.PlateCarree())\n",
    "\n",
    "ax.coastlines()\n",
    "\n",
    "opt = dict(color='teal', s=15)\n",
    "\n",
    "ax.scatter(ATL.lon, ATL.lat, **opt)\n",
    "ax.scatter(IND.lon, IND.lat, **opt)\n",
    "ax.scatter(PAC.lon, PAC.lat, **opt)\n",
    "\n",
    "ax.set_global()"
   ]
  },
  {
   "cell_type": "markdown",
   "metadata": {
    "hide_input": false
   },
   "source": [
    "### Exercise\n",
    "\n",
    " * Color the points according to their temperature (`ATL.TEMP` etc.)\n",
    " > You will need to remove the `color=` argument.\n",
    " * restrict the range of the colormap to 0...25\n",
    " * add a colorbar\n",
    " > `colorbar` will require a `mappable`, use `h = ax.scatter`"
   ]
  },
  {
   "cell_type": "code",
   "execution_count": null,
   "metadata": {},
   "outputs": [],
   "source": [
    "ax = plt.axes(projection=ccrs.PlateCarree())\n",
    "\n",
    "ax.coastlines()\n",
    "\n",
    "opt = dict(color='teal', s=15)\n",
    "\n",
    "ax.scatter(ATL.lon, ATL.lat, **opt)\n",
    "ax.scatter(IND.lon, IND.lat, **opt)\n",
    "ax.scatter(PAC.lon, PAC.lat, **opt)\n",
    "\n",
    "ax.set_global();"
   ]
  },
  {
   "cell_type": "markdown",
   "metadata": {},
   "source": [
    "### Solution"
   ]
  },
  {
   "cell_type": "code",
   "execution_count": null,
   "metadata": {},
   "outputs": [],
   "source": [
    "ax = plt.axes(projection=ccrs.PlateCarree())\n",
    "\n",
    "ax.coastlines()\n",
    "\n",
    "opt = dict(s=15, vmin=0, vmax=25)\n",
    "\n",
    "h = ax.scatter(ATL.lon, ATL.lat, c=ATL.TEMP, **opt)\n",
    "h = ax.scatter(IND.lon, IND.lat, c=IND.TEMP, **opt)\n",
    "h = ax.scatter(PAC.lon, PAC.lat, c=PAC.TEMP, **opt)\n",
    "\n",
    "plt.colorbar(h)\n",
    "\n",
    "ax.set_global()"
   ]
  },
  {
   "cell_type": "markdown",
   "metadata": {},
   "source": [
    "### Note\n",
    "\n",
    " > The colorbar is to big for the map! However, this is not straightforward to correct... You will learn how to do this later.\n",
    "\n",
    " > If the range of the colormap is not set to the same values for the three plots, it will be choosen according to the range of the data."
   ]
  },
  {
   "cell_type": "code",
   "execution_count": null,
   "metadata": {},
   "outputs": [],
   "source": [
    "ax = plt.axes(projection=ccrs.PlateCarree())\n",
    "\n",
    "ax.coastlines()\n",
    "\n",
    "opt = dict(s=15)\n",
    "\n",
    "h0 = ax.scatter(ATL.lon, ATL.lat, c=ATL.TEMP, **opt)\n",
    "h1 = ax.scatter(IND.lon, IND.lat, c=IND.TEMP, **opt)\n",
    "h2 = ax.scatter(PAC.lon, PAC.lat, c=PAC.TEMP, **opt)\n",
    "\n",
    "plt.colorbar(h0)\n",
    "plt.colorbar(h1)\n",
    "plt.colorbar(h2)\n",
    "\n",
    "ax.set_global()"
   ]
  },
  {
   "cell_type": "markdown",
   "metadata": {},
   "source": [
    "## Projections\n",
    "\n",
    "cartopy offers [20ish different projections](http://scitools.org.uk/cartopy/docs/v0.15/crs/projections.html). Have a look at them. Unfortunately some important projections are missing (e.g. Hammer and Aitoff).\n",
    "\n",
    "### Exercise\n",
    " * redo the plot but select a different projection from the website."
   ]
  },
  {
   "cell_type": "code",
   "execution_count": null,
   "metadata": {},
   "outputs": [],
   "source": [
    "ax = plt.axes(projection=ccrs.PlateCarree())\n",
    "\n",
    "ax.coastlines()\n",
    "\n",
    "opt = dict(s=15, vmin=0, vmax=25)\n",
    "\n",
    "h = ax.scatter(ATL.lon, ATL.lat, c=ATL.TEMP, **opt)\n",
    "h = ax.scatter(IND.lon, IND.lat, c=IND.TEMP, **opt)\n",
    "h = ax.scatter(PAC.lon, PAC.lat, c=PAC.TEMP, **opt)\n",
    "\n",
    "plt.colorbar(h)\n",
    "\n",
    "ax.set_global()"
   ]
  },
  {
   "cell_type": "markdown",
   "metadata": {},
   "source": [
    "### Solution"
   ]
  },
  {
   "cell_type": "code",
   "execution_count": null,
   "metadata": {},
   "outputs": [],
   "source": [
    "ax = plt.axes(projection=ccrs.Mollweide())\n",
    "\n",
    "ax.coastlines()\n",
    "\n",
    "opt = dict(s=15, vmin=0, vmax=25)\n",
    "\n",
    "h = ax.scatter(ATL.lon, ATL.lat, c=ATL.TEMP, **opt)\n",
    "h = ax.scatter(IND.lon, IND.lat, c=IND.TEMP, **opt)\n",
    "h = ax.scatter(PAC.lon, PAC.lat, c=PAC.TEMP, **opt)\n",
    "\n",
    "plt.colorbar(h)\n",
    "\n",
    "ax.set_global()"
   ]
  },
  {
   "cell_type": "markdown",
   "metadata": {},
   "source": [
    "## `transform`\n",
    "\n",
    "Something went wrong, the points are all at lon=0, lat=0... This is because now the data coordinates* do not map onto longitude and latitude any more, so we need to tell the plotting function that we are passing lat/ lon data. We do that by passing in a coordinate system with the `transform` keyword:  This enables the geo axes to reproject the plot into the display projection.\n",
    "\n",
    "(\\* Well, not the coordinates of the *data* but the *data coordinates* of the map.)\n",
    "\n",
    "### Exercise\n",
    " * tell `scatter` that the points needs the the `PlateCarree` `transform`ation."
   ]
  },
  {
   "cell_type": "code",
   "execution_count": null,
   "metadata": {},
   "outputs": [],
   "source": [
    "ax = plt.axes(projection=ccrs.Mollweide())\n",
    "\n",
    "ax.coastlines()\n",
    "\n",
    "opt = dict(s=15, vmin=0, vmax=25)\n",
    "\n",
    "h = ax.scatter(ATL.lon, ATL.lat, c=ATL.TEMP, **opt)\n",
    "h = ax.scatter(IND.lon, IND.lat, c=IND.TEMP, **opt)\n",
    "h = ax.scatter(PAC.lon, PAC.lat, c=PAC.TEMP, **opt)\n",
    "\n",
    "plt.colorbar(h)\n",
    "\n",
    "ax.set_global()"
   ]
  },
  {
   "cell_type": "markdown",
   "metadata": {},
   "source": [
    "### Solution"
   ]
  },
  {
   "cell_type": "code",
   "execution_count": null,
   "metadata": {},
   "outputs": [],
   "source": [
    "ax = plt.axes(projection=ccrs.Mollweide())\n",
    "\n",
    "ax.coastlines()\n",
    "\n",
    "opt = dict(s=15, vmin=0, vmax=25, transform=ccrs.PlateCarree())\n",
    "\n",
    "h = ax.scatter(ATL.lon, ATL.lat, c=ATL.TEMP, **opt)\n",
    "h = ax.scatter(IND.lon, IND.lat, c=IND.TEMP, **opt)\n",
    "h = ax.scatter(PAC.lon, PAC.lat, c=PAC.TEMP, **opt)\n",
    "\n",
    "plt.colorbar(h)\n",
    "\n",
    "ax.set_global()"
   ]
  },
  {
   "cell_type": "markdown",
   "metadata": {},
   "source": [
    "Nice, we got our floats back...\n",
    "\n",
    "## Some more on transform\n",
    "\n",
    "Most often `transform=ccrs.PlateCarree()` is fine. However, when using `plt.plot` this does not plot great circle lines. For this we need `ccrs.Geodetic()`.\n",
    "\n",
    "Let's fly from Zürich (ZRH) to Vancover (YVR):"
   ]
  },
  {
   "cell_type": "code",
   "execution_count": null,
   "metadata": {},
   "outputs": [],
   "source": [
    "# define location of airports\n",
    "\n",
    "ZRH = (47.458361, 8.555264)\n",
    "YVR = (49.196817, -123.180332)\n",
    "\n",
    "lat = [ZRH[0], YVR[0]]\n",
    "lon = [ZRH[1], YVR[1]]\n",
    "\n",
    "# ==========================================\n",
    "\n",
    "ax = plt.axes(projection=ccrs.PlateCarree())\n",
    "\n",
    "ax.coastlines()\n",
    "\n",
    "# direct line\n",
    "ax.plot(lon, lat, transform=ccrs.PlateCarree(), color='#ff7f00')\n",
    "\n",
    "# great circle line\n",
    "ax.plot(lon, lat, transform=ccrs.Geodetic(), color='#e31a1c', marker='o')\n",
    "\n",
    "# see comment\n",
    "ax.set_extent([-135, 20, 10, 90], ccrs.PlateCarree())\n",
    "\n",
    "# ==========================================\n",
    "\n",
    "# add labels for airports\n",
    "\n",
    "textopt = dict(transform=ccrs.PlateCarree(), ha='center', va='top',\n",
    "               bbox=dict(facecolor='w', edgecolor='none', alpha=0.7))\n",
    "\n",
    "ax.annotate('ZRH', xy=ZRH[::-1], xytext=(0, -10), textcoords='offset points', **textopt)\n",
    "ax.annotate('YVR', xy=YVR[::-1], xytext=(0, -10), textcoords='offset points', **textopt)\n",
    "\n",
    "# adding a slightly textured image of the globe\n",
    "ax.stock_img();\n"
   ]
  },
  {
   "cell_type": "markdown",
   "metadata": {},
   "source": [
    "## `set_extent`\n",
    "\n",
    "Until now we have not restricted the extent of the plots. While using `set_xlim` and `set_ylim` work for some projections (e.g. PlateCarree), they will fail in other cases. Therefore it is recommended to use `set_extent`: \n",
    "\n",
    "    ax.set_extent([xmin, xmax, ymin, ymax], ccrs.PlateCarree())\n",
    "\n",
    " > Don't forget to add the coordinate reference system! Else your limits can be off.\n",
    " \n",
    " \n",
    "## Side note\n",
    "\n",
    "When you look closely, you can see that the great circle has some bumps in it. We can display it with higher accurracy, as explained on [stack overflow](https://stackoverflow.com/a/40279430).\n"
   ]
  },
  {
   "cell_type": "code",
   "execution_count": null,
   "metadata": {},
   "outputs": [],
   "source": [
    "PC = ccrs.PlateCarree()\n",
    "PC.threshold"
   ]
  },
  {
   "cell_type": "code",
   "execution_count": null,
   "metadata": {},
   "outputs": [],
   "source": [
    "class LTPlateCarree(ccrs.PlateCarree):\n",
    "    @property\n",
    "    def threshold(self):\n",
    "        return 0.01"
   ]
  },
  {
   "cell_type": "code",
   "execution_count": null,
   "metadata": {},
   "outputs": [],
   "source": [
    "ax = plt.axes(projection=LTPlateCarree())\n",
    "\n",
    "ax.coastlines()\n",
    "\n",
    "# great circle line\n",
    "ax.plot(lon, lat, transform=ccrs.Geodetic(), color='#e31a1c', marker='o')\n",
    "\n",
    "# set extent\n",
    "ax.set_extent([-135, 20, 10, 90], ccrs.PlateCarree())\n",
    "\n",
    "# adding a slightly textured image of the globe\n",
    "ax.stock_img();"
   ]
  },
  {
   "cell_type": "markdown",
   "metadata": {},
   "source": [
    "## Features & Natural Earth Data\n",
    "\n",
    "cartopy can make use of many online geographical data sources. See examples under [Web Services](http://scitools.org.uk/cartopy/docs/latest/gallery.html#web-services).\n",
    "\n",
    "The best thing about this is that you have access and easy ways to plot all the data available at [naturalearthdata.com](http://www.naturalearthdata.com/). Naturalearth data provides high quality geo data for free.\n",
    "\n",
    "See [naturalearthdata.com/features](http://www.naturalearthdata.com/features/) for all that is available.\n",
    "\n",
    "For example `ax.coastline()` displays the following data: [110m-coastline](http://www.naturalearthdata.com/downloads/110m-physical-vectors/110m-coastline/).\n",
    "\n",
    "Note:\n",
    "> The data is downloaded and stored the first time you use it, so this might take a minute or so."
   ]
  },
  {
   "cell_type": "code",
   "execution_count": null,
   "metadata": {},
   "outputs": [],
   "source": [
    "import cartopy.feature as cfeature"
   ]
  },
  {
   "cell_type": "code",
   "execution_count": null,
   "metadata": {},
   "outputs": [],
   "source": [
    "ax = plt.axes(projection=LTPlateCarree())\n",
    "\n",
    "ax.coastlines()\n",
    "\n",
    "# great circle line\n",
    "ax.plot(lon, lat, transform=ccrs.Geodetic(), color='#e31a1c', marker='o')\n",
    "\n",
    "# set extent\n",
    "ax.set_extent([-135, 20, 10, 90], ccrs.PlateCarree())\n",
    "\n",
    "# adding a slightly textured image of the globe\n",
    "ax.stock_img();\n",
    "\n",
    "# ==========================================\n",
    "# NaturalEarthData\n",
    "\n",
    "# some data is easily accessible\n",
    "ax.add_feature(cfeature.BORDERS)\n",
    "ax.add_feature(cfeature.LAKES, edgecolor='0.1')\n",
    "\n",
    "# for some data you need to know the name (e.g. the States of the US and Canada):\n",
    "states = cfeature.NaturalEarthFeature('cultural', 'admin_1_states_provinces_lakes', '50m')\n",
    "ax.add_feature(states, edgecolor='0.2', facecolor='none', lw=0.5)"
   ]
  },
  {
   "cell_type": "markdown",
   "metadata": {},
   "source": [
    "## Local maps\n",
    "\n",
    "### Climtological Station Data for Switzerland - Temperature & Precip\n",
    "\n",
    "\n",
    "Again we will use the climatology of 14 swiss weather stations avaliable from [MeteoSwiss](http://www.meteoswiss.admin.ch/home/climate/past/homogenous-monthly-data.html).\n",
    "\n",
    "The data has already been [retrieved and postprocessed](../data/prepare_data_MCH.ipynb).\n",
    "\n",
    "Note\n",
    "> The outline of Switzerland was also obtained from NaturalEarthData - see [stack overflow](https://stackoverflow.com/a/47885128) or the [data preparation notebook](../data/prepare_data_MCH.ipynb).\n",
    "\n",
    "In the scatter exercise we did not use a projection - let's redo the plot from there:"
   ]
  },
  {
   "cell_type": "code",
   "execution_count": null,
   "metadata": {},
   "outputs": [],
   "source": [
    "# load outline of switzerland\n",
    "\n",
    "import netCDF4 as nc\n",
    "\n",
    "fN = '../data/outline_switzerland.nc'\n",
    "ch = xr.open_dataset(fN)\n",
    "\n",
    "# =====================================\n",
    "    \n",
    "# load climatological station data\n",
    "\n",
    "fN = '../data/MCH_clim.nc'\n",
    "clim = xr.open_dataset(fN)"
   ]
  },
  {
   "cell_type": "code",
   "execution_count": null,
   "metadata": {},
   "outputs": [],
   "source": [
    "# first scale the precipitation to the point size\n",
    "\n",
    "mn = clim.prec.min()\n",
    "mx = clim.prec.max()\n",
    "\n",
    "p_scaled = ((clim.prec - mn) / (mx - mn)) * 200 + 50"
   ]
  },
  {
   "cell_type": "markdown",
   "metadata": {},
   "source": [
    "## Switerland: `projection=ccrs.PlateCarree()`"
   ]
  },
  {
   "cell_type": "code",
   "execution_count": null,
   "metadata": {},
   "outputs": [],
   "source": [
    "ax = plt.axes(projection=ccrs.PlateCarree())\n",
    "\n",
    "\n",
    "ax.plot(ch.lon, ch.lat, transform=ccrs.PlateCarree())\n",
    "h = ax.scatter(clim.lon, clim.lat, c=clim.temp, cmap='RdBu_r', vmax=8, vmin=-8, s=p_scaled, edgecolor='0.5',\n",
    "               transform=ccrs.PlateCarree(), zorder=3)\n",
    "\n",
    "\n",
    "plt.colorbar(h)"
   ]
  },
  {
   "cell_type": "markdown",
   "metadata": {},
   "source": [
    "## Projections again\n",
    "\n",
    "This looks terrible - but that's how Switzerland looks in the PlateCarree projection! So we need to change the projection - find one that works for regional maps -> [cartopy projections](http://scitools.org.uk/cartopy/docs/v0.15/crs/projections.html).\n",
    "\n",
    "\n",
    "### Exercise\n",
    " * try out `EuroPP`\n",
    " * try out `LambertConformal` (with `central_longitude=15`)"
   ]
  },
  {
   "cell_type": "code",
   "execution_count": null,
   "metadata": {},
   "outputs": [],
   "source": [
    "projection = ccrs.PlateCarree()\n",
    "\n",
    "ax = plt.axes(projection=projection)\n",
    "\n",
    "\n",
    "ax.plot(ch.lon, ch.lat, transform=ccrs.PlateCarree())\n",
    "h = ax.scatter(clim.lon, clim.lat, c=clim.temp, cmap='RdBu_r', vmax=8, vmin=-8, s=p_scaled, edgecolor='0.5',\n",
    "               transform=ccrs.PlateCarree(), zorder=3)\n",
    "\n",
    "\n",
    "plt.colorbar(h)"
   ]
  },
  {
   "cell_type": "markdown",
   "metadata": {},
   "source": [
    "### Solutions"
   ]
  },
  {
   "cell_type": "code",
   "execution_count": null,
   "metadata": {},
   "outputs": [],
   "source": [
    "projection = ccrs.EuroPP()\n",
    "\n",
    "ax = plt.axes(projection=projection)\n",
    "\n",
    "\n",
    "ax.plot(ch.lon, ch.lat, transform=ccrs.PlateCarree())\n",
    "h = ax.scatter(clim.lon, clim.lat, c=clim.temp, cmap='RdBu_r', vmax=8, vmin=-8, s=p_scaled, edgecolor='0.5',\n",
    "               transform=ccrs.PlateCarree(), zorder=3)\n",
    "\n",
    "\n",
    "plt.colorbar(h)"
   ]
  },
  {
   "cell_type": "markdown",
   "metadata": {},
   "source": [
    "## Final Plot\n",
    "\n",
    "Let's also add the legend again.\n",
    "\n",
    "Note:\n",
    "> For a reason I don't know it is not possible to make an empty scatter plot. So I placed them at 0, 0, and then we need to set the extent explicitely.\n",
    "\n",
    "> `xarray` automatically sets labels when we plot it's data. Therefore we use `ch.lon.values` to get rid of the additional elements in the legend."
   ]
  },
  {
   "cell_type": "code",
   "execution_count": null,
   "metadata": {},
   "outputs": [],
   "source": [
    "projection = ccrs.LambertConformal(central_longitude=15)\n",
    "\n",
    "ax = plt.axes(projection=projection)\n",
    "\n",
    "\n",
    "ax.plot(ch.lon.values, ch.lat.values, transform=ccrs.PlateCarree())\n",
    "h = ax.scatter(clim.lon.values, clim.lat.values, c=clim.temp.values, cmap='RdBu_r', vmax=8, vmin=-8, s=p_scaled, edgecolor='0.5',\n",
    "               transform=ccrs.PlateCarree(), zorder=3)\n",
    "\n",
    "\n",
    "plt.colorbar(h, label='Temperature [°C]')\n",
    "\n",
    "\n",
    "\n",
    "for area in [1000, 1500, 2000]:\n",
    "    size = ((area - mn) / (mx - mn)) * 200 + 50\n",
    "    plt.scatter([0], [0], c='0.85', s=size, label=str(area), edgecolor='0.5', transform=ccrs.PlateCarree())\n",
    "\n",
    "    \n",
    "plt.legend(title='Precipitation [mm / yr]', loc='upper center', ncol=3, edgecolor='none')\n",
    "\n",
    "\n",
    "ax.set_extent((5.49, 10.77, 45.7, 48.3), ccrs.PlateCarree())"
   ]
  }
 ],
 "metadata": {
  "kernelspec": {
   "display_name": "Python 3",
   "language": "python",
   "name": "python3"
  },
  "language_info": {
   "codemirror_mode": {
    "name": "ipython",
    "version": 3
   },
   "file_extension": ".py",
   "mimetype": "text/x-python",
   "name": "python",
   "nbconvert_exporter": "python",
   "pygments_lexer": "ipython3",
   "version": "3.5.4"
  }
 },
 "nbformat": 4,
 "nbformat_minor": 2
}
