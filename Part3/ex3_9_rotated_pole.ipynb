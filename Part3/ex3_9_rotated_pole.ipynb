{
 "cells": [
  {
   "cell_type": "markdown",
   "metadata": {},
   "source": [
    "# Exercise 3.9 - Rotated pole grids\n",
    "prepared by M.Hauser\n",
    "\n",
    "This is a short exercise showing how we can plot data from a regional climate model using it's native coordinates."
   ]
  },
  {
   "cell_type": "code",
   "execution_count": null,
   "metadata": {},
   "outputs": [],
   "source": [
    "import xarray as xr\n",
    "\n",
    "import matplotlib.pyplot as plt\n",
    "\n",
    "import cartopy.crs as ccrs\n",
    "import numpy as np\n",
    "%matplotlib inline"
   ]
  },
  {
   "cell_type": "code",
   "execution_count": null,
   "metadata": {},
   "outputs": [],
   "source": [
    "import mplotutils as mpu"
   ]
  },
  {
   "cell_type": "markdown",
   "metadata": {},
   "source": [
    "## Loading data\n",
    "\n",
    "We load one timestep of latent heat flux from a regional climate simulation.\n",
    "\n",
    "The data was extracted in another [notebook](./../data/prepare_weather_at_home.ipynb)."
   ]
  },
  {
   "cell_type": "code",
   "execution_count": null,
   "metadata": {},
   "outputs": [],
   "source": [
    "ds = xr.open_dataset('../data/wah_LH.nc')\n",
    "ds"
   ]
  },
  {
   "cell_type": "markdown",
   "metadata": {},
   "source": [
    "## Different coordinates\n",
    "\n",
    "Regional climate model simulations are often conducted with rotated pole. The North Pole is shifted such that the region of interest is centered over the Equator (0 °N, 0 °W). Like this the grid cells are as square as possible on a sphere.\n",
    "\n",
    "Therefore, there are two latitude coordinates.\n",
    " * `lat` for the rotated pole, here from -26 °N to 25 °N\n",
    " * `global_lat` for the normal pole, here from 17 °N to 75 °N\n",
    "\n",
    "The same applies for the longitude.\n",
    "\n",
    "### Exercise\n",
    " * plot  `LH`, using `lat` and `lon`"
   ]
  },
  {
   "cell_type": "code",
   "execution_count": null,
   "metadata": {},
   "outputs": [],
   "source": [
    "ax = plt.axes(projection=ccrs.PlateCarree())\n",
    "\n",
    "ax.coastlines()\n",
    "\n",
    "ax.set_global()\n",
    "\n",
    "# ax.pcolormesh(...)\n",
    "\n",
    "ax.set_global()"
   ]
  },
  {
   "cell_type": "markdown",
   "metadata": {},
   "source": [
    "### Solution\n",
    "\n",
    "I assume you know that this goes wrong."
   ]
  },
  {
   "cell_type": "code",
   "execution_count": null,
   "metadata": {
    "hide_input": true
   },
   "outputs": [],
   "source": [
    "ax = plt.axes(projection=ccrs.PlateCarree())\n",
    "\n",
    "ax.coastlines()\n",
    "\n",
    "ax.pcolormesh(ds.lon, ds.lat, ds.LH, transform=ccrs.PlateCarree(), cmap='Reds')\n",
    "\n",
    "ax.set_global()"
   ]
  },
  {
   "cell_type": "markdown",
   "metadata": {},
   "source": [
    "This does not work, because the regional climate simulation is on a rotated pole. Thus lat goes from -26 to 25 and lon from -31 to 21.\n",
    "\n",
    "We of course need to use `global_lon` and `global_lat`, which contain the 'real' coordinates.\n",
    "\n",
    "### Exercise\n",
    "\n",
    " * replace `lon` and `lat` with `global_lon` and `global_lat`"
   ]
  },
  {
   "cell_type": "code",
   "execution_count": null,
   "metadata": {},
   "outputs": [],
   "source": [
    "ax = plt.axes(projection=ccrs.PlateCarree())\n",
    "\n",
    "ax.coastlines()\n",
    "\n",
    "ax.pcolormesh(ds.lon, ds.lat, ds.LH, transform=ccrs.PlateCarree(), cmap='Reds')\n",
    "\n",
    "ax.set_extent([-30, 60, 10, 90], ccrs.PlateCarree())"
   ]
  },
  {
   "cell_type": "markdown",
   "metadata": {},
   "source": [
    "### Solution"
   ]
  },
  {
   "cell_type": "code",
   "execution_count": null,
   "metadata": {
    "hide_input": true
   },
   "outputs": [],
   "source": [
    "ax = plt.axes(projection=ccrs.PlateCarree())\n",
    "\n",
    "ax.coastlines()\n",
    "\n",
    "ax.pcolormesh(ds.global_lon, ds.global_lat, ds.LH, transform=ccrs.PlateCarree(), cmap='Reds')\n",
    "\n",
    "ax.set_extent([-30, 60, 10, 90], ccrs.PlateCarree())"
   ]
  },
  {
   "cell_type": "markdown",
   "metadata": {},
   "source": [
    "## `ccrs.RotatedPole`\n",
    "\n",
    "So far so good, but now comes the cool thing. We can tell cartopy that our data is on a rotated pole, and we can then directly use `lon` and `lat` for plotting.\n",
    "\n",
    "### Exercise\n",
    "\n",
    " * go back to the first plot (using `lat` and `lon`), but exchange `transform` so that the plot is correct\n",
    " * bonus: use `infer_interval_breaks` from `mpu`"
   ]
  },
  {
   "cell_type": "code",
   "execution_count": null,
   "metadata": {},
   "outputs": [],
   "source": [
    "ccrs.RotatedPole?"
   ]
  },
  {
   "cell_type": "code",
   "execution_count": null,
   "metadata": {},
   "outputs": [],
   "source": [
    "# this is the EURO CORDEX POLE\n",
    "pole_lon = ds.attrs['pole_lon'] # -162.0\n",
    "pole_lat = ds.attrs['pole_lat'] # 39.25\n",
    "# exchange this\n",
    "transform = ccrs.PlateCarree()\n",
    "\n",
    "\n",
    "ax = plt.axes(projection=ccrs.PlateCarree())\n",
    "\n",
    "ax.coastlines()\n",
    "\n",
    "# maybe calculate LON and LAT\n",
    "# LON, LAT = ...\n",
    "\n",
    "ax.pcolormesh(ds.lon, ds.lat, ds.LH, cmap='Reds', transform=transform)\n",
    "\n",
    "ax.set_extent([-30, 60, 10, 90], ccrs.PlateCarree())"
   ]
  },
  {
   "cell_type": "markdown",
   "metadata": {},
   "source": [
    "### Solution"
   ]
  },
  {
   "cell_type": "code",
   "execution_count": null,
   "metadata": {
    "hide_input": true
   },
   "outputs": [],
   "source": [
    "# this is the EURO CORDEX POLE\n",
    "pole_lon = ds.attrs['pole_lon'] # -162.0\n",
    "pole_lat = ds.attrs['pole_lat'] # 39.25\n",
    "transform = ccrs.RotatedPole(pole_longitude=pole_lon, pole_latitude=pole_lat)\n",
    "\n",
    "ax = plt.axes(projection=ccrs.PlateCarree())\n",
    "\n",
    "ax.coastlines()\n",
    "\n",
    "LON, LAT = mpu.infer_interval_breaks(ds.lon, ds.lat)\n",
    "ax.pcolormesh(LON, LAT, ds.LH, transform=transform, cmap='Reds')\n",
    "\n",
    "ax.set_extent([-30, 60, 10, 90], ccrs.PlateCarree())"
   ]
  },
  {
   "cell_type": "code",
   "execution_count": null,
   "metadata": {},
   "outputs": [],
   "source": []
  }
 ],
 "metadata": {
  "hide_input": false,
  "kernelspec": {
   "display_name": "Python 3",
   "language": "python",
   "name": "python3"
  },
  "language_info": {
   "codemirror_mode": {
    "name": "ipython",
    "version": 3
   },
   "file_extension": ".py",
   "mimetype": "text/x-python",
   "name": "python",
   "nbconvert_exporter": "python",
   "pygments_lexer": "ipython3",
   "version": "3.6.5"
  }
 },
 "nbformat": 4,
 "nbformat_minor": 2
}
