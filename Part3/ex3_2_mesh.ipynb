{
 "cells": [
  {
   "cell_type": "markdown",
   "metadata": {},
   "source": [
    "# Exercise 3.2 Mesh plots (cartopy)\n",
    "prepared by M.Hauser\n",
    "\n",
    "Here we learn how to plot data as mesh grid. This is important for *gridded* model data or observations (we will introduce the interpolating function `contour` and `contourf` later). There are three functions to plot three-dimensional data in two dimensions using a colored mesh in matplotlib:\n",
    "\n",
    " * pcolormesh\n",
    " * pcolor\n",
    " * imshow\n",
    "\n",
    "\n",
    "\n",
    "We will show the usage of `pcolormesh` in this exercise. This function is recommended over the others because:\n",
    "\n",
    " * \"imshow assumes that all data elements in your array are to be rendered at the same size, whereas pcolormesh/pcolor associates elements of the data array with rectangular elements whose size may vary over the rectangular grid\" (shamelessly stolen from this [stackoverflow answer](https://stackoverflow.com/a/21169703)).\n",
    " * `pcolormesh` is [about 1 to 3 orders of magnitude faster](http://thomas-cokelaer.info/blog/wp-content/uploads/2014/05/pcolor_erformance.png) than `pcolor`.\n",
    "\n",
    "Note that most of what we show here for georeferenced plots also applies for normal `pcolormesh`.\n",
    "\n",
    "## Import libraries"
   ]
  },
  {
   "cell_type": "code",
   "execution_count": null,
   "metadata": {},
   "outputs": [],
   "source": [
    "import cartopy.crs as ccrs\n",
    "import matplotlib.pyplot as plt\n",
    "import numpy as np\n",
    "import xarray as xr\n",
    "\n",
    "%matplotlib inline"
   ]
  },
  {
   "cell_type": "code",
   "execution_count": null,
   "metadata": {},
   "outputs": [],
   "source": [
    "import mplotutils as mpu"
   ]
  },
  {
   "cell_type": "markdown",
   "metadata": {},
   "source": [
    "## Data\n",
    "\n",
    "We use artificial [sample data](http://scitools.org.uk/cartopy/docs/v0.15/examples/axes_grid_basic.html) to illustrate the plotting."
   ]
  },
  {
   "cell_type": "markdown",
   "metadata": {},
   "source": [
    "## First pcolormesh plot\n",
    "\n",
    "`pcolormesh` takes x, y, z as input:"
   ]
  },
  {
   "cell_type": "code",
   "execution_count": null,
   "metadata": {},
   "outputs": [],
   "source": [
    "# create sample data\n",
    "lon, lat, data = mpu.sample_data_map(90, 48)\n",
    "\n",
    "# ====\n",
    "\n",
    "ax = plt.axes(projection=ccrs.PlateCarree())\n",
    "\n",
    "ax.coastlines()\n",
    "\n",
    "ax.pcolormesh(lon, lat, data)\n",
    "\n",
    "ax.set_global()"
   ]
  },
  {
   "cell_type": "markdown",
   "metadata": {},
   "source": [
    "## Load CMIP 5 data: historical precipitation climatology (1986 to 2005)\n",
    "\n",
    "We will load a netCDF with historical, and projected climatological precipitation, as well as the relative change between them, from all CMIP5 models for RCP8.5 (Taylor et al., 2012).\n",
    "\n",
    "The data was prepared in [another notebook](../data/prepare_CMIP5_map.ipynb)."
   ]
  },
  {
   "cell_type": "code",
   "execution_count": null,
   "metadata": {},
   "outputs": [],
   "source": [
    "fN = '../data/cmip5_delta_pr_rcp85_map.nc'\n",
    "\n",
    "# load data, omitting some unecessary variables\n",
    "pr = xr.open_dataset(fN, drop_variables=['pr_rel', 'proj', 'agree_sign', 'pval'])\n",
    "\n",
    "pr"
   ]
  },
  {
   "cell_type": "markdown",
   "metadata": {},
   "source": [
    "### Exercise\n",
    " * plot the climatological precipitation amount (`pr.hist`)"
   ]
  },
  {
   "cell_type": "code",
   "execution_count": null,
   "metadata": {},
   "outputs": [],
   "source": [
    "# get data\n",
    "lon, lat, hist = pr.lon, pr.lat, pr.hist\n",
    "# ====\n",
    "\n",
    "# plot\n",
    "\n",
    "ax = plt.axes(projection=ccrs.Robinson())\n",
    "\n",
    "ax.coastlines()\n",
    "\n",
    "# code here\n",
    "\n",
    "ax.set_global()"
   ]
  },
  {
   "cell_type": "markdown",
   "metadata": {},
   "source": [
    "### Solution"
   ]
  },
  {
   "cell_type": "code",
   "execution_count": null,
   "metadata": {
    "hide_input": true
   },
   "outputs": [],
   "source": [
    "# get data\n",
    "lon, lat, hist = pr.lon, pr.lat, pr.hist\n",
    "# ====\n",
    "\n",
    "# plot\n",
    "\n",
    "ax = plt.axes(projection=ccrs.Robinson())\n",
    "\n",
    "ax.coastlines()\n",
    "\n",
    "ax.pcolormesh(lon, lat, hist, transform=ccrs.PlateCarree())\n",
    "\n",
    "ax.set_global()"
   ]
  },
  {
   "cell_type": "markdown",
   "metadata": {},
   "source": [
    "This looks all right, but what's with the white stripe?\n",
    "\n",
    "Commonly lat and lon are in the center of the gridcell. However, `pcolormesh` assumes that the coordinates specify the *edges* of the gridcells and *silently truncates the topmost row and the rightmost column* in the plot!\n",
    "\n",
    "This becomes more obvious if we have less datapoints. "
   ]
  },
  {
   "cell_type": "code",
   "execution_count": null,
   "metadata": {},
   "outputs": [],
   "source": [
    "# create sample data\n",
    "lon, lat, data = mpu.sample_data_map(nlons=18, nlats=9)\n",
    "\n",
    "# this is never displayed!\n",
    "data[:, -1] = 5\n",
    "\n",
    "# ====\n",
    "\n",
    "ax = plt.axes(projection=ccrs.PlateCarree())\n",
    "\n",
    "ax.coastlines()\n",
    "\n",
    "h = ax.pcolormesh(lon, lat, data, transform=ccrs.PlateCarree())\n",
    "\n",
    "# plot the lat and lon data\n",
    "\n",
    "lons, lats = np.meshgrid(lon, lat)\n",
    "ax.plot(lons.flatten(), lats.flatten(), 'o', transform=ccrs.PlateCarree(), ms=4, c='r')\n",
    "\n",
    "ax.set_global()"
   ]
  },
  {
   "cell_type": "markdown",
   "metadata": {},
   "source": [
    "The red points show the original lat and lon coordinates - they should be in the center of the gridcells.\n",
    "\n",
    "Notice how there are only 8 rows and 17 columns displayed! This can be remedied by passing the edges instead of the centers of the gridcells:"
   ]
  },
  {
   "cell_type": "code",
   "execution_count": null,
   "metadata": {},
   "outputs": [],
   "source": [
    "print(lat)"
   ]
  },
  {
   "cell_type": "markdown",
   "metadata": {},
   "source": [
    "`lat` goes from -80 to 80 in steps of 20. But we want it to go from -90 to 90 in steps of 20. Therefore we create `LAT` manually:\n",
    "\n",
    "``` ipython\n",
    "LAT = np.arange(-90, 91, 20)\n",
    "\n",
    "```\n",
    "\n",
    "We need to use 9*1* (instead of 90) because else `LAT` would only go to 70 (that's a python convention)."
   ]
  },
  {
   "cell_type": "code",
   "execution_count": null,
   "metadata": {},
   "outputs": [],
   "source": [
    "# create sample data\n",
    "lon, lat, data = mpu.sample_data_map(18, 9)\n",
    "\n",
    "# ====\n",
    "\n",
    "ax = plt.axes(projection=ccrs.PlateCarree())\n",
    "\n",
    "ax.coastlines()\n",
    "\n",
    "LON = np.arange(-10, 351, 20)\n",
    "LAT = np.arange(-90, 91, 20)\n",
    "\n",
    "\n",
    "h = ax.pcolormesh(LON, LAT, data, transform=ccrs.PlateCarree())\n",
    "\n",
    "# plot the lat and lon data\n",
    "\n",
    "lons, lats = np.meshgrid(lon, lat)\n",
    "ax.plot(lons.flatten(), lats.flatten(), 'o', transform=ccrs.PlateCarree(), ms=4, c='r')\n",
    "\n",
    "ax.set_global()\n",
    "\n",
    "\n",
    "# ====\n",
    "\n",
    "print(LAT.shape, lat.shape)\n",
    "print(LON.shape, lon.shape)\n",
    "print(data.shape)\n"
   ]
  },
  {
   "cell_type": "markdown",
   "metadata": {},
   "source": [
    "Perfect. Notice how LAT has one more element than lat and data! Also for lon.\n",
    "\n",
    "### Exercise\n",
    "\n",
    " * apply the same correction for the cmip5 precipitation data"
   ]
  },
  {
   "cell_type": "code",
   "execution_count": null,
   "metadata": {},
   "outputs": [],
   "source": [
    "print(pr.lon.values[:5])\n",
    "print('Delta lon:', np.unique(np.diff(pr.lon.values)))\n",
    "\n",
    "print()\n",
    "print(pr.lat.values[:5])\n",
    "print('Delta lat:', np.unique(np.diff(pr.lat.values)))"
   ]
  },
  {
   "cell_type": "code",
   "execution_count": null,
   "metadata": {},
   "outputs": [],
   "source": [
    "# get data\n",
    "lon, lat, hist = pr.lon, pr.lat, pr.hist\n",
    "\n",
    "# plot\n",
    "\n",
    "ax = plt.axes(projection=ccrs.Robinson())\n",
    "\n",
    "ax.coastlines()\n",
    "\n",
    "# create coordinates of edges\n",
    "\n",
    "# LON = \n",
    "# LAT = \n",
    "\n",
    "ax.pcolormesh(lon, lat, hist, transform=ccrs.PlateCarree())\n",
    "\n",
    "ax.set_global()"
   ]
  },
  {
   "cell_type": "markdown",
   "metadata": {},
   "source": [
    "### Solution"
   ]
  },
  {
   "cell_type": "code",
   "execution_count": null,
   "metadata": {
    "hide_input": true
   },
   "outputs": [],
   "source": [
    "# get data\n",
    "lon, lat, hist = pr.lon, pr.lat, pr.hist\n",
    "\n",
    "# plot\n",
    "\n",
    "ax = plt.axes(projection=ccrs.Robinson())\n",
    "\n",
    "ax.coastlines()\n",
    "\n",
    "# create coordinates of edges\n",
    "\n",
    "LON = np.arange(0, 361, 2.5)\n",
    "LAT = np.arange(-90, 91, 2.5)\n",
    "\n",
    "ax.pcolormesh(LON, LAT, hist, transform=ccrs.PlateCarree())\n",
    "\n",
    "ax.set_global()"
   ]
  },
  {
   "cell_type": "markdown",
   "metadata": {},
   "source": [
    "Of course, calculating the edges can be done in a function, which I provide in the `mplotutils` (`mpu`) package."
   ]
  },
  {
   "cell_type": "code",
   "execution_count": null,
   "metadata": {},
   "outputs": [],
   "source": [
    "# create sample data\n",
    "lon, lat, data = mpu.sample_data_map(18, 9)\n",
    "\n",
    "# ====\n",
    "\n",
    "ax = plt.axes(projection=ccrs.PlateCarree())\n",
    "\n",
    "ax.coastlines()\n",
    "\n",
    "LON, LAT = mpu.infer_interval_breaks(lon, lat)\n",
    "\n",
    "h = ax.pcolormesh(LON, LAT, data, transform=ccrs.PlateCarree())\n",
    "\n",
    "ax.set_global()"
   ]
  },
  {
   "cell_type": "markdown",
   "metadata": {},
   "source": [
    "### Exercise\n",
    "\n",
    " * use `mpu.infer_interval_breaks` for the cmip5 precipitation data"
   ]
  },
  {
   "cell_type": "code",
   "execution_count": null,
   "metadata": {},
   "outputs": [],
   "source": [
    "# get data\n",
    "lon, lat, hist = pr.lon, pr.lat, pr.hist\n",
    "\n",
    "# plot\n",
    "\n",
    "ax = plt.axes(projection=ccrs.Robinson())\n",
    "\n",
    "ax.coastlines()\n",
    "\n",
    "# replace here\n",
    "LON = np.arange(0, 361, 2.5)\n",
    "LAT = np.arange(-90, 91, 2.5)\n",
    "\n",
    "ax.pcolormesh(LON, LAT, hist, transform=ccrs.PlateCarree())\n",
    "\n",
    "ax.set_global()"
   ]
  },
  {
   "cell_type": "markdown",
   "metadata": {},
   "source": [
    "### Solution"
   ]
  },
  {
   "cell_type": "code",
   "execution_count": null,
   "metadata": {
    "hide_input": true
   },
   "outputs": [],
   "source": [
    "# get data\n",
    "lon, lat, hist = pr.lon, pr.lat, pr.hist\n",
    "\n",
    "# plot\n",
    "\n",
    "ax = plt.axes(projection=ccrs.Robinson())\n",
    "\n",
    "ax.coastlines()\n",
    "\n",
    "LON, LAT = mpu.infer_interval_breaks(lon, lat)\n",
    "\n",
    "ax.pcolormesh(LON, LAT, hist, transform=ccrs.PlateCarree())\n",
    "\n",
    "ax.set_global()"
   ]
  },
  {
   "cell_type": "markdown",
   "metadata": {},
   "source": [
    "## lat extends from -90...90\n",
    "\n",
    "Some models/ dataset have lat values that extend from -90..90... For example output from CESM (Community Earth System Model) or HadGEM (Hadley Centre Global Environment Model).\n",
    "\n",
    "It still makes sense to infer the interval breaks because else:\n",
    "\n",
    " * we would lose one row of data\n",
    " * the lat coordinates may still be the center of the gridcell, except for the two poles (this is e.g. the case for CESM)\n",
    "\n",
    "### Open random temperature field from CESM"
   ]
  },
  {
   "cell_type": "code",
   "execution_count": null,
   "metadata": {},
   "outputs": [],
   "source": [
    "fN = '../data/cesm_temp.nc'\n",
    "\n",
    "cesm = xr.open_dataset(fN)\n",
    "\n",
    "cesm.lat"
   ]
  },
  {
   "cell_type": "markdown",
   "metadata": {},
   "source": [
    "The problem of the white line exists:"
   ]
  },
  {
   "cell_type": "code",
   "execution_count": null,
   "metadata": {},
   "outputs": [],
   "source": [
    "ax = plt.axes(projection=ccrs.PlateCarree())\n",
    "\n",
    "ax.coastlines()\n",
    "\n",
    "ax.pcolormesh(cesm.lon, cesm.lat, cesm.temp, transform=ccrs.PlateCarree())\n",
    "\n",
    "ax.set_global()"
   ]
  },
  {
   "cell_type": "markdown",
   "metadata": {},
   "source": [
    "And can be corrected with `infer_interval_breaks`:"
   ]
  },
  {
   "cell_type": "code",
   "execution_count": null,
   "metadata": {},
   "outputs": [],
   "source": [
    "ax = plt.axes(projection=ccrs.PlateCarree())\n",
    "\n",
    "ax.coastlines()\n",
    "\n",
    "LON, LAT = mpu.infer_interval_breaks(cesm.lon, cesm.lat)\n",
    "ax.pcolormesh(LON, LAT, cesm.temp, transform=ccrs.PlateCarree())\n",
    "\n",
    "ax.set_global()"
   ]
  },
  {
   "cell_type": "markdown",
   "metadata": {},
   "source": [
    "This creates a warning (because lat is now outside of the allowed range). We can correct this by `clipping` the values to the range -90...90."
   ]
  },
  {
   "cell_type": "code",
   "execution_count": null,
   "metadata": {},
   "outputs": [],
   "source": [
    "ax = plt.axes(projection=ccrs.PlateCarree())\n",
    "\n",
    "ax.coastlines()\n",
    "\n",
    "LON, LAT = mpu.infer_interval_breaks(cesm.lon, cesm.lat, clip=True)\n",
    "\n",
    "h = ax.pcolormesh(LON, LAT, cesm.temp - 273.15, transform=ccrs.PlateCarree())\n",
    "\n",
    "ax.set_global()"
   ]
  },
  {
   "cell_type": "markdown",
   "metadata": {},
   "source": [
    "## Saving figures // rasterized\n",
    "\n",
    "There is nothing special about saving a map figure:"
   ]
  },
  {
   "cell_type": "code",
   "execution_count": null,
   "metadata": {},
   "outputs": [],
   "source": [
    "ax = plt.axes(projection=ccrs.PlateCarree())\n",
    "\n",
    "ax.coastlines()\n",
    "\n",
    "LON, LAT = mpu.infer_interval_breaks(cesm.lon, cesm.lat, clip=True)\n",
    "\n",
    "h = ax.pcolormesh(LON, LAT, cesm.temp - 273.15, transform=ccrs.PlateCarree())\n",
    "\n",
    "ax.set_global()\n",
    "\n",
    "plt.colorbar(h)\n",
    "\n",
    "plt.savefig('cesm_temp.pdf')"
   ]
  },
  {
   "cell_type": "markdown",
   "metadata": {},
   "source": [
    "However, they can grow large very quickly. Especially if you save a `pcolormesh` figure as pdf, because the pdf is saved as vector graphic.\n",
    "\n",
    "It is, however, possible to rasterize certain elements of the plot, e.g. the `pcolormesh`."
   ]
  },
  {
   "cell_type": "code",
   "execution_count": null,
   "metadata": {},
   "outputs": [],
   "source": [
    "ax = plt.axes(projection=ccrs.PlateCarree())\n",
    "\n",
    "ax.coastlines()\n",
    "\n",
    "LON, LAT = mpu.infer_interval_breaks(cesm.lon, cesm.lat, clip=True)\n",
    "\n",
    "h = ax.pcolormesh(LON, LAT, cesm.temp - 273.15, transform=ccrs.PlateCarree(), rasterized=True)\n",
    "\n",
    "ax.set_global()\n",
    "\n",
    "plt.colorbar(h)\n",
    "\n",
    "plt.savefig('cesm_temp_rasterized.pdf')"
   ]
  },
  {
   "cell_type": "markdown",
   "metadata": {},
   "source": [
    "* Compare the file size of `'cesm_temp_rasterized.pdf'` and `'cesm_temp.pdf'`.\n",
    "\n",
    "> Warning: the following line may not work in windows."
   ]
  },
  {
   "cell_type": "code",
   "execution_count": null,
   "metadata": {},
   "outputs": [],
   "source": [
    "! ls -lh cesm_temp*"
   ]
  },
  {
   "cell_type": "markdown",
   "metadata": {},
   "source": [
    "* Open cesm_temp_rasterized.pdf and zoom in; you'll realise that the coastlines are not rasterized!\n",
    "\n",
    "Let's look at a detail of the precipitation data:"
   ]
  },
  {
   "cell_type": "code",
   "execution_count": null,
   "metadata": {},
   "outputs": [],
   "source": [
    "# get data\n",
    "lon, lat, hist = pr.lon, pr.lat, pr.hist\n",
    "\n",
    "# plot\n",
    "\n",
    "ax = plt.axes(projection=ccrs.Robinson())\n",
    "\n",
    "ax.coastlines()\n",
    "LON, LAT = mpu.infer_interval_breaks(lon, lat)\n",
    "\n",
    "ax.pcolormesh(LON, LAT, hist, transform=ccrs.PlateCarree(), cmap='Blues', vmax=2500)\n",
    "\n",
    "ax.set_extent([-150, -130, 30, 70], ccrs.PlateCarree())\n",
    "\n",
    "plt.savefig('cmip5_precip.pdf')"
   ]
  },
  {
   "cell_type": "markdown",
   "metadata": {},
   "source": [
    "### Exercise\n",
    "\n",
    " * save the same plot again, but rasterize the `pcolormesh`"
   ]
  },
  {
   "cell_type": "code",
   "execution_count": null,
   "metadata": {},
   "outputs": [],
   "source": [
    "# code here\n",
    "\n",
    "plt.savefig('cmip5_precip_rasterized.pdf')"
   ]
  },
  {
   "cell_type": "markdown",
   "metadata": {},
   "source": [
    "### Solution"
   ]
  },
  {
   "cell_type": "code",
   "execution_count": null,
   "metadata": {
    "hide_input": true
   },
   "outputs": [],
   "source": [
    "# get data\n",
    "lon, lat, hist = pr.lon, pr.lat, pr.hist\n",
    "\n",
    "# plot\n",
    "ax = plt.axes(projection=ccrs.Robinson())\n",
    "\n",
    "ax.coastlines()\n",
    "LON, LAT = mpu.infer_interval_breaks(lon, lat)\n",
    "\n",
    "ax.pcolormesh(LON, LAT, hist, transform=ccrs.PlateCarree(), cmap='Blues', vmax=2500, rasterized=True)\n",
    "\n",
    "ax.set_extent([-150, -130, 30, 70], ccrs.PlateCarree())\n",
    "\n",
    "plt.savefig('cmip5_precip_rasterized.pdf')"
   ]
  },
  {
   "cell_type": "markdown",
   "metadata": {},
   "source": [
    "## dpi\n",
    "\n",
    "The resulting pdf does not look very good - because the rectangular elements don't have vertical edges (but the pixels do). However, savefig takes a `dpi` keyword, which saves the day."
   ]
  },
  {
   "cell_type": "code",
   "execution_count": null,
   "metadata": {},
   "outputs": [],
   "source": [
    "# get data\n",
    "lon, lat, hist = pr.lon, pr.lat, pr.hist\n",
    "\n",
    "# plot\n",
    "\n",
    "ax = plt.axes(projection=ccrs.Robinson())\n",
    "\n",
    "ax.coastlines()\n",
    "LON, LAT = mpu.infer_interval_breaks(lon, lat)\n",
    "\n",
    "ax.pcolormesh(LON, LAT, hist, transform=ccrs.PlateCarree(), cmap='Blues', vmax=2500, rasterized=True)\n",
    "\n",
    "ax.set_extent([-150, -130, 30, 70], ccrs.PlateCarree())\n",
    "\n",
    "plt.savefig('cmip5_precip_rasterized_dpi.pdf', dpi=400)"
   ]
  },
  {
   "cell_type": "markdown",
   "metadata": {},
   "source": [
    " * Compare the size of `'cmip5_precip.pdf'`, `'cmip5_precip_rasterized.pdf'`, and `'cmip5_precip_rasterized_dpi.pdf'`.\n",
    "\n",
    "> Warning: the following line may not work in windows."
   ]
  },
  {
   "cell_type": "code",
   "execution_count": null,
   "metadata": {},
   "outputs": [],
   "source": [
    "! ls -lh cmip5_precip*"
   ]
  },
  {
   "cell_type": "markdown",
   "metadata": {},
   "source": [
    " * Open the three pdfs and compare their quality."
   ]
  },
  {
   "cell_type": "markdown",
   "metadata": {},
   "source": [
    "## Color range\n",
    "\n",
    "We can set the range of the colors with `vmin` and `vmax`. Because we now clip values at both ends, we should let the viewers know. We can do this by usign the `extend` keyword in the colorbar. It takes the  values\n",
    "\n",
    " * `'neither'` (default).\n",
    " * `'both'`\n",
    " * `'min'`\n",
    " * `'max'`\n",
    "\n",
    "Let's restrict the temperature range to -30..30, and also change the colormap, using `extend='both'`."
   ]
  },
  {
   "cell_type": "code",
   "execution_count": null,
   "metadata": {},
   "outputs": [],
   "source": [
    "ax = plt.axes(projection=ccrs.PlateCarree())\n",
    "\n",
    "ax.coastlines()\n",
    "\n",
    "LON, LAT = mpu.infer_interval_breaks(cesm.lon, cesm.lat, clip=True)\n",
    "\n",
    "h = ax.pcolormesh(LON, LAT, cesm.temp - 273.15, transform=ccrs.PlateCarree(), vmin=-30, vmax=30,\n",
    "                  cmap='RdBu_r')\n",
    "\n",
    "ax.set_global()\n",
    "\n",
    "plt.colorbar(h, extend='both')"
   ]
  },
  {
   "cell_type": "markdown",
   "metadata": {},
   "source": [
    "### Exercise\n",
    " * clip the precipitation values to the range 0...3000\n",
    " * indicate that the values extend at the upper bound"
   ]
  },
  {
   "cell_type": "code",
   "execution_count": null,
   "metadata": {},
   "outputs": [],
   "source": [
    "# get data\n",
    "lon, lat, hist = pr.lon, pr.lat, pr.hist\n",
    "\n",
    "# plot\n",
    "\n",
    "ax = plt.axes(projection=ccrs.Robinson())\n",
    "\n",
    "ax.coastlines()\n",
    "\n",
    "LON, LAT = mpu.infer_interval_breaks(lon, lat)\n",
    "\n",
    "h = ax.pcolormesh(LON, LAT, hist, transform=ccrs.PlateCarree())\n",
    "\n",
    "ax.set_global()\n",
    "\n",
    "plt.colorbar(h)"
   ]
  },
  {
   "cell_type": "markdown",
   "metadata": {},
   "source": [
    "### Solution"
   ]
  },
  {
   "cell_type": "code",
   "execution_count": null,
   "metadata": {
    "hide_input": true
   },
   "outputs": [],
   "source": [
    "# get data\n",
    "lon, lat, hist = pr.lon, pr.lat, pr.hist\n",
    "\n",
    "# plot\n",
    "\n",
    "ax = plt.axes(projection=ccrs.Robinson())\n",
    "\n",
    "ax.coastlines()\n",
    "\n",
    "LON, LAT = mpu.infer_interval_breaks(lon, lat)\n",
    "\n",
    "h = ax.pcolormesh(LON, LAT, hist, transform=ccrs.PlateCarree(), vmin=0, vmax=3000)\n",
    "\n",
    "ax.set_global()\n",
    "\n",
    "plt.colorbar(h, extend='max')"
   ]
  },
  {
   "cell_type": "markdown",
   "metadata": {},
   "source": [
    "## Color levels\n",
    "\n",
    "To create discrete color scale instead of a continuous, we need to pass `norm` to `pcolormesh`. `norm` is a function that normalizes data into the 0.0...1.0 interval. Usually it ranges linearly between the minimum and maximum data values. We also need to pass a changed colormap (`cmap`).\n",
    "\n",
    "For this we can make use of a small helper function in `mpu`.\n",
    "\n",
    "> doing this, we don't need to specify `extend` in the colorbar any more."
   ]
  },
  {
   "cell_type": "code",
   "execution_count": null,
   "metadata": {},
   "outputs": [],
   "source": [
    "ax = plt.axes(projection=ccrs.PlateCarree())\n",
    "\n",
    "ax.coastlines()\n",
    "\n",
    "levels = np.arange(-30, 31, 10)\n",
    "cmap, norm = mpu.from_levels_and_cmap(levels, 'RdBu_r', extend='both')\n",
    "\n",
    "LON, LAT = mpu.infer_interval_breaks(cesm.lon, cesm.lat, clip=True)\n",
    "\n",
    "h = ax.pcolormesh(LON, LAT, cesm.temp - 273.15, transform=ccrs.PlateCarree(), norm=norm, cmap=cmap)\n",
    "\n",
    "ax.set_global()\n",
    "\n",
    "plt.colorbar(h)"
   ]
  },
  {
   "cell_type": "markdown",
   "metadata": {},
   "source": [
    "### Exercise\n",
    "\n",
    " * create discrete levels for the precipitation data\n",
    " * the colormap is called `'viridis'`"
   ]
  },
  {
   "cell_type": "code",
   "execution_count": null,
   "metadata": {},
   "outputs": [],
   "source": [
    "# get data\n",
    "lon, lat, hist = pr.lon, pr.lat, pr.hist\n",
    "\n",
    "# plot\n",
    "\n",
    "ax = plt.axes(projection=ccrs.Robinson())\n",
    "\n",
    "ax.coastlines()\n",
    "\n",
    "LON, LAT = mpu.infer_interval_breaks(lon, lat)\n",
    "\n",
    "h = ax.pcolormesh(LON, LAT, hist, transform=ccrs.PlateCarree(), vmin=0, vmax=3000)\n",
    "\n",
    "ax.set_global()\n",
    "\n",
    "plt.colorbar(h, extend='max')"
   ]
  },
  {
   "cell_type": "markdown",
   "metadata": {},
   "source": [
    "### Solution"
   ]
  },
  {
   "cell_type": "code",
   "execution_count": null,
   "metadata": {
    "hide_input": true
   },
   "outputs": [],
   "source": [
    "# get data\n",
    "lon, lat, hist = pr.lon, pr.lat, pr.hist\n",
    "\n",
    "# plot\n",
    "\n",
    "ax = plt.axes(projection=ccrs.Robinson())\n",
    "\n",
    "ax.coastlines()\n",
    "\n",
    "LON, LAT = mpu.infer_interval_breaks(lon, lat)\n",
    "\n",
    "levels = np.arange(0, 3001, 500)\n",
    "cmap, norm = mpu.from_levels_and_cmap(levels, 'viridis', extend='max')\n",
    "\n",
    "h = ax.pcolormesh(LON, LAT, hist, transform=ccrs.PlateCarree(), cmap=cmap, norm=norm)\n",
    "\n",
    "ax.set_global()\n",
    "\n",
    "plt.colorbar(h, extend='max')"
   ]
  },
  {
   "cell_type": "markdown",
   "metadata": {},
   "source": [
    "## Bonus: xarray\n",
    "\n",
    "Until now we used xarray only as 'data store' and did the plotting as\n",
    "\n",
    "    ax.plot(ds.lon, ds.lat. ds.data, ...)\n",
    "    \n",
    "However, `xarray` also has it's dedicated plotting functions, which allow us to do:\n",
    "    \n",
    "    ds.data.plot.pcolormesh(ax=ax, ...)\n",
    "\n",
    "> This plotting function already applies the `interval_breaks`.\n",
    "\n",
    "> It also directly takes a `levels` keyword, and applies the correct normalisation and selection of the colorbar.\n",
    "\n",
    "Note that `xarray` does some additional things under the hood, and cannot apply the clipping of the values (note the warning).\n"
   ]
  },
  {
   "cell_type": "code",
   "execution_count": null,
   "metadata": {},
   "outputs": [],
   "source": [
    "ax = plt.axes(projection=ccrs.PlateCarree())\n",
    "\n",
    "ax.coastlines()\n",
    "\n",
    "temp = cesm.temp - 273.15\n",
    "\n",
    "levels = np.arange(-30, 31, 10)\n",
    "temp.plot.pcolormesh(ax=ax, transform=ccrs.PlateCarree(), levels=levels)\n",
    "\n",
    "ax.set_global()"
   ]
  },
  {
   "cell_type": "markdown",
   "metadata": {},
   "source": [
    "### Exercise\n",
    "\n",
    " * plot the cmip5 precipitation data with xarray\n",
    " * specify levels"
   ]
  },
  {
   "cell_type": "code",
   "execution_count": null,
   "metadata": {},
   "outputs": [],
   "source": [
    "# code here"
   ]
  },
  {
   "cell_type": "markdown",
   "metadata": {},
   "source": [
    "### Solution"
   ]
  },
  {
   "cell_type": "code",
   "execution_count": null,
   "metadata": {
    "hide_input": true
   },
   "outputs": [],
   "source": [
    "ax = plt.axes(projection=ccrs.Robinson())\n",
    "\n",
    "ax.coastlines()\n",
    "\n",
    "levels = np.arange(0, 3001, 500)\n",
    "pr.hist.plot.pcolormesh(ax=ax, transform=ccrs.PlateCarree(), levels=levels)\n",
    "\n",
    "ax.set_global()"
   ]
  },
  {
   "cell_type": "markdown",
   "metadata": {},
   "source": [
    "### Note on the colormap\n",
    "\n",
    "xarray includes some logic to select a colormap - if the data crosses 0 it chooses `'RdBu_r'`, else `'viridis'`, but of course you can always set it manually, with the `cmap` argument."
   ]
  }
 ],
 "metadata": {
  "hide_input": false,
  "kernelspec": {
   "display_name": "Python 3",
   "language": "python",
   "name": "python3"
  },
  "language_info": {
   "codemirror_mode": {
    "name": "ipython",
    "version": 3
   },
   "file_extension": ".py",
   "mimetype": "text/x-python",
   "name": "python",
   "nbconvert_exporter": "python",
   "pygments_lexer": "ipython3",
   "version": "3.6.5"
  }
 },
 "nbformat": 4,
 "nbformat_minor": 2
}
