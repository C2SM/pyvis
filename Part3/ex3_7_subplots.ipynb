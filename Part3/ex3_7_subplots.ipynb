{
 "cells": [
  {
   "cell_type": "markdown",
   "metadata": {},
   "source": [
    "# Exercise 3.7 Subplots with cartopy\n",
    "prepared by M.Hauser\n",
    "\n",
    "We already learned how to create subplots in [Exercise 1.4](./../Part1/ex1_4_subplots.ipynb), and we also used this for map plots. However, we suffer from the same problem as when adding colorbars - the axes are shrunk but the figure is not, leaving large gaps between the rows (or columns)...\n",
    "\n",
    "Note that most of what we show here for georeferenced plots does *NOT* apply for normal subplots."
   ]
  },
  {
   "cell_type": "code",
   "execution_count": null,
   "metadata": {},
   "outputs": [],
   "source": [
    "import cartopy.crs as ccrs\n",
    "import cartopy.util as cutil\n",
    "import cartopy.feature as cfeature\n",
    "\n",
    "import matplotlib.pyplot as plt\n",
    "import numpy as np\n",
    "\n",
    "import seaborn as sns\n",
    "import xarray as xr\n",
    "\n",
    "%matplotlib inline"
   ]
  },
  {
   "cell_type": "code",
   "execution_count": null,
   "metadata": {},
   "outputs": [],
   "source": [
    "import mplotutils as mpu"
   ]
  },
  {
   "cell_type": "markdown",
   "metadata": {},
   "source": [
    "## Setup\n",
    "\n",
    "Usually we want that the background of the figure is white - but here we want to see how large it really is. Therefore, we color it grey."
   ]
  },
  {
   "cell_type": "code",
   "execution_count": null,
   "metadata": {},
   "outputs": [],
   "source": [
    "%config InlineBackend.print_figure_kwargs = {'facecolor': '0.9'}"
   ]
  },
  {
   "cell_type": "markdown",
   "metadata": {},
   "source": [
    "## The Problem - example\n",
    "\n",
    "Let's do a 2 x 2 map plot:"
   ]
  },
  {
   "cell_type": "code",
   "execution_count": null,
   "metadata": {},
   "outputs": [],
   "source": [
    "f, axes = plt.subplots(2, 2, subplot_kw=dict(projection=ccrs.PlateCarree()))\n",
    "axes = axes.flatten()\n",
    "\n",
    "for ax in axes:\n",
    "    ax.coastlines()\n",
    "    ax.set_global()"
   ]
  },
  {
   "cell_type": "markdown",
   "metadata": {},
   "source": [
    "There is too much vertical space between the subplots! Again, the issue is that the aspect ratio of a map plot has to be equal, else it would be distorted. Matplotlib then 'shrinks' the axes, but does not shrink the area of the figure.\n",
    "\n",
    "## What we can try\n",
    "\n",
    "There are some functions in pyplot that can potentially solve this problem. (However, they don't).\n",
    "\n",
    "* `f.tight_layout()`, which tries to optimise the room used for the subplots.\n",
    "* `subplot_adjust`, i.e. setting the distance between the subplots manually\n",
    "\n",
    "Before we can illustrate these two, we need to get another obstacle out of the way.\n",
    "\n",
    "\n",
    "## `bbox_inches='tight'`\n",
    "\n",
    "When you save a figure you can tell matplotlib to remove all white boundary areas using `plt.savefig('figure.pdf', bbox_inches='tight')`. While this sounds like a good idea, the issue is that the final figure size is quite unpredictable. This can distort your font sizes. Also, if a journal asks for a figure with a certain size you cannot use this option.\n",
    "\n",
    "> `bbox_inches='tight'` is NOT the same as `f.tight_layout()`\n",
    "\n",
    "However, figures displayed in the notebooks use this option per default (in contrast to figures you save). To better see what figures we create, we need to turn option off, and again, set the background color to a light grey."
   ]
  },
  {
   "cell_type": "code",
   "execution_count": null,
   "metadata": {},
   "outputs": [],
   "source": [
    "%config InlineBackend.print_figure_kwargs = {'bbox_inches': None, 'facecolor': '0.9'}"
   ]
  },
  {
   "cell_type": "markdown",
   "metadata": {},
   "source": [
    "When we now redo the plot from above we see what our pdf would look like:"
   ]
  },
  {
   "cell_type": "code",
   "execution_count": null,
   "metadata": {},
   "outputs": [],
   "source": [
    "f, axes = plt.subplots(2, 2, subplot_kw=dict(projection=ccrs.PlateCarree()))\n",
    "axes = axes.flatten()\n",
    "\n",
    "for ax in axes:\n",
    "    ax.coastlines()\n",
    "    ax.set_global()\n"
   ]
  },
  {
   "cell_type": "markdown",
   "metadata": {},
   "source": [
    "So there is not only unequal distance between the figures, it also has a very large boundary.\n",
    "\n",
    "## `tight_layout`\n",
    "\n",
    "As mentioned `tight_layout` tries to optimise the space between the subplots, but does not really help either:"
   ]
  },
  {
   "cell_type": "code",
   "execution_count": null,
   "metadata": {},
   "outputs": [],
   "source": [
    "f, axes = plt.subplots(2, 2, subplot_kw=dict(projection=ccrs.PlateCarree()))\n",
    "axes = axes.flatten()\n",
    "\n",
    "for ax in axes:\n",
    "    ax.coastlines()\n",
    "    ax.set_global()\n",
    "        \n",
    "f.tight_layout()"
   ]
  },
  {
   "cell_type": "markdown",
   "metadata": {},
   "source": [
    "### Exercise\n",
    "\n",
    " * try the same with an Orthographic projection"
   ]
  },
  {
   "cell_type": "code",
   "execution_count": null,
   "metadata": {},
   "outputs": [],
   "source": [
    "# code here"
   ]
  },
  {
   "cell_type": "markdown",
   "metadata": {},
   "source": [
    "### Solution"
   ]
  },
  {
   "cell_type": "code",
   "execution_count": null,
   "metadata": {
    "hide_input": true
   },
   "outputs": [],
   "source": [
    "f, axes = plt.subplots(2, 2, subplot_kw=dict(projection=ccrs.Orthographic()))\n",
    "\n",
    "axes = axes.flatten()\n",
    "\n",
    "for ax in axes:\n",
    "    ax.coastlines()\n",
    "    ax.set_global()\n",
    "    \n",
    "f.tight_layout()"
   ]
  },
  {
   "cell_type": "markdown",
   "metadata": {},
   "source": [
    "## `subplot_adjust`\n",
    "\n",
    "We already got to know `wspace` and `hspace` in [exercise 1.4](Part1/ex1_4_subplots.ipynb#hspace-and-wspace). Using `subplot_adjust` we can manually fine tune the positioning of the subplots:\n",
    "\n",
    "* left, right, bottom, and top are measured in figure coordinates, where (0, 0) is in the lower left corner and (1, 1) in the upper right corner\n",
    "* wspace the amount of width reserved for blank space between subplots, expressed as a fraction of the average axis width, default value = 0.2\n",
    "* hspace: the amount of height reserved for white space between subplots, expressed as a fraction of the average axis height, default value = 0.2\n",
    "\n",
    "For a normal plot (i.e. non map plots), we can use them to adjust the figure to our liking: "
   ]
  },
  {
   "cell_type": "code",
   "execution_count": null,
   "metadata": {},
   "outputs": [],
   "source": [
    "f, axes = plt.subplots(2, 2)\n",
    "axes = axes.flatten()\n",
    "\n",
    "for ax in axes:\n",
    "    ax.set_xticks([])\n",
    "    ax.set_yticks([])\n",
    "    \n",
    "\n",
    "f.subplots_adjust(left=0.1, right=0.95,\n",
    "                  bottom=0.1, top=0.9,\n",
    "                  hspace=0., wspace=0.)\n"
   ]
  },
  {
   "cell_type": "markdown",
   "metadata": {},
   "source": [
    "Again, because matplotlib 'shrinks' the axes for map plots, setting hspace and wspace to 0 can leave some vertical distance between subplots:"
   ]
  },
  {
   "cell_type": "code",
   "execution_count": null,
   "metadata": {},
   "outputs": [],
   "source": [
    "f, axes = plt.subplots(2, 2, subplot_kw=dict(projection=ccrs.PlateCarree()))\n",
    "axes = axes.flatten()\n",
    "\n",
    "for ax in axes:\n",
    "    ax.coastlines()\n",
    "    ax.set_global()\n",
    "\n",
    "f.subplots_adjust(hspace=0, wspace=0)"
   ]
  },
  {
   "cell_type": "markdown",
   "metadata": {},
   "source": [
    "# Solution\n",
    "\n",
    "Also for this problem I developed a solution `mpu.set_map_layout`.\n",
    "\n",
    "`set_map_layout` respects all parameters of `subplot_adjust` (left, right, bottom, top, hspace, and wspace), and the figure width, but *NOT* its height. I.e. it calculates the figure height such that all other parameters are respected.\n",
    "\n",
    "#### Advantages\n",
    " * creating a map plot becomes predictable again (e.g. when you set `hspace=0`, the vertical space is actually 0)\n",
    "\n",
    "#### Disadvantages\n",
    " * it only really works if all subplots have the same aspect ratio\n",
    " * needs quite some manual adjustments\n",
    " \n",
    "#### Usage\n",
    "\n",
    "1. Create figure and axes\n",
    "* Do all the plotting\n",
    "* use `f.subplots_adjust`\n",
    "* use `mpu.set_map_layout(axes, width=17)`\n",
    "* save the figure\n",
    "\n",
    "\n"
   ]
  },
  {
   "cell_type": "code",
   "execution_count": null,
   "metadata": {},
   "outputs": [],
   "source": [
    "# 1.\n",
    "f, axes = plt.subplots(2, 2, subplot_kw=dict(projection=ccrs.PlateCarree()))\n",
    "axes = axes.flatten()\n",
    "\n",
    "# 2.\n",
    "\n",
    "for ax in axes:\n",
    "    ax.coastlines()\n",
    "    ax.set_global()\n",
    "\n",
    "# 3.\n",
    "\n",
    "f.subplots_adjust(hspace=0, wspace=0)\n",
    "\n",
    "# 4.\n",
    "mpu.set_map_layout(axes, width=17) # width is in cm\n",
    "\n",
    "print('Size (w x h):  ', np.round(f.get_size_inches() * 2.54, 2))\n",
    "\n",
    "# 5.\n",
    "# plt.savefig(...)"
   ]
  },
  {
   "cell_type": "markdown",
   "metadata": {},
   "source": [
    "It worked! `hspace=0, wspace=0` is actually respected!\n",
    "\n",
    "### Exercise\n",
    "\n",
    " * run the code below\n",
    "   * compare the width/ height of both figures"
   ]
  },
  {
   "cell_type": "code",
   "execution_count": null,
   "metadata": {},
   "outputs": [],
   "source": [
    "f, axes = plt.subplots(2, 2, subplot_kw=dict(projection=ccrs.PlateCarree()))\n",
    "axes = axes.flatten()\n",
    "\n",
    "for ax in axes:\n",
    "    ax.coastlines()\n",
    "    ax.set_global()\n",
    "    \n",
    "f.subplots_adjust(hspace=0.3, wspace=0.15, left=0.05, right=0.95, bottom=0.05, top=0.95)\n",
    "\n",
    "mpu.set_map_layout(axes, width=17)\n",
    "\n",
    "print('Size (w x h):  ', np.round(f.get_size_inches() * 2.54, 2))"
   ]
  },
  {
   "cell_type": "markdown",
   "metadata": {},
   "source": [
    "### Exercise\n",
    "\n",
    " * use `mpu.set_map_layout`, and `f.subplots_adjust` to create a 'good' looking figure"
   ]
  },
  {
   "cell_type": "code",
   "execution_count": null,
   "metadata": {},
   "outputs": [],
   "source": [
    "f, axes = plt.subplots(2, 2, subplot_kw=dict(projection=ccrs.NearsidePerspective()))\n",
    "axes = axes.flatten()\n",
    "\n",
    "for i, ax in enumerate(axes):\n",
    "    ax.coastlines()\n",
    "    ax.set_global()\n",
    "    ax.set_title('Map ' + str(i), fontsize=18)\n",
    "\n",
    "# =============\n",
    "# adjust size\n",
    "\n",
    "\n",
    "# ============= \n",
    "    \n",
    "print('Size (w x h):  ', np.round(f.get_size_inches() * 2.54, 2))"
   ]
  },
  {
   "cell_type": "markdown",
   "metadata": {},
   "source": [
    "### Solution"
   ]
  },
  {
   "cell_type": "code",
   "execution_count": null,
   "metadata": {
    "hide_input": true
   },
   "outputs": [],
   "source": [
    "f, axes = plt.subplots(2, 2, subplot_kw=dict(projection=ccrs.NearsidePerspective()))\n",
    "axes = axes.flatten()\n",
    "\n",
    "for i, ax in enumerate(axes):\n",
    "    ax.coastlines()\n",
    "    ax.set_global()\n",
    "    ax.set_title('Map ' + str(i), fontsize=18)\n",
    "\n",
    "# =============\n",
    "# adjust size\n",
    "f.subplots_adjust(hspace=0.2, wspace=0.1, left=0.05, right=0.95, bottom=0.05, top=0.9)\n",
    "\n",
    "mpu.set_map_layout(axes)\n",
    "# =============\n",
    "\n",
    "\n",
    "print('Size (w x h):  ', np.round(f.get_size_inches() * 2.54, 2))"
   ]
  },
  {
   "cell_type": "markdown",
   "metadata": {},
   "source": [
    "## Colorbars\n",
    "\n",
    "`set_map_layout` can be combined with the manual creation of colorbars. Note that you will have to manually make room for the colorbars, by adjusting left, hspace, etc..."
   ]
  },
  {
   "cell_type": "code",
   "execution_count": null,
   "metadata": {},
   "outputs": [],
   "source": [
    "# create sample data\n",
    "lon, lat, data = mpu.sample_data_map(90, 48)\n",
    "LON, LAT = mpu.infer_interval_breaks(lon, lat)\n",
    "\n",
    "# =====\n",
    "\n",
    "f, axes = plt.subplots(2, 2, subplot_kw=dict(projection=ccrs.PlateCarree()))\n",
    "axes = axes.flatten()\n",
    "\n",
    "for ax in axes:\n",
    "    ax.coastlines()\n",
    "    ax.set_global()\n",
    "    h = ax.pcolormesh(LON, LAT, data, vmin=-1, vmax=1, cmap='RdBu_r', transform=ccrs.PlateCarree())\n",
    "    \n",
    "    \n",
    "f.subplots_adjust(hspace=0.2, wspace=0.35, left=0.025, right=0.875, bottom=0.05, top=0.95)\n",
    "\n",
    "# ===================================\n",
    "\n",
    "# color bar1\n",
    "cbar = mpu.colorbar(h, axes[0], pad=0.015, size=0.05)\n",
    "\n",
    "# color bar2\n",
    "cbar = mpu.colorbar(h, axes[2], pad=0.015, size=0.05)\n",
    "\n",
    "# color bar2\n",
    "cbar = mpu.colorbar(h, axes[1], axes[3], pad=0.015, size=0.05)\n",
    "\n",
    "# ===================================\n",
    "\n",
    "mpu.set_map_layout(axes, width=17)\n",
    "\n",
    "# ===================================\n",
    "\n",
    "f.get_size_inches() * 2.54\n"
   ]
  },
  {
   "cell_type": "markdown",
   "metadata": {},
   "source": [
    "### Exercise\n",
    "\n",
    " * take the plot below and make it look good"
   ]
  },
  {
   "cell_type": "code",
   "execution_count": null,
   "metadata": {},
   "outputs": [],
   "source": [
    "f, axes = plt.subplots(1, 2, subplot_kw=dict(projection=ccrs.NearsidePerspective()))\n",
    "axes = axes.flatten()\n",
    "\n",
    "for i, ax in enumerate(axes):\n",
    "    ax.coastlines()\n",
    "    ax.set_global()\n",
    "    ax.set_title('Map ' + str(i), fontsize=18)\n",
    "    \n",
    "    h = ax.pcolormesh(LON, LAT, data, vmin=-1, vmax=1, transform=ccrs.PlateCarree())\n",
    "    \n",
    "# color bar1\n",
    "cbar = mpu.colorbar(h, axes[1], size=0.1)\n",
    "\n",
    "# =============\n",
    "# adjust size\n",
    "\n",
    "# f.subplots_adjust(hspace=0.2, wspace=0.1, left=0.05, right=0.95, bottom=0.05, top=0.9)\n",
    "\n",
    "# mpu.set_map_layout(axes)\n",
    "# =============\n",
    "\n",
    "print('Size (w x h):  ', np.round(f.get_size_inches() * 2.54, 2))"
   ]
  },
  {
   "cell_type": "markdown",
   "metadata": {},
   "source": [
    "### Solution"
   ]
  },
  {
   "cell_type": "code",
   "execution_count": null,
   "metadata": {
    "hide_input": true
   },
   "outputs": [],
   "source": [
    "f, axes = plt.subplots(1, 2, subplot_kw=dict(projection=ccrs.NearsidePerspective()))\n",
    "axes = axes.flatten()\n",
    "\n",
    "for i, ax in enumerate(axes):\n",
    "    ax.coastlines()\n",
    "    ax.set_global()\n",
    "    ax.set_title('Map ' + str(i), fontsize=18)\n",
    "    \n",
    "    h = ax.pcolormesh(LON, LAT, data, vmin=-1, vmax=1, transform=ccrs.PlateCarree())\n",
    "    \n",
    "# color bar1\n",
    "cbar = mpu.colorbar(h, axes[1], size=0.1)\n",
    "    \n",
    "f.subplots_adjust(hspace=0.2, wspace=0.1, left=0.05, right=0.85, bottom=0.05, top=0.85)\n",
    "\n",
    "mpu.set_map_layout(axes, width=15.24)\n",
    "\n",
    "print('Size (w x h):  ', np.round(f.get_size_inches() * 2.54, 2))"
   ]
  },
  {
   "cell_type": "markdown",
   "metadata": {},
   "source": [
    "# Different projections\n",
    "\n",
    "To combine different projections in subplots, or to combine map and none map plots, you have to use `gridspec`."
   ]
  },
  {
   "cell_type": "code",
   "execution_count": null,
   "metadata": {},
   "outputs": [],
   "source": [
    "import matplotlib.gridspec as gridspec"
   ]
  },
  {
   "cell_type": "code",
   "execution_count": null,
   "metadata": {},
   "outputs": [],
   "source": [
    "gs = gridspec.GridSpec(2, 2)\n",
    "\n",
    "ax1 = plt.subplot(gs[0, 0], projection=ccrs.PlateCarree())\n",
    "\n",
    "ax2 = plt.subplot(gs[0, 1], projection=ccrs.Robinson())\n",
    "\n",
    "ax3 = plt.subplot(gs[1, :])\n",
    "\n",
    "ax1.coastlines()\n",
    "ax2.coastlines()\n",
    "\n",
    "x = np.arange(0, 10, 0.1)\n",
    "ax3.plot(x, np.sin(x))\n",
    "ax3.plot(x, np.cos(x))"
   ]
  },
  {
   "cell_type": "markdown",
   "metadata": {},
   "source": [
    "Like this we can create a rotating earth:"
   ]
  },
  {
   "cell_type": "code",
   "execution_count": null,
   "metadata": {},
   "outputs": [],
   "source": [
    "import cartopy.feature as cfeature"
   ]
  },
  {
   "cell_type": "code",
   "execution_count": null,
   "metadata": {},
   "outputs": [],
   "source": [
    "# n_row subplots\n",
    "n_row = 10\n",
    "\n",
    "f = plt.figure()\n",
    "gs = gridspec.GridSpec(1, n_row)\n",
    "\n",
    "axes = list()\n",
    "\n",
    "# loop from 0...9\n",
    "for i in range(n_row):\n",
    "    \n",
    "    # rotate\n",
    "    c_lon = 360. / n_row * i\n",
    "    \n",
    "    # create subplot\n",
    "    ax = plt.subplot(gs[i], projection=ccrs.Orthographic(central_longitude=c_lon, central_latitude=0))\n",
    "    \n",
    "    # add some features\n",
    "    ax.coastlines()\n",
    "    ax.add_feature(cfeature.OCEAN)\n",
    "    ax.add_feature(cfeature.LAND)\n",
    "\n",
    "    # collect the axes\n",
    "    axes.append(ax)\n",
    "\n",
    "# adjust the size    \n",
    "f.subplots_adjust(wspace=0.1, left=0.025, right=0.975)    \n",
    "mpu.set_map_layout(np.asarray(axes), width=40)"
   ]
  },
  {
   "cell_type": "markdown",
   "metadata": {},
   "source": [
    "# Bonus: Correct distance between subplots, alternative Solution\n",
    "\n",
    "As for the colorbars, there is a second solution to overcome the problem, and again it is by using `axes_grid1`:\n",
    "\n",
    "\"[axes_grid1](https://matplotlib.org/2.0.2/mpl_toolkits/axes_grid/users/overview.html) is a collection of helper classes to ease displaying (multiple) images with matplotlib. In matplotlib, the axes location (and size) is specified in the normalized figure coordinates, which may not be ideal for displaying images that needs to have a given aspect ratio.\"\n",
    "\n",
    " > However, it is not part of the core matplotlib functionality, and not it's best-documented part\n",
    "\n",
    "We will use an [example from the cartopy gallery](http://scitools.org.uk/cartopy/docs/v0.15/examples/axes_grid_basic.html)."
   ]
  },
  {
   "cell_type": "code",
   "execution_count": null,
   "metadata": {},
   "outputs": [],
   "source": [
    "from mpl_toolkits.axes_grid1 import AxesGrid\n",
    "from cartopy.mpl.geoaxes import GeoAxes"
   ]
  },
  {
   "cell_type": "markdown",
   "metadata": {},
   "source": [
    "The syntax is not super simple..., `axes_pad=[hspace, wspace]` defines the distance between the subplots in inches."
   ]
  },
  {
   "cell_type": "code",
   "execution_count": null,
   "metadata": {},
   "outputs": [],
   "source": [
    "projection = ccrs.PlateCarree()\n",
    "axes_class = (GeoAxes,\n",
    "              dict(map_projection=projection))\n",
    "\n",
    "\n",
    "f = plt.figure()\n",
    "axgr = AxesGrid(f, 111, axes_class=axes_class,\n",
    "                nrows_ncols=(3, 2),\n",
    "                axes_pad=[2 / 2.54, 1 / 2.54],\n",
    "                label_mode='')  # note the empty label_mode\n",
    "\n",
    "axes = axgr.axes_all\n",
    "\n",
    "for ax in axes:\n",
    "    ax.coastlines()    \n",
    "    ax.set_global()\n",
    "    \n",
    "plt.savefig('AxesGrid.pdf')"
   ]
  },
  {
   "cell_type": "markdown",
   "metadata": {},
   "source": [
    "This may look wrong - but the distance between the subplots are exactly 2 cm & 1 cm (see the AxesGrid.pdf).\n",
    "\n",
    "While hspace and wspace are correct, this comes at the cost that left, right, top, and bottom may not be set as specified.\n",
    "\n",
    "### Exercise\n",
    "\n",
    " * set axes_pad to 0.5 cm\n",
    " * set the figure size to 16 cm x 13 cm (`f.set_size_inches`)\n",
    " * play around with `f.subplots_adjust` to find a good setting"
   ]
  },
  {
   "cell_type": "code",
   "execution_count": null,
   "metadata": {},
   "outputs": [],
   "source": [
    "projection = ccrs.PlateCarree()\n",
    "axes_class = (GeoAxes,\n",
    "              dict(map_projection=projection))\n",
    "\n",
    "f = plt.figure()\n",
    "\n",
    "# set figure size\n",
    "# f.set_size_inches(...)\n",
    "\n",
    "axgr = AxesGrid(f, 111, axes_class=axes_class,\n",
    "                nrows_ncols=(3, 2),\n",
    "                axes_pad=[2 / 2.54, 1 / 2.54],\n",
    "                label_mode='')  # note the empty label_mode\n",
    "\n",
    "axes = axgr.axes_all\n",
    "\n",
    "for ax in axes:\n",
    "    ax.coastlines()    \n",
    "    ax.set_global()\n",
    "    \n",
    "# adjust the subplots\n",
    "# f.subplots_adjust(left=0.1, right=0.9, bottom=0.1, top=0.9)"
   ]
  },
  {
   "cell_type": "markdown",
   "metadata": {},
   "source": [
    "### Solution"
   ]
  },
  {
   "cell_type": "code",
   "execution_count": null,
   "metadata": {
    "hide_input": false
   },
   "outputs": [],
   "source": [
    "projection = ccrs.PlateCarree()\n",
    "axes_class = (GeoAxes,\n",
    "              dict(map_projection=projection))\n",
    "\n",
    "\n",
    "f = plt.figure()\n",
    "\n",
    "# set figure size\n",
    "f.set_size_inches(16 / 2.54, 13 / 2.54)\n",
    "\n",
    "axgr = AxesGrid(f, 111, axes_class=axes_class,\n",
    "                nrows_ncols=(3, 2),\n",
    "                axes_pad=[0.5 / 2.54, 0.5 / 2.54],\n",
    "                label_mode='')  # note the empty label_mode\n",
    "\n",
    "axes = axgr.axes_all\n",
    "\n",
    "for ax in axes:\n",
    "    ax.coastlines()    \n",
    "    ax.set_global()\n",
    "    \n",
    "f.subplots_adjust(left=0.05, right=0.95, bottom=0.05, top=0.95)"
   ]
  },
  {
   "cell_type": "markdown",
   "metadata": {},
   "source": [
    "## Colorbars\n",
    "\n",
    "You can also directly add colorbars."
   ]
  },
  {
   "cell_type": "code",
   "execution_count": null,
   "metadata": {
    "hide_input": false
   },
   "outputs": [],
   "source": [
    "# create sample data\n",
    "lon, lat, data = mpu.sample_data_map(90, 48)\n",
    "LON, LAT = mpu.infer_interval_breaks(lon, lat)\n",
    "\n",
    "# =====\n",
    "\n",
    "f = plt.figure()\n",
    "\n",
    "f.set_size_inches(16 / 2.54, 14.5 / 2.54)\n",
    "\n",
    "\n",
    "projection = ccrs.PlateCarree()\n",
    "axes_class = (GeoAxes,\n",
    "              dict(map_projection=projection))\n",
    "\n",
    "axgr = AxesGrid(f, 111, axes_class=axes_class,\n",
    "                nrows_ncols=(3, 2),\n",
    "                axes_pad=[0.5 / 2.54, 0.5 / 2.54],\n",
    "                cbar_location='bottom',\n",
    "                cbar_mode='single',\n",
    "                cbar_pad=0.1 / 2.54,\n",
    "                cbar_size='10%',\n",
    "                label_mode='')  # note the empty label_mode\n",
    "\n",
    "\n",
    "    \n",
    "axes = axgr.axes_all\n",
    "for ax in axes:\n",
    "    ax.coastlines()\n",
    "    h = ax.pcolormesh(LON, LAT, data, vmin=-1, vmax=1, cmap='RdBu_r', transform=ccrs.PlateCarree())\n",
    "    ax.set_global()\n",
    "\n",
    "axgr.cbar_axes[0].colorbar(h)\n",
    "    \n",
    "f.subplots_adjust(left=0.05, right=0.95, bottom=0.1, top=0.95)    "
   ]
  },
  {
   "cell_type": "markdown",
   "metadata": {},
   "source": [
    "Note how the figure size and bottom had to be adjusted.\n",
    "\n",
    "### Exercise\n",
    "\n",
    " * plot the same data on 3 subplots below each other\n",
    " * choose an Orthographic projection\n",
    " * add a colorbar for each plot, on the right side of the subplot\n",
    " * bonus: adjust the figure size and the subplot params "
   ]
  },
  {
   "cell_type": "code",
   "execution_count": null,
   "metadata": {},
   "outputs": [],
   "source": [
    "AxesGrid?"
   ]
  },
  {
   "cell_type": "code",
   "execution_count": null,
   "metadata": {},
   "outputs": [],
   "source": [
    "# create sample data\n",
    "lon, lat, data = mpu.sample_data_map(90, 48)\n",
    "LON, LAT = mpu.infer_interval_breaks(lon, lat)\n",
    "\n",
    "# =====\n",
    "\n",
    "# code here\n",
    "\n",
    "\n"
   ]
  },
  {
   "cell_type": "markdown",
   "metadata": {},
   "source": [
    "### Solution"
   ]
  },
  {
   "cell_type": "code",
   "execution_count": null,
   "metadata": {
    "hide_input": false
   },
   "outputs": [],
   "source": [
    "# create sample data\n",
    "lon, lat, data = mpu.sample_data_map(90, 48)\n",
    "LON, LAT = mpu.infer_interval_breaks(lon, lat)\n",
    "\n",
    "# =====\n",
    "\n",
    "projection = ccrs.Orthographic()\n",
    "axes_class = (GeoAxes,\n",
    "              dict(map_projection=projection))\n",
    "\n",
    "f = plt.figure()\n",
    "\n",
    "f.set_size_inches(8 / 2.54, 14.5 / 2.54)\n",
    "\n",
    "axgr = AxesGrid(f, 111, axes_class=axes_class,\n",
    "                nrows_ncols=(3, 1),\n",
    "                axes_pad=0.75 / 2.54,\n",
    "                cbar_location='right',\n",
    "                cbar_mode='each',\n",
    "                cbar_pad=0.5 / 2.54,\n",
    "                cbar_size='10%',\n",
    "                label_mode='')  # note the empty label_mode\n",
    "\n",
    "\n",
    "    \n",
    "axes = axgr.axes_all\n",
    "for i, ax in enumerate(axes):\n",
    "    ax.coastlines()\n",
    "    h = ax.pcolormesh(LON, LAT, data, vmin=-1, vmax=1, cmap='RdBu_r', transform=ccrs.PlateCarree())\n",
    "    ax.set_global()\n",
    "    \n",
    "    axgr.cbar_axes[i].colorbar(h)\n",
    "    \n",
    "\n",
    "f.subplots_adjust(left=0.05, right=0.9, bottom=0.05, top=0.95) "
   ]
  },
  {
   "cell_type": "code",
   "execution_count": null,
   "metadata": {},
   "outputs": [],
   "source": []
  }
 ],
 "metadata": {
  "hide_input": false,
  "kernelspec": {
   "display_name": "Python 3",
   "language": "python",
   "name": "python3"
  },
  "language_info": {
   "codemirror_mode": {
    "name": "ipython",
    "version": 3
   },
   "file_extension": ".py",
   "mimetype": "text/x-python",
   "name": "python",
   "nbconvert_exporter": "python",
   "pygments_lexer": "ipython3",
   "version": "3.6.5"
  }
 },
 "nbformat": 4,
 "nbformat_minor": 2
}
