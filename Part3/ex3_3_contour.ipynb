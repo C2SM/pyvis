{
 "cells": [
  {
   "cell_type": "markdown",
   "metadata": {},
   "source": [
    "# Exercise 3.3 Contour plots (cartopy)\n",
    "prepared by M.Hauser\n",
    "\n",
    "Besides `pcolormesh` we can also do contour and filled contour plots in matplotlib.\n",
    "\n",
    "Note that most of what we show here for georeferenced plots also applies for normal `contour` and `contourf`.\n",
    "\n",
    "## Import libraries"
   ]
  },
  {
   "cell_type": "code",
   "execution_count": null,
   "metadata": {},
   "outputs": [],
   "source": [
    "import cartopy.crs as ccrs\n",
    "import matplotlib.pyplot as plt\n",
    "import numpy as np\n",
    "import xarray as xr\n",
    "\n",
    "%matplotlib inline"
   ]
  },
  {
   "cell_type": "code",
   "execution_count": null,
   "metadata": {},
   "outputs": [],
   "source": [
    "import mplotutils as mpu"
   ]
  },
  {
   "cell_type": "markdown",
   "metadata": {},
   "source": [
    "## First filled contour plot (`contourf`)\n",
    "\n",
    "`contourf`, also takes x, y, z as input:"
   ]
  },
  {
   "cell_type": "code",
   "execution_count": null,
   "metadata": {},
   "outputs": [],
   "source": [
    "# create sample data\n",
    "lon, lat, data = mpu.sample_data_map(90, 48)\n",
    "\n",
    "# ====\n",
    "\n",
    "ax = plt.axes(projection=ccrs.PlateCarree())\n",
    "\n",
    "ax.coastlines()\n",
    "\n",
    "h = ax.contourf(lon, lat, data)\n",
    "plt.colorbar(h)\n",
    "\n",
    "ax.set_global()"
   ]
  },
  {
   "cell_type": "markdown",
   "metadata": {},
   "source": [
    "It also has the same issue as pcolormesh - one stripe is white. The proposed solution for contour is to add a wrap-around point, i.e. repeat the first column at the end. This is done with the function `add_cyclic_point` which can be found in `cartopy.util`"
   ]
  },
  {
   "cell_type": "code",
   "execution_count": null,
   "metadata": {},
   "outputs": [],
   "source": [
    "import cartopy.util as cutil"
   ]
  },
  {
   "cell_type": "code",
   "execution_count": null,
   "metadata": {},
   "outputs": [],
   "source": [
    "# create sample data\n",
    "lon, lat, data = mpu.sample_data_map(90, 48)\n",
    "\n",
    "# ====\n",
    "\n",
    "ax = plt.axes(projection=ccrs.PlateCarree())\n",
    "\n",
    "ax.coastlines()\n",
    "\n",
    "DATA, LON = cutil.add_cyclic_point(data, lon)\n",
    "h = ax.contourf(LON, lat, DATA)\n",
    "plt.colorbar(h)\n",
    "\n",
    "ax.set_global()"
   ]
  },
  {
   "cell_type": "markdown",
   "metadata": {},
   "source": [
    "## Load data: CMIP 5, historical precipitation climatology (1986 to 2005)\n",
    "\n",
    "Create a netCDF with historical, and projected climatological precipitation, as well as the relative change between them, from all CMIP5 models for RCP8.5 (Taylor et al., 2012).\n",
    "\n",
    "The data was prepared in [another notebook](../data/prepare_CMIP5_map.ipynb)."
   ]
  },
  {
   "cell_type": "code",
   "execution_count": null,
   "metadata": {},
   "outputs": [],
   "source": [
    "fN = '../data/cmip5_delta_pr_rcp85_map.nc'\n",
    "\n",
    "# load data, omitting some unecessary variables\n",
    "pr = xr.open_dataset(fN, drop_variables=['proj', 'agree_sign', 'pval'])\n",
    "\n",
    "pr"
   ]
  },
  {
   "cell_type": "markdown",
   "metadata": {},
   "source": [
    "### Exercise\n",
    " * plot the climatological precipitation amount\n",
    " \n",
    " > note: we need to pass numpy arrays and not xarray variables to `add_cyclic_point`, therefore I used `*.values`\n",
    " \n",
    " * add a colorbar"
   ]
  },
  {
   "cell_type": "code",
   "execution_count": null,
   "metadata": {},
   "outputs": [],
   "source": [
    "# get data\n",
    "lon, lat, hist = pr.lon.values, pr.lat.values, pr.hist.values\n",
    "\n",
    "# plot\n",
    "\n",
    "ax = plt.axes(projection=ccrs.Robinson())\n",
    "\n",
    "ax.coastlines()\n",
    "\n",
    "# code here"
   ]
  },
  {
   "cell_type": "markdown",
   "metadata": {},
   "source": [
    "### Solution"
   ]
  },
  {
   "cell_type": "code",
   "execution_count": null,
   "metadata": {
    "hide_input": true
   },
   "outputs": [],
   "source": [
    "# get data\n",
    "lon, lat, hist = pr.lon.values, pr.lat.values, pr.hist.values\n",
    "\n",
    "# plot\n",
    "\n",
    "f = plt.figure()\n",
    "\n",
    "f.set_size_inches(15 / 2.54, 10 / 2.54)\n",
    "\n",
    "ax = plt.axes(projection=ccrs.Robinson())\n",
    "\n",
    "ax.coastlines()\n",
    "\n",
    "HIST, LON = cutil.add_cyclic_point(hist, lon)\n",
    "\n",
    "h = ax.contourf(LON, lat, HIST, transform=ccrs.PlateCarree())\n",
    "plt.colorbar(h)\n",
    "ax.set_global()"
   ]
  },
  {
   "cell_type": "markdown",
   "metadata": {},
   "source": [
    "## `levels`\n",
    "\n",
    "`contourf` (and `contour`) take a `levels` keyword to manually set the levels to draw, e.g.: `levels=np.arange(0, 1.1, 0.25)`. It clips values outside of levels.\n",
    "\n",
    "Thus, this is much easier than in `pcolormesh`.\n",
    "\n",
    "### Note on np.arange\n",
    "`np.arange` follows the same logic as `range`: the upper bound needs to be larger than where we want it to stop, because it starts at 0. "
   ]
  },
  {
   "cell_type": "code",
   "execution_count": null,
   "metadata": {},
   "outputs": [],
   "source": [
    "print(list(range(10)))\n",
    "print(np.arange(10))\n",
    "\n",
    "print()\n",
    "\n",
    "print(\"Probably not what we want:\")\n",
    "print(np.arange(0, 1, 0.5))\n",
    "\n",
    "print(\"We have to do it like so:\")\n",
    "print(np.arange(0, 1.1, 0.5))"
   ]
  },
  {
   "cell_type": "code",
   "execution_count": null,
   "metadata": {},
   "outputs": [],
   "source": [
    "# create sample data\n",
    "lon, lat, data = mpu.sample_data_map(90, 48)\n",
    "\n",
    "# ====\n",
    "\n",
    "ax = plt.axes(projection=ccrs.PlateCarree())\n",
    "\n",
    "ax.coastlines()\n",
    "\n",
    "DATA, LON = cutil.add_cyclic_point(data, lon)\n",
    "h = ax.contourf(LON, lat, DATA, np.arange(-0.75, 1.1, 0.5))\n",
    "plt.colorbar(h)\n",
    "\n",
    "ax.set_global()"
   ]
  },
  {
   "cell_type": "markdown",
   "metadata": {},
   "source": [
    "## `extend`\n",
    "\n",
    "This is probably not what we want - again, we can use the `extend` keyword."
   ]
  },
  {
   "cell_type": "code",
   "execution_count": null,
   "metadata": {},
   "outputs": [],
   "source": [
    "# create sample data\n",
    "lon, lat, data = mpu.sample_data_map(90, 48)\n",
    "\n",
    "# ====\n",
    "\n",
    "ax = plt.axes(projection=ccrs.PlateCarree())\n",
    "\n",
    "ax.coastlines()\n",
    "\n",
    "DATA, LON = cutil.add_cyclic_point(data, lon)\n",
    "h = ax.contourf(LON, lat, DATA, levels=np.arange(0, 1.1, 0.25), extend='both')\n",
    "plt.colorbar(h)\n",
    "\n",
    "ax.set_global()"
   ]
  },
  {
   "cell_type": "markdown",
   "metadata": {},
   "source": [
    "### Exercise\n",
    "\n",
    " * create the levels 0-1000, 1000-2000, 2000-3000 for the precipitation plot\n",
    " * don't forget to indicate that values > 3000 are clipped"
   ]
  },
  {
   "cell_type": "code",
   "execution_count": null,
   "metadata": {},
   "outputs": [],
   "source": [
    "# get data\n",
    "lon, lat, hist = pr.lon.values, pr.lat.values, pr.hist.values\n",
    "\n",
    "# plot\n",
    "\n",
    "f = plt.figure()\n",
    "\n",
    "f.set_size_inches(15 / 2.54, 10 / 2.54)\n",
    "\n",
    "ax = plt.axes(projection=ccrs.Robinson())\n",
    "\n",
    "ax.coastlines()\n",
    "\n",
    "HIST, LON = cutil.add_cyclic_point(hist, lon)\n",
    "\n",
    "h = ax.contourf(LON, lat, HIST, transform=ccrs.PlateCarree())\n",
    "plt.colorbar(h)\n",
    "ax.set_global()"
   ]
  },
  {
   "cell_type": "markdown",
   "metadata": {},
   "source": [
    "### Solution"
   ]
  },
  {
   "cell_type": "code",
   "execution_count": null,
   "metadata": {
    "hide_input": true
   },
   "outputs": [],
   "source": [
    "# get data\n",
    "lon, lat, hist = pr.lon.values, pr.lat.values, pr.hist.values\n",
    "\n",
    "# plot\n",
    "\n",
    "f = plt.figure()\n",
    "\n",
    "f.set_size_inches(15 / 2.54, 10 / 2.54)\n",
    "\n",
    "ax = plt.axes(projection=ccrs.Robinson())\n",
    "\n",
    "ax.coastlines()\n",
    "\n",
    "HIST, LON = cutil.add_cyclic_point(hist, lon)\n",
    "\n",
    "levels = np.arange(0, 3100, 1000)\n",
    "\n",
    "h = ax.contourf(LON, lat, HIST, transform=ccrs.PlateCarree(), levels=levels, extend='max')\n",
    "plt.colorbar(h)\n",
    "ax.set_global()"
   ]
  },
  {
   "cell_type": "markdown",
   "metadata": {},
   "source": [
    "## `contour`\n",
    "\n",
    "`contour` plots contours that are not filled. `contour` basically takes the same arguments as `contourf`. It additionally takes a `linewidths` and a `linestyles` parameter. If the we choose a monochrome color, negative contours are dashed, unless otherwise specified.\n",
    "\n",
    "See the [documentation](https://matplotlib.org/api/_as_gen/matplotlib.axes.Axes.contourf.html) for details."
   ]
  },
  {
   "cell_type": "code",
   "execution_count": null,
   "metadata": {},
   "outputs": [],
   "source": [
    "# create sample data\n",
    "lon, lat, data = mpu.sample_data_map(90, 48)\n",
    "DATA, LON = cutil.add_cyclic_point(data, lon)\n",
    "\n",
    "# ====\n",
    "\n",
    "f, axes = plt.subplots(2, 1, subplot_kw=dict(projection=ccrs.PlateCarree()))\n",
    "\n",
    "ax = axes[0]\n",
    "\n",
    "ax.coastlines()\n",
    "h = ax.contour(LON, lat, DATA, levels=[-0.5, 0.75], colors='.1', transform=ccrs.PlateCarree())\n",
    "ax.set_title(\"colors='.1'; linestyles not set\")\n",
    "ax.set_global()\n",
    "\n",
    "ax = axes[1]\n",
    "\n",
    "ax.coastlines()\n",
    "h = ax.contour(LON, lat, DATA, levels=[-0.5, 0.75], colors='.1', linestyles='-', transform=ccrs.PlateCarree())\n",
    "ax.set_title(\"colors='.1', linestyles='-'\")\n",
    "ax.set_global()\n",
    "\n",
    "f.tight_layout()"
   ]
  },
  {
   "cell_type": "markdown",
   "metadata": {},
   "source": [
    "### Exercise\n",
    " * add contourlines for the relative change of precipitation in the next century\n",
    " * indicate a decrease of -25 % with brown ('#8c510a')\n",
    " * indicate an increase of 25 % with green ('#01665e')"
   ]
  },
  {
   "cell_type": "code",
   "execution_count": null,
   "metadata": {},
   "outputs": [],
   "source": [
    "# get data\n",
    "lon, lat, pr_rel = pr.lon.values, pr.lat.values, pr.pr_rel.values\n",
    "PR_REL, LON = cutil.add_cyclic_point(pr_rel, lon)\n",
    "\n",
    "# ====\n",
    "\n",
    "# plot\n",
    "\n",
    "f = plt.figure()\n",
    "\n",
    "f.set_size_inches(15 / 2.54, 10 / 2.54)\n",
    "\n",
    "ax = plt.axes(projection=ccrs.Robinson())\n",
    "\n",
    "ax.coastlines()\n",
    "\n",
    "# levels =\n",
    "colors = ['#8c510a', '#7fbc41']\n",
    "\n",
    "# h = ax.contour(...)\n",
    "\n",
    "\n",
    "ax.set_global()"
   ]
  },
  {
   "cell_type": "markdown",
   "metadata": {},
   "source": [
    "### Solution"
   ]
  },
  {
   "cell_type": "code",
   "execution_count": null,
   "metadata": {
    "hide_input": true
   },
   "outputs": [],
   "source": [
    "# get data\n",
    "lon, lat, pr_rel = pr.lon.values, pr.lat.values, pr.pr_rel.values\n",
    "PR_REL, LON = cutil.add_cyclic_point(pr_rel, lon)\n",
    "\n",
    "# plot\n",
    "\n",
    "f = plt.figure()\n",
    "\n",
    "f.set_size_inches(15 / 2.54, 10 / 2.54)\n",
    "\n",
    "ax = plt.axes(projection=ccrs.Robinson())\n",
    "\n",
    "ax.coastlines()\n",
    "\n",
    "levels = [-25, 25]\n",
    "colors = ['#8c510a', '#7fbc41']\n",
    "\n",
    "h = ax.contour(LON, lat, PR_REL, transform=ccrs.PlateCarree(), levels=levels, colors=colors)\n",
    "\n",
    "ax.set_global()"
   ]
  },
  {
   "cell_type": "markdown",
   "metadata": {},
   "source": [
    "## contour label\n",
    "\n",
    "The contour lines can be labeled by passing `h` to `ax.clabel`:"
   ]
  },
  {
   "cell_type": "code",
   "execution_count": null,
   "metadata": {},
   "outputs": [],
   "source": [
    "# create sample data\n",
    "lon, lat, data = mpu.sample_data_map(90, 48)\n",
    "DATA, LON = cutil.add_cyclic_point(data, lon)\n",
    "\n",
    "# ====\n",
    "\n",
    "f, axes = plt.subplots(1, 1, subplot_kw=dict(projection=ccrs.PlateCarree()))\n",
    "ax = axes\n",
    "\n",
    "ax.coastlines()\n",
    "h = ax.contour(LON, lat, DATA, levels=[-0.5, 0.75], transform=ccrs.PlateCarree())\n",
    "\n",
    "cl = ax.clabel(h)\n",
    "\n",
    "ax.set_global()"
   ]
  },
  {
   "cell_type": "markdown",
   "metadata": {},
   "source": [
    "## fixing the strange lines\n",
    "\n",
    "This causes 'wrong' lines. This can be fixed in three ways, none of which are entirely satisfying:\n",
    " * setting `inline=False`, however, the contour lines are not broken at the position of the text\n",
    " * not adding the cyclic point (at the cost of adding a hole)\n",
    " * changing 360 to 359.99999 in LON\n",
    " \n",
    "Note\n",
    "> You don't always get these lines, that depends on the data you are plotting"
   ]
  },
  {
   "cell_type": "code",
   "execution_count": null,
   "metadata": {},
   "outputs": [],
   "source": [
    "# create sample data\n",
    "lon, lat, data = mpu.sample_data_map(90, 48)\n",
    "DATA, LON = cutil.add_cyclic_point(data, lon)\n",
    "\n",
    "# ====\n",
    "\n",
    "f, axes = plt.subplots(3, 1, subplot_kw=dict(projection=ccrs.PlateCarree()))\n",
    "f.set_size_inches(30 / 2.54, 20 / 2.54)\n",
    "axes = axes.flatten()\n",
    "\n",
    "# ====\n",
    "\n",
    "ax = axes[0]\n",
    "ax.coastlines()\n",
    "\n",
    "h = ax.contour(LON, lat, DATA, levels=[-0.5, 0.75], transform=ccrs.PlateCarree())\n",
    "cl = ax.clabel(h, inline=False)\n",
    "\n",
    "ax.set_global()\n",
    "ax.set_title('inline=False')\n",
    "\n",
    "# ====\n",
    "\n",
    "ax = axes[1]\n",
    "ax.coastlines()\n",
    "\n",
    "h = ax.contour(lon, lat, data, levels=[-0.5, 0.75], transform=ccrs.PlateCarree())\n",
    "cl = ax.clabel(h)\n",
    "\n",
    "ax.set_global()\n",
    "ax.set_title('no cyclic point')\n",
    "\n",
    "# ====\n",
    "\n",
    "ax = axes[2]\n",
    "ax.coastlines()\n",
    "\n",
    "LON[-1] = 359.99999\n",
    "\n",
    "h = ax.contour(LON, lat, DATA, levels=[-0.5, 0.75], transform=ccrs.PlateCarree())\n",
    "cl = ax.clabel(h)\n",
    "\n",
    "ax.set_global()\n",
    "ax.set_title('LON[-1] = 359.99999');\n"
   ]
  },
  {
   "cell_type": "markdown",
   "metadata": {},
   "source": [
    "### Exercise\n",
    " * add labels to the contourlines for the relative change of precipitation\n",
    " * Specify the number format as `fmt='%1.0f %%'` to get '25 %'"
   ]
  },
  {
   "cell_type": "code",
   "execution_count": null,
   "metadata": {},
   "outputs": [],
   "source": [
    "# get data\n",
    "lon, lat, pr_rel = pr.lon.values, pr.lat.values, pr.pr_rel.values\n",
    "PR_REL, LON = cutil.add_cyclic_point(pr_rel, lon)\n",
    "\n",
    "# plot\n",
    "\n",
    "f = plt.figure()\n",
    "\n",
    "f.set_size_inches(15 / 2.54, 10 / 2.54)\n",
    "\n",
    "ax = plt.axes(projection=ccrs.Robinson())\n",
    "\n",
    "ax.coastlines()\n",
    "\n",
    "levels = [-25, 25]\n",
    "colors = ['#8c510a', '#7fbc41']\n",
    "\n",
    "h = ax.contour(LON, lat, PR_REL, transform=ccrs.PlateCarree(), levels=levels, colors=colors)\n",
    "\n",
    "#code here\n",
    "\n",
    "\n",
    "ax.set_global()"
   ]
  },
  {
   "cell_type": "markdown",
   "metadata": {},
   "source": [
    "### Solution"
   ]
  },
  {
   "cell_type": "code",
   "execution_count": null,
   "metadata": {
    "hide_input": true
   },
   "outputs": [],
   "source": [
    "# get data\n",
    "lon, lat, pr_rel = pr.lon.values, pr.lat.values, pr.pr_rel.values\n",
    "PR_REL, LON = cutil.add_cyclic_point(pr_rel, lon)\n",
    "\n",
    "# plot\n",
    "\n",
    "f = plt.figure()\n",
    "\n",
    "f.set_size_inches(15 / 2.54, 10 / 2.54)\n",
    "\n",
    "ax = plt.axes(projection=ccrs.Robinson())\n",
    "\n",
    "ax.coastlines()\n",
    "\n",
    "levels = [-25, 25]\n",
    "colors = ['#8c510a', '#7fbc41']\n",
    "\n",
    "h = ax.contour(LON, lat, PR_REL, transform=ccrs.PlateCarree(), levels=levels, colors=colors)\n",
    "cl = ax.clabel(h, fmt='%1.0f %%')\n",
    "\n",
    "ax.set_global()"
   ]
  },
  {
   "cell_type": "markdown",
   "metadata": {},
   "source": [
    "## Bonus: xarray\n",
    "\n",
    "Again, we can use `xarray` to plot contours:\n",
    "    \n",
    "    ds.data.plot.contour(ax=ax, ...)\n",
    "\n",
    "    ds.data.plot.contourf(ax=ax, ...)\n",
    "\n",
    "### Open temperature field from CESM"
   ]
  },
  {
   "cell_type": "code",
   "execution_count": null,
   "metadata": {},
   "outputs": [],
   "source": [
    "fN = '../data/cesm_temp.nc'\n",
    "\n",
    "cesm = xr.open_dataset(fN)"
   ]
  },
  {
   "cell_type": "markdown",
   "metadata": {},
   "source": [
    "Note that xarray\n",
    " * automatically chooses a divergent colormap if the values cross 0\n",
    " * automatically set `extent` appropriately"
   ]
  },
  {
   "cell_type": "code",
   "execution_count": null,
   "metadata": {},
   "outputs": [],
   "source": [
    "ax = plt.axes(projection=ccrs.PlateCarree())\n",
    "\n",
    "ax.coastlines()\n",
    "\n",
    "temp = cesm.temp - 273.15\n",
    "\n",
    "levels = np.arange(-50, 51, 20)\n",
    "\n",
    "temp.plot.contourf(ax=ax, transform=ccrs.PlateCarree(), levels=levels)\n",
    "\n",
    "ax.set_global()"
   ]
  },
  {
   "cell_type": "markdown",
   "metadata": {},
   "source": [
    "### cyclic point\n",
    "\n",
    "`xarray` does not add a cyclic point. This can be achieved with a function in `mpu`."
   ]
  },
  {
   "cell_type": "code",
   "execution_count": null,
   "metadata": {},
   "outputs": [],
   "source": [
    "temp = cesm.temp - 273.15\n",
    "\n",
    "temp_cyclic = mpu.cyclic_dataarray(temp)\n",
    "\n",
    "ax = plt.axes(projection=ccrs.PlateCarree())\n",
    "\n",
    "ax.coastlines()\n",
    "\n",
    "levels = np.arange(-50, 51, 20)\n",
    "temp_cyclic.plot.contourf(ax=ax, transform=ccrs.PlateCarree(), levels=levels, extend='both')\n",
    "\n",
    "ax.set_global()"
   ]
  },
  {
   "cell_type": "markdown",
   "metadata": {},
   "source": [
    "### Exercise\n",
    "\n",
    " * plot the cmip5 precipitation data with xarray (`pr.hist`)"
   ]
  },
  {
   "cell_type": "code",
   "execution_count": null,
   "metadata": {},
   "outputs": [],
   "source": [
    "# code here"
   ]
  },
  {
   "cell_type": "markdown",
   "metadata": {},
   "source": [
    "### Solution"
   ]
  },
  {
   "cell_type": "code",
   "execution_count": null,
   "metadata": {
    "hide_input": true
   },
   "outputs": [],
   "source": [
    "ax = plt.axes(projection=ccrs.Robinson())\n",
    "\n",
    "ax.coastlines()\n",
    "\n",
    "pr_hist_cyclic = mpu.cyclic_dataarray(pr.hist)\n",
    "\n",
    "levels = np.arange(0, 3001, 1000)\n",
    "pr_hist_cyclic.plot.contourf(ax=ax, transform=ccrs.PlateCarree(), levels=levels)\n",
    "\n",
    "ax.set_global()"
   ]
  }
 ],
 "metadata": {
  "hide_input": false,
  "kernelspec": {
   "display_name": "Python 3",
   "language": "python",
   "name": "python3"
  },
  "language_info": {
   "codemirror_mode": {
    "name": "ipython",
    "version": 3
   },
   "file_extension": ".py",
   "mimetype": "text/x-python",
   "name": "python",
   "nbconvert_exporter": "python",
   "pygments_lexer": "ipython3",
   "version": "3.6.5"
  }
 },
 "nbformat": 4,
 "nbformat_minor": 2
}
