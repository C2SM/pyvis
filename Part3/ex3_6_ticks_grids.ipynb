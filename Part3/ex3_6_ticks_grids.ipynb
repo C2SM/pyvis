{
 "cells": [
  {
   "cell_type": "markdown",
   "metadata": {},
   "source": [
    "# Exercise 3.6 Ticks and Grids for maps (cartopy)\n",
    "prepared by M.Hauser\n",
    "\n",
    "In this exercise we look how we can add ticks, gridlines and ticklabels to maps. This may well be the least developed part of cartopy...\n",
    "\n",
    "Note that most of what we show here for georeferenced plots does *NOT* apply for normal ticklabels."
   ]
  },
  {
   "cell_type": "code",
   "execution_count": null,
   "metadata": {},
   "outputs": [],
   "source": [
    "import cartopy.crs as ccrs\n",
    "import cartopy.util as cutil\n",
    "import cartopy.feature as cfeature\n",
    "\n",
    "import matplotlib.pyplot as plt\n",
    "import numpy as np\n",
    "\n",
    "import seaborn as sns\n",
    "import xarray as xr\n",
    "\n",
    "%matplotlib inline"
   ]
  },
  {
   "cell_type": "code",
   "execution_count": null,
   "metadata": {},
   "outputs": [],
   "source": [
    "import mplotutils as mpu"
   ]
  },
  {
   "cell_type": "markdown",
   "metadata": {},
   "source": [
    "## Ticks\n",
    "\n",
    "You can add ticks and format the tick labels like so:\n",
    "\n",
    "``` python\n",
    "    # set the ticks\n",
    "    ax.set_xticks(lon, crs=ccrs.PlateCarree())\n",
    "    # format the ticks as e.g 60°W\n",
    "    ax.xaxis.set_major_formatter(LongitudeFormatter())\n",
    "\n",
    "```\n",
    "\n",
    "Note:\n",
    "\n",
    " > `ax.set_global()` or `ax.set_extent(...)` is required\n",
    " \n",
    " > lon must be from -180 to 180, and not from 0 to 360 (not sure why)"
   ]
  },
  {
   "cell_type": "code",
   "execution_count": null,
   "metadata": {},
   "outputs": [],
   "source": [
    "from cartopy.mpl.ticker import LongitudeFormatter, LatitudeFormatter"
   ]
  },
  {
   "cell_type": "code",
   "execution_count": null,
   "metadata": {},
   "outputs": [],
   "source": [
    "f, ax = plt.subplots(1, 1, subplot_kw=dict(projection=ccrs.PlateCarree()))\n",
    "\n",
    "ax.coastlines()\n",
    "\n",
    "lon = np.arange(-180, 181, 60)\n",
    "lat = np.arange(-90, 91, 30)\n",
    "\n",
    "# set the ticks\n",
    "ax.set_xticks(lon, crs=ccrs.PlateCarree());\n",
    "ax.set_yticks(lat, crs=ccrs.PlateCarree());\n",
    "\n",
    "# format the ticks as e.g 60°W\n",
    "ax.xaxis.set_major_formatter(LongitudeFormatter())\n",
    "ax.yaxis.set_major_formatter(LatitudeFormatter())\n",
    "\n",
    "ax.set_global()\n",
    "\n",
    "ax.set_ylabel('lat')\n",
    "ax.set_xlabel('lon')"
   ]
  },
  {
   "cell_type": "markdown",
   "metadata": {},
   "source": [
    "### Exercise\n",
    "\n",
    " * add ticks for this Central European region\n",
    "\n",
    "> Note: If you try to set a tick at +- 90°, this will cause an error, because +- 90° is at +- infinity on the Mercartor Projection."
   ]
  },
  {
   "cell_type": "code",
   "execution_count": null,
   "metadata": {},
   "outputs": [],
   "source": [
    "f, ax = plt.subplots(1, 1, subplot_kw=dict(projection=ccrs.Mercator()))\n",
    "\n",
    "# load borders\n",
    "borders_50m = cfeature.NaturalEarthFeature('cultural', 'admin_0_countries', '50m',\n",
    "                                           facecolor='none', edgecolor='0.5')\n",
    "\n",
    "ax.add_feature(borders_50m)\n",
    "\n",
    "# set ticks\n",
    "\n",
    "\n",
    "ax.set_extent([-10, 20, 45, 60], ccrs.PlateCarree())"
   ]
  },
  {
   "cell_type": "markdown",
   "metadata": {},
   "source": [
    "### Solution"
   ]
  },
  {
   "cell_type": "code",
   "execution_count": null,
   "metadata": {
    "hide_input": true
   },
   "outputs": [],
   "source": [
    "f, ax = plt.subplots(1, 1, subplot_kw=dict(projection=ccrs.Mercator()))\n",
    "\n",
    "# load borders\n",
    "borders_50m = cfeature.NaturalEarthFeature('cultural', 'admin_0_countries', '50m',\n",
    "                                           facecolor='none', edgecolor='0.5')\n",
    "\n",
    "ax.add_feature(borders_50m)\n",
    "\n",
    "# set ticks\n",
    "lon = np.arange(-10, 21, 5)\n",
    "lat = np.arange(45, 61, 5)\n",
    "\n",
    "# set the ticks\n",
    "ax.set_xticks(lon, crs=ccrs.PlateCarree());\n",
    "ax.set_yticks(lat, crs=ccrs.PlateCarree());\n",
    "\n",
    "# format the ticks as e.g 60°W\n",
    "ax.xaxis.set_major_formatter(LongitudeFormatter())\n",
    "ax.yaxis.set_major_formatter(LatitudeFormatter())\n",
    "\n",
    "ax.set_extent([-10, 20, 45, 60], ccrs.PlateCarree())"
   ]
  },
  {
   "cell_type": "markdown",
   "metadata": {},
   "source": [
    "### Exercise\n",
    "\n",
    " * add ticks to a global map with a `Robinson` projection"
   ]
  },
  {
   "cell_type": "code",
   "execution_count": null,
   "metadata": {},
   "outputs": [],
   "source": [
    "f, ax = plt.subplots(1, 1, subplot_kw=dict(projection=ccrs.PlateCarree()))\n",
    "\n",
    "ax.coastlines()\n",
    "\n",
    "lon = np.arange(-180, 181, 60)\n",
    "lat = np.arange(-90, 91, 30)\n",
    "\n",
    "# set the ticks\n",
    "ax.set_xticks(lon, crs=ccrs.PlateCarree());\n",
    "ax.set_yticks(lat, crs=ccrs.PlateCarree());\n",
    "\n",
    "# format the ticks as e.g 60°W\n",
    "ax.xaxis.set_major_formatter(LongitudeFormatter())\n",
    "ax.yaxis.set_major_formatter(LatitudeFormatter())\n",
    "\n",
    "ax.set_global()\n",
    "\n",
    "ax.set_ylabel('lat')\n",
    "ax.set_xlabel('lon')"
   ]
  },
  {
   "cell_type": "markdown",
   "metadata": {},
   "source": [
    "### Solution"
   ]
  },
  {
   "cell_type": "code",
   "execution_count": null,
   "metadata": {
    "hide_input": true
   },
   "outputs": [],
   "source": [
    "f, ax = plt.subplots(1, 1, subplot_kw=dict(projection=ccrs.Robinson()))\n",
    "\n",
    "ax.coastlines()\n",
    "\n",
    "lon = np.arange(-180, 181, 60)\n",
    "lat = np.arange(-90, 91, 30)\n",
    "\n",
    "# set the ticks\n",
    "ax.set_xticks(lon, crs=ccrs.PlateCarree());\n",
    "ax.set_yticks(lat, crs=ccrs.PlateCarree());\n",
    "\n",
    "# format the ticks as e.g 60°W\n",
    "ax.xaxis.set_major_formatter(LongitudeFormatter())\n",
    "ax.yaxis.set_major_formatter(LatitudeFormatter())\n",
    "\n",
    "ax.set_global()\n",
    "\n",
    "ax.set_ylabel('lat')\n",
    "ax.set_xlabel('lon')"
   ]
  },
  {
   "cell_type": "markdown",
   "metadata": {},
   "source": [
    "### Explanation\n",
    "\n",
    "This results in an error, at the moment cartopy can only handle ticks for [rectangular coordinate systems](http://scitools.org.uk/cartopy/docs/v0.15/crs/projections.html) (`PlateCarree`, `Miller`, ...). On one side this is a (serious) limitation of cartopy, that may be corrected one day. On the other hand, there are some projections where it does not make sense to add ticks/ ticklabels, because they would all end up at the same location (e.g. the [Orthographic projection](http://scitools.org.uk/cartopy/docs/v0.15/crs/projections.html#orthographic)).\n",
    "\n",
    "## Gridlines\n",
    "\n",
    "Alternatively to ticks, you can also add gridlines."
   ]
  },
  {
   "cell_type": "code",
   "execution_count": null,
   "metadata": {},
   "outputs": [],
   "source": [
    "f, ax = plt.subplots(1, 1, subplot_kw=dict(projection=ccrs.PlateCarree()))\n",
    "\n",
    "ax.coastlines()\n",
    "\n",
    "lon = np.arange(-180, 181, 60)\n",
    "lat = np.arange(-90, 91, 30)\n",
    "\n",
    "ax.gridlines()\n",
    "\n",
    "ax.set_global()\n",
    "\n",
    "ax.set_ylabel('lat')\n",
    "ax.set_xlabel('lon')"
   ]
  },
  {
   "cell_type": "markdown",
   "metadata": {},
   "source": [
    "> Note how the `set_xlabel` and `set_ylabel` is ignored.\n",
    "\n",
    "Of course there is a helper function to still [add x- and y- labels in cartopy](https://stackoverflow.com/a/35483665/3010700) in `mplotutils`."
   ]
  },
  {
   "cell_type": "code",
   "execution_count": null,
   "metadata": {},
   "outputs": [],
   "source": [
    "f, ax = plt.subplots(1, 1, subplot_kw=dict(projection=ccrs.PlateCarree()))\n",
    "\n",
    "ax.coastlines()\n",
    "\n",
    "lon = np.arange(-180, 181, 60)\n",
    "lat = np.arange(-90, 91, 30)\n",
    "\n",
    "ax.gridlines()\n",
    "\n",
    "ax.set_global()\n",
    "\n",
    "mpu.ylabel_map('lat')\n",
    "mpu.xlabel_map('lon');"
   ]
  },
  {
   "cell_type": "markdown",
   "metadata": {},
   "source": [
    "### Exercise\n",
    "\n",
    " * try adding gridlines projections where ticks failed (e.g. `Robinson`)"
   ]
  },
  {
   "cell_type": "code",
   "execution_count": null,
   "metadata": {},
   "outputs": [],
   "source": [
    "# code here\n"
   ]
  },
  {
   "cell_type": "markdown",
   "metadata": {},
   "source": [
    "### Solution\n",
    "\n",
    "this works!"
   ]
  },
  {
   "cell_type": "code",
   "execution_count": null,
   "metadata": {
    "hide_input": true
   },
   "outputs": [],
   "source": [
    "f, ax = plt.subplots(1, 1, subplot_kw=dict(projection=ccrs.Robinson()))\n",
    "\n",
    "ax.coastlines()\n",
    "\n",
    "lon = np.arange(-180, 181, 60)\n",
    "lat = np.arange(-90, 91, 30)\n",
    "\n",
    "ax.gridlines()\n",
    "\n",
    "ax.set_global()\n",
    "\n",
    "mpu.ylabel_map('lat')\n",
    "mpu.xlabel_map('lon');"
   ]
  },
  {
   "cell_type": "markdown",
   "metadata": {},
   "source": [
    "## Gridline labels\n",
    "\n",
    "You can also add labels for gridlines, by setting `draw_labels=True`.\n",
    "\n",
    "Note:\n",
    "\n",
    "> Per default you get labels at each edge, you need to turn them off manually\n",
    "\n",
    "> You need to tell the gridliner to format the labels nicely (e.g. 60°N)\n",
    "\n",
    "> it chooses the location by itself, but this may not always be desirable\n"
   ]
  },
  {
   "cell_type": "code",
   "execution_count": null,
   "metadata": {},
   "outputs": [],
   "source": [
    "from cartopy.mpl.gridliner import LONGITUDE_FORMATTER, LATITUDE_FORMATTER"
   ]
  },
  {
   "cell_type": "code",
   "execution_count": null,
   "metadata": {},
   "outputs": [],
   "source": [
    "f, ax = plt.subplots(1, 1, subplot_kw=dict(projection=ccrs.Mercator()))\n",
    "\n",
    "# load borders\n",
    "borders_50m = cfeature.NaturalEarthFeature('cultural', 'admin_0_countries', '50m',\n",
    "                                           facecolor='none', edgecolor='0.5')\n",
    "\n",
    "ax.add_feature(borders_50m)\n",
    "\n",
    "gl = ax.gridlines(draw_labels=True)\n",
    "\n",
    "gl.xlabels_top = False\n",
    "gl.ylabels_right = False\n",
    "\n",
    "gl.xformatter = LONGITUDE_FORMATTER\n",
    "gl.yformatter = LATITUDE_FORMATTER\n",
    "\n",
    "ax.set_extent([-10, 20, 45, 60], ccrs.PlateCarree())"
   ]
  },
  {
   "cell_type": "markdown",
   "metadata": {},
   "source": [
    "### Exercise\n",
    "\n",
    " * choose the location of the x- and y- ticks manually\n",
    " * increase the box (`set_extent`) a tiny bit so all labels are added"
   ]
  },
  {
   "cell_type": "code",
   "execution_count": null,
   "metadata": {},
   "outputs": [],
   "source": [
    "ax.gridlines?"
   ]
  },
  {
   "cell_type": "code",
   "execution_count": null,
   "metadata": {},
   "outputs": [],
   "source": [
    "f, ax = plt.subplots(1, 1, subplot_kw=dict(projection=ccrs.Mercator()))\n",
    "\n",
    "# load borders\n",
    "borders_50m = cfeature.NaturalEarthFeature('cultural', 'admin_0_countries', '50m',\n",
    "                                           facecolor='none', edgecolor='0.5')\n",
    "\n",
    "ax.add_feature(borders_50m)\n",
    "\n",
    "# create lon and lat\n",
    "# lon = np.arange(...)\n",
    "# lat = np.arange(...)\n",
    "\n",
    "\n",
    "# use xlocs and ylocs\n",
    "gl = ax.gridlines(draw_labels=True)\n",
    "\n",
    "gl.xlabels_top = False\n",
    "gl.ylabels_right = False\n",
    "\n",
    "gl.xformatter = LONGITUDE_FORMATTER\n",
    "gl.yformatter = LATITUDE_FORMATTER\n",
    "\n",
    "ax.set_extent([-10, 20, 45, 60], ccrs.PlateCarree())"
   ]
  },
  {
   "cell_type": "markdown",
   "metadata": {},
   "source": [
    "### Solution"
   ]
  },
  {
   "cell_type": "code",
   "execution_count": null,
   "metadata": {
    "hide_input": true
   },
   "outputs": [],
   "source": [
    "f, ax = plt.subplots(1, 1, subplot_kw=dict(projection=ccrs.Mercator()))\n",
    "\n",
    "# load borders\n",
    "borders_50m = cfeature.NaturalEarthFeature('cultural', 'admin_0_countries', '50m',\n",
    "                                           facecolor='none', edgecolor='0.5')\n",
    "\n",
    "ax.add_feature(borders_50m)\n",
    "\n",
    "lon = np.arange(-10, 21, 5)\n",
    "lat = np.arange(45, 61, 2.5)\n",
    "\n",
    "gl = ax.gridlines(xlocs=lon, ylocs=lat, draw_labels=True)\n",
    "\n",
    "gl.xlabels_top = False\n",
    "gl.ylabels_right = False\n",
    "\n",
    "gl.xformatter = LONGITUDE_FORMATTER\n",
    "gl.yformatter = LATITUDE_FORMATTER\n",
    "\n",
    "ax.set_extent([-10.1, 20.1, 44.9, 60.1], ccrs.PlateCarree())"
   ]
  },
  {
   "cell_type": "markdown",
   "metadata": {},
   "source": [
    "### Exercise\n",
    "\n",
    " * try to add labels for a global map with the Robinson projection"
   ]
  },
  {
   "cell_type": "code",
   "execution_count": null,
   "metadata": {},
   "outputs": [],
   "source": [
    "# code here\n"
   ]
  },
  {
   "cell_type": "markdown",
   "metadata": {},
   "source": [
    "### Solution"
   ]
  },
  {
   "cell_type": "code",
   "execution_count": null,
   "metadata": {
    "hide_input": true
   },
   "outputs": [],
   "source": [
    "f, ax = plt.subplots(1, 1, subplot_kw=dict(projection=ccrs.Robinson()))\n",
    "\n",
    "ax.coastlines()\n",
    "\n",
    "gl = ax.gridlines(draw_labels=True)\n",
    "\n",
    "gl.xlabels_top = False\n",
    "gl.ylabels_right = False\n",
    "\n",
    "gl.xformatter = LONGITUDE_FORMATTER\n",
    "gl.yformatter = LATITUDE_FORMATTER\n",
    "\n",
    "ax.set_global()"
   ]
  },
  {
   "cell_type": "markdown",
   "metadata": {},
   "source": [
    "## This fails as well - what to do?\n",
    "\n",
    "This problem is actually quite difficult to solve. I provide an incomplete (and not very well tested) solution to add ticks for more projections:"
   ]
  },
  {
   "cell_type": "code",
   "execution_count": null,
   "metadata": {},
   "outputs": [],
   "source": [
    "f, ax = plt.subplots(1, 1, subplot_kw=dict(projection=ccrs.Robinson()))\n",
    "\n",
    "ax.coastlines()\n",
    "\n",
    "ax.set_global()\n",
    "\n",
    "lat = np.arange(-90, 91, 20)\n",
    "lon = np.arange(-180, 181, 60)\n",
    "\n",
    "gl = ax.gridlines(ylocs=lat, xlocs=lon)\n",
    "\n",
    "mpu.yticklabels(lat, ax=ax, size=8)\n",
    "mpu.xticklabels(lon, ax=ax, size=8)"
   ]
  },
  {
   "cell_type": "markdown",
   "metadata": {},
   "source": [
    "### Exercise\n",
    "\n",
    " * add ticklabels to the following regional plot\n",
    " \n",
    "Note\n",
    "> you need to call `set_extent` *before* `mpu.yticklabels`"
   ]
  },
  {
   "cell_type": "code",
   "execution_count": null,
   "metadata": {},
   "outputs": [],
   "source": [
    "f, ax = plt.subplots(1, 1, subplot_kw=dict(projection=ccrs.Robinson()))\n",
    "\n",
    "# load borders\n",
    "borders_50m = cfeature.NaturalEarthFeature('cultural', 'admin_0_countries', '50m',\n",
    "                                           facecolor='none', edgecolor='0.5')\n",
    "\n",
    "ax.add_feature(borders_50m)\n",
    "\n",
    "lon = np.arange(-15, 26, 5)\n",
    "lat = np.arange(45, 66, 5)\n",
    "\n",
    "gl = ax.gridlines(xlocs=lon, ylocs=lat)\n",
    "\n",
    "ax.set_extent([-10.1, 20.1, 44.9, 61.1], ccrs.PlateCarree())\n",
    "\n",
    "# add labels\n"
   ]
  },
  {
   "cell_type": "markdown",
   "metadata": {},
   "source": [
    "### Solution"
   ]
  },
  {
   "cell_type": "code",
   "execution_count": null,
   "metadata": {
    "hide_input": true
   },
   "outputs": [],
   "source": [
    "f, ax = plt.subplots(1, 1, subplot_kw=dict(projection=ccrs.Robinson()))\n",
    "\n",
    "# load borders\n",
    "borders_50m = cfeature.NaturalEarthFeature('cultural', 'admin_0_countries', '50m',\n",
    "                                           facecolor='none', edgecolor='0.5')\n",
    "\n",
    "ax.add_feature(borders_50m)\n",
    "\n",
    "lon = np.arange(-15, 26, 5)\n",
    "lat = np.arange(45, 66, 2.5)\n",
    "\n",
    "gl = ax.gridlines(xlocs=lon, ylocs=lat)\n",
    "\n",
    "ax.set_extent([-10.1, 20.1, 44.9, 61.1], ccrs.PlateCarree())\n",
    "\n",
    "mpu.yticklabels(lat, ax=ax)\n",
    "mpu.xticklabels(lon, ax=ax)"
   ]
  },
  {
   "cell_type": "markdown",
   "metadata": {},
   "source": [
    "## However,\n",
    "\n",
    "this approach does not work if all labels fall into one place:"
   ]
  },
  {
   "cell_type": "code",
   "execution_count": null,
   "metadata": {},
   "outputs": [],
   "source": [
    "f, ax = plt.subplots(1, 1, subplot_kw=dict(projection=ccrs.Sinusoidal()))\n",
    "\n",
    "ax.coastlines()\n",
    "\n",
    "ax.set_global()\n",
    "\n",
    "lat = np.arange(-90, 91, 30)\n",
    "lon = np.arange(-180, 361, 30)\n",
    "\n",
    "gl = ax.gridlines(ylocs=lat, xlocs=lon)\n",
    "\n",
    "mpu.yticklabels(lat, ax=ax, size=8, labelpad=[4, 20])\n",
    "mpu.xticklabels(lon, ax=ax, size=8)"
   ]
  },
  {
   "cell_type": "markdown",
   "metadata": {},
   "source": [
    "### Exercise\n",
    " * manually add labels for the longitude, using ax.text\n",
    " * bonus: set the background to a semi-transparent white (Hint: `bbox=dict(...)`)"
   ]
  },
  {
   "cell_type": "code",
   "execution_count": null,
   "metadata": {},
   "outputs": [],
   "source": [
    "ax.text?"
   ]
  },
  {
   "cell_type": "code",
   "execution_count": null,
   "metadata": {},
   "outputs": [],
   "source": [
    "f, ax = plt.subplots(1, 1, subplot_kw=dict(projection=ccrs.Sinusoidal()))\n",
    "\n",
    "ax.coastlines()\n",
    "\n",
    "ax.set_global()\n",
    "    \n",
    "lat = np.arange(-90, 91, 30)\n",
    "lon = np.arange(-180, 181, 60)\n",
    "\n",
    "gl = ax.gridlines(ylocs=lat, xlocs=lon)\n",
    "\n",
    "mpu.yticklabels(lat, ax=ax, size=8, labelpad=[4, 20])\n",
    "\n",
    "for l in lon[1:]:\n",
    "    \n",
    "    msg = LONGITUDE_FORMATTER(l)\n",
    "\n",
    "    # add textbox here\n",
    "    \n"
   ]
  },
  {
   "cell_type": "markdown",
   "metadata": {},
   "source": [
    "### Solution"
   ]
  },
  {
   "cell_type": "code",
   "execution_count": null,
   "metadata": {
    "hide_input": true
   },
   "outputs": [],
   "source": [
    "f, ax = plt.subplots(1, 1, subplot_kw=dict(projection=ccrs.Sinusoidal()))\n",
    "\n",
    "ax.coastlines()\n",
    "\n",
    "ax.set_global()\n",
    "    \n",
    "lat = np.arange(-90, 91, 30)\n",
    "lon = np.arange(-180, 181, 60)\n",
    "\n",
    "gl = ax.gridlines(ylocs=lat, xlocs=lon)\n",
    "\n",
    "mpu.yticklabels(lat, ax=ax, size=8, labelpad=[4, 20])\n",
    "\n",
    "bbox_props = dict(fc='w', ec='none', alpha=0.75)\n",
    "\n",
    "for l in lon[1:]:\n",
    "    \n",
    "    msg = LONGITUDE_FORMATTER(l)\n",
    "    \n",
    "    ax.text(l, 0, msg, va='center', ha='center', transform=ccrs.PlateCarree(),\n",
    "            fontsize=8, bbox=bbox_props)\n",
    "\n"
   ]
  }
 ],
 "metadata": {
  "hide_input": false,
  "kernelspec": {
   "display_name": "Python 3",
   "language": "python",
   "name": "python3"
  },
  "language_info": {
   "codemirror_mode": {
    "name": "ipython",
    "version": 3
   },
   "file_extension": ".py",
   "mimetype": "text/x-python",
   "name": "python",
   "nbconvert_exporter": "python",
   "pygments_lexer": "ipython3",
   "version": "3.6.5"
  }
 },
 "nbformat": 4,
 "nbformat_minor": 2
}
