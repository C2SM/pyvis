{
 "cells": [
  {
   "cell_type": "markdown",
   "metadata": {},
   "source": [
    "# Exercise 3.5 Stippling (cartopy)\n",
    "prepared by M.Hauser\n",
    "\n",
    "Stippling in pyplot is done with the function `contourf`.\n",
    "\n",
    "Note that most of what we show here for georeferenced plots also applies for stippling when you are not using cartopy.\n",
    "\n",
    "## Import libraries"
   ]
  },
  {
   "cell_type": "code",
   "execution_count": null,
   "metadata": {},
   "outputs": [],
   "source": [
    "import cartopy.crs as ccrs\n",
    "import cartopy.util as cutil\n",
    "\n",
    "import matplotlib.pyplot as plt\n",
    "import numpy as np\n",
    "\n",
    "import seaborn as sns\n",
    "import xarray as xr\n",
    "\n",
    "%matplotlib inline"
   ]
  },
  {
   "cell_type": "code",
   "execution_count": null,
   "metadata": {},
   "outputs": [],
   "source": [
    "import mplotutils as mpu"
   ]
  },
  {
   "cell_type": "markdown",
   "metadata": {},
   "source": [
    "## stippling $\\rightarrow$ hatching\n",
    "\n",
    "Stippling is called hatching in matplotlib.\n",
    "\n",
    "`contourf`, takes a `hatches` keyword, and you have to specify one hatch-pattern per drawn level. The pattern are determined via characters, e.g. using `'/'` yields diagonal lines.\n",
    "\n",
    "The hatching is more dense if the character is repeated, e.g.: `'///'`.\n",
    "\n",
    "Specifying an empty string (`''`) omits the hatching."
   ]
  },
  {
   "cell_type": "code",
   "execution_count": null,
   "metadata": {},
   "outputs": [],
   "source": [
    "# create sample data\n",
    "lon, lat, data = mpu.sample_data_map(90, 48)\n",
    "\n",
    "# ====\n",
    "\n",
    "f, ax = plt.subplots(1, 1, subplot_kw=dict(projection=ccrs.PlateCarree()))\n",
    "\n",
    "ax.coastlines()\n",
    "\n",
    "DATA, LON = cutil.add_cyclic_point(data, lon)\n",
    "\n",
    "# ====\n",
    "\n",
    "# add 3 levels\n",
    "levels = [-1, -0.5, 0.5, 1]\n",
    "\n",
    "# set hatching for each level\n",
    "hatches = ['/', '', '////' ]\n",
    "\n",
    "h = ax.contourf(LON, lat, DATA, levels=levels, hatches=hatches, cmap='RdBu')\n",
    "\n",
    "# ====\n",
    "\n",
    "ax.set_global()\n",
    "\n",
    "# add colorbar \n",
    "mpu.colorbar(h, ax, aspect=15)\n",
    "\n",
    "plt.draw()"
   ]
  },
  {
   "cell_type": "markdown",
   "metadata": {},
   "source": [
    "## Hatch patterns\n",
    "\n",
    "Most of the hatch patterns are quite intuitive:\n",
    "\n",
    "    patterns = [ \"/\" , \"\\\\\" , \"|\" , \"-\" , \"+\" , \"x\", \"o\", \"O\", \".\", \"*\" ]\n",
    "\n",
    "They are nicely visualized in the next figure (after an [stackoverflow answer](https://stackoverflow.com/a/14279608)). Not only `contourf`, other functions also take a hatch keyword, e.g. `bar`. \n",
    "\n",
    "(However, `pcolormesh` does not, although the documentation says so.)"
   ]
  },
  {
   "cell_type": "code",
   "execution_count": null,
   "metadata": {},
   "outputs": [],
   "source": [
    "f, ax = plt.subplots()\n",
    "\n",
    "patterns = [ \"/\" , \"\\\\\" , \"|\" , \"-\" , \"+\" , \"x\", \"o\", \"O\", \".\", \"*\", '/.' ]\n",
    "\n",
    "for i, pattern in enumerate(patterns):\n",
    "    ax.bar(i, 3, color='none', edgecolor='k', hatch=pattern)\n"
   ]
  },
  {
   "cell_type": "markdown",
   "metadata": {},
   "source": [
    "Note that \\ is an escape character. Therefore, `'\\'` is not a valid string. You can either escape the escape character, using `'\\\\'` or add a space `'\\ '`."
   ]
  },
  {
   "cell_type": "markdown",
   "metadata": {},
   "source": [
    "## Load CMIP 5 data: historical precipitation climatology (1986 to 2005)\n",
    "\n",
    "Load historical, and projected climatological precipitation, as well as the relative change between them, from all CMIP5 models for RCP8.5 (Taylor et al., 2012).\n",
    "\n",
    "The data was prepared in [another notebook](../data/prepare_CMIP5_map.ipynb)."
   ]
  },
  {
   "cell_type": "code",
   "execution_count": null,
   "metadata": {},
   "outputs": [],
   "source": [
    "fN = '../data/cmip5_delta_pr_rcp85_map.nc'\n",
    "\n",
    "pr = xr.open_dataset(fN)\n",
    "\n",
    "pr"
   ]
  },
  {
   "cell_type": "markdown",
   "metadata": {},
   "source": [
    "### Exercise\n",
    " * add hatches for precipitation changes larger than +- 20 % (don't change `levels`)"
   ]
  },
  {
   "cell_type": "code",
   "execution_count": null,
   "metadata": {},
   "outputs": [],
   "source": [
    "# get data\n",
    "lon, lat, pr_rel = pr.lon.values, pr.lat.values, pr.pr_rel.values\n",
    "\n",
    "# plot\n",
    "f, ax = plt.subplots(1, 1, subplot_kw=dict(projection=ccrs.Robinson()))\n",
    "\n",
    "ax.coastlines()\n",
    "\n",
    "PR_REL, LON = cutil.add_cyclic_point(pr_rel, lon)\n",
    "\n",
    "# set levels\n",
    "levels = np.arange(-20, 101, 20)\n",
    "\n",
    "# add hatches\n",
    "# hatches =  [...]\n",
    "\n",
    "h = ax.contourf(LON, lat, PR_REL, transform=ccrs.PlateCarree(), levels=levels, extend='both')\n",
    "\n",
    "ax.set_global()\n",
    "\n",
    "# add colorbar\n",
    "mpu.colorbar(h, ax, spacing='proportional', aspect=15)\n",
    "\n",
    "plt.draw()"
   ]
  },
  {
   "cell_type": "markdown",
   "metadata": {},
   "source": [
    "### Solution"
   ]
  },
  {
   "cell_type": "code",
   "execution_count": null,
   "metadata": {
    "hide_input": true
   },
   "outputs": [],
   "source": [
    "# get data\n",
    "lon, lat, pr_rel = pr.lon.values, pr.lat.values, pr.pr_rel.values\n",
    "\n",
    "# plot\n",
    "f, ax = plt.subplots(1, 1, subplot_kw=dict(projection=ccrs.Robinson()))\n",
    "\n",
    "ax.coastlines()\n",
    "\n",
    "PR_REL, LON = cutil.add_cyclic_point(pr_rel, lon)\n",
    "\n",
    "# set levels\n",
    "levels = np.arange(-20, 101, 20)\n",
    "\n",
    "# add hatches\n",
    "hatches =  ['\\\\\\\\', '', '', '//', '//', '//', '//', '//']\n",
    "\n",
    "h = ax.contourf(LON, lat, PR_REL, transform=ccrs.PlateCarree(), levels=levels, hatches=hatches, extend='both')\n",
    "\n",
    "ax.set_global()\n",
    "\n",
    "# add colorbar\n",
    "mpu.colorbar(h, ax, spacing='proportional', aspect=15)\n",
    "\n",
    "plt.draw()"
   ]
  },
  {
   "cell_type": "markdown",
   "metadata": {},
   "source": [
    "### Better Solution\n",
    "\n",
    "When you look closely, you can see that some of the hatch-lines are broken. It's actually better if you add a second contourf command, with only 3 levels, so that the entire area gets hatched in one go. You can then remove the colored patches with `colors='none'`:"
   ]
  },
  {
   "cell_type": "code",
   "execution_count": null,
   "metadata": {},
   "outputs": [],
   "source": [
    "# get data\n",
    "lon, lat, pr_rel = pr.lon.values, pr.lat.values, pr.pr_rel.values\n",
    "\n",
    "# plot\n",
    "f, ax = plt.subplots(1, 1, subplot_kw=dict(projection=ccrs.Robinson()))\n",
    "\n",
    "ax.coastlines()\n",
    "\n",
    "PR_REL, LON = cutil.add_cyclic_point(pr_rel, lon)\n",
    "\n",
    "# set levels\n",
    "levels = np.arange(-20, 101, 20)\n",
    "h = ax.contourf(LON, lat, PR_REL, transform=ccrs.PlateCarree(), levels=levels, extend='both')\n",
    "\n",
    "\n",
    "# Second contourf command, only for the hatching. Note how there is no h = ..., so that\n",
    "# the colorbar is correct. \n",
    "\n",
    "# set levels\n",
    "levels = [-20, 20]\n",
    "\n",
    "# add hatches\n",
    "hatches =  ['\\\\\\\\', '', '//']\n",
    "ax.contourf(LON, lat, PR_REL, transform=ccrs.PlateCarree(), levels=levels, hatches=hatches,\n",
    "                extend='both', colors='none')\n",
    "\n",
    "ax.set_global()\n",
    "\n",
    "# add colorbar\n",
    "mpu.colorbar(h, ax, spacing='proportional', aspect=15)\n",
    "plt.draw()"
   ]
  },
  {
   "cell_type": "markdown",
   "metadata": {},
   "source": [
    "## Significance hatching\n",
    "\n",
    "Often we don't want to hatch the same values that we color, but, e.g. stipple significant parts of the data. I recommend to do this in five steps:\n",
    "\n",
    "1. plot contourf of the significance values\n",
    "* determine the levels (e.g. `[0, 0.1, 1]`)\n",
    "* add the hatches (e.g. `['...', '']`)\n",
    "* remove the colors with `colors='none'` & get rid of the colorbar\n",
    "* add the actual data you want to plot"
   ]
  },
  {
   "cell_type": "markdown",
   "metadata": {},
   "source": [
    "### Loading Data\n",
    "\n",
    "For this example we use data contributed by a course participant. \n",
    "\n",
    "The data is ranked probability skill scores (RPSS) of ECMWF system 4 seasonal tercile forecasts verified against ERA-Interim on a global 1° x 1° grid. Additionally, the dataset contains the variable `signif` that indicates grid points with a significant improvement in skill. `signif` is given as boolean, 0 means, no improvement, 1 means an improvement.\n",
    "\n",
    "Due to the resolution the plotting will take a moment."
   ]
  },
  {
   "cell_type": "code",
   "execution_count": null,
   "metadata": {},
   "outputs": [],
   "source": [
    "fN = '../data/globalRPSS.nc'\n",
    "\n",
    "ds = xr.open_dataset(fN)\n",
    "ds"
   ]
  },
  {
   "cell_type": "code",
   "execution_count": null,
   "metadata": {},
   "outputs": [],
   "source": [
    "# create sample data\n",
    "\n",
    "lat = ds.latitude.values\n",
    "\n",
    "SIG, LON = cutil.add_cyclic_point(ds.signif.values, ds.longitude.values)\n",
    "\n",
    "# =====\n",
    "\n",
    "f, axes = plt.subplots(2, 2, subplot_kw=dict(projection=ccrs.PlateCarree()), gridspec_kw=dict(wspace=0.4))\n",
    "\n",
    "f.set_size_inches(20 / 2.54, 12 / 2.54)\n",
    "axes = axes.flatten()\n",
    "# =====\n",
    "\n",
    "ax = axes[0]\n",
    "h = ax.contourf(LON, lat, SIG, 4)\n",
    "mpu.colorbar(h, ax, aspect=10)\n",
    "ax.set_title('Step 1: raw contourf')\n",
    "\n",
    "# =====\n",
    "\n",
    "ax = axes[1]\n",
    "levels = [0, 0.5, 1]\n",
    "h = ax.contourf(LON, lat, SIG, levels=levels)\n",
    "mpu.colorbar(h, ax, aspect=10)\n",
    "ax.set_title('Step 2: levels')\n",
    "\n",
    "# =====\n",
    "\n",
    "ax = axes[2]\n",
    "levels = [0, 0.5, 1]\n",
    "hatches = ['', '...']\n",
    "h = ax.contourf(LON, lat, SIG, levels=levels, hatches=hatches)\n",
    "mpu.colorbar(h, ax, aspect=10)\n",
    "ax.set_title('Step 3: hatching')\n",
    "\n",
    "# =====\n",
    "ax = axes[3]\n",
    "levels = [0, 0.5, 1]\n",
    "hatches = ['', '...']\n",
    "#h = ax.contourf(LON, lat, SIG, levels=levels)\n",
    "h = ax.contourf(LON, lat, SIG, levels=levels, hatches=hatches, colors='none')\n",
    "\n",
    "ax.set_title('Step 4: remove color & bar')\n",
    "\n",
    "# =====\n",
    "\n",
    "for ax in axes:\n",
    "    ax.set_global()\n",
    "    ax.coastlines()"
   ]
  },
  {
   "cell_type": "markdown",
   "metadata": {},
   "source": [
    "I would not actually do a four-panel plot. But repeat the same plot over and over, doing one step after the other.\n",
    "\n",
    "### Final figure"
   ]
  },
  {
   "cell_type": "code",
   "execution_count": null,
   "metadata": {},
   "outputs": [],
   "source": [
    "# get data\n",
    "lat = ds.latitude.values\n",
    "\n",
    "SIG, LON = cutil.add_cyclic_point(ds.signif.values, ds.longitude.values)\n",
    "\n",
    "# ========================================\n",
    "\n",
    "f, ax = plt.subplots(1, 1, subplot_kw=dict(projection=ccrs.PlateCarree()), gridspec_kw=dict(wspace=0.4))\n",
    "\n",
    "f.subplots_adjust(left=0.1, right=0.8)\n",
    "\n",
    "# =====\n",
    "\n",
    "# plot RPSS data\n",
    "\n",
    "levels = np.arange(-0.8, 1.1, 0.2)\n",
    "\n",
    "# create norm & cmap to plot levels\n",
    "cmap, norm = mpu.from_levels_and_cmap(levels, 'RdYlBu_r', extend='min')\n",
    "\n",
    "h = ax.pcolormesh(*mpu.infer_interval_breaks(ds.longitude, ds.latitude, clip=True), ds.RPSS,\n",
    "                  transform=ccrs.PlateCarree(), cmap=cmap, norm=norm, vmax=1, vmin=-1)\n",
    "\n",
    "cbar = mpu.colorbar(h, ax, extendfrac=0.1, aspect=15)\n",
    "\n",
    "levels = [0, 0.5, 1]\n",
    "hatches = ['', '...']\n",
    "ax.contourf(LON, lat, SIG, levels=levels, hatches=hatches, colors='none')\n",
    "\n",
    "ax.set_title('Step 5: plot the actual data')\n",
    "\n",
    "#ax.set_title('T2M: Ranked probability skill score, JJA')\n",
    "\n",
    "# =====\n",
    "\n",
    "ax.set_global()\n",
    "ax.coastlines();\n",
    "\n",
    "plt.draw()\n",
    "#plt.savefig('ex3_5_stippling_RPSS.png', dpi=300)"
   ]
  },
  {
   "cell_type": "markdown",
   "metadata": {},
   "source": [
    "### Exercise - Step 1\n",
    "\n",
    "The precipitation data from CMIP5 contains p values, indicating where the change between the historical and future period is significant (note: this is derived from a simple t-test, which is not necessarily appropriate for the data).\n",
    "\n",
    "* use contourf to plot the p-values\n",
    "\n",
    "Note: it's p-values and not a boolean indicating significance as above."
   ]
  },
  {
   "cell_type": "code",
   "execution_count": null,
   "metadata": {},
   "outputs": [],
   "source": [
    "# get data\n",
    "lon, lat, pval = pr.lon.values, pr.lat.values, pr.pval.values\n",
    "\n",
    "\n",
    "# plot\n",
    "f, ax = plt.subplots(1, 1, subplot_kw=dict(projection=ccrs.Robinson()))\n",
    "\n",
    "ax.coastlines()\n",
    "\n",
    "PVAL, LON = cutil.add_cyclic_point(pval, lon)\n",
    "\n",
    "# plot pvalues here\n",
    "#h = ax.contourf(...)\n",
    "            \n",
    "ax.set_global()\n",
    "\n",
    "# add colorbar\n",
    "mpu.colorbar(h, ax, spacing='proportional')\n",
    "\n",
    "plt.draw()"
   ]
  },
  {
   "cell_type": "markdown",
   "metadata": {},
   "source": [
    "### Solution"
   ]
  },
  {
   "cell_type": "code",
   "execution_count": null,
   "metadata": {
    "hide_input": true
   },
   "outputs": [],
   "source": [
    "# get data\n",
    "lon, lat, pval = pr.lon.values, pr.lat.values, pr.pval.values\n",
    "\n",
    "\n",
    "# plot\n",
    "f, ax = plt.subplots(1, 1, subplot_kw=dict(projection=ccrs.Robinson()))\n",
    "\n",
    "ax.coastlines()\n",
    "\n",
    "PVAL, LON = cutil.add_cyclic_point(pval, lon)\n",
    "\n",
    "# plot pvalues here\n",
    "h = ax.contourf(LON, lat, PVAL, transform=ccrs.PlateCarree())\n",
    "            \n",
    "ax.set_global()\n",
    "\n",
    "# add colorbar\n",
    "mpu.colorbar(h, ax, spacing='proportional')\n",
    "\n",
    "plt.draw()"
   ]
  },
  {
   "cell_type": "markdown",
   "metadata": {},
   "source": [
    "### Exercise - Step 2 & 3\n",
    "\n",
    "* We want to stipple everything with a p-value smaller than 0.1: determine the levels\n",
    "* add the hatches"
   ]
  },
  {
   "cell_type": "code",
   "execution_count": null,
   "metadata": {},
   "outputs": [],
   "source": [
    "# get data\n",
    "lon, lat, pval = pr.lon.values, pr.lat.values, pr.pval.values\n",
    "\n",
    "\n",
    "# plot\n",
    "f, ax = plt.subplots(1, 1, subplot_kw=dict(projection=ccrs.Robinson()))\n",
    "\n",
    "ax.coastlines()\n",
    "\n",
    "PVAL, LON = cutil.add_cyclic_point(pval, lon)\n",
    "\n",
    "# set the levels\n",
    "# levels = \n",
    "\n",
    "# add hatches\n",
    "# hatches = [...]\n",
    "\n",
    "h = ax.contourf(LON, lat, PVAL, transform=ccrs.PlateCarree())\n",
    "            \n",
    "ax.set_global()\n",
    "\n",
    "# add colorbar\n",
    "mpu.colorbar(h, ax, spacing='proportional')\n",
    "\n",
    "plt.draw()"
   ]
  },
  {
   "cell_type": "markdown",
   "metadata": {},
   "source": [
    "### Solution"
   ]
  },
  {
   "cell_type": "code",
   "execution_count": null,
   "metadata": {
    "hide_input": true
   },
   "outputs": [],
   "source": [
    "# get data\n",
    "lon, lat, pval = pr.lon.values, pr.lat.values, pr.pval.values\n",
    "\n",
    "\n",
    "# plot\n",
    "f, ax = plt.subplots(1, 1, subplot_kw=dict(projection=ccrs.Robinson()))\n",
    "\n",
    "ax.coastlines()\n",
    "\n",
    "PVAL, LON = cutil.add_cyclic_point(pval, lon)\n",
    "\n",
    "# set the levels\n",
    "levels = [0, 0.1, 1]\n",
    "# add hatches\n",
    "hatches = ['..', '']\n",
    "\n",
    "h = ax.contourf(LON, lat, PVAL, transform=ccrs.PlateCarree(), levels=levels, hatches=hatches)\n",
    "            \n",
    "ax.set_global()\n",
    "\n",
    "# add colorbar\n",
    "mpu.colorbar(h, ax, spacing='proportional')\n",
    "\n",
    "plt.draw()"
   ]
  },
  {
   "cell_type": "markdown",
   "metadata": {},
   "source": [
    "### Exercise - Step 4 & 5\n",
    "\n",
    "* remove the colors with `colors='none'`\n",
    "* plot the relative precipitation change below the hatches\n",
    "* make sure the right data is used for the colorbar"
   ]
  },
  {
   "cell_type": "code",
   "execution_count": null,
   "metadata": {},
   "outputs": [],
   "source": [
    "# get data\n",
    "lon, lat, pval, pr_rel = pr.lon.values, pr.lat.values, pr.pval.values, pr.pr_rel.values\n",
    "\n",
    "PVAL, LON = cutil.add_cyclic_point(pval, lon)\n",
    "PR_REL, LON = cutil.add_cyclic_point(pr_rel, lon)\n",
    "\n",
    "# ================\n",
    "\n",
    "# plot\n",
    "f, ax = plt.subplots(1, 1, subplot_kw=dict(projection=ccrs.Robinson()))\n",
    "\n",
    "ax.coastlines()\n",
    "\n",
    "# plot relative precipitation change\n",
    "# h = ax.contourf(...)\n",
    "\n",
    "# plot significance stippling\n",
    "# set the levels\n",
    "levels = [0, 0.1, 1]\n",
    "# add hatches\n",
    "hatches = ['...', '']\n",
    "h = ax.contourf(LON, lat, PVAL, transform=ccrs.PlateCarree(), levels=levels, hatches=hatches)\n",
    "            \n",
    "ax.set_global()\n",
    "\n",
    "# add colorbar\n",
    "mpu.colorbar(h, ax, spacing='proportional')\n",
    "\n",
    "plt.draw()"
   ]
  },
  {
   "cell_type": "markdown",
   "metadata": {},
   "source": [
    "### Solution"
   ]
  },
  {
   "cell_type": "code",
   "execution_count": null,
   "metadata": {
    "hide_input": true
   },
   "outputs": [],
   "source": [
    "# get data\n",
    "lon, lat, pval, pr_rel = pr.lon.values, pr.lat.values, pr.pval.values, pr.pr_rel.values\n",
    "\n",
    "PVAL, LON = cutil.add_cyclic_point(pval, lon)\n",
    "PR_REL, LON = cutil.add_cyclic_point(pr_rel, lon)\n",
    "\n",
    "# ================\n",
    "\n",
    "# plot\n",
    "f, ax = plt.subplots(1, 1, subplot_kw=dict(projection=ccrs.Robinson()))\n",
    "\n",
    "ax.coastlines()\n",
    "\n",
    "# plot relative precipitation change\n",
    "# set levels\n",
    "levels = np.arange(-20, 101, 20)\n",
    "h = ax.contourf(LON, lat, PR_REL, transform=ccrs.PlateCarree(), levels=levels, extend='both')\n",
    "\n",
    "# plot significance stippling\n",
    "# set the levels\n",
    "levels = [0, 0.1, 1]\n",
    "# add hatches\n",
    "hatches = ['...', '']\n",
    "ax.contourf(LON, lat, PVAL, transform=ccrs.PlateCarree(), levels=levels, hatches=hatches, colors='none')\n",
    "            \n",
    "ax.set_global()\n",
    "\n",
    "# add colorbar\n",
    "mpu.colorbar(h, ax, spacing='proportional')\n",
    "\n",
    "plt.draw()"
   ]
  },
  {
   "cell_type": "markdown",
   "metadata": {},
   "source": [
    "## Manual hatches\n",
    "\n",
    "You can also manually add hatches, at all points that are significant. However, this leads to a hatching pattern that depends on the resolution of the data which is not desirable."
   ]
  },
  {
   "cell_type": "code",
   "execution_count": null,
   "metadata": {},
   "outputs": [],
   "source": [
    "# get data\n",
    "lon, lat, pval, pr_rel = pr.lon.values, pr.lat.values, pr.pval.values, pr.pr_rel.values\n",
    "\n",
    "PVAL, LON = cutil.add_cyclic_point(pval, lon)\n",
    "PR_REL, LON = cutil.add_cyclic_point(pr_rel, lon)\n",
    "\n",
    "# ================\n",
    "\n",
    "# plot\n",
    "f, ax = plt.subplots(1, 1, subplot_kw=dict(projection=ccrs.Robinson()))\n",
    "\n",
    "ax.coastlines()\n",
    "\n",
    "# plot relative precipitation change\n",
    "# set levels\n",
    "levels = np.arange(-20, 101, 20)\n",
    "h = ax.contourf(LON, lat, PR_REL, transform=ccrs.PlateCarree(), levels=levels, extend='both')\n",
    "\n",
    "# 'manual' stippling\n",
    "\n",
    "# create array with all lat/ lon combinations\n",
    "LONs, lats = np.meshgrid(LON, lat)\n",
    "\n",
    "# find significant points\n",
    "sig = PVAL.flatten() <= 0.1\n",
    "\n",
    "LONs = LONs.flatten()[sig == 1]\n",
    "lats = lats.flatten()[sig == 1]\n",
    "\n",
    "# add scatterpoints\n",
    "ax.plot(LONs, lats, '.', color='0.1', transform=ccrs.PlateCarree(), ms=1)\n",
    "\n",
    "\n",
    "ax.set_global()\n",
    "\n",
    "# add colorbar\n",
    "# add colorbar\n",
    "mpu.colorbar(h, ax, spacing='proportional')\n",
    "\n",
    "plt.draw()"
   ]
  }
 ],
 "metadata": {
  "hide_input": false,
  "kernelspec": {
   "display_name": "Python 3",
   "language": "python",
   "name": "python3"
  },
  "language_info": {
   "codemirror_mode": {
    "name": "ipython",
    "version": 3
   },
   "file_extension": ".py",
   "mimetype": "text/x-python",
   "name": "python",
   "nbconvert_exporter": "python",
   "pygments_lexer": "ipython3",
   "version": "3.6.5"
  }
 },
 "nbformat": 4,
 "nbformat_minor": 2
}
