{
 "cells": [
  {
   "cell_type": "markdown",
   "metadata": {},
   "source": [
    "# Exercise 3.4 Colorbars\n",
    "prepared by M.Hauser\n",
    "\n",
    "We got to know colorbars in Exercises 1.3 and 1.5. However, there are some quirks when adding colorbars to map plots. \n",
    "We have already seen that colorbars can be too large for map plots, which does not happen for 'normal' plots (with exceptions). We will discuss how to overcome this problem in this exercise.\n",
    "\n",
    "> This exercise only applies to map plots (or plots where the aspect ratio needs to be equal.)\n",
    "\n",
    "\n",
    "\n",
    "## Import libraries"
   ]
  },
  {
   "cell_type": "code",
   "execution_count": null,
   "metadata": {},
   "outputs": [],
   "source": [
    "import cartopy.crs as ccrs\n",
    "import matplotlib.pyplot as plt\n",
    "import numpy as np\n",
    "import xarray as xr\n",
    "\n",
    "%matplotlib inline"
   ]
  },
  {
   "cell_type": "code",
   "execution_count": null,
   "metadata": {},
   "outputs": [],
   "source": [
    "import mplotutils as mpu"
   ]
  },
  {
   "cell_type": "markdown",
   "metadata": {},
   "source": [
    "## Load data: CMIP 5, relative precipitation change\n",
    "\n",
    "We use a netCDF with historical, and projected climatological precipitation, as well as the relative change between them, from all CMIP5 models for RCP8.5 (Taylor et al., 2012).\n",
    "\n",
    "The data was prepared in [another notebook](../data/prepare_CMIP5_map.ipynb)."
   ]
  },
  {
   "cell_type": "code",
   "execution_count": null,
   "metadata": {},
   "outputs": [],
   "source": [
    "fN = '../data/cmip5_delta_pr_rcp85_map.nc'\n",
    "\n",
    "# load data, omitting some unecessary variables\n",
    "pr = xr.open_dataset(fN, drop_variables=['agree_sign', 'pval'])\n",
    "\n",
    "pr"
   ]
  },
  {
   "cell_type": "markdown",
   "metadata": {},
   "source": [
    "## Reminder\n",
    "\n",
    "As noted before, colorbars are usually created as\n",
    "\n",
    "    plt.colorbar(h, ax=ax)\n",
    "    \n",
    "### Exercise\n",
    "\n",
    "We plot the relative change in precipitation between a historical and future time period, calculated from CMIP5 data.\n",
    "\n",
    " * add a colorbar\n",
    " * use the `label` keyword argument to indicate that we show a `'Rel. change [%]'`"
   ]
  },
  {
   "cell_type": "code",
   "execution_count": null,
   "metadata": {},
   "outputs": [],
   "source": [
    "# create normal plot\n",
    "f, axes = plt.subplots(1, 1, subplot_kw=dict(projection=ccrs.PlateCarree()))\n",
    "\n",
    "#f.set_size_inches(w=10 / 2.54, h=16 / 2.54)\n",
    "\n",
    "ax = axes\n",
    "h = ax.pcolormesh(*mpu.infer_interval_breaks(pr.lon, pr.lat), pr.pr_rel, transform=ccrs.PlateCarree(), \n",
    "                  cmap='BrBG', vmin=-50, vmax=50)\n",
    "\n",
    "\n",
    "ax.set_title('Precipication')\n",
    "ax.coastlines()\n",
    "ax.set_global()\n",
    "      \n",
    "# ==========================\n",
    "# add colorbar\n",
    "\n"
   ]
  },
  {
   "cell_type": "markdown",
   "metadata": {},
   "source": [
    "### Solution"
   ]
  },
  {
   "cell_type": "code",
   "execution_count": null,
   "metadata": {
    "hide_input": true
   },
   "outputs": [],
   "source": [
    "# create normal plot\n",
    "f, axes = plt.subplots(1, 1, subplot_kw=dict(projection=ccrs.PlateCarree()))\n",
    "\n",
    "#f.set_size_inches(w=10 / 2.54, h=16 / 2.54)\n",
    "\n",
    "ax = axes\n",
    "h = ax.pcolormesh(*mpu.infer_interval_breaks(pr.lon, pr.lat), pr.pr_rel, transform=ccrs.PlateCarree(), \n",
    "                  cmap='BrBG', vmin=-50, vmax=50)\n",
    "\n",
    "\n",
    "ax.set_title('Precipication')\n",
    "ax.coastlines()\n",
    "ax.set_global()\n",
    "      \n",
    "# =======\n",
    "# add colorbar\n",
    "cbar = plt.colorbar(h, ax=ax, label='Relative change [%]')"
   ]
  },
  {
   "cell_type": "markdown",
   "metadata": {},
   "source": [
    "## The 'problem'\n",
    "\n",
    "The colorbar is larger than the axes! Depending on the the map and the extent of the map this can even be worse. Lets illustrate this with some artificial data."
   ]
  },
  {
   "cell_type": "code",
   "execution_count": null,
   "metadata": {},
   "outputs": [],
   "source": [
    "# create sample data\n",
    "lon, lat, data = mpu.sample_data_map(90, 48)\n",
    "# ====\n",
    "\n",
    "ax = plt.axes(projection=ccrs.Orthographic(central_latitude=45))\n",
    "\n",
    "ax.coastlines()\n",
    "h = ax.pcolormesh(*mpu.infer_interval_breaks(lon, lat), data, transform=ccrs.PlateCarree())\n",
    "\n",
    "plt.colorbar(h, extend='both', orientation='horizontal')\n",
    "\n",
    "ax.set_global()"
   ]
  },
  {
   "cell_type": "markdown",
   "metadata": {},
   "source": [
    "#### Why is this a problem for map plots but not for others?\n",
    "\n",
    "We have seen examples where the colorbar just worked fine with axes. The issue is that the aspect ratio of a map plot has to be equal, else the map would be distorted. Matplotlib then 'shrinks' the axes, but does not shrink the area of the figure. The colorbar is correct when we set the aspect to 'auto', but then of course the map is distorted..."
   ]
  },
  {
   "cell_type": "code",
   "execution_count": null,
   "metadata": {},
   "outputs": [],
   "source": [
    "# create sample data\n",
    "lon, lat, data = mpu.sample_data_map(90, 48)\n",
    "# ====\n",
    "\n",
    "ax = plt.axes(projection=ccrs.Orthographic(central_latitude=45))\n",
    "\n",
    "ax.coastlines()\n",
    "h = ax.pcolormesh(*mpu.infer_interval_breaks(lon, lat), data, transform=ccrs.PlateCarree())\n",
    "\n",
    "\n",
    "plt.colorbar(h, extend='both', orientation='horizontal')\n",
    "\n",
    "ax.set_aspect('auto')\n",
    "\n",
    "ax.set_global()"
   ]
  },
  {
   "cell_type": "markdown",
   "metadata": {},
   "source": [
    "# The 'Solution'\n",
    "\n",
    "I developed a function that creates colorbars of the correct size - `mpu.colorbar`.\n",
    "\n",
    "The solution is inspired by this [stackoverflow answer](https://stackoverflow.com/a/30077745). The trick is to read out the coordinates of the cartopy axes and adjust the position of the colorbar accordingly. Because the position of the cartopy axes can change, we have to redo this everytime the plot gets drawn."
   ]
  },
  {
   "cell_type": "code",
   "execution_count": null,
   "metadata": {},
   "outputs": [],
   "source": [
    "# create sample data\n",
    "lon, lat, data = mpu.sample_data_map(90, 48)\n",
    "# ====\n",
    "\n",
    "ax = plt.axes(projection=ccrs.Orthographic(central_latitude=45))\n",
    "\n",
    "ax.coastlines()\n",
    "h = ax.pcolormesh(*mpu.infer_interval_breaks(lon, lat), data, transform=ccrs.PlateCarree())\n",
    "\n",
    "ax.set_global()\n",
    "\n",
    "# =======\n",
    "# add colorbar\n",
    "mpu.colorbar(h, ax, extend='both', orientation='horizontal', aspect=10)\n",
    "\n",
    "plt.draw()"
   ]
  },
  {
   "cell_type": "markdown",
   "metadata": {},
   "source": [
    "Have a look at the help:"
   ]
  },
  {
   "cell_type": "code",
   "execution_count": null,
   "metadata": {},
   "outputs": [],
   "source": [
    "mpu.colorbar?"
   ]
  },
  {
   "cell_type": "markdown",
   "metadata": {},
   "source": [
    "### Exercise\n",
    "\n",
    "Let's go back to the relative precipitation change\n",
    "\n",
    " * add a horizontal colorbar\n",
    " * add the units (`'[mm]'`) below the colorbar (use `cbar.set_label`)"
   ]
  },
  {
   "cell_type": "code",
   "execution_count": null,
   "metadata": {},
   "outputs": [],
   "source": [
    "# create normal plot\n",
    "f = plt.figure()\n",
    "\n",
    "ax = plt.axes(projection=ccrs.Robinson())\n",
    "\n",
    "ax.coastlines()\n",
    "\n",
    "h = ax.pcolormesh(*mpu.infer_interval_breaks(pr.lon, pr.lat), pr.hist, transform=ccrs.PlateCarree(), \n",
    "                  cmap='Blues', vmin=0, vmax=4000)\n",
    "\n",
    "# =======\n",
    "# add colorbar here\n",
    "# cbar = mpu.colorbar(...)\n",
    "\n",
    "# add the units\n",
    "\n",
    "\n",
    "# this is required\n",
    "ax.set_global()\n",
    "\n",
    "# tell mpl to draw\n",
    "plt.draw()"
   ]
  },
  {
   "cell_type": "markdown",
   "metadata": {},
   "source": [
    "### Solution"
   ]
  },
  {
   "cell_type": "code",
   "execution_count": null,
   "metadata": {
    "hide_input": true
   },
   "outputs": [],
   "source": [
    "# create normal plot\n",
    "f = plt.figure()\n",
    "\n",
    "ax = plt.axes(projection=ccrs.Robinson())\n",
    "\n",
    "ax.coastlines()\n",
    "\n",
    "\n",
    "h = ax.pcolormesh(*mpu.infer_interval_breaks(pr.lon, pr.lat), pr.hist, transform=ccrs.PlateCarree(), \n",
    "                  cmap='Blues', vmin=0, vmax=4000)\n",
    "\n",
    "# add colorbar here\n",
    "\n",
    "# this is required\n",
    "ax.set_global()\n",
    "\n",
    "cbar = mpu.colorbar(h, ax, orientation='horizontal')\n",
    "\n",
    "# add the units\n",
    "cbar.set_label('[mm]')\n",
    "\n",
    "# tell mpl to draw\n",
    "plt.draw()"
   ]
  },
  {
   "cell_type": "markdown",
   "metadata": {},
   "source": [
    "## More than one axes\n",
    "\n",
    "You can add a colorbar that spans more than one axes. To achieve that you need to pass the left- and rightmost axes to `mpu.colorbar` (or the bottom- and topmost).\n",
    "\n",
    "````ipython\n",
    "cbar = mpu.colorbar(h, axes[0], axes[1])\n",
    "```\n",
    "\n",
    "\n",
    "### Exercise\n",
    "\n",
    "Here we plot the precipitation climatology of the historical and future period.\n",
    "\n",
    " * add a `'horizontal'` colorbar that spans both axes in the plot showing historical and projected rainfall amounts\n",
    " * the colorbar is a bit large, play with the `aspect` keyword to find a better size.\n",
    " * swap `axes[0]` and `axes[1]` in `mpu.colorbar` - is it still correct?\n",
    " * save the figure as a pdf\n",
    " * is the colorbar at the right position in the saved figure?\n"
   ]
  },
  {
   "cell_type": "code",
   "execution_count": null,
   "metadata": {},
   "outputs": [],
   "source": [
    "# create normal plot\n",
    "f, axes = plt.subplots(1, 2, subplot_kw=dict(projection=ccrs.PlateCarree()))\n",
    "\n",
    "ax = axes[0]\n",
    "h = ax.pcolormesh(*mpu.infer_interval_breaks(pr.lon, pr.lat), pr.hist, transform=ccrs.PlateCarree(), \n",
    "                  cmap='Blues', vmin=0, vmax=4000, rasterized=True)\n",
    "\n",
    "ax.set_title('Precipication: historical')\n",
    "\n",
    "ax = axes[1]\n",
    "h = ax.pcolormesh(*mpu.infer_interval_breaks(pr.lon, pr.lat), pr.proj, transform=ccrs.PlateCarree(), \n",
    "                  cmap='Blues', vmin=0, vmax=4000, rasterized=True)\n",
    "\n",
    "ax.set_title('Precipication: projections')\n",
    "\n",
    "\n",
    "for ax in axes:\n",
    "    ax.coastlines()\n",
    "    ax.set_global()\n",
    "\n",
    "\n",
    "# =======\n",
    "# create the colorbar\n",
    "# cbar = mpu.colorbar(...)\n",
    "\n",
    "# save figure\n"
   ]
  },
  {
   "cell_type": "markdown",
   "metadata": {},
   "source": [
    "### Solution\n"
   ]
  },
  {
   "cell_type": "code",
   "execution_count": null,
   "metadata": {
    "hide_input": true
   },
   "outputs": [],
   "source": [
    "# create normal plot\n",
    "f, axes = plt.subplots(1, 2, subplot_kw=dict(projection=ccrs.PlateCarree()))\n",
    "\n",
    "ax = axes[0]\n",
    "h = ax.pcolormesh(*mpu.infer_interval_breaks(pr.lon, pr.lat), pr.hist, transform=ccrs.PlateCarree(), \n",
    "                  cmap='Blues', vmin=0, vmax=4000, rasterized=True)\n",
    "\n",
    "ax.set_title('Precipication: historical')\n",
    "\n",
    "ax = axes[1]\n",
    "h = ax.pcolormesh(*mpu.infer_interval_breaks(pr.lon, pr.lat), pr.proj, transform=ccrs.PlateCarree(), \n",
    "                  cmap='Blues', vmin=0, vmax=4000, rasterized=True)\n",
    "\n",
    "ax.set_title('Precipication: projections')\n",
    "\n",
    "\n",
    "for ax in axes:\n",
    "    ax.coastlines()\n",
    "    ax.set_global()\n",
    "\n",
    "\n",
    "# create the colorbar\n",
    "cbar = mpu.colorbar(h, axes[0], axes[1], orientation='horizontal', aspect=30)\n",
    "cbar.set_label('[mm]')\n",
    "\n",
    "# save figure\n",
    "plt.savefig('pr_hist_proj.pdf')"
   ]
  },
  {
   "cell_type": "markdown",
   "metadata": {},
   "source": [
    "## Some more stuff you can do\n",
    "\n",
    "* span multiple axes\n",
    "* more than one colorbar per axes\n",
    "\n"
   ]
  },
  {
   "cell_type": "code",
   "execution_count": null,
   "metadata": {},
   "outputs": [],
   "source": [
    "f, axes = plt.subplots(2, 3, subplot_kw=dict(projection=ccrs.PlateCarree()))\n",
    "\n",
    "axes = axes.flatten()\n",
    "\n",
    "for ax in axes:\n",
    "    ax.coastlines() \n",
    "    ax.set_global()\n",
    "\n",
    "h0 = ax.pcolormesh([[0, 1]])\n",
    "h1 = ax.pcolormesh([[0, 1]])\n",
    "\n",
    "h2_1 = ax.pcolormesh([[0, 1]], cmap='Blues')\n",
    "h2_2 = ax.pcolormesh([[0, 1]], cmap='Reds_r')\n",
    "\n",
    "\n",
    "h3 = ax.pcolormesh([[0, 1]], cmap='BrBG')\n",
    "\n",
    "# ====\n",
    "# single colorbar\n",
    "cbar = mpu.colorbar(h1, axes[0], axes[1], size=0.2, pad=0.1, orientation='horizontal')\n",
    "\n",
    "# ====\n",
    "# two colorbars\n",
    "cbar = mpu.colorbar(h2_1, axes[2], size=0.2, pad=0.1, orientation='horizontal')\n",
    "cbar.ax.set_xticklabels([])\n",
    "\n",
    "cbar = mpu.colorbar(h2_2, axes[2], size=0.2, pad=0.4, orientation='horizontal')\n",
    "cbar.ax.set_xticklabels([])\n",
    "\n",
    "# ====\n",
    "# colorbar for three axes\n",
    "cbar = mpu.colorbar(h3, axes[-1], axes[3], size=0.2, pad=0.1, orientation='horizontal')\n",
    "\n",
    "# ====\n",
    "\n",
    "plt.draw()\n",
    "\n"
   ]
  },
  {
   "cell_type": "markdown",
   "metadata": {},
   "source": [
    "## shrink and shift\n",
    "\n",
    "you can use the `shrink` and `shift` keywords to adjust the position of the colorbar. `shrink` and `shift` are in fraction of the total width/ height of the colorbar.\n"
   ]
  },
  {
   "cell_type": "code",
   "execution_count": null,
   "metadata": {},
   "outputs": [],
   "source": [
    "f, axes = plt.subplots(2, 2, subplot_kw=dict(projection=ccrs.PlateCarree()))\n",
    "\n",
    "axes = axes.flatten()\n",
    "\n",
    "for ax in axes:\n",
    "    ax.set_global()\n",
    "\n",
    "h = ax.pcolormesh([[0, 1]])\n",
    "\n",
    "ax = axes[0]\n",
    "mpu.colorbar(h, ax, orientation='horizontal', shrink=0.5)\n",
    "ax.text(0.5, 0.5, \"shrink=0.5\\nshift='symmetric' (default)\", ha='center', va='center')\n",
    "\n",
    "ax = axes[1]\n",
    "mpu.colorbar(h, ax, orientation='horizontal', shrink=0.5, shift=0.35)\n",
    "ax.text(0.5, 0.5, 'shrink=0.5\\nshift=0.35', ha='center', va='center')\n",
    "\n",
    "ax = axes[2]\n",
    "mpu.colorbar(h, ax, orientation='horizontal', shrink=0.5, shift=0)\n",
    "ax.text(0.5, 0.5, 'shrink=0.5\\nshift=0.', ha='center', va='center')\n",
    "\n",
    "ax = axes[3]\n",
    "mpu.colorbar(h, ax, orientation='horizontal', shrink=None, shift=0.2)\n",
    "ax.text(0.5, 0.5, 'shrink=None (default)\\nshift=0.2', ha='center', va='center')\n",
    "\n",
    "plt.draw()"
   ]
  },
  {
   "cell_type": "markdown",
   "metadata": {},
   "source": [
    "### Exercise\n",
    "\n",
    "Now we plot the historical and future precipitation climatology, as well as its relative change.\n",
    "\n",
    " * add one colorbar for the climatologies and one for the relative change\n",
    " * add the units with `cbar.ax.set_xlabel`\n",
    " * use `shrink` and `shift` to make room for the xlabel\n",
    " > you may have to use different values for `shrink` and `shift` for the two colorbars\n",
    " * set `extend='both'` and `extendfrac=0.1` for the second colorbar\n",
    " > Per default `mpu.colorbar` sets the width of the colorbar with its aspect ratio. As the two are not of the same height, it is recommended to use `size` instead. "
   ]
  },
  {
   "cell_type": "code",
   "execution_count": null,
   "metadata": {},
   "outputs": [],
   "source": [
    "# create normal plot\n",
    "f, axes = plt.subplots(3, 1, subplot_kw=dict(projection=ccrs.PlateCarree()))\n",
    "\n",
    "f.set_size_inches(w=10 / 2.54, h=16 / 2.54)\n",
    "\n",
    "\n",
    "ax = axes[0]\n",
    "h0 = ax.pcolormesh(*mpu.infer_interval_breaks(pr.lon, pr.lat), pr.hist, transform=ccrs.PlateCarree(), \n",
    "                  cmap='Blues', vmin=0, vmax=4000)\n",
    "\n",
    "\n",
    "ax = axes[1]\n",
    "h1 = ax.pcolormesh(*mpu.infer_interval_breaks(pr.lon, pr.lat), pr.proj, transform=ccrs.PlateCarree(), \n",
    "                  cmap='Blues', vmin=0, vmax=4000)\n",
    "\n",
    "\n",
    "ax = axes[2]\n",
    "h2 = ax.pcolormesh(*mpu.infer_interval_breaks(pr.lon, pr.lat), pr.pr_rel, transform=ccrs.PlateCarree(), \n",
    "                  cmap='BrBG', vmin=-50, vmax=50)\n",
    "\n",
    "\n",
    "\n",
    "axes[0].set_title('Precipication: historical')\n",
    "axes[1].set_title('Precipication: projections')\n",
    "axes[2].set_title('Precipication: change')\n",
    "\n",
    "for ax in axes:\n",
    "    ax.coastlines()\n",
    "    ax.set_global()\n",
    "\n",
    "\n",
    "# first colorbar\n",
    "\n",
    "\n",
    "# second colorbar\n",
    "\n",
    "\n",
    "plt.draw()"
   ]
  },
  {
   "cell_type": "markdown",
   "metadata": {},
   "source": [
    "### Solution\n",
    "\n",
    "As shift is relative to the height of the colorbar, I use `shift=0.1` for the upper colorbar and `shift=0.2` for the lower colorbar. This creates approximately the same absolute shift."
   ]
  },
  {
   "cell_type": "code",
   "execution_count": null,
   "metadata": {
    "hide_input": true
   },
   "outputs": [],
   "source": [
    "# create normal plot\n",
    "f, axes = plt.subplots(3, 1, subplot_kw=dict(projection=ccrs.PlateCarree()))\n",
    "\n",
    "f.set_size_inches(w=10 / 2.54, h=16 / 2.54)\n",
    "\n",
    "\n",
    "ax = axes[0]\n",
    "h0 = ax.pcolormesh(*mpu.infer_interval_breaks(pr.lon, pr.lat), pr.hist, transform=ccrs.PlateCarree(), \n",
    "                  cmap='Blues', vmin=0, vmax=4000)\n",
    "\n",
    "\n",
    "ax = axes[1]\n",
    "h1 = ax.pcolormesh(*mpu.infer_interval_breaks(pr.lon, pr.lat), pr.proj, transform=ccrs.PlateCarree(), \n",
    "                  cmap='Blues', vmin=0, vmax=4000)\n",
    "\n",
    "\n",
    "ax = axes[2]\n",
    "h2 = ax.pcolormesh(*mpu.infer_interval_breaks(pr.lon, pr.lat), pr.pr_rel, transform=ccrs.PlateCarree(), \n",
    "                   cmap='BrBG', vmin=-50, vmax=50)\n",
    "\n",
    "\n",
    "\n",
    "axes[0].set_title('Precipication: historical')\n",
    "axes[1].set_title('Precipication: projections')\n",
    "axes[2].set_title('Precipication: change')\n",
    "\n",
    "for ax in axes:\n",
    "    ax.coastlines()\n",
    "    ax.set_global()\n",
    "\n",
    "\n",
    "# first colorbar\n",
    "cbar = mpu.colorbar(h1, axes[0], axes[1], shift=0.1, size=0.05)\n",
    "cbar.ax.set_xlabel('[mm]')\n",
    "\n",
    "\n",
    "\n",
    "# second colorbar\n",
    "cbar = mpu.colorbar(h2, axes[2], shift=0.2, size=0.05, extendfrac=0.1, extend='both')\n",
    "cbar.ax.set_xlabel('[%]')\n",
    "\n",
    "plt.draw()"
   ]
  },
  {
   "cell_type": "markdown",
   "metadata": {},
   "source": [
    "# Bonus: Alternative Solution\n",
    "\n",
    "There is a second way to create a colorbar that has the right size - using `axes_grid1`.\n",
    "\n",
    "\"[axes_grid1](https://matplotlib.org/2.0.2/mpl_toolkits/axes_grid/users/overview.html) is a collection of helper classes to ease displaying (multiple) images with matplotlib. In matplotlib, the axes location (and size) is specified in the normalized figure coordinates, which may not be ideal for displaying images that needs to have a given aspect ratio.\"\n",
    "\n",
    " > However, it is not part of the core matplotlib functionality, and not it's best-documented part\n",
    "\n",
    "From the axes_grid1 toolkit we need `make_axes_locatable`:"
   ]
  },
  {
   "cell_type": "code",
   "execution_count": null,
   "metadata": {},
   "outputs": [],
   "source": [
    "from mpl_toolkits.axes_grid1 import make_axes_locatable"
   ]
  },
  {
   "cell_type": "code",
   "execution_count": null,
   "metadata": {},
   "outputs": [],
   "source": [
    "# create sample data\n",
    "lon, lat, data = mpu.sample_data_map(90, 48)\n",
    "# ====\n",
    "\n",
    "ax = plt.axes(projection=ccrs.Orthographic(central_latitude=45))\n",
    "\n",
    "ax.coastlines()\n",
    "h = ax.pcolormesh(*mpu.infer_interval_breaks(lon, lat), data, transform=ccrs.PlateCarree())\n",
    "\n",
    "ax.set_global()\n",
    "\n",
    "# =======\n",
    "# add colorbar\n",
    "\n",
    "# create axes that has the right size\n",
    "divider = make_axes_locatable(ax)\n",
    "cbax = divider.append_axes('bottom', size=\"6.5%\", pad=0.1, axes_class=plt.Axes)\n",
    "\n",
    "# create colorbar in this axes\n",
    "cbar = plt.colorbar(h, cax=cbax, orientation='horizontal', extend='both')"
   ]
  },
  {
   "cell_type": "markdown",
   "metadata": {},
   "source": [
    "\n",
    "> you need to pass `axes_class=plt.Axes` to `append_axes`, else it fails miserably (because it tries to create a new axes with a projection). \n",
    "\n",
    "\n",
    "### Exercise\n",
    "\n",
    " * add a vertical colorbar to the historical precipitation plot (over Europe)"
   ]
  },
  {
   "cell_type": "code",
   "execution_count": null,
   "metadata": {},
   "outputs": [],
   "source": [
    "# create normal plot\n",
    "f = plt.figure()\n",
    "\n",
    "ax = plt.axes(projection=ccrs.LambertAzimuthalEqualArea())\n",
    "\n",
    "ax.coastlines()\n",
    "\n",
    "\n",
    "h = ax.pcolormesh(*mpu.infer_interval_breaks(pr.lon, pr.lat), pr.hist, transform=ccrs.PlateCarree(), \n",
    "                  cmap='Blues', vmin=0, vmax=4000)\n",
    "\n",
    "\n",
    "# add colorbar here"
   ]
  },
  {
   "cell_type": "markdown",
   "metadata": {},
   "source": [
    "If this does not look entirely correct - you may be right - you have to add `ax.set_global()` or `ax.set_extent([...], ccrs.PlateCarree())`!\n",
    "\n",
    "### Solution"
   ]
  },
  {
   "cell_type": "code",
   "execution_count": null,
   "metadata": {
    "hide_input": true
   },
   "outputs": [],
   "source": [
    "# create normal plot\n",
    "f = plt.figure()\n",
    "\n",
    "ax = plt.axes(projection=ccrs.LambertAzimuthalEqualArea())\n",
    "\n",
    "ax.coastlines()\n",
    "\n",
    "\n",
    "\n",
    "h = ax.pcolormesh(*mpu.infer_interval_breaks(pr.lon, pr.lat), pr.hist, transform=ccrs.PlateCarree(), \n",
    "                  cmap='Blues', vmin=0, vmax=4000)\n",
    "\n",
    "# add colorbar here\n",
    "\n",
    "# this is required\n",
    "ax.set_global()\n",
    "\n",
    "# create axes that has the right size\n",
    "divider = make_axes_locatable(ax)\n",
    "cbax = divider.append_axes('right', size=\"6.5%\", pad=0.1, axes_class=plt.Axes)\n",
    "\n",
    "# create colorbar in this axes\n",
    "cbar = plt.colorbar(h, cax=cbax, orientation='vertical', extend='max')"
   ]
  },
  {
   "cell_type": "markdown",
   "metadata": {},
   "source": [
    "### Limitations\n",
    "\n",
    "The solution with `axes_grid1` is reasonably that works well, however, it has (afaik) two limitations:\n",
    " * the colorbar cannot span more than one axes\n",
    " * you cannot shrink the colorbar, e.g. to make room for a label below"
   ]
  }
 ],
 "metadata": {
  "hide_input": false,
  "kernelspec": {
   "display_name": "Python 3",
   "language": "python",
   "name": "python3"
  },
  "language_info": {
   "codemirror_mode": {
    "name": "ipython",
    "version": 3
   },
   "file_extension": ".py",
   "mimetype": "text/x-python",
   "name": "python",
   "nbconvert_exporter": "python",
   "pygments_lexer": "ipython3",
   "version": "3.6.5"
  }
 },
 "nbformat": 4,
 "nbformat_minor": 2
}
