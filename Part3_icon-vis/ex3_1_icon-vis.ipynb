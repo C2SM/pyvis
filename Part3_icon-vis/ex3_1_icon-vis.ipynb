{
 "cells": [
  {
   "cell_type": "markdown",
   "id": "8822930b",
   "metadata": {},
   "source": [
    "# Exercise 3.0: icon-vis\n",
    "prepared by A. Lauber\n",
    "\n",
    "In this exercise, we will work with the GitHub repository [icon-vis](https://github.com/C2SM/icon-vis), which was developed by C2SM and MeteoSwiss. It is a collection of Python scripts for plotting data on unstructured grids like the ICON grid. It is based on the library [psyplot](https://psyplot.github.io), which was already introduced in [Exercise 2.2](../Part2_Mapplots/ex2_2_psyplot.ipynb). The repo has an associated self-developed Python package [iconarray](https://github.com/C2SM/iconarray), which contains various modules to facilitate working with ICON data with xarray or other xarray based tools. We already used it in [Exercise 2.2](../Part2_Mapplots/ex2_2_psyplot.ipynb) for the formatoptions.\n",
    "\n",
    "\n",
    "## Comments for usage outside this workshop\n",
    "\n",
    "### Clone icon-vis repo\n",
    "For this course the repository is already available two folders up. Generally, you would need to `git clone https://github.com/C2SM/icon-vis`.\n",
    "\n",
    "### Installation\n",
    "If you want to use icon-vis on your own machine, please follow the [installation instruction](https://github.com/C2SM/icon-vis#environment-setup) in the README. For this course, the needed packages are already installed as part of the pyvis environment to save time.\n",
    "\n",
    "### Data file formats\n",
    "The icon-vis scripts work with NetCDF and GRIB files. The iconarray package provides functions to make the datasets ready for plotting ([Plotting GRIB/NETCDF ICON Data](https://github.com/C2SM/icon-vis#plotting-gribnetcdf-icon-data))."
   ]
  },
  {
   "cell_type": "markdown",
   "id": "36ce8c7c",
   "metadata": {},
   "source": [
    "### Exercise\n",
    "Checkout the [icon-vis example gallery](https://github.com/C2SM/icon-vis#example-plots). For every plot there is a folder, containing a script and instructions as well as information about the plot.\n",
    "\n",
    "- Every plotting folder (except Transect) contains a jupyter notebook. Within the environment you are currently using, the following notebooks will work: **Map Plot**, **Difference Map Plot**, **Timeseries**, **Vertical Profile**. On your current jupyter kernel, navigate to icon-vis (same directory as pyvis) and play around with one of the four mentioned notebooks.\n",
    ">If you want to use any of the other notebooks, you would need to set up your own environment and follow the instructions given on the [icon-vis](https://github.com/C2SM/icon-vis) repo."
   ]
  },
  {
   "cell_type": "markdown",
   "id": "7a15aad2",
   "metadata": {},
   "source": [
    "### Exercise\n",
    "For some of the plots, there is also a Python script given, namely for the **Map Plot**, the **Difference Map Plot**, the **Timeseries** and the **Vertical Profile**.\n",
    "- On the [icon-vis](https://github.com/C2SM/icon-vis) page navigate into one of the four folders and read the README.\n",
    "\n",
    "The scripts are meant to be run from a bash terminal. To run it from jupyter notebook with the current environment, we first need to find out the executable. To do this, we run the following:"
   ]
  },
  {
   "cell_type": "code",
   "execution_count": null,
   "id": "39d050a8",
   "metadata": {},
   "outputs": [],
   "source": [
    "import sys\n",
    "\n",
    "sys.executable"
   ]
  },
  {
   "cell_type": "markdown",
   "id": "9dcb992a",
   "metadata": {},
   "source": [
    "- Run the command to display the config options.\n",
    "> - Use `!` to run code outside of the notebook, i.e. `!path_to_executable script.py ...`<br />\n",
    "> - Remember that you are two folders up from the icon-vis repo\n",
    "- Run the command to recreate the example plot shown in the README.\n",
    "> You can use `../data/my_exp1_atm_3d_ml_20180921T000000Z_t2m.n` as input data or you can download example data from icon-vis by running the following (will take a while!):\n",
    "    `import iconarray; iconarray.get_example_data()`"
   ]
  },
  {
   "cell_type": "code",
   "execution_count": null,
   "id": "f8202b9b",
   "metadata": {},
   "outputs": [],
   "source": [
    "# Display the config options\n",
    "# Code here"
   ]
  },
  {
   "cell_type": "code",
   "execution_count": null,
   "id": "c54e6ab2",
   "metadata": {},
   "outputs": [],
   "source": [
    "# Create example plot\n",
    "# Code here"
   ]
  },
  {
   "cell_type": "markdown",
   "id": "2a41fbf6",
   "metadata": {},
   "source": [
    "### Solution"
   ]
  },
  {
   "cell_type": "code",
   "execution_count": null,
   "id": "21b38e20",
   "metadata": {
    "tags": [
     "solution"
    ]
   },
   "outputs": [],
   "source": [
    "# Display the config options\n",
    "!/.pyenv/versions/3.11.1/bin/python ../../icon-vis/mapplot/mapplot.py -co"
   ]
  },
  {
   "cell_type": "code",
   "execution_count": null,
   "id": "a66a5ef1",
   "metadata": {
    "tags": [
     "solution"
    ]
   },
   "outputs": [],
   "source": [
    "# Create example plot\n",
    "!/.pyenv/versions/3.11.1/bin/python ../../icon-vis/mapplot/mapplot.py \\\n",
    "-c ../../icon-vis/mapplot/config_mapplot.ini \\\n",
    "-i ../data/my_exp1_atm_3d_ml_20180921T000000Z_t2m.nc \\\n",
    "-d . \\\n",
    "-o test_output_mapplot"
   ]
  },
  {
   "cell_type": "markdown",
   "id": "9dad7a4e",
   "metadata": {},
   "source": [
    "### Exercise\n",
    "- Change three config options in the config file and create the plot again. Check if you see the difference. (Hint: open the file, make changes and safe it)"
   ]
  },
  {
   "cell_type": "markdown",
   "id": "114dbab9",
   "metadata": {},
   "source": [
    "### Solution\n",
    "\n",
    "After opening the config file, making changes and saving them, run the following:"
   ]
  },
  {
   "cell_type": "code",
   "execution_count": null,
   "id": "bf399343",
   "metadata": {
    "tags": [
     "solution"
    ]
   },
   "outputs": [],
   "source": [
    "# Create example plot with changed config file\n",
    "!/.pyenv/versions/3.11.1/bin/python ../../icon-vis/mapplot/mapplot.py \\\n",
    "-c ../../icon-vis/mapplot/config_mapplot.ini \\\n",
    "-i ../data/my_exp1_atm_3d_ml_20180921T000000Z_t2m.nc \\\n",
    "-d . \\\n",
    "-o test_output_mapplot_changed"
   ]
  },
  {
   "cell_type": "markdown",
   "id": "da9dc8d8",
   "metadata": {},
   "source": [
    "## Bonus exercise\n",
    "- Change the title size (Hint: check README)"
   ]
  }
 ],
 "metadata": {
  "celltoolbar": "Tags",
  "kernelspec": {
   "display_name": "Python 3 (ipykernel)",
   "language": "python",
   "name": "python3"
  },
  "language_info": {
   "codemirror_mode": {
    "name": "ipython",
    "version": 3
   },
   "file_extension": ".py",
   "mimetype": "text/x-python",
   "name": "python",
   "nbconvert_exporter": "python",
   "pygments_lexer": "ipython3",
   "version": "3.9.14"
  }
 },
 "nbformat": 4,
 "nbformat_minor": 5
}
