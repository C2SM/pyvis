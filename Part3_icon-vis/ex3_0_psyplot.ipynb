{
 "cells": [
  {
   "cell_type": "markdown",
   "id": "ced48a8d",
   "metadata": {},
   "source": [
    "# Exercise 3.0: Mesh plots (psyplot)\n",
    "prepared by A. Lauber\n",
    "\n",
    "Here we learn how to plot data from an unstructured grid like the [ICON](https://icon-model.org) grid as mesh grid.\n",
    "There is the option to interpolate the data to a regular grid or to use the library [psyplot](https://psyplot.github.io), which was developed for plotting data on the unstructured grid.\n",
    "\n",
    "Advantages of plotting on the unstructured grid:\n",
    "- Shows the real output without interpolation\n",
    "- No preprocessing of the data necessary\n",
    "\n",
    "Disadvantages of plotting on the unstructured grid:\n",
    "- It can be quite slow depending on the size of your NetCDF file\n",
    "- Not all features are available yet (psyplot is still under development)\n",
    "\n",
    "\n",
    "## Import libraries"
   ]
  },
  {
   "cell_type": "code",
   "execution_count": null,
   "id": "cb7e492a-c238-4c08-a13e-856411e856a5",
   "metadata": {},
   "outputs": [],
   "source": [
    "# Specific to our jupyterhub setup\n",
    "import os\n",
    "os.environ[\"PROJ_DATA\"] = \"/data/python_intro/miniconda/pkgs/proj-9.2.1-ha643af7_0\""
   ]
  },
  {
   "cell_type": "code",
   "execution_count": null,
   "id": "4dd1ba32",
   "metadata": {
    "tags": []
   },
   "outputs": [],
   "source": [
    "import cartopy\n",
    "import cartopy.crs as ccrs\n",
    "import cartopy.feature as cf\n",
    "import cmcrameri.cm as cmc\n",
    "import matplotlib.pyplot as plt\n",
    "import xarray as xr"
   ]
  },
  {
   "cell_type": "markdown",
   "id": "bc079938",
   "metadata": {},
   "source": [
    "## Let's have a look into ICON data\n",
    "\n",
    "For this exercise, we use a NetCDF file created with an ICON run by Nadja Omanovic. It was reduced to the 2m temperature over Switzerland to save space."
   ]
  },
  {
   "cell_type": "code",
   "execution_count": null,
   "id": "55cab2c0",
   "metadata": {
    "tags": []
   },
   "outputs": [],
   "source": [
    "ds = xr.open_dataset(\"../data/my_exp1_atm_3d_ml_20180921T000000Z_t2m.nc\")\n",
    "ds"
   ]
  },
  {
   "cell_type": "markdown",
   "id": "3f62f52d",
   "metadata": {},
   "source": [
    "### Exercise\n",
    "Try plotting data with pcolormesh: Why does the following not work?"
   ]
  },
  {
   "cell_type": "code",
   "execution_count": null,
   "id": "166f9db5",
   "metadata": {
    "tags": []
   },
   "outputs": [],
   "source": [
    "f, ax = plt.subplots(subplot_kw={\"projection\": ccrs.PlateCarree()})\n",
    "\n",
    "# Get data\n",
    "lon, lat, temp = ds.clon, ds.clat, ds.t_2m[:, :, :]\n",
    "\n",
    "h = ax.pcolormesh(lon, lat, temp, transform=ccrs.PlateCarree())"
   ]
  },
  {
   "cell_type": "markdown",
   "id": "f7a6afe9",
   "metadata": {},
   "source": [
    "### Solution"
   ]
  },
  {
   "cell_type": "markdown",
   "id": "c347dacb",
   "metadata": {
    "tags": [
     "solution"
    ]
   },
   "source": [
    "`pcolormesh` cannot handle data on an unstructered grid. For plotting the data with pcolormesh, the data has to be remapped to a structured grid first."
   ]
  },
  {
   "cell_type": "markdown",
   "id": "0c691505",
   "metadata": {},
   "source": [
    "## Plot data with pcolormesh using remapped data\n",
    "\n",
    "The ICON output file we used before has been remapped using CDO. Let's have a look into the remapped data."
   ]
  },
  {
   "cell_type": "code",
   "execution_count": null,
   "id": "f76604d0",
   "metadata": {
    "tags": []
   },
   "outputs": [],
   "source": [
    "ds_rmp = xr.open_dataset(\"../data/rmp_my_exp1_atm_3d_ml_20180921T000000Z.nc\")\n",
    "ds_rmp"
   ]
  },
  {
   "cell_type": "markdown",
   "id": "d64a4948",
   "metadata": {},
   "source": [
    "### Exercise\n",
    " * Plot the 2m temperature over Switzerland\n",
    " * Use `projection=ccrs.Robinson()` (don't forget to transform the data)\n",
    " * Add the borders of Switzerland (hint `ax.add_feature(cartopy.feature.BORDERS`)\n",
    " * Cut off data outside of Switzerland (5.8<lon<10.7, 45.5<lat<48)\n",
    " * Add a colorbar\n",
    " * Set limits to the colorbar"
   ]
  },
  {
   "cell_type": "code",
   "execution_count": null,
   "id": "74dda0e3",
   "metadata": {
    "tags": []
   },
   "outputs": [],
   "source": [
    "# get data\n",
    "lon, lat, temp = ds_rmp.lon, ds_rmp.lat, ds_rmp.t_2m[0, 0, :, :]\n",
    "\n",
    "# Code for plotting here"
   ]
  },
  {
   "cell_type": "markdown",
   "id": "15b6afe1",
   "metadata": {},
   "source": [
    "### Solution"
   ]
  },
  {
   "cell_type": "code",
   "execution_count": null,
   "id": "2c903767",
   "metadata": {
    "tags": [
     "solution"
    ]
   },
   "outputs": [],
   "source": [
    "# get data\n",
    "lon, lat, temp = ds_rmp.lon, ds_rmp.lat, ds_rmp.t_2m[0, 0, :, :]\n",
    "\n",
    "f, ax = plt.subplots(subplot_kw=dict(projection=ccrs.Robinson()))\n",
    "\n",
    "h = ax.pcolormesh(lon, lat, temp, transform=ccrs.PlateCarree(), vmin=275, vmax=295)\n",
    "\n",
    "ax.set_title(\"2m temperature in Switzerland\")\n",
    "ax.add_feature(cartopy.feature.BORDERS)\n",
    "\n",
    "ax.set_extent([5.8, 10.7, 45.5, 48])\n",
    "plt.colorbar(h, ax=ax, extend='both')"
   ]
  },
  {
   "cell_type": "markdown",
   "id": "d83065af",
   "metadata": {},
   "source": [
    "### Exercise\n",
    "Let's use a nicer colormap. The Python wrapper [cmcrameri](https://github.com/callumrollo/cmcrameri) was developed to use [scientific colour maps](https://www.fabiocrameri.ch/colourmaps/) in Python. Have a look at the available colour maps and choose one you like."
   ]
  },
  {
   "cell_type": "code",
   "execution_count": null,
   "id": "4eaedbe0",
   "metadata": {
    "tags": []
   },
   "outputs": [],
   "source": [
    "# get data\n",
    "lon, lat, temp = ds_rmp.lon, ds_rmp.lat, ds_rmp.t_2m[0, 0, :, :]\n",
    "\n",
    "f, ax = plt.subplots(subplot_kw=dict(projection=ccrs.Robinson()))\n",
    "\n",
    "h = ax.pcolormesh(lon, lat, temp, transform=ccrs.PlateCarree(), vmin=275, vmax=295)\n",
    "\n",
    "ax.set_title(\"2m temperature in Switzerland\")\n",
    "ax.add_feature(cartopy.feature.BORDERS)\n",
    "\n",
    "ax.set_extent([5.8, 10.7, 45.5, 48])\n",
    "plt.colorbar(h, ax=ax, extend='both')"
   ]
  },
  {
   "cell_type": "markdown",
   "id": "a542ccd5",
   "metadata": {},
   "source": [
    "### Solution"
   ]
  },
  {
   "cell_type": "code",
   "execution_count": null,
   "id": "690995fb",
   "metadata": {
    "tags": [
     "solution"
    ]
   },
   "outputs": [],
   "source": [
    "# get data\n",
    "lon, lat, temp = ds_rmp.lon, ds_rmp.lat, ds_rmp.t_2m[0, 0, :, :]\n",
    "\n",
    "f, ax = plt.subplots(subplot_kw=dict(projection=ccrs.Robinson()))\n",
    "\n",
    "h = ax.pcolormesh(lon, lat, temp, transform=ccrs.PlateCarree(), vmin=275, vmax=295, cmap=cmc.nuuk)\n",
    "\n",
    "ax.set_title(\"2m temperature in Switzerland\")\n",
    "ax.add_feature(cartopy.feature.BORDERS)\n",
    "\n",
    "ax.set_extent([5.8, 10.7, 45.5, 48])\n",
    "plt.colorbar(h, ax=ax, extend='both')"
   ]
  },
  {
   "cell_type": "markdown",
   "id": "25a752bc",
   "metadata": {},
   "source": [
    "## Let's do the same on the original grid\n",
    "We will now get started with [psyplot](https://psyplot.github.io). It has a similar syntax as other Python packages, e.g. `xr.open_dataset` --> `psy.open_dataset`. For doing map plots, we can use [psyplot.project.plot.mapplot](https://psyplot.github.io/psy-maps/generated/psyplot.project.plot.mapplot.html).\n",
    "\n",
    "First we need to import the psyplot library:"
   ]
  },
  {
   "cell_type": "code",
   "execution_count": null,
   "id": "b1af2891",
   "metadata": {
    "tags": []
   },
   "outputs": [],
   "source": [
    "import psyplot.project as psy"
   ]
  },
  {
   "cell_type": "markdown",
   "id": "d4462c46-8712-448e-80b2-46e247e017ca",
   "metadata": {},
   "source": [
    "We can change figures that have already been created. This is possible with the psyplot [update()](https://psyplot.github.io/psyplot/getting_started.html#controlling-the-update) option, but it requires changing the default settings in jupyter so that figures are not automatically closed. With this setting, we will need to manually close figures once we are done to avoid a mess.\n",
    "To close the figure \"ds\", run `ds.close()`. To close all active figures, run `plt.close('all')`"
   ]
  },
  {
   "cell_type": "code",
   "execution_count": null,
   "id": "657f25bb-bf8e-40fe-92ea-30b0fd1d19c2",
   "metadata": {
    "tags": []
   },
   "outputs": [],
   "source": [
    "# The following is needed to show plots after they are being updated\n",
    "%config InlineBackend.close_figures = False\n",
    "psy.rcParams[\"auto_show\"] = True"
   ]
  },
  {
   "cell_type": "markdown",
   "id": "b84a532c",
   "metadata": {},
   "source": [
    "Let's now take the file with the original ICON grid and plot it.\n",
    "\n",
    "## Load data with psyplot"
   ]
  },
  {
   "cell_type": "code",
   "execution_count": null,
   "id": "e62355b5",
   "metadata": {
    "tags": []
   },
   "outputs": [],
   "source": [
    "# Load dataset with psyplot\n",
    "ds_icon = psy.open_dataset(\"../data/my_exp1_atm_3d_ml_20180921T000000Z_t2m.nc\")\n",
    "ds_icon"
   ]
  },
  {
   "cell_type": "markdown",
   "id": "6dce1b53",
   "metadata": {},
   "source": [
    "## Plot data with psyplot"
   ]
  },
  {
   "cell_type": "code",
   "execution_count": null,
   "id": "0b96807f",
   "metadata": {
    "tags": []
   },
   "outputs": [],
   "source": [
    "plot_icon = ds_icon.psy.plot.mapplot(name=\"t_2m\")"
   ]
  },
  {
   "cell_type": "markdown",
   "id": "dac55aeb",
   "metadata": {},
   "source": [
    "I guess we could do that nicer....\n",
    "\n",
    "\n",
    "### Exercise\n",
    "In this exercise, you will create the same plot as before but on the unstructured ICON grid. You don't need to do the plot from scratch but you can use the update function `plot_icon.update(...)`, which works exactly like the `psy.plot.mapplot(...)` function, only that it is for updating the original plot and doesn't need all the input again. To check the available formatoptions, run `psy.plot.mapplot.keys()`. To get more information about a specific formatoption run `psy.plot.mapplot.docs('formatoption')` (check [psyplot.project.plot.mapplot](https://psyplot.github.io/psy-maps/generated/psyplot.project.plot.mapplot.html)).\n",
    "\n",
    " Use `plot_icon.update(...)` to adapt the plot in the following way: \n",
    " * Use `projection=ccrs.Robinson()` (don't forget to transform the data)\n",
    " * Cut off data outside of Switzerland (5.8<lon<10.7, 45.5<lat<48)\n",
    " * Set limits to the colorbar\n",
    " * Use the colormap `cmc.nuuk`\n",
    " * Add a title\n",
    " \n",
    " (Hints: use `bounds={'method':'minmax','vmin':275,...}`)"
   ]
  },
  {
   "cell_type": "code",
   "execution_count": null,
   "id": "b68c9733-7a76-40a2-9622-d5228cd76f79",
   "metadata": {
    "tags": []
   },
   "outputs": [],
   "source": [
    "# Check available formatoptions\n",
    "psy.plot.mapplot.keys()"
   ]
  },
  {
   "cell_type": "code",
   "execution_count": null,
   "id": "b2bc3c6a",
   "metadata": {
    "tags": []
   },
   "outputs": [],
   "source": [
    "# Code here"
   ]
  },
  {
   "cell_type": "markdown",
   "id": "899b91e2",
   "metadata": {},
   "source": [
    "### Solution"
   ]
  },
  {
   "cell_type": "code",
   "execution_count": null,
   "id": "9a4160a1",
   "metadata": {
    "tags": [
     "solution"
    ]
   },
   "outputs": [],
   "source": [
    "plot_icon.update(\n",
    "    projection=ccrs.Robinson(),\n",
    "    transform=ccrs.PlateCarree(),\n",
    "    map_extent=[5.8,10.7,45.5,48],\n",
    "    bounds={'method':'minmax','vmin':275,'vmax':295},\n",
    "    cmap=cmc.nuuk,\n",
    "    title='2m temperature in Switzerland'\n",
    ")"
   ]
  },
  {
   "cell_type": "markdown",
   "id": "9ad45986",
   "metadata": {},
   "source": [
    "### Exercise\n",
    " * Add borders to the plot\n",
    " \n",
    "Hint: the matplotlib axes can be accessed with `ax = plot_icon.plotters[0].ax`. Borders can then be added the same way as we added the lakes in exercise [ex2_0_intro_scatter.ipynb](ex2_0_intro_scatter.ipynb)."
   ]
  },
  {
   "cell_type": "code",
   "execution_count": null,
   "id": "01a33d2d",
   "metadata": {},
   "outputs": [],
   "source": [
    "# Add borders (don't forget to update the plot to see the plot)\n",
    "# Code here"
   ]
  },
  {
   "cell_type": "markdown",
   "id": "ed6deb30",
   "metadata": {},
   "source": [
    "### Solution"
   ]
  },
  {
   "cell_type": "code",
   "execution_count": null,
   "id": "ac4b7ec0",
   "metadata": {
    "tags": [
     "solution"
    ]
   },
   "outputs": [],
   "source": [
    "# Add borders (don't forget to update the plot to see the plot)\n",
    "ax = plot_icon.plotters[0].ax\n",
    "ax.add_feature(cf.BORDERS, edgecolor=\"0.1\", zorder=100)\n",
    "plot_icon.update()"
   ]
  },
  {
   "cell_type": "markdown",
   "id": "88e13785",
   "metadata": {},
   "source": [
    "Close the figure before creating a new one:"
   ]
  },
  {
   "cell_type": "code",
   "execution_count": null,
   "id": "627892d9",
   "metadata": {},
   "outputs": [],
   "source": [
    "plot_icon.close()"
   ]
  },
  {
   "cell_type": "markdown",
   "id": "b27b6191",
   "metadata": {},
   "source": [
    "### Exercise formatoptions\n",
    "\n",
    "Adding borders is still a bit complicated. A nicer way to add them is to use formatoptions, which you can generate yourself. The advantage is that they can be reused across different scripts. Psyplot is designed in a way that it allows users to easily create custom formatoptions. Check [the formatoption approach](https://psyplot.github.io/examples/general/example_extending_psyplot.html#3.-The-formatoption-approach) if you are interested.\n",
    "\n",
    "MeteoSwiss and C2SM developed [iconarray](https://github.com/C2SM/iconarray), which contains various modules to facilitate working with ICON data. The package also includes some formatoptions like adding borders. Check out their [formatoptions](https://github.com/C2SM/iconarray#formatoptions) and repeat the exercise by using them. The package was developed together with [icon-vis](https://github.com/C2SM/icon-vis), which will be introduced in [Part3_icon-vis](../Part3_icon-vis)."
   ]
  },
  {
   "cell_type": "code",
   "execution_count": null,
   "id": "77f3ab28",
   "metadata": {},
   "outputs": [],
   "source": [
    "import iconarray"
   ]
  },
  {
   "cell_type": "code",
   "execution_count": null,
   "id": "b057dc82",
   "metadata": {},
   "outputs": [],
   "source": [
    "# update code\n",
    "# plot_icon = ds_icon.psy.plot.mapplot(...)"
   ]
  },
  {
   "cell_type": "markdown",
   "id": "107545b8",
   "metadata": {},
   "source": [
    "### Solution"
   ]
  },
  {
   "cell_type": "code",
   "execution_count": null,
   "id": "67a2e2e8",
   "metadata": {
    "tags": [
     "solution"
    ]
   },
   "outputs": [],
   "source": [
    "plot_icon = ds_icon.psy.plot.mapplot(\n",
    "    name=\"t_2m\",\n",
    "    projection=ccrs.Robinson(),\n",
    "    map_extent=[5.8, 10.7, 45.5, 48],\n",
    "    cmap=cmc.nuuk,\n",
    "    bounds={\"method\": \"minmax\", \"vmin\": 260, \"vmax\": 300},\n",
    "    title=\"2m temperature Switzerland\",\n",
    ")"
   ]
  },
  {
   "cell_type": "markdown",
   "id": "1316f210",
   "metadata": {},
   "source": [
    "Note that [iconarray](https://github.com/C2SM/iconarray) shows borders and lakes by default when being imported. If you don't want that, you need to actively turn them off:"
   ]
  },
  {
   "cell_type": "code",
   "execution_count": null,
   "id": "81902d62",
   "metadata": {},
   "outputs": [],
   "source": [
    "plot_icon.update(lakes=False)"
   ]
  }
 ],
 "metadata": {
  "celltoolbar": "Tags",
  "kernelspec": {
   "display_name": "Python 3 (ipykernel)",
   "language": "python",
   "name": "python3"
  },
  "language_info": {
   "codemirror_mode": {
    "name": "ipython",
    "version": 3
   },
   "file_extension": ".py",
   "mimetype": "text/x-python",
   "name": "python",
   "nbconvert_exporter": "python",
   "pygments_lexer": "ipython3",
   "version": "3.11.8"
  }
 },
 "nbformat": 4,
 "nbformat_minor": 5
}
